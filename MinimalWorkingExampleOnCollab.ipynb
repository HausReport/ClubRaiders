{
  "nbformat": 4,
  "nbformat_minor": 0,
  "metadata": {
    "colab": {
      "name": "Untitled6.ipynb",
      "provenance": [],
      "authorship_tag": "ABX9TyPwjOuHBcZpZ2+pdN8lojkY",
      "include_colab_link": true
    },
    "kernelspec": {
      "name": "python3",
      "display_name": "Python 3"
    }
  },
  "cells": [
    {
      "cell_type": "markdown",
      "metadata": {
        "id": "view-in-github",
        "colab_type": "text"
      },
      "source": [
        "<a href=\"https://colab.research.google.com/github/HausReport/ClubRaiders/blob/master/MinimalWorkingExampleOnCollab.ipynb\" target=\"_parent\"><img src=\"https://colab.research.google.com/assets/colab-badge.svg\" alt=\"Open In Colab\"/></a>"
      ]
    },
    {
      "cell_type": "code",
      "metadata": {
        "id": "jdHV2ZR4LvXV",
        "colab_type": "code",
        "outputId": "67044d28-fb2a-4306-fc43-47030c871005",
        "colab": {
          "base_uri": "https://localhost:8080/",
          "height": 1000
        }
      },
      "source": [
        "import sys\n",
        "\n",
        "!{sys.executable} -m pip install --upgrade \"git+https://github.com/HausReport/ClubRaiders.git#egg=craid\""
      ],
      "execution_count": 1,
      "outputs": [
        {
          "output_type": "stream",
          "text": [
            "Collecting craid\n",
            "  Cloning https://github.com/HausReport/ClubRaiders.git to /tmp/pip-install-fnb1w846/craid\n",
            "  Running command git clone -q https://github.com/HausReport/ClubRaiders.git /tmp/pip-install-fnb1w846/craid\n",
            "Requirement already satisfied, skipping upgrade: numpy in /usr/local/lib/python3.6/dist-packages (from craid) (1.18.4)\n",
            "Collecting dash\n",
            "\u001b[?25l  Downloading https://files.pythonhosted.org/packages/d0/48/7a564cdbecdca653c9cb135c5be52c98d855ac13e305094450d7ecac5d89/dash-1.12.0.tar.gz (66kB)\n",
            "\u001b[K     |████████████████████████████████| 71kB 2.1MB/s \n",
            "\u001b[?25hRequirement already satisfied, skipping upgrade: pandas in /usr/local/lib/python3.6/dist-packages (from craid) (1.0.3)\n",
            "Requirement already satisfied, skipping upgrade: requests in /usr/local/lib/python3.6/dist-packages (from craid) (2.23.0)\n",
            "Requirement already satisfied, skipping upgrade: setuptools in /usr/local/lib/python3.6/dist-packages (from craid) (46.3.0)\n",
            "Requirement already satisfied, skipping upgrade: Flask>=1.0.2 in /usr/local/lib/python3.6/dist-packages (from dash->craid) (1.1.2)\n",
            "Collecting flask-compress\n",
            "  Downloading https://files.pythonhosted.org/packages/a0/96/cd684c1ffe97b513303b5bfd4bbfb4114c5f4a5ea8a737af6fd813273df8/Flask-Compress-1.5.0.tar.gz\n",
            "Requirement already satisfied, skipping upgrade: plotly in /usr/local/lib/python3.6/dist-packages (from dash->craid) (4.4.1)\n",
            "Collecting dash_renderer==1.4.1\n",
            "\u001b[?25l  Downloading https://files.pythonhosted.org/packages/8e/51/45aa6e4caa3f426ac48b153ecf0fe371368aae46e3ea902c8317f630489a/dash_renderer-1.4.1.tar.gz (1.2MB)\n",
            "\u001b[K     |████████████████████████████████| 1.2MB 9.0MB/s \n",
            "\u001b[?25hCollecting dash-core-components==1.10.0\n",
            "\u001b[?25l  Downloading https://files.pythonhosted.org/packages/4e/94/a170d86934cd845c4cb881e8156c79459702783716ea6d92849805127204/dash_core_components-1.10.0.tar.gz (3.4MB)\n",
            "\u001b[K     |████████████████████████████████| 3.4MB 30.7MB/s \n",
            "\u001b[?25hCollecting dash-html-components==1.0.3\n",
            "\u001b[?25l  Downloading https://files.pythonhosted.org/packages/da/20/46714ae501ccf16e5e37ca160c06e27347d19889687454168730e6744cdc/dash_html_components-1.0.3.tar.gz (187kB)\n",
            "\u001b[K     |████████████████████████████████| 194kB 36.3MB/s \n",
            "\u001b[?25hCollecting dash-table==4.7.0\n",
            "\u001b[?25l  Downloading https://files.pythonhosted.org/packages/96/aa/e508295638f3d4342b8798d16931a8b353ff48e03d9d99c788f34ddac110/dash_table-4.7.0.tar.gz (1.8MB)\n",
            "\u001b[K     |████████████████████████████████| 1.8MB 46.1MB/s \n",
            "\u001b[?25hRequirement already satisfied, skipping upgrade: future in /usr/local/lib/python3.6/dist-packages (from dash->craid) (0.16.0)\n",
            "Requirement already satisfied, skipping upgrade: python-dateutil>=2.6.1 in /usr/local/lib/python3.6/dist-packages (from pandas->craid) (2.8.1)\n",
            "Requirement already satisfied, skipping upgrade: pytz>=2017.2 in /usr/local/lib/python3.6/dist-packages (from pandas->craid) (2018.9)\n",
            "Requirement already satisfied, skipping upgrade: certifi>=2017.4.17 in /usr/local/lib/python3.6/dist-packages (from requests->craid) (2020.4.5.1)\n",
            "Requirement already satisfied, skipping upgrade: idna<3,>=2.5 in /usr/local/lib/python3.6/dist-packages (from requests->craid) (2.9)\n",
            "Requirement already satisfied, skipping upgrade: urllib3!=1.25.0,!=1.25.1,<1.26,>=1.21.1 in /usr/local/lib/python3.6/dist-packages (from requests->craid) (1.24.3)\n",
            "Requirement already satisfied, skipping upgrade: chardet<4,>=3.0.2 in /usr/local/lib/python3.6/dist-packages (from requests->craid) (3.0.4)\n",
            "Requirement already satisfied, skipping upgrade: itsdangerous>=0.24 in /usr/local/lib/python3.6/dist-packages (from Flask>=1.0.2->dash->craid) (1.1.0)\n",
            "Requirement already satisfied, skipping upgrade: Werkzeug>=0.15 in /usr/local/lib/python3.6/dist-packages (from Flask>=1.0.2->dash->craid) (1.0.1)\n",
            "Requirement already satisfied, skipping upgrade: click>=5.1 in /usr/local/lib/python3.6/dist-packages (from Flask>=1.0.2->dash->craid) (7.1.2)\n",
            "Requirement already satisfied, skipping upgrade: Jinja2>=2.10.1 in /usr/local/lib/python3.6/dist-packages (from Flask>=1.0.2->dash->craid) (2.11.2)\n",
            "Collecting brotli\n",
            "\u001b[?25l  Downloading https://files.pythonhosted.org/packages/f4/68/60a220454dc5083c6d59b41aa90bb1c96fad62a0abf3a33e0ef64b38638a/Brotli-1.0.7-cp36-cp36m-manylinux1_x86_64.whl (352kB)\n",
            "\u001b[K     |████████████████████████████████| 358kB 29.9MB/s \n",
            "\u001b[?25hRequirement already satisfied, skipping upgrade: retrying>=1.3.3 in /usr/local/lib/python3.6/dist-packages (from plotly->dash->craid) (1.3.3)\n",
            "Requirement already satisfied, skipping upgrade: six in /usr/local/lib/python3.6/dist-packages (from plotly->dash->craid) (1.12.0)\n",
            "Requirement already satisfied, skipping upgrade: MarkupSafe>=0.23 in /usr/local/lib/python3.6/dist-packages (from Jinja2>=2.10.1->Flask>=1.0.2->dash->craid) (1.1.1)\n",
            "Building wheels for collected packages: craid, dash, flask-compress, dash-renderer, dash-core-components, dash-html-components, dash-table\n",
            "  Building wheel for craid (setup.py) ... \u001b[?25l\u001b[?25hdone\n",
            "  Created wheel for craid: filename=craid-0.56-cp36-none-any.whl size=18603 sha256=b56ff4249a3a92a4e46bd28f10146d0db5d97b8b10e44030e40a0656fd6c4efa\n",
            "  Stored in directory: /tmp/pip-ephem-wheel-cache-knrm_9uh/wheels/59/74/32/b75ca6dbfddc83071fd4a4a492a26c1066d06840be16c7d535\n",
            "  Building wheel for dash (setup.py) ... \u001b[?25l\u001b[?25hdone\n",
            "  Created wheel for dash: filename=dash-1.12.0-cp36-none-any.whl size=73892 sha256=3cdf6fb74e85a3ea71df90f269128953453eea4a4390f5450f0f6a47f6b3a9d4\n",
            "  Stored in directory: /root/.cache/pip/wheels/2e/bc/dd/b4ebecb434c90eff7c5475efc10b72aad5a899c01fa87e2647\n",
            "  Building wheel for flask-compress (setup.py) ... \u001b[?25l\u001b[?25hdone\n",
            "  Created wheel for flask-compress: filename=Flask_Compress-1.5.0-cp36-none-any.whl size=5273 sha256=c14d602341da4fc8f2b9559cc69eed319bf50f0b84007b8ba85fd5435d82b7af\n",
            "  Stored in directory: /root/.cache/pip/wheels/f7/e9/e4/5afc286be7c87461375e33152558415dfeb0c8f5af3b50e742\n",
            "  Building wheel for dash-renderer (setup.py) ... \u001b[?25l\u001b[?25hdone\n",
            "  Created wheel for dash-renderer: filename=dash_renderer-1.4.1-cp36-none-any.whl size=1165597 sha256=a9e6c7d310f91751dea083eb92eb4e4f6be506ca6419fa5fcba1d8b524ee1a0f\n",
            "  Stored in directory: /root/.cache/pip/wheels/be/9e/83/c6531c3fdd6dba27156e7196c273148d850c97bda396fec7d0\n",
            "  Building wheel for dash-core-components (setup.py) ... \u001b[?25l\u001b[?25hdone\n",
            "  Created wheel for dash-core-components: filename=dash_core_components-1.10.0-cp36-none-any.whl size=3454754 sha256=2502938119182a0727636e8ac972377d475ac5833dd0e4f0729207f33ce4f011\n",
            "  Stored in directory: /root/.cache/pip/wheels/61/5c/e3/0958785022517a2e5934e7b5167a8f824f79c96a5e440bd622\n",
            "  Building wheel for dash-html-components (setup.py) ... \u001b[?25l\u001b[?25hdone\n",
            "  Created wheel for dash-html-components: filename=dash_html_components-1.0.3-cp36-none-any.whl size=427303 sha256=1e1d5ece135ce22054e4173f7ba16f2c46e74d41115e85dfb4241ec0e7b408f1\n",
            "  Stored in directory: /root/.cache/pip/wheels/22/c0/79/ef4c2b20a23dc8457ae75c3da5f63163db213d86e13e00fe26\n",
            "  Building wheel for dash-table (setup.py) ... \u001b[?25l\u001b[?25hdone\n",
            "  Created wheel for dash-table: filename=dash_table-4.7.0-cp36-none-any.whl size=1777561 sha256=83a3cea0e40f2633a87706984b98b907b906a0185f883198f0d5c3f4fb1d99aa\n",
            "  Stored in directory: /root/.cache/pip/wheels/de/59/d5/9da253860a20edebff16497d01b703d2a8db97130c5bd86fbf\n",
            "Successfully built craid dash flask-compress dash-renderer dash-core-components dash-html-components dash-table\n",
            "Installing collected packages: brotli, flask-compress, dash-renderer, dash-core-components, dash-html-components, dash-table, dash, craid\n",
            "Successfully installed brotli-1.0.7 craid-0.56 dash-1.12.0 dash-core-components-1.10.0 dash-html-components-1.0.3 dash-renderer-1.4.1 dash-table-4.7.0 flask-compress-1.5.0\n"
          ],
          "name": "stdout"
        }
      ]
    },
    {
      "cell_type": "code",
      "metadata": {
        "id": "-hEAlTvDQzrk",
        "colab_type": "code",
        "outputId": "2542128e-bbad-4f2e-e2e2-752d1c57e9d2",
        "colab": {
          "base_uri": "https://localhost:8080/",
          "height": 323
        }
      },
      "source": [
        "import craid.eddb.DataProducer as dp\n",
        "import pandas as pd\n",
        "import logging\n",
        "\n",
        "logging.getLogger().addHandler(logging.StreamHandler())\n",
        "logging.getLogger().level = logging.DEBUG\n",
        "\n",
        "arrays = dp.getDataArrays()\n",
        "clubSystemInstances = arrays['allClubSystemInstances']\n",
        "df: pd.DataFrame = dp.getDataFrame(clubSystemInstances)\n"
      ],
      "execution_count": 2,
      "outputs": [
        {
          "output_type": "stream",
          "text": [
            "1- Checking for: ../data/factions.jsonl\n",
            "2- Checking for: /tmp/factions.jsonl\n",
            "downloading data file: https://eddb.io/archive/v6/factions.jsonl\n",
            "Starting new HTTPS connection (1): eddb.io:443\n",
            "https://eddb.io:443 \"GET /archive/v6/factions.jsonl HTTP/1.1\" 200 None\n",
            "3- Checking for: /tmp/factions.jsonl\n",
            "found data file: /tmp/factions.jsonl\n",
            "Back in dp\n",
            "Read 77115 lines of faction data\n",
            "1- Checking for: ../data/systems_populated.jsonl\n",
            "2- Checking for: /tmp/systems_populated.jsonl\n",
            "downloading data file: https://eddb.io/archive/v6/systems_populated.jsonl\n",
            "Starting new HTTPS connection (1): eddb.io:443\n",
            "https://eddb.io:443 \"GET /archive/v6/systems_populated.jsonl HTTP/1.1\" 200 None\n",
            "3- Checking for: /tmp/systems_populated.jsonl\n",
            "found data file: /tmp/systems_populated.jsonl\n",
            "Back in dp\n",
            "Read 20632 lines of systems data\n"
          ],
          "name": "stderr"
        }
      ]
    },
    {
      "cell_type": "code",
      "metadata": {
        "id": "aW4YSvPFS0w2",
        "colab_type": "code",
        "colab": {
          "base_uri": "https://localhost:8080/",
          "height": 759
        },
        "outputId": "ccbf4994-c300-40ca-d473-78bad90822e2"
      },
      "source": [
        "df"
      ],
      "execution_count": 3,
      "outputs": [
        {
          "output_type": "execute_result",
          "data": {
            "text/html": [
              "<div>\n",
              "<style scoped>\n",
              "    .dataframe tbody tr th:only-of-type {\n",
              "        vertical-align: middle;\n",
              "    }\n",
              "\n",
              "    .dataframe tbody tr th {\n",
              "        vertical-align: top;\n",
              "    }\n",
              "\n",
              "    .dataframe thead th {\n",
              "        text-align: right;\n",
              "    }\n",
              "</style>\n",
              "<table border=\"1\" class=\"dataframe\">\n",
              "  <thead>\n",
              "    <tr style=\"text-align: right;\">\n",
              "      <th></th>\n",
              "      <th>systemName</th>\n",
              "      <th>factionName</th>\n",
              "      <th>x</th>\n",
              "      <th>y</th>\n",
              "      <th>z</th>\n",
              "      <th>allegiance</th>\n",
              "      <th>isHomeSystem</th>\n",
              "      <th>population</th>\n",
              "      <th>influence</th>\n",
              "      <th>updated</th>\n",
              "      <th>control</th>\n",
              "      <th>vulnerable</th>\n",
              "    </tr>\n",
              "  </thead>\n",
              "  <tbody>\n",
              "    <tr>\n",
              "      <th>0</th>\n",
              "      <td>64 Ceti</td>\n",
              "      <td>Worster Insurance</td>\n",
              "      <td>-37.06250</td>\n",
              "      <td>-100.06250</td>\n",
              "      <td>-79.12500</td>\n",
              "      <td>Independent</td>\n",
              "      <td>True</td>\n",
              "      <td>5096451</td>\n",
              "      <td>3.1</td>\n",
              "      <td>2020-05-25 20:21:06</td>\n",
              "      <td>False</td>\n",
              "      <td>LowInf</td>\n",
              "    </tr>\n",
              "    <tr>\n",
              "      <th>1</th>\n",
              "      <td>Abroin</td>\n",
              "      <td>Abroin Universal PLC</td>\n",
              "      <td>-94.53125</td>\n",
              "      <td>110.09375</td>\n",
              "      <td>-40.50000</td>\n",
              "      <td>Independent</td>\n",
              "      <td>False</td>\n",
              "      <td>2813462</td>\n",
              "      <td>42.0</td>\n",
              "      <td>2020-05-20 02:22:14</td>\n",
              "      <td>True</td>\n",
              "      <td></td>\n",
              "    </tr>\n",
              "    <tr>\n",
              "      <th>2</th>\n",
              "      <td>Akandi</td>\n",
              "      <td>Hodack Prison Colony</td>\n",
              "      <td>62.03125</td>\n",
              "      <td>10.75000</td>\n",
              "      <td>38.87500</td>\n",
              "      <td>Independent</td>\n",
              "      <td>False</td>\n",
              "      <td>2280</td>\n",
              "      <td>5.8</td>\n",
              "      <td>2020-05-26 02:20:53</td>\n",
              "      <td>False</td>\n",
              "      <td></td>\n",
              "    </tr>\n",
              "    <tr>\n",
              "      <th>3</th>\n",
              "      <td>Alioth</td>\n",
              "      <td>Bill Turner</td>\n",
              "      <td>-33.65625</td>\n",
              "      <td>72.46875</td>\n",
              "      <td>-20.65625</td>\n",
              "      <td>Alliance</td>\n",
              "      <td>True</td>\n",
              "      <td>14900071500</td>\n",
              "      <td>0.0</td>\n",
              "      <td>2020-05-26 02:09:49</td>\n",
              "      <td>False</td>\n",
              "      <td></td>\n",
              "    </tr>\n",
              "    <tr>\n",
              "      <th>4</th>\n",
              "      <td>Alioth</td>\n",
              "      <td>Turner Research Group</td>\n",
              "      <td>-33.65625</td>\n",
              "      <td>72.46875</td>\n",
              "      <td>-20.65625</td>\n",
              "      <td>Alliance</td>\n",
              "      <td>False</td>\n",
              "      <td>14900071500</td>\n",
              "      <td>6.1</td>\n",
              "      <td>2020-05-26 02:09:49</td>\n",
              "      <td>False</td>\n",
              "      <td></td>\n",
              "    </tr>\n",
              "    <tr>\n",
              "      <th>...</th>\n",
              "      <td>...</td>\n",
              "      <td>...</td>\n",
              "      <td>...</td>\n",
              "      <td>...</td>\n",
              "      <td>...</td>\n",
              "      <td>...</td>\n",
              "      <td>...</td>\n",
              "      <td>...</td>\n",
              "      <td>...</td>\n",
              "      <td>...</td>\n",
              "      <td>...</td>\n",
              "      <td>...</td>\n",
              "    </tr>\n",
              "    <tr>\n",
              "      <th>181</th>\n",
              "      <td>33 Cygni</td>\n",
              "      <td>Sirius Drives</td>\n",
              "      <td>-155.75000</td>\n",
              "      <td>33.09375</td>\n",
              "      <td>-3.53125</td>\n",
              "      <td>Independent</td>\n",
              "      <td>False</td>\n",
              "      <td>235575</td>\n",
              "      <td>20.0</td>\n",
              "      <td>2020-05-25 17:13:05</td>\n",
              "      <td>False</td>\n",
              "      <td></td>\n",
              "    </tr>\n",
              "    <tr>\n",
              "      <th>182</th>\n",
              "      <td>Col 285 Sector BQ-N c7-13</td>\n",
              "      <td>Sirius Luxury Transports</td>\n",
              "      <td>158.31250</td>\n",
              "      <td>69.50000</td>\n",
              "      <td>-42.03125</td>\n",
              "      <td>Independent</td>\n",
              "      <td>False</td>\n",
              "      <td>24119</td>\n",
              "      <td>13.9</td>\n",
              "      <td>2020-05-15 14:47:47</td>\n",
              "      <td>False</td>\n",
              "      <td>Anarchy</td>\n",
              "    </tr>\n",
              "    <tr>\n",
              "      <th>183</th>\n",
              "      <td>Mel 22 Sector GM-V c2-8</td>\n",
              "      <td>Turner Research Group</td>\n",
              "      <td>-192.12500</td>\n",
              "      <td>-194.96875</td>\n",
              "      <td>-471.65625</td>\n",
              "      <td>Alliance</td>\n",
              "      <td>False</td>\n",
              "      <td>18550</td>\n",
              "      <td>100.0</td>\n",
              "      <td>2020-05-24 02:20:11</td>\n",
              "      <td>True</td>\n",
              "      <td></td>\n",
              "    </tr>\n",
              "    <tr>\n",
              "      <th>184</th>\n",
              "      <td>Delphi</td>\n",
              "      <td>Janus Incorporated</td>\n",
              "      <td>-63.59375</td>\n",
              "      <td>-147.40625</td>\n",
              "      <td>-319.09375</td>\n",
              "      <td>Independent</td>\n",
              "      <td>False</td>\n",
              "      <td>300000</td>\n",
              "      <td>9.8</td>\n",
              "      <td>2020-05-26 01:55:04</td>\n",
              "      <td>False</td>\n",
              "      <td></td>\n",
              "    </tr>\n",
              "    <tr>\n",
              "      <th>185</th>\n",
              "      <td>Delphi</td>\n",
              "      <td>Aegis Research</td>\n",
              "      <td>-63.59375</td>\n",
              "      <td>-147.40625</td>\n",
              "      <td>-319.09375</td>\n",
              "      <td>Independent</td>\n",
              "      <td>False</td>\n",
              "      <td>300000</td>\n",
              "      <td>11.4</td>\n",
              "      <td>2020-05-26 01:55:04</td>\n",
              "      <td>False</td>\n",
              "      <td></td>\n",
              "    </tr>\n",
              "  </tbody>\n",
              "</table>\n",
              "<p>186 rows × 12 columns</p>\n",
              "</div>"
            ],
            "text/plain": [
              "                    systemName               factionName  ...  control  vulnerable\n",
              "0                      64 Ceti         Worster Insurance  ...    False      LowInf\n",
              "1                       Abroin      Abroin Universal PLC  ...     True            \n",
              "2                       Akandi      Hodack Prison Colony  ...    False            \n",
              "3                       Alioth               Bill Turner  ...    False            \n",
              "4                       Alioth     Turner Research Group  ...    False            \n",
              "..                         ...                       ...  ...      ...         ...\n",
              "181                   33 Cygni             Sirius Drives  ...    False            \n",
              "182  Col 285 Sector BQ-N c7-13  Sirius Luxury Transports  ...    False     Anarchy\n",
              "183    Mel 22 Sector GM-V c2-8     Turner Research Group  ...     True            \n",
              "184                     Delphi        Janus Incorporated  ...    False            \n",
              "185                     Delphi            Aegis Research  ...    False            \n",
              "\n",
              "[186 rows x 12 columns]"
            ]
          },
          "metadata": {
            "tags": []
          },
          "execution_count": 3
        }
      ]
    },
    {
      "cell_type": "code",
      "metadata": {
        "id": "mtcno2FHTpLD",
        "colab_type": "code",
        "colab": {
          "base_uri": "https://localhost:8080/",
          "height": 34
        },
        "outputId": "97f135b0-ac0b-427a-818f-0d37c60b900a"
      },
      "source": [
        "df.shape[0]"
      ],
      "execution_count": 4,
      "outputs": [
        {
          "output_type": "execute_result",
          "data": {
            "text/plain": [
              "186"
            ]
          },
          "metadata": {
            "tags": []
          },
          "execution_count": 4
        }
      ]
    },
    {
      "cell_type": "code",
      "metadata": {
        "id": "lKBh2irETzvh",
        "colab_type": "code",
        "colab": {
          "base_uri": "https://localhost:8080/",
          "height": 34
        },
        "outputId": "18aa52dc-cb5e-4cf7-b0a5-2e911aa8a2a2"
      },
      "source": [
        "len(clubSystemInstances)"
      ],
      "execution_count": 5,
      "outputs": [
        {
          "output_type": "execute_result",
          "data": {
            "text/plain": [
              "186"
            ]
          },
          "metadata": {
            "tags": []
          },
          "execution_count": 5
        }
      ]
    }
  ]
}