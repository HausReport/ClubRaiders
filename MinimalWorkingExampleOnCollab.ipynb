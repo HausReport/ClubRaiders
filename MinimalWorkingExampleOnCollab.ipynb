{
  "nbformat": 4,
  "nbformat_minor": 0,
  "metadata": {
    "colab": {
      "name": "Untitled6.ipynb",
      "provenance": [],
      "authorship_tag": "ABX9TyMykeg2xi48DvvPIqQeDfgn",
      "include_colab_link": true
    },
    "kernelspec": {
      "name": "python3",
      "display_name": "Python 3"
    }
  },
  "cells": [
    {
      "cell_type": "markdown",
      "metadata": {
        "id": "view-in-github",
        "colab_type": "text"
      },
      "source": [
        "<a href=\"https://colab.research.google.com/github/HausReport/ClubRaiders/blob/master/MinimalWorkingExampleOnCollab.ipynb\" target=\"_parent\"><img src=\"https://colab.research.google.com/assets/colab-badge.svg\" alt=\"Open In Colab\"/></a>"
      ]
    },
    {
      "cell_type": "code",
      "metadata": {
        "id": "jdHV2ZR4LvXV",
        "colab_type": "code",
        "outputId": "55758e58-0035-445e-920f-f2d0c1f19a49",
        "colab": {
          "base_uri": "https://localhost:8080/",
          "height": 1000
        }
      },
      "source": [
        "import sys\n",
        "\n",
        "!{sys.executable} -m pip install --force-reinstall --upgrade \"git+https://github.com/HausReport/ClubRaiders.git#egg=craid\""
      ],
      "execution_count": 16,
      "outputs": [
        {
          "output_type": "stream",
          "text": [
            "Collecting craid\n",
            "  Cloning https://github.com/HausReport/ClubRaiders.git to /tmp/pip-install-n1u49u1n/craid\n",
            "  Running command git clone -q https://github.com/HausReport/ClubRaiders.git /tmp/pip-install-n1u49u1n/craid\n",
            "Processing /root/.cache/pip/wheels/2e/bc/dd/b4ebecb434c90eff7c5475efc10b72aad5a899c01fa87e2647/dash-1.12.0-cp36-none-any.whl\n",
            "Processing /root/.cache/pip/wheels/61/5c/e3/0958785022517a2e5934e7b5167a8f824f79c96a5e440bd622/dash_core_components-1.10.0-cp36-none-any.whl\n",
            "Processing /root/.cache/pip/wheels/22/c0/79/ef4c2b20a23dc8457ae75c3da5f63163db213d86e13e00fe26/dash_html_components-1.0.3-cp36-none-any.whl\n",
            "Processing /root/.cache/pip/wheels/de/59/d5/9da253860a20edebff16497d01b703d2a8db97130c5bd86fbf/dash_table-4.7.0-cp36-none-any.whl\n",
            "Processing /root/.cache/pip/wheels/be/9e/83/c6531c3fdd6dba27156e7196c273148d850c97bda396fec7d0/dash_renderer-1.4.1-cp36-none-any.whl\n",
            "Collecting flask\n",
            "  Using cached https://files.pythonhosted.org/packages/f2/28/2a03252dfb9ebf377f40fba6a7841b47083260bf8bd8e737b0c6952df83f/Flask-1.1.2-py2.py3-none-any.whl\n",
            "Collecting pandas\n",
            "  Using cached https://files.pythonhosted.org/packages/8e/86/c14387d6813ebadb7bf61b9ad270ffff111c8b587e4d266e07de774e385e/pandas-1.0.4-cp36-cp36m-manylinux1_x86_64.whl\n",
            "Collecting requests\n",
            "  Using cached https://files.pythonhosted.org/packages/1a/70/1935c770cb3be6e3a8b78ced23d7e0f3b187f5cbfab4749523ed65d7c9b1/requests-2.23.0-py2.py3-none-any.whl\n",
            "Collecting setuptools\n",
            "  Using cached https://files.pythonhosted.org/packages/95/95/f657b6e17f00c3f35b5f68b10e46c3a43af353d8856bd57bfcfb1dbb3e92/setuptools-47.1.1-py3-none-any.whl\n",
            "Collecting numpy\n",
            "  Using cached https://files.pythonhosted.org/packages/b3/a9/b1bc4c935ed063766bce7d3e8c7b20bd52e515ff1c732b02caacf7918e5a/numpy-1.18.5-cp36-cp36m-manylinux1_x86_64.whl\n",
            "Collecting python-dateutil\n",
            "  Using cached https://files.pythonhosted.org/packages/d4/70/d60450c3dd48ef87586924207ae8907090de0b306af2bce5d134d78615cb/python_dateutil-2.8.1-py2.py3-none-any.whl\n",
            "Collecting ujson\n",
            "  Using cached https://files.pythonhosted.org/packages/12/0a/35e07ebe48f0c2a23c316d92c2e26eade75e00a3df0758be57e7804bfbf0/ujson-3.0.0-cp36-cp36m-manylinux1_x86_64.whl\n",
            "Collecting json-lines\n",
            "  Using cached https://files.pythonhosted.org/packages/7f/0f/79c96c0d26b276c583484fe8209e5ebbb416a920309568650325f6e1de73/json_lines-0.5.0-py2.py3-none-any.whl\n",
            "Collecting urllib3\n",
            "  Using cached https://files.pythonhosted.org/packages/e1/e5/df302e8017440f111c11cc41a6b432838672f5a70aa29227bf58149dc72f/urllib3-1.25.9-py2.py3-none-any.whl\n",
            "Processing /root/.cache/pip/wheels/d7/69/b4/3200b95828d1f0ddb3cb5699083717f4fdbd9b4223d0644c57/psutil-5.7.0-cp36-cp36m-linux_x86_64.whl\n",
            "Processing /root/.cache/pip/wheels/8b/99/a0/81daf51dcd359a9377b110a8a886b3895921802d2fc1b2397e/future-0.18.2-cp36-none-any.whl\n",
            "Collecting plotly\n",
            "  Using cached https://files.pythonhosted.org/packages/70/56/eabdc7b7187cdb9d6121f6de2831ad5b85f7d002fa4bfe0476dbdb554bf6/plotly-4.8.1-py2.py3-none-any.whl\n",
            "Processing /root/.cache/pip/wheels/f7/e9/e4/5afc286be7c87461375e33152558415dfeb0c8f5af3b50e742/Flask_Compress-1.5.0-cp36-none-any.whl\n",
            "Collecting click>=5.1\n",
            "  Using cached https://files.pythonhosted.org/packages/d2/3d/fa76db83bf75c4f8d338c2fd15c8d33fdd7ad23a9b5e57eb6c5de26b430e/click-7.1.2-py2.py3-none-any.whl\n",
            "Collecting Werkzeug>=0.15\n",
            "  Using cached https://files.pythonhosted.org/packages/cc/94/5f7079a0e00bd6863ef8f1da638721e9da21e5bacee597595b318f71d62e/Werkzeug-1.0.1-py2.py3-none-any.whl\n",
            "Collecting itsdangerous>=0.24\n",
            "  Using cached https://files.pythonhosted.org/packages/76/ae/44b03b253d6fade317f32c24d100b3b35c2239807046a4c953c7b89fa49e/itsdangerous-1.1.0-py2.py3-none-any.whl\n",
            "Collecting Jinja2>=2.10.1\n",
            "  Using cached https://files.pythonhosted.org/packages/30/9e/f663a2aa66a09d838042ae1a2c5659828bb9b41ea3a6efa20a20fd92b121/Jinja2-2.11.2-py2.py3-none-any.whl\n",
            "Collecting pytz>=2017.2\n",
            "  Using cached https://files.pythonhosted.org/packages/4f/a4/879454d49688e2fad93e59d7d4efda580b783c745fd2ec2a3adf87b0808d/pytz-2020.1-py2.py3-none-any.whl\n",
            "Collecting idna<3,>=2.5\n",
            "  Using cached https://files.pythonhosted.org/packages/89/e3/afebe61c546d18fb1709a61bee788254b40e736cff7271c7de5de2dc4128/idna-2.9-py2.py3-none-any.whl\n",
            "Collecting certifi>=2017.4.17\n",
            "  Using cached https://files.pythonhosted.org/packages/57/2b/26e37a4b034800c960a00c4e1b3d9ca5d7014e983e6e729e33ea2f36426c/certifi-2020.4.5.1-py2.py3-none-any.whl\n",
            "Collecting chardet<4,>=3.0.2\n",
            "  Using cached https://files.pythonhosted.org/packages/bc/a9/01ffebfb562e4274b6487b4bb1ddec7ca55ec7510b22e4c51f14098443b8/chardet-3.0.4-py2.py3-none-any.whl\n",
            "Collecting six>=1.5\n",
            "  Using cached https://files.pythonhosted.org/packages/ee/ff/48bde5c0f013094d729fe4b0316ba2a24774b3ff1c52d924a8a4cb04078a/six-1.15.0-py2.py3-none-any.whl\n",
            "Processing /root/.cache/pip/wheels/d7/a9/33/acc7b709e2a35caa7d4cae442f6fe6fbf2c43f80823d46460c/retrying-1.3.3-cp36-none-any.whl\n",
            "Collecting brotli\n",
            "  Using cached https://files.pythonhosted.org/packages/f4/68/60a220454dc5083c6d59b41aa90bb1c96fad62a0abf3a33e0ef64b38638a/Brotli-1.0.7-cp36-cp36m-manylinux1_x86_64.whl\n",
            "Collecting MarkupSafe>=0.23\n",
            "  Using cached https://files.pythonhosted.org/packages/b2/5f/23e0023be6bb885d00ffbefad2942bc51a620328ee910f64abe5a8d18dd1/MarkupSafe-1.1.1-cp36-cp36m-manylinux1_x86_64.whl\n",
            "Building wheels for collected packages: craid\n",
            "  Building wheel for craid (setup.py) ... \u001b[?25l\u001b[?25hdone\n",
            "  Created wheel for craid: filename=craid-0.76-cp36-none-any.whl size=301572 sha256=03abf5e1eca66ad16ce8485e629ba3b52b9f45ddf815112935e8b713cd7b8644\n",
            "  Stored in directory: /tmp/pip-ephem-wheel-cache-3232vaff/wheels/59/74/32/b75ca6dbfddc83071fd4a4a492a26c1066d06840be16c7d535\n",
            "Successfully built craid\n",
            "\u001b[31mERROR: kaggle 1.5.6 has requirement urllib3<1.25,>=1.21.1, but you'll have urllib3 1.25.9 which is incompatible.\u001b[0m\n",
            "\u001b[31mERROR: google-colab 1.0.0 has requirement six~=1.12.0, but you'll have six 1.15.0 which is incompatible.\u001b[0m\n",
            "\u001b[31mERROR: datascience 0.10.6 has requirement folium==0.2.1, but you'll have folium 0.8.3 which is incompatible.\u001b[0m\n",
            "\u001b[31mERROR: albumentations 0.1.12 has requirement imgaug<0.2.7,>=0.2.5, but you'll have imgaug 0.2.9 which is incompatible.\u001b[0m\n",
            "Installing collected packages: future, dash-table, six, retrying, plotly, dash-core-components, dash-html-components, dash-renderer, click, Werkzeug, itsdangerous, MarkupSafe, Jinja2, flask, brotli, flask-compress, dash, pytz, python-dateutil, numpy, pandas, urllib3, idna, certifi, chardet, requests, setuptools, ujson, json-lines, psutil, craid\n",
            "  Found existing installation: future 0.18.2\n",
            "    Uninstalling future-0.18.2:\n",
            "      Successfully uninstalled future-0.18.2\n",
            "  Found existing installation: dash-table 4.7.0\n",
            "    Uninstalling dash-table-4.7.0:\n",
            "      Successfully uninstalled dash-table-4.7.0\n",
            "  Found existing installation: six 1.15.0\n",
            "    Uninstalling six-1.15.0:\n",
            "      Successfully uninstalled six-1.15.0\n",
            "  Found existing installation: retrying 1.3.3\n",
            "    Uninstalling retrying-1.3.3:\n",
            "      Successfully uninstalled retrying-1.3.3\n",
            "  Found existing installation: plotly 4.8.1\n",
            "    Uninstalling plotly-4.8.1:\n",
            "      Successfully uninstalled plotly-4.8.1\n",
            "  Found existing installation: dash-core-components 1.10.0\n",
            "    Uninstalling dash-core-components-1.10.0:\n",
            "      Successfully uninstalled dash-core-components-1.10.0\n",
            "  Found existing installation: dash-html-components 1.0.3\n",
            "    Uninstalling dash-html-components-1.0.3:\n",
            "      Successfully uninstalled dash-html-components-1.0.3\n",
            "  Found existing installation: dash-renderer 1.4.1\n",
            "    Uninstalling dash-renderer-1.4.1:\n",
            "      Successfully uninstalled dash-renderer-1.4.1\n",
            "  Found existing installation: click 7.1.2\n",
            "    Uninstalling click-7.1.2:\n",
            "      Successfully uninstalled click-7.1.2\n",
            "  Found existing installation: Werkzeug 1.0.1\n",
            "    Uninstalling Werkzeug-1.0.1:\n",
            "      Successfully uninstalled Werkzeug-1.0.1\n",
            "  Found existing installation: itsdangerous 1.1.0\n",
            "    Uninstalling itsdangerous-1.1.0:\n",
            "      Successfully uninstalled itsdangerous-1.1.0\n",
            "  Found existing installation: MarkupSafe 1.1.1\n",
            "    Uninstalling MarkupSafe-1.1.1:\n",
            "      Successfully uninstalled MarkupSafe-1.1.1\n",
            "  Found existing installation: Jinja2 2.11.2\n",
            "    Uninstalling Jinja2-2.11.2:\n",
            "      Successfully uninstalled Jinja2-2.11.2\n",
            "  Found existing installation: Flask 1.1.2\n",
            "    Uninstalling Flask-1.1.2:\n",
            "      Successfully uninstalled Flask-1.1.2\n",
            "  Found existing installation: Brotli 1.0.7\n",
            "    Uninstalling Brotli-1.0.7:\n",
            "      Successfully uninstalled Brotli-1.0.7\n",
            "  Found existing installation: Flask-Compress 1.5.0\n",
            "    Uninstalling Flask-Compress-1.5.0:\n",
            "      Successfully uninstalled Flask-Compress-1.5.0\n",
            "  Found existing installation: dash 1.12.0\n",
            "    Uninstalling dash-1.12.0:\n",
            "      Successfully uninstalled dash-1.12.0\n",
            "  Found existing installation: pytz 2020.1\n",
            "    Uninstalling pytz-2020.1:\n",
            "      Successfully uninstalled pytz-2020.1\n",
            "  Found existing installation: python-dateutil 2.8.1\n",
            "    Uninstalling python-dateutil-2.8.1:\n",
            "      Successfully uninstalled python-dateutil-2.8.1\n",
            "  Found existing installation: numpy 1.18.5\n",
            "    Uninstalling numpy-1.18.5:\n",
            "      Successfully uninstalled numpy-1.18.5\n",
            "  Found existing installation: pandas 1.0.4\n",
            "    Uninstalling pandas-1.0.4:\n",
            "      Successfully uninstalled pandas-1.0.4\n",
            "  Found existing installation: urllib3 1.25.9\n",
            "    Uninstalling urllib3-1.25.9:\n",
            "      Successfully uninstalled urllib3-1.25.9\n",
            "  Found existing installation: idna 2.9\n",
            "    Uninstalling idna-2.9:\n",
            "      Successfully uninstalled idna-2.9\n",
            "  Found existing installation: certifi 2020.4.5.1\n",
            "    Uninstalling certifi-2020.4.5.1:\n",
            "      Successfully uninstalled certifi-2020.4.5.1\n",
            "  Found existing installation: chardet 3.0.4\n",
            "    Uninstalling chardet-3.0.4:\n",
            "      Successfully uninstalled chardet-3.0.4\n",
            "  Found existing installation: requests 2.23.0\n",
            "    Uninstalling requests-2.23.0:\n",
            "      Successfully uninstalled requests-2.23.0\n",
            "  Found existing installation: setuptools 47.1.1\n",
            "    Uninstalling setuptools-47.1.1:\n",
            "      Successfully uninstalled setuptools-47.1.1\n",
            "  Found existing installation: ujson 3.0.0\n",
            "    Uninstalling ujson-3.0.0:\n",
            "      Successfully uninstalled ujson-3.0.0\n",
            "  Found existing installation: json-lines 0.5.0\n",
            "    Uninstalling json-lines-0.5.0:\n",
            "      Successfully uninstalled json-lines-0.5.0\n",
            "  Found existing installation: psutil 5.7.0\n",
            "    Uninstalling psutil-5.7.0:\n",
            "      Successfully uninstalled psutil-5.7.0\n",
            "  Found existing installation: craid 0.76\n",
            "    Uninstalling craid-0.76:\n",
            "      Successfully uninstalled craid-0.76\n",
            "Successfully installed Jinja2-2.11.2 MarkupSafe-1.1.1 Werkzeug-1.0.1 brotli-1.0.7 certifi-2020.4.5.1 chardet-3.0.4 click-7.1.2 craid-0.76 dash-1.12.0 dash-core-components-1.10.0 dash-html-components-1.0.3 dash-renderer-1.4.1 dash-table-4.7.0 flask-1.1.2 flask-compress-1.5.0 future-0.18.2 idna-2.9 itsdangerous-1.1.0 json-lines-0.5.0 numpy-1.18.5 pandas-1.0.4 plotly-4.8.1 psutil-5.7.0 python-dateutil-2.8.1 pytz-2020.1 requests-2.23.0 retrying-1.3.3 setuptools-47.1.1 six-1.15.0 ujson-3.0.0 urllib3-1.25.9\n"
          ],
          "name": "stdout"
        }
      ]
    },
    {
      "cell_type": "code",
      "metadata": {
        "id": "-hEAlTvDQzrk",
        "colab_type": "code",
        "outputId": "3c0e6cc5-f6dc-4318-a742-24320c34f6a4",
        "colab": {
          "base_uri": "https://localhost:8080/",
          "height": 918
        }
      },
      "source": [
        "import craid.eddb.loader.DataProducer as dp\n",
        "import pandas as pd\n",
        "import logging\n",
        "\n",
        "logging.getLogger().addHandler(logging.StreamHandler())\n",
        "logging.getLogger().level = logging.DEBUG\n",
        "\n",
        "arrays = dp.getDataArrays()\n",
        "df: pd.DataFrame = arrays['dataFrame']\n"
      ],
      "execution_count": 17,
      "outputs": [
        {
          "output_type": "stream",
          "text": [
            "Found data file: /tmp/smol-factions.jsonl.gz\n",
            "Found data file: /tmp/smol-factions.jsonl.gz\n",
            "Found data file: /tmp/smol-factions.jsonl.gz\n",
            "Found data file: /tmp/smol-factions.jsonl.gz\n",
            "Read 669 lines of faction data\n",
            "Read 669 lines of faction data\n",
            "Read 669 lines of faction data\n",
            "Read 669 lines of faction data\n",
            "Found data file: /tmp/smol-systems_populated.jsonl.gz\n",
            "Found data file: /tmp/smol-systems_populated.jsonl.gz\n",
            "Found data file: /tmp/smol-systems_populated.jsonl.gz\n",
            "Found data file: /tmp/smol-systems_populated.jsonl.gz\n",
            "Read 175 lines of systems data\n",
            "Read 175 lines of systems data\n",
            "Read 175 lines of systems data\n",
            "Read 175 lines of systems data\n",
            "Populated club system keys\n"
          ],
          "name": "stderr"
        },
        {
          "output_type": "stream",
          "text": [
            "0:177,807,360\n",
            "0.5:177,819,648\n",
            "1:178,294,784\n"
          ],
          "name": "stdout"
        },
        {
          "output_type": "stream",
          "text": [
            "Populated club system keys\n",
            "Populated club system keys\n",
            "Populated club system keys\n",
            "Club system lookup set has {175} items\n",
            "Club system lookup set has {175} items\n",
            "Club system lookup set has {175} items\n",
            "Club system lookup set has {175} items\n",
            "Populated faction instances: {1070} items.\n",
            "Populated faction instances: {1070} items.\n",
            "Populated faction instances: {1070} items.\n",
            "Populated faction instances: {1070} items.\n",
            "Found data file: /tmp/smol-stations.jsonl.gz\n",
            "Found data file: /tmp/smol-stations.jsonl.gz\n",
            "Found data file: /tmp/smol-stations.jsonl.gz\n",
            "Found data file: /tmp/smol-stations.jsonl.gz\n",
            "Read 511 lines of station data, adding 511\n",
            "\n",
            "Read 511 lines of station data, adding 511\n",
            "\n",
            "Read 511 lines of station data, adding 511\n",
            "\n",
            "Read 511 lines of station data, adding 511\n",
            "\n",
            "station controlling faction nexistThunderhead Garrison\n",
            "station controlling faction nexistThunderhead Garrison\n",
            "station controlling faction nexistThunderhead Garrison\n",
            "station controlling faction nexistThunderhead Garrison\n",
            "station controlling faction nexistThunderhead Garrison\n",
            "station controlling faction nexistThunderhead Garrison\n",
            "station controlling faction nexistThunderhead Garrison\n",
            "station controlling faction nexistThunderhead Garrison\n"
          ],
          "name": "stderr"
        },
        {
          "output_type": "stream",
          "text": [
            "2:178,331,648\n",
            "3:178,339,840\n"
          ],
          "name": "stdout"
        }
      ]
    },
    {
      "cell_type": "code",
      "metadata": {
        "id": "ik19yJNN-dzM",
        "colab_type": "code",
        "colab": {}
      },
      "source": [
        "import plotly.graph_objs as go"
      ],
      "execution_count": 0,
      "outputs": []
    },
    {
      "cell_type": "code",
      "metadata": {
        "id": "JNfXDokXugKq",
        "colab_type": "code",
        "colab": {}
      },
      "source": [
        "df.loc[df['control'] == True, 'marker_size'] = 8\n",
        "df.loc[df['control'] == False, 'marker_size'] = 3\n",
        "df.loc[df['isHomeSystem'] == True, 'marker_size'] = 15\n",
        "df.loc[df['control'] == True, 'color'] = \"#00ff00\"\n",
        "df.loc[df['control'] == False, 'color'] = \"#ffff00\"\n",
        "df.loc[df['isHomeSystem'] == True, 'color'] = \"#ff0000\""
      ],
      "execution_count": 0,
      "outputs": []
    },
    {
      "cell_type": "code",
      "metadata": {
        "id": "tHv_Sjf5-ZwY",
        "colab_type": "code",
        "colab": {}
      },
      "source": [
        "from numpy import *\n",
        "\n",
        "def getSphere( x0, y0, z0, r):\n",
        "  theta = linspace(0,2*pi,100)\n",
        "  phi = linspace(0,pi,100)\n",
        "  x = x0 + r* outer(cos(theta),sin(phi))\n",
        "  y = y0 + r* outer(sin(theta),sin(phi))\n",
        "  z = z0 + r* outer(ones(100),cos(phi))  # note this is 2d now\n",
        "\n",
        "  data = go.Surface(\n",
        "        x=x,\n",
        "        y=y,\n",
        "        z=z,\n",
        "        opacity = 0.2\n",
        "      )\n",
        "  return data"
      ],
      "execution_count": 0,
      "outputs": []
    },
    {
      "cell_type": "code",
      "metadata": {
        "id": "1WO3wwLmq3U9",
        "colab_type": "code",
        "colab": {}
      },
      "source": [
        "trace = go.Scatter3d(x =df['x'], y =df['z'], z =df['y'], text = df['systemName'],mode = 'markers',\n",
        "                      marker=dict(size=df[\"marker_size\"], color=df[\"color\"]))\n",
        "layout = go.Layout(title = 'Home, Control, and Non-Control')\n",
        "trace2 = getSphere(-320,-913, -217, 200)\n",
        "trace3 = getSphere(-79,-340, -150, 100)\n",
        "trace4 = getSphere(6,-6, -1, 35)\n",
        "\n",
        "fig = go.Figure(data = [trace, trace2, trace3, trace4], layout = layout)\n",
        "fig"
      ],
      "execution_count": 0,
      "outputs": []
    }
  ]
}