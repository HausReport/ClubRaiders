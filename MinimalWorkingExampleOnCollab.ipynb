{
  "nbformat": 4,
  "nbformat_minor": 0,
  "metadata": {
    "colab": {
      "name": "Untitled6.ipynb",
      "provenance": [],
      "authorship_tag": "ABX9TyNEdmie+EvmjVp4BhWxHfVe",
      "include_colab_link": true
    },
    "kernelspec": {
      "name": "python3",
      "display_name": "Python 3"
    }
  },
  "cells": [
    {
      "cell_type": "markdown",
      "metadata": {
        "id": "view-in-github",
        "colab_type": "text"
      },
      "source": [
        "<a href=\"https://colab.research.google.com/github/HausReport/ClubRaiders/blob/master/MinimalWorkingExampleOnCollab.ipynb\" target=\"_parent\"><img src=\"https://colab.research.google.com/assets/colab-badge.svg\" alt=\"Open In Colab\"/></a>"
      ]
    },
    {
      "cell_type": "code",
      "metadata": {
        "id": "jdHV2ZR4LvXV",
        "colab_type": "code",
        "outputId": "c5661cb4-c499-4fc7-8072-5b755715ad3a",
        "colab": {
          "base_uri": "https://localhost:8080/",
          "height": 1000
        }
      },
      "source": [
        "import sys\n",
        "\n",
        "!{sys.executable} -m pip install --force-reinstall --upgrade \"git+https://github.com/HausReport/ClubRaiders.git#egg=craid\""
      ],
      "execution_count": 1,
      "outputs": [
        {
          "output_type": "stream",
          "text": [
            "Collecting craid\n",
            "  Cloning https://github.com/HausReport/ClubRaiders.git to /tmp/pip-install-uqmwrnms/craid\n",
            "  Running command git clone -q https://github.com/HausReport/ClubRaiders.git /tmp/pip-install-uqmwrnms/craid\n",
            "Collecting numpy\n",
            "\u001b[?25l  Downloading https://files.pythonhosted.org/packages/03/27/e35e7c6e6a52fab9fcc64fc2b20c6b516eba930bb02b10ace3b38200d3ab/numpy-1.18.4-cp36-cp36m-manylinux1_x86_64.whl (20.2MB)\n",
            "\u001b[K     |████████████████████████████████| 20.2MB 1.7MB/s \n",
            "\u001b[?25hCollecting dash\n",
            "\u001b[?25l  Downloading https://files.pythonhosted.org/packages/d0/48/7a564cdbecdca653c9cb135c5be52c98d855ac13e305094450d7ecac5d89/dash-1.12.0.tar.gz (66kB)\n",
            "\u001b[K     |████████████████████████████████| 71kB 6.8MB/s \n",
            "\u001b[?25hCollecting pandas\n",
            "\u001b[?25l  Downloading https://files.pythonhosted.org/packages/bb/71/8f53bdbcbc67c912b888b40def255767e475402e9df64050019149b1a943/pandas-1.0.3-cp36-cp36m-manylinux1_x86_64.whl (10.0MB)\n",
            "\u001b[K     |████████████████████████████████| 10.0MB 29.1MB/s \n",
            "\u001b[?25hCollecting requests\n",
            "\u001b[?25l  Downloading https://files.pythonhosted.org/packages/1a/70/1935c770cb3be6e3a8b78ced23d7e0f3b187f5cbfab4749523ed65d7c9b1/requests-2.23.0-py2.py3-none-any.whl (58kB)\n",
            "\u001b[K     |████████████████████████████████| 61kB 7.8MB/s \n",
            "\u001b[?25hCollecting setuptools\n",
            "\u001b[?25l  Downloading https://files.pythonhosted.org/packages/2c/c5/0d38afb961f83e0d51f319f7dc166195ebabc1ea3cb20a10a77f500f7156/setuptools-46.4.0-py3-none-any.whl (583kB)\n",
            "\u001b[K     |████████████████████████████████| 583kB 53.1MB/s \n",
            "\u001b[?25hCollecting Flask>=1.0.2\n",
            "\u001b[?25l  Downloading https://files.pythonhosted.org/packages/f2/28/2a03252dfb9ebf377f40fba6a7841b47083260bf8bd8e737b0c6952df83f/Flask-1.1.2-py2.py3-none-any.whl (94kB)\n",
            "\u001b[K     |████████████████████████████████| 102kB 13.2MB/s \n",
            "\u001b[?25hCollecting flask-compress\n",
            "  Downloading https://files.pythonhosted.org/packages/a0/96/cd684c1ffe97b513303b5bfd4bbfb4114c5f4a5ea8a737af6fd813273df8/Flask-Compress-1.5.0.tar.gz\n",
            "Collecting plotly\n",
            "\u001b[?25l  Downloading https://files.pythonhosted.org/packages/d7/78/eb6cbe96c8379c54819592bb228c58ed7386fcc60a55eca7db99432fdf14/plotly-4.7.1-py2.py3-none-any.whl (11.5MB)\n",
            "\u001b[K     |████████████████████████████████| 11.5MB 45.4MB/s \n",
            "\u001b[?25hCollecting dash_renderer==1.4.1\n",
            "\u001b[?25l  Downloading https://files.pythonhosted.org/packages/8e/51/45aa6e4caa3f426ac48b153ecf0fe371368aae46e3ea902c8317f630489a/dash_renderer-1.4.1.tar.gz (1.2MB)\n",
            "\u001b[K     |████████████████████████████████| 1.2MB 44.2MB/s \n",
            "\u001b[?25hCollecting dash-core-components==1.10.0\n",
            "\u001b[?25l  Downloading https://files.pythonhosted.org/packages/4e/94/a170d86934cd845c4cb881e8156c79459702783716ea6d92849805127204/dash_core_components-1.10.0.tar.gz (3.4MB)\n",
            "\u001b[K     |████████████████████████████████| 3.4MB 42.2MB/s \n",
            "\u001b[?25hCollecting dash-html-components==1.0.3\n",
            "\u001b[?25l  Downloading https://files.pythonhosted.org/packages/da/20/46714ae501ccf16e5e37ca160c06e27347d19889687454168730e6744cdc/dash_html_components-1.0.3.tar.gz (187kB)\n",
            "\u001b[K     |████████████████████████████████| 194kB 41.0MB/s \n",
            "\u001b[?25hCollecting dash-table==4.7.0\n",
            "\u001b[?25l  Downloading https://files.pythonhosted.org/packages/96/aa/e508295638f3d4342b8798d16931a8b353ff48e03d9d99c788f34ddac110/dash_table-4.7.0.tar.gz (1.8MB)\n",
            "\u001b[K     |████████████████████████████████| 1.8MB 39.2MB/s \n",
            "\u001b[?25hCollecting future\n",
            "\u001b[?25l  Downloading https://files.pythonhosted.org/packages/45/0b/38b06fd9b92dc2b68d58b75f900e97884c45bedd2ff83203d933cf5851c9/future-0.18.2.tar.gz (829kB)\n",
            "\u001b[K     |████████████████████████████████| 829kB 37.0MB/s \n",
            "\u001b[?25hCollecting python-dateutil>=2.6.1\n",
            "\u001b[?25l  Downloading https://files.pythonhosted.org/packages/d4/70/d60450c3dd48ef87586924207ae8907090de0b306af2bce5d134d78615cb/python_dateutil-2.8.1-py2.py3-none-any.whl (227kB)\n",
            "\u001b[K     |████████████████████████████████| 235kB 45.1MB/s \n",
            "\u001b[?25hCollecting pytz>=2017.2\n",
            "\u001b[?25l  Downloading https://files.pythonhosted.org/packages/4f/a4/879454d49688e2fad93e59d7d4efda580b783c745fd2ec2a3adf87b0808d/pytz-2020.1-py2.py3-none-any.whl (510kB)\n",
            "\u001b[K     |████████████████████████████████| 512kB 39.3MB/s \n",
            "\u001b[?25hCollecting urllib3!=1.25.0,!=1.25.1,<1.26,>=1.21.1\n",
            "\u001b[?25l  Downloading https://files.pythonhosted.org/packages/e1/e5/df302e8017440f111c11cc41a6b432838672f5a70aa29227bf58149dc72f/urllib3-1.25.9-py2.py3-none-any.whl (126kB)\n",
            "\u001b[K     |████████████████████████████████| 133kB 43.4MB/s \n",
            "\u001b[?25hCollecting chardet<4,>=3.0.2\n",
            "\u001b[?25l  Downloading https://files.pythonhosted.org/packages/bc/a9/01ffebfb562e4274b6487b4bb1ddec7ca55ec7510b22e4c51f14098443b8/chardet-3.0.4-py2.py3-none-any.whl (133kB)\n",
            "\u001b[K     |████████████████████████████████| 143kB 47.4MB/s \n",
            "\u001b[?25hCollecting certifi>=2017.4.17\n",
            "\u001b[?25l  Downloading https://files.pythonhosted.org/packages/57/2b/26e37a4b034800c960a00c4e1b3d9ca5d7014e983e6e729e33ea2f36426c/certifi-2020.4.5.1-py2.py3-none-any.whl (157kB)\n",
            "\u001b[K     |████████████████████████████████| 163kB 50.8MB/s \n",
            "\u001b[?25hCollecting idna<3,>=2.5\n",
            "\u001b[?25l  Downloading https://files.pythonhosted.org/packages/89/e3/afebe61c546d18fb1709a61bee788254b40e736cff7271c7de5de2dc4128/idna-2.9-py2.py3-none-any.whl (58kB)\n",
            "\u001b[K     |████████████████████████████████| 61kB 6.9MB/s \n",
            "\u001b[?25hCollecting click>=5.1\n",
            "\u001b[?25l  Downloading https://files.pythonhosted.org/packages/d2/3d/fa76db83bf75c4f8d338c2fd15c8d33fdd7ad23a9b5e57eb6c5de26b430e/click-7.1.2-py2.py3-none-any.whl (82kB)\n",
            "\u001b[K     |████████████████████████████████| 92kB 9.7MB/s \n",
            "\u001b[?25hCollecting Werkzeug>=0.15\n",
            "\u001b[?25l  Downloading https://files.pythonhosted.org/packages/cc/94/5f7079a0e00bd6863ef8f1da638721e9da21e5bacee597595b318f71d62e/Werkzeug-1.0.1-py2.py3-none-any.whl (298kB)\n",
            "\u001b[K     |████████████████████████████████| 307kB 41.6MB/s \n",
            "\u001b[?25hCollecting Jinja2>=2.10.1\n",
            "\u001b[?25l  Downloading https://files.pythonhosted.org/packages/30/9e/f663a2aa66a09d838042ae1a2c5659828bb9b41ea3a6efa20a20fd92b121/Jinja2-2.11.2-py2.py3-none-any.whl (125kB)\n",
            "\u001b[K     |████████████████████████████████| 133kB 50.1MB/s \n",
            "\u001b[?25hCollecting itsdangerous>=0.24\n",
            "  Downloading https://files.pythonhosted.org/packages/76/ae/44b03b253d6fade317f32c24d100b3b35c2239807046a4c953c7b89fa49e/itsdangerous-1.1.0-py2.py3-none-any.whl\n",
            "Collecting brotli\n",
            "\u001b[?25l  Downloading https://files.pythonhosted.org/packages/f4/68/60a220454dc5083c6d59b41aa90bb1c96fad62a0abf3a33e0ef64b38638a/Brotli-1.0.7-cp36-cp36m-manylinux1_x86_64.whl (352kB)\n",
            "\u001b[K     |████████████████████████████████| 358kB 44.9MB/s \n",
            "\u001b[?25hCollecting six\n",
            "  Downloading https://files.pythonhosted.org/packages/ee/ff/48bde5c0f013094d729fe4b0316ba2a24774b3ff1c52d924a8a4cb04078a/six-1.15.0-py2.py3-none-any.whl\n",
            "Collecting retrying>=1.3.3\n",
            "  Downloading https://files.pythonhosted.org/packages/44/ef/beae4b4ef80902f22e3af073397f079c96969c69b2c7d52a57ea9ae61c9d/retrying-1.3.3.tar.gz\n",
            "Collecting MarkupSafe>=0.23\n",
            "  Downloading https://files.pythonhosted.org/packages/b2/5f/23e0023be6bb885d00ffbefad2942bc51a620328ee910f64abe5a8d18dd1/MarkupSafe-1.1.1-cp36-cp36m-manylinux1_x86_64.whl\n",
            "Building wheels for collected packages: craid, dash, flask-compress, dash-renderer, dash-core-components, dash-html-components, dash-table, future, retrying\n",
            "  Building wheel for craid (setup.py) ... \u001b[?25l\u001b[?25hdone\n",
            "  Created wheel for craid: filename=craid-0.64-cp36-none-any.whl size=4600333 sha256=40068182d81b2b854162b7e02a2f1bed39584f54fd98ac03b4c4d509e30871b0\n",
            "  Stored in directory: /tmp/pip-ephem-wheel-cache-dl1x80aj/wheels/59/74/32/b75ca6dbfddc83071fd4a4a492a26c1066d06840be16c7d535\n",
            "  Building wheel for dash (setup.py) ... \u001b[?25l\u001b[?25hdone\n",
            "  Created wheel for dash: filename=dash-1.12.0-cp36-none-any.whl size=73892 sha256=dc87383b5282de31eb36e2d8b4665227a3de1545d53dbf569e27628699da169a\n",
            "  Stored in directory: /root/.cache/pip/wheels/2e/bc/dd/b4ebecb434c90eff7c5475efc10b72aad5a899c01fa87e2647\n",
            "  Building wheel for flask-compress (setup.py) ... \u001b[?25l\u001b[?25hdone\n",
            "  Created wheel for flask-compress: filename=Flask_Compress-1.5.0-cp36-none-any.whl size=5273 sha256=c35d38dd5951e82498173ec34e4bf2a6d5f61e3d38233a99b1a011feaeb4cd46\n",
            "  Stored in directory: /root/.cache/pip/wheels/f7/e9/e4/5afc286be7c87461375e33152558415dfeb0c8f5af3b50e742\n",
            "  Building wheel for dash-renderer (setup.py) ... \u001b[?25l\u001b[?25hdone\n",
            "  Created wheel for dash-renderer: filename=dash_renderer-1.4.1-cp36-none-any.whl size=1165597 sha256=9c73a5ff8af396236e2d2722ad22b79ef0f2c8fd4985724f6f5b972d5fdb8102\n",
            "  Stored in directory: /root/.cache/pip/wheels/be/9e/83/c6531c3fdd6dba27156e7196c273148d850c97bda396fec7d0\n",
            "  Building wheel for dash-core-components (setup.py) ... \u001b[?25l\u001b[?25hdone\n",
            "  Created wheel for dash-core-components: filename=dash_core_components-1.10.0-cp36-none-any.whl size=3454754 sha256=b47f5e213540ceca8f6ed495df330abb951cb98e1fb1835c76579a6bf8650a3c\n",
            "  Stored in directory: /root/.cache/pip/wheels/61/5c/e3/0958785022517a2e5934e7b5167a8f824f79c96a5e440bd622\n",
            "  Building wheel for dash-html-components (setup.py) ... \u001b[?25l\u001b[?25hdone\n",
            "  Created wheel for dash-html-components: filename=dash_html_components-1.0.3-cp36-none-any.whl size=427303 sha256=5353b248dc7c35c0a47a8b35b25fa2733cd01bb26cd9d4d5509383d0b59625f3\n",
            "  Stored in directory: /root/.cache/pip/wheels/22/c0/79/ef4c2b20a23dc8457ae75c3da5f63163db213d86e13e00fe26\n",
            "  Building wheel for dash-table (setup.py) ... \u001b[?25l\u001b[?25hdone\n",
            "  Created wheel for dash-table: filename=dash_table-4.7.0-cp36-none-any.whl size=1777561 sha256=c5bc7bcf7d92d39d1731399db749bfb9ab251e38cc796428577e18ced541b02f\n",
            "  Stored in directory: /root/.cache/pip/wheels/de/59/d5/9da253860a20edebff16497d01b703d2a8db97130c5bd86fbf\n",
            "  Building wheel for future (setup.py) ... \u001b[?25l\u001b[?25hdone\n",
            "  Created wheel for future: filename=future-0.18.2-cp36-none-any.whl size=491057 sha256=bb38218794baa7c61b32e021e3f9f298bb3056db8cf7810736b5e4e8bd6eac30\n",
            "  Stored in directory: /root/.cache/pip/wheels/8b/99/a0/81daf51dcd359a9377b110a8a886b3895921802d2fc1b2397e\n",
            "  Building wheel for retrying (setup.py) ... \u001b[?25l\u001b[?25hdone\n",
            "  Created wheel for retrying: filename=retrying-1.3.3-cp36-none-any.whl size=11431 sha256=e4712f8e58111251c09cf221b58eac591762224f6746ad377b59342c3acfdc05\n",
            "  Stored in directory: /root/.cache/pip/wheels/d7/a9/33/acc7b709e2a35caa7d4cae442f6fe6fbf2c43f80823d46460c\n",
            "Successfully built craid dash flask-compress dash-renderer dash-core-components dash-html-components dash-table future retrying\n",
            "\u001b[31mERROR: kaggle 1.5.6 has requirement urllib3<1.25,>=1.21.1, but you'll have urllib3 1.25.9 which is incompatible.\u001b[0m\n",
            "\u001b[31mERROR: google-colab 1.0.0 has requirement six~=1.12.0, but you'll have six 1.15.0 which is incompatible.\u001b[0m\n",
            "\u001b[31mERROR: datascience 0.10.6 has requirement folium==0.2.1, but you'll have folium 0.8.3 which is incompatible.\u001b[0m\n",
            "\u001b[31mERROR: albumentations 0.1.12 has requirement imgaug<0.2.7,>=0.2.5, but you'll have imgaug 0.2.9 which is incompatible.\u001b[0m\n",
            "Installing collected packages: numpy, click, Werkzeug, MarkupSafe, Jinja2, itsdangerous, Flask, brotli, flask-compress, six, retrying, plotly, dash-renderer, dash-core-components, dash-html-components, dash-table, future, dash, python-dateutil, pytz, pandas, urllib3, chardet, certifi, idna, requests, setuptools, craid\n",
            "  Found existing installation: numpy 1.18.4\n",
            "    Uninstalling numpy-1.18.4:\n",
            "      Successfully uninstalled numpy-1.18.4\n",
            "  Found existing installation: click 7.1.2\n",
            "    Uninstalling click-7.1.2:\n",
            "      Successfully uninstalled click-7.1.2\n",
            "  Found existing installation: Werkzeug 1.0.1\n",
            "    Uninstalling Werkzeug-1.0.1:\n",
            "      Successfully uninstalled Werkzeug-1.0.1\n",
            "  Found existing installation: MarkupSafe 1.1.1\n",
            "    Uninstalling MarkupSafe-1.1.1:\n",
            "      Successfully uninstalled MarkupSafe-1.1.1\n",
            "  Found existing installation: Jinja2 2.11.2\n",
            "    Uninstalling Jinja2-2.11.2:\n",
            "      Successfully uninstalled Jinja2-2.11.2\n",
            "  Found existing installation: itsdangerous 1.1.0\n",
            "    Uninstalling itsdangerous-1.1.0:\n",
            "      Successfully uninstalled itsdangerous-1.1.0\n",
            "  Found existing installation: Flask 1.1.2\n",
            "    Uninstalling Flask-1.1.2:\n",
            "      Successfully uninstalled Flask-1.1.2\n",
            "  Found existing installation: six 1.12.0\n",
            "    Uninstalling six-1.12.0:\n",
            "      Successfully uninstalled six-1.12.0\n",
            "  Found existing installation: retrying 1.3.3\n",
            "    Uninstalling retrying-1.3.3:\n",
            "      Successfully uninstalled retrying-1.3.3\n",
            "  Found existing installation: plotly 4.4.1\n",
            "    Uninstalling plotly-4.4.1:\n",
            "      Successfully uninstalled plotly-4.4.1\n",
            "  Found existing installation: future 0.16.0\n",
            "    Uninstalling future-0.16.0:\n",
            "      Successfully uninstalled future-0.16.0\n",
            "  Found existing installation: python-dateutil 2.8.1\n",
            "    Uninstalling python-dateutil-2.8.1:\n",
            "      Successfully uninstalled python-dateutil-2.8.1\n",
            "  Found existing installation: pytz 2018.9\n",
            "    Uninstalling pytz-2018.9:\n",
            "      Successfully uninstalled pytz-2018.9\n",
            "  Found existing installation: pandas 1.0.3\n",
            "    Uninstalling pandas-1.0.3:\n",
            "      Successfully uninstalled pandas-1.0.3\n",
            "  Found existing installation: urllib3 1.24.3\n",
            "    Uninstalling urllib3-1.24.3:\n",
            "      Successfully uninstalled urllib3-1.24.3\n",
            "  Found existing installation: chardet 3.0.4\n",
            "    Uninstalling chardet-3.0.4:\n",
            "      Successfully uninstalled chardet-3.0.4\n",
            "  Found existing installation: certifi 2020.4.5.1\n",
            "    Uninstalling certifi-2020.4.5.1:\n",
            "      Successfully uninstalled certifi-2020.4.5.1\n",
            "  Found existing installation: idna 2.9\n",
            "    Uninstalling idna-2.9:\n",
            "      Successfully uninstalled idna-2.9\n",
            "  Found existing installation: requests 2.23.0\n",
            "    Uninstalling requests-2.23.0:\n",
            "      Successfully uninstalled requests-2.23.0\n",
            "  Found existing installation: setuptools 46.3.0\n",
            "    Uninstalling setuptools-46.3.0:\n",
            "      Successfully uninstalled setuptools-46.3.0\n",
            "Successfully installed Flask-1.1.2 Jinja2-2.11.2 MarkupSafe-1.1.1 Werkzeug-1.0.1 brotli-1.0.7 certifi-2020.4.5.1 chardet-3.0.4 click-7.1.2 craid-0.64 dash-1.12.0 dash-core-components-1.10.0 dash-html-components-1.0.3 dash-renderer-1.4.1 dash-table-4.7.0 flask-compress-1.5.0 future-0.18.2 idna-2.9 itsdangerous-1.1.0 numpy-1.18.4 pandas-1.0.3 plotly-4.7.1 python-dateutil-2.8.1 pytz-2020.1 requests-2.23.0 retrying-1.3.3 setuptools-46.4.0 six-1.15.0 urllib3-1.25.9\n"
          ],
          "name": "stdout"
        }
      ]
    },
    {
      "cell_type": "code",
      "metadata": {
        "id": "-hEAlTvDQzrk",
        "colab_type": "code",
        "outputId": "7e5b899d-236b-4908-b26a-616d84f46987",
        "colab": {
          "base_uri": "https://localhost:8080/",
          "height": 323
        }
      },
      "source": [
        "import craid.eddb.DataProducer as dp\n",
        "import pandas as pd\n",
        "import logging\n",
        "\n",
        "logging.getLogger().addHandler(logging.StreamHandler())\n",
        "logging.getLogger().level = logging.DEBUG\n",
        "\n",
        "arrays = dp.getDataArrays()\n",
        "clubSystemInstances = arrays['allClubSystemInstances']\n",
        "df: pd.DataFrame = dp.getDataFrame(clubSystemInstances)\n"
      ],
      "execution_count": 2,
      "outputs": [
        {
          "output_type": "stream",
          "text": [
            "1- Checking for: ../data/factions.jsonl\n",
            "2- Checking for: /tmp/factions.jsonl\n",
            "downloading data file: https://eddb.io/archive/v6/factions.jsonl\n",
            "Starting new HTTPS connection (1): eddb.io:443\n",
            "https://eddb.io:443 \"GET /archive/v6/factions.jsonl HTTP/1.1\" 200 None\n",
            "3- Checking for: /tmp/factions.jsonl\n",
            "found data file: /tmp/factions.jsonl\n",
            "Back in dp\n",
            "Read 77115 lines of faction data\n",
            "1- Checking for: ../data/systems_populated.jsonl\n",
            "2- Checking for: /tmp/systems_populated.jsonl\n",
            "downloading data file: https://eddb.io/archive/v6/systems_populated.jsonl\n",
            "Starting new HTTPS connection (1): eddb.io:443\n",
            "https://eddb.io:443 \"GET /archive/v6/systems_populated.jsonl HTTP/1.1\" 200 None\n",
            "3- Checking for: /tmp/systems_populated.jsonl\n",
            "found data file: /tmp/systems_populated.jsonl\n",
            "Back in dp\n",
            "Read 20632 lines of systems data\n"
          ],
          "name": "stderr"
        }
      ]
    },
    {
      "cell_type": "code",
      "metadata": {
        "id": "aW4YSvPFS0w2",
        "colab_type": "code",
        "colab": {
          "base_uri": "https://localhost:8080/",
          "height": 759
        },
        "outputId": "c51e6839-c3c5-45f1-e659-f4000a13f2b9"
      },
      "source": [
        "df"
      ],
      "execution_count": 3,
      "outputs": [
        {
          "output_type": "execute_result",
          "data": {
            "text/html": [
              "<div>\n",
              "<style scoped>\n",
              "    .dataframe tbody tr th:only-of-type {\n",
              "        vertical-align: middle;\n",
              "    }\n",
              "\n",
              "    .dataframe tbody tr th {\n",
              "        vertical-align: top;\n",
              "    }\n",
              "\n",
              "    .dataframe thead th {\n",
              "        text-align: right;\n",
              "    }\n",
              "</style>\n",
              "<table border=\"1\" class=\"dataframe\">\n",
              "  <thead>\n",
              "    <tr style=\"text-align: right;\">\n",
              "      <th></th>\n",
              "      <th>systemName</th>\n",
              "      <th>factionName</th>\n",
              "      <th>x</th>\n",
              "      <th>y</th>\n",
              "      <th>z</th>\n",
              "      <th>allegiance</th>\n",
              "      <th>isHomeSystem</th>\n",
              "      <th>population</th>\n",
              "      <th>influence</th>\n",
              "      <th>updated</th>\n",
              "      <th>control</th>\n",
              "      <th>vulnerable</th>\n",
              "    </tr>\n",
              "  </thead>\n",
              "  <tbody>\n",
              "    <tr>\n",
              "      <th>0</th>\n",
              "      <td>64 Ceti</td>\n",
              "      <td>Worster Insurance</td>\n",
              "      <td>-37.06250</td>\n",
              "      <td>-100.06250</td>\n",
              "      <td>-79.12500</td>\n",
              "      <td>Independent</td>\n",
              "      <td>True</td>\n",
              "      <td>5096451</td>\n",
              "      <td>3.1</td>\n",
              "      <td>2020-05-25 20:21:06</td>\n",
              "      <td>False</td>\n",
              "      <td>LowInf</td>\n",
              "    </tr>\n",
              "    <tr>\n",
              "      <th>1</th>\n",
              "      <td>Abroin</td>\n",
              "      <td>Abroin Universal PLC</td>\n",
              "      <td>-94.53125</td>\n",
              "      <td>110.09375</td>\n",
              "      <td>-40.50000</td>\n",
              "      <td>Independent</td>\n",
              "      <td>False</td>\n",
              "      <td>2813462</td>\n",
              "      <td>42.0</td>\n",
              "      <td>2020-05-20 02:22:14</td>\n",
              "      <td>True</td>\n",
              "      <td></td>\n",
              "    </tr>\n",
              "    <tr>\n",
              "      <th>2</th>\n",
              "      <td>Akandi</td>\n",
              "      <td>Hodack Prison Colony</td>\n",
              "      <td>62.03125</td>\n",
              "      <td>10.75000</td>\n",
              "      <td>38.87500</td>\n",
              "      <td>Independent</td>\n",
              "      <td>False</td>\n",
              "      <td>2280</td>\n",
              "      <td>5.8</td>\n",
              "      <td>2020-05-26 02:20:53</td>\n",
              "      <td>False</td>\n",
              "      <td></td>\n",
              "    </tr>\n",
              "    <tr>\n",
              "      <th>3</th>\n",
              "      <td>Alioth</td>\n",
              "      <td>Bill Turner</td>\n",
              "      <td>-33.65625</td>\n",
              "      <td>72.46875</td>\n",
              "      <td>-20.65625</td>\n",
              "      <td>Alliance</td>\n",
              "      <td>True</td>\n",
              "      <td>14900071500</td>\n",
              "      <td>0.0</td>\n",
              "      <td>2020-05-26 02:09:49</td>\n",
              "      <td>False</td>\n",
              "      <td></td>\n",
              "    </tr>\n",
              "    <tr>\n",
              "      <th>4</th>\n",
              "      <td>Alioth</td>\n",
              "      <td>Turner Research Group</td>\n",
              "      <td>-33.65625</td>\n",
              "      <td>72.46875</td>\n",
              "      <td>-20.65625</td>\n",
              "      <td>Alliance</td>\n",
              "      <td>False</td>\n",
              "      <td>14900071500</td>\n",
              "      <td>6.1</td>\n",
              "      <td>2020-05-26 02:09:49</td>\n",
              "      <td>False</td>\n",
              "      <td></td>\n",
              "    </tr>\n",
              "    <tr>\n",
              "      <th>...</th>\n",
              "      <td>...</td>\n",
              "      <td>...</td>\n",
              "      <td>...</td>\n",
              "      <td>...</td>\n",
              "      <td>...</td>\n",
              "      <td>...</td>\n",
              "      <td>...</td>\n",
              "      <td>...</td>\n",
              "      <td>...</td>\n",
              "      <td>...</td>\n",
              "      <td>...</td>\n",
              "      <td>...</td>\n",
              "    </tr>\n",
              "    <tr>\n",
              "      <th>181</th>\n",
              "      <td>33 Cygni</td>\n",
              "      <td>Sirius Drives</td>\n",
              "      <td>-155.75000</td>\n",
              "      <td>33.09375</td>\n",
              "      <td>-3.53125</td>\n",
              "      <td>Independent</td>\n",
              "      <td>False</td>\n",
              "      <td>235575</td>\n",
              "      <td>20.0</td>\n",
              "      <td>2020-05-25 17:13:05</td>\n",
              "      <td>False</td>\n",
              "      <td></td>\n",
              "    </tr>\n",
              "    <tr>\n",
              "      <th>182</th>\n",
              "      <td>Col 285 Sector BQ-N c7-13</td>\n",
              "      <td>Sirius Luxury Transports</td>\n",
              "      <td>158.31250</td>\n",
              "      <td>69.50000</td>\n",
              "      <td>-42.03125</td>\n",
              "      <td>Independent</td>\n",
              "      <td>False</td>\n",
              "      <td>24119</td>\n",
              "      <td>13.9</td>\n",
              "      <td>2020-05-15 14:47:47</td>\n",
              "      <td>False</td>\n",
              "      <td>Anarchy</td>\n",
              "    </tr>\n",
              "    <tr>\n",
              "      <th>183</th>\n",
              "      <td>Mel 22 Sector GM-V c2-8</td>\n",
              "      <td>Turner Research Group</td>\n",
              "      <td>-192.12500</td>\n",
              "      <td>-194.96875</td>\n",
              "      <td>-471.65625</td>\n",
              "      <td>Alliance</td>\n",
              "      <td>False</td>\n",
              "      <td>18550</td>\n",
              "      <td>100.0</td>\n",
              "      <td>2020-05-24 02:20:11</td>\n",
              "      <td>True</td>\n",
              "      <td></td>\n",
              "    </tr>\n",
              "    <tr>\n",
              "      <th>184</th>\n",
              "      <td>Delphi</td>\n",
              "      <td>Janus Incorporated</td>\n",
              "      <td>-63.59375</td>\n",
              "      <td>-147.40625</td>\n",
              "      <td>-319.09375</td>\n",
              "      <td>Independent</td>\n",
              "      <td>False</td>\n",
              "      <td>300000</td>\n",
              "      <td>9.8</td>\n",
              "      <td>2020-05-26 01:55:04</td>\n",
              "      <td>False</td>\n",
              "      <td></td>\n",
              "    </tr>\n",
              "    <tr>\n",
              "      <th>185</th>\n",
              "      <td>Delphi</td>\n",
              "      <td>Aegis Research</td>\n",
              "      <td>-63.59375</td>\n",
              "      <td>-147.40625</td>\n",
              "      <td>-319.09375</td>\n",
              "      <td>Independent</td>\n",
              "      <td>False</td>\n",
              "      <td>300000</td>\n",
              "      <td>11.4</td>\n",
              "      <td>2020-05-26 01:55:04</td>\n",
              "      <td>False</td>\n",
              "      <td></td>\n",
              "    </tr>\n",
              "  </tbody>\n",
              "</table>\n",
              "<p>186 rows × 12 columns</p>\n",
              "</div>"
            ],
            "text/plain": [
              "                    systemName               factionName  ...  control  vulnerable\n",
              "0                      64 Ceti         Worster Insurance  ...    False      LowInf\n",
              "1                       Abroin      Abroin Universal PLC  ...     True            \n",
              "2                       Akandi      Hodack Prison Colony  ...    False            \n",
              "3                       Alioth               Bill Turner  ...    False            \n",
              "4                       Alioth     Turner Research Group  ...    False            \n",
              "..                         ...                       ...  ...      ...         ...\n",
              "181                   33 Cygni             Sirius Drives  ...    False            \n",
              "182  Col 285 Sector BQ-N c7-13  Sirius Luxury Transports  ...    False     Anarchy\n",
              "183    Mel 22 Sector GM-V c2-8     Turner Research Group  ...     True            \n",
              "184                     Delphi        Janus Incorporated  ...    False            \n",
              "185                     Delphi            Aegis Research  ...    False            \n",
              "\n",
              "[186 rows x 12 columns]"
            ]
          },
          "metadata": {
            "tags": []
          },
          "execution_count": 3
        }
      ]
    },
    {
      "cell_type": "code",
      "metadata": {
        "id": "mtcno2FHTpLD",
        "colab_type": "code",
        "colab": {
          "base_uri": "https://localhost:8080/",
          "height": 34
        },
        "outputId": "4944f2a8-7134-4a8e-bb51-215ead7e7fec"
      },
      "source": [
        "df.shape[0]"
      ],
      "execution_count": 4,
      "outputs": [
        {
          "output_type": "execute_result",
          "data": {
            "text/plain": [
              "186"
            ]
          },
          "metadata": {
            "tags": []
          },
          "execution_count": 4
        }
      ]
    },
    {
      "cell_type": "code",
      "metadata": {
        "id": "lKBh2irETzvh",
        "colab_type": "code",
        "colab": {
          "base_uri": "https://localhost:8080/",
          "height": 34
        },
        "outputId": "56182850-a94f-4fb2-e66e-1636b5a56500"
      },
      "source": [
        "len(clubSystemInstances)"
      ],
      "execution_count": 5,
      "outputs": [
        {
          "output_type": "execute_result",
          "data": {
            "text/plain": [
              "186"
            ]
          },
          "metadata": {
            "tags": []
          },
          "execution_count": 5
        }
      ]
    },
    {
      "cell_type": "code",
      "metadata": {
        "id": "-BvKSbale-7g",
        "colab_type": "code",
        "colab": {
          "base_uri": "https://localhost:8080/",
          "height": 374
        },
        "outputId": "e0f06dda-6469-4e0b-8896-aacad8cde483"
      },
      "source": [
        "import craid.dashbd.Dashboard"
      ],
      "execution_count": 6,
      "outputs": [
        {
          "output_type": "stream",
          "text": [
            "1- Checking for: ../data/factions.jsonl\n",
            "1- Checking for: ../data/factions.jsonl\n",
            "2- Checking for: /tmp/factions.jsonl\n",
            "2- Checking for: /tmp/factions.jsonl\n",
            "found data file: /tmp/factions.jsonl\n",
            "found data file: /tmp/factions.jsonl\n",
            "Back in dp\n",
            "Back in dp\n",
            "Read 77115 lines of faction data\n",
            "Read 77115 lines of faction data\n",
            "1- Checking for: ../data/systems_populated.jsonl\n",
            "1- Checking for: ../data/systems_populated.jsonl\n",
            "2- Checking for: /tmp/systems_populated.jsonl\n",
            "2- Checking for: /tmp/systems_populated.jsonl\n",
            "found data file: /tmp/systems_populated.jsonl\n",
            "found data file: /tmp/systems_populated.jsonl\n",
            "Back in dp\n",
            "Back in dp\n",
            "Read 20632 lines of systems data\n",
            "Read 20632 lines of systems data\n"
          ],
          "name": "stderr"
        },
        {
          "output_type": "stream",
          "text": [
            "craid.dashbd.Dashboard\n"
          ],
          "name": "stdout"
        }
      ]
    },
    {
      "cell_type": "code",
      "metadata": {
        "id": "XGKWwXcqfGmw",
        "colab_type": "code",
        "colab": {
          "base_uri": "https://localhost:8080/",
          "height": 1000
        },
        "outputId": "e6939ee6-86f0-4c5c-a1e9-4cc8de3f4628"
      },
      "source": [
        "!{sys.executable} -m pip show --files craid"
      ],
      "execution_count": 7,
      "outputs": [
        {
          "output_type": "stream",
          "text": [
            "Name: craid\n",
            "Version: 0.64\n",
            "Summary: Placeholder description\n",
            "Home-page: https://github.com/HausReport/ClubRaiders\n",
            "Author: Erlaed\n",
            "Author-email: Erlaed2@fdev.not\n",
            "License: BSD-3\n",
            "Location: /usr/local/lib/python3.6/dist-packages\n",
            "Requires: pandas, setuptools, requests, numpy, dash\n",
            "Required-by: \n",
            "Files:\n",
            "  craid-0.64.dist-info/INSTALLER\n",
            "  craid-0.64.dist-info/LICENSE\n",
            "  craid-0.64.dist-info/METADATA\n",
            "  craid-0.64.dist-info/RECORD\n",
            "  craid-0.64.dist-info/WHEEL\n",
            "  craid-0.64.dist-info/top_level.txt\n",
            "  craid/__init__.py\n",
            "  craid/__pycache__/__init__.cpython-36.pyc\n",
            "  craid/club/FactionNameFilter.py\n",
            "  craid/club/__init__.py\n",
            "  craid/club/__pycache__/FactionNameFilter.cpython-36.pyc\n",
            "  craid/club/__pycache__/__init__.cpython-36.pyc\n",
            "  craid/club/regions/Region.py\n",
            "  craid/club/regions/RegionFactory.py\n",
            "  craid/club/regions/__init__.py\n",
            "  craid/club/regions/__pycache__/Region.cpython-36.pyc\n",
            "  craid/club/regions/__pycache__/RegionFactory.cpython-36.pyc\n",
            "  craid/club/regions/__pycache__/__init__.cpython-36.pyc\n",
            "  craid/css/EuroStyle Normal.ttf\n",
            "  craid/css/EurostileBold.ttf\n",
            "  craid/css/EurostileExtended.ttf\n",
            "  craid/css/EurostileOblique.ttf\n",
            "  craid/css/Raiders.css\n",
            "  craid/css/__init__.py\n",
            "  craid/css/__pycache__/__init__.cpython-36.pyc\n",
            "  craid/dashbd/Dashboard.py\n",
            "  craid/dashbd/__init__.py\n",
            "  craid/dashbd/__pycache__/Dashboard.cpython-36.pyc\n",
            "  craid/dashbd/__pycache__/__init__.cpython-36.pyc\n",
            "  craid/dashbd/assets/__init__.py\n",
            "  craid/dashbd/assets/__pycache__/__init__.cpython-36.pyc\n",
            "  craid/dashbd/assets/aaa.css\n",
            "  craid/dashbd/assets/custom-script.js\n",
            "  craid/dashbd/assets/favicon.ico\n",
            "  craid/dashbd/assets/header.css\n",
            "  craid/dashbd/assets/tabs.css\n",
            "  craid/dashbd/queries/CombatZones.py\n",
            "  craid/dashbd/queries/QueryFactory.py\n",
            "  craid/dashbd/queries/Scouting.py\n",
            "  craid/dashbd/queries/TradeExplorationMissions.py\n",
            "  craid/dashbd/queries/__init__.py\n",
            "  craid/dashbd/queries/__pycache__/CombatZones.cpython-36.pyc\n",
            "  craid/dashbd/queries/__pycache__/QueryFactory.cpython-36.pyc\n",
            "  craid/dashbd/queries/__pycache__/Scouting.cpython-36.pyc\n",
            "  craid/dashbd/queries/__pycache__/TradeExplorationMissions.cpython-36.pyc\n",
            "  craid/dashbd/queries/__pycache__/__init__.cpython-36.pyc\n",
            "  craid/dashbd/text/__init__.py\n",
            "  craid/dashbd/text/__pycache__/__init__.cpython-36.pyc\n",
            "  craid/dashbd/text/bh.md\n",
            "  craid/dashbd/text/cz.md\n",
            "  craid/dashbd/text/overview.md\n",
            "  craid/dashbd/text/scouting.md\n",
            "  craid/dashbd/text/tem.md\n",
            "  craid/data/__init__.py\n",
            "  craid/data/__pycache__/__init__.cpython-36.pyc\n",
            "  craid/data/factions.jsonl\n",
            "  craid/data/systems_populated.jsonl\n",
            "  craid/eddb/Constants.py\n",
            "  craid/eddb/DataProducer.py\n",
            "  craid/eddb/Faction.py\n",
            "  craid/eddb/FactionInstance.py\n",
            "  craid/eddb/FactionStates.py\n",
            "  craid/eddb/InhabitedSystem.py\n",
            "  craid/eddb/LoadDataFromEDDB.py\n",
            "  craid/eddb/NamedItem.py\n",
            "  craid/eddb/Station.py\n",
            "  craid/eddb/Vulnerability.py\n",
            "  craid/eddb/__init__.py\n",
            "  craid/eddb/__pycache__/Constants.cpython-36.pyc\n",
            "  craid/eddb/__pycache__/DataProducer.cpython-36.pyc\n",
            "  craid/eddb/__pycache__/Faction.cpython-36.pyc\n",
            "  craid/eddb/__pycache__/FactionInstance.cpython-36.pyc\n",
            "  craid/eddb/__pycache__/FactionStates.cpython-36.pyc\n",
            "  craid/eddb/__pycache__/InhabitedSystem.cpython-36.pyc\n",
            "  craid/eddb/__pycache__/LoadDataFromEDDB.cpython-36.pyc\n",
            "  craid/eddb/__pycache__/NamedItem.cpython-36.pyc\n",
            "  craid/eddb/__pycache__/Station.cpython-36.pyc\n",
            "  craid/eddb/__pycache__/Vulnerability.cpython-36.pyc\n",
            "  craid/eddb/__pycache__/__init__.cpython-36.pyc\n",
            "  craid/misc/OddFactions.py\n",
            "  craid/misc/__pycache__/OddFactions.cpython-36.pyc\n"
          ],
          "name": "stdout"
        }
      ]
    },
    {
      "cell_type": "code",
      "metadata": {
        "id": "rJiWKk35uoHq",
        "colab_type": "code",
        "colab": {}
      },
      "source": [
        ""
      ],
      "execution_count": 0,
      "outputs": []
    },
    {
      "cell_type": "code",
      "metadata": {
        "id": "jALfWE-cugIv",
        "colab_type": "code",
        "colab": {}
      },
      "source": [
        ""
      ],
      "execution_count": 0,
      "outputs": []
    },
    {
      "cell_type": "code",
      "metadata": {
        "id": "syJRnOoit4gI",
        "colab_type": "code",
        "colab": {
          "base_uri": "https://localhost:8080/",
          "height": 102
        },
        "outputId": "73c55507-e649-4b7e-dc96-52a6e9d6e914"
      },
      "source": [
        "!pip --files craid"
      ],
      "execution_count": 8,
      "outputs": [
        {
          "output_type": "stream",
          "text": [
            "\n",
            "Usage:   \n",
            "  pip3 <command> [options]\n",
            "\n",
            "no such option: --files\n"
          ],
          "name": "stdout"
        }
      ]
    },
    {
      "cell_type": "code",
      "metadata": {
        "id": "Ya4qFzO7uEoM",
        "colab_type": "code",
        "colab": {}
      },
      "source": [
        ""
      ],
      "execution_count": 0,
      "outputs": []
    },
    {
      "cell_type": "code",
      "metadata": {
        "id": "B1HTJrg-t1ke",
        "colab_type": "code",
        "colab": {}
      },
      "source": [
        "import craid.dashbd.text"
      ],
      "execution_count": 0,
      "outputs": []
    },
    {
      "cell_type": "code",
      "metadata": {
        "id": "rf6zGcFW2H9X",
        "colab_type": "code",
        "colab": {}
      },
      "source": [
        ""
      ],
      "execution_count": 0,
      "outputs": []
    }
  ]
}