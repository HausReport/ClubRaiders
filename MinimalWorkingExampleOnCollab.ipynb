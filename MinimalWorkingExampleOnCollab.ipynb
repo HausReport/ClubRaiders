{
  "nbformat": 4,
  "nbformat_minor": 0,
  "metadata": {
    "colab": {
      "name": "Untitled6.ipynb",
      "provenance": [],
      "authorship_tag": "ABX9TyNW0j0acOv5kyk8faq0HL6p",
      "include_colab_link": true
    },
    "kernelspec": {
      "name": "python3",
      "display_name": "Python 3"
    }
  },
  "cells": [
    {
      "cell_type": "markdown",
      "metadata": {
        "id": "view-in-github",
        "colab_type": "text"
      },
      "source": [
        "<a href=\"https://colab.research.google.com/github/HausReport/ClubRaiders/blob/master/MinimalWorkingExampleOnCollab.ipynb\" target=\"_parent\"><img src=\"https://colab.research.google.com/assets/colab-badge.svg\" alt=\"Open In Colab\"/></a>"
      ]
    },
    {
      "cell_type": "code",
      "metadata": {
        "id": "jdHV2ZR4LvXV",
        "colab_type": "code",
        "outputId": "55758e58-0035-445e-920f-f2d0c1f19a49",
        "colab": {
          "base_uri": "https://localhost:8080/",
          "height": 1000
        }
      },
      "source": [
        "import sys\n",
        "\n",
        "!{sys.executable} -m pip install --force-reinstall --upgrade \"git+https://github.com/HausReport/ClubRaiders.git#egg=craid\""
      ],
      "execution_count": 16,
      "outputs": [
        {
          "output_type": "stream",
          "text": [
            "Collecting craid\n",
            "  Cloning https://github.com/HausReport/ClubRaiders.git to /tmp/pip-install-n1u49u1n/craid\n",
            "  Running command git clone -q https://github.com/HausReport/ClubRaiders.git /tmp/pip-install-n1u49u1n/craid\n",
            "Processing /root/.cache/pip/wheels/2e/bc/dd/b4ebecb434c90eff7c5475efc10b72aad5a899c01fa87e2647/dash-1.12.0-cp36-none-any.whl\n",
            "Processing /root/.cache/pip/wheels/61/5c/e3/0958785022517a2e5934e7b5167a8f824f79c96a5e440bd622/dash_core_components-1.10.0-cp36-none-any.whl\n",
            "Processing /root/.cache/pip/wheels/22/c0/79/ef4c2b20a23dc8457ae75c3da5f63163db213d86e13e00fe26/dash_html_components-1.0.3-cp36-none-any.whl\n",
            "Processing /root/.cache/pip/wheels/de/59/d5/9da253860a20edebff16497d01b703d2a8db97130c5bd86fbf/dash_table-4.7.0-cp36-none-any.whl\n",
            "Processing /root/.cache/pip/wheels/be/9e/83/c6531c3fdd6dba27156e7196c273148d850c97bda396fec7d0/dash_renderer-1.4.1-cp36-none-any.whl\n",
            "Collecting flask\n",
            "  Using cached https://files.pythonhosted.org/packages/f2/28/2a03252dfb9ebf377f40fba6a7841b47083260bf8bd8e737b0c6952df83f/Flask-1.1.2-py2.py3-none-any.whl\n",
            "Collecting pandas\n",
            "  Using cached https://files.pythonhosted.org/packages/8e/86/c14387d6813ebadb7bf61b9ad270ffff111c8b587e4d266e07de774e385e/pandas-1.0.4-cp36-cp36m-manylinux1_x86_64.whl\n",
            "Collecting requests\n",
            "  Using cached https://files.pythonhosted.org/packages/1a/70/1935c770cb3be6e3a8b78ced23d7e0f3b187f5cbfab4749523ed65d7c9b1/requests-2.23.0-py2.py3-none-any.whl\n",
            "Collecting setuptools\n",
            "  Using cached https://files.pythonhosted.org/packages/95/95/f657b6e17f00c3f35b5f68b10e46c3a43af353d8856bd57bfcfb1dbb3e92/setuptools-47.1.1-py3-none-any.whl\n",
            "Collecting numpy\n",
            "  Using cached https://files.pythonhosted.org/packages/b3/a9/b1bc4c935ed063766bce7d3e8c7b20bd52e515ff1c732b02caacf7918e5a/numpy-1.18.5-cp36-cp36m-manylinux1_x86_64.whl\n",
            "Collecting python-dateutil\n",
            "  Using cached https://files.pythonhosted.org/packages/d4/70/d60450c3dd48ef87586924207ae8907090de0b306af2bce5d134d78615cb/python_dateutil-2.8.1-py2.py3-none-any.whl\n",
            "Collecting ujson\n",
            "  Using cached https://files.pythonhosted.org/packages/12/0a/35e07ebe48f0c2a23c316d92c2e26eade75e00a3df0758be57e7804bfbf0/ujson-3.0.0-cp36-cp36m-manylinux1_x86_64.whl\n",
            "Collecting json-lines\n",
            "  Using cached https://files.pythonhosted.org/packages/7f/0f/79c96c0d26b276c583484fe8209e5ebbb416a920309568650325f6e1de73/json_lines-0.5.0-py2.py3-none-any.whl\n",
            "Collecting urllib3\n",
            "  Using cached https://files.pythonhosted.org/packages/e1/e5/df302e8017440f111c11cc41a6b432838672f5a70aa29227bf58149dc72f/urllib3-1.25.9-py2.py3-none-any.whl\n",
            "Processing /root/.cache/pip/wheels/d7/69/b4/3200b95828d1f0ddb3cb5699083717f4fdbd9b4223d0644c57/psutil-5.7.0-cp36-cp36m-linux_x86_64.whl\n",
            "Processing /root/.cache/pip/wheels/8b/99/a0/81daf51dcd359a9377b110a8a886b3895921802d2fc1b2397e/future-0.18.2-cp36-none-any.whl\n",
            "Collecting plotly\n",
            "  Using cached https://files.pythonhosted.org/packages/70/56/eabdc7b7187cdb9d6121f6de2831ad5b85f7d002fa4bfe0476dbdb554bf6/plotly-4.8.1-py2.py3-none-any.whl\n",
            "Processing /root/.cache/pip/wheels/f7/e9/e4/5afc286be7c87461375e33152558415dfeb0c8f5af3b50e742/Flask_Compress-1.5.0-cp36-none-any.whl\n",
            "Collecting click>=5.1\n",
            "  Using cached https://files.pythonhosted.org/packages/d2/3d/fa76db83bf75c4f8d338c2fd15c8d33fdd7ad23a9b5e57eb6c5de26b430e/click-7.1.2-py2.py3-none-any.whl\n",
            "Collecting Werkzeug>=0.15\n",
            "  Using cached https://files.pythonhosted.org/packages/cc/94/5f7079a0e00bd6863ef8f1da638721e9da21e5bacee597595b318f71d62e/Werkzeug-1.0.1-py2.py3-none-any.whl\n",
            "Collecting itsdangerous>=0.24\n",
            "  Using cached https://files.pythonhosted.org/packages/76/ae/44b03b253d6fade317f32c24d100b3b35c2239807046a4c953c7b89fa49e/itsdangerous-1.1.0-py2.py3-none-any.whl\n",
            "Collecting Jinja2>=2.10.1\n",
            "  Using cached https://files.pythonhosted.org/packages/30/9e/f663a2aa66a09d838042ae1a2c5659828bb9b41ea3a6efa20a20fd92b121/Jinja2-2.11.2-py2.py3-none-any.whl\n",
            "Collecting pytz>=2017.2\n",
            "  Using cached https://files.pythonhosted.org/packages/4f/a4/879454d49688e2fad93e59d7d4efda580b783c745fd2ec2a3adf87b0808d/pytz-2020.1-py2.py3-none-any.whl\n",
            "Collecting idna<3,>=2.5\n",
            "  Using cached https://files.pythonhosted.org/packages/89/e3/afebe61c546d18fb1709a61bee788254b40e736cff7271c7de5de2dc4128/idna-2.9-py2.py3-none-any.whl\n",
            "Collecting certifi>=2017.4.17\n",
            "  Using cached https://files.pythonhosted.org/packages/57/2b/26e37a4b034800c960a00c4e1b3d9ca5d7014e983e6e729e33ea2f36426c/certifi-2020.4.5.1-py2.py3-none-any.whl\n",
            "Collecting chardet<4,>=3.0.2\n",
            "  Using cached https://files.pythonhosted.org/packages/bc/a9/01ffebfb562e4274b6487b4bb1ddec7ca55ec7510b22e4c51f14098443b8/chardet-3.0.4-py2.py3-none-any.whl\n",
            "Collecting six>=1.5\n",
            "  Using cached https://files.pythonhosted.org/packages/ee/ff/48bde5c0f013094d729fe4b0316ba2a24774b3ff1c52d924a8a4cb04078a/six-1.15.0-py2.py3-none-any.whl\n",
            "Processing /root/.cache/pip/wheels/d7/a9/33/acc7b709e2a35caa7d4cae442f6fe6fbf2c43f80823d46460c/retrying-1.3.3-cp36-none-any.whl\n",
            "Collecting brotli\n",
            "  Using cached https://files.pythonhosted.org/packages/f4/68/60a220454dc5083c6d59b41aa90bb1c96fad62a0abf3a33e0ef64b38638a/Brotli-1.0.7-cp36-cp36m-manylinux1_x86_64.whl\n",
            "Collecting MarkupSafe>=0.23\n",
            "  Using cached https://files.pythonhosted.org/packages/b2/5f/23e0023be6bb885d00ffbefad2942bc51a620328ee910f64abe5a8d18dd1/MarkupSafe-1.1.1-cp36-cp36m-manylinux1_x86_64.whl\n",
            "Building wheels for collected packages: craid\n",
            "  Building wheel for craid (setup.py) ... \u001b[?25l\u001b[?25hdone\n",
            "  Created wheel for craid: filename=craid-0.76-cp36-none-any.whl size=301572 sha256=03abf5e1eca66ad16ce8485e629ba3b52b9f45ddf815112935e8b713cd7b8644\n",
            "  Stored in directory: /tmp/pip-ephem-wheel-cache-3232vaff/wheels/59/74/32/b75ca6dbfddc83071fd4a4a492a26c1066d06840be16c7d535\n",
            "Successfully built craid\n",
            "\u001b[31mERROR: kaggle 1.5.6 has requirement urllib3<1.25,>=1.21.1, but you'll have urllib3 1.25.9 which is incompatible.\u001b[0m\n",
            "\u001b[31mERROR: google-colab 1.0.0 has requirement six~=1.12.0, but you'll have six 1.15.0 which is incompatible.\u001b[0m\n",
            "\u001b[31mERROR: datascience 0.10.6 has requirement folium==0.2.1, but you'll have folium 0.8.3 which is incompatible.\u001b[0m\n",
            "\u001b[31mERROR: albumentations 0.1.12 has requirement imgaug<0.2.7,>=0.2.5, but you'll have imgaug 0.2.9 which is incompatible.\u001b[0m\n",
            "Installing collected packages: future, dash-table, six, retrying, plotly, dash-core-components, dash-html-components, dash-renderer, click, Werkzeug, itsdangerous, MarkupSafe, Jinja2, flask, brotli, flask-compress, dash, pytz, python-dateutil, numpy, pandas, urllib3, idna, certifi, chardet, requests, setuptools, ujson, json-lines, psutil, craid\n",
            "  Found existing installation: future 0.18.2\n",
            "    Uninstalling future-0.18.2:\n",
            "      Successfully uninstalled future-0.18.2\n",
            "  Found existing installation: dash-table 4.7.0\n",
            "    Uninstalling dash-table-4.7.0:\n",
            "      Successfully uninstalled dash-table-4.7.0\n",
            "  Found existing installation: six 1.15.0\n",
            "    Uninstalling six-1.15.0:\n",
            "      Successfully uninstalled six-1.15.0\n",
            "  Found existing installation: retrying 1.3.3\n",
            "    Uninstalling retrying-1.3.3:\n",
            "      Successfully uninstalled retrying-1.3.3\n",
            "  Found existing installation: plotly 4.8.1\n",
            "    Uninstalling plotly-4.8.1:\n",
            "      Successfully uninstalled plotly-4.8.1\n",
            "  Found existing installation: dash-core-components 1.10.0\n",
            "    Uninstalling dash-core-components-1.10.0:\n",
            "      Successfully uninstalled dash-core-components-1.10.0\n",
            "  Found existing installation: dash-html-components 1.0.3\n",
            "    Uninstalling dash-html-components-1.0.3:\n",
            "      Successfully uninstalled dash-html-components-1.0.3\n",
            "  Found existing installation: dash-renderer 1.4.1\n",
            "    Uninstalling dash-renderer-1.4.1:\n",
            "      Successfully uninstalled dash-renderer-1.4.1\n",
            "  Found existing installation: click 7.1.2\n",
            "    Uninstalling click-7.1.2:\n",
            "      Successfully uninstalled click-7.1.2\n",
            "  Found existing installation: Werkzeug 1.0.1\n",
            "    Uninstalling Werkzeug-1.0.1:\n",
            "      Successfully uninstalled Werkzeug-1.0.1\n",
            "  Found existing installation: itsdangerous 1.1.0\n",
            "    Uninstalling itsdangerous-1.1.0:\n",
            "      Successfully uninstalled itsdangerous-1.1.0\n",
            "  Found existing installation: MarkupSafe 1.1.1\n",
            "    Uninstalling MarkupSafe-1.1.1:\n",
            "      Successfully uninstalled MarkupSafe-1.1.1\n",
            "  Found existing installation: Jinja2 2.11.2\n",
            "    Uninstalling Jinja2-2.11.2:\n",
            "      Successfully uninstalled Jinja2-2.11.2\n",
            "  Found existing installation: Flask 1.1.2\n",
            "    Uninstalling Flask-1.1.2:\n",
            "      Successfully uninstalled Flask-1.1.2\n",
            "  Found existing installation: Brotli 1.0.7\n",
            "    Uninstalling Brotli-1.0.7:\n",
            "      Successfully uninstalled Brotli-1.0.7\n",
            "  Found existing installation: Flask-Compress 1.5.0\n",
            "    Uninstalling Flask-Compress-1.5.0:\n",
            "      Successfully uninstalled Flask-Compress-1.5.0\n",
            "  Found existing installation: dash 1.12.0\n",
            "    Uninstalling dash-1.12.0:\n",
            "      Successfully uninstalled dash-1.12.0\n",
            "  Found existing installation: pytz 2020.1\n",
            "    Uninstalling pytz-2020.1:\n",
            "      Successfully uninstalled pytz-2020.1\n",
            "  Found existing installation: python-dateutil 2.8.1\n",
            "    Uninstalling python-dateutil-2.8.1:\n",
            "      Successfully uninstalled python-dateutil-2.8.1\n",
            "  Found existing installation: numpy 1.18.5\n",
            "    Uninstalling numpy-1.18.5:\n",
            "      Successfully uninstalled numpy-1.18.5\n",
            "  Found existing installation: pandas 1.0.4\n",
            "    Uninstalling pandas-1.0.4:\n",
            "      Successfully uninstalled pandas-1.0.4\n",
            "  Found existing installation: urllib3 1.25.9\n",
            "    Uninstalling urllib3-1.25.9:\n",
            "      Successfully uninstalled urllib3-1.25.9\n",
            "  Found existing installation: idna 2.9\n",
            "    Uninstalling idna-2.9:\n",
            "      Successfully uninstalled idna-2.9\n",
            "  Found existing installation: certifi 2020.4.5.1\n",
            "    Uninstalling certifi-2020.4.5.1:\n",
            "      Successfully uninstalled certifi-2020.4.5.1\n",
            "  Found existing installation: chardet 3.0.4\n",
            "    Uninstalling chardet-3.0.4:\n",
            "      Successfully uninstalled chardet-3.0.4\n",
            "  Found existing installation: requests 2.23.0\n",
            "    Uninstalling requests-2.23.0:\n",
            "      Successfully uninstalled requests-2.23.0\n",
            "  Found existing installation: setuptools 47.1.1\n",
            "    Uninstalling setuptools-47.1.1:\n",
            "      Successfully uninstalled setuptools-47.1.1\n",
            "  Found existing installation: ujson 3.0.0\n",
            "    Uninstalling ujson-3.0.0:\n",
            "      Successfully uninstalled ujson-3.0.0\n",
            "  Found existing installation: json-lines 0.5.0\n",
            "    Uninstalling json-lines-0.5.0:\n",
            "      Successfully uninstalled json-lines-0.5.0\n",
            "  Found existing installation: psutil 5.7.0\n",
            "    Uninstalling psutil-5.7.0:\n",
            "      Successfully uninstalled psutil-5.7.0\n",
            "  Found existing installation: craid 0.76\n",
            "    Uninstalling craid-0.76:\n",
            "      Successfully uninstalled craid-0.76\n",
            "Successfully installed Jinja2-2.11.2 MarkupSafe-1.1.1 Werkzeug-1.0.1 brotli-1.0.7 certifi-2020.4.5.1 chardet-3.0.4 click-7.1.2 craid-0.76 dash-1.12.0 dash-core-components-1.10.0 dash-html-components-1.0.3 dash-renderer-1.4.1 dash-table-4.7.0 flask-1.1.2 flask-compress-1.5.0 future-0.18.2 idna-2.9 itsdangerous-1.1.0 json-lines-0.5.0 numpy-1.18.5 pandas-1.0.4 plotly-4.8.1 psutil-5.7.0 python-dateutil-2.8.1 pytz-2020.1 requests-2.23.0 retrying-1.3.3 setuptools-47.1.1 six-1.15.0 ujson-3.0.0 urllib3-1.25.9\n"
          ],
          "name": "stdout"
        }
      ]
    },
    {
      "cell_type": "code",
      "metadata": {
        "id": "-hEAlTvDQzrk",
        "colab_type": "code",
        "outputId": "3c0e6cc5-f6dc-4318-a742-24320c34f6a4",
        "colab": {
          "base_uri": "https://localhost:8080/",
          "height": 918
        }
      },
      "source": [
        "import craid.eddb.loader.DataProducer as dp\n",
        "import pandas as pd\n",
        "import logging\n",
        "\n",
        "logging.getLogger().addHandler(logging.StreamHandler())\n",
        "logging.getLogger().level = logging.DEBUG\n",
        "\n",
        "arrays = dp.getDataArrays()\n",
        "df: pd.DataFrame = arrays['dataFrame']\n"
      ],
      "execution_count": 17,
      "outputs": [
        {
          "output_type": "stream",
          "text": [
            "Found data file: /tmp/smol-factions.jsonl.gz\n",
            "Found data file: /tmp/smol-factions.jsonl.gz\n",
            "Found data file: /tmp/smol-factions.jsonl.gz\n",
            "Found data file: /tmp/smol-factions.jsonl.gz\n",
            "Read 669 lines of faction data\n",
            "Read 669 lines of faction data\n",
            "Read 669 lines of faction data\n",
            "Read 669 lines of faction data\n",
            "Found data file: /tmp/smol-systems_populated.jsonl.gz\n",
            "Found data file: /tmp/smol-systems_populated.jsonl.gz\n",
            "Found data file: /tmp/smol-systems_populated.jsonl.gz\n",
            "Found data file: /tmp/smol-systems_populated.jsonl.gz\n",
            "Read 175 lines of systems data\n",
            "Read 175 lines of systems data\n",
            "Read 175 lines of systems data\n",
            "Read 175 lines of systems data\n",
            "Populated club system keys\n"
          ],
          "name": "stderr"
        },
        {
          "output_type": "stream",
          "text": [
            "0:177,807,360\n",
            "0.5:177,819,648\n",
            "1:178,294,784\n"
          ],
          "name": "stdout"
        },
        {
          "output_type": "stream",
          "text": [
            "Populated club system keys\n",
            "Populated club system keys\n",
            "Populated club system keys\n",
            "Club system lookup set has {175} items\n",
            "Club system lookup set has {175} items\n",
            "Club system lookup set has {175} items\n",
            "Club system lookup set has {175} items\n",
            "Populated faction instances: {1070} items.\n",
            "Populated faction instances: {1070} items.\n",
            "Populated faction instances: {1070} items.\n",
            "Populated faction instances: {1070} items.\n",
            "Found data file: /tmp/smol-stations.jsonl.gz\n",
            "Found data file: /tmp/smol-stations.jsonl.gz\n",
            "Found data file: /tmp/smol-stations.jsonl.gz\n",
            "Found data file: /tmp/smol-stations.jsonl.gz\n",
            "Read 511 lines of station data, adding 511\n",
            "\n",
            "Read 511 lines of station data, adding 511\n",
            "\n",
            "Read 511 lines of station data, adding 511\n",
            "\n",
            "Read 511 lines of station data, adding 511\n",
            "\n",
            "station controlling faction nexistThunderhead Garrison\n",
            "station controlling faction nexistThunderhead Garrison\n",
            "station controlling faction nexistThunderhead Garrison\n",
            "station controlling faction nexistThunderhead Garrison\n",
            "station controlling faction nexistThunderhead Garrison\n",
            "station controlling faction nexistThunderhead Garrison\n",
            "station controlling faction nexistThunderhead Garrison\n",
            "station controlling faction nexistThunderhead Garrison\n"
          ],
          "name": "stderr"
        },
        {
          "output_type": "stream",
          "text": [
            "2:178,331,648\n",
            "3:178,339,840\n"
          ],
          "name": "stdout"
        }
      ]
    },
    {
      "cell_type": "code",
      "metadata": {
        "id": "ik19yJNN-dzM",
        "colab_type": "code",
        "colab": {}
      },
      "source": [
        "import plotly.graph_objs as go"
      ],
      "execution_count": 0,
      "outputs": []
    },
    {
      "cell_type": "code",
      "metadata": {
        "id": "JNfXDokXugKq",
        "colab_type": "code",
        "colab": {}
      },
      "source": [
        "df.loc[df['control'] == True, 'marker_size'] = 8\n",
        "df.loc[df['control'] == False, 'marker_size'] = 3\n",
        "df.loc[df['isHomeSystem'] == True, 'marker_size'] = 15\n",
        "df.loc[df['control'] == True, 'color'] = \"#00ff00\"\n",
        "df.loc[df['control'] == False, 'color'] = \"#ffff00\"\n",
        "df.loc[df['isHomeSystem'] == True, 'color'] = \"#ff0000\""
      ],
      "execution_count": 0,
      "outputs": []
    },
    {
      "cell_type": "code",
      "metadata": {
        "id": "1WO3wwLmq3U9",
        "colab_type": "code",
        "outputId": "775b2d79-5641-4520-9f32-2d0f299b68e2",
        "colab": {
          "base_uri": "https://localhost:8080/",
          "height": 542
        }
      },
      "source": [
        "trace = go.Scatter3d(x =df['x'], y =df['z'], z =df['y'], text = df['systemName'],mode = 'markers',\n",
        "                      marker=dict(size=df[\"marker_size\"], color=df[\"color\"]))\n",
        "layout = go.Layout(title = 'Home, Control, and Non-Control Systems')\n",
        "fig = go.Figure(data = [trace], layout = layout)\n",
        "fig"
      ],
      "execution_count": 64,
      "outputs": [
        {
          "output_type": "display_data",
          "data": {
            "text/html": [
              "<html>\n",
              "<head><meta charset=\"utf-8\" /></head>\n",
              "<body>\n",
              "    <div>\n",
              "            <script src=\"https://cdnjs.cloudflare.com/ajax/libs/mathjax/2.7.5/MathJax.js?config=TeX-AMS-MML_SVG\"></script><script type=\"text/javascript\">if (window.MathJax) {MathJax.Hub.Config({SVG: {font: \"STIX-Web\"}});}</script>\n",
              "                <script type=\"text/javascript\">window.PlotlyConfig = {MathJaxConfig: 'local'};</script>\n",
              "        <script src=\"https://cdn.plot.ly/plotly-latest.min.js\"></script>    \n",
              "            <div id=\"766112d3-76d5-4dfe-bfc4-1e1e6c4870d4\" class=\"plotly-graph-div\" style=\"height:525px; width:100%;\"></div>\n",
              "            <script type=\"text/javascript\">\n",
              "                \n",
              "                    window.PLOTLYENV=window.PLOTLYENV || {};\n",
              "                    \n",
              "                if (document.getElementById(\"766112d3-76d5-4dfe-bfc4-1e1e6c4870d4\")) {\n",
              "                    Plotly.newPlot(\n",
              "                        '766112d3-76d5-4dfe-bfc4-1e1e6c4870d4',\n",
              "                        [{\"marker\": {\"color\": [\"#ff0000\", \"#00ff00\", \"#ffff00\", \"#ff0000\", \"#ffff00\", \"#00ff00\", \"#ffff00\", \"#ffff00\", \"#ff0000\", \"#ffff00\", \"#ffff00\", \"#ffff00\", \"#ffff00\", \"#ffff00\", \"#ffff00\", \"#ffff00\", \"#ffff00\", \"#00ff00\", \"#ff0000\", \"#ffff00\", \"#00ff00\", \"#ffff00\", \"#ffff00\", \"#ffff00\", \"#ff0000\", \"#ffff00\", \"#ffff00\", \"#ffff00\", \"#ffff00\", \"#ffff00\", \"#ffff00\", \"#ffff00\", \"#ffff00\", \"#ffff00\", \"#ffff00\", \"#ffff00\", \"#ffff00\", \"#ffff00\", \"#ffff00\", \"#ff0000\", \"#ff0000\", \"#ffff00\", \"#ffff00\", \"#ffff00\", \"#ffff00\", \"#ffff00\", \"#ffff00\", \"#ffff00\", \"#ff0000\", \"#ff0000\", \"#ffff00\", \"#00ff00\", \"#ffff00\", \"#ffff00\", \"#ffff00\", \"#ffff00\", \"#00ff00\", \"#ff0000\", \"#00ff00\", \"#00ff00\", \"#ffff00\", \"#ffff00\", \"#00ff00\", \"#ffff00\", \"#ffff00\", \"#ffff00\", \"#ffff00\", \"#00ff00\", \"#00ff00\", \"#00ff00\", \"#00ff00\", \"#ffff00\", \"#ffff00\", \"#ffff00\", \"#ffff00\", \"#ffff00\", \"#ffff00\", \"#ffff00\", \"#ff0000\", \"#ff0000\", \"#00ff00\", \"#ffff00\", \"#ffff00\", \"#ffff00\", \"#ffff00\", \"#ff0000\", \"#ffff00\", \"#ffff00\", \"#ffff00\", \"#ffff00\", \"#ff0000\", \"#ffff00\", \"#ff0000\", \"#00ff00\", \"#ffff00\", \"#ff0000\", \"#00ff00\", \"#ff0000\", \"#ffff00\", \"#ffff00\", \"#ffff00\", \"#ff0000\", \"#ff0000\", \"#ffff00\", \"#ffff00\", \"#ff0000\", \"#ffff00\", \"#00ff00\", \"#ffff00\", \"#ffff00\", \"#ffff00\", \"#00ff00\", \"#00ff00\", \"#ff0000\", \"#ffff00\", \"#ffff00\", \"#ffff00\", \"#ffff00\", \"#ffff00\", \"#ffff00\", \"#ffff00\", \"#ffff00\", \"#ffff00\", \"#00ff00\", \"#ff0000\", \"#ffff00\", \"#ffff00\", \"#ffff00\", \"#ffff00\", \"#ffff00\", \"#ffff00\", \"#ffff00\", \"#ffff00\", \"#ffff00\", \"#ffff00\", \"#ffff00\", \"#ffff00\", \"#ff0000\", \"#00ff00\", \"#ffff00\", \"#ffff00\", \"#ffff00\", \"#ffff00\", \"#00ff00\", \"#00ff00\", \"#00ff00\", \"#ffff00\", \"#ffff00\", \"#ffff00\", \"#ffff00\", \"#ffff00\", \"#ffff00\", \"#ffff00\", \"#ffff00\", \"#ffff00\", \"#ff0000\", \"#00ff00\", \"#00ff00\", \"#ff0000\", \"#ffff00\", \"#ffff00\", \"#ffff00\", \"#ff0000\", \"#ff0000\", \"#ffff00\", \"#00ff00\", \"#ffff00\", \"#ffff00\", \"#ffff00\", \"#ffff00\", \"#00ff00\", \"#ffff00\", \"#ffff00\", \"#ffff00\", \"#ffff00\", \"#ffff00\", \"#00ff00\", \"#ffff00\", \"#ffff00\", \"#00ff00\", \"#ffff00\", \"#ffff00\", \"#ffff00\", \"#ffff00\", \"#00ff00\", \"#ffff00\", \"#ffff00\"], \"size\": [15.0, 8.0, 3.0, 15.0, 3.0, 8.0, 3.0, 3.0, 15.0, 3.0, 3.0, 3.0, 3.0, 3.0, 3.0, 3.0, 3.0, 8.0, 15.0, 3.0, 8.0, 3.0, 3.0, 3.0, 15.0, 3.0, 3.0, 3.0, 3.0, 3.0, 3.0, 3.0, 3.0, 3.0, 3.0, 3.0, 3.0, 3.0, 3.0, 15.0, 15.0, 3.0, 3.0, 3.0, 3.0, 3.0, 3.0, 3.0, 15.0, 15.0, 3.0, 8.0, 3.0, 3.0, 3.0, 3.0, 8.0, 15.0, 8.0, 8.0, 3.0, 3.0, 8.0, 3.0, 3.0, 3.0, 3.0, 8.0, 8.0, 8.0, 8.0, 3.0, 3.0, 3.0, 3.0, 3.0, 3.0, 3.0, 15.0, 15.0, 8.0, 3.0, 3.0, 3.0, 3.0, 15.0, 3.0, 3.0, 3.0, 3.0, 15.0, 3.0, 15.0, 8.0, 3.0, 15.0, 8.0, 15.0, 3.0, 3.0, 3.0, 15.0, 15.0, 3.0, 3.0, 15.0, 3.0, 8.0, 3.0, 3.0, 3.0, 8.0, 8.0, 15.0, 3.0, 3.0, 3.0, 3.0, 3.0, 3.0, 3.0, 3.0, 3.0, 8.0, 15.0, 3.0, 3.0, 3.0, 3.0, 3.0, 3.0, 3.0, 3.0, 3.0, 3.0, 3.0, 3.0, 15.0, 8.0, 3.0, 3.0, 3.0, 3.0, 8.0, 8.0, 8.0, 3.0, 3.0, 3.0, 3.0, 3.0, 3.0, 3.0, 3.0, 3.0, 15.0, 8.0, 8.0, 15.0, 3.0, 3.0, 3.0, 15.0, 15.0, 3.0, 8.0, 3.0, 3.0, 3.0, 3.0, 8.0, 3.0, 3.0, 3.0, 3.0, 3.0, 8.0, 3.0, 3.0, 8.0, 3.0, 3.0, 3.0, 3.0, 8.0, 3.0, 3.0]}, \"mode\": \"markers\", \"text\": [\"64 Ceti\", \"Abroin\", \"Akandi\", \"Alioth\", \"Alioth\", \"Amalangkan\", \"Anandariti\", \"Aoniken\", \"Aurus\", \"Auserine\", \"Avik\", \"Baiame\", \"BD+33 801\", \"Caelottixa\", \"Carunda\", \"Certo\", \"Chicoana\", \"Chuelchs\", \"Cofan\", \"Corn Pin\", \"Daik\", \"Delkar\", \"Dhathaarib\", \"Dyavata\", \"Ega\", \"Eta Scorpii\", \"Guan Gong\", \"Helgaedi\", \"Hemaki\", \"HIP 47050\", \"HIP 47156\", \"HIP 51487\", \"HIP 66267\", \"HIP 67109\", \"HIP 68796\", \"HIP 69767\", \"HIP 70255\", \"HIP 78267\", \"HIP 80242\", \"Hodack\", \"Holler\", \"Honoto\", \"HR 3714\", \"HR 5975\", \"Hun Chonses\", \"Hun Hsinas\", \"Ipilyak\", \"Kamcab\", \"Karitis\", \"Kikapu\", \"Kipsigines\", \"Kokokomi\", \"Komovoy\", \"Kweleutahe\", \"Lambda Arae\", \"Lapannodaya\", \"LAWD 26\", \"Leesti\", \"LHS 1951\", \"LHS 2065\", \"LHS 2477\", \"LHS 2887\", \"LHS 380\", \"Li Bestina\", \"LPM 607\", \"LTT 4835\", \"LTT 7370\", \"Lu Yupik\", \"Luhman 16\", \"Luyten 674-15\", \"Luyten's Star\", \"Madrus\", \"Mang\", \"Mantobices\", \"Mildeptu\", \"Miller\", \"Minarii\", \"Minu\", \"Mongan\", \"Mons\", \"Mooramba\", \"Mundindja\", \"Nagasairu\", \"Namarii\", \"Nanangolans\", \"Ngalia\", \"Oguninksmii\", \"Ondumbo\", \"Panopi\", \"Parhaiya\", \"Parthians\", \"Pemoeri\", \"Phanes\", \"Procyon\", \"Quan Gurus\", \"Raurt\", \"Ross 446\", \"Ross 591\", \"RR Caeli\", \"Serrot\", \"Shatkwaka\", \"Sirius\", \"Socho\", \"Sol\", \"Solati\", \"Song Ku\", \"Superty\", \"Surmati\", \"Swazahua\", \"Trica\", \"Vito\", \"Vucub Huan\", \"Wille\", \"Xi Shan\", \"Asterope\", \"Atlas\", \"Celaeno\", \"Celaeno\", \"Electra\", \"Electra\", \"HIP 17497\", \"HIP 17497\", \"HIP 17692\", \"HR 1172\", \"Merope\", \"Pleione\", \"Pleione\", \"Taygeta\", \"Taygeta\", \"Pleiades Sector DL-Y d65\", \"Pleiades Sector DL-Y d65\", \"Pleiades Sector HR-W d1-41\", \"Pleiades Sector HR-W d1-57\", \"Pleiades Sector HR-W d1-74\", \"Pleiades Sector HR-W d1-74\", \"Pleiades Sector KC-V c2-11\", \"Pleiades Sector KC-V c2-11\", \"Exphiay\", \"Robigo\", \"HR 1183\", \"HR 1183\", \"HR 1183\", \"Sothis\", \"Almagest\", \"Takurua\", \"HIP 8396\", \"Ceos\", \"Te Kaha\", \"HIP 17225\", \"HIP 17225\", \"HIP 17044\", \"HIP 17892\", \"Pleiades Sector IH-V c2-7\", \"HIP 16753\", \"Pleiades Sector GW-W c1-13\", \"California Sector BA-A e6\", \"HIP 18077\", \"Pleiades Sector HR-W d1-42\", \"HIP 51652\", \"Pleiades Sector PD-S b4-0\", \"Pleiades Sector PD-S b4-0\", \"Pleiades Sector IH-V c2-16\", \"CD-43 11917\", \"CD-43 11917\", \"Col 285 Sector WO-E b13-0\", \"Col 285 Sector BQ-N c7-21\", \"Col 285 Sector YZ-C b14-1\", \"HIP 17412\", \"HIP 72726\", \"Arietis Sector ON-T b3-4\", \"California Sector HR-W d1-28\", \"Synuefe YM-H d11-84\", \"HIP 17655\", \"Pleiades Sector JC-V d2-62\", \"HIP 51352\", \"Pleiades Sector KC-V c2-4\", \"California Sector JH-V c2-12\", \"Col 285 Sector EB-B b15-4\", \"California Sector BV-Y c7\", \"Synuefai EB-R c7-5\", \"Col 285 Sector UE-G c11-19\", \"Wolf 202\", \"33 Cygni\", \"Col 285 Sector BQ-N c7-13\", \"Mel 22 Sector GM-V c2-8\", \"Delphi\", \"Delphi\"], \"type\": \"scatter3d\", \"x\": [-37.0625, -94.53125, 62.03125, -33.65625, -33.65625, 66.3125, 153.6875, 128.625, -139.84375, 23.75, 13.96875, -95.96875, -31.3125, 6.75, -108.46875, 22.4375, -35.0, 70.15625, -33.71875, 7.9375, -69.0625, 67.8125, 68.53125, 24.78125, 31.75, 19.34375, 138.4375, 82.96875, -38.875, 149.5, 132.75, 31.875, -100.34375, -88.8125, -94.34375, -95.46875, -99.28125, 43.28125, 25.125, 60.28125, -93.3125, 75.65625, 136.84375, 41.15625, 9.125, 145.5625, 80.9375, 145.40625, -78.75, -29.0, 47.75, 28.03125, 70.03125, 18.09375, 21.03125, 77.125, 20.90625, 72.75, 17.875, 19.71875, 67.8125, -7.34375, 5.28125, 20.875, 23.1875, 73.75, 28.03125, 21.53125, 6.3125, 16.71875, 6.5625, -91.84375, 21.6875, 147.9375, 14.125, -90.125, 81.0625, 37.5625, -141.09375, 118.8125, -68.625, 140.75, 34.78125, 67.3125, 144.09375, -74.625, 80.0, -86.5, 65.5625, -91.125, -56.21875, 68.71875, 10.5, 6.21875, 11.28125, 148.25, 14.21875, -32.1875, 18.3125, 19.15625, 27.4375, 6.25, -72.4375, 0.0, 66.53125, -148.4375, 35.59375, 24.09375, -91.53125, 148.375, 153.5, 65.3125, 34.03125, 155.0, -80.15625, -76.71875, -81.09375, -81.09375, -86.0625, -86.0625, -79.125, -79.125, -74.125, -75.1875, -78.59375, -77.0, -77.0, -88.5, -88.5, -83.28125, -83.28125, -83.96875, -86.40625, -87.40625, -87.40625, -86.59375, -86.59375, 283.84375, -303.40625, -72.875, -72.875, -72.875, -352.78125, -274.65625, -253.8125, -226.5, -348.65625, -172.8125, -86.15625, -86.15625, -74.25, -70.75, -78.46875, -88.3125, -77.375, -319.8125, -303.84375, -70.1875, 27.1875, -80.625, -80.625, -92.0, 18.0, 18.0, 136.375, 149.5, 147.4375, -71.25, -103.71875, -77.90625, -329.53125, 277.3125, -83.40625, -82.1875, 28.03125, -88.8125, -314.34375, 143.0625, -342.3125, -291.59375, 120.3125, -70.15625, -155.75, 158.3125, -192.125, -63.59375, -63.59375], \"y\": [-79.125, -40.5, 38.875, -20.65625, -20.65625, 43.3125, -45.03125, -58.15625, -12.6875, 64.65625, -6.0, -46.6875, -107.875, 77.71875, -35.03125, 85.375, -110.5, 40.59375, 144.15625, 83.3125, -148.09375, 35.25, 45.46875, 116.53125, 114.09375, 70.78125, -41.125, 33.78125, -115.5, -69.8125, -35.21875, -91.9375, -55.3125, -42.5, -46.6875, -35.9375, -33.21875, 110.34375, 116.34375, 46.40625, 114.09375, 38.46875, -58.15625, 114.375, 80.46875, -46.9375, 30.15625, -26.8125, 69.40625, 137.84375, 41.375, 83.34375, 44.15625, 89.46875, 65.5, 32.75, 3.75, 68.25, -21.375, -15.84375, 26.9375, 5.71875, 10.875, 92.4375, 76.46875, 44.375, 58.21875, 4.25, 1.71875, -9.125, -10.25, 59.21875, 88.3125, -72.5625, -3.28125, -22.875, 39.125, -84.625, -1.3125, 125.9375, -149.125, -63.9375, 77.84375, -20.53125, -68.5625, -165.96875, 53.34375, -43.375, 38.875, -40.21875, 92.625, 41.03125, -47.34375, -9.1875, 90.28125, -37.4375, -6.53125, -111.375, -4.6875, 80.75, 75.4375, -5.75, -141.1875, 0.0, 34.6875, -5.40625, 80.90625, 76.5625, -40.09375, -63.46875, -43.03125, 52.25, 106.53125, -50.28125, -333.375, -344.4375, -337.09375, -337.09375, -361.65625, -361.65625, -349.125, -349.125, -328.78125, -346.59375, -340.53125, -344.125, -344.125, -366.28125, -366.28125, -347.1875, -347.1875, -334.21875, -301.84375, -344.96875, -344.96875, -339.28125, -339.28125, -38.9375, -314.15625, -336.96875, -336.96875, -336.96875, -346.34375, -271.34375, -254.1875, -193.5, -339.21875, -154.625, -356.8125, -356.8125, -283.15625, -352.84375, -324.9375, -348.84375, -352.03125, -913.46875, -860.59375, -343.84375, -82.34375, -337.4375, -337.4375, -341.3125, 78.125, 78.125, -66.1875, -54.625, -58.46875, -167.625, -38.5, -135.28125, -893.71875, -30.90625, -178.375, -260.59375, -99.40625, -321.1875, -890.34375, -43.0625, -952.71875, -731.09375, 127.34375, -140.21875, -3.53125, -42.03125, -471.65625, -319.09375, -319.09375], \"z\": [-100.0625, 110.09375, 10.75, 72.46875, 72.46875, 24.1875, 90.59375, 85.65625, -81.34375, -22.21875, -4.59375, 119.1875, -25.03125, 2.09375, 109.53125, -26.71875, -23.21875, 22.125, 19.34375, -4.71875, -22.375, 32.65625, 28.21875, 19.75, 17.5625, -3.6875, 60.8125, 26.25, -22.5625, 94.5625, 55.09375, 166.8125, 105.0625, 107.71875, 94.1875, 112.84375, 120.84375, 21.28125, 26.1875, 23.53125, -75.625, 11.4375, 65.34375, 22.0, -3.71875, 55.65625, 29.6875, 77.46875, 81.09375, -63.375, 30.3125, -22.09375, 30.53125, -5.28125, -12.5625, 27.09375, -7.5, 48.75, 6.625, 11.8125, 31.1875, 26.78125, 6.75, -13.34375, 8.0, 48.09375, -26.46875, -19.21875, 0.59375, 2.28125, 2.34375, 76.34375, -10.21875, 76.78125, 1.3125, 115.15625, 43.9375, 139.375, -72.625, -17.21875, -17.5, 75.8125, -8.375, -120.8125, 75.0, -35.03125, 47.84375, 117.3125, 31.0625, 98.53125, -89.09375, 32.75, 25.28125, 2.65625, -13.8125, 56.46875, 16.90625, -28.09375, -18.59375, -27.25, -1.5, -1.28125, -101.15625, 0.0, 29.1875, 28.5625, -12.6875, 1.5, 102.375, 63.78125, 72.09375, 35.03125, 11.21875, 84.625, -144.09375, -147.34375, -148.3125, -148.3125, -159.9375, -159.9375, -158.6875, -158.6875, -143.96875, -152.40625, -149.625, -146.78125, -146.78125, -159.6875, -159.6875, -151.40625, -151.40625, -146.15625, -125.15625, -150.90625, -150.90625, -147.03125, -147.03125, -128.25, 7.3125, -145.09375, -145.09375, -145.09375, 10.5, -10.8125, -4.0625, -12.46875, 13.875, 13.3125, -165.59375, -165.59375, -129.53125, -157.9375, -144.9375, -172.9375, -156.3125, -216.75, -236.125, -150.21875, 151.65625, -156.6875, -156.6875, -143.5, -10.5625, -10.5625, 73.03125, 84.59375, 76.21875, -41.59375, 101.65625, -94.375, -218.5, -125.0625, -32.90625, -100.9375, 175.0, -148.71875, -221.71875, 55.6875, -219.28125, -224.375, -19.25, -27.59375, 33.09375, 69.5, -194.96875, -147.40625, -147.40625]}],\n",
              "                        {\"template\": {\"data\": {\"bar\": [{\"error_x\": {\"color\": \"#2a3f5f\"}, \"error_y\": {\"color\": \"#2a3f5f\"}, \"marker\": {\"line\": {\"color\": \"#E5ECF6\", \"width\": 0.5}}, \"type\": \"bar\"}], \"barpolar\": [{\"marker\": {\"line\": {\"color\": \"#E5ECF6\", \"width\": 0.5}}, \"type\": \"barpolar\"}], \"carpet\": [{\"aaxis\": {\"endlinecolor\": \"#2a3f5f\", \"gridcolor\": \"white\", \"linecolor\": \"white\", \"minorgridcolor\": \"white\", \"startlinecolor\": \"#2a3f5f\"}, \"baxis\": {\"endlinecolor\": \"#2a3f5f\", \"gridcolor\": \"white\", \"linecolor\": \"white\", \"minorgridcolor\": \"white\", \"startlinecolor\": \"#2a3f5f\"}, \"type\": \"carpet\"}], \"choropleth\": [{\"colorbar\": {\"outlinewidth\": 0, \"ticks\": \"\"}, \"type\": \"choropleth\"}], \"contour\": [{\"colorbar\": {\"outlinewidth\": 0, \"ticks\": \"\"}, \"colorscale\": [[0.0, \"#0d0887\"], [0.1111111111111111, \"#46039f\"], [0.2222222222222222, \"#7201a8\"], [0.3333333333333333, \"#9c179e\"], [0.4444444444444444, \"#bd3786\"], [0.5555555555555556, \"#d8576b\"], [0.6666666666666666, \"#ed7953\"], [0.7777777777777778, \"#fb9f3a\"], [0.8888888888888888, \"#fdca26\"], [1.0, \"#f0f921\"]], \"type\": \"contour\"}], \"contourcarpet\": [{\"colorbar\": {\"outlinewidth\": 0, \"ticks\": \"\"}, \"type\": \"contourcarpet\"}], \"heatmap\": [{\"colorbar\": {\"outlinewidth\": 0, \"ticks\": \"\"}, \"colorscale\": [[0.0, \"#0d0887\"], [0.1111111111111111, \"#46039f\"], [0.2222222222222222, \"#7201a8\"], [0.3333333333333333, \"#9c179e\"], [0.4444444444444444, \"#bd3786\"], [0.5555555555555556, \"#d8576b\"], [0.6666666666666666, \"#ed7953\"], [0.7777777777777778, \"#fb9f3a\"], [0.8888888888888888, \"#fdca26\"], [1.0, \"#f0f921\"]], \"type\": \"heatmap\"}], \"heatmapgl\": [{\"colorbar\": {\"outlinewidth\": 0, \"ticks\": \"\"}, \"colorscale\": [[0.0, \"#0d0887\"], [0.1111111111111111, \"#46039f\"], [0.2222222222222222, \"#7201a8\"], [0.3333333333333333, \"#9c179e\"], [0.4444444444444444, \"#bd3786\"], [0.5555555555555556, \"#d8576b\"], [0.6666666666666666, \"#ed7953\"], [0.7777777777777778, \"#fb9f3a\"], [0.8888888888888888, \"#fdca26\"], [1.0, \"#f0f921\"]], \"type\": \"heatmapgl\"}], \"histogram\": [{\"marker\": {\"colorbar\": {\"outlinewidth\": 0, \"ticks\": \"\"}}, \"type\": \"histogram\"}], \"histogram2d\": [{\"colorbar\": {\"outlinewidth\": 0, \"ticks\": \"\"}, \"colorscale\": [[0.0, \"#0d0887\"], [0.1111111111111111, \"#46039f\"], [0.2222222222222222, \"#7201a8\"], [0.3333333333333333, \"#9c179e\"], [0.4444444444444444, \"#bd3786\"], [0.5555555555555556, \"#d8576b\"], [0.6666666666666666, \"#ed7953\"], [0.7777777777777778, \"#fb9f3a\"], [0.8888888888888888, \"#fdca26\"], [1.0, \"#f0f921\"]], \"type\": \"histogram2d\"}], \"histogram2dcontour\": [{\"colorbar\": {\"outlinewidth\": 0, \"ticks\": \"\"}, \"colorscale\": [[0.0, \"#0d0887\"], [0.1111111111111111, \"#46039f\"], [0.2222222222222222, \"#7201a8\"], [0.3333333333333333, \"#9c179e\"], [0.4444444444444444, \"#bd3786\"], [0.5555555555555556, \"#d8576b\"], [0.6666666666666666, \"#ed7953\"], [0.7777777777777778, \"#fb9f3a\"], [0.8888888888888888, \"#fdca26\"], [1.0, \"#f0f921\"]], \"type\": \"histogram2dcontour\"}], \"mesh3d\": [{\"colorbar\": {\"outlinewidth\": 0, \"ticks\": \"\"}, \"type\": \"mesh3d\"}], \"parcoords\": [{\"line\": {\"colorbar\": {\"outlinewidth\": 0, \"ticks\": \"\"}}, \"type\": \"parcoords\"}], \"pie\": [{\"automargin\": true, \"type\": \"pie\"}], \"scatter\": [{\"marker\": {\"colorbar\": {\"outlinewidth\": 0, \"ticks\": \"\"}}, \"type\": \"scatter\"}], \"scatter3d\": [{\"line\": {\"colorbar\": {\"outlinewidth\": 0, \"ticks\": \"\"}}, \"marker\": {\"colorbar\": {\"outlinewidth\": 0, \"ticks\": \"\"}}, \"type\": \"scatter3d\"}], \"scattercarpet\": [{\"marker\": {\"colorbar\": {\"outlinewidth\": 0, \"ticks\": \"\"}}, \"type\": \"scattercarpet\"}], \"scattergeo\": [{\"marker\": {\"colorbar\": {\"outlinewidth\": 0, \"ticks\": \"\"}}, \"type\": \"scattergeo\"}], \"scattergl\": [{\"marker\": {\"colorbar\": {\"outlinewidth\": 0, \"ticks\": \"\"}}, \"type\": \"scattergl\"}], \"scattermapbox\": [{\"marker\": {\"colorbar\": {\"outlinewidth\": 0, \"ticks\": \"\"}}, \"type\": \"scattermapbox\"}], \"scatterpolar\": [{\"marker\": {\"colorbar\": {\"outlinewidth\": 0, \"ticks\": \"\"}}, \"type\": \"scatterpolar\"}], \"scatterpolargl\": [{\"marker\": {\"colorbar\": {\"outlinewidth\": 0, \"ticks\": \"\"}}, \"type\": \"scatterpolargl\"}], \"scatterternary\": [{\"marker\": {\"colorbar\": {\"outlinewidth\": 0, \"ticks\": \"\"}}, \"type\": \"scatterternary\"}], \"surface\": [{\"colorbar\": {\"outlinewidth\": 0, \"ticks\": \"\"}, \"colorscale\": [[0.0, \"#0d0887\"], [0.1111111111111111, \"#46039f\"], [0.2222222222222222, \"#7201a8\"], [0.3333333333333333, \"#9c179e\"], [0.4444444444444444, \"#bd3786\"], [0.5555555555555556, \"#d8576b\"], [0.6666666666666666, \"#ed7953\"], [0.7777777777777778, \"#fb9f3a\"], [0.8888888888888888, \"#fdca26\"], [1.0, \"#f0f921\"]], \"type\": \"surface\"}], \"table\": [{\"cells\": {\"fill\": {\"color\": \"#EBF0F8\"}, \"line\": {\"color\": \"white\"}}, \"header\": {\"fill\": {\"color\": \"#C8D4E3\"}, \"line\": {\"color\": \"white\"}}, \"type\": \"table\"}]}, \"layout\": {\"annotationdefaults\": {\"arrowcolor\": \"#2a3f5f\", \"arrowhead\": 0, \"arrowwidth\": 1}, \"coloraxis\": {\"colorbar\": {\"outlinewidth\": 0, \"ticks\": \"\"}}, \"colorscale\": {\"diverging\": [[0, \"#8e0152\"], [0.1, \"#c51b7d\"], [0.2, \"#de77ae\"], [0.3, \"#f1b6da\"], [0.4, \"#fde0ef\"], [0.5, \"#f7f7f7\"], [0.6, \"#e6f5d0\"], [0.7, \"#b8e186\"], [0.8, \"#7fbc41\"], [0.9, \"#4d9221\"], [1, \"#276419\"]], \"sequential\": [[0.0, \"#0d0887\"], [0.1111111111111111, \"#46039f\"], [0.2222222222222222, \"#7201a8\"], [0.3333333333333333, \"#9c179e\"], [0.4444444444444444, \"#bd3786\"], [0.5555555555555556, \"#d8576b\"], [0.6666666666666666, \"#ed7953\"], [0.7777777777777778, \"#fb9f3a\"], [0.8888888888888888, \"#fdca26\"], [1.0, \"#f0f921\"]], \"sequentialminus\": [[0.0, \"#0d0887\"], [0.1111111111111111, \"#46039f\"], [0.2222222222222222, \"#7201a8\"], [0.3333333333333333, \"#9c179e\"], [0.4444444444444444, \"#bd3786\"], [0.5555555555555556, \"#d8576b\"], [0.6666666666666666, \"#ed7953\"], [0.7777777777777778, \"#fb9f3a\"], [0.8888888888888888, \"#fdca26\"], [1.0, \"#f0f921\"]]}, \"colorway\": [\"#636efa\", \"#EF553B\", \"#00cc96\", \"#ab63fa\", \"#FFA15A\", \"#19d3f3\", \"#FF6692\", \"#B6E880\", \"#FF97FF\", \"#FECB52\"], \"font\": {\"color\": \"#2a3f5f\"}, \"geo\": {\"bgcolor\": \"white\", \"lakecolor\": \"white\", \"landcolor\": \"#E5ECF6\", \"showlakes\": true, \"showland\": true, \"subunitcolor\": \"white\"}, \"hoverlabel\": {\"align\": \"left\"}, \"hovermode\": \"closest\", \"mapbox\": {\"style\": \"light\"}, \"paper_bgcolor\": \"white\", \"plot_bgcolor\": \"#E5ECF6\", \"polar\": {\"angularaxis\": {\"gridcolor\": \"white\", \"linecolor\": \"white\", \"ticks\": \"\"}, \"bgcolor\": \"#E5ECF6\", \"radialaxis\": {\"gridcolor\": \"white\", \"linecolor\": \"white\", \"ticks\": \"\"}}, \"scene\": {\"xaxis\": {\"backgroundcolor\": \"#E5ECF6\", \"gridcolor\": \"white\", \"gridwidth\": 2, \"linecolor\": \"white\", \"showbackground\": true, \"ticks\": \"\", \"zerolinecolor\": \"white\"}, \"yaxis\": {\"backgroundcolor\": \"#E5ECF6\", \"gridcolor\": \"white\", \"gridwidth\": 2, \"linecolor\": \"white\", \"showbackground\": true, \"ticks\": \"\", \"zerolinecolor\": \"white\"}, \"zaxis\": {\"backgroundcolor\": \"#E5ECF6\", \"gridcolor\": \"white\", \"gridwidth\": 2, \"linecolor\": \"white\", \"showbackground\": true, \"ticks\": \"\", \"zerolinecolor\": \"white\"}}, \"shapedefaults\": {\"line\": {\"color\": \"#2a3f5f\"}}, \"ternary\": {\"aaxis\": {\"gridcolor\": \"white\", \"linecolor\": \"white\", \"ticks\": \"\"}, \"baxis\": {\"gridcolor\": \"white\", \"linecolor\": \"white\", \"ticks\": \"\"}, \"bgcolor\": \"#E5ECF6\", \"caxis\": {\"gridcolor\": \"white\", \"linecolor\": \"white\", \"ticks\": \"\"}}, \"title\": {\"x\": 0.05}, \"xaxis\": {\"automargin\": true, \"gridcolor\": \"white\", \"linecolor\": \"white\", \"ticks\": \"\", \"title\": {\"standoff\": 15}, \"zerolinecolor\": \"white\", \"zerolinewidth\": 2}, \"yaxis\": {\"automargin\": true, \"gridcolor\": \"white\", \"linecolor\": \"white\", \"ticks\": \"\", \"title\": {\"standoff\": 15}, \"zerolinecolor\": \"white\", \"zerolinewidth\": 2}}}, \"title\": {\"text\": \"Home, Control, and Non-Control Systems\"}},\n",
              "                        {\"responsive\": true}\n",
              "                    ).then(function(){\n",
              "                            \n",
              "var gd = document.getElementById('766112d3-76d5-4dfe-bfc4-1e1e6c4870d4');\n",
              "var x = new MutationObserver(function (mutations, observer) {{\n",
              "        var display = window.getComputedStyle(gd).display;\n",
              "        if (!display || display === 'none') {{\n",
              "            console.log([gd, 'removed!']);\n",
              "            Plotly.purge(gd);\n",
              "            observer.disconnect();\n",
              "        }}\n",
              "}});\n",
              "\n",
              "// Listen for the removal of the full notebook cells\n",
              "var notebookContainer = gd.closest('#notebook-container');\n",
              "if (notebookContainer) {{\n",
              "    x.observe(notebookContainer, {childList: true});\n",
              "}}\n",
              "\n",
              "// Listen for the clearing of the current output cell\n",
              "var outputEl = gd.closest('.output');\n",
              "if (outputEl) {{\n",
              "    x.observe(outputEl, {childList: true});\n",
              "}}\n",
              "\n",
              "                        })\n",
              "                };\n",
              "                \n",
              "            </script>\n",
              "        </div>\n",
              "</body>\n",
              "</html>"
            ]
          },
          "metadata": {
            "tags": []
          }
        }
      ]
    }
  ]
}