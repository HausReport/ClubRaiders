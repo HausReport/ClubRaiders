{
  "nbformat": 4,
  "nbformat_minor": 0,
  "metadata": {
    "colab": {
      "name": "Untitled6.ipynb",
      "provenance": [],
      "authorship_tag": "ABX9TyOqE2Sl1zVwa5+Iz/BMRBLm",
      "include_colab_link": true
    },
    "kernelspec": {
      "name": "python3",
      "display_name": "Python 3"
    }
  },
  "cells": [
    {
      "cell_type": "markdown",
      "metadata": {
        "id": "view-in-github",
        "colab_type": "text"
      },
      "source": [
        "<a href=\"https://colab.research.google.com/github/HausReport/ClubRaiders/blob/master/notebooks/Squadrons.ipynb\" target=\"_parent\"><img src=\"https://colab.research.google.com/assets/colab-badge.svg\" alt=\"Open In Colab\"/></a>"
      ]
    },
    {
      "cell_type": "code",
      "metadata": {
        "id": "jdHV2ZR4LvXV",
        "colab_type": "code",
        "colab": {
          "base_uri": "https://localhost:8080/",
          "height": 1000
        },
        "outputId": "6a3aab95-83dd-4ab6-ae2a-85ceb14eddc8"
      },
      "source": [
        "import sys\n",
        "\n",
        "!{sys.executable} -m pip install --force-reinstall --upgrade \"git+https://github.com/HausReport/ClubRaiders.git#egg=craid\"\n",
        "import craid.eddb.loader.DataProducer as dp\n",
        "import pandas as pd\n",
        "import logging\n",
        "import plotly.graph_objs as go\n",
        "from numpy import *\n",
        "\n",
        "\n",
        "logging.getLogger().addHandler(logging.StreamHandler())\n",
        "logging.getLogger().level = logging.DEBUG\n",
        "\n",
        "arrays = dp.getDataArrays()\n",
        "df: pd.DataFrame = arrays['dataFrame']"
      ],
      "execution_count": 1,
      "outputs": [
        {
          "output_type": "stream",
          "text": [
            "Collecting craid\n",
            "  Cloning https://github.com/HausReport/ClubRaiders.git to /tmp/pip-install-spvfsgr0/craid\n",
            "  Running command git clone -q https://github.com/HausReport/ClubRaiders.git /tmp/pip-install-spvfsgr0/craid\n",
            "Collecting dash\n",
            "\u001b[?25l  Downloading https://files.pythonhosted.org/packages/48/be/71c46eeb4ede1e1778261fe934be874f2066c7f50ae2d9c6d8e488c6a05f/dash-1.13.4.tar.gz (67kB)\n",
            "\u001b[K     |████████████████████████████████| 71kB 2.3MB/s \n",
            "\u001b[?25hCollecting dash-core-components\n",
            "\u001b[?25l  Downloading https://files.pythonhosted.org/packages/d2/e4/c1e5c427c19af00d2e1a13a7ee03a1142ddb04e440f98de501f770f17107/dash_core_components-1.10.1.tar.gz (3.4MB)\n",
            "\u001b[K     |████████████████████████████████| 3.4MB 9.4MB/s \n",
            "\u001b[?25hCollecting dash-html-components\n",
            "\u001b[?25l  Downloading https://files.pythonhosted.org/packages/da/20/46714ae501ccf16e5e37ca160c06e27347d19889687454168730e6744cdc/dash_html_components-1.0.3.tar.gz (187kB)\n",
            "\u001b[K     |████████████████████████████████| 194kB 40.3MB/s \n",
            "\u001b[?25hCollecting dash-table\n",
            "\u001b[?25l  Downloading https://files.pythonhosted.org/packages/06/2d/f326c40f3fba76034db82a08d67a9a8a4a4473ea276774a38dd7ab2136cd/dash_table-4.8.1.tar.gz (1.8MB)\n",
            "\u001b[K     |████████████████████████████████| 1.8MB 33.4MB/s \n",
            "\u001b[?25hCollecting dash-renderer\n",
            "\u001b[?25l  Downloading https://files.pythonhosted.org/packages/a7/8b/7c3e314d857fb0a6cc7453f25a05c9b2506f412c2638ad896591767abc75/dash_renderer-1.5.1.tar.gz (1.2MB)\n",
            "\u001b[K     |████████████████████████████████| 1.2MB 38.1MB/s \n",
            "\u001b[?25hCollecting flask\n",
            "\u001b[?25l  Downloading https://files.pythonhosted.org/packages/f2/28/2a03252dfb9ebf377f40fba6a7841b47083260bf8bd8e737b0c6952df83f/Flask-1.1.2-py2.py3-none-any.whl (94kB)\n",
            "\u001b[K     |████████████████████████████████| 102kB 10.7MB/s \n",
            "\u001b[?25hCollecting pandas\n",
            "\u001b[?25l  Downloading https://files.pythonhosted.org/packages/c0/95/cb9820560a2713384ef49060b0087dfa2591c6db6f240215c2bce1f4211c/pandas-1.0.5-cp36-cp36m-manylinux1_x86_64.whl (10.1MB)\n",
            "\u001b[K     |████████████████████████████████| 10.1MB 30.5MB/s \n",
            "\u001b[?25hCollecting requests\n",
            "\u001b[?25l  Downloading https://files.pythonhosted.org/packages/45/1e/0c169c6a5381e241ba7404532c16a21d86ab872c9bed8bdcd4c423954103/requests-2.24.0-py2.py3-none-any.whl (61kB)\n",
            "\u001b[K     |████████████████████████████████| 71kB 8.5MB/s \n",
            "\u001b[?25hCollecting setuptools\n",
            "\u001b[?25l  Downloading https://files.pythonhosted.org/packages/e9/93/4860cebd5ad3ff2664ad3c966490ccb46e3b88458b2095145bca11727ca4/setuptools-47.3.1-py3-none-any.whl (582kB)\n",
            "\u001b[K     |████████████████████████████████| 583kB 24.0MB/s \n",
            "\u001b[?25hCollecting numpy\n",
            "\u001b[?25l  Downloading https://files.pythonhosted.org/packages/93/0b/71ae818646c1a80fbe6776d41f480649523ed31243f1f34d9d7e41d70195/numpy-1.19.0-cp36-cp36m-manylinux2010_x86_64.whl (14.6MB)\n",
            "\u001b[K     |████████████████████████████████| 14.6MB 303kB/s \n",
            "\u001b[?25hCollecting python-dateutil\n",
            "\u001b[?25l  Downloading https://files.pythonhosted.org/packages/d4/70/d60450c3dd48ef87586924207ae8907090de0b306af2bce5d134d78615cb/python_dateutil-2.8.1-py2.py3-none-any.whl (227kB)\n",
            "\u001b[K     |████████████████████████████████| 235kB 39.3MB/s \n",
            "\u001b[?25hCollecting ujson\n",
            "\u001b[?25l  Downloading https://files.pythonhosted.org/packages/12/0a/35e07ebe48f0c2a23c316d92c2e26eade75e00a3df0758be57e7804bfbf0/ujson-3.0.0-cp36-cp36m-manylinux1_x86_64.whl (176kB)\n",
            "\u001b[K     |████████████████████████████████| 184kB 39.4MB/s \n",
            "\u001b[?25hCollecting urllib3\n",
            "\u001b[?25l  Downloading https://files.pythonhosted.org/packages/e1/e5/df302e8017440f111c11cc41a6b432838672f5a70aa29227bf58149dc72f/urllib3-1.25.9-py2.py3-none-any.whl (126kB)\n",
            "\u001b[K     |████████████████████████████████| 133kB 35.5MB/s \n",
            "\u001b[?25hCollecting psutil\n",
            "\u001b[?25l  Downloading https://files.pythonhosted.org/packages/c4/b8/3512f0e93e0db23a71d82485ba256071ebef99b227351f0f5540f744af41/psutil-5.7.0.tar.gz (449kB)\n",
            "\u001b[K     |████████████████████████████████| 450kB 40.2MB/s \n",
            "\u001b[?25hCollecting plotly\n",
            "\u001b[?25l  Downloading https://files.pythonhosted.org/packages/27/99/9794bcd22fae2e12b689759d53fe26939a4d11b8b44b0b7056e035c64529/plotly-4.8.2-py2.py3-none-any.whl (11.5MB)\n",
            "\u001b[K     |████████████████████████████████| 11.5MB 187kB/s \n",
            "\u001b[?25hCollecting humanize\n",
            "\u001b[?25l  Downloading https://files.pythonhosted.org/packages/15/d5/a7a6496798ad9fc55dbdc23063a1f5424a907f934dd47b16b31a9e6263d6/humanize-2.4.1-py3-none-any.whl (62kB)\n",
            "\u001b[K     |████████████████████████████████| 71kB 8.4MB/s \n",
            "\u001b[?25hCollecting boto3\n",
            "\u001b[?25l  Downloading https://files.pythonhosted.org/packages/fd/90/b36496c075177d1ffad12f5601ccca57cab03947e0939d0fbe3548f7c0f9/boto3-1.14.15-py2.py3-none-any.whl (128kB)\n",
            "\u001b[K     |████████████████████████████████| 133kB 42.7MB/s \n",
            "\u001b[?25hCollecting botocore\n",
            "\u001b[?25l  Downloading https://files.pythonhosted.org/packages/6b/11/96149cb224a55fbd40fc95d84d698ac3632a53f72c49995be0af2fbfc1e2/botocore-1.17.15-py2.py3-none-any.whl (6.3MB)\n",
            "\u001b[K     |████████████████████████████████| 6.3MB 41.3MB/s \n",
            "\u001b[?25hCollecting flask-compress\n",
            "  Downloading https://files.pythonhosted.org/packages/a0/96/cd684c1ffe97b513303b5bfd4bbfb4114c5f4a5ea8a737af6fd813273df8/Flask-Compress-1.5.0.tar.gz\n",
            "Collecting future\n",
            "\u001b[?25l  Downloading https://files.pythonhosted.org/packages/45/0b/38b06fd9b92dc2b68d58b75f900e97884c45bedd2ff83203d933cf5851c9/future-0.18.2.tar.gz (829kB)\n",
            "\u001b[K     |████████████████████████████████| 829kB 39.9MB/s \n",
            "\u001b[?25hCollecting Werkzeug>=0.15\n",
            "\u001b[?25l  Downloading https://files.pythonhosted.org/packages/cc/94/5f7079a0e00bd6863ef8f1da638721e9da21e5bacee597595b318f71d62e/Werkzeug-1.0.1-py2.py3-none-any.whl (298kB)\n",
            "\u001b[K     |████████████████████████████████| 307kB 38.2MB/s \n",
            "\u001b[?25hCollecting click>=5.1\n",
            "\u001b[?25l  Downloading https://files.pythonhosted.org/packages/d2/3d/fa76db83bf75c4f8d338c2fd15c8d33fdd7ad23a9b5e57eb6c5de26b430e/click-7.1.2-py2.py3-none-any.whl (82kB)\n",
            "\u001b[K     |████████████████████████████████| 92kB 11.1MB/s \n",
            "\u001b[?25hCollecting itsdangerous>=0.24\n",
            "  Downloading https://files.pythonhosted.org/packages/76/ae/44b03b253d6fade317f32c24d100b3b35c2239807046a4c953c7b89fa49e/itsdangerous-1.1.0-py2.py3-none-any.whl\n",
            "Collecting Jinja2>=2.10.1\n",
            "\u001b[?25l  Downloading https://files.pythonhosted.org/packages/30/9e/f663a2aa66a09d838042ae1a2c5659828bb9b41ea3a6efa20a20fd92b121/Jinja2-2.11.2-py2.py3-none-any.whl (125kB)\n",
            "\u001b[K     |████████████████████████████████| 133kB 43.7MB/s \n",
            "\u001b[?25hCollecting pytz>=2017.2\n",
            "\u001b[?25l  Downloading https://files.pythonhosted.org/packages/4f/a4/879454d49688e2fad93e59d7d4efda580b783c745fd2ec2a3adf87b0808d/pytz-2020.1-py2.py3-none-any.whl (510kB)\n",
            "\u001b[K     |████████████████████████████████| 512kB 43.4MB/s \n",
            "\u001b[?25hCollecting idna<3,>=2.5\n",
            "\u001b[?25l  Downloading https://files.pythonhosted.org/packages/a2/38/928ddce2273eaa564f6f50de919327bf3a00f091b5baba8dfa9460f3a8a8/idna-2.10-py2.py3-none-any.whl (58kB)\n",
            "\u001b[K     |████████████████████████████████| 61kB 7.5MB/s \n",
            "\u001b[?25hCollecting certifi>=2017.4.17\n",
            "\u001b[?25l  Downloading https://files.pythonhosted.org/packages/5e/c4/6c4fe722df5343c33226f0b4e0bb042e4dc13483228b4718baf286f86d87/certifi-2020.6.20-py2.py3-none-any.whl (156kB)\n",
            "\u001b[K     |████████████████████████████████| 163kB 27.6MB/s \n",
            "\u001b[?25hCollecting chardet<4,>=3.0.2\n",
            "\u001b[?25l  Downloading https://files.pythonhosted.org/packages/bc/a9/01ffebfb562e4274b6487b4bb1ddec7ca55ec7510b22e4c51f14098443b8/chardet-3.0.4-py2.py3-none-any.whl (133kB)\n",
            "\u001b[K     |████████████████████████████████| 143kB 41.8MB/s \n",
            "\u001b[?25hCollecting six>=1.5\n",
            "  Downloading https://files.pythonhosted.org/packages/ee/ff/48bde5c0f013094d729fe4b0316ba2a24774b3ff1c52d924a8a4cb04078a/six-1.15.0-py2.py3-none-any.whl\n",
            "Collecting retrying>=1.3.3\n",
            "  Downloading https://files.pythonhosted.org/packages/44/ef/beae4b4ef80902f22e3af073397f079c96969c69b2c7d52a57ea9ae61c9d/retrying-1.3.3.tar.gz\n",
            "Collecting jmespath<1.0.0,>=0.7.1\n",
            "  Downloading https://files.pythonhosted.org/packages/07/cb/5f001272b6faeb23c1c9e0acc04d48eaaf5c862c17709d20e3469c6e0139/jmespath-0.10.0-py2.py3-none-any.whl\n",
            "Collecting s3transfer<0.4.0,>=0.3.0\n",
            "\u001b[?25l  Downloading https://files.pythonhosted.org/packages/69/79/e6afb3d8b0b4e96cefbdc690f741d7dd24547ff1f94240c997a26fa908d3/s3transfer-0.3.3-py2.py3-none-any.whl (69kB)\n",
            "\u001b[K     |████████████████████████████████| 71kB 9.1MB/s \n",
            "\u001b[?25hCollecting docutils<0.16,>=0.10\n",
            "\u001b[?25l  Downloading https://files.pythonhosted.org/packages/22/cd/a6aa959dca619918ccb55023b4cb151949c64d4d5d55b3f4ffd7eee0c6e8/docutils-0.15.2-py3-none-any.whl (547kB)\n",
            "\u001b[K     |████████████████████████████████| 552kB 43.7MB/s \n",
            "\u001b[?25hCollecting brotli\n",
            "\u001b[?25l  Downloading https://files.pythonhosted.org/packages/f4/68/60a220454dc5083c6d59b41aa90bb1c96fad62a0abf3a33e0ef64b38638a/Brotli-1.0.7-cp36-cp36m-manylinux1_x86_64.whl (352kB)\n",
            "\u001b[K     |████████████████████████████████| 358kB 32.2MB/s \n",
            "\u001b[?25hCollecting MarkupSafe>=0.23\n",
            "  Downloading https://files.pythonhosted.org/packages/b2/5f/23e0023be6bb885d00ffbefad2942bc51a620328ee910f64abe5a8d18dd1/MarkupSafe-1.1.1-cp36-cp36m-manylinux1_x86_64.whl\n",
            "Building wheels for collected packages: craid, dash, dash-core-components, dash-html-components, dash-table, dash-renderer, psutil, flask-compress, future, retrying\n",
            "  Building wheel for craid (setup.py) ... \u001b[?25l\u001b[?25hdone\n",
            "  Created wheel for craid: filename=craid-0.80-cp36-none-any.whl size=569640 sha256=55563b29e179318c98d0720e1d0c4de826b3dbad1728e3c6154914d18c45906d\n",
            "  Stored in directory: /tmp/pip-ephem-wheel-cache-ii8tie1_/wheels/59/74/32/b75ca6dbfddc83071fd4a4a492a26c1066d06840be16c7d535\n",
            "  Building wheel for dash (setup.py) ... \u001b[?25l\u001b[?25hdone\n",
            "  Created wheel for dash: filename=dash-1.13.4-cp36-none-any.whl size=74951 sha256=fca5dd231eef11f11cfaf7f565ef91efe41485bcd75de00d20fd140bdf6d2a5a\n",
            "  Stored in directory: /root/.cache/pip/wheels/a2/06/bc/5c2246621220be254683eb2689a25dcb811762e2db0de8cf66\n",
            "  Building wheel for dash-core-components (setup.py) ... \u001b[?25l\u001b[?25hdone\n",
            "  Created wheel for dash-core-components: filename=dash_core_components-1.10.1-cp36-none-any.whl size=3458662 sha256=01b68c9b7e36023c9e27a3cec98cdf20b44b3c83a1cea7eb77587134bebc6e35\n",
            "  Stored in directory: /root/.cache/pip/wheels/35/b3/67/ca79d69f2b33930e0eef9c7197daafd3bb8e7c2133785dbcde\n",
            "  Building wheel for dash-html-components (setup.py) ... \u001b[?25l\u001b[?25hdone\n",
            "  Created wheel for dash-html-components: filename=dash_html_components-1.0.3-cp36-none-any.whl size=427303 sha256=4ea0fb93c28809befad634c490cff16427f5016247e4fbae3e02810aae159197\n",
            "  Stored in directory: /root/.cache/pip/wheels/22/c0/79/ef4c2b20a23dc8457ae75c3da5f63163db213d86e13e00fe26\n",
            "  Building wheel for dash-table (setup.py) ... \u001b[?25l\u001b[?25hdone\n",
            "  Created wheel for dash-table: filename=dash_table-4.8.1-cp36-none-any.whl size=1779391 sha256=b6667fa7362faa4ae1ce66ab793a7c21a79f3e92f83a1f1da77302edd144a42c\n",
            "  Stored in directory: /root/.cache/pip/wheels/c4/17/bf/268d224583f366164cd1cf70d5fcf41ad7d584002ffd24537e\n",
            "  Building wheel for dash-renderer (setup.py) ... \u001b[?25l\u001b[?25hdone\n",
            "  Created wheel for dash-renderer: filename=dash_renderer-1.5.1-cp36-none-any.whl size=1182061 sha256=11aeb01ea802f49d5b0448723339f50fa45ad08785d17097e0080cb6982d97c7\n",
            "  Stored in directory: /root/.cache/pip/wheels/76/04/53/2bc1654437aa5ff4e4da1bb40c3e9ebf1168282a2287d516d7\n",
            "  Building wheel for psutil (setup.py) ... \u001b[?25l\u001b[?25hdone\n",
            "  Created wheel for psutil: filename=psutil-5.7.0-cp36-cp36m-linux_x86_64.whl size=272671 sha256=cf341b4237cca8cfb3cfacc1364a3f81b31f9d1edf41784f6aafbf5c6ea14505\n",
            "  Stored in directory: /root/.cache/pip/wheels/d7/69/b4/3200b95828d1f0ddb3cb5699083717f4fdbd9b4223d0644c57\n",
            "  Building wheel for flask-compress (setup.py) ... \u001b[?25l\u001b[?25hdone\n",
            "  Created wheel for flask-compress: filename=Flask_Compress-1.5.0-cp36-none-any.whl size=5273 sha256=03d978e10acde1f85b46446bcecce746f3a6ee193c6eb3f58daf03ee5d9e5e3d\n",
            "  Stored in directory: /root/.cache/pip/wheels/f7/e9/e4/5afc286be7c87461375e33152558415dfeb0c8f5af3b50e742\n",
            "  Building wheel for future (setup.py) ... \u001b[?25l\u001b[?25hdone\n",
            "  Created wheel for future: filename=future-0.18.2-cp36-none-any.whl size=491057 sha256=72f84e9ad0872866aaf4986fbc0c273e955338dd7931456253406d1ba5e725e7\n",
            "  Stored in directory: /root/.cache/pip/wheels/8b/99/a0/81daf51dcd359a9377b110a8a886b3895921802d2fc1b2397e\n",
            "  Building wheel for retrying (setup.py) ... \u001b[?25l\u001b[?25hdone\n",
            "  Created wheel for retrying: filename=retrying-1.3.3-cp36-none-any.whl size=11431 sha256=299d96cb0ef7d4ffdce8fb27a1c7ac8111284e63e9f7c49bd255c07861650c42\n",
            "  Stored in directory: /root/.cache/pip/wheels/d7/a9/33/acc7b709e2a35caa7d4cae442f6fe6fbf2c43f80823d46460c\n",
            "Successfully built craid dash dash-core-components dash-html-components dash-table dash-renderer psutil flask-compress future retrying\n",
            "\u001b[31mERROR: kaggle 1.5.6 has requirement urllib3<1.25,>=1.21.1, but you'll have urllib3 1.25.9 which is incompatible.\u001b[0m\n",
            "\u001b[31mERROR: google-colab 1.0.0 has requirement requests~=2.23.0, but you'll have requests 2.24.0 which is incompatible.\u001b[0m\n",
            "\u001b[31mERROR: google-colab 1.0.0 has requirement six~=1.12.0, but you'll have six 1.15.0 which is incompatible.\u001b[0m\n",
            "\u001b[31mERROR: datascience 0.10.6 has requirement folium==0.2.1, but you'll have folium 0.8.3 which is incompatible.\u001b[0m\n",
            "\u001b[31mERROR: albumentations 0.1.12 has requirement imgaug<0.2.7,>=0.2.5, but you'll have imgaug 0.2.9 which is incompatible.\u001b[0m\n",
            "Installing collected packages: Werkzeug, click, itsdangerous, MarkupSafe, Jinja2, flask, brotli, flask-compress, six, retrying, plotly, dash-renderer, dash-core-components, dash-html-components, dash-table, future, dash, python-dateutil, pytz, numpy, pandas, idna, certifi, chardet, urllib3, requests, setuptools, ujson, psutil, humanize, jmespath, docutils, botocore, s3transfer, boto3, craid\n",
            "  Found existing installation: Werkzeug 1.0.1\n",
            "    Uninstalling Werkzeug-1.0.1:\n",
            "      Successfully uninstalled Werkzeug-1.0.1\n",
            "  Found existing installation: click 7.1.2\n",
            "    Uninstalling click-7.1.2:\n",
            "      Successfully uninstalled click-7.1.2\n",
            "  Found existing installation: itsdangerous 1.1.0\n",
            "    Uninstalling itsdangerous-1.1.0:\n",
            "      Successfully uninstalled itsdangerous-1.1.0\n",
            "  Found existing installation: MarkupSafe 1.1.1\n",
            "    Uninstalling MarkupSafe-1.1.1:\n",
            "      Successfully uninstalled MarkupSafe-1.1.1\n",
            "  Found existing installation: Jinja2 2.11.2\n",
            "    Uninstalling Jinja2-2.11.2:\n",
            "      Successfully uninstalled Jinja2-2.11.2\n",
            "  Found existing installation: Flask 1.1.2\n",
            "    Uninstalling Flask-1.1.2:\n",
            "      Successfully uninstalled Flask-1.1.2\n",
            "  Found existing installation: six 1.12.0\n",
            "    Uninstalling six-1.12.0:\n",
            "      Successfully uninstalled six-1.12.0\n",
            "  Found existing installation: retrying 1.3.3\n",
            "    Uninstalling retrying-1.3.3:\n",
            "      Successfully uninstalled retrying-1.3.3\n",
            "  Found existing installation: plotly 4.4.1\n",
            "    Uninstalling plotly-4.4.1:\n",
            "      Successfully uninstalled plotly-4.4.1\n",
            "  Found existing installation: future 0.16.0\n",
            "    Uninstalling future-0.16.0:\n",
            "      Successfully uninstalled future-0.16.0\n",
            "  Found existing installation: python-dateutil 2.8.1\n",
            "    Uninstalling python-dateutil-2.8.1:\n",
            "      Successfully uninstalled python-dateutil-2.8.1\n",
            "  Found existing installation: pytz 2018.9\n",
            "    Uninstalling pytz-2018.9:\n",
            "      Successfully uninstalled pytz-2018.9\n",
            "  Found existing installation: numpy 1.18.5\n",
            "    Uninstalling numpy-1.18.5:\n",
            "      Successfully uninstalled numpy-1.18.5\n",
            "  Found existing installation: pandas 1.0.5\n",
            "    Uninstalling pandas-1.0.5:\n",
            "      Successfully uninstalled pandas-1.0.5\n",
            "  Found existing installation: idna 2.9\n",
            "    Uninstalling idna-2.9:\n",
            "      Successfully uninstalled idna-2.9\n",
            "  Found existing installation: certifi 2020.6.20\n",
            "    Uninstalling certifi-2020.6.20:\n",
            "      Successfully uninstalled certifi-2020.6.20\n",
            "  Found existing installation: chardet 3.0.4\n",
            "    Uninstalling chardet-3.0.4:\n",
            "      Successfully uninstalled chardet-3.0.4\n",
            "  Found existing installation: urllib3 1.24.3\n",
            "    Uninstalling urllib3-1.24.3:\n",
            "      Successfully uninstalled urllib3-1.24.3\n",
            "  Found existing installation: requests 2.23.0\n",
            "    Uninstalling requests-2.23.0:\n",
            "      Successfully uninstalled requests-2.23.0\n",
            "  Found existing installation: setuptools 47.3.1\n",
            "    Uninstalling setuptools-47.3.1:\n",
            "      Successfully uninstalled setuptools-47.3.1\n",
            "  Found existing installation: psutil 5.4.8\n",
            "    Uninstalling psutil-5.4.8:\n",
            "      Successfully uninstalled psutil-5.4.8\n",
            "  Found existing installation: humanize 0.5.1\n",
            "    Uninstalling humanize-0.5.1:\n",
            "      Successfully uninstalled humanize-0.5.1\n",
            "  Found existing installation: jmespath 0.10.0\n",
            "    Uninstalling jmespath-0.10.0:\n",
            "      Successfully uninstalled jmespath-0.10.0\n",
            "  Found existing installation: docutils 0.15.2\n",
            "    Uninstalling docutils-0.15.2:\n",
            "      Successfully uninstalled docutils-0.15.2\n",
            "  Found existing installation: botocore 1.17.9\n",
            "    Uninstalling botocore-1.17.9:\n",
            "      Successfully uninstalled botocore-1.17.9\n",
            "  Found existing installation: s3transfer 0.3.3\n",
            "    Uninstalling s3transfer-0.3.3:\n",
            "      Successfully uninstalled s3transfer-0.3.3\n",
            "  Found existing installation: boto3 1.14.9\n",
            "    Uninstalling boto3-1.14.9:\n",
            "      Successfully uninstalled boto3-1.14.9\n",
            "Successfully installed Jinja2-2.11.2 MarkupSafe-1.1.1 Werkzeug-1.0.1 boto3-1.14.15 botocore-1.17.15 brotli-1.0.7 certifi-2020.6.20 chardet-3.0.4 click-7.1.2 craid-0.80 dash-1.13.4 dash-core-components-1.10.1 dash-html-components-1.0.3 dash-renderer-1.5.1 dash-table-4.8.1 docutils-0.15.2 flask-1.1.2 flask-compress-1.5.0 future-0.18.2 humanize-2.4.1 idna-2.10 itsdangerous-1.1.0 jmespath-0.10.0 numpy-1.19.0 pandas-1.0.5 plotly-4.8.2 psutil-5.7.0 python-dateutil-2.8.1 pytz-2020.1 requests-2.24.0 retrying-1.3.3 s3transfer-0.3.3 setuptools-47.3.1 six-1.15.0 ujson-3.0.0 urllib3-1.25.9\n"
          ],
          "name": "stdout"
        },
        {
          "output_type": "stream",
          "text": [
            "Loading from AWS\n",
            "1- downloading to: /tmp/smol-factions.jsonl.gz\n",
            "2 - downloading [https://erlaed.s3.us-east-2.amazonaws.com/smol-factions.jsonl.gz] to [/tmp/smol-factions.jsonl.gz] data file.\n",
            "Starting new HTTPS connection (1): erlaed.s3.us-east-2.amazonaws.com:443\n",
            "https://erlaed.s3.us-east-2.amazonaws.com:443 \"GET /smol-factions.jsonl.gz HTTP/1.1\" 200 15416\n",
            "Found data file: /tmp/smol-factions.jsonl.gz\n",
            "Read 661 lines of faction data\n",
            "1- downloading to: /tmp/smol-systems_populated.jsonl.gz\n",
            "2 - downloading [https://erlaed.s3.us-east-2.amazonaws.com/smol-systems_populated.jsonl.gz] to [/tmp/smol-systems_populated.jsonl.gz] data file.\n"
          ],
          "name": "stderr"
        },
        {
          "output_type": "stream",
          "text": [
            "0:197,910,528\n",
            "0.5:199,610,368\n"
          ],
          "name": "stdout"
        },
        {
          "output_type": "stream",
          "text": [
            "Starting new HTTPS connection (1): erlaed.s3.us-east-2.amazonaws.com:443\n",
            "https://erlaed.s3.us-east-2.amazonaws.com:443 \"GET /smol-systems_populated.jsonl.gz HTTP/1.1\" 200 25592\n",
            "Found data file: /tmp/smol-systems_populated.jsonl.gz\n",
            "Read 171 lines of systems data\n",
            "Populated club system keys\n",
            "Club system lookup set has {171} items\n",
            "Populated faction instances: {1034} items.\n",
            "1- downloading to: /tmp/smol-stations.jsonl.gz\n",
            "2 - downloading [https://erlaed.s3.us-east-2.amazonaws.com/smol-stations.jsonl.gz] to [/tmp/smol-stations.jsonl.gz] data file.\n",
            "Starting new HTTPS connection (1): erlaed.s3.us-east-2.amazonaws.com:443\n"
          ],
          "name": "stderr"
        },
        {
          "output_type": "stream",
          "text": [
            "1:202,047,488\n",
            "2:202,571,776\n"
          ],
          "name": "stdout"
        },
        {
          "output_type": "stream",
          "text": [
            "https://erlaed.s3.us-east-2.amazonaws.com:443 \"GET /smol-stations.jsonl.gz HTTP/1.1\" 200 127791\n",
            "Found data file: /tmp/smol-stations.jsonl.gz\n",
            "Read 746 lines of station data, adding 746\n",
            "\n",
            "station controlling faction nexistQwent Research Base\n",
            "station controlling faction nexistQwent Research Base\n",
            "station controlling faction nexistQwent Research Base\n",
            "station controlling faction nexistQwent Research Base\n",
            "station controlling faction nexistQwent Research Base\n",
            "station controlling faction nexistQwent Research Base\n",
            "station controlling faction nexistQwent Research Base\n",
            "station controlling faction nexistQwent Research Base\n",
            "station controlling faction nexistQwent Research Base\n",
            "station controlling faction nexistQwent Research Base\n",
            "station controlling faction nexistQwent Research Base\n",
            "station controlling faction nexistQwent Research Base\n",
            "station controlling faction nexistQwent Research Base\n",
            "station controlling faction nexistQwent Research Base\n",
            "station controlling faction nexistQwent Research Base\n",
            "station controlling faction nexistQwent Research Base\n",
            "station controlling faction nexistDekker's Yard\n",
            "station controlling faction nexistDekker's Yard\n",
            "station controlling faction nexistThunderhead Garrison\n",
            "station controlling faction nexistThunderhead Garrison\n"
          ],
          "name": "stderr"
        },
        {
          "output_type": "stream",
          "text": [
            "3:202,825,728\n"
          ],
          "name": "stdout"
        },
        {
          "output_type": "stream",
          "text": [
            "Loaded backend module://ipykernel.pylab.backend_inline version unknown.\n"
          ],
          "name": "stderr"
        }
      ]
    },
    {
      "cell_type": "code",
      "metadata": {
        "id": "JNfXDokXugKq",
        "colab_type": "code",
        "colab": {}
      },
      "source": [
        "df.loc[df['control'] == True, 'marker_size'] = 8           # Medium is not home/control\n",
        "df.loc[df['control'] == False, 'marker_size'] = 5          # Small is not home/not control\n",
        "df.loc[df['isHomeSystem'] == True, 'marker_size'] = 15     # Large is home\n",
        "df.loc[df['control'] == True, 'color'] = \"#ffbf00\"         # Yellow is control/not home\n",
        "df.loc[df['control'] == False, 'color'] = \"#00ff00\"        # Green is not home/not control\n",
        "df.loc[df['isHomeSystem'] == True, 'color'] = \"#ff0000\"    # Red is homesystem\n",
        "#df['htext'] = df[['systemName', 'factionName', 'influence', 'isHomeSystem','control','difficulty']].astype(str).agg(':'.join, axis=1)\n",
        "df['htext'] = df[['systemName', 'factionName']].agg('\\n'.join, axis=1)"
      ],
      "execution_count": 2,
      "outputs": []
    },
    {
      "cell_type": "code",
      "metadata": {
        "id": "92jpBpUw5Kfn",
        "colab_type": "code",
        "colab": {}
      },
      "source": [
        "\n",
        "simpleScene = dict(\n",
        "  xaxis = dict(\n",
        "    backgroundcolor=\"rgb(0,0,0)\",\n",
        "    gridcolor=\"grey\",\n",
        "    showbackground=False,\n",
        "    zerolinecolor=\"white\",),\n",
        "  yaxis = dict(\n",
        "    backgroundcolor=\"rgb(0,0,0)\",\n",
        "    gridcolor=\"grey\",\n",
        "    showbackground=False,\n",
        "    zerolinecolor=\"white\",),\n",
        "  zaxis = dict(\n",
        "    backgroundcolor=\"rgb(0,0,0)\",\n",
        "    gridcolor=\"grey\",\n",
        "    showbackground=False,\n",
        "    zerolinecolor=\"white\",),)\n",
        "simpleLayout = go.Layout(title = 'Club Systems: Red Home, Yellow Control, and Green Other', paper_bgcolor='rgb(0,0,0)', plot_bgcolor='rgb(0,0,0)', font=dict(family=\"Courier New, monospace\",size=12,color=\"#ffffff\"))"
      ],
      "execution_count": 3,
      "outputs": []
    },
    {
      "cell_type": "code",
      "metadata": {
        "id": "1WO3wwLmq3U9",
        "colab_type": "code",
        "colab": {
          "base_uri": "https://localhost:8080/",
          "height": 231
        },
        "outputId": "7278e0c9-5ab3-48d0-f579-8ab9b5ed28b9"
      },
      "source": [
        "from craid.club.regions.RegionFactory import RegionFactory\n",
        "\n",
        "#df[\"marker_size\"] = df[\"influence\"].apply(lambda x: 5+ x/5)\n",
        "df[\"marker_size\"] = df[\"difficulty\"].apply(lambda x: 1 if x<10 else log(x))       # difficult = larger\n",
        "#df[\"marker_size\"] = df[\"difficulty\"].apply(lambda x: 20 if x<10 else 20/log(x))    # easy = larger\n",
        "\n",
        "trace = go.Scatter3d(x =df['x'], y =df['z'], z =df['y'], \n",
        "                     text = df['systemName'],\n",
        "                     mode = 'markers',\n",
        "                     marker=dict(size=df[\"marker_size\"], color=df[\"color\"]))\n",
        "\n",
        "Merope     = RegionFactory.getRegionByName(\"Merope\").getSurface()\n",
        "Rectangle  = RegionFactory.getRegionByName(\"Rectangle\").getSurface()\n",
        "California = RegionFactory.getRegionByName(\"California\").getSurface()\n",
        "Sirius     = RegionFactory.getRegionByName(\"Sirius\").getSurface()\n",
        "XiShan     = RegionFactory.getRegionByName(\"Xi Shan\").getSurface()\n",
        "Abroin     = RegionFactory.getRegionByName(\"Abroin\").getSurface()\n",
        "Bentonia   = RegionFactory.getRegionByName(\"Bentonia\").getSurface()\n",
        "Hodack     = RegionFactory.getRegionByName(\"Hodack\").getSurface()\n",
        "Wreaken    = RegionFactory.getRegionByName(\"Wreaken\").getSurface()  \n",
        "CQC        = RegionFactory.getRegionByName(\"CQC\").getSurface()\n",
        "\n",
        "#fig = go.Figure(data = [trace, Merope, Rectangle, California, Sirius, XiShan, Abroin, Bentonia, Hodack, Wreaken, CQC], layout = simpleLayout)\n",
        "fig = go.Figure(data = [trace], layout = layout)\n",
        "fig.update_layout(scene=simpleScene)\n",
        "fig"
      ],
      "execution_count": 4,
      "outputs": [
        {
          "output_type": "error",
          "ename": "NameError",
          "evalue": "ignored",
          "traceback": [
            "\u001b[0;31m---------------------------------------------------------------------------\u001b[0m",
            "\u001b[0;31mNameError\u001b[0m                                 Traceback (most recent call last)",
            "\u001b[0;32m<ipython-input-4-d20a376b953f>\u001b[0m in \u001b[0;36m<module>\u001b[0;34m()\u001b[0m\n\u001b[1;32m     22\u001b[0m \u001b[0;34m\u001b[0m\u001b[0m\n\u001b[1;32m     23\u001b[0m \u001b[0;31m#fig = go.Figure(data = [trace, Merope, Rectangle, California, Sirius, XiShan, Abroin, Bentonia, Hodack, Wreaken, CQC], layout = simpleLayout)\u001b[0m\u001b[0;34m\u001b[0m\u001b[0;34m\u001b[0m\u001b[0;34m\u001b[0m\u001b[0m\n\u001b[0;32m---> 24\u001b[0;31m \u001b[0mfig\u001b[0m \u001b[0;34m=\u001b[0m \u001b[0mgo\u001b[0m\u001b[0;34m.\u001b[0m\u001b[0mFigure\u001b[0m\u001b[0;34m(\u001b[0m\u001b[0mdata\u001b[0m \u001b[0;34m=\u001b[0m \u001b[0;34m[\u001b[0m\u001b[0mtrace\u001b[0m\u001b[0;34m]\u001b[0m\u001b[0;34m,\u001b[0m \u001b[0mlayout\u001b[0m \u001b[0;34m=\u001b[0m \u001b[0mlayout\u001b[0m\u001b[0;34m)\u001b[0m\u001b[0;34m\u001b[0m\u001b[0;34m\u001b[0m\u001b[0m\n\u001b[0m\u001b[1;32m     25\u001b[0m \u001b[0mfig\u001b[0m\u001b[0;34m.\u001b[0m\u001b[0mupdate_layout\u001b[0m\u001b[0;34m(\u001b[0m\u001b[0mscene\u001b[0m\u001b[0;34m=\u001b[0m\u001b[0msimpleScene\u001b[0m\u001b[0;34m)\u001b[0m\u001b[0;34m\u001b[0m\u001b[0;34m\u001b[0m\u001b[0m\n\u001b[1;32m     26\u001b[0m \u001b[0mfig\u001b[0m\u001b[0;34m\u001b[0m\u001b[0;34m\u001b[0m\u001b[0m\n",
            "\u001b[0;31mNameError\u001b[0m: name 'layout' is not defined"
          ]
        }
      ]
    },
    {
      "cell_type": "code",
      "metadata": {
        "id": "iz8LwtRq_VhW",
        "colab_type": "code",
        "colab": {
          "base_uri": "https://localhost:8080/",
          "height": 35
        },
        "outputId": "a108406a-4f83-4c3a-b1fe-10079c0b1fb0"
      },
      "source": [
        "from craid.eddb.base.Aware import Aware\n",
        "Aware.getSystemById(292).getPower()"
      ],
      "execution_count": 8,
      "outputs": [
        {
          "output_type": "execute_result",
          "data": {
            "application/vnd.google.colaboratory.intrinsic": {
              "type": "string"
            },
            "text/plain": [
              "'Li Yong-Rui'"
            ]
          },
          "metadata": {
            "tags": []
          },
          "execution_count": 8
        }
      ]
    },
    {
      "cell_type": "code",
      "metadata": {
        "id": "yFetkxl8ADLw",
        "colab_type": "code",
        "colab": {}
      },
      "source": [
        "df['power'] = df['sysId'].apply(lambda x: Aware.getSystemById(x).getPower())\n",
        "df['power'].fillna(value='No power', inplace = True)"
      ],
      "execution_count": 9,
      "outputs": []
    },
    {
      "cell_type": "code",
      "metadata": {
        "id": "AyUiHePTrrBI",
        "colab_type": "code",
        "colab": {}
      },
      "source": [
        "power_dict = \\\n",
        "{ \"Aisling Duval\"         : 'cross' ,\n",
        "  \"Archon Delaine\"        : 'diamond' ,\n",
        "  \"Arissa Lavigny-Duval\"  : 'square' ,\n",
        "  \"Denton Patreus\"        : 'diamond-open' ,\n",
        "  \"Edmund Mahon\"          : 'square' ,\n",
        "  \"Felicia Winters\"       : 'x' ,\n",
        "  \"Li Yong-Rui\"           : 'square-open' ,\n",
        "  \"Pranav Antal\"          : 'square' ,\n",
        "  \"Yuri Grom\"             : 'square' ,\n",
        "  \"Zachary Hudson\"        : 'circle-open' ,\n",
        "  \"Zemina Torval\"         : 'square' ,\n",
        "  \"No power\"              : 'square' ,\n",
        " }"
      ],
      "execution_count": 10,
      "outputs": []
    },
    {
      "cell_type": "code",
      "metadata": {
        "id": "rNl68VGFAl2P",
        "colab_type": "code",
        "colab": {}
      },
      "source": [
        "df['htext'] = df[['systemName', 'factionName', 'power']].agg('\\n'.join, axis=1)\n",
        "df['symbol'] =df['power'].apply(lambda x: power_dict[x])"
      ],
      "execution_count": 11,
      "outputs": []
    },
    {
      "cell_type": "code",
      "metadata": {
        "colab_type": "code",
        "id": "OQClvBCaAm3g",
        "colab": {
          "base_uri": "https://localhost:8080/",
          "height": 542
        },
        "outputId": "e0928671-9de1-4121-bb69-593a049a4eb2"
      },
      "source": [
        "\n",
        "trace = go.Scatter3d(x =df['x'], y =df['z'], z =df['y'], \n",
        "                     text = df['power'],\n",
        "                     mode = 'markers',\n",
        "                     marker=dict(size=5, color=df[\"color\"], symbol= df['symbol']), #power_dict[\"power\"]), \n",
        "                     )\n",
        "layout = go.Layout(title = 'Club Regions', showlegend=False, legend=None)\n",
        "\n",
        "fig = go.Figure(data = [trace], layout = simpleLayout)\n",
        "fig.update_layout(scene=simpleScene)\n",
        "fig"
      ],
      "execution_count": 12,
      "outputs": [
        {
          "output_type": "display_data",
          "data": {
            "text/html": [
              "<html>\n",
              "<head><meta charset=\"utf-8\" /></head>\n",
              "<body>\n",
              "    <div>\n",
              "            <script src=\"https://cdnjs.cloudflare.com/ajax/libs/mathjax/2.7.5/MathJax.js?config=TeX-AMS-MML_SVG\"></script><script type=\"text/javascript\">if (window.MathJax) {MathJax.Hub.Config({SVG: {font: \"STIX-Web\"}});}</script>\n",
              "                <script type=\"text/javascript\">window.PlotlyConfig = {MathJaxConfig: 'local'};</script>\n",
              "        <script src=\"https://cdn.plot.ly/plotly-latest.min.js\"></script>    \n",
              "            <div id=\"0e0e4449-9f23-408f-9b53-2d6630586239\" class=\"plotly-graph-div\" style=\"height:525px; width:100%;\"></div>\n",
              "            <script type=\"text/javascript\">\n",
              "                \n",
              "                    window.PLOTLYENV=window.PLOTLYENV || {};\n",
              "                    \n",
              "                if (document.getElementById(\"0e0e4449-9f23-408f-9b53-2d6630586239\")) {\n",
              "                    Plotly.newPlot(\n",
              "                        '0e0e4449-9f23-408f-9b53-2d6630586239',\n",
              "                        [{\"marker\": {\"color\": [\"#ff0000\", \"#ffbf00\", \"#00ff00\", \"#00ff00\", \"#ffbf00\", \"#00ff00\", \"#00ff00\", \"#ff0000\", \"#00ff00\", \"#00ff00\", \"#00ff00\", \"#00ff00\", \"#00ff00\", \"#00ff00\", \"#ffbf00\", \"#ff0000\", \"#00ff00\", \"#ffbf00\", \"#00ff00\", \"#00ff00\", \"#00ff00\", \"#00ff00\", \"#ff0000\", \"#00ff00\", \"#00ff00\", \"#00ff00\", \"#00ff00\", \"#00ff00\", \"#00ff00\", \"#00ff00\", \"#00ff00\", \"#00ff00\", \"#00ff00\", \"#00ff00\", \"#00ff00\", \"#00ff00\", \"#00ff00\", \"#ff0000\", \"#ff0000\", \"#00ff00\", \"#00ff00\", \"#00ff00\", \"#00ff00\", \"#00ff00\", \"#00ff00\", \"#00ff00\", \"#00ff00\", \"#ff0000\", \"#ff0000\", \"#00ff00\", \"#ffbf00\", \"#00ff00\", \"#00ff00\", \"#00ff00\", \"#00ff00\", \"#ffbf00\", \"#ff0000\", \"#ffbf00\", \"#ffbf00\", \"#00ff00\", \"#00ff00\", \"#ffbf00\", \"#00ff00\", \"#00ff00\", \"#00ff00\", \"#00ff00\", \"#00ff00\", \"#ffbf00\", \"#ffbf00\", \"#ffbf00\", \"#ffbf00\", \"#00ff00\", \"#00ff00\", \"#00ff00\", \"#00ff00\", \"#00ff00\", \"#ff0000\", \"#ff0000\", \"#ffbf00\", \"#00ff00\", \"#ffbf00\", \"#00ff00\", \"#00ff00\", \"#ff0000\", \"#00ff00\", \"#00ff00\", \"#00ff00\", \"#00ff00\", \"#ff0000\", \"#00ff00\", \"#ff0000\", \"#ffbf00\", \"#00ff00\", \"#ff0000\", \"#ffbf00\", \"#00ff00\", \"#ff0000\", \"#00ff00\", \"#00ff00\", \"#00ff00\", \"#00ff00\", \"#ff0000\", \"#ff0000\", \"#00ff00\", \"#00ff00\", \"#ff0000\", \"#00ff00\", \"#ffbf00\", \"#00ff00\", \"#00ff00\", \"#00ff00\", \"#00ff00\", \"#ffbf00\", \"#ffbf00\", \"#ff0000\", \"#00ff00\", \"#00ff00\", \"#00ff00\", \"#00ff00\", \"#00ff00\", \"#00ff00\", \"#ffbf00\", \"#ff0000\", \"#00ff00\", \"#00ff00\", \"#00ff00\", \"#00ff00\", \"#00ff00\", \"#00ff00\", \"#00ff00\", \"#00ff00\", \"#00ff00\", \"#ff0000\", \"#ffbf00\", \"#00ff00\", \"#00ff00\", \"#ffbf00\", \"#ffbf00\", \"#ffbf00\", \"#00ff00\", \"#00ff00\", \"#00ff00\", \"#00ff00\", \"#00ff00\", \"#00ff00\", \"#00ff00\", \"#00ff00\", \"#00ff00\", \"#ff0000\", \"#ffbf00\", \"#ff0000\", \"#00ff00\", \"#00ff00\", \"#ff0000\", \"#ff0000\", \"#00ff00\", \"#ffbf00\", \"#00ff00\", \"#00ff00\", \"#00ff00\", \"#00ff00\", \"#ffbf00\", \"#00ff00\", \"#00ff00\", \"#00ff00\", \"#00ff00\", \"#00ff00\", \"#ffbf00\", \"#00ff00\", \"#00ff00\", \"#ffbf00\", \"#00ff00\", \"#00ff00\", \"#00ff00\", \"#00ff00\", \"#00ff00\", \"#ffbf00\", \"#00ff00\", \"#00ff00\"], \"size\": 5, \"symbol\": [\"square-open\", \"square\", \"square\", \"square\", \"square\", \"square\", \"square\", \"square\", \"circle-open\", \"square\", \"square\", \"square\", \"square\", \"square\", \"square\", \"square\", \"square\", \"square\", \"square\", \"square\", \"square\", \"square\", \"square\", \"square\", \"square\", \"x\", \"square\", \"square\", \"square\", \"square\", \"square\", \"square\", \"square\", \"square\", \"square\", \"square\", \"square\", \"square\", \"square\", \"square\", \"square\", \"square\", \"square\", \"square\", \"square\", \"x\", \"square\", \"square\", \"square\", \"square\", \"square\", \"square\", \"square\", \"circle-open\", \"x\", \"square\", \"square\", \"x\", \"square\", \"square\", \"circle-open\", \"circle-open\", \"square\", \"square\", \"square\", \"square\", \"circle-open\", \"square\", \"square\", \"square\", \"square\", \"square\", \"square\", \"square\", \"square\", \"square\", \"square\", \"square\", \"square\", \"square\", \"square\", \"square\", \"square\", \"square\", \"square\", \"square\", \"square\", \"square\", \"square\", \"square\", \"circle-open\", \"square\", \"square\", \"square\", \"square\", \"circle-open\", \"square\", \"square\", \"square\", \"square\", \"square\", \"square\", \"square\", \"circle-open\", \"square\", \"square\", \"square\", \"square\", \"square\", \"square\", \"square\", \"square\", \"square\", \"square\", \"square\", \"square\", \"square\", \"square\", \"square\", \"square\", \"square\", \"square\", \"square\", \"square\", \"square\", \"square\", \"square\", \"square\", \"square\", \"square\", \"square\", \"square\", \"square\", \"square\", \"square\", \"square\", \"square\", \"square\", \"square\", \"square\", \"square\", \"square\", \"square\", \"square\", \"square\", \"square\", \"square\", \"square\", \"square\", \"square\", \"square\", \"square\", \"square\", \"square\", \"square\", \"square\", \"square\", \"square\", \"square\", \"square\", \"square\", \"square\", \"square\", \"square\", \"square\", \"square\", \"square\", \"square\", \"square\", \"square\", \"square\", \"square\", \"square\", \"square\", \"square\", \"square\", \"square\", \"square\", \"square\"]}, \"mode\": \"markers\", \"text\": [\"Li Yong-Rui\", \"No power\", \"No power\", \"Edmund Mahon\", \"Edmund Mahon\", \"No power\", \"No power\", \"No power\", \"Zachary Hudson\", \"No power\", \"No power\", \"No power\", \"No power\", \"No power\", \"No power\", \"Yuri Grom\", \"No power\", \"No power\", \"Edmund Mahon\", \"Edmund Mahon\", \"Edmund Mahon\", \"Edmund Mahon\", \"Edmund Mahon\", \"No power\", \"No power\", \"Felicia Winters\", \"No power\", \"No power\", \"No power\", \"No power\", \"No power\", \"No power\", \"No power\", \"No power\", \"No power\", \"Edmund Mahon\", \"Edmund Mahon\", \"No power\", \"No power\", \"No power\", \"No power\", \"No power\", \"Edmund Mahon\", \"No power\", \"No power\", \"Felicia Winters\", \"No power\", \"Edmund Mahon\", \"Yuri Grom\", \"No power\", \"No power\", \"Edmund Mahon\", \"Edmund Mahon\", \"Zachary Hudson\", \"Felicia Winters\", \"Zemina Torval\", \"Edmund Mahon\", \"Felicia Winters\", \"No power\", \"No power\", \"Zachary Hudson\", \"Zachary Hudson\", \"Edmund Mahon\", \"No power\", \"Edmund Mahon\", \"Edmund Mahon\", \"Zachary Hudson\", \"No power\", \"No power\", \"No power\", \"No power\", \"Edmund Mahon\", \"No power\", \"No power\", \"No power\", \"No power\", \"No power\", \"No power\", \"No power\", \"No power\", \"Edmund Mahon\", \"No power\", \"No power\", \"No power\", \"No power\", \"No power\", \"Edmund Mahon\", \"No power\", \"No power\", \"Edmund Mahon\", \"Zachary Hudson\", \"No power\", \"Edmund Mahon\", \"No power\", \"Edmund Mahon\", \"Zachary Hudson\", \"No power\", \"No power\", \"No power\", \"No power\", \"No power\", \"No power\", \"No power\", \"Zachary Hudson\", \"Edmund Mahon\", \"Pranav Antal\", \"Edmund Mahon\", \"No power\", \"No power\", \"No power\", \"Edmund Mahon\", \"No power\", \"Edmund Mahon\", \"Edmund Mahon\", \"No power\", \"No power\", \"No power\", \"No power\", \"No power\", \"No power\", \"No power\", \"No power\", \"No power\", \"No power\", \"No power\", \"No power\", \"No power\", \"No power\", \"No power\", \"No power\", \"No power\", \"No power\", \"No power\", \"No power\", \"No power\", \"No power\", \"No power\", \"No power\", \"No power\", \"No power\", \"No power\", \"No power\", \"No power\", \"No power\", \"No power\", \"No power\", \"No power\", \"No power\", \"No power\", \"No power\", \"No power\", \"No power\", \"No power\", \"No power\", \"No power\", \"No power\", \"No power\", \"No power\", \"No power\", \"No power\", \"No power\", \"No power\", \"No power\", \"No power\", \"No power\", \"No power\", \"No power\", \"No power\", \"No power\", \"No power\", \"No power\", \"No power\", \"No power\", \"Pranav Antal\", \"No power\", \"No power\", \"No power\", \"No power\", \"No power\"], \"type\": \"scatter3d\", \"x\": [-37.0625, -94.53125, 62.03125, -33.65625, 66.3125, 153.6875, 128.625, -139.84375, 23.75, 13.96875, -95.96875, -31.3125, -108.46875, 22.4375, 70.15625, -33.71875, 7.9375, -69.0625, 67.8125, 68.53125, 33.6875, 24.78125, 31.75, 19.34375, 138.4375, 82.96875, -38.875, 149.5, 132.75, 31.875, -100.34375, -88.8125, -94.34375, -95.46875, -99.28125, 43.28125, 25.125, 60.28125, -93.3125, 75.65625, 136.84375, 48.28125, 41.15625, 9.125, 145.5625, 80.9375, 145.40625, -78.75, -29.0, 47.75, 28.03125, 70.03125, 18.09375, 21.03125, 77.125, 20.90625, 72.75, 17.875, 19.71875, 67.8125, -7.34375, 5.28125, 20.875, 23.1875, 73.75, 35.71875, 28.03125, 21.53125, 6.3125, 16.71875, 6.5625, 21.6875, 147.9375, 14.125, -90.125, 37.5625, -141.09375, 118.8125, -68.625, 140.75, 34.78125, 67.3125, 144.09375, -74.625, 80.0, -86.5, 65.5625, -91.125, -56.21875, 68.71875, 10.5, 6.21875, 11.28125, 148.25, 14.21875, 4.53125, -32.1875, 18.3125, 145.65625, 19.15625, 27.4375, 6.25, -72.4375, 0.0, 66.53125, -148.4375, 35.59375, 24.09375, -91.53125, 148.375, 41.59375, 153.5, 65.3125, 34.03125, 155.0, -76.71875, -81.09375, -86.0625, -86.0625, -79.125, -74.125, -75.1875, -78.59375, -77.0, -77.0, -88.5, -88.5, -83.28125, -86.40625, -87.40625, -87.40625, -86.59375, 283.84375, -303.40625, -72.875, -352.78125, -274.65625, -253.8125, -226.5, -348.65625, -172.8125, -86.15625, -86.15625, -74.25, -70.75, -78.46875, -88.3125, -77.375, -319.8125, -303.84375, 27.1875, -80.625, -92.0, 18.0, 18.0, 136.375, 149.5, 147.4375, -71.25, -103.71875, -77.90625, -329.53125, 277.3125, -83.40625, -82.1875, 141.8125, 28.03125, -314.34375, 143.0625, -342.3125, -291.59375, 120.3125, -70.15625, -155.75, 158.3125, 158.3125, -192.125, -63.59375, -63.59375], \"y\": [-79.125, -40.5, 38.875, -20.65625, 43.3125, -45.03125, -58.15625, -12.6875, 64.65625, -6.0, -46.6875, -107.875, -35.03125, 85.375, 40.59375, 144.15625, 83.3125, -148.09375, 35.25, 45.46875, 99.9375, 116.53125, 114.09375, 70.78125, -41.125, 33.78125, -115.5, -69.8125, -35.21875, -91.9375, -55.3125, -42.5, -46.6875, -35.9375, -33.21875, 110.34375, 116.34375, 46.40625, 114.09375, 38.46875, -58.15625, 37.75, 114.375, 80.46875, -46.9375, 30.15625, -26.8125, 69.40625, 137.84375, 41.375, 83.34375, 44.15625, 89.46875, 65.5, 32.75, 3.75, 68.25, -21.375, -15.84375, 26.9375, 5.71875, 10.875, 92.4375, 76.46875, 44.375, 109.34375, 58.21875, 4.25, 1.71875, -9.125, -10.25, 88.3125, -72.5625, -3.28125, -22.875, -84.625, -1.3125, 125.9375, -149.125, -63.9375, 77.84375, -20.53125, -68.5625, -165.96875, 53.34375, -43.375, 38.875, -40.21875, 92.625, 41.03125, -47.34375, -9.1875, 90.28125, -37.4375, -6.53125, -18.25, -111.375, -4.6875, -61.65625, 80.75, 75.4375, -5.75, -141.1875, 0.0, 34.6875, -5.40625, 80.90625, 76.5625, -40.09375, -63.46875, 73.875, -43.03125, 52.25, 106.53125, -50.28125, -344.4375, -337.09375, -361.65625, -361.65625, -349.125, -328.78125, -346.59375, -340.53125, -344.125, -344.125, -366.28125, -366.28125, -347.1875, -301.84375, -344.96875, -344.96875, -339.28125, -38.9375, -314.15625, -336.96875, -346.34375, -271.34375, -254.1875, -193.5, -339.21875, -154.625, -356.8125, -356.8125, -283.15625, -352.84375, -324.9375, -348.84375, -352.03125, -913.46875, -860.59375, -82.34375, -337.4375, -341.3125, 78.125, 78.125, -66.1875, -54.625, -58.46875, -167.625, -38.5, -135.28125, -893.71875, -30.90625, -178.375, -260.59375, -21.84375, -99.40625, -890.34375, -43.0625, -952.71875, -731.09375, 127.34375, -140.21875, -3.53125, -42.03125, -42.03125, -471.65625, -319.09375, -319.09375], \"z\": [-100.0625, 110.09375, 10.75, 72.46875, 24.1875, 90.59375, 85.65625, -81.34375, -22.21875, -4.59375, 119.1875, -25.03125, 109.53125, -26.71875, 22.125, 19.34375, -4.71875, -22.375, 32.65625, 28.21875, 11.5625, 19.75, 17.5625, -3.6875, 60.8125, 26.25, -22.5625, 94.5625, 55.09375, 166.8125, 105.0625, 107.71875, 94.1875, 112.84375, 120.84375, 21.28125, 26.1875, 23.53125, -75.625, 11.4375, 65.34375, 28.03125, 22.0, -3.71875, 55.65625, 29.6875, 77.46875, 81.09375, -63.375, 30.3125, -22.09375, 30.53125, -5.28125, -12.5625, 27.09375, -7.5, 48.75, 6.625, 11.8125, 31.1875, 26.78125, 6.75, -13.34375, 8.0, 48.09375, -0.28125, -26.46875, -19.21875, 0.59375, 2.28125, 2.34375, -10.21875, 76.78125, 1.3125, 115.15625, 139.375, -72.625, -17.21875, -17.5, 75.8125, -8.375, -120.8125, 75.0, -35.03125, 47.84375, 117.3125, 31.0625, 98.53125, -89.09375, 32.75, 25.28125, 2.65625, -13.8125, 56.46875, 16.90625, -2.875, -28.09375, -18.59375, 58.3125, -27.25, -1.5, -1.28125, -101.15625, 0.0, 29.1875, 28.5625, -12.6875, 1.5, 102.375, 63.78125, -18.15625, 72.09375, 35.03125, 11.21875, 84.625, -147.34375, -148.3125, -159.9375, -159.9375, -158.6875, -143.96875, -152.40625, -149.625, -146.78125, -146.78125, -159.6875, -159.6875, -151.40625, -125.15625, -150.90625, -150.90625, -147.03125, -128.25, 7.3125, -145.09375, 10.5, -10.8125, -4.0625, -12.46875, 13.875, 13.3125, -165.59375, -165.59375, -129.53125, -157.9375, -144.9375, -172.9375, -156.3125, -216.75, -236.125, 151.65625, -156.6875, -143.5, -10.5625, -10.5625, 73.03125, 84.59375, 76.21875, -41.59375, 101.65625, -94.375, -218.5, -125.0625, -32.90625, -100.9375, 64.59375, 175.0, -221.71875, 55.6875, -219.28125, -224.375, -19.25, -27.59375, 33.09375, 69.5, 69.5, -194.96875, -147.40625, -147.40625]}],\n",
              "                        {\"font\": {\"color\": \"#ffffff\", \"family\": \"Courier New, monospace\", \"size\": 12}, \"paper_bgcolor\": \"rgb(0,0,0)\", \"plot_bgcolor\": \"rgb(0,0,0)\", \"scene\": {\"xaxis\": {\"backgroundcolor\": \"rgb(0,0,0)\", \"gridcolor\": \"grey\", \"showbackground\": false, \"zerolinecolor\": \"white\"}, \"yaxis\": {\"backgroundcolor\": \"rgb(0,0,0)\", \"gridcolor\": \"grey\", \"showbackground\": false, \"zerolinecolor\": \"white\"}, \"zaxis\": {\"backgroundcolor\": \"rgb(0,0,0)\", \"gridcolor\": \"grey\", \"showbackground\": false, \"zerolinecolor\": \"white\"}}, \"template\": {\"data\": {\"bar\": [{\"error_x\": {\"color\": \"#2a3f5f\"}, \"error_y\": {\"color\": \"#2a3f5f\"}, \"marker\": {\"line\": {\"color\": \"#E5ECF6\", \"width\": 0.5}}, \"type\": \"bar\"}], \"barpolar\": [{\"marker\": {\"line\": {\"color\": \"#E5ECF6\", \"width\": 0.5}}, \"type\": \"barpolar\"}], \"carpet\": [{\"aaxis\": {\"endlinecolor\": \"#2a3f5f\", \"gridcolor\": \"white\", \"linecolor\": \"white\", \"minorgridcolor\": \"white\", \"startlinecolor\": \"#2a3f5f\"}, \"baxis\": {\"endlinecolor\": \"#2a3f5f\", \"gridcolor\": \"white\", \"linecolor\": \"white\", \"minorgridcolor\": \"white\", \"startlinecolor\": \"#2a3f5f\"}, \"type\": \"carpet\"}], \"choropleth\": [{\"colorbar\": {\"outlinewidth\": 0, \"ticks\": \"\"}, \"type\": \"choropleth\"}], \"contour\": [{\"colorbar\": {\"outlinewidth\": 0, \"ticks\": \"\"}, \"colorscale\": [[0.0, \"#0d0887\"], [0.1111111111111111, \"#46039f\"], [0.2222222222222222, \"#7201a8\"], [0.3333333333333333, \"#9c179e\"], [0.4444444444444444, \"#bd3786\"], [0.5555555555555556, \"#d8576b\"], [0.6666666666666666, \"#ed7953\"], [0.7777777777777778, \"#fb9f3a\"], [0.8888888888888888, \"#fdca26\"], [1.0, \"#f0f921\"]], \"type\": \"contour\"}], \"contourcarpet\": [{\"colorbar\": {\"outlinewidth\": 0, \"ticks\": \"\"}, \"type\": \"contourcarpet\"}], \"heatmap\": [{\"colorbar\": {\"outlinewidth\": 0, \"ticks\": \"\"}, \"colorscale\": [[0.0, \"#0d0887\"], [0.1111111111111111, \"#46039f\"], [0.2222222222222222, \"#7201a8\"], [0.3333333333333333, \"#9c179e\"], [0.4444444444444444, \"#bd3786\"], [0.5555555555555556, \"#d8576b\"], [0.6666666666666666, \"#ed7953\"], [0.7777777777777778, \"#fb9f3a\"], [0.8888888888888888, \"#fdca26\"], [1.0, \"#f0f921\"]], \"type\": \"heatmap\"}], \"heatmapgl\": [{\"colorbar\": {\"outlinewidth\": 0, \"ticks\": \"\"}, \"colorscale\": [[0.0, \"#0d0887\"], [0.1111111111111111, \"#46039f\"], [0.2222222222222222, \"#7201a8\"], [0.3333333333333333, \"#9c179e\"], [0.4444444444444444, \"#bd3786\"], [0.5555555555555556, \"#d8576b\"], [0.6666666666666666, \"#ed7953\"], [0.7777777777777778, \"#fb9f3a\"], [0.8888888888888888, \"#fdca26\"], [1.0, \"#f0f921\"]], \"type\": \"heatmapgl\"}], \"histogram\": [{\"marker\": {\"colorbar\": {\"outlinewidth\": 0, \"ticks\": \"\"}}, \"type\": \"histogram\"}], \"histogram2d\": [{\"colorbar\": {\"outlinewidth\": 0, \"ticks\": \"\"}, \"colorscale\": [[0.0, \"#0d0887\"], [0.1111111111111111, \"#46039f\"], [0.2222222222222222, \"#7201a8\"], [0.3333333333333333, \"#9c179e\"], [0.4444444444444444, \"#bd3786\"], [0.5555555555555556, \"#d8576b\"], [0.6666666666666666, \"#ed7953\"], [0.7777777777777778, \"#fb9f3a\"], [0.8888888888888888, \"#fdca26\"], [1.0, \"#f0f921\"]], \"type\": \"histogram2d\"}], \"histogram2dcontour\": [{\"colorbar\": {\"outlinewidth\": 0, \"ticks\": \"\"}, \"colorscale\": [[0.0, \"#0d0887\"], [0.1111111111111111, \"#46039f\"], [0.2222222222222222, \"#7201a8\"], [0.3333333333333333, \"#9c179e\"], [0.4444444444444444, \"#bd3786\"], [0.5555555555555556, \"#d8576b\"], [0.6666666666666666, \"#ed7953\"], [0.7777777777777778, \"#fb9f3a\"], [0.8888888888888888, \"#fdca26\"], [1.0, \"#f0f921\"]], \"type\": \"histogram2dcontour\"}], \"mesh3d\": [{\"colorbar\": {\"outlinewidth\": 0, \"ticks\": \"\"}, \"type\": \"mesh3d\"}], \"parcoords\": [{\"line\": {\"colorbar\": {\"outlinewidth\": 0, \"ticks\": \"\"}}, \"type\": \"parcoords\"}], \"pie\": [{\"automargin\": true, \"type\": \"pie\"}], \"scatter\": [{\"marker\": {\"colorbar\": {\"outlinewidth\": 0, \"ticks\": \"\"}}, \"type\": \"scatter\"}], \"scatter3d\": [{\"line\": {\"colorbar\": {\"outlinewidth\": 0, \"ticks\": \"\"}}, \"marker\": {\"colorbar\": {\"outlinewidth\": 0, \"ticks\": \"\"}}, \"type\": \"scatter3d\"}], \"scattercarpet\": [{\"marker\": {\"colorbar\": {\"outlinewidth\": 0, \"ticks\": \"\"}}, \"type\": \"scattercarpet\"}], \"scattergeo\": [{\"marker\": {\"colorbar\": {\"outlinewidth\": 0, \"ticks\": \"\"}}, \"type\": \"scattergeo\"}], \"scattergl\": [{\"marker\": {\"colorbar\": {\"outlinewidth\": 0, \"ticks\": \"\"}}, \"type\": \"scattergl\"}], \"scattermapbox\": [{\"marker\": {\"colorbar\": {\"outlinewidth\": 0, \"ticks\": \"\"}}, \"type\": \"scattermapbox\"}], \"scatterpolar\": [{\"marker\": {\"colorbar\": {\"outlinewidth\": 0, \"ticks\": \"\"}}, \"type\": \"scatterpolar\"}], \"scatterpolargl\": [{\"marker\": {\"colorbar\": {\"outlinewidth\": 0, \"ticks\": \"\"}}, \"type\": \"scatterpolargl\"}], \"scatterternary\": [{\"marker\": {\"colorbar\": {\"outlinewidth\": 0, \"ticks\": \"\"}}, \"type\": \"scatterternary\"}], \"surface\": [{\"colorbar\": {\"outlinewidth\": 0, \"ticks\": \"\"}, \"colorscale\": [[0.0, \"#0d0887\"], [0.1111111111111111, \"#46039f\"], [0.2222222222222222, \"#7201a8\"], [0.3333333333333333, \"#9c179e\"], [0.4444444444444444, \"#bd3786\"], [0.5555555555555556, \"#d8576b\"], [0.6666666666666666, \"#ed7953\"], [0.7777777777777778, \"#fb9f3a\"], [0.8888888888888888, \"#fdca26\"], [1.0, \"#f0f921\"]], \"type\": \"surface\"}], \"table\": [{\"cells\": {\"fill\": {\"color\": \"#EBF0F8\"}, \"line\": {\"color\": \"white\"}}, \"header\": {\"fill\": {\"color\": \"#C8D4E3\"}, \"line\": {\"color\": \"white\"}}, \"type\": \"table\"}]}, \"layout\": {\"annotationdefaults\": {\"arrowcolor\": \"#2a3f5f\", \"arrowhead\": 0, \"arrowwidth\": 1}, \"coloraxis\": {\"colorbar\": {\"outlinewidth\": 0, \"ticks\": \"\"}}, \"colorscale\": {\"diverging\": [[0, \"#8e0152\"], [0.1, \"#c51b7d\"], [0.2, \"#de77ae\"], [0.3, \"#f1b6da\"], [0.4, \"#fde0ef\"], [0.5, \"#f7f7f7\"], [0.6, \"#e6f5d0\"], [0.7, \"#b8e186\"], [0.8, \"#7fbc41\"], [0.9, \"#4d9221\"], [1, \"#276419\"]], \"sequential\": [[0.0, \"#0d0887\"], [0.1111111111111111, \"#46039f\"], [0.2222222222222222, \"#7201a8\"], [0.3333333333333333, \"#9c179e\"], [0.4444444444444444, \"#bd3786\"], [0.5555555555555556, \"#d8576b\"], [0.6666666666666666, \"#ed7953\"], [0.7777777777777778, \"#fb9f3a\"], [0.8888888888888888, \"#fdca26\"], [1.0, \"#f0f921\"]], \"sequentialminus\": [[0.0, \"#0d0887\"], [0.1111111111111111, \"#46039f\"], [0.2222222222222222, \"#7201a8\"], [0.3333333333333333, \"#9c179e\"], [0.4444444444444444, \"#bd3786\"], [0.5555555555555556, \"#d8576b\"], [0.6666666666666666, \"#ed7953\"], [0.7777777777777778, \"#fb9f3a\"], [0.8888888888888888, \"#fdca26\"], [1.0, \"#f0f921\"]]}, \"colorway\": [\"#636efa\", \"#EF553B\", \"#00cc96\", \"#ab63fa\", \"#FFA15A\", \"#19d3f3\", \"#FF6692\", \"#B6E880\", \"#FF97FF\", \"#FECB52\"], \"font\": {\"color\": \"#2a3f5f\"}, \"geo\": {\"bgcolor\": \"white\", \"lakecolor\": \"white\", \"landcolor\": \"#E5ECF6\", \"showlakes\": true, \"showland\": true, \"subunitcolor\": \"white\"}, \"hoverlabel\": {\"align\": \"left\"}, \"hovermode\": \"closest\", \"mapbox\": {\"style\": \"light\"}, \"paper_bgcolor\": \"white\", \"plot_bgcolor\": \"#E5ECF6\", \"polar\": {\"angularaxis\": {\"gridcolor\": \"white\", \"linecolor\": \"white\", \"ticks\": \"\"}, \"bgcolor\": \"#E5ECF6\", \"radialaxis\": {\"gridcolor\": \"white\", \"linecolor\": \"white\", \"ticks\": \"\"}}, \"scene\": {\"xaxis\": {\"backgroundcolor\": \"#E5ECF6\", \"gridcolor\": \"white\", \"gridwidth\": 2, \"linecolor\": \"white\", \"showbackground\": true, \"ticks\": \"\", \"zerolinecolor\": \"white\"}, \"yaxis\": {\"backgroundcolor\": \"#E5ECF6\", \"gridcolor\": \"white\", \"gridwidth\": 2, \"linecolor\": \"white\", \"showbackground\": true, \"ticks\": \"\", \"zerolinecolor\": \"white\"}, \"zaxis\": {\"backgroundcolor\": \"#E5ECF6\", \"gridcolor\": \"white\", \"gridwidth\": 2, \"linecolor\": \"white\", \"showbackground\": true, \"ticks\": \"\", \"zerolinecolor\": \"white\"}}, \"shapedefaults\": {\"line\": {\"color\": \"#2a3f5f\"}}, \"ternary\": {\"aaxis\": {\"gridcolor\": \"white\", \"linecolor\": \"white\", \"ticks\": \"\"}, \"baxis\": {\"gridcolor\": \"white\", \"linecolor\": \"white\", \"ticks\": \"\"}, \"bgcolor\": \"#E5ECF6\", \"caxis\": {\"gridcolor\": \"white\", \"linecolor\": \"white\", \"ticks\": \"\"}}, \"title\": {\"x\": 0.05}, \"xaxis\": {\"automargin\": true, \"gridcolor\": \"white\", \"linecolor\": \"white\", \"ticks\": \"\", \"title\": {\"standoff\": 15}, \"zerolinecolor\": \"white\", \"zerolinewidth\": 2}, \"yaxis\": {\"automargin\": true, \"gridcolor\": \"white\", \"linecolor\": \"white\", \"ticks\": \"\", \"title\": {\"standoff\": 15}, \"zerolinecolor\": \"white\", \"zerolinewidth\": 2}}}, \"title\": {\"text\": \"Club Systems: Red Home, Yellow Control, and Green Other\"}},\n",
              "                        {\"responsive\": true}\n",
              "                    ).then(function(){\n",
              "                            \n",
              "var gd = document.getElementById('0e0e4449-9f23-408f-9b53-2d6630586239');\n",
              "var x = new MutationObserver(function (mutations, observer) {{\n",
              "        var display = window.getComputedStyle(gd).display;\n",
              "        if (!display || display === 'none') {{\n",
              "            console.log([gd, 'removed!']);\n",
              "            Plotly.purge(gd);\n",
              "            observer.disconnect();\n",
              "        }}\n",
              "}});\n",
              "\n",
              "// Listen for the removal of the full notebook cells\n",
              "var notebookContainer = gd.closest('#notebook-container');\n",
              "if (notebookContainer) {{\n",
              "    x.observe(notebookContainer, {childList: true});\n",
              "}}\n",
              "\n",
              "// Listen for the clearing of the current output cell\n",
              "var outputEl = gd.closest('.output');\n",
              "if (outputEl) {{\n",
              "    x.observe(outputEl, {childList: true});\n",
              "}}\n",
              "\n",
              "                        })\n",
              "                };\n",
              "                \n",
              "            </script>\n",
              "        </div>\n",
              "</body>\n",
              "</html>"
            ]
          },
          "metadata": {
            "tags": []
          }
        }
      ]
    },
    {
      "cell_type": "code",
      "metadata": {
        "id": "utLeiyDJJ5eU",
        "colab_type": "code",
        "colab": {
          "base_uri": "https://localhost:8080/",
          "height": 297
        },
        "outputId": "978b64d4-d9ff-4582-9884-a0dd5747e521"
      },
      "source": [
        "powered = df[ df['power'] != 'No power']\n",
        "powered = powered[ powered['isHomeSystem'] == True]\n",
        "powered[['systemName','factionName','isHomeSystem','population','power']].sort_values(by=['power','factionName'])"
      ],
      "execution_count": 13,
      "outputs": [
        {
          "output_type": "execute_result",
          "data": {
            "text/html": [
              "<div>\n",
              "<style scoped>\n",
              "    .dataframe tbody tr th:only-of-type {\n",
              "        vertical-align: middle;\n",
              "    }\n",
              "\n",
              "    .dataframe tbody tr th {\n",
              "        vertical-align: top;\n",
              "    }\n",
              "\n",
              "    .dataframe thead th {\n",
              "        text-align: right;\n",
              "    }\n",
              "</style>\n",
              "<table border=\"1\" class=\"dataframe\">\n",
              "  <thead>\n",
              "    <tr style=\"text-align: right;\">\n",
              "      <th></th>\n",
              "      <th>systemName</th>\n",
              "      <th>factionName</th>\n",
              "      <th>isHomeSystem</th>\n",
              "      <th>population</th>\n",
              "      <th>power</th>\n",
              "    </tr>\n",
              "  </thead>\n",
              "  <tbody>\n",
              "    <tr>\n",
              "      <th>56</th>\n",
              "      <td>Leesti</td>\n",
              "      <td>Reynhardt IntelliSys</td>\n",
              "      <td>True</td>\n",
              "      <td>5000005150</td>\n",
              "      <td>Edmund Mahon</td>\n",
              "    </tr>\n",
              "    <tr>\n",
              "      <th>47</th>\n",
              "      <td>Karitis</td>\n",
              "      <td>The Greenventure Group</td>\n",
              "      <td>True</td>\n",
              "      <td>364978784</td>\n",
              "      <td>Edmund Mahon</td>\n",
              "    </tr>\n",
              "    <tr>\n",
              "      <th>22</th>\n",
              "      <td>Ega</td>\n",
              "      <td>Wreaken Construction</td>\n",
              "      <td>True</td>\n",
              "      <td>4629476</td>\n",
              "      <td>Edmund Mahon</td>\n",
              "    </tr>\n",
              "    <tr>\n",
              "      <th>0</th>\n",
              "      <td>64 Ceti</td>\n",
              "      <td>Worster Insurance</td>\n",
              "      <td>True</td>\n",
              "      <td>5096451</td>\n",
              "      <td>Li Yong-Rui</td>\n",
              "    </tr>\n",
              "    <tr>\n",
              "      <th>105</th>\n",
              "      <td>Song Ku</td>\n",
              "      <td>Sirius Drives</td>\n",
              "      <td>True</td>\n",
              "      <td>3102984</td>\n",
              "      <td>Pranav Antal</td>\n",
              "    </tr>\n",
              "    <tr>\n",
              "      <th>48</th>\n",
              "      <td>Kikapu</td>\n",
              "      <td>Sirius Power</td>\n",
              "      <td>True</td>\n",
              "      <td>287738</td>\n",
              "      <td>Yuri Grom</td>\n",
              "    </tr>\n",
              "    <tr>\n",
              "      <th>15</th>\n",
              "      <td>Cofan</td>\n",
              "      <td>The Rockforth Corporation</td>\n",
              "      <td>True</td>\n",
              "      <td>329971</td>\n",
              "      <td>Yuri Grom</td>\n",
              "    </tr>\n",
              "    <tr>\n",
              "      <th>90</th>\n",
              "      <td>Phanes</td>\n",
              "      <td>Sirius Catering</td>\n",
              "      <td>True</td>\n",
              "      <td>1766377</td>\n",
              "      <td>Zachary Hudson</td>\n",
              "    </tr>\n",
              "  </tbody>\n",
              "</table>\n",
              "</div>"
            ],
            "text/plain": [
              "    systemName                factionName  ...  population           power\n",
              "56      Leesti       Reynhardt IntelliSys  ...  5000005150    Edmund Mahon\n",
              "47     Karitis     The Greenventure Group  ...   364978784    Edmund Mahon\n",
              "22         Ega       Wreaken Construction  ...     4629476    Edmund Mahon\n",
              "0      64 Ceti          Worster Insurance  ...     5096451     Li Yong-Rui\n",
              "105    Song Ku              Sirius Drives  ...     3102984    Pranav Antal\n",
              "48      Kikapu               Sirius Power  ...      287738       Yuri Grom\n",
              "15       Cofan  The Rockforth Corporation  ...      329971       Yuri Grom\n",
              "90      Phanes            Sirius Catering  ...     1766377  Zachary Hudson\n",
              "\n",
              "[8 rows x 5 columns]"
            ]
          },
          "metadata": {
            "tags": []
          },
          "execution_count": 13
        }
      ]
    },
    {
      "cell_type": "code",
      "metadata": {
        "id": "0O66_hacoe8v",
        "colab_type": "code",
        "colab": {}
      },
      "source": [
        "power_dict = \\\n",
        "{ \"Aisling Duval\"         : { 'symbol' : 'cross'},\n",
        "  \"Archon Delaine\"        : { 'symbol' : 'diamond'},\n",
        "  \"Arissa Lavigny-Duval\"  : { 'symbol' : 'diamond-open'},\n",
        "  \"Denton Patreus\"        : { 'symbol' : 'x'},\n",
        "  \"Edmund Mahon\"          : { 'symbol' : 'square'},\n",
        "  \"Felicia Winters\"       : { 'symbol' : 'square-open'},\n",
        "  \"Li Yong-Rui\"           : { 'symbol' : 'square'},\n",
        "  \"Pranav Antal\"          : { 'symbol' : 'square'},\n",
        "  \"Yuri Grom\"             : { 'symbol' : 'square'},\n",
        "  \"Zachary Hudson\"        : { 'symbol' : 'square'},\n",
        "  \"Zemina Torval\"         : { 'symbol' : 'square'},\n",
        "  \"No power\"              : { 'symbol' : 'square-open'},\n",
        "}"
      ],
      "execution_count": 14,
      "outputs": []
    },
    {
      "cell_type": "code",
      "metadata": {
        "id": "GtLG1d7xqBK0",
        "colab_type": "code",
        "colab": {
          "base_uri": "https://localhost:8080/",
          "height": 34
        },
        "outputId": "041e1889-1775-49bc-af50-63df5ce2f461"
      },
      "source": [
        "power_dict['Aisling Duval']"
      ],
      "execution_count": 16,
      "outputs": [
        {
          "output_type": "execute_result",
          "data": {
            "text/plain": [
              "{'symbol': 'cross'}"
            ]
          },
          "metadata": {
            "tags": []
          },
          "execution_count": 16
        }
      ]
    }
  ]
}