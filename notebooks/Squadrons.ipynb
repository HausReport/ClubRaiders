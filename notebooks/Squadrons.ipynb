{
  "nbformat": 4,
  "nbformat_minor": 0,
  "metadata": {
    "colab": {
      "name": "Untitled6.ipynb",
      "provenance": [],
      "authorship_tag": "ABX9TyOJY9fk4WobAjL0bmJUyu7i",
      "include_colab_link": true
    },
    "kernelspec": {
      "name": "python3",
      "display_name": "Python 3"
    }
  },
  "cells": [
    {
      "cell_type": "markdown",
      "metadata": {
        "id": "view-in-github",
        "colab_type": "text"
      },
      "source": [
        "<a href=\"https://colab.research.google.com/github/HausReport/ClubRaiders/blob/master/notebooks/Squadrons.ipynb\" target=\"_parent\"><img src=\"https://colab.research.google.com/assets/colab-badge.svg\" alt=\"Open In Colab\"/></a>"
      ]
    },
    {
      "cell_type": "code",
      "metadata": {
        "id": "jdHV2ZR4LvXV",
        "colab_type": "code",
        "colab": {
          "base_uri": "https://localhost:8080/",
          "height": 1000
        },
        "outputId": "94bf3519-28aa-4c16-914a-e0c221d9749e"
      },
      "source": [
        "import sys\n",
        "\n",
        "!{sys.executable} -m pip install --force-reinstall --upgrade \"git+https://github.com/HausReport/ClubRaiders.git#egg=craid\"\n",
        "import craid.eddb.loader.DataProducer as dp\n",
        "import pandas as pd\n",
        "import logging\n",
        "import plotly.graph_objs as go\n",
        "from numpy import *\n",
        "\n",
        "\n",
        "logging.getLogger().addHandler(logging.StreamHandler())\n",
        "logging.getLogger().level = logging.DEBUG\n",
        "\n",
        "arrays = dp.getDataArrays()\n",
        "df: pd.DataFrame = arrays['dataFrame']"
      ],
      "execution_count": 5,
      "outputs": [
        {
          "output_type": "stream",
          "text": [
            "Collecting craid\n",
            "  Cloning https://github.com/HausReport/ClubRaiders.git to /tmp/pip-install-u96ztosh/craid\n",
            "  Running command git clone -q https://github.com/HausReport/ClubRaiders.git /tmp/pip-install-u96ztosh/craid\n",
            "Processing /root/.cache/pip/wheels/a2/06/bc/5c2246621220be254683eb2689a25dcb811762e2db0de8cf66/dash-1.13.4-cp36-none-any.whl\n",
            "Processing /root/.cache/pip/wheels/35/b3/67/ca79d69f2b33930e0eef9c7197daafd3bb8e7c2133785dbcde/dash_core_components-1.10.1-cp36-none-any.whl\n",
            "Processing /root/.cache/pip/wheels/22/c0/79/ef4c2b20a23dc8457ae75c3da5f63163db213d86e13e00fe26/dash_html_components-1.0.3-cp36-none-any.whl\n",
            "Processing /root/.cache/pip/wheels/c4/17/bf/268d224583f366164cd1cf70d5fcf41ad7d584002ffd24537e/dash_table-4.8.1-cp36-none-any.whl\n",
            "Processing /root/.cache/pip/wheels/76/04/53/2bc1654437aa5ff4e4da1bb40c3e9ebf1168282a2287d516d7/dash_renderer-1.5.1-cp36-none-any.whl\n",
            "Collecting flask\n",
            "  Using cached https://files.pythonhosted.org/packages/f2/28/2a03252dfb9ebf377f40fba6a7841b47083260bf8bd8e737b0c6952df83f/Flask-1.1.2-py2.py3-none-any.whl\n",
            "Collecting pandas\n",
            "  Using cached https://files.pythonhosted.org/packages/c0/95/cb9820560a2713384ef49060b0087dfa2591c6db6f240215c2bce1f4211c/pandas-1.0.5-cp36-cp36m-manylinux1_x86_64.whl\n",
            "Collecting requests\n",
            "  Using cached https://files.pythonhosted.org/packages/45/1e/0c169c6a5381e241ba7404532c16a21d86ab872c9bed8bdcd4c423954103/requests-2.24.0-py2.py3-none-any.whl\n",
            "Collecting setuptools\n",
            "  Using cached https://files.pythonhosted.org/packages/e9/93/4860cebd5ad3ff2664ad3c966490ccb46e3b88458b2095145bca11727ca4/setuptools-47.3.1-py3-none-any.whl\n",
            "Collecting numpy\n",
            "  Using cached https://files.pythonhosted.org/packages/93/0b/71ae818646c1a80fbe6776d41f480649523ed31243f1f34d9d7e41d70195/numpy-1.19.0-cp36-cp36m-manylinux2010_x86_64.whl\n",
            "Collecting python-dateutil\n",
            "  Using cached https://files.pythonhosted.org/packages/d4/70/d60450c3dd48ef87586924207ae8907090de0b306af2bce5d134d78615cb/python_dateutil-2.8.1-py2.py3-none-any.whl\n",
            "Collecting ujson\n",
            "  Using cached https://files.pythonhosted.org/packages/12/0a/35e07ebe48f0c2a23c316d92c2e26eade75e00a3df0758be57e7804bfbf0/ujson-3.0.0-cp36-cp36m-manylinux1_x86_64.whl\n",
            "Collecting urllib3\n",
            "  Using cached https://files.pythonhosted.org/packages/e1/e5/df302e8017440f111c11cc41a6b432838672f5a70aa29227bf58149dc72f/urllib3-1.25.9-py2.py3-none-any.whl\n",
            "Processing /root/.cache/pip/wheels/d7/69/b4/3200b95828d1f0ddb3cb5699083717f4fdbd9b4223d0644c57/psutil-5.7.0-cp36-cp36m-linux_x86_64.whl\n",
            "Collecting plotly\n",
            "  Using cached https://files.pythonhosted.org/packages/27/99/9794bcd22fae2e12b689759d53fe26939a4d11b8b44b0b7056e035c64529/plotly-4.8.2-py2.py3-none-any.whl\n",
            "Collecting humanize\n",
            "  Using cached https://files.pythonhosted.org/packages/15/d5/a7a6496798ad9fc55dbdc23063a1f5424a907f934dd47b16b31a9e6263d6/humanize-2.4.1-py3-none-any.whl\n",
            "Collecting boto3\n",
            "  Using cached https://files.pythonhosted.org/packages/fd/90/b36496c075177d1ffad12f5601ccca57cab03947e0939d0fbe3548f7c0f9/boto3-1.14.15-py2.py3-none-any.whl\n",
            "Collecting botocore\n",
            "  Using cached https://files.pythonhosted.org/packages/6b/11/96149cb224a55fbd40fc95d84d698ac3632a53f72c49995be0af2fbfc1e2/botocore-1.17.15-py2.py3-none-any.whl\n",
            "Processing /root/.cache/pip/wheels/f7/e9/e4/5afc286be7c87461375e33152558415dfeb0c8f5af3b50e742/Flask_Compress-1.5.0-cp36-none-any.whl\n",
            "Processing /root/.cache/pip/wheels/8b/99/a0/81daf51dcd359a9377b110a8a886b3895921802d2fc1b2397e/future-0.18.2-cp36-none-any.whl\n",
            "Collecting click>=5.1\n",
            "  Using cached https://files.pythonhosted.org/packages/d2/3d/fa76db83bf75c4f8d338c2fd15c8d33fdd7ad23a9b5e57eb6c5de26b430e/click-7.1.2-py2.py3-none-any.whl\n",
            "Collecting Werkzeug>=0.15\n",
            "  Using cached https://files.pythonhosted.org/packages/cc/94/5f7079a0e00bd6863ef8f1da638721e9da21e5bacee597595b318f71d62e/Werkzeug-1.0.1-py2.py3-none-any.whl\n",
            "Collecting itsdangerous>=0.24\n",
            "  Using cached https://files.pythonhosted.org/packages/76/ae/44b03b253d6fade317f32c24d100b3b35c2239807046a4c953c7b89fa49e/itsdangerous-1.1.0-py2.py3-none-any.whl\n",
            "Collecting Jinja2>=2.10.1\n",
            "  Using cached https://files.pythonhosted.org/packages/30/9e/f663a2aa66a09d838042ae1a2c5659828bb9b41ea3a6efa20a20fd92b121/Jinja2-2.11.2-py2.py3-none-any.whl\n",
            "Collecting pytz>=2017.2\n",
            "  Using cached https://files.pythonhosted.org/packages/4f/a4/879454d49688e2fad93e59d7d4efda580b783c745fd2ec2a3adf87b0808d/pytz-2020.1-py2.py3-none-any.whl\n",
            "Collecting chardet<4,>=3.0.2\n",
            "  Using cached https://files.pythonhosted.org/packages/bc/a9/01ffebfb562e4274b6487b4bb1ddec7ca55ec7510b22e4c51f14098443b8/chardet-3.0.4-py2.py3-none-any.whl\n",
            "Collecting idna<3,>=2.5\n",
            "  Using cached https://files.pythonhosted.org/packages/a2/38/928ddce2273eaa564f6f50de919327bf3a00f091b5baba8dfa9460f3a8a8/idna-2.10-py2.py3-none-any.whl\n",
            "Collecting certifi>=2017.4.17\n",
            "  Using cached https://files.pythonhosted.org/packages/5e/c4/6c4fe722df5343c33226f0b4e0bb042e4dc13483228b4718baf286f86d87/certifi-2020.6.20-py2.py3-none-any.whl\n",
            "Collecting six>=1.5\n",
            "  Using cached https://files.pythonhosted.org/packages/ee/ff/48bde5c0f013094d729fe4b0316ba2a24774b3ff1c52d924a8a4cb04078a/six-1.15.0-py2.py3-none-any.whl\n",
            "Processing /root/.cache/pip/wheels/d7/a9/33/acc7b709e2a35caa7d4cae442f6fe6fbf2c43f80823d46460c/retrying-1.3.3-cp36-none-any.whl\n",
            "Collecting jmespath<1.0.0,>=0.7.1\n",
            "  Using cached https://files.pythonhosted.org/packages/07/cb/5f001272b6faeb23c1c9e0acc04d48eaaf5c862c17709d20e3469c6e0139/jmespath-0.10.0-py2.py3-none-any.whl\n",
            "Collecting s3transfer<0.4.0,>=0.3.0\n",
            "  Using cached https://files.pythonhosted.org/packages/69/79/e6afb3d8b0b4e96cefbdc690f741d7dd24547ff1f94240c997a26fa908d3/s3transfer-0.3.3-py2.py3-none-any.whl\n",
            "Collecting docutils<0.16,>=0.10\n",
            "  Using cached https://files.pythonhosted.org/packages/22/cd/a6aa959dca619918ccb55023b4cb151949c64d4d5d55b3f4ffd7eee0c6e8/docutils-0.15.2-py3-none-any.whl\n",
            "Collecting brotli\n",
            "  Using cached https://files.pythonhosted.org/packages/f4/68/60a220454dc5083c6d59b41aa90bb1c96fad62a0abf3a33e0ef64b38638a/Brotli-1.0.7-cp36-cp36m-manylinux1_x86_64.whl\n",
            "Collecting MarkupSafe>=0.23\n",
            "  Using cached https://files.pythonhosted.org/packages/b2/5f/23e0023be6bb885d00ffbefad2942bc51a620328ee910f64abe5a8d18dd1/MarkupSafe-1.1.1-cp36-cp36m-manylinux1_x86_64.whl\n",
            "Building wheels for collected packages: craid\n",
            "  Building wheel for craid (setup.py) ... \u001b[?25l\u001b[?25hdone\n",
            "  Created wheel for craid: filename=craid-0.80-cp36-none-any.whl size=569664 sha256=286b61b035531c86587ccfb41f90c5a1eaca1a4f89169e18311c816b4c64bc12\n",
            "  Stored in directory: /tmp/pip-ephem-wheel-cache-z281kat1/wheels/59/74/32/b75ca6dbfddc83071fd4a4a492a26c1066d06840be16c7d535\n",
            "Successfully built craid\n",
            "\u001b[31mERROR: kaggle 1.5.6 has requirement urllib3<1.25,>=1.21.1, but you'll have urllib3 1.25.9 which is incompatible.\u001b[0m\n",
            "\u001b[31mERROR: google-colab 1.0.0 has requirement requests~=2.23.0, but you'll have requests 2.24.0 which is incompatible.\u001b[0m\n",
            "\u001b[31mERROR: google-colab 1.0.0 has requirement six~=1.12.0, but you'll have six 1.15.0 which is incompatible.\u001b[0m\n",
            "\u001b[31mERROR: datascience 0.10.6 has requirement folium==0.2.1, but you'll have folium 0.8.3 which is incompatible.\u001b[0m\n",
            "\u001b[31mERROR: albumentations 0.1.12 has requirement imgaug<0.2.7,>=0.2.5, but you'll have imgaug 0.2.9 which is incompatible.\u001b[0m\n",
            "Installing collected packages: dash-renderer, dash-core-components, dash-table, dash-html-components, brotli, click, Werkzeug, itsdangerous, MarkupSafe, Jinja2, flask, flask-compress, six, retrying, plotly, future, dash, pytz, python-dateutil, numpy, pandas, chardet, urllib3, idna, certifi, requests, setuptools, ujson, psutil, humanize, jmespath, docutils, botocore, s3transfer, boto3, craid\n",
            "  Found existing installation: dash-renderer 1.5.1\n",
            "    Uninstalling dash-renderer-1.5.1:\n",
            "      Successfully uninstalled dash-renderer-1.5.1\n",
            "  Found existing installation: dash-core-components 1.10.1\n",
            "    Uninstalling dash-core-components-1.10.1:\n",
            "      Successfully uninstalled dash-core-components-1.10.1\n",
            "  Found existing installation: dash-table 4.8.1\n",
            "    Uninstalling dash-table-4.8.1:\n",
            "      Successfully uninstalled dash-table-4.8.1\n",
            "  Found existing installation: dash-html-components 1.0.3\n",
            "    Uninstalling dash-html-components-1.0.3:\n",
            "      Successfully uninstalled dash-html-components-1.0.3\n",
            "  Found existing installation: Brotli 1.0.7\n",
            "    Uninstalling Brotli-1.0.7:\n",
            "      Successfully uninstalled Brotli-1.0.7\n",
            "  Found existing installation: click 7.1.2\n",
            "    Uninstalling click-7.1.2:\n",
            "      Successfully uninstalled click-7.1.2\n",
            "  Found existing installation: Werkzeug 1.0.1\n",
            "    Uninstalling Werkzeug-1.0.1:\n",
            "      Successfully uninstalled Werkzeug-1.0.1\n",
            "  Found existing installation: itsdangerous 1.1.0\n",
            "    Uninstalling itsdangerous-1.1.0:\n",
            "      Successfully uninstalled itsdangerous-1.1.0\n",
            "  Found existing installation: MarkupSafe 1.1.1\n",
            "    Uninstalling MarkupSafe-1.1.1:\n",
            "      Successfully uninstalled MarkupSafe-1.1.1\n",
            "  Found existing installation: Jinja2 2.11.2\n",
            "    Uninstalling Jinja2-2.11.2:\n",
            "      Successfully uninstalled Jinja2-2.11.2\n",
            "  Found existing installation: Flask 1.1.2\n",
            "    Uninstalling Flask-1.1.2:\n",
            "      Successfully uninstalled Flask-1.1.2\n",
            "  Found existing installation: Flask-Compress 1.5.0\n",
            "    Uninstalling Flask-Compress-1.5.0:\n",
            "      Successfully uninstalled Flask-Compress-1.5.0\n",
            "  Found existing installation: six 1.15.0\n",
            "    Uninstalling six-1.15.0:\n",
            "      Successfully uninstalled six-1.15.0\n",
            "  Found existing installation: retrying 1.3.3\n",
            "    Uninstalling retrying-1.3.3:\n",
            "      Successfully uninstalled retrying-1.3.3\n",
            "  Found existing installation: plotly 4.8.2\n",
            "    Uninstalling plotly-4.8.2:\n",
            "      Successfully uninstalled plotly-4.8.2\n",
            "  Found existing installation: future 0.18.2\n",
            "    Uninstalling future-0.18.2:\n",
            "      Successfully uninstalled future-0.18.2\n",
            "  Found existing installation: dash 1.13.4\n",
            "    Uninstalling dash-1.13.4:\n",
            "      Successfully uninstalled dash-1.13.4\n",
            "  Found existing installation: pytz 2020.1\n",
            "    Uninstalling pytz-2020.1:\n",
            "      Successfully uninstalled pytz-2020.1\n",
            "  Found existing installation: python-dateutil 2.8.1\n",
            "    Uninstalling python-dateutil-2.8.1:\n",
            "      Successfully uninstalled python-dateutil-2.8.1\n",
            "  Found existing installation: numpy 1.19.0\n",
            "    Uninstalling numpy-1.19.0:\n",
            "      Successfully uninstalled numpy-1.19.0\n",
            "  Found existing installation: pandas 1.0.5\n",
            "    Uninstalling pandas-1.0.5:\n",
            "      Successfully uninstalled pandas-1.0.5\n",
            "  Found existing installation: chardet 3.0.4\n",
            "    Uninstalling chardet-3.0.4:\n",
            "      Successfully uninstalled chardet-3.0.4\n",
            "  Found existing installation: urllib3 1.25.9\n",
            "    Uninstalling urllib3-1.25.9:\n",
            "      Successfully uninstalled urllib3-1.25.9\n",
            "  Found existing installation: idna 2.10\n",
            "    Uninstalling idna-2.10:\n",
            "      Successfully uninstalled idna-2.10\n",
            "  Found existing installation: certifi 2020.6.20\n",
            "    Uninstalling certifi-2020.6.20:\n",
            "      Successfully uninstalled certifi-2020.6.20\n",
            "  Found existing installation: requests 2.24.0\n",
            "    Uninstalling requests-2.24.0:\n",
            "      Successfully uninstalled requests-2.24.0\n",
            "  Found existing installation: setuptools 47.3.1\n",
            "    Uninstalling setuptools-47.3.1:\n",
            "      Successfully uninstalled setuptools-47.3.1\n",
            "  Found existing installation: ujson 3.0.0\n",
            "    Uninstalling ujson-3.0.0:\n",
            "      Successfully uninstalled ujson-3.0.0\n",
            "  Found existing installation: psutil 5.7.0\n",
            "    Uninstalling psutil-5.7.0:\n",
            "      Successfully uninstalled psutil-5.7.0\n",
            "  Found existing installation: humanize 2.4.1\n",
            "    Uninstalling humanize-2.4.1:\n",
            "      Successfully uninstalled humanize-2.4.1\n",
            "  Found existing installation: jmespath 0.10.0\n",
            "    Uninstalling jmespath-0.10.0:\n",
            "      Successfully uninstalled jmespath-0.10.0\n",
            "  Found existing installation: docutils 0.15.2\n",
            "    Uninstalling docutils-0.15.2:\n",
            "      Successfully uninstalled docutils-0.15.2\n",
            "  Found existing installation: botocore 1.17.15\n",
            "    Uninstalling botocore-1.17.15:\n",
            "      Successfully uninstalled botocore-1.17.15\n",
            "  Found existing installation: s3transfer 0.3.3\n",
            "    Uninstalling s3transfer-0.3.3:\n",
            "      Successfully uninstalled s3transfer-0.3.3\n",
            "  Found existing installation: boto3 1.14.15\n",
            "    Uninstalling boto3-1.14.15:\n",
            "      Successfully uninstalled boto3-1.14.15\n",
            "  Found existing installation: craid 0.80\n",
            "    Uninstalling craid-0.80:\n",
            "      Successfully uninstalled craid-0.80\n",
            "Successfully installed Jinja2-2.11.2 MarkupSafe-1.1.1 Werkzeug-1.0.1 boto3-1.14.15 botocore-1.17.15 brotli-1.0.7 certifi-2020.6.20 chardet-3.0.4 click-7.1.2 craid-0.80 dash-1.13.4 dash-core-components-1.10.1 dash-html-components-1.0.3 dash-renderer-1.5.1 dash-table-4.8.1 docutils-0.15.2 flask-1.1.2 flask-compress-1.5.0 future-0.18.2 humanize-2.4.1 idna-2.10 itsdangerous-1.1.0 jmespath-0.10.0 numpy-1.19.0 pandas-1.0.5 plotly-4.8.2 psutil-5.7.0 python-dateutil-2.8.1 pytz-2020.1 requests-2.24.0 retrying-1.3.3 s3transfer-0.3.3 setuptools-47.3.1 six-1.15.0 ujson-3.0.0 urllib3-1.25.9\n"
          ],
          "name": "stdout"
        },
        {
          "output_type": "stream",
          "text": [
            "Loading from AWS\n",
            "Loading from AWS\n",
            "Found data file: /tmp/smol-factions.jsonl.gz\n",
            "Found data file: /tmp/smol-factions.jsonl.gz\n",
            "Read 663 lines of faction data\n",
            "Read 663 lines of faction data\n",
            "Found data file: /tmp/smol-systems_populated.jsonl.gz\n",
            "Found data file: /tmp/smol-systems_populated.jsonl.gz\n",
            "Read 172 lines of systems data\n",
            "Read 172 lines of systems data\n"
          ],
          "name": "stderr"
        },
        {
          "output_type": "stream",
          "text": [
            "0:213,733,376\n",
            "0.5:214,032,384\n",
            "1:216,576,000"
          ],
          "name": "stdout"
        },
        {
          "output_type": "stream",
          "text": [
            "Populated club system keys\n",
            "Populated club system keys\n",
            "Club system lookup set has {172} items\n",
            "Club system lookup set has {172} items\n",
            "Populated faction instances: {1040} items.\n",
            "Populated faction instances: {1040} items.\n",
            "Found data file: /tmp/smol-stations.jsonl.gz\n",
            "Found data file: /tmp/smol-stations.jsonl.gz\n",
            "Read 734 lines of station data, adding 734\n",
            "\n",
            "Read 734 lines of station data, adding 734\n",
            "\n"
          ],
          "name": "stderr"
        },
        {
          "output_type": "stream",
          "text": [
            "\n",
            "2:216,809,472\n"
          ],
          "name": "stdout"
        },
        {
          "output_type": "stream",
          "text": [
            "station controlling faction nexistQwent Research Base\n",
            "station controlling faction nexistQwent Research Base\n",
            "station controlling faction nexistQwent Research Base\n",
            "station controlling faction nexistQwent Research Base\n",
            "station controlling faction nexistQwent Research Base\n",
            "station controlling faction nexistQwent Research Base\n",
            "station controlling faction nexistQwent Research Base\n",
            "station controlling faction nexistQwent Research Base\n",
            "station controlling faction nexistQwent Research Base\n",
            "station controlling faction nexistQwent Research Base\n",
            "station controlling faction nexistQwent Research Base\n",
            "station controlling faction nexistQwent Research Base\n",
            "station controlling faction nexistQwent Research Base\n",
            "station controlling faction nexistQwent Research Base\n",
            "station controlling faction nexistQwent Research Base\n",
            "station controlling faction nexistQwent Research Base\n",
            "station controlling faction nexistQwent Research Base\n",
            "station controlling faction nexistQwent Research Base\n",
            "station controlling faction nexistQwent Research Base\n",
            "station controlling faction nexistQwent Research Base\n",
            "station controlling faction nexistQwent Research Base\n",
            "station controlling faction nexistQwent Research Base\n",
            "station controlling faction nexistQwent Research Base\n",
            "station controlling faction nexistQwent Research Base\n",
            "station controlling faction nexistQwent Research Base\n",
            "station controlling faction nexistQwent Research Base\n",
            "station controlling faction nexistQwent Research Base\n",
            "station controlling faction nexistQwent Research Base\n",
            "station controlling faction nexistQwent Research Base\n",
            "station controlling faction nexistQwent Research Base\n",
            "station controlling faction nexistQwent Research Base\n",
            "station controlling faction nexistQwent Research Base\n",
            "station controlling faction nexistDekker's Yard\n",
            "station controlling faction nexistDekker's Yard\n",
            "station controlling faction nexistDekker's Yard\n",
            "station controlling faction nexistDekker's Yard\n",
            "station controlling faction nexistThunderhead Garrison\n",
            "station controlling faction nexistThunderhead Garrison\n",
            "station controlling faction nexistThunderhead Garrison\n",
            "station controlling faction nexistThunderhead Garrison\n"
          ],
          "name": "stderr"
        },
        {
          "output_type": "stream",
          "text": [
            "3:217,370,624\n"
          ],
          "name": "stdout"
        }
      ]
    },
    {
      "cell_type": "code",
      "metadata": {
        "id": "Tf63F_jTIhea",
        "colab_type": "code",
        "colab": {}
      },
      "source": [
        "from craid.eddb.faction.SquadronXYZ import SquadronXYZ"
      ],
      "execution_count": 12,
      "outputs": []
    },
    {
      "cell_type": "code",
      "metadata": {
        "id": "MCFpOEQAIwN5",
        "colab_type": "code",
        "colab": {}
      },
      "source": [
        "sNames = []\n",
        "sSystems = []\n",
        "sRegions = []\n",
        "\n",
        "for squad in SquadronXYZ.myDict.keys():\n",
        "  systems = SquadronXYZ.myDict.get(squad)\n",
        "  for sysName in systems.keys():\n",
        "    sysLoc = systems.get(sysName)\n",
        "    if sysLoc is None:\n",
        "      continue\n",
        "    sNames.append(squad)\n",
        "    sSystems.append(sysName)\n",
        "    sReg = RegionFactory.getRegion(sysLoc[0], sysLoc[1], sysLoc[2])\n",
        "    sRegions.append(sReg.getNumber())\n",
        "\n",
        "df = pd.DataFrame(list(zip(sNames, sSystems, sRegions)), \n",
        "               columns =['Squadron Name', 'System', 'Region']) "
      ],
      "execution_count": 23,
      "outputs": []
    },
    {
      "cell_type": "code",
      "metadata": {
        "id": "wkK6eHFsKwya",
        "colab_type": "code",
        "colab": {
          "base_uri": "https://localhost:8080/",
          "height": 419
        },
        "outputId": "d2628ed9-e93a-42a5-8441-c19bc8fa4863"
      },
      "source": [
        "df"
      ],
      "execution_count": 24,
      "outputs": [
        {
          "output_type": "execute_result",
          "data": {
            "text/html": [
              "<div>\n",
              "<style scoped>\n",
              "    .dataframe tbody tr th:only-of-type {\n",
              "        vertical-align: middle;\n",
              "    }\n",
              "\n",
              "    .dataframe tbody tr th {\n",
              "        vertical-align: top;\n",
              "    }\n",
              "\n",
              "    .dataframe thead th {\n",
              "        text-align: right;\n",
              "    }\n",
              "</style>\n",
              "<table border=\"1\" class=\"dataframe\">\n",
              "  <thead>\n",
              "    <tr style=\"text-align: right;\">\n",
              "      <th></th>\n",
              "      <th>Squadron Name</th>\n",
              "      <th>System</th>\n",
              "      <th>Region</th>\n",
              "    </tr>\n",
              "  </thead>\n",
              "  <tbody>\n",
              "    <tr>\n",
              "      <th>0</th>\n",
              "      <td>104th Phoenix Discovery Group</td>\n",
              "      <td>L 12-19</td>\n",
              "      <td>0</td>\n",
              "    </tr>\n",
              "    <tr>\n",
              "      <th>1</th>\n",
              "      <td>104th Phoenix Discovery Group</td>\n",
              "      <td>Woyo Mina</td>\n",
              "      <td>0</td>\n",
              "    </tr>\n",
              "    <tr>\n",
              "      <th>2</th>\n",
              "      <td>10th Fleet</td>\n",
              "      <td>Barnard's Star</td>\n",
              "      <td>4</td>\n",
              "    </tr>\n",
              "    <tr>\n",
              "      <th>3</th>\n",
              "      <td>10th Hawk Squadron</td>\n",
              "      <td>HIP 11728</td>\n",
              "      <td>2</td>\n",
              "    </tr>\n",
              "    <tr>\n",
              "      <th>4</th>\n",
              "      <td>10th Hawk Squadron</td>\n",
              "      <td>Mitnahas</td>\n",
              "      <td>2</td>\n",
              "    </tr>\n",
              "    <tr>\n",
              "      <th>...</th>\n",
              "      <td>...</td>\n",
              "      <td>...</td>\n",
              "      <td>...</td>\n",
              "    </tr>\n",
              "    <tr>\n",
              "      <th>16992</th>\n",
              "      <td>redback consortium</td>\n",
              "      <td>Wolf 1003</td>\n",
              "      <td>0</td>\n",
              "    </tr>\n",
              "    <tr>\n",
              "      <th>16993</th>\n",
              "      <td>space vans limited</td>\n",
              "      <td>60 Herculis</td>\n",
              "      <td>0</td>\n",
              "    </tr>\n",
              "    <tr>\n",
              "      <th>16994</th>\n",
              "      <td>space vans limited</td>\n",
              "      <td>Aguane</td>\n",
              "      <td>0</td>\n",
              "    </tr>\n",
              "    <tr>\n",
              "      <th>16995</th>\n",
              "      <td>space vans limited</td>\n",
              "      <td>Bany</td>\n",
              "      <td>0</td>\n",
              "    </tr>\n",
              "    <tr>\n",
              "      <th>16996</th>\n",
              "      <td>space vans limited</td>\n",
              "      <td>Gliese 647</td>\n",
              "      <td>0</td>\n",
              "    </tr>\n",
              "  </tbody>\n",
              "</table>\n",
              "<p>16997 rows × 3 columns</p>\n",
              "</div>"
            ],
            "text/plain": [
              "                       Squadron Name          System  Region\n",
              "0      104th Phoenix Discovery Group         L 12-19       0\n",
              "1      104th Phoenix Discovery Group       Woyo Mina       0\n",
              "2                         10th Fleet  Barnard's Star       4\n",
              "3                 10th Hawk Squadron       HIP 11728       2\n",
              "4                 10th Hawk Squadron        Mitnahas       2\n",
              "...                              ...             ...     ...\n",
              "16992             redback consortium       Wolf 1003       0\n",
              "16993             space vans limited     60 Herculis       0\n",
              "16994             space vans limited          Aguane       0\n",
              "16995             space vans limited            Bany       0\n",
              "16996             space vans limited      Gliese 647       0\n",
              "\n",
              "[16997 rows x 3 columns]"
            ]
          },
          "metadata": {
            "tags": []
          },
          "execution_count": 24
        }
      ]
    },
    {
      "cell_type": "code",
      "metadata": {
        "id": "EQ1FgfZ_LApX",
        "colab_type": "code",
        "colab": {}
      },
      "source": [
        "\n",
        "def getSquadronsByRegion(region=1, cutoff=0) -> pd.DataFrame:\n",
        "  tmp = df[ df['Region']==region].groupby(['Squadron Name']).agg( {'Region': 'count'}).reset_index()\n",
        "  tmp.columns = ['Squadron Name','Systems in Region']\n",
        "  tmp = tmp[ tmp['Systems in Region'] >= cutoff]\n",
        "  return tmp.sort_values('Systems in Region', ascending=False)"
      ],
      "execution_count": 58,
      "outputs": []
    },
    {
      "cell_type": "code",
      "metadata": {
        "id": "2JjEpH-pVAxv",
        "colab_type": "code",
        "colab": {
          "base_uri": "https://localhost:8080/",
          "height": 204
        },
        "outputId": "3349c1f3-4daf-46d6-80f7-77a5900758ad"
      },
      "source": [
        "getSquadronsByRegion(1,2)"
      ],
      "execution_count": 59,
      "outputs": [
        {
          "output_type": "execute_result",
          "data": {
            "text/html": [
              "<div>\n",
              "<style scoped>\n",
              "    .dataframe tbody tr th:only-of-type {\n",
              "        vertical-align: middle;\n",
              "    }\n",
              "\n",
              "    .dataframe tbody tr th {\n",
              "        vertical-align: top;\n",
              "    }\n",
              "\n",
              "    .dataframe thead th {\n",
              "        text-align: right;\n",
              "    }\n",
              "</style>\n",
              "<table border=\"1\" class=\"dataframe\">\n",
              "  <thead>\n",
              "    <tr style=\"text-align: right;\">\n",
              "      <th></th>\n",
              "      <th>Squadron Name</th>\n",
              "      <th>Systems in Region</th>\n",
              "    </tr>\n",
              "  </thead>\n",
              "  <tbody>\n",
              "    <tr>\n",
              "      <th>6</th>\n",
              "      <td>Operation Ida</td>\n",
              "      <td>18</td>\n",
              "    </tr>\n",
              "    <tr>\n",
              "      <th>11</th>\n",
              "      <td>The Hive</td>\n",
              "      <td>17</td>\n",
              "    </tr>\n",
              "    <tr>\n",
              "      <th>0</th>\n",
              "      <td>Anti Xeno Initiative</td>\n",
              "      <td>11</td>\n",
              "    </tr>\n",
              "    <tr>\n",
              "      <th>7</th>\n",
              "      <td>Sirius Inc</td>\n",
              "      <td>11</td>\n",
              "    </tr>\n",
              "    <tr>\n",
              "      <th>5</th>\n",
              "      <td>Hanks Alliance of Anti-Xeno</td>\n",
              "      <td>2</td>\n",
              "    </tr>\n",
              "  </tbody>\n",
              "</table>\n",
              "</div>"
            ],
            "text/plain": [
              "                  Squadron Name  Systems in Region\n",
              "6                 Operation Ida                 18\n",
              "11                     The Hive                 17\n",
              "0          Anti Xeno Initiative                 11\n",
              "7                    Sirius Inc                 11\n",
              "5   Hanks Alliance of Anti-Xeno                  2"
            ]
          },
          "metadata": {
            "tags": []
          },
          "execution_count": 59
        }
      ]
    },
    {
      "cell_type": "code",
      "metadata": {
        "id": "kRpP14xuUrQU",
        "colab_type": "code",
        "colab": {
          "base_uri": "https://localhost:8080/",
          "height": 136
        },
        "outputId": "458337fc-4b53-4f8e-acf2-7858b55ffaa0"
      },
      "source": [
        "foo = getSquadronsByRegion(1,2)\n",
        "print(\"| Squadron | # Systems |\")\n",
        "print(\"| -------- | --------- |\")\n",
        "\n",
        "for index, row in foo.iterrows():\n",
        "    print(\"|\" + row['Squadron Name'] + \"|\" + str(row['Systems in Region']) + \"|\")"
      ],
      "execution_count": 64,
      "outputs": [
        {
          "output_type": "stream",
          "text": [
            "| Squadron | # Systems |\n",
            "| -------- | --------- |\n",
            "|Operation Ida|18|\n",
            "|The Hive|17|\n",
            "|Anti Xeno Initiative|11|\n",
            "|Sirius Inc|11|\n",
            "|Hanks Alliance of Anti-Xeno|2|\n"
          ],
          "name": "stdout"
        }
      ]
    },
    {
      "cell_type": "code",
      "metadata": {
        "id": "CmMYc_y3VjGp",
        "colab_type": "code",
        "colab": {
          "base_uri": "https://localhost:8080/",
          "height": 282
        },
        "outputId": "f03c08bc-1437-4ff8-948f-a9bf92c64964"
      },
      "source": [
        "for regNum in range(1,11):\n",
        "  print(f\"\\n Region # {regNum}\\n\")\n",
        "  if regNum==3:\n",
        "    cutoff = 0\n",
        "  else:\n",
        "    cutoff = 2\n",
        "  foo = getSquadronsByRegion(regNum,cutoff)\n",
        "  print(\"| Squadron | # Systems |\")\n",
        "  print(\"| -------- | --------- |\")\n",
        "\n",
        "  for index, row in foo.iterrows():\n",
        "    print(\"|\" + row['Squadron Name'] + \"|\" + str(row['Systems in Region']) + \"|\")"
      ],
      "execution_count": 1,
      "outputs": [
        {
          "output_type": "stream",
          "text": [
            "\n",
            " Region # 1\n",
            "\n"
          ],
          "name": "stdout"
        },
        {
          "output_type": "error",
          "ename": "NameError",
          "evalue": "ignored",
          "traceback": [
            "\u001b[0;31m---------------------------------------------------------------------------\u001b[0m",
            "\u001b[0;31mNameError\u001b[0m                                 Traceback (most recent call last)",
            "\u001b[0;32m<ipython-input-1-ca506733aa2e>\u001b[0m in \u001b[0;36m<module>\u001b[0;34m()\u001b[0m\n\u001b[1;32m      5\u001b[0m   \u001b[0;32melse\u001b[0m\u001b[0;34m:\u001b[0m\u001b[0;34m\u001b[0m\u001b[0;34m\u001b[0m\u001b[0m\n\u001b[1;32m      6\u001b[0m     \u001b[0mcutoff\u001b[0m \u001b[0;34m=\u001b[0m \u001b[0;36m2\u001b[0m\u001b[0;34m\u001b[0m\u001b[0;34m\u001b[0m\u001b[0m\n\u001b[0;32m----> 7\u001b[0;31m   \u001b[0mfoo\u001b[0m \u001b[0;34m=\u001b[0m \u001b[0mgetSquadronsByRegion\u001b[0m\u001b[0;34m(\u001b[0m\u001b[0mregNum\u001b[0m\u001b[0;34m,\u001b[0m\u001b[0mcutoff\u001b[0m\u001b[0;34m)\u001b[0m\u001b[0;34m\u001b[0m\u001b[0;34m\u001b[0m\u001b[0m\n\u001b[0m\u001b[1;32m      8\u001b[0m   \u001b[0mprint\u001b[0m\u001b[0;34m(\u001b[0m\u001b[0;34m\"| Squadron | # Systems |\"\u001b[0m\u001b[0;34m)\u001b[0m\u001b[0;34m\u001b[0m\u001b[0;34m\u001b[0m\u001b[0m\n\u001b[1;32m      9\u001b[0m   \u001b[0mprint\u001b[0m\u001b[0;34m(\u001b[0m\u001b[0;34m\"| -------- | --------- |\"\u001b[0m\u001b[0;34m)\u001b[0m\u001b[0;34m\u001b[0m\u001b[0;34m\u001b[0m\u001b[0m\n",
            "\u001b[0;31mNameError\u001b[0m: name 'getSquadronsByRegion' is not defined"
          ]
        }
      ]
    }
  ]
}