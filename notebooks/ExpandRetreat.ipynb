{
  "nbformat": 4,
  "nbformat_minor": 0,
  "metadata": {
    "colab": {
      "name": "Untitled10.ipynb",
      "provenance": [],
      "authorship_tag": "ABX9TyNbSKItf1NYHcbyFRzM9YBQ",
      "include_colab_link": true
    },
    "kernelspec": {
      "name": "python3",
      "display_name": "Python 3"
    }
  },
  "cells": [
    {
      "cell_type": "markdown",
      "metadata": {
        "id": "view-in-github",
        "colab_type": "text"
      },
      "source": [
        "<a href=\"https://colab.research.google.com/github/HausReport/ClubRaiders/blob/master/notebooks/ExpandRetreat.ipynb\" target=\"_parent\"><img src=\"https://colab.research.google.com/assets/colab-badge.svg\" alt=\"Open In Colab\"/></a>"
      ]
    },
    {
      "cell_type": "code",
      "metadata": {
        "id": "nMMxcGepckJU"
      },
      "source": [
        "import math\n",
        "import pandas as pd\n",
        "import plotly.graph_objects as go\n",
        "import humanize\n",
        "import datetime as dt"
      ],
      "execution_count": 128,
      "outputs": []
    },
    {
      "cell_type": "code",
      "metadata": {
        "id": "rFKejGWgf2nI"
      },
      "source": [
        "def expandOneDay(inf: float, pop: int):\n",
        "  top = (36 - math.log(pop,2))\n",
        "  bottom = (100+ (36 - math.log(pop,2)))\n",
        "  ret = 100.0 * (inf + top)/ bottom\n",
        "  if ret> 100.0:\n",
        "     ret = 100.0\n",
        "  if ret<1.0:\n",
        "     ret = 1.0\n",
        "  return ret\n",
        "\n",
        "def dailyIncrease(inf: float, pop: int):\n",
        "  return expandOneDay(inf,pop) - inf"
      ],
      "execution_count": 129,
      "outputs": []
    },
    {
      "cell_type": "code",
      "metadata": {
        "id": "pGH8EfnIkspj"
      },
      "source": [
        "def retreatOneDay(inf: float, pop: int):\n",
        "  top = (36 - math.log(pop,2))\n",
        "  bottom = (100+ (36 - math.log(pop,2)))\n",
        "  ret = inf - ((100 * ( (100-inf) + top)/ bottom) - (100-inf))\n",
        "  if ret> 100.0:\n",
        "     ret = 100.0\n",
        "  if ret<1.0:\n",
        "     ret = 1.0\n",
        "  return ret\n",
        "\n",
        "def dailyDecrease(inf: float, pop: int):\n",
        "  return expandOneDay(inf,pop) - inf"
      ],
      "execution_count": 130,
      "outputs": []
    },
    {
      "cell_type": "code",
      "metadata": {
        "id": "O2-UR9WTlbAf",
        "outputId": "bbbe50ee-a2b5-46f8-e7d9-7206cdbc565e",
        "colab": {
          "base_uri": "https://localhost:8080/",
          "height": 34
        }
      },
      "source": [
        "retreatOneDay(9.2,2200)"
      ],
      "execution_count": 131,
      "outputs": [
        {
          "output_type": "execute_result",
          "data": {
            "text/plain": [
              "7.3660866155447415"
            ]
          },
          "metadata": {
            "tags": []
          },
          "execution_count": 131
        }
      ]
    },
    {
      "cell_type": "code",
      "metadata": {
        "id": "Z4cN4mKdjZ5_",
        "outputId": "75e9c01d-6ecd-449a-cb5a-ccda5594e111",
        "colab": {
          "base_uri": "https://localhost:8080/",
          "height": 34
        }
      },
      "source": [
        "expandOneDay(65.9,2200)"
      ],
      "execution_count": 132,
      "outputs": [
        {
          "output_type": "execute_result",
          "data": {
            "text/plain": [
              "72.6974398271657"
            ]
          },
          "metadata": {
            "tags": []
          },
          "execution_count": 132
        }
      ]
    },
    {
      "cell_type": "code",
      "metadata": {
        "id": "m6Xdpry9mnNT"
      },
      "source": [
        "def daysToPendingExpansion(inf: float, pop: int):\n",
        "  tinf = inf\n",
        "  day = 0\n",
        "  while tinf < 75.0:\n",
        "    day += 1\n",
        "    tinf = expandOneDay(tinf, pop)\n",
        "  return day\n",
        "\n",
        "def daysToPendingRetreat(inf: float, pop: int):\n",
        "  tinf = inf\n",
        "  day = 0\n",
        "  while tinf > 2.5:\n",
        "    day += 1\n",
        "    tinf = retreatOneDay(tinf, pop)\n",
        "  return day\n",
        "\n",
        "def daysToExpansion(inf: float, pop: int):\n",
        "  ret = daysToPendingExpansion(inf,pop)\n",
        "  ret += 1 # pending day\n",
        "  ret += 7 # active expansion https://discordapp.com/channels/483005833853009950/483005833853009952/759126832750002186\n",
        "  return ret\n",
        "\n",
        "def daysToRetreat(inf: float, pop: int):\n",
        "  ret = daysToPendingRetreat(inf,pop)\n",
        "  ret += 1 # pending day\n",
        "  ret += 6 # active retreat\n",
        "  ret += 1\n",
        "  return ret"
      ],
      "execution_count": 133,
      "outputs": []
    },
    {
      "cell_type": "code",
      "metadata": {
        "id": "4-SNgDaNngBk",
        "outputId": "a5a24b15-1328-4453-9ce7-d3fd900bffce",
        "colab": {
          "base_uri": "https://localhost:8080/",
          "height": 34
        }
      },
      "source": [
        "daysToPendingExpansion(65.9,2200)"
      ],
      "execution_count": 134,
      "outputs": [
        {
          "output_type": "execute_result",
          "data": {
            "text/plain": [
              "2"
            ]
          },
          "metadata": {
            "tags": []
          },
          "execution_count": 134
        }
      ]
    },
    {
      "cell_type": "code",
      "metadata": {
        "id": "YCUc1p3onwt8",
        "outputId": "99929754-ac5e-45fb-b4e4-4bfda8864458",
        "colab": {
          "base_uri": "https://localhost:8080/",
          "height": 34
        }
      },
      "source": [
        "daysToPendingRetreat(65.9,2200)"
      ],
      "execution_count": 135,
      "outputs": [
        {
          "output_type": "execute_result",
          "data": {
            "text/plain": [
              "15"
            ]
          },
          "metadata": {
            "tags": []
          },
          "execution_count": 135
        }
      ]
    },
    {
      "cell_type": "code",
      "metadata": {
        "id": "PSXYzAcsu-su",
        "outputId": "4bb32530-ba19-4501-ea63-63e1aa699fd1",
        "colab": {
          "base_uri": "https://localhost:8080/",
          "height": 35
        }
      },
      "source": [
        "humanize.naturaldelta(dt.datetime.now() + dt.timedelta(days=0.5 ))"
      ],
      "execution_count": 136,
      "outputs": [
        {
          "output_type": "execute_result",
          "data": {
            "application/vnd.google.colaboratory.intrinsic+json": {
              "type": "string"
            },
            "text/plain": [
              "'11 hours'"
            ]
          },
          "metadata": {
            "tags": []
          },
          "execution_count": 136
        }
      ]
    },
    {
      "cell_type": "code",
      "metadata": {
        "id": "TL-WSdKDch0q"
      },
      "source": [
        "\n",
        "def getRetreatFrame(inf: float, pop: int):\n",
        "  dayNum = []\n",
        "  infs = []\n",
        "  day = 0\n",
        "\n",
        "  dayNum.append(day)\n",
        "  infs.append(inf)\n",
        "\n",
        "  tinf = inf\n",
        "  while tinf > 2.5:\n",
        "    day +=1\n",
        "    tinf = retreatOneDay(tinf,pop)\n",
        "    dayNum.append(day)\n",
        "    infs.append(tinf)\n",
        "\n",
        "  n = 0\n",
        "  while n<=8:\n",
        "    day +=1\n",
        "    tinf = retreatOneDay(tinf,pop)\n",
        "    dayNum.append(day)\n",
        "    infs.append(tinf)\n",
        "    n += 1\n",
        "\n",
        "  df = pd.DataFrame( list(zip(dayNum, infs)), columns=[\"dayNum\",\"inf\"])\n",
        "  return df\n",
        "\n",
        "def getAdvanceFrame(inf: float, pop: int, nDays: int):\n",
        "  dayNum = []\n",
        "  infs = []\n",
        "  day = 0\n",
        "\n",
        "  dayNum.append(day)\n",
        "  infs.append(inf)\n",
        "\n",
        "  tinf = inf\n",
        "  while day<= nDays:\n",
        "    day +=1\n",
        "    tinf = expandOneDay(tinf,pop)\n",
        "    dayNum.append(day)\n",
        "    infs.append(tinf)\n",
        "\n",
        "  df = pd.DataFrame( list(zip(dayNum, infs)), columns=[\"dayNum\",\"inf\"])\n",
        "  return df"
      ],
      "execution_count": 137,
      "outputs": []
    },
    {
      "cell_type": "code",
      "metadata": {
        "id": "E6z7BOTtgmPg",
        "outputId": "508d2cea-f59b-4330-88d8-b984ce9dca48",
        "colab": {
          "base_uri": "https://localhost:8080/",
          "height": 542
        }
      },
      "source": [
        "inf = 36.0\n",
        "pop = 36000\n",
        "\n",
        "nDays = daysToRetreat(inf, pop)\n",
        "df = getRetreatFrame(inf,pop)\n",
        "df2 = getAdvanceFrame(inf, pop, nDays)\n",
        "\n",
        "fig = go.Figure()\n",
        "fig.add_trace(go.Scatter(x=df2.dayNum, y=df2.inf,\n",
        "                    mode='lines',\n",
        "                    name='Ally',\n",
        "                    marker_color=\"#0000ff\"))\n",
        "fig.add_trace(go.Scatter(x=df.dayNum, y=df.inf,\n",
        "                    mode='lines',\n",
        "                    name='Target',\n",
        "                    marker_color=\"#ff0000\"))\n",
        "retLine = list( 2.5 for i in range(df.dayNum.size))\n",
        "expLine = list( 75.0 for i in range(df.dayNum.size))\n",
        "fig.add_trace(go.Scatter(x=df2.dayNum, y=retLine,\n",
        "                    mode='lines',\n",
        "                    name='Retreat',\n",
        "                    marker_color=\"#ff0000\",\n",
        "                    line_dash=\"dot\"))\n",
        "fig.add_trace(go.Scatter(x=df2.dayNum, y=expLine,\n",
        "                    mode='lines',\n",
        "                    name='Expand',\n",
        "                    marker_color=\"#00ff00\",\n",
        "                    line_dash=\"dot\"))\n",
        "fig.show()\n",
        "\n"
      ],
      "execution_count": 143,
      "outputs": [
        {
          "output_type": "display_data",
          "data": {
            "text/html": [
              "<html>\n",
              "<head><meta charset=\"utf-8\" /></head>\n",
              "<body>\n",
              "    <div>\n",
              "            <script src=\"https://cdnjs.cloudflare.com/ajax/libs/mathjax/2.7.5/MathJax.js?config=TeX-AMS-MML_SVG\"></script><script type=\"text/javascript\">if (window.MathJax) {MathJax.Hub.Config({SVG: {font: \"STIX-Web\"}});}</script>\n",
              "                <script type=\"text/javascript\">window.PlotlyConfig = {MathJaxConfig: 'local'};</script>\n",
              "        <script src=\"https://cdn.plot.ly/plotly-latest.min.js\"></script>    \n",
              "            <div id=\"9986bce1-3ee2-4718-b6f6-4e64d16d39fb\" class=\"plotly-graph-div\" style=\"height:525px; width:100%;\"></div>\n",
              "            <script type=\"text/javascript\">\n",
              "                \n",
              "                    window.PLOTLYENV=window.PLOTLYENV || {};\n",
              "                    \n",
              "                if (document.getElementById(\"9986bce1-3ee2-4718-b6f6-4e64d16d39fb\")) {\n",
              "                    Plotly.newPlot(\n",
              "                        '9986bce1-3ee2-4718-b6f6-4e64d16d39fb',\n",
              "                        [{\"marker\": {\"color\": \"#0000ff\"}, \"mode\": \"lines\", \"name\": \"Ally\", \"type\": \"scatter\", \"x\": [0, 1, 2, 3, 4, 5, 6, 7, 8, 9, 10, 11, 12, 13, 14, 15, 16, 17, 18, 19, 20, 21, 22, 23, 24], \"y\": [36.0, 47.04804899612751, 56.18892007630449, 63.7518412883396, 70.00920743624319, 75.18639096244759, 79.46985921897308, 83.01389048844466, 85.94613064683921, 88.37219060307194, 90.37945010205465, 92.04020489333885, 93.41427061736273, 94.55113719384106, 95.49175130721012, 96.26999118915809, 96.91388681569198, 97.44662946675182, 97.88740700982359, 98.25209499207898, 98.55382843220535, 98.8034749062335, 99.01002596656207, 99.18092099197327, 99.32231513279169]}, {\"marker\": {\"color\": \"#ff0000\"}, \"mode\": \"lines\", \"name\": \"Target\", \"type\": \"scatter\", \"x\": [0, 1, 2, 3, 4, 5, 6, 7, 8, 9, 10, 11, 12, 13, 14, 15, 16, 17, 18, 19, 20, 21, 22, 23, 24], \"y\": [36.0, 29.785472439678273, 24.643732457078727, 20.38958927530898, 16.869820817113208, 13.957655083623223, 11.548204189327635, 9.55468660024988, 7.905301511152942, 6.540642785772036, 5.411559317594268, 4.477384747496899, 3.7044727777334714, 3.0649853284644166, 2.5358898896943174, 2.0981299560985747, 1.7359386661732685, 1.4362709249521117, 1.1883335569742286, 1.0, 1.0, 1.0, 1.0, 1.0, 1.0]}, {\"line\": {\"dash\": \"dot\"}, \"marker\": {\"color\": \"#ff0000\"}, \"mode\": \"lines\", \"name\": \"Retreat\", \"type\": \"scatter\", \"x\": [0, 1, 2, 3, 4, 5, 6, 7, 8, 9, 10, 11, 12, 13, 14, 15, 16, 17, 18, 19, 20, 21, 22, 23, 24], \"y\": [2.5, 2.5, 2.5, 2.5, 2.5, 2.5, 2.5, 2.5, 2.5, 2.5, 2.5, 2.5, 2.5, 2.5, 2.5, 2.5, 2.5, 2.5, 2.5, 2.5, 2.5, 2.5, 2.5, 2.5, 2.5]}, {\"line\": {\"dash\": \"dot\"}, \"marker\": {\"color\": \"#00ff00\"}, \"mode\": \"lines\", \"name\": \"Expand\", \"type\": \"scatter\", \"x\": [0, 1, 2, 3, 4, 5, 6, 7, 8, 9, 10, 11, 12, 13, 14, 15, 16, 17, 18, 19, 20, 21, 22, 23, 24], \"y\": [75.0, 75.0, 75.0, 75.0, 75.0, 75.0, 75.0, 75.0, 75.0, 75.0, 75.0, 75.0, 75.0, 75.0, 75.0, 75.0, 75.0, 75.0, 75.0, 75.0, 75.0, 75.0, 75.0, 75.0, 75.0]}],\n",
              "                        {\"template\": {\"data\": {\"bar\": [{\"error_x\": {\"color\": \"#2a3f5f\"}, \"error_y\": {\"color\": \"#2a3f5f\"}, \"marker\": {\"line\": {\"color\": \"#E5ECF6\", \"width\": 0.5}}, \"type\": \"bar\"}], \"barpolar\": [{\"marker\": {\"line\": {\"color\": \"#E5ECF6\", \"width\": 0.5}}, \"type\": \"barpolar\"}], \"carpet\": [{\"aaxis\": {\"endlinecolor\": \"#2a3f5f\", \"gridcolor\": \"white\", \"linecolor\": \"white\", \"minorgridcolor\": \"white\", \"startlinecolor\": \"#2a3f5f\"}, \"baxis\": {\"endlinecolor\": \"#2a3f5f\", \"gridcolor\": \"white\", \"linecolor\": \"white\", \"minorgridcolor\": \"white\", \"startlinecolor\": \"#2a3f5f\"}, \"type\": \"carpet\"}], \"choropleth\": [{\"colorbar\": {\"outlinewidth\": 0, \"ticks\": \"\"}, \"type\": \"choropleth\"}], \"contour\": [{\"colorbar\": {\"outlinewidth\": 0, \"ticks\": \"\"}, \"colorscale\": [[0.0, \"#0d0887\"], [0.1111111111111111, \"#46039f\"], [0.2222222222222222, \"#7201a8\"], [0.3333333333333333, \"#9c179e\"], [0.4444444444444444, \"#bd3786\"], [0.5555555555555556, \"#d8576b\"], [0.6666666666666666, \"#ed7953\"], [0.7777777777777778, \"#fb9f3a\"], [0.8888888888888888, \"#fdca26\"], [1.0, \"#f0f921\"]], \"type\": \"contour\"}], \"contourcarpet\": [{\"colorbar\": {\"outlinewidth\": 0, \"ticks\": \"\"}, \"type\": \"contourcarpet\"}], \"heatmap\": [{\"colorbar\": {\"outlinewidth\": 0, \"ticks\": \"\"}, \"colorscale\": [[0.0, \"#0d0887\"], [0.1111111111111111, \"#46039f\"], [0.2222222222222222, \"#7201a8\"], [0.3333333333333333, \"#9c179e\"], [0.4444444444444444, \"#bd3786\"], [0.5555555555555556, \"#d8576b\"], [0.6666666666666666, \"#ed7953\"], [0.7777777777777778, \"#fb9f3a\"], [0.8888888888888888, \"#fdca26\"], [1.0, \"#f0f921\"]], \"type\": \"heatmap\"}], \"heatmapgl\": [{\"colorbar\": {\"outlinewidth\": 0, \"ticks\": \"\"}, \"colorscale\": [[0.0, \"#0d0887\"], [0.1111111111111111, \"#46039f\"], [0.2222222222222222, \"#7201a8\"], [0.3333333333333333, \"#9c179e\"], [0.4444444444444444, \"#bd3786\"], [0.5555555555555556, \"#d8576b\"], [0.6666666666666666, \"#ed7953\"], [0.7777777777777778, \"#fb9f3a\"], [0.8888888888888888, \"#fdca26\"], [1.0, \"#f0f921\"]], \"type\": \"heatmapgl\"}], \"histogram\": [{\"marker\": {\"colorbar\": {\"outlinewidth\": 0, \"ticks\": \"\"}}, \"type\": \"histogram\"}], \"histogram2d\": [{\"colorbar\": {\"outlinewidth\": 0, \"ticks\": \"\"}, \"colorscale\": [[0.0, \"#0d0887\"], [0.1111111111111111, \"#46039f\"], [0.2222222222222222, \"#7201a8\"], [0.3333333333333333, \"#9c179e\"], [0.4444444444444444, \"#bd3786\"], [0.5555555555555556, \"#d8576b\"], [0.6666666666666666, \"#ed7953\"], [0.7777777777777778, \"#fb9f3a\"], [0.8888888888888888, \"#fdca26\"], [1.0, \"#f0f921\"]], \"type\": \"histogram2d\"}], \"histogram2dcontour\": [{\"colorbar\": {\"outlinewidth\": 0, \"ticks\": \"\"}, \"colorscale\": [[0.0, \"#0d0887\"], [0.1111111111111111, \"#46039f\"], [0.2222222222222222, \"#7201a8\"], [0.3333333333333333, \"#9c179e\"], [0.4444444444444444, \"#bd3786\"], [0.5555555555555556, \"#d8576b\"], [0.6666666666666666, \"#ed7953\"], [0.7777777777777778, \"#fb9f3a\"], [0.8888888888888888, \"#fdca26\"], [1.0, \"#f0f921\"]], \"type\": \"histogram2dcontour\"}], \"mesh3d\": [{\"colorbar\": {\"outlinewidth\": 0, \"ticks\": \"\"}, \"type\": \"mesh3d\"}], \"parcoords\": [{\"line\": {\"colorbar\": {\"outlinewidth\": 0, \"ticks\": \"\"}}, \"type\": \"parcoords\"}], \"pie\": [{\"automargin\": true, \"type\": \"pie\"}], \"scatter\": [{\"marker\": {\"colorbar\": {\"outlinewidth\": 0, \"ticks\": \"\"}}, \"type\": \"scatter\"}], \"scatter3d\": [{\"line\": {\"colorbar\": {\"outlinewidth\": 0, \"ticks\": \"\"}}, \"marker\": {\"colorbar\": {\"outlinewidth\": 0, \"ticks\": \"\"}}, \"type\": \"scatter3d\"}], \"scattercarpet\": [{\"marker\": {\"colorbar\": {\"outlinewidth\": 0, \"ticks\": \"\"}}, \"type\": \"scattercarpet\"}], \"scattergeo\": [{\"marker\": {\"colorbar\": {\"outlinewidth\": 0, \"ticks\": \"\"}}, \"type\": \"scattergeo\"}], \"scattergl\": [{\"marker\": {\"colorbar\": {\"outlinewidth\": 0, \"ticks\": \"\"}}, \"type\": \"scattergl\"}], \"scattermapbox\": [{\"marker\": {\"colorbar\": {\"outlinewidth\": 0, \"ticks\": \"\"}}, \"type\": \"scattermapbox\"}], \"scatterpolar\": [{\"marker\": {\"colorbar\": {\"outlinewidth\": 0, \"ticks\": \"\"}}, \"type\": \"scatterpolar\"}], \"scatterpolargl\": [{\"marker\": {\"colorbar\": {\"outlinewidth\": 0, \"ticks\": \"\"}}, \"type\": \"scatterpolargl\"}], \"scatterternary\": [{\"marker\": {\"colorbar\": {\"outlinewidth\": 0, \"ticks\": \"\"}}, \"type\": \"scatterternary\"}], \"surface\": [{\"colorbar\": {\"outlinewidth\": 0, \"ticks\": \"\"}, \"colorscale\": [[0.0, \"#0d0887\"], [0.1111111111111111, \"#46039f\"], [0.2222222222222222, \"#7201a8\"], [0.3333333333333333, \"#9c179e\"], [0.4444444444444444, \"#bd3786\"], [0.5555555555555556, \"#d8576b\"], [0.6666666666666666, \"#ed7953\"], [0.7777777777777778, \"#fb9f3a\"], [0.8888888888888888, \"#fdca26\"], [1.0, \"#f0f921\"]], \"type\": \"surface\"}], \"table\": [{\"cells\": {\"fill\": {\"color\": \"#EBF0F8\"}, \"line\": {\"color\": \"white\"}}, \"header\": {\"fill\": {\"color\": \"#C8D4E3\"}, \"line\": {\"color\": \"white\"}}, \"type\": \"table\"}]}, \"layout\": {\"annotationdefaults\": {\"arrowcolor\": \"#2a3f5f\", \"arrowhead\": 0, \"arrowwidth\": 1}, \"coloraxis\": {\"colorbar\": {\"outlinewidth\": 0, \"ticks\": \"\"}}, \"colorscale\": {\"diverging\": [[0, \"#8e0152\"], [0.1, \"#c51b7d\"], [0.2, \"#de77ae\"], [0.3, \"#f1b6da\"], [0.4, \"#fde0ef\"], [0.5, \"#f7f7f7\"], [0.6, \"#e6f5d0\"], [0.7, \"#b8e186\"], [0.8, \"#7fbc41\"], [0.9, \"#4d9221\"], [1, \"#276419\"]], \"sequential\": [[0.0, \"#0d0887\"], [0.1111111111111111, \"#46039f\"], [0.2222222222222222, \"#7201a8\"], [0.3333333333333333, \"#9c179e\"], [0.4444444444444444, \"#bd3786\"], [0.5555555555555556, \"#d8576b\"], [0.6666666666666666, \"#ed7953\"], [0.7777777777777778, \"#fb9f3a\"], [0.8888888888888888, \"#fdca26\"], [1.0, \"#f0f921\"]], \"sequentialminus\": [[0.0, \"#0d0887\"], [0.1111111111111111, \"#46039f\"], [0.2222222222222222, \"#7201a8\"], [0.3333333333333333, \"#9c179e\"], [0.4444444444444444, \"#bd3786\"], [0.5555555555555556, \"#d8576b\"], [0.6666666666666666, \"#ed7953\"], [0.7777777777777778, \"#fb9f3a\"], [0.8888888888888888, \"#fdca26\"], [1.0, \"#f0f921\"]]}, \"colorway\": [\"#636efa\", \"#EF553B\", \"#00cc96\", \"#ab63fa\", \"#FFA15A\", \"#19d3f3\", \"#FF6692\", \"#B6E880\", \"#FF97FF\", \"#FECB52\"], \"font\": {\"color\": \"#2a3f5f\"}, \"geo\": {\"bgcolor\": \"white\", \"lakecolor\": \"white\", \"landcolor\": \"#E5ECF6\", \"showlakes\": true, \"showland\": true, \"subunitcolor\": \"white\"}, \"hoverlabel\": {\"align\": \"left\"}, \"hovermode\": \"closest\", \"mapbox\": {\"style\": \"light\"}, \"paper_bgcolor\": \"white\", \"plot_bgcolor\": \"#E5ECF6\", \"polar\": {\"angularaxis\": {\"gridcolor\": \"white\", \"linecolor\": \"white\", \"ticks\": \"\"}, \"bgcolor\": \"#E5ECF6\", \"radialaxis\": {\"gridcolor\": \"white\", \"linecolor\": \"white\", \"ticks\": \"\"}}, \"scene\": {\"xaxis\": {\"backgroundcolor\": \"#E5ECF6\", \"gridcolor\": \"white\", \"gridwidth\": 2, \"linecolor\": \"white\", \"showbackground\": true, \"ticks\": \"\", \"zerolinecolor\": \"white\"}, \"yaxis\": {\"backgroundcolor\": \"#E5ECF6\", \"gridcolor\": \"white\", \"gridwidth\": 2, \"linecolor\": \"white\", \"showbackground\": true, \"ticks\": \"\", \"zerolinecolor\": \"white\"}, \"zaxis\": {\"backgroundcolor\": \"#E5ECF6\", \"gridcolor\": \"white\", \"gridwidth\": 2, \"linecolor\": \"white\", \"showbackground\": true, \"ticks\": \"\", \"zerolinecolor\": \"white\"}}, \"shapedefaults\": {\"line\": {\"color\": \"#2a3f5f\"}}, \"ternary\": {\"aaxis\": {\"gridcolor\": \"white\", \"linecolor\": \"white\", \"ticks\": \"\"}, \"baxis\": {\"gridcolor\": \"white\", \"linecolor\": \"white\", \"ticks\": \"\"}, \"bgcolor\": \"#E5ECF6\", \"caxis\": {\"gridcolor\": \"white\", \"linecolor\": \"white\", \"ticks\": \"\"}}, \"title\": {\"x\": 0.05}, \"xaxis\": {\"automargin\": true, \"gridcolor\": \"white\", \"linecolor\": \"white\", \"ticks\": \"\", \"title\": {\"standoff\": 15}, \"zerolinecolor\": \"white\", \"zerolinewidth\": 2}, \"yaxis\": {\"automargin\": true, \"gridcolor\": \"white\", \"linecolor\": \"white\", \"ticks\": \"\", \"title\": {\"standoff\": 15}, \"zerolinecolor\": \"white\", \"zerolinewidth\": 2}}}},\n",
              "                        {\"responsive\": true}\n",
              "                    ).then(function(){\n",
              "                            \n",
              "var gd = document.getElementById('9986bce1-3ee2-4718-b6f6-4e64d16d39fb');\n",
              "var x = new MutationObserver(function (mutations, observer) {{\n",
              "        var display = window.getComputedStyle(gd).display;\n",
              "        if (!display || display === 'none') {{\n",
              "            console.log([gd, 'removed!']);\n",
              "            Plotly.purge(gd);\n",
              "            observer.disconnect();\n",
              "        }}\n",
              "}});\n",
              "\n",
              "// Listen for the removal of the full notebook cells\n",
              "var notebookContainer = gd.closest('#notebook-container');\n",
              "if (notebookContainer) {{\n",
              "    x.observe(notebookContainer, {childList: true});\n",
              "}}\n",
              "\n",
              "// Listen for the clearing of the current output cell\n",
              "var outputEl = gd.closest('.output');\n",
              "if (outputEl) {{\n",
              "    x.observe(outputEl, {childList: true});\n",
              "}}\n",
              "\n",
              "                        })\n",
              "                };\n",
              "                \n",
              "            </script>\n",
              "        </div>\n",
              "</body>\n",
              "</html>"
            ]
          },
          "metadata": {
            "tags": []
          }
        }
      ]
    },
    {
      "cell_type": "code",
      "metadata": {
        "id": "8acJ03QBu5JT"
      },
      "source": [
        "def getSimulationFrame(ally_inf: float, targ_inf: float, pop: int):\n",
        "  #nDays = daysToRetreat(inf, pop)\n",
        "\n",
        "  dayNum = []\n",
        "  ally_infs = []\n",
        "  targ_infs = []\n",
        "  ally_note = []\n",
        "  targ_note = []\n",
        "\n",
        "  day = 0\n",
        "\n",
        "  dayNum.append(day)\n",
        "  targ_infs.append(targ_inf)\n",
        "  ally_infs.append(ally_inf)\n",
        "  targ_note.append(\"\")\n",
        "  ally_note.append(\"\")\n",
        "\n",
        "  tinf = targ_inf\n",
        "  ainf = ally_inf\n",
        "\n",
        "  expansion_day = 0\n",
        "  retreat_day = 0\n",
        "\n",
        "  while retreat_day<= 7:\n",
        "    day +=1\n",
        "    # Save current day's numbers\n",
        "    painf = ainf\n",
        "    ptinf = tinf\n",
        "\n",
        "    # Get next day's numbers\n",
        "    ainf = expandOneDay(ainf,pop)\n",
        "    tinf = retreatOneDay(tinf,pop)\n",
        "\n",
        "    #detect crossing\n",
        "    if (  (painf<ptinf) and (ainf>=tinf) ):\n",
        "      minf = (ainf + tinf) / 2.0\n",
        "      for i in range(5):\n",
        "          dayNum.append(day)\n",
        "          targ_infs.append(minf)\n",
        "          ally_infs.append(minf)\n",
        "          note = \"\"\n",
        "          if i == 0:\n",
        "            note = \"Pending Conflict\"\n",
        "          else:\n",
        "            note = \"Conflict day \" + str(i)\n",
        "          targ_note.append(note)\n",
        "          ally_note.append(note)\n",
        "          day += 1\n",
        "    else: \n",
        "      dayNum.append(day)\n",
        "      note = \"\"\n",
        "      if tinf<2.5:\n",
        "        if retreat_day == 0:\n",
        "          note = \"Pending Retreat\"\n",
        "        else:\n",
        "          note = \"Retreat day \" + str(retreat_day)\n",
        "        retreat_day += 1\n",
        "\n",
        "      targ_infs.append(tinf)\n",
        "      targ_note.append(note)\n",
        "\n",
        "      note = \"\"\n",
        "      if ainf>75.0:\n",
        "        if expansion_day == 0:\n",
        "          note = \"Pending Expansion\"\n",
        "        elif expansion_day<8:\n",
        "          note = \"Expansion day \" + str(expansion_day)\n",
        "        elif expansion_day==8:\n",
        "          note = \"Expansion\"\n",
        "        else:\n",
        "          note=\"\"\n",
        "        expansion_day += 1\n",
        "      ally_infs.append(ainf)\n",
        "      ally_note.append(note)\n",
        "\n",
        "  #df = pd.DataFrame( list(zip(dayNum, ally_infs, targ_infs)), columns=[\"dayNum\",\"ally_inf\",\"target_inf\"])\n",
        "  df = pd.DataFrame( list(zip(dayNum, ally_infs, ally_note, targ_infs, targ_note)), columns=[\"dayNum\",\"ally_inf\",\"ally_note\",\"target_inf\",\"targ_note\"])\n",
        "  return df"
      ],
      "execution_count": 206,
      "outputs": []
    },
    {
      "cell_type": "code",
      "metadata": {
        "id": "_KwtIpzAqMKD"
      },
      "source": [
        "sim = getSimulationFrame( 30, 40, 40000)"
      ],
      "execution_count": 207,
      "outputs": []
    },
    {
      "cell_type": "code",
      "metadata": {
        "id": "eg4aCeyBeu3M",
        "outputId": "d8672f03-5c4d-4878-ec70-8ab08392547e",
        "colab": {
          "base_uri": "https://localhost:8080/",
          "height": 542
        }
      },
      "source": [
        "ally_color=\"pink\"\n",
        "target_color = \"red\"\n",
        "conflict_color = \"yellow\"\n",
        "expansion_color = \"magenta\"\n",
        "retreat_color =\"deeppink\"\n",
        "  \n",
        "fig = go.Figure()\n",
        "fig.add_trace(go.Scatter(x=sim.dayNum, y=sim.ally_inf,\n",
        "                    mode='lines',\n",
        "                    name='Ally',\n",
        "                    marker_color=\"blue\"))\n",
        "fig.add_trace(go.Scatter(x=sim.dayNum, y=sim.target_inf,\n",
        "                    mode='lines',\n",
        "                    name='Target',\n",
        "                    marker_color=\"red\"))\n",
        "retLine = list( 2.5 for i in range(sim.dayNum.size))\n",
        "expLine = list( 75.0 for i in range(sim.dayNum.size))\n",
        "fig.add_trace(go.Scatter(x=sim.dayNum, y=retLine,\n",
        "                    mode='lines',\n",
        "                    name='Retreat',\n",
        "                    marker_color=\"#ff0000\",\n",
        "                    line_dash=\"dot\"))\n",
        "fig.add_trace(go.Scatter(x=sim.dayNum, y=expLine,\n",
        "                    mode='lines',\n",
        "                    name='Expand',\n",
        "                    marker_color=\"#00ff00\",\n",
        "                    line_dash=\"dot\"))\n",
        "#fig.update_yaxes(type=\"log\")\n",
        "fig.show()"
      ],
      "execution_count": 208,
      "outputs": [
        {
          "output_type": "display_data",
          "data": {
            "text/html": [
              "<html>\n",
              "<head><meta charset=\"utf-8\" /></head>\n",
              "<body>\n",
              "    <div>\n",
              "            <script src=\"https://cdnjs.cloudflare.com/ajax/libs/mathjax/2.7.5/MathJax.js?config=TeX-AMS-MML_SVG\"></script><script type=\"text/javascript\">if (window.MathJax) {MathJax.Hub.Config({SVG: {font: \"STIX-Web\"}});}</script>\n",
              "                <script type=\"text/javascript\">window.PlotlyConfig = {MathJaxConfig: 'local'};</script>\n",
              "        <script src=\"https://cdn.plot.ly/plotly-latest.min.js\"></script>    \n",
              "            <div id=\"d653971a-bd37-433d-bd6e-cd0d04e37cf6\" class=\"plotly-graph-div\" style=\"height:525px; width:100%;\"></div>\n",
              "            <script type=\"text/javascript\">\n",
              "                \n",
              "                    window.PLOTLYENV=window.PLOTLYENV || {};\n",
              "                    \n",
              "                if (document.getElementById(\"d653971a-bd37-433d-bd6e-cd0d04e37cf6\")) {\n",
              "                    Plotly.newPlot(\n",
              "                        'd653971a-bd37-433d-bd6e-cd0d04e37cf6',\n",
              "                        [{\"marker\": {\"color\": \"blue\"}, \"mode\": \"lines\", \"name\": \"Ally\", \"type\": \"scatter\", \"x\": [0, 1, 2, 3, 4, 5, 7, 8, 9, 10, 11, 12, 13, 14, 15, 16, 17, 18, 19, 20, 21, 22, 23, 24, 25, 26, 27], \"y\": [30.0, 37.57375881470847, 37.57375881470847, 37.57375881470847, 37.57375881470847, 37.57375881470847, 51.96087600154449, 60.20361725767102, 67.0320366494431, 72.6888090678752, 77.374970294658, 81.25706160380233, 84.4730484645191, 87.13722368985209, 89.34426928384319, 91.17262134103441, 92.68725758331988, 93.94200660029475, 94.98146086109055, 95.84256148413907, 96.55591108592611, 97.1468613660086, 97.63641407992998, 98.04196741967004, 98.37793432721074, 98.65625471543589, 98.88681980016055]}, {\"marker\": {\"color\": \"red\"}, \"mode\": \"lines\", \"name\": \"Target\", \"type\": \"scatter\", \"x\": [0, 1, 2, 3, 4, 5, 7, 8, 9, 10, 11, 12, 13, 14, 15, 16, 17, 18, 19, 20, 21, 22, 23, 24, 25, 26, 27], \"y\": [40.0, 37.57375881470847, 37.57375881470847, 37.57375881470847, 37.57375881470847, 37.57375881470847, 27.450927999117425, 22.7407901384737, 18.838836200318227, 15.606394818357018, 12.928588403052558, 10.71025051211295, 8.872543734560509, 7.350157891513078, 6.0889889806610284, 5.044216376551759, 4.17870995238863, 3.4617105141172857, 2.8677366508053836, 2.3756791519205223, 1.9680508080422214, 1.630364933709373, 1.3506205257542945, 1.1188757601885442, 1.0, 1.0, 1.0]}, {\"line\": {\"dash\": \"dot\"}, \"marker\": {\"color\": \"#ff0000\"}, \"mode\": \"lines\", \"name\": \"Retreat\", \"type\": \"scatter\", \"x\": [0, 1, 2, 3, 4, 5, 7, 8, 9, 10, 11, 12, 13, 14, 15, 16, 17, 18, 19, 20, 21, 22, 23, 24, 25, 26, 27], \"y\": [2.5, 2.5, 2.5, 2.5, 2.5, 2.5, 2.5, 2.5, 2.5, 2.5, 2.5, 2.5, 2.5, 2.5, 2.5, 2.5, 2.5, 2.5, 2.5, 2.5, 2.5, 2.5, 2.5, 2.5, 2.5, 2.5, 2.5]}, {\"line\": {\"dash\": \"dot\"}, \"marker\": {\"color\": \"#00ff00\"}, \"mode\": \"lines\", \"name\": \"Expand\", \"type\": \"scatter\", \"x\": [0, 1, 2, 3, 4, 5, 7, 8, 9, 10, 11, 12, 13, 14, 15, 16, 17, 18, 19, 20, 21, 22, 23, 24, 25, 26, 27], \"y\": [75.0, 75.0, 75.0, 75.0, 75.0, 75.0, 75.0, 75.0, 75.0, 75.0, 75.0, 75.0, 75.0, 75.0, 75.0, 75.0, 75.0, 75.0, 75.0, 75.0, 75.0, 75.0, 75.0, 75.0, 75.0, 75.0, 75.0]}],\n",
              "                        {\"template\": {\"data\": {\"bar\": [{\"error_x\": {\"color\": \"#2a3f5f\"}, \"error_y\": {\"color\": \"#2a3f5f\"}, \"marker\": {\"line\": {\"color\": \"#E5ECF6\", \"width\": 0.5}}, \"type\": \"bar\"}], \"barpolar\": [{\"marker\": {\"line\": {\"color\": \"#E5ECF6\", \"width\": 0.5}}, \"type\": \"barpolar\"}], \"carpet\": [{\"aaxis\": {\"endlinecolor\": \"#2a3f5f\", \"gridcolor\": \"white\", \"linecolor\": \"white\", \"minorgridcolor\": \"white\", \"startlinecolor\": \"#2a3f5f\"}, \"baxis\": {\"endlinecolor\": \"#2a3f5f\", \"gridcolor\": \"white\", \"linecolor\": \"white\", \"minorgridcolor\": \"white\", \"startlinecolor\": \"#2a3f5f\"}, \"type\": \"carpet\"}], \"choropleth\": [{\"colorbar\": {\"outlinewidth\": 0, \"ticks\": \"\"}, \"type\": \"choropleth\"}], \"contour\": [{\"colorbar\": {\"outlinewidth\": 0, \"ticks\": \"\"}, \"colorscale\": [[0.0, \"#0d0887\"], [0.1111111111111111, \"#46039f\"], [0.2222222222222222, \"#7201a8\"], [0.3333333333333333, \"#9c179e\"], [0.4444444444444444, \"#bd3786\"], [0.5555555555555556, \"#d8576b\"], [0.6666666666666666, \"#ed7953\"], [0.7777777777777778, \"#fb9f3a\"], [0.8888888888888888, \"#fdca26\"], [1.0, \"#f0f921\"]], \"type\": \"contour\"}], \"contourcarpet\": [{\"colorbar\": {\"outlinewidth\": 0, \"ticks\": \"\"}, \"type\": \"contourcarpet\"}], \"heatmap\": [{\"colorbar\": {\"outlinewidth\": 0, \"ticks\": \"\"}, \"colorscale\": [[0.0, \"#0d0887\"], [0.1111111111111111, \"#46039f\"], [0.2222222222222222, \"#7201a8\"], [0.3333333333333333, \"#9c179e\"], [0.4444444444444444, \"#bd3786\"], [0.5555555555555556, \"#d8576b\"], [0.6666666666666666, \"#ed7953\"], [0.7777777777777778, \"#fb9f3a\"], [0.8888888888888888, \"#fdca26\"], [1.0, \"#f0f921\"]], \"type\": \"heatmap\"}], \"heatmapgl\": [{\"colorbar\": {\"outlinewidth\": 0, \"ticks\": \"\"}, \"colorscale\": [[0.0, \"#0d0887\"], [0.1111111111111111, \"#46039f\"], [0.2222222222222222, \"#7201a8\"], [0.3333333333333333, \"#9c179e\"], [0.4444444444444444, \"#bd3786\"], [0.5555555555555556, \"#d8576b\"], [0.6666666666666666, \"#ed7953\"], [0.7777777777777778, \"#fb9f3a\"], [0.8888888888888888, \"#fdca26\"], [1.0, \"#f0f921\"]], \"type\": \"heatmapgl\"}], \"histogram\": [{\"marker\": {\"colorbar\": {\"outlinewidth\": 0, \"ticks\": \"\"}}, \"type\": \"histogram\"}], \"histogram2d\": [{\"colorbar\": {\"outlinewidth\": 0, \"ticks\": \"\"}, \"colorscale\": [[0.0, \"#0d0887\"], [0.1111111111111111, \"#46039f\"], [0.2222222222222222, \"#7201a8\"], [0.3333333333333333, \"#9c179e\"], [0.4444444444444444, \"#bd3786\"], [0.5555555555555556, \"#d8576b\"], [0.6666666666666666, \"#ed7953\"], [0.7777777777777778, \"#fb9f3a\"], [0.8888888888888888, \"#fdca26\"], [1.0, \"#f0f921\"]], \"type\": \"histogram2d\"}], \"histogram2dcontour\": [{\"colorbar\": {\"outlinewidth\": 0, \"ticks\": \"\"}, \"colorscale\": [[0.0, \"#0d0887\"], [0.1111111111111111, \"#46039f\"], [0.2222222222222222, \"#7201a8\"], [0.3333333333333333, \"#9c179e\"], [0.4444444444444444, \"#bd3786\"], [0.5555555555555556, \"#d8576b\"], [0.6666666666666666, \"#ed7953\"], [0.7777777777777778, \"#fb9f3a\"], [0.8888888888888888, \"#fdca26\"], [1.0, \"#f0f921\"]], \"type\": \"histogram2dcontour\"}], \"mesh3d\": [{\"colorbar\": {\"outlinewidth\": 0, \"ticks\": \"\"}, \"type\": \"mesh3d\"}], \"parcoords\": [{\"line\": {\"colorbar\": {\"outlinewidth\": 0, \"ticks\": \"\"}}, \"type\": \"parcoords\"}], \"pie\": [{\"automargin\": true, \"type\": \"pie\"}], \"scatter\": [{\"marker\": {\"colorbar\": {\"outlinewidth\": 0, \"ticks\": \"\"}}, \"type\": \"scatter\"}], \"scatter3d\": [{\"line\": {\"colorbar\": {\"outlinewidth\": 0, \"ticks\": \"\"}}, \"marker\": {\"colorbar\": {\"outlinewidth\": 0, \"ticks\": \"\"}}, \"type\": \"scatter3d\"}], \"scattercarpet\": [{\"marker\": {\"colorbar\": {\"outlinewidth\": 0, \"ticks\": \"\"}}, \"type\": \"scattercarpet\"}], \"scattergeo\": [{\"marker\": {\"colorbar\": {\"outlinewidth\": 0, \"ticks\": \"\"}}, \"type\": \"scattergeo\"}], \"scattergl\": [{\"marker\": {\"colorbar\": {\"outlinewidth\": 0, \"ticks\": \"\"}}, \"type\": \"scattergl\"}], \"scattermapbox\": [{\"marker\": {\"colorbar\": {\"outlinewidth\": 0, \"ticks\": \"\"}}, \"type\": \"scattermapbox\"}], \"scatterpolar\": [{\"marker\": {\"colorbar\": {\"outlinewidth\": 0, \"ticks\": \"\"}}, \"type\": \"scatterpolar\"}], \"scatterpolargl\": [{\"marker\": {\"colorbar\": {\"outlinewidth\": 0, \"ticks\": \"\"}}, \"type\": \"scatterpolargl\"}], \"scatterternary\": [{\"marker\": {\"colorbar\": {\"outlinewidth\": 0, \"ticks\": \"\"}}, \"type\": \"scatterternary\"}], \"surface\": [{\"colorbar\": {\"outlinewidth\": 0, \"ticks\": \"\"}, \"colorscale\": [[0.0, \"#0d0887\"], [0.1111111111111111, \"#46039f\"], [0.2222222222222222, \"#7201a8\"], [0.3333333333333333, \"#9c179e\"], [0.4444444444444444, \"#bd3786\"], [0.5555555555555556, \"#d8576b\"], [0.6666666666666666, \"#ed7953\"], [0.7777777777777778, \"#fb9f3a\"], [0.8888888888888888, \"#fdca26\"], [1.0, \"#f0f921\"]], \"type\": \"surface\"}], \"table\": [{\"cells\": {\"fill\": {\"color\": \"#EBF0F8\"}, \"line\": {\"color\": \"white\"}}, \"header\": {\"fill\": {\"color\": \"#C8D4E3\"}, \"line\": {\"color\": \"white\"}}, \"type\": \"table\"}]}, \"layout\": {\"annotationdefaults\": {\"arrowcolor\": \"#2a3f5f\", \"arrowhead\": 0, \"arrowwidth\": 1}, \"coloraxis\": {\"colorbar\": {\"outlinewidth\": 0, \"ticks\": \"\"}}, \"colorscale\": {\"diverging\": [[0, \"#8e0152\"], [0.1, \"#c51b7d\"], [0.2, \"#de77ae\"], [0.3, \"#f1b6da\"], [0.4, \"#fde0ef\"], [0.5, \"#f7f7f7\"], [0.6, \"#e6f5d0\"], [0.7, \"#b8e186\"], [0.8, \"#7fbc41\"], [0.9, \"#4d9221\"], [1, \"#276419\"]], \"sequential\": [[0.0, \"#0d0887\"], [0.1111111111111111, \"#46039f\"], [0.2222222222222222, \"#7201a8\"], [0.3333333333333333, \"#9c179e\"], [0.4444444444444444, \"#bd3786\"], [0.5555555555555556, \"#d8576b\"], [0.6666666666666666, \"#ed7953\"], [0.7777777777777778, \"#fb9f3a\"], [0.8888888888888888, \"#fdca26\"], [1.0, \"#f0f921\"]], \"sequentialminus\": [[0.0, \"#0d0887\"], [0.1111111111111111, \"#46039f\"], [0.2222222222222222, \"#7201a8\"], [0.3333333333333333, \"#9c179e\"], [0.4444444444444444, \"#bd3786\"], [0.5555555555555556, \"#d8576b\"], [0.6666666666666666, \"#ed7953\"], [0.7777777777777778, \"#fb9f3a\"], [0.8888888888888888, \"#fdca26\"], [1.0, \"#f0f921\"]]}, \"colorway\": [\"#636efa\", \"#EF553B\", \"#00cc96\", \"#ab63fa\", \"#FFA15A\", \"#19d3f3\", \"#FF6692\", \"#B6E880\", \"#FF97FF\", \"#FECB52\"], \"font\": {\"color\": \"#2a3f5f\"}, \"geo\": {\"bgcolor\": \"white\", \"lakecolor\": \"white\", \"landcolor\": \"#E5ECF6\", \"showlakes\": true, \"showland\": true, \"subunitcolor\": \"white\"}, \"hoverlabel\": {\"align\": \"left\"}, \"hovermode\": \"closest\", \"mapbox\": {\"style\": \"light\"}, \"paper_bgcolor\": \"white\", \"plot_bgcolor\": \"#E5ECF6\", \"polar\": {\"angularaxis\": {\"gridcolor\": \"white\", \"linecolor\": \"white\", \"ticks\": \"\"}, \"bgcolor\": \"#E5ECF6\", \"radialaxis\": {\"gridcolor\": \"white\", \"linecolor\": \"white\", \"ticks\": \"\"}}, \"scene\": {\"xaxis\": {\"backgroundcolor\": \"#E5ECF6\", \"gridcolor\": \"white\", \"gridwidth\": 2, \"linecolor\": \"white\", \"showbackground\": true, \"ticks\": \"\", \"zerolinecolor\": \"white\"}, \"yaxis\": {\"backgroundcolor\": \"#E5ECF6\", \"gridcolor\": \"white\", \"gridwidth\": 2, \"linecolor\": \"white\", \"showbackground\": true, \"ticks\": \"\", \"zerolinecolor\": \"white\"}, \"zaxis\": {\"backgroundcolor\": \"#E5ECF6\", \"gridcolor\": \"white\", \"gridwidth\": 2, \"linecolor\": \"white\", \"showbackground\": true, \"ticks\": \"\", \"zerolinecolor\": \"white\"}}, \"shapedefaults\": {\"line\": {\"color\": \"#2a3f5f\"}}, \"ternary\": {\"aaxis\": {\"gridcolor\": \"white\", \"linecolor\": \"white\", \"ticks\": \"\"}, \"baxis\": {\"gridcolor\": \"white\", \"linecolor\": \"white\", \"ticks\": \"\"}, \"bgcolor\": \"#E5ECF6\", \"caxis\": {\"gridcolor\": \"white\", \"linecolor\": \"white\", \"ticks\": \"\"}}, \"title\": {\"x\": 0.05}, \"xaxis\": {\"automargin\": true, \"gridcolor\": \"white\", \"linecolor\": \"white\", \"ticks\": \"\", \"title\": {\"standoff\": 15}, \"zerolinecolor\": \"white\", \"zerolinewidth\": 2}, \"yaxis\": {\"automargin\": true, \"gridcolor\": \"white\", \"linecolor\": \"white\", \"ticks\": \"\", \"title\": {\"standoff\": 15}, \"zerolinecolor\": \"white\", \"zerolinewidth\": 2}}}},\n",
              "                        {\"responsive\": true}\n",
              "                    ).then(function(){\n",
              "                            \n",
              "var gd = document.getElementById('d653971a-bd37-433d-bd6e-cd0d04e37cf6');\n",
              "var x = new MutationObserver(function (mutations, observer) {{\n",
              "        var display = window.getComputedStyle(gd).display;\n",
              "        if (!display || display === 'none') {{\n",
              "            console.log([gd, 'removed!']);\n",
              "            Plotly.purge(gd);\n",
              "            observer.disconnect();\n",
              "        }}\n",
              "}});\n",
              "\n",
              "// Listen for the removal of the full notebook cells\n",
              "var notebookContainer = gd.closest('#notebook-container');\n",
              "if (notebookContainer) {{\n",
              "    x.observe(notebookContainer, {childList: true});\n",
              "}}\n",
              "\n",
              "// Listen for the clearing of the current output cell\n",
              "var outputEl = gd.closest('.output');\n",
              "if (outputEl) {{\n",
              "    x.observe(outputEl, {childList: true});\n",
              "}}\n",
              "\n",
              "                        })\n",
              "                };\n",
              "                \n",
              "            </script>\n",
              "        </div>\n",
              "</body>\n",
              "</html>"
            ]
          },
          "metadata": {
            "tags": []
          }
        }
      ]
    },
    {
      "cell_type": "code",
      "metadata": {
        "id": "fvcn5Xuk8zqQ",
        "outputId": "b38a71d4-11fa-4d29-fb87-419c8a81c5e5",
        "colab": {
          "base_uri": "https://localhost:8080/",
          "height": 886
        }
      },
      "source": [
        "sim"
      ],
      "execution_count": 209,
      "outputs": [
        {
          "output_type": "execute_result",
          "data": {
            "text/html": [
              "<div>\n",
              "<style scoped>\n",
              "    .dataframe tbody tr th:only-of-type {\n",
              "        vertical-align: middle;\n",
              "    }\n",
              "\n",
              "    .dataframe tbody tr th {\n",
              "        vertical-align: top;\n",
              "    }\n",
              "\n",
              "    .dataframe thead th {\n",
              "        text-align: right;\n",
              "    }\n",
              "</style>\n",
              "<table border=\"1\" class=\"dataframe\">\n",
              "  <thead>\n",
              "    <tr style=\"text-align: right;\">\n",
              "      <th></th>\n",
              "      <th>dayNum</th>\n",
              "      <th>ally_inf</th>\n",
              "      <th>ally_note</th>\n",
              "      <th>target_inf</th>\n",
              "      <th>targ_note</th>\n",
              "    </tr>\n",
              "  </thead>\n",
              "  <tbody>\n",
              "    <tr>\n",
              "      <th>0</th>\n",
              "      <td>0</td>\n",
              "      <td>30.000000</td>\n",
              "      <td></td>\n",
              "      <td>40.000000</td>\n",
              "      <td></td>\n",
              "    </tr>\n",
              "    <tr>\n",
              "      <th>1</th>\n",
              "      <td>1</td>\n",
              "      <td>37.573759</td>\n",
              "      <td>Pending Conflict</td>\n",
              "      <td>37.573759</td>\n",
              "      <td>Pending Conflict</td>\n",
              "    </tr>\n",
              "    <tr>\n",
              "      <th>2</th>\n",
              "      <td>2</td>\n",
              "      <td>37.573759</td>\n",
              "      <td>Conflict day 1</td>\n",
              "      <td>37.573759</td>\n",
              "      <td>Conflict day 1</td>\n",
              "    </tr>\n",
              "    <tr>\n",
              "      <th>3</th>\n",
              "      <td>3</td>\n",
              "      <td>37.573759</td>\n",
              "      <td>Conflict day 2</td>\n",
              "      <td>37.573759</td>\n",
              "      <td>Conflict day 2</td>\n",
              "    </tr>\n",
              "    <tr>\n",
              "      <th>4</th>\n",
              "      <td>4</td>\n",
              "      <td>37.573759</td>\n",
              "      <td>Conflict day 3</td>\n",
              "      <td>37.573759</td>\n",
              "      <td>Conflict day 3</td>\n",
              "    </tr>\n",
              "    <tr>\n",
              "      <th>5</th>\n",
              "      <td>5</td>\n",
              "      <td>37.573759</td>\n",
              "      <td>Conflict day 4</td>\n",
              "      <td>37.573759</td>\n",
              "      <td>Conflict day 4</td>\n",
              "    </tr>\n",
              "    <tr>\n",
              "      <th>6</th>\n",
              "      <td>7</td>\n",
              "      <td>51.960876</td>\n",
              "      <td></td>\n",
              "      <td>27.450928</td>\n",
              "      <td></td>\n",
              "    </tr>\n",
              "    <tr>\n",
              "      <th>7</th>\n",
              "      <td>8</td>\n",
              "      <td>60.203617</td>\n",
              "      <td></td>\n",
              "      <td>22.740790</td>\n",
              "      <td></td>\n",
              "    </tr>\n",
              "    <tr>\n",
              "      <th>8</th>\n",
              "      <td>9</td>\n",
              "      <td>67.032037</td>\n",
              "      <td></td>\n",
              "      <td>18.838836</td>\n",
              "      <td></td>\n",
              "    </tr>\n",
              "    <tr>\n",
              "      <th>9</th>\n",
              "      <td>10</td>\n",
              "      <td>72.688809</td>\n",
              "      <td></td>\n",
              "      <td>15.606395</td>\n",
              "      <td></td>\n",
              "    </tr>\n",
              "    <tr>\n",
              "      <th>10</th>\n",
              "      <td>11</td>\n",
              "      <td>77.374970</td>\n",
              "      <td>Pending Expansion</td>\n",
              "      <td>12.928588</td>\n",
              "      <td></td>\n",
              "    </tr>\n",
              "    <tr>\n",
              "      <th>11</th>\n",
              "      <td>12</td>\n",
              "      <td>81.257062</td>\n",
              "      <td>Expansion day 1</td>\n",
              "      <td>10.710251</td>\n",
              "      <td></td>\n",
              "    </tr>\n",
              "    <tr>\n",
              "      <th>12</th>\n",
              "      <td>13</td>\n",
              "      <td>84.473048</td>\n",
              "      <td>Expansion day 2</td>\n",
              "      <td>8.872544</td>\n",
              "      <td></td>\n",
              "    </tr>\n",
              "    <tr>\n",
              "      <th>13</th>\n",
              "      <td>14</td>\n",
              "      <td>87.137224</td>\n",
              "      <td>Expansion day 3</td>\n",
              "      <td>7.350158</td>\n",
              "      <td></td>\n",
              "    </tr>\n",
              "    <tr>\n",
              "      <th>14</th>\n",
              "      <td>15</td>\n",
              "      <td>89.344269</td>\n",
              "      <td>Expansion day 4</td>\n",
              "      <td>6.088989</td>\n",
              "      <td></td>\n",
              "    </tr>\n",
              "    <tr>\n",
              "      <th>15</th>\n",
              "      <td>16</td>\n",
              "      <td>91.172621</td>\n",
              "      <td>Expansion day 5</td>\n",
              "      <td>5.044216</td>\n",
              "      <td></td>\n",
              "    </tr>\n",
              "    <tr>\n",
              "      <th>16</th>\n",
              "      <td>17</td>\n",
              "      <td>92.687258</td>\n",
              "      <td>Expansion day 6</td>\n",
              "      <td>4.178710</td>\n",
              "      <td></td>\n",
              "    </tr>\n",
              "    <tr>\n",
              "      <th>17</th>\n",
              "      <td>18</td>\n",
              "      <td>93.942007</td>\n",
              "      <td>Expansion day 7</td>\n",
              "      <td>3.461711</td>\n",
              "      <td></td>\n",
              "    </tr>\n",
              "    <tr>\n",
              "      <th>18</th>\n",
              "      <td>19</td>\n",
              "      <td>94.981461</td>\n",
              "      <td>Expansion</td>\n",
              "      <td>2.867737</td>\n",
              "      <td></td>\n",
              "    </tr>\n",
              "    <tr>\n",
              "      <th>19</th>\n",
              "      <td>20</td>\n",
              "      <td>95.842561</td>\n",
              "      <td></td>\n",
              "      <td>2.375679</td>\n",
              "      <td>Pending Retreat</td>\n",
              "    </tr>\n",
              "    <tr>\n",
              "      <th>20</th>\n",
              "      <td>21</td>\n",
              "      <td>96.555911</td>\n",
              "      <td></td>\n",
              "      <td>1.968051</td>\n",
              "      <td>Retreat day 1</td>\n",
              "    </tr>\n",
              "    <tr>\n",
              "      <th>21</th>\n",
              "      <td>22</td>\n",
              "      <td>97.146861</td>\n",
              "      <td></td>\n",
              "      <td>1.630365</td>\n",
              "      <td>Retreat day 2</td>\n",
              "    </tr>\n",
              "    <tr>\n",
              "      <th>22</th>\n",
              "      <td>23</td>\n",
              "      <td>97.636414</td>\n",
              "      <td></td>\n",
              "      <td>1.350621</td>\n",
              "      <td>Retreat day 3</td>\n",
              "    </tr>\n",
              "    <tr>\n",
              "      <th>23</th>\n",
              "      <td>24</td>\n",
              "      <td>98.041967</td>\n",
              "      <td></td>\n",
              "      <td>1.118876</td>\n",
              "      <td>Retreat day 4</td>\n",
              "    </tr>\n",
              "    <tr>\n",
              "      <th>24</th>\n",
              "      <td>25</td>\n",
              "      <td>98.377934</td>\n",
              "      <td></td>\n",
              "      <td>1.000000</td>\n",
              "      <td>Retreat day 5</td>\n",
              "    </tr>\n",
              "    <tr>\n",
              "      <th>25</th>\n",
              "      <td>26</td>\n",
              "      <td>98.656255</td>\n",
              "      <td></td>\n",
              "      <td>1.000000</td>\n",
              "      <td>Retreat day 6</td>\n",
              "    </tr>\n",
              "    <tr>\n",
              "      <th>26</th>\n",
              "      <td>27</td>\n",
              "      <td>98.886820</td>\n",
              "      <td></td>\n",
              "      <td>1.000000</td>\n",
              "      <td>Retreat day 7</td>\n",
              "    </tr>\n",
              "  </tbody>\n",
              "</table>\n",
              "</div>"
            ],
            "text/plain": [
              "    dayNum   ally_inf          ally_note  target_inf         targ_note\n",
              "0        0  30.000000                      40.000000                  \n",
              "1        1  37.573759   Pending Conflict   37.573759  Pending Conflict\n",
              "2        2  37.573759     Conflict day 1   37.573759    Conflict day 1\n",
              "3        3  37.573759     Conflict day 2   37.573759    Conflict day 2\n",
              "4        4  37.573759     Conflict day 3   37.573759    Conflict day 3\n",
              "5        5  37.573759     Conflict day 4   37.573759    Conflict day 4\n",
              "6        7  51.960876                      27.450928                  \n",
              "7        8  60.203617                      22.740790                  \n",
              "8        9  67.032037                      18.838836                  \n",
              "9       10  72.688809                      15.606395                  \n",
              "10      11  77.374970  Pending Expansion   12.928588                  \n",
              "11      12  81.257062    Expansion day 1   10.710251                  \n",
              "12      13  84.473048    Expansion day 2    8.872544                  \n",
              "13      14  87.137224    Expansion day 3    7.350158                  \n",
              "14      15  89.344269    Expansion day 4    6.088989                  \n",
              "15      16  91.172621    Expansion day 5    5.044216                  \n",
              "16      17  92.687258    Expansion day 6    4.178710                  \n",
              "17      18  93.942007    Expansion day 7    3.461711                  \n",
              "18      19  94.981461          Expansion    2.867737                  \n",
              "19      20  95.842561                       2.375679   Pending Retreat\n",
              "20      21  96.555911                       1.968051     Retreat day 1\n",
              "21      22  97.146861                       1.630365     Retreat day 2\n",
              "22      23  97.636414                       1.350621     Retreat day 3\n",
              "23      24  98.041967                       1.118876     Retreat day 4\n",
              "24      25  98.377934                       1.000000     Retreat day 5\n",
              "25      26  98.656255                       1.000000     Retreat day 6\n",
              "26      27  98.886820                       1.000000     Retreat day 7"
            ]
          },
          "metadata": {
            "tags": []
          },
          "execution_count": 209
        }
      ]
    }
  ]
}