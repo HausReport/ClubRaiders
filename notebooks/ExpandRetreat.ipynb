{
  "nbformat": 4,
  "nbformat_minor": 0,
  "metadata": {
    "colab": {
      "name": "Untitled10.ipynb",
      "provenance": [],
      "authorship_tag": "ABX9TyMHcsiSIA5WNKIeJSZjhYp+",
      "include_colab_link": true
    },
    "kernelspec": {
      "name": "python3",
      "display_name": "Python 3"
    }
  },
  "cells": [
    {
      "cell_type": "markdown",
      "metadata": {
        "id": "view-in-github",
        "colab_type": "text"
      },
      "source": [
        "<a href=\"https://colab.research.google.com/github/HausReport/ClubRaiders/blob/master/notebooks/ExpandRetreat.ipynb\" target=\"_parent\"><img src=\"https://colab.research.google.com/assets/colab-badge.svg\" alt=\"Open In Colab\"/></a>"
      ]
    },
    {
      "cell_type": "code",
      "metadata": {
        "id": "rFKejGWgf2nI"
      },
      "source": [
        "import math\n",
        "\n",
        "def expandOneDay(inf: float, pop: int):\n",
        "  top = (36 - math.log(pop,2))\n",
        "  bottom = (100+ (36 - math.log(pop,2)))\n",
        "  ret = 100.0 * (inf + top)/ bottom\n",
        "  if ret> 100.0:\n",
        "     ret = 100.0\n",
        "  if ret<0.0:\n",
        "     ret = 0.0\n",
        "  return ret\n",
        "\n",
        "def dailyIncrease(inf: float, pop: int):\n",
        "  return expandOneDay(inf,pop) - inf"
      ],
      "execution_count": 9,
      "outputs": []
    },
    {
      "cell_type": "code",
      "metadata": {
        "id": "pGH8EfnIkspj"
      },
      "source": [
        "def retreatOneDay(inf: float, pop: int):\n",
        "  top = (36 - math.log(pop,2))\n",
        "  bottom = (100+ (36 - math.log(pop,2)))\n",
        "  ret = inf - ((100 * ( (100-inf) + top)/ bottom) - (100-inf))\n",
        "  if ret> 100.0:\n",
        "     ret = 100.0\n",
        "  if ret<0.0:\n",
        "     ret = 0.0\n",
        "  return ret\n",
        "\n",
        "def dailyDecrease(inf: float, pop: int):\n",
        "  return expandOneDay(inf,pop) - inf"
      ],
      "execution_count": 12,
      "outputs": []
    },
    {
      "cell_type": "code",
      "metadata": {
        "id": "O2-UR9WTlbAf",
        "outputId": "479bbdaa-bfb5-4a27-8736-9027e4ba0f43",
        "colab": {
          "base_uri": "https://localhost:8080/",
          "height": 34
        }
      },
      "source": [
        "retreatOneDay(9.2,2200)"
      ],
      "execution_count": 14,
      "outputs": [
        {
          "output_type": "execute_result",
          "data": {
            "text/plain": [
              "7.3660866155447415"
            ]
          },
          "metadata": {
            "tags": []
          },
          "execution_count": 14
        }
      ]
    },
    {
      "cell_type": "code",
      "metadata": {
        "id": "Z4cN4mKdjZ5_",
        "outputId": "938a4585-2d9d-4954-ffef-d058df39739a",
        "colab": {
          "base_uri": "https://localhost:8080/",
          "height": 34
        }
      },
      "source": [
        "expandOneDay(65.9,2200)"
      ],
      "execution_count": 10,
      "outputs": [
        {
          "output_type": "execute_result",
          "data": {
            "text/plain": [
              "72.6974398271657"
            ]
          },
          "metadata": {
            "tags": []
          },
          "execution_count": 10
        }
      ]
    },
    {
      "cell_type": "code",
      "metadata": {
        "id": "m6Xdpry9mnNT"
      },
      "source": [
        "def daysToPendingExpansion(inf: float, pop: int):\n",
        "  tinf = inf\n",
        "  day = 0\n",
        "  while tinf < 75.0:\n",
        "    day += 1\n",
        "    tinf = expandOneDay(tinf, pop)\n",
        "  return day\n",
        "\n",
        "def daysToPendingRetreat(inf: float, pop: int):\n",
        "  tinf = inf\n",
        "  day = 0\n",
        "  while tinf > 2.5:\n",
        "    day += 1\n",
        "    tinf = retreatOneDay(tinf, pop)\n",
        "  return day\n",
        "\n",
        "def daysToExpansion(inf: float, pop: int):\n",
        "  ret = daysToPendingExpansion(inf,pop)\n",
        "  ret += 1 # pending day\n",
        "  ret += 6 # active expansion\n",
        "  return ret\n",
        "\n",
        "def daysToRetreat(inf: float, pop: int):\n",
        "  ret = daysToPendingRetreat(inf,pop)\n",
        "  ret += 1 # pending day\n",
        "  ret += 6 # active retreat\n",
        "  ret += 1\n",
        "  return ret"
      ],
      "execution_count": 22,
      "outputs": []
    },
    {
      "cell_type": "code",
      "metadata": {
        "id": "4-SNgDaNngBk",
        "outputId": "9fb44b77-b48e-430a-f6bf-d03b7d9efa3a",
        "colab": {
          "base_uri": "https://localhost:8080/",
          "height": 34
        }
      },
      "source": [
        "daysToPendingExpansion(65.9,2200)"
      ],
      "execution_count": 18,
      "outputs": [
        {
          "output_type": "execute_result",
          "data": {
            "text/plain": [
              "2"
            ]
          },
          "metadata": {
            "tags": []
          },
          "execution_count": 18
        }
      ]
    },
    {
      "cell_type": "code",
      "metadata": {
        "id": "YCUc1p3onwt8",
        "outputId": "dae6db49-01ef-490d-f19a-8cb6b41b8e74",
        "colab": {
          "base_uri": "https://localhost:8080/",
          "height": 34
        }
      },
      "source": [
        "daysToPendingRetreat(65.9,2200)"
      ],
      "execution_count": 21,
      "outputs": [
        {
          "output_type": "execute_result",
          "data": {
            "text/plain": [
              "15"
            ]
          },
          "metadata": {
            "tags": []
          },
          "execution_count": 21
        }
      ]
    }
  ]
}