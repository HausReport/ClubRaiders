{
  "nbformat": 4,
  "nbformat_minor": 0,
  "metadata": {
    "colab": {
      "name": "Untitled6.ipynb",
      "provenance": [],
      "authorship_tag": "ABX9TyP9Lb33F6IXLi+niH2WQ0tF",
      "include_colab_link": true
    },
    "kernelspec": {
      "name": "python3",
      "display_name": "Python 3"
    }
  },
  "cells": [
    {
      "cell_type": "markdown",
      "metadata": {
        "id": "view-in-github",
        "colab_type": "text"
      },
      "source": [
        "<a href=\"https://colab.research.google.com/github/HausReport/ClubRaiders/blob/master/notebooks/History.ipynb\" target=\"_parent\"><img src=\"https://colab.research.google.com/assets/colab-badge.svg\" alt=\"Open In Colab\"/></a>"
      ]
    },
    {
      "cell_type": "code",
      "metadata": {
        "id": "jdHV2ZR4LvXV",
        "colab_type": "code",
        "colab": {
          "base_uri": "https://localhost:8080/",
          "height": 1000
        },
        "outputId": "fd84dfdd-0706-412d-9488-6d693dccce5f"
      },
      "source": [
        "import sys\n",
        "\n",
        "!{sys.executable} -m pip install --force-reinstall --upgrade \"git+https://github.com/HausReport/ClubRaiders.git#egg=craid\"\n",
        "import craid.eddb.loader.DataProducer as dp\n",
        "import pandas as pd\n",
        "import logging\n",
        "import plotly.graph_objs as go\n",
        "import plotly.express as px\n",
        "import numpy as np\n",
        "from dateutil.relativedelta import relativedelta\n",
        "from datetime import timedelta, date\n",
        "\n",
        "\n",
        "logging.getLogger().addHandler(logging.StreamHandler())\n",
        "logging.getLogger().level = logging.DEBUG\n",
        "\n",
        "arrays = dp.getDataArrays()\n",
        "baseFrame: pd.DataFrame = arrays['dataFrame']"
      ],
      "execution_count": 1,
      "outputs": [
        {
          "output_type": "stream",
          "text": [
            "Collecting craid\n",
            "  Cloning https://github.com/HausReport/ClubRaiders.git to /tmp/pip-install-dszolp3a/craid\n",
            "  Running command git clone -q https://github.com/HausReport/ClubRaiders.git /tmp/pip-install-dszolp3a/craid\n",
            "Collecting dash\n",
            "\u001b[?25l  Downloading https://files.pythonhosted.org/packages/48/be/71c46eeb4ede1e1778261fe934be874f2066c7f50ae2d9c6d8e488c6a05f/dash-1.13.4.tar.gz (67kB)\n",
            "\u001b[K     |████████████████████████████████| 71kB 1.9MB/s \n",
            "\u001b[?25hCollecting dash-core-components\n",
            "\u001b[?25l  Downloading https://files.pythonhosted.org/packages/d2/e4/c1e5c427c19af00d2e1a13a7ee03a1142ddb04e440f98de501f770f17107/dash_core_components-1.10.1.tar.gz (3.4MB)\n",
            "\u001b[K     |████████████████████████████████| 3.4MB 6.9MB/s \n",
            "\u001b[?25hCollecting dash-html-components\n",
            "\u001b[?25l  Downloading https://files.pythonhosted.org/packages/da/20/46714ae501ccf16e5e37ca160c06e27347d19889687454168730e6744cdc/dash_html_components-1.0.3.tar.gz (187kB)\n",
            "\u001b[K     |████████████████████████████████| 194kB 40.9MB/s \n",
            "\u001b[?25hCollecting dash-table\n",
            "\u001b[?25l  Downloading https://files.pythonhosted.org/packages/06/2d/f326c40f3fba76034db82a08d67a9a8a4a4473ea276774a38dd7ab2136cd/dash_table-4.8.1.tar.gz (1.8MB)\n",
            "\u001b[K     |████████████████████████████████| 1.8MB 35.7MB/s \n",
            "\u001b[?25hCollecting dash-renderer\n",
            "\u001b[?25l  Downloading https://files.pythonhosted.org/packages/a7/8b/7c3e314d857fb0a6cc7453f25a05c9b2506f412c2638ad896591767abc75/dash_renderer-1.5.1.tar.gz (1.2MB)\n",
            "\u001b[K     |████████████████████████████████| 1.2MB 41.6MB/s \n",
            "\u001b[?25hCollecting flask\n",
            "\u001b[?25l  Downloading https://files.pythonhosted.org/packages/f2/28/2a03252dfb9ebf377f40fba6a7841b47083260bf8bd8e737b0c6952df83f/Flask-1.1.2-py2.py3-none-any.whl (94kB)\n",
            "\u001b[K     |████████████████████████████████| 102kB 9.8MB/s \n",
            "\u001b[?25hCollecting pandas\n",
            "\u001b[?25l  Downloading https://files.pythonhosted.org/packages/c0/95/cb9820560a2713384ef49060b0087dfa2591c6db6f240215c2bce1f4211c/pandas-1.0.5-cp36-cp36m-manylinux1_x86_64.whl (10.1MB)\n",
            "\u001b[K     |████████████████████████████████| 10.1MB 44.6MB/s \n",
            "\u001b[?25hCollecting requests\n",
            "\u001b[?25l  Downloading https://files.pythonhosted.org/packages/45/1e/0c169c6a5381e241ba7404532c16a21d86ab872c9bed8bdcd4c423954103/requests-2.24.0-py2.py3-none-any.whl (61kB)\n",
            "\u001b[K     |████████████████████████████████| 71kB 7.8MB/s \n",
            "\u001b[?25hCollecting setuptools\n",
            "\u001b[?25l  Downloading https://files.pythonhosted.org/packages/41/fa/60888a1d591db07bc9c17dce2bcfb9f00ac507c0a23ecb827e76feb8f816/setuptools-49.1.0-py3-none-any.whl (789kB)\n",
            "\u001b[K     |████████████████████████████████| 798kB 41.8MB/s \n",
            "\u001b[?25hCollecting numpy\n",
            "\u001b[?25l  Downloading https://files.pythonhosted.org/packages/93/0b/71ae818646c1a80fbe6776d41f480649523ed31243f1f34d9d7e41d70195/numpy-1.19.0-cp36-cp36m-manylinux2010_x86_64.whl (14.6MB)\n",
            "\u001b[K     |████████████████████████████████| 14.6MB 158kB/s \n",
            "\u001b[?25hCollecting python-dateutil\n",
            "\u001b[?25l  Downloading https://files.pythonhosted.org/packages/d4/70/d60450c3dd48ef87586924207ae8907090de0b306af2bce5d134d78615cb/python_dateutil-2.8.1-py2.py3-none-any.whl (227kB)\n",
            "\u001b[K     |████████████████████████████████| 235kB 44.4MB/s \n",
            "\u001b[?25hCollecting ujson\n",
            "\u001b[?25l  Downloading https://files.pythonhosted.org/packages/12/0a/35e07ebe48f0c2a23c316d92c2e26eade75e00a3df0758be57e7804bfbf0/ujson-3.0.0-cp36-cp36m-manylinux1_x86_64.whl (176kB)\n",
            "\u001b[K     |████████████████████████████████| 184kB 46.6MB/s \n",
            "\u001b[?25hCollecting urllib3\n",
            "\u001b[?25l  Downloading https://files.pythonhosted.org/packages/e1/e5/df302e8017440f111c11cc41a6b432838672f5a70aa29227bf58149dc72f/urllib3-1.25.9-py2.py3-none-any.whl (126kB)\n",
            "\u001b[K     |████████████████████████████████| 133kB 40.6MB/s \n",
            "\u001b[?25hCollecting psutil\n",
            "\u001b[?25l  Downloading https://files.pythonhosted.org/packages/c4/b8/3512f0e93e0db23a71d82485ba256071ebef99b227351f0f5540f744af41/psutil-5.7.0.tar.gz (449kB)\n",
            "\u001b[K     |████████████████████████████████| 450kB 42.8MB/s \n",
            "\u001b[?25hCollecting plotly\n",
            "\u001b[?25l  Downloading https://files.pythonhosted.org/packages/27/99/9794bcd22fae2e12b689759d53fe26939a4d11b8b44b0b7056e035c64529/plotly-4.8.2-py2.py3-none-any.whl (11.5MB)\n",
            "\u001b[K     |████████████████████████████████| 11.5MB 38.4MB/s \n",
            "\u001b[?25hCollecting humanize\n",
            "\u001b[?25l  Downloading https://files.pythonhosted.org/packages/6f/4e/fb9360ba8494b9d39701d043f4050e5959da39b9ce7878c1fbf7070a2b06/humanize-2.5.0-py3-none-any.whl (65kB)\n",
            "\u001b[K     |████████████████████████████████| 71kB 7.2MB/s \n",
            "\u001b[?25hCollecting boto3\n",
            "\u001b[?25l  Downloading https://files.pythonhosted.org/packages/52/6b/8ac3977d38949e6bc28f126730fa0fd8b92a32f7d46a49126cc111522c0e/boto3-1.14.17-py2.py3-none-any.whl (128kB)\n",
            "\u001b[K     |████████████████████████████████| 133kB 35.1MB/s \n",
            "\u001b[?25hCollecting botocore\n",
            "\u001b[?25l  Downloading https://files.pythonhosted.org/packages/42/05/88a0efa321b9c01043b94f9c980bcf719bed06eef1109b362ec260e03285/botocore-1.17.17-py2.py3-none-any.whl (6.3MB)\n",
            "\u001b[K     |████████████████████████████████| 6.3MB 39.1MB/s \n",
            "\u001b[?25hCollecting flask-compress\n",
            "  Downloading https://files.pythonhosted.org/packages/a0/96/cd684c1ffe97b513303b5bfd4bbfb4114c5f4a5ea8a737af6fd813273df8/Flask-Compress-1.5.0.tar.gz\n",
            "Collecting future\n",
            "\u001b[?25l  Downloading https://files.pythonhosted.org/packages/45/0b/38b06fd9b92dc2b68d58b75f900e97884c45bedd2ff83203d933cf5851c9/future-0.18.2.tar.gz (829kB)\n",
            "\u001b[K     |████████████████████████████████| 829kB 34.6MB/s \n",
            "\u001b[?25hCollecting Jinja2>=2.10.1\n",
            "\u001b[?25l  Downloading https://files.pythonhosted.org/packages/30/9e/f663a2aa66a09d838042ae1a2c5659828bb9b41ea3a6efa20a20fd92b121/Jinja2-2.11.2-py2.py3-none-any.whl (125kB)\n",
            "\u001b[K     |████████████████████████████████| 133kB 43.8MB/s \n",
            "\u001b[?25hCollecting Werkzeug>=0.15\n",
            "\u001b[?25l  Downloading https://files.pythonhosted.org/packages/cc/94/5f7079a0e00bd6863ef8f1da638721e9da21e5bacee597595b318f71d62e/Werkzeug-1.0.1-py2.py3-none-any.whl (298kB)\n",
            "\u001b[K     |████████████████████████████████| 307kB 44.6MB/s \n",
            "\u001b[?25hCollecting click>=5.1\n",
            "\u001b[?25l  Downloading https://files.pythonhosted.org/packages/d2/3d/fa76db83bf75c4f8d338c2fd15c8d33fdd7ad23a9b5e57eb6c5de26b430e/click-7.1.2-py2.py3-none-any.whl (82kB)\n",
            "\u001b[K     |████████████████████████████████| 92kB 9.0MB/s \n",
            "\u001b[?25hCollecting itsdangerous>=0.24\n",
            "  Downloading https://files.pythonhosted.org/packages/76/ae/44b03b253d6fade317f32c24d100b3b35c2239807046a4c953c7b89fa49e/itsdangerous-1.1.0-py2.py3-none-any.whl\n",
            "Collecting pytz>=2017.2\n",
            "\u001b[?25l  Downloading https://files.pythonhosted.org/packages/4f/a4/879454d49688e2fad93e59d7d4efda580b783c745fd2ec2a3adf87b0808d/pytz-2020.1-py2.py3-none-any.whl (510kB)\n",
            "\u001b[K     |████████████████████████████████| 512kB 41.5MB/s \n",
            "\u001b[?25hCollecting chardet<4,>=3.0.2\n",
            "\u001b[?25l  Downloading https://files.pythonhosted.org/packages/bc/a9/01ffebfb562e4274b6487b4bb1ddec7ca55ec7510b22e4c51f14098443b8/chardet-3.0.4-py2.py3-none-any.whl (133kB)\n",
            "\u001b[K     |████████████████████████████████| 143kB 32.2MB/s \n",
            "\u001b[?25hCollecting idna<3,>=2.5\n",
            "\u001b[?25l  Downloading https://files.pythonhosted.org/packages/a2/38/928ddce2273eaa564f6f50de919327bf3a00f091b5baba8dfa9460f3a8a8/idna-2.10-py2.py3-none-any.whl (58kB)\n",
            "\u001b[K     |████████████████████████████████| 61kB 6.2MB/s \n",
            "\u001b[?25hCollecting certifi>=2017.4.17\n",
            "\u001b[?25l  Downloading https://files.pythonhosted.org/packages/5e/c4/6c4fe722df5343c33226f0b4e0bb042e4dc13483228b4718baf286f86d87/certifi-2020.6.20-py2.py3-none-any.whl (156kB)\n",
            "\u001b[K     |████████████████████████████████| 163kB 41.0MB/s \n",
            "\u001b[?25hCollecting six>=1.5\n",
            "  Downloading https://files.pythonhosted.org/packages/ee/ff/48bde5c0f013094d729fe4b0316ba2a24774b3ff1c52d924a8a4cb04078a/six-1.15.0-py2.py3-none-any.whl\n",
            "Collecting retrying>=1.3.3\n",
            "  Downloading https://files.pythonhosted.org/packages/44/ef/beae4b4ef80902f22e3af073397f079c96969c69b2c7d52a57ea9ae61c9d/retrying-1.3.3.tar.gz\n",
            "Collecting jmespath<1.0.0,>=0.7.1\n",
            "  Downloading https://files.pythonhosted.org/packages/07/cb/5f001272b6faeb23c1c9e0acc04d48eaaf5c862c17709d20e3469c6e0139/jmespath-0.10.0-py2.py3-none-any.whl\n",
            "Collecting s3transfer<0.4.0,>=0.3.0\n",
            "\u001b[?25l  Downloading https://files.pythonhosted.org/packages/69/79/e6afb3d8b0b4e96cefbdc690f741d7dd24547ff1f94240c997a26fa908d3/s3transfer-0.3.3-py2.py3-none-any.whl (69kB)\n",
            "\u001b[K     |████████████████████████████████| 71kB 7.9MB/s \n",
            "\u001b[?25hCollecting docutils<0.16,>=0.10\n",
            "\u001b[?25l  Downloading https://files.pythonhosted.org/packages/22/cd/a6aa959dca619918ccb55023b4cb151949c64d4d5d55b3f4ffd7eee0c6e8/docutils-0.15.2-py3-none-any.whl (547kB)\n",
            "\u001b[K     |████████████████████████████████| 552kB 39.1MB/s \n",
            "\u001b[?25hCollecting brotli\n",
            "\u001b[?25l  Downloading https://files.pythonhosted.org/packages/f4/68/60a220454dc5083c6d59b41aa90bb1c96fad62a0abf3a33e0ef64b38638a/Brotli-1.0.7-cp36-cp36m-manylinux1_x86_64.whl (352kB)\n",
            "\u001b[K     |████████████████████████████████| 358kB 42.8MB/s \n",
            "\u001b[?25hCollecting MarkupSafe>=0.23\n",
            "  Downloading https://files.pythonhosted.org/packages/b2/5f/23e0023be6bb885d00ffbefad2942bc51a620328ee910f64abe5a8d18dd1/MarkupSafe-1.1.1-cp36-cp36m-manylinux1_x86_64.whl\n",
            "Building wheels for collected packages: craid, dash, dash-core-components, dash-html-components, dash-table, dash-renderer, psutil, flask-compress, future, retrying\n",
            "  Building wheel for craid (setup.py) ... \u001b[?25l\u001b[?25hdone\n",
            "  Created wheel for craid: filename=craid-0.80-cp36-none-any.whl size=640057 sha256=347f8b2b85e1184ab193da75ea5284f81c6f9b51ef134dadccc9cb5b2849c4c2\n",
            "  Stored in directory: /tmp/pip-ephem-wheel-cache-pdkrl3sq/wheels/59/74/32/b75ca6dbfddc83071fd4a4a492a26c1066d06840be16c7d535\n",
            "  Building wheel for dash (setup.py) ... \u001b[?25l\u001b[?25hdone\n",
            "  Created wheel for dash: filename=dash-1.13.4-cp36-none-any.whl size=74951 sha256=398b3f337e561751fddc8b687745dda5fc4ff8f524a7b14e94389f5bc8a35da3\n",
            "  Stored in directory: /root/.cache/pip/wheels/a2/06/bc/5c2246621220be254683eb2689a25dcb811762e2db0de8cf66\n",
            "  Building wheel for dash-core-components (setup.py) ... \u001b[?25l\u001b[?25hdone\n",
            "  Created wheel for dash-core-components: filename=dash_core_components-1.10.1-cp36-none-any.whl size=3458662 sha256=48407fb52028a559624885e5d6d9a362471139ba2cf07c21720076f6ffb7594e\n",
            "  Stored in directory: /root/.cache/pip/wheels/35/b3/67/ca79d69f2b33930e0eef9c7197daafd3bb8e7c2133785dbcde\n",
            "  Building wheel for dash-html-components (setup.py) ... \u001b[?25l\u001b[?25hdone\n",
            "  Created wheel for dash-html-components: filename=dash_html_components-1.0.3-cp36-none-any.whl size=427303 sha256=950a540f65d0a55802da4267d746171924139306b6302dcf97b4a9f9508628e2\n",
            "  Stored in directory: /root/.cache/pip/wheels/22/c0/79/ef4c2b20a23dc8457ae75c3da5f63163db213d86e13e00fe26\n",
            "  Building wheel for dash-table (setup.py) ... \u001b[?25l\u001b[?25hdone\n",
            "  Created wheel for dash-table: filename=dash_table-4.8.1-cp36-none-any.whl size=1779391 sha256=4f59e4396b42416bd2300bd6415bf21f488e80d155b08d136d7cba55d6f8b92c\n",
            "  Stored in directory: /root/.cache/pip/wheels/c4/17/bf/268d224583f366164cd1cf70d5fcf41ad7d584002ffd24537e\n",
            "  Building wheel for dash-renderer (setup.py) ... \u001b[?25l\u001b[?25hdone\n",
            "  Created wheel for dash-renderer: filename=dash_renderer-1.5.1-cp36-none-any.whl size=1182061 sha256=aa4c0ab9299d93332c62fab792d7c87c9581d897ba68143b95f4afd2e89b1458\n",
            "  Stored in directory: /root/.cache/pip/wheels/76/04/53/2bc1654437aa5ff4e4da1bb40c3e9ebf1168282a2287d516d7\n",
            "  Building wheel for psutil (setup.py) ... \u001b[?25l\u001b[?25hdone\n",
            "  Created wheel for psutil: filename=psutil-5.7.0-cp36-cp36m-linux_x86_64.whl size=272664 sha256=2fe0ccb09dc3fe826b6125227a1ba7de1befaddae40e7f1fe12d7f3afcd16874\n",
            "  Stored in directory: /root/.cache/pip/wheels/d7/69/b4/3200b95828d1f0ddb3cb5699083717f4fdbd9b4223d0644c57\n",
            "  Building wheel for flask-compress (setup.py) ... \u001b[?25l\u001b[?25hdone\n",
            "  Created wheel for flask-compress: filename=Flask_Compress-1.5.0-cp36-none-any.whl size=5273 sha256=8938add03872668500b61fcf5e3c9995d28e93ca695bafd688b536f9cedf059f\n",
            "  Stored in directory: /root/.cache/pip/wheels/f7/e9/e4/5afc286be7c87461375e33152558415dfeb0c8f5af3b50e742\n",
            "  Building wheel for future (setup.py) ... \u001b[?25l\u001b[?25hdone\n",
            "  Created wheel for future: filename=future-0.18.2-cp36-none-any.whl size=491057 sha256=7076b74a47168d03b7d8009cf7fec803e47110a4ee2e29c3631ffad098fd1d73\n",
            "  Stored in directory: /root/.cache/pip/wheels/8b/99/a0/81daf51dcd359a9377b110a8a886b3895921802d2fc1b2397e\n",
            "  Building wheel for retrying (setup.py) ... \u001b[?25l\u001b[?25hdone\n",
            "  Created wheel for retrying: filename=retrying-1.3.3-cp36-none-any.whl size=11431 sha256=0bf996f3db137dc43318c45a396dc14945a2b2bb25c849499d1c4cb5d636d8e8\n",
            "  Stored in directory: /root/.cache/pip/wheels/d7/a9/33/acc7b709e2a35caa7d4cae442f6fe6fbf2c43f80823d46460c\n",
            "Successfully built craid dash dash-core-components dash-html-components dash-table dash-renderer psutil flask-compress future retrying\n",
            "\u001b[31mERROR: kaggle 1.5.6 has requirement urllib3<1.25,>=1.21.1, but you'll have urllib3 1.25.9 which is incompatible.\u001b[0m\n",
            "\u001b[31mERROR: google-colab 1.0.0 has requirement requests~=2.23.0, but you'll have requests 2.24.0 which is incompatible.\u001b[0m\n",
            "\u001b[31mERROR: google-colab 1.0.0 has requirement six~=1.12.0, but you'll have six 1.15.0 which is incompatible.\u001b[0m\n",
            "\u001b[31mERROR: datascience 0.10.6 has requirement folium==0.2.1, but you'll have folium 0.8.3 which is incompatible.\u001b[0m\n",
            "\u001b[31mERROR: albumentations 0.1.12 has requirement imgaug<0.2.7,>=0.2.5, but you'll have imgaug 0.2.9 which is incompatible.\u001b[0m\n",
            "Installing collected packages: MarkupSafe, Jinja2, Werkzeug, click, itsdangerous, flask, brotli, flask-compress, six, retrying, plotly, dash-renderer, dash-core-components, dash-html-components, dash-table, future, dash, pytz, python-dateutil, numpy, pandas, chardet, idna, certifi, urllib3, requests, setuptools, ujson, psutil, humanize, jmespath, docutils, botocore, s3transfer, boto3, craid\n",
            "  Found existing installation: MarkupSafe 1.1.1\n",
            "    Uninstalling MarkupSafe-1.1.1:\n",
            "      Successfully uninstalled MarkupSafe-1.1.1\n",
            "  Found existing installation: Jinja2 2.11.2\n",
            "    Uninstalling Jinja2-2.11.2:\n",
            "      Successfully uninstalled Jinja2-2.11.2\n",
            "  Found existing installation: Werkzeug 1.0.1\n",
            "    Uninstalling Werkzeug-1.0.1:\n",
            "      Successfully uninstalled Werkzeug-1.0.1\n",
            "  Found existing installation: click 7.1.2\n",
            "    Uninstalling click-7.1.2:\n",
            "      Successfully uninstalled click-7.1.2\n",
            "  Found existing installation: itsdangerous 1.1.0\n",
            "    Uninstalling itsdangerous-1.1.0:\n",
            "      Successfully uninstalled itsdangerous-1.1.0\n",
            "  Found existing installation: Flask 1.1.2\n",
            "    Uninstalling Flask-1.1.2:\n",
            "      Successfully uninstalled Flask-1.1.2\n",
            "  Found existing installation: six 1.12.0\n",
            "    Uninstalling six-1.12.0:\n",
            "      Successfully uninstalled six-1.12.0\n",
            "  Found existing installation: retrying 1.3.3\n",
            "    Uninstalling retrying-1.3.3:\n",
            "      Successfully uninstalled retrying-1.3.3\n",
            "  Found existing installation: plotly 4.4.1\n",
            "    Uninstalling plotly-4.4.1:\n",
            "      Successfully uninstalled plotly-4.4.1\n",
            "  Found existing installation: future 0.16.0\n",
            "    Uninstalling future-0.16.0:\n",
            "      Successfully uninstalled future-0.16.0\n",
            "  Found existing installation: pytz 2018.9\n",
            "    Uninstalling pytz-2018.9:\n",
            "      Successfully uninstalled pytz-2018.9\n",
            "  Found existing installation: python-dateutil 2.8.1\n",
            "    Uninstalling python-dateutil-2.8.1:\n",
            "      Successfully uninstalled python-dateutil-2.8.1\n",
            "  Found existing installation: numpy 1.18.5\n",
            "    Uninstalling numpy-1.18.5:\n",
            "      Successfully uninstalled numpy-1.18.5\n",
            "  Found existing installation: pandas 1.0.5\n",
            "    Uninstalling pandas-1.0.5:\n",
            "      Successfully uninstalled pandas-1.0.5\n",
            "  Found existing installation: chardet 3.0.4\n",
            "    Uninstalling chardet-3.0.4:\n",
            "      Successfully uninstalled chardet-3.0.4\n",
            "  Found existing installation: idna 2.9\n",
            "    Uninstalling idna-2.9:\n",
            "      Successfully uninstalled idna-2.9\n",
            "  Found existing installation: certifi 2020.6.20\n",
            "    Uninstalling certifi-2020.6.20:\n",
            "      Successfully uninstalled certifi-2020.6.20\n",
            "  Found existing installation: urllib3 1.24.3\n",
            "    Uninstalling urllib3-1.24.3:\n",
            "      Successfully uninstalled urllib3-1.24.3\n",
            "  Found existing installation: requests 2.23.0\n",
            "    Uninstalling requests-2.23.0:\n",
            "      Successfully uninstalled requests-2.23.0\n",
            "  Found existing installation: setuptools 47.3.1\n",
            "    Uninstalling setuptools-47.3.1:\n",
            "      Successfully uninstalled setuptools-47.3.1\n",
            "  Found existing installation: psutil 5.4.8\n",
            "    Uninstalling psutil-5.4.8:\n",
            "      Successfully uninstalled psutil-5.4.8\n",
            "  Found existing installation: humanize 0.5.1\n",
            "    Uninstalling humanize-0.5.1:\n",
            "      Successfully uninstalled humanize-0.5.1\n",
            "  Found existing installation: jmespath 0.10.0\n",
            "    Uninstalling jmespath-0.10.0:\n",
            "      Successfully uninstalled jmespath-0.10.0\n",
            "  Found existing installation: docutils 0.15.2\n",
            "    Uninstalling docutils-0.15.2:\n",
            "      Successfully uninstalled docutils-0.15.2\n",
            "  Found existing installation: botocore 1.17.9\n",
            "    Uninstalling botocore-1.17.9:\n",
            "      Successfully uninstalled botocore-1.17.9\n",
            "  Found existing installation: s3transfer 0.3.3\n",
            "    Uninstalling s3transfer-0.3.3:\n",
            "      Successfully uninstalled s3transfer-0.3.3\n",
            "  Found existing installation: boto3 1.14.9\n",
            "    Uninstalling boto3-1.14.9:\n",
            "      Successfully uninstalled boto3-1.14.9\n",
            "Successfully installed Jinja2-2.11.2 MarkupSafe-1.1.1 Werkzeug-1.0.1 boto3-1.14.17 botocore-1.17.17 brotli-1.0.7 certifi-2020.6.20 chardet-3.0.4 click-7.1.2 craid-0.80 dash-1.13.4 dash-core-components-1.10.1 dash-html-components-1.0.3 dash-renderer-1.5.1 dash-table-4.8.1 docutils-0.15.2 flask-1.1.2 flask-compress-1.5.0 future-0.18.2 humanize-2.5.0 idna-2.10 itsdangerous-1.1.0 jmespath-0.10.0 numpy-1.19.0 pandas-1.0.5 plotly-4.8.2 psutil-5.7.0 python-dateutil-2.8.1 pytz-2020.1 requests-2.24.0 retrying-1.3.3 s3transfer-0.3.3 setuptools-49.1.0 six-1.15.0 ujson-3.0.0 urllib3-1.25.9\n"
          ],
          "name": "stdout"
        },
        {
          "output_type": "stream",
          "text": [
            "Loading from AWS\n",
            "1- downloading to: /tmp/smol-factions.jsonl.gz\n",
            "2 - downloading [https://erlaed.s3.us-east-2.amazonaws.com/smol-factions.jsonl.gz] to [/tmp/smol-factions.jsonl.gz] data file.\n",
            "Starting new HTTPS connection (1): erlaed.s3.us-east-2.amazonaws.com:443\n"
          ],
          "name": "stderr"
        },
        {
          "output_type": "stream",
          "text": [
            "0:212,320,256\n"
          ],
          "name": "stdout"
        },
        {
          "output_type": "stream",
          "text": [
            "https://erlaed.s3.us-east-2.amazonaws.com:443 \"GET /smol-factions.jsonl.gz HTTP/1.1\" 200 15372\n",
            "Found data file: /tmp/smol-factions.jsonl.gz\n",
            "Read 659 lines of faction data\n",
            "1- downloading to: /tmp/smol-systems_populated.jsonl.gz\n",
            "2 - downloading [https://erlaed.s3.us-east-2.amazonaws.com/smol-systems_populated.jsonl.gz] to [/tmp/smol-systems_populated.jsonl.gz] data file.\n",
            "Starting new HTTPS connection (1): erlaed.s3.us-east-2.amazonaws.com:443\n"
          ],
          "name": "stderr"
        },
        {
          "output_type": "stream",
          "text": [
            "0.5:213,872,640\n"
          ],
          "name": "stdout"
        },
        {
          "output_type": "stream",
          "text": [
            "https://erlaed.s3.us-east-2.amazonaws.com:443 \"GET /smol-systems_populated.jsonl.gz HTTP/1.1\" 200 25613\n",
            "Found data file: /tmp/smol-systems_populated.jsonl.gz\n",
            "Read 171 lines of systems data\n",
            "Populated club system keys\n",
            "Club system lookup set has {171} items\n",
            "Populated faction instances: {1036} items.\n",
            "1- downloading to: /tmp/smol-stations.jsonl.gz\n",
            "2 - downloading [https://erlaed.s3.us-east-2.amazonaws.com/smol-stations.jsonl.gz] to [/tmp/smol-stations.jsonl.gz] data file.\n",
            "Starting new HTTPS connection (1): erlaed.s3.us-east-2.amazonaws.com:443\n"
          ],
          "name": "stderr"
        },
        {
          "output_type": "stream",
          "text": [
            "1:216,297,472\n",
            "2:217,255,936\n"
          ],
          "name": "stdout"
        },
        {
          "output_type": "stream",
          "text": [
            "https://erlaed.s3.us-east-2.amazonaws.com:443 \"GET /smol-stations.jsonl.gz HTTP/1.1\" 200 133539\n",
            "Found data file: /tmp/smol-stations.jsonl.gz\n",
            "Read 768 lines of station data, adding 768\n",
            "\n",
            "station controlling faction doesn't exist: Qwent Research Base\n",
            "station controlling faction doesn't exist: Qwent Research Base\n",
            "station controlling faction doesn't exist: Qwent Research Base\n",
            "station controlling faction doesn't exist: Qwent Research Base\n",
            "station controlling faction doesn't exist: Qwent Research Base\n",
            "station controlling faction doesn't exist: Qwent Research Base\n",
            "station controlling faction doesn't exist: Qwent Research Base\n",
            "station controlling faction doesn't exist: Qwent Research Base\n",
            "station controlling faction doesn't exist: Qwent Research Base\n",
            "station controlling faction doesn't exist: Qwent Research Base\n",
            "station controlling faction doesn't exist: Qwent Research Base\n",
            "station controlling faction doesn't exist: Qwent Research Base\n",
            "station controlling faction doesn't exist: Qwent Research Base\n",
            "station controlling faction doesn't exist: Qwent Research Base\n",
            "station controlling faction doesn't exist: Qwent Research Base\n",
            "station controlling faction doesn't exist: Qwent Research Base\n",
            "station controlling faction doesn't exist: Dekker's Yard\n",
            "station controlling faction doesn't exist: Dekker's Yard\n",
            "station controlling faction doesn't exist: Thunderhead Garrison\n",
            "station controlling faction doesn't exist: Thunderhead Garrison\n"
          ],
          "name": "stderr"
        },
        {
          "output_type": "stream",
          "text": [
            "3:217,767,936\n"
          ],
          "name": "stdout"
        },
        {
          "output_type": "stream",
          "text": [
            "Loaded backend module://ipykernel.pylab.backend_inline version unknown.\n"
          ],
          "name": "stderr"
        }
      ]
    },
    {
      "cell_type": "code",
      "metadata": {
        "id": "7lOfNUrItbmR",
        "colab_type": "code",
        "colab": {
          "base_uri": "https://localhost:8080/",
          "height": 255
        },
        "outputId": "893c035d-6198-482b-e80c-2ebca857666b"
      },
      "source": [
        "from craid.eddb.loader.strategy.DataLoader import DataLoader\n",
        "from craid.eddb.loader.strategy.GithubLoader import LoadDataFromGithub\n",
        "from craid.history.History import History\n",
        "\n",
        "myLoader = LoadDataFromGithub(_forceWebDownload=True, useSmol=False)\n",
        "hist = History()\n",
        "csa = hist.getRawDataFrame()\n",
        "target = hist.getNormalizedDataFrame()"
      ],
      "execution_count": 2,
      "outputs": [
        {
          "output_type": "stream",
          "text": [
            "1- downloading to: /tmp/history.jsonl.gz\n",
            "2 - downloading [https://erlaed.s3.us-east-2.amazonaws.com/history.jsonl.gz] to [/tmp/history.jsonl.gz] data file.\n",
            "Starting new HTTPS connection (1): erlaed.s3.us-east-2.amazonaws.com:443\n"
          ],
          "name": "stderr"
        },
        {
          "output_type": "stream",
          "text": [
            "Creating the object\n"
          ],
          "name": "stdout"
        },
        {
          "output_type": "stream",
          "text": [
            "https://erlaed.s3.us-east-2.amazonaws.com:443 \"GET /history.jsonl.gz HTTP/1.1\" 200 85315\n",
            "Found data file: /tmp/history.jsonl.gz\n",
            "Read system        7591\n",
            "faction       7591\n",
            "updated       7591\n",
            "influence     7591\n",
            "control       7591\n",
            "region        7591\n",
            "population    7591\n",
            "dtype: int64 lines of history data\n"
          ],
          "name": "stderr"
        }
      ]
    },
    {
      "cell_type": "code",
      "metadata": {
        "id": "6VpLNx-KJcjA",
        "colab_type": "code",
        "colab": {}
      },
      "source": [
        "# data cleaning\n",
        "# done in api now\n",
        "#csa = csa.drop_duplicates()\n",
        "#csa = csa[ csa['faction'] != 'Aegis of Federal Democrats']\n",
        "#csa = csa[ csa['faction'] != 'Aegis Imperium']\n",
        "#csa = csa[ csa['faction'] != \"Emperor's Dawn\"]"
      ],
      "execution_count": 3,
      "outputs": []
    },
    {
      "cell_type": "code",
      "metadata": {
        "id": "_AuPPKcnKHZb",
        "colab_type": "code",
        "colab": {
          "base_uri": "https://localhost:8080/",
          "height": 419
        },
        "outputId": "f2512152-aa72-4e07-8f0a-3731212fbe74"
      },
      "source": [
        "target"
      ],
      "execution_count": 4,
      "outputs": [
        {
          "output_type": "execute_result",
          "data": {
            "text/html": [
              "<div>\n",
              "<style scoped>\n",
              "    .dataframe tbody tr th:only-of-type {\n",
              "        vertical-align: middle;\n",
              "    }\n",
              "\n",
              "    .dataframe tbody tr th {\n",
              "        vertical-align: top;\n",
              "    }\n",
              "\n",
              "    .dataframe thead th {\n",
              "        text-align: right;\n",
              "    }\n",
              "</style>\n",
              "<table border=\"1\" class=\"dataframe\">\n",
              "  <thead>\n",
              "    <tr style=\"text-align: right;\">\n",
              "      <th></th>\n",
              "      <th>system</th>\n",
              "      <th>faction</th>\n",
              "      <th>updated</th>\n",
              "      <th>influence</th>\n",
              "      <th>control</th>\n",
              "      <th>region</th>\n",
              "      <th>population</th>\n",
              "    </tr>\n",
              "  </thead>\n",
              "  <tbody>\n",
              "    <tr>\n",
              "      <th>101</th>\n",
              "      <td>Swazahua</td>\n",
              "      <td>Abroin Universal PLC</td>\n",
              "      <td>2018-05-01</td>\n",
              "      <td>17.890650</td>\n",
              "      <td>False</td>\n",
              "      <td>6</td>\n",
              "      <td>0</td>\n",
              "    </tr>\n",
              "    <tr>\n",
              "      <th>113</th>\n",
              "      <td>Arietis Sector ON-T b3-4</td>\n",
              "      <td>Aegis Core</td>\n",
              "      <td>2018-05-01</td>\n",
              "      <td>20.420400</td>\n",
              "      <td>False</td>\n",
              "      <td>2</td>\n",
              "      <td>0</td>\n",
              "    </tr>\n",
              "    <tr>\n",
              "      <th>129</th>\n",
              "      <td>Socho</td>\n",
              "      <td>Aegis Core</td>\n",
              "      <td>2018-05-01</td>\n",
              "      <td>10.651025</td>\n",
              "      <td>False</td>\n",
              "      <td>2</td>\n",
              "      <td>0</td>\n",
              "    </tr>\n",
              "    <tr>\n",
              "      <th>162</th>\n",
              "      <td>Asterope</td>\n",
              "      <td>Aegis Research</td>\n",
              "      <td>2018-05-01</td>\n",
              "      <td>30.462243</td>\n",
              "      <td>False</td>\n",
              "      <td>1</td>\n",
              "      <td>0</td>\n",
              "    </tr>\n",
              "    <tr>\n",
              "      <th>187</th>\n",
              "      <td>Atlas</td>\n",
              "      <td>Aegis Research</td>\n",
              "      <td>2018-05-01</td>\n",
              "      <td>29.858043</td>\n",
              "      <td>False</td>\n",
              "      <td>1</td>\n",
              "      <td>0</td>\n",
              "    </tr>\n",
              "    <tr>\n",
              "      <th>...</th>\n",
              "      <td>...</td>\n",
              "      <td>...</td>\n",
              "      <td>...</td>\n",
              "      <td>...</td>\n",
              "      <td>...</td>\n",
              "      <td>...</td>\n",
              "      <td>...</td>\n",
              "    </tr>\n",
              "    <tr>\n",
              "      <th>7499</th>\n",
              "      <td>HIP 80242</td>\n",
              "      <td>Wreaken Construction</td>\n",
              "      <td>2020-07-07</td>\n",
              "      <td>10.678600</td>\n",
              "      <td>False</td>\n",
              "      <td>9</td>\n",
              "      <td>19863348</td>\n",
              "    </tr>\n",
              "    <tr>\n",
              "      <th>7503</th>\n",
              "      <td>HR 5975</td>\n",
              "      <td>Wreaken Construction</td>\n",
              "      <td>2020-07-06</td>\n",
              "      <td>13.654200</td>\n",
              "      <td>False</td>\n",
              "      <td>9</td>\n",
              "      <td>4667556</td>\n",
              "    </tr>\n",
              "    <tr>\n",
              "      <th>3503</th>\n",
              "      <td>Jurati</td>\n",
              "      <td>Wreaken Construction</td>\n",
              "      <td>2020-04-01</td>\n",
              "      <td>3.165350</td>\n",
              "      <td>False</td>\n",
              "      <td>9</td>\n",
              "      <td>0</td>\n",
              "    </tr>\n",
              "    <tr>\n",
              "      <th>7287</th>\n",
              "      <td>LTT 6714</td>\n",
              "      <td>Wreaken Construction</td>\n",
              "      <td>2020-07-05</td>\n",
              "      <td>8.743700</td>\n",
              "      <td>False</td>\n",
              "      <td>9</td>\n",
              "      <td>5208044</td>\n",
              "    </tr>\n",
              "    <tr>\n",
              "      <th>7547</th>\n",
              "      <td>Wille</td>\n",
              "      <td>Wreaken Construction</td>\n",
              "      <td>2020-07-07</td>\n",
              "      <td>51.593600</td>\n",
              "      <td>True</td>\n",
              "      <td>9</td>\n",
              "      <td>26677</td>\n",
              "    </tr>\n",
              "  </tbody>\n",
              "</table>\n",
              "<p>9913 rows × 7 columns</p>\n",
              "</div>"
            ],
            "text/plain": [
              "                        system               faction  ... region  population\n",
              "101                   Swazahua  Abroin Universal PLC  ...      6           0\n",
              "113   Arietis Sector ON-T b3-4            Aegis Core  ...      2           0\n",
              "129                      Socho            Aegis Core  ...      2           0\n",
              "162                   Asterope        Aegis Research  ...      1           0\n",
              "187                      Atlas        Aegis Research  ...      1           0\n",
              "...                        ...                   ...  ...    ...         ...\n",
              "7499                 HIP 80242  Wreaken Construction  ...      9    19863348\n",
              "7503                   HR 5975  Wreaken Construction  ...      9     4667556\n",
              "3503                    Jurati  Wreaken Construction  ...      9           0\n",
              "7287                  LTT 6714  Wreaken Construction  ...      9     5208044\n",
              "7547                     Wille  Wreaken Construction  ...      9       26677\n",
              "\n",
              "[9913 rows x 7 columns]"
            ]
          },
          "metadata": {
            "tags": []
          },
          "execution_count": 4
        }
      ]
    },
    {
      "cell_type": "code",
      "metadata": {
        "id": "bLLd8nZ3_-e4",
        "colab_type": "code",
        "colab": {
          "base_uri": "https://localhost:8080/",
          "height": 367
        },
        "outputId": "66e41cbd-aeae-4238-d9c7-a5d8b7d13399"
      },
      "source": [
        "stage1 = csa.loc[csa.groupby(['faction','system']).updated.idxmax()]\n",
        "stage3 = stage1[['system','faction','influence']].groupby('faction').influence.sum().reset_index()\n",
        "fig = px.pie(stage3, values='influence', names='faction', title='Total Influence by Minor Faction', width=350, height=350)\n",
        "fig.update_traces(textposition=\"inside\")\n",
        "fig.update_layout(showlegend=False)\n",
        "fig.show()"
      ],
      "execution_count": 5,
      "outputs": [
        {
          "output_type": "display_data",
          "data": {
            "text/html": [
              "<html>\n",
              "<head><meta charset=\"utf-8\" /></head>\n",
              "<body>\n",
              "    <div>\n",
              "            <script src=\"https://cdnjs.cloudflare.com/ajax/libs/mathjax/2.7.5/MathJax.js?config=TeX-AMS-MML_SVG\"></script><script type=\"text/javascript\">if (window.MathJax) {MathJax.Hub.Config({SVG: {font: \"STIX-Web\"}});}</script>\n",
              "                <script type=\"text/javascript\">window.PlotlyConfig = {MathJaxConfig: 'local'};</script>\n",
              "        <script src=\"https://cdn.plot.ly/plotly-latest.min.js\"></script>    \n",
              "            <div id=\"e5f051bc-c685-4bfe-85c7-6f3386094a03\" class=\"plotly-graph-div\" style=\"height:350px; width:350px;\"></div>\n",
              "            <script type=\"text/javascript\">\n",
              "                \n",
              "                    window.PLOTLYENV=window.PLOTLYENV || {};\n",
              "                    \n",
              "                if (document.getElementById(\"e5f051bc-c685-4bfe-85c7-6f3386094a03\")) {\n",
              "                    Plotly.newPlot(\n",
              "                        'e5f051bc-c685-4bfe-85c7-6f3386094a03',\n",
              "                        [{\"domain\": {\"x\": [0.0, 1.0], \"y\": [0.0, 1.0]}, \"hovertemplate\": \"faction=%{label}<br>influence=%{value}<extra></extra>\", \"labels\": [\"Abroin Universal PLC\", \"Aegis Core\", \"Aegis Defense\", \"Aegis Research\", \"Benton's Gang\", \"Bentonian Party\", \"Bill Turner\", \"CQC Holdings\", \"Gallant Investment Brokers\", \"Hodack Prison Colony\", \"Janus Incorporated\", \"Namarii Emperor's Dawn\", \"Reyan BPS\", \"Reynhardt IntelliSys\", \"Sirius Atmospherics\", \"Sirius Catering\", \"Sirius Corporation\", \"Sirius Drives\", \"Sirius Hot2Cold\", \"Sirius Hyperspace\", \"Sirius Industrial\", \"Sirius Luxury Transports\", \"Sirius Mining\", \"Sirius Mining Merope\", \"Sirius Power\", \"The Greenventure Group\", \"The Peterson Group\", \"The Rockforth Corporation\", \"Turner Research Group\", \"Wiggins Development Trust\", \"Worster Insurance\", \"Wreaken Construction\"], \"legendgroup\": \"\", \"name\": \"\", \"showlegend\": true, \"textposition\": \"inside\", \"type\": \"pie\", \"values\": [185.22420000000002, 23.5028, 0.0, 219.05293906593403, 4.8951, 25.3012, 0.0, 382.10339999999997, 42.622, 403.65108571428567, 171.19488243506493, 7.847885714285714, 10.1101, 7.4597, 79.2486, 5.6112, 1059.1180333333334, 81.0513, 32.5441, 170.63971999999998, 20.603, 253.3936, 212.4608, 46.62056944444444, 11.5, 14.6825, 8.1592, 5.0898, 616.3216, 11.3113, 2.5768, 178.13678333333334]}],\n",
              "                        {\"height\": 350, \"legend\": {\"tracegroupgap\": 0}, \"showlegend\": false, \"template\": {\"data\": {\"bar\": [{\"error_x\": {\"color\": \"#2a3f5f\"}, \"error_y\": {\"color\": \"#2a3f5f\"}, \"marker\": {\"line\": {\"color\": \"#E5ECF6\", \"width\": 0.5}}, \"type\": \"bar\"}], \"barpolar\": [{\"marker\": {\"line\": {\"color\": \"#E5ECF6\", \"width\": 0.5}}, \"type\": \"barpolar\"}], \"carpet\": [{\"aaxis\": {\"endlinecolor\": \"#2a3f5f\", \"gridcolor\": \"white\", \"linecolor\": \"white\", \"minorgridcolor\": \"white\", \"startlinecolor\": \"#2a3f5f\"}, \"baxis\": {\"endlinecolor\": \"#2a3f5f\", \"gridcolor\": \"white\", \"linecolor\": \"white\", \"minorgridcolor\": \"white\", \"startlinecolor\": \"#2a3f5f\"}, \"type\": \"carpet\"}], \"choropleth\": [{\"colorbar\": {\"outlinewidth\": 0, \"ticks\": \"\"}, \"type\": \"choropleth\"}], \"contour\": [{\"colorbar\": {\"outlinewidth\": 0, \"ticks\": \"\"}, \"colorscale\": [[0.0, \"#0d0887\"], [0.1111111111111111, \"#46039f\"], [0.2222222222222222, \"#7201a8\"], [0.3333333333333333, \"#9c179e\"], [0.4444444444444444, \"#bd3786\"], [0.5555555555555556, \"#d8576b\"], [0.6666666666666666, \"#ed7953\"], [0.7777777777777778, \"#fb9f3a\"], [0.8888888888888888, \"#fdca26\"], [1.0, \"#f0f921\"]], \"type\": \"contour\"}], \"contourcarpet\": [{\"colorbar\": {\"outlinewidth\": 0, \"ticks\": \"\"}, \"type\": \"contourcarpet\"}], \"heatmap\": [{\"colorbar\": {\"outlinewidth\": 0, \"ticks\": \"\"}, \"colorscale\": [[0.0, \"#0d0887\"], [0.1111111111111111, \"#46039f\"], [0.2222222222222222, \"#7201a8\"], [0.3333333333333333, \"#9c179e\"], [0.4444444444444444, \"#bd3786\"], [0.5555555555555556, \"#d8576b\"], [0.6666666666666666, \"#ed7953\"], [0.7777777777777778, \"#fb9f3a\"], [0.8888888888888888, \"#fdca26\"], [1.0, \"#f0f921\"]], \"type\": \"heatmap\"}], \"heatmapgl\": [{\"colorbar\": {\"outlinewidth\": 0, \"ticks\": \"\"}, \"colorscale\": [[0.0, \"#0d0887\"], [0.1111111111111111, \"#46039f\"], [0.2222222222222222, \"#7201a8\"], [0.3333333333333333, \"#9c179e\"], [0.4444444444444444, \"#bd3786\"], [0.5555555555555556, \"#d8576b\"], [0.6666666666666666, \"#ed7953\"], [0.7777777777777778, \"#fb9f3a\"], [0.8888888888888888, \"#fdca26\"], [1.0, \"#f0f921\"]], \"type\": \"heatmapgl\"}], \"histogram\": [{\"marker\": {\"colorbar\": {\"outlinewidth\": 0, \"ticks\": \"\"}}, \"type\": \"histogram\"}], \"histogram2d\": [{\"colorbar\": {\"outlinewidth\": 0, \"ticks\": \"\"}, \"colorscale\": [[0.0, \"#0d0887\"], [0.1111111111111111, \"#46039f\"], [0.2222222222222222, \"#7201a8\"], [0.3333333333333333, \"#9c179e\"], [0.4444444444444444, \"#bd3786\"], [0.5555555555555556, \"#d8576b\"], [0.6666666666666666, \"#ed7953\"], [0.7777777777777778, \"#fb9f3a\"], [0.8888888888888888, \"#fdca26\"], [1.0, \"#f0f921\"]], \"type\": \"histogram2d\"}], \"histogram2dcontour\": [{\"colorbar\": {\"outlinewidth\": 0, \"ticks\": \"\"}, \"colorscale\": [[0.0, \"#0d0887\"], [0.1111111111111111, \"#46039f\"], [0.2222222222222222, \"#7201a8\"], [0.3333333333333333, \"#9c179e\"], [0.4444444444444444, \"#bd3786\"], [0.5555555555555556, \"#d8576b\"], [0.6666666666666666, \"#ed7953\"], [0.7777777777777778, \"#fb9f3a\"], [0.8888888888888888, \"#fdca26\"], [1.0, \"#f0f921\"]], \"type\": \"histogram2dcontour\"}], \"mesh3d\": [{\"colorbar\": {\"outlinewidth\": 0, \"ticks\": \"\"}, \"type\": \"mesh3d\"}], \"parcoords\": [{\"line\": {\"colorbar\": {\"outlinewidth\": 0, \"ticks\": \"\"}}, \"type\": \"parcoords\"}], \"pie\": [{\"automargin\": true, \"type\": \"pie\"}], \"scatter\": [{\"marker\": {\"colorbar\": {\"outlinewidth\": 0, \"ticks\": \"\"}}, \"type\": \"scatter\"}], \"scatter3d\": [{\"line\": {\"colorbar\": {\"outlinewidth\": 0, \"ticks\": \"\"}}, \"marker\": {\"colorbar\": {\"outlinewidth\": 0, \"ticks\": \"\"}}, \"type\": \"scatter3d\"}], \"scattercarpet\": [{\"marker\": {\"colorbar\": {\"outlinewidth\": 0, \"ticks\": \"\"}}, \"type\": \"scattercarpet\"}], \"scattergeo\": [{\"marker\": {\"colorbar\": {\"outlinewidth\": 0, \"ticks\": \"\"}}, \"type\": \"scattergeo\"}], \"scattergl\": [{\"marker\": {\"colorbar\": {\"outlinewidth\": 0, \"ticks\": \"\"}}, \"type\": \"scattergl\"}], \"scattermapbox\": [{\"marker\": {\"colorbar\": {\"outlinewidth\": 0, \"ticks\": \"\"}}, \"type\": \"scattermapbox\"}], \"scatterpolar\": [{\"marker\": {\"colorbar\": {\"outlinewidth\": 0, \"ticks\": \"\"}}, \"type\": \"scatterpolar\"}], \"scatterpolargl\": [{\"marker\": {\"colorbar\": {\"outlinewidth\": 0, \"ticks\": \"\"}}, \"type\": \"scatterpolargl\"}], \"scatterternary\": [{\"marker\": {\"colorbar\": {\"outlinewidth\": 0, \"ticks\": \"\"}}, \"type\": \"scatterternary\"}], \"surface\": [{\"colorbar\": {\"outlinewidth\": 0, \"ticks\": \"\"}, \"colorscale\": [[0.0, \"#0d0887\"], [0.1111111111111111, \"#46039f\"], [0.2222222222222222, \"#7201a8\"], [0.3333333333333333, \"#9c179e\"], [0.4444444444444444, \"#bd3786\"], [0.5555555555555556, \"#d8576b\"], [0.6666666666666666, \"#ed7953\"], [0.7777777777777778, \"#fb9f3a\"], [0.8888888888888888, \"#fdca26\"], [1.0, \"#f0f921\"]], \"type\": \"surface\"}], \"table\": [{\"cells\": {\"fill\": {\"color\": \"#EBF0F8\"}, \"line\": {\"color\": \"white\"}}, \"header\": {\"fill\": {\"color\": \"#C8D4E3\"}, \"line\": {\"color\": \"white\"}}, \"type\": \"table\"}]}, \"layout\": {\"annotationdefaults\": {\"arrowcolor\": \"#2a3f5f\", \"arrowhead\": 0, \"arrowwidth\": 1}, \"coloraxis\": {\"colorbar\": {\"outlinewidth\": 0, \"ticks\": \"\"}}, \"colorscale\": {\"diverging\": [[0, \"#8e0152\"], [0.1, \"#c51b7d\"], [0.2, \"#de77ae\"], [0.3, \"#f1b6da\"], [0.4, \"#fde0ef\"], [0.5, \"#f7f7f7\"], [0.6, \"#e6f5d0\"], [0.7, \"#b8e186\"], [0.8, \"#7fbc41\"], [0.9, \"#4d9221\"], [1, \"#276419\"]], \"sequential\": [[0.0, \"#0d0887\"], [0.1111111111111111, \"#46039f\"], [0.2222222222222222, \"#7201a8\"], [0.3333333333333333, \"#9c179e\"], [0.4444444444444444, \"#bd3786\"], [0.5555555555555556, \"#d8576b\"], [0.6666666666666666, \"#ed7953\"], [0.7777777777777778, \"#fb9f3a\"], [0.8888888888888888, \"#fdca26\"], [1.0, \"#f0f921\"]], \"sequentialminus\": [[0.0, \"#0d0887\"], [0.1111111111111111, \"#46039f\"], [0.2222222222222222, \"#7201a8\"], [0.3333333333333333, \"#9c179e\"], [0.4444444444444444, \"#bd3786\"], [0.5555555555555556, \"#d8576b\"], [0.6666666666666666, \"#ed7953\"], [0.7777777777777778, \"#fb9f3a\"], [0.8888888888888888, \"#fdca26\"], [1.0, \"#f0f921\"]]}, \"colorway\": [\"#636efa\", \"#EF553B\", \"#00cc96\", \"#ab63fa\", \"#FFA15A\", \"#19d3f3\", \"#FF6692\", \"#B6E880\", \"#FF97FF\", \"#FECB52\"], \"font\": {\"color\": \"#2a3f5f\"}, \"geo\": {\"bgcolor\": \"white\", \"lakecolor\": \"white\", \"landcolor\": \"#E5ECF6\", \"showlakes\": true, \"showland\": true, \"subunitcolor\": \"white\"}, \"hoverlabel\": {\"align\": \"left\"}, \"hovermode\": \"closest\", \"mapbox\": {\"style\": \"light\"}, \"paper_bgcolor\": \"white\", \"plot_bgcolor\": \"#E5ECF6\", \"polar\": {\"angularaxis\": {\"gridcolor\": \"white\", \"linecolor\": \"white\", \"ticks\": \"\"}, \"bgcolor\": \"#E5ECF6\", \"radialaxis\": {\"gridcolor\": \"white\", \"linecolor\": \"white\", \"ticks\": \"\"}}, \"scene\": {\"xaxis\": {\"backgroundcolor\": \"#E5ECF6\", \"gridcolor\": \"white\", \"gridwidth\": 2, \"linecolor\": \"white\", \"showbackground\": true, \"ticks\": \"\", \"zerolinecolor\": \"white\"}, \"yaxis\": {\"backgroundcolor\": \"#E5ECF6\", \"gridcolor\": \"white\", \"gridwidth\": 2, \"linecolor\": \"white\", \"showbackground\": true, \"ticks\": \"\", \"zerolinecolor\": \"white\"}, \"zaxis\": {\"backgroundcolor\": \"#E5ECF6\", \"gridcolor\": \"white\", \"gridwidth\": 2, \"linecolor\": \"white\", \"showbackground\": true, \"ticks\": \"\", \"zerolinecolor\": \"white\"}}, \"shapedefaults\": {\"line\": {\"color\": \"#2a3f5f\"}}, \"ternary\": {\"aaxis\": {\"gridcolor\": \"white\", \"linecolor\": \"white\", \"ticks\": \"\"}, \"baxis\": {\"gridcolor\": \"white\", \"linecolor\": \"white\", \"ticks\": \"\"}, \"bgcolor\": \"#E5ECF6\", \"caxis\": {\"gridcolor\": \"white\", \"linecolor\": \"white\", \"ticks\": \"\"}}, \"title\": {\"x\": 0.05}, \"xaxis\": {\"automargin\": true, \"gridcolor\": \"white\", \"linecolor\": \"white\", \"ticks\": \"\", \"title\": {\"standoff\": 15}, \"zerolinecolor\": \"white\", \"zerolinewidth\": 2}, \"yaxis\": {\"automargin\": true, \"gridcolor\": \"white\", \"linecolor\": \"white\", \"ticks\": \"\", \"title\": {\"standoff\": 15}, \"zerolinecolor\": \"white\", \"zerolinewidth\": 2}}}, \"title\": {\"text\": \"Total Influence by Minor Faction\"}, \"width\": 350},\n",
              "                        {\"responsive\": true}\n",
              "                    ).then(function(){\n",
              "                            \n",
              "var gd = document.getElementById('e5f051bc-c685-4bfe-85c7-6f3386094a03');\n",
              "var x = new MutationObserver(function (mutations, observer) {{\n",
              "        var display = window.getComputedStyle(gd).display;\n",
              "        if (!display || display === 'none') {{\n",
              "            console.log([gd, 'removed!']);\n",
              "            Plotly.purge(gd);\n",
              "            observer.disconnect();\n",
              "        }}\n",
              "}});\n",
              "\n",
              "// Listen for the removal of the full notebook cells\n",
              "var notebookContainer = gd.closest('#notebook-container');\n",
              "if (notebookContainer) {{\n",
              "    x.observe(notebookContainer, {childList: true});\n",
              "}}\n",
              "\n",
              "// Listen for the clearing of the current output cell\n",
              "var outputEl = gd.closest('.output');\n",
              "if (outputEl) {{\n",
              "    x.observe(outputEl, {childList: true});\n",
              "}}\n",
              "\n",
              "                        })\n",
              "                };\n",
              "                \n",
              "            </script>\n",
              "        </div>\n",
              "</body>\n",
              "</html>"
            ]
          },
          "metadata": {
            "tags": []
          }
        }
      ]
    },
    {
      "cell_type": "code",
      "metadata": {
        "id": "FMxq8zqvKg_j",
        "colab_type": "code",
        "colab": {
          "base_uri": "https://localhost:8080/",
          "height": 367
        },
        "outputId": "3216b27b-d0dc-4d21-b765-692d239a8400"
      },
      "source": [
        "from craid.club.regions.RegionFactory import RegionFactory\n",
        "stage3 = stage1[['region','influence']].groupby('region').influence.sum().reset_index()\n",
        "regionNames = list(RegionFactory.regionDict.keys())\n",
        "fig = px.pie(stage3, values='influence', names=regionNames, title='Total Club Influence by Region', width=350, height=350) #, names='faction'\n",
        "fig.update_traces(textposition=\"inside\")\n",
        "fig.update_layout(showlegend=False)\n",
        "fig.show()"
      ],
      "execution_count": 6,
      "outputs": [
        {
          "output_type": "display_data",
          "data": {
            "text/html": [
              "<html>\n",
              "<head><meta charset=\"utf-8\" /></head>\n",
              "<body>\n",
              "    <div>\n",
              "            <script src=\"https://cdnjs.cloudflare.com/ajax/libs/mathjax/2.7.5/MathJax.js?config=TeX-AMS-MML_SVG\"></script><script type=\"text/javascript\">if (window.MathJax) {MathJax.Hub.Config({SVG: {font: \"STIX-Web\"}});}</script>\n",
              "                <script type=\"text/javascript\">window.PlotlyConfig = {MathJaxConfig: 'local'};</script>\n",
              "        <script src=\"https://cdn.plot.ly/plotly-latest.min.js\"></script>    \n",
              "            <div id=\"c9ee222a-f7b7-436c-a5f2-7706cf985ea5\" class=\"plotly-graph-div\" style=\"height:350px; width:350px;\"></div>\n",
              "            <script type=\"text/javascript\">\n",
              "                \n",
              "                    window.PLOTLYENV=window.PLOTLYENV || {};\n",
              "                    \n",
              "                if (document.getElementById(\"c9ee222a-f7b7-436c-a5f2-7706cf985ea5\")) {\n",
              "                    Plotly.newPlot(\n",
              "                        'c9ee222a-f7b7-436c-a5f2-7706cf985ea5',\n",
              "                        [{\"domain\": {\"x\": [0.0, 1.0], \"y\": [0.0, 1.0]}, \"hovertemplate\": \"label=%{label}<br>influence=%{value}<extra></extra>\", \"labels\": [\"No Region\", \"Merope\", \"Rectangle\", \"California\", \"Sirius\", \"Xi Shan\", \"Abroin\", \"Bentonia\", \"Hodack\", \"Wreaken\", \"CQC\"], \"legendgroup\": \"\", \"name\": \"\", \"showlegend\": true, \"textposition\": \"inside\", \"type\": \"pie\", \"values\": [870.0110147619046, 396.33489523115776, 223.55772, 511.8126, 645.1518, 465.8544, 185.22420000000002, 25.3012, 403.65108571428567, 178.13678333333334, 386.9985]}],\n",
              "                        {\"height\": 350, \"legend\": {\"tracegroupgap\": 0}, \"showlegend\": false, \"template\": {\"data\": {\"bar\": [{\"error_x\": {\"color\": \"#2a3f5f\"}, \"error_y\": {\"color\": \"#2a3f5f\"}, \"marker\": {\"line\": {\"color\": \"#E5ECF6\", \"width\": 0.5}}, \"type\": \"bar\"}], \"barpolar\": [{\"marker\": {\"line\": {\"color\": \"#E5ECF6\", \"width\": 0.5}}, \"type\": \"barpolar\"}], \"carpet\": [{\"aaxis\": {\"endlinecolor\": \"#2a3f5f\", \"gridcolor\": \"white\", \"linecolor\": \"white\", \"minorgridcolor\": \"white\", \"startlinecolor\": \"#2a3f5f\"}, \"baxis\": {\"endlinecolor\": \"#2a3f5f\", \"gridcolor\": \"white\", \"linecolor\": \"white\", \"minorgridcolor\": \"white\", \"startlinecolor\": \"#2a3f5f\"}, \"type\": \"carpet\"}], \"choropleth\": [{\"colorbar\": {\"outlinewidth\": 0, \"ticks\": \"\"}, \"type\": \"choropleth\"}], \"contour\": [{\"colorbar\": {\"outlinewidth\": 0, \"ticks\": \"\"}, \"colorscale\": [[0.0, \"#0d0887\"], [0.1111111111111111, \"#46039f\"], [0.2222222222222222, \"#7201a8\"], [0.3333333333333333, \"#9c179e\"], [0.4444444444444444, \"#bd3786\"], [0.5555555555555556, \"#d8576b\"], [0.6666666666666666, \"#ed7953\"], [0.7777777777777778, \"#fb9f3a\"], [0.8888888888888888, \"#fdca26\"], [1.0, \"#f0f921\"]], \"type\": \"contour\"}], \"contourcarpet\": [{\"colorbar\": {\"outlinewidth\": 0, \"ticks\": \"\"}, \"type\": \"contourcarpet\"}], \"heatmap\": [{\"colorbar\": {\"outlinewidth\": 0, \"ticks\": \"\"}, \"colorscale\": [[0.0, \"#0d0887\"], [0.1111111111111111, \"#46039f\"], [0.2222222222222222, \"#7201a8\"], [0.3333333333333333, \"#9c179e\"], [0.4444444444444444, \"#bd3786\"], [0.5555555555555556, \"#d8576b\"], [0.6666666666666666, \"#ed7953\"], [0.7777777777777778, \"#fb9f3a\"], [0.8888888888888888, \"#fdca26\"], [1.0, \"#f0f921\"]], \"type\": \"heatmap\"}], \"heatmapgl\": [{\"colorbar\": {\"outlinewidth\": 0, \"ticks\": \"\"}, \"colorscale\": [[0.0, \"#0d0887\"], [0.1111111111111111, \"#46039f\"], [0.2222222222222222, \"#7201a8\"], [0.3333333333333333, \"#9c179e\"], [0.4444444444444444, \"#bd3786\"], [0.5555555555555556, \"#d8576b\"], [0.6666666666666666, \"#ed7953\"], [0.7777777777777778, \"#fb9f3a\"], [0.8888888888888888, \"#fdca26\"], [1.0, \"#f0f921\"]], \"type\": \"heatmapgl\"}], \"histogram\": [{\"marker\": {\"colorbar\": {\"outlinewidth\": 0, \"ticks\": \"\"}}, \"type\": \"histogram\"}], \"histogram2d\": [{\"colorbar\": {\"outlinewidth\": 0, \"ticks\": \"\"}, \"colorscale\": [[0.0, \"#0d0887\"], [0.1111111111111111, \"#46039f\"], [0.2222222222222222, \"#7201a8\"], [0.3333333333333333, \"#9c179e\"], [0.4444444444444444, \"#bd3786\"], [0.5555555555555556, \"#d8576b\"], [0.6666666666666666, \"#ed7953\"], [0.7777777777777778, \"#fb9f3a\"], [0.8888888888888888, \"#fdca26\"], [1.0, \"#f0f921\"]], \"type\": \"histogram2d\"}], \"histogram2dcontour\": [{\"colorbar\": {\"outlinewidth\": 0, \"ticks\": \"\"}, \"colorscale\": [[0.0, \"#0d0887\"], [0.1111111111111111, \"#46039f\"], [0.2222222222222222, \"#7201a8\"], [0.3333333333333333, \"#9c179e\"], [0.4444444444444444, \"#bd3786\"], [0.5555555555555556, \"#d8576b\"], [0.6666666666666666, \"#ed7953\"], [0.7777777777777778, \"#fb9f3a\"], [0.8888888888888888, \"#fdca26\"], [1.0, \"#f0f921\"]], \"type\": \"histogram2dcontour\"}], \"mesh3d\": [{\"colorbar\": {\"outlinewidth\": 0, \"ticks\": \"\"}, \"type\": \"mesh3d\"}], \"parcoords\": [{\"line\": {\"colorbar\": {\"outlinewidth\": 0, \"ticks\": \"\"}}, \"type\": \"parcoords\"}], \"pie\": [{\"automargin\": true, \"type\": \"pie\"}], \"scatter\": [{\"marker\": {\"colorbar\": {\"outlinewidth\": 0, \"ticks\": \"\"}}, \"type\": \"scatter\"}], \"scatter3d\": [{\"line\": {\"colorbar\": {\"outlinewidth\": 0, \"ticks\": \"\"}}, \"marker\": {\"colorbar\": {\"outlinewidth\": 0, \"ticks\": \"\"}}, \"type\": \"scatter3d\"}], \"scattercarpet\": [{\"marker\": {\"colorbar\": {\"outlinewidth\": 0, \"ticks\": \"\"}}, \"type\": \"scattercarpet\"}], \"scattergeo\": [{\"marker\": {\"colorbar\": {\"outlinewidth\": 0, \"ticks\": \"\"}}, \"type\": \"scattergeo\"}], \"scattergl\": [{\"marker\": {\"colorbar\": {\"outlinewidth\": 0, \"ticks\": \"\"}}, \"type\": \"scattergl\"}], \"scattermapbox\": [{\"marker\": {\"colorbar\": {\"outlinewidth\": 0, \"ticks\": \"\"}}, \"type\": \"scattermapbox\"}], \"scatterpolar\": [{\"marker\": {\"colorbar\": {\"outlinewidth\": 0, \"ticks\": \"\"}}, \"type\": \"scatterpolar\"}], \"scatterpolargl\": [{\"marker\": {\"colorbar\": {\"outlinewidth\": 0, \"ticks\": \"\"}}, \"type\": \"scatterpolargl\"}], \"scatterternary\": [{\"marker\": {\"colorbar\": {\"outlinewidth\": 0, \"ticks\": \"\"}}, \"type\": \"scatterternary\"}], \"surface\": [{\"colorbar\": {\"outlinewidth\": 0, \"ticks\": \"\"}, \"colorscale\": [[0.0, \"#0d0887\"], [0.1111111111111111, \"#46039f\"], [0.2222222222222222, \"#7201a8\"], [0.3333333333333333, \"#9c179e\"], [0.4444444444444444, \"#bd3786\"], [0.5555555555555556, \"#d8576b\"], [0.6666666666666666, \"#ed7953\"], [0.7777777777777778, \"#fb9f3a\"], [0.8888888888888888, \"#fdca26\"], [1.0, \"#f0f921\"]], \"type\": \"surface\"}], \"table\": [{\"cells\": {\"fill\": {\"color\": \"#EBF0F8\"}, \"line\": {\"color\": \"white\"}}, \"header\": {\"fill\": {\"color\": \"#C8D4E3\"}, \"line\": {\"color\": \"white\"}}, \"type\": \"table\"}]}, \"layout\": {\"annotationdefaults\": {\"arrowcolor\": \"#2a3f5f\", \"arrowhead\": 0, \"arrowwidth\": 1}, \"coloraxis\": {\"colorbar\": {\"outlinewidth\": 0, \"ticks\": \"\"}}, \"colorscale\": {\"diverging\": [[0, \"#8e0152\"], [0.1, \"#c51b7d\"], [0.2, \"#de77ae\"], [0.3, \"#f1b6da\"], [0.4, \"#fde0ef\"], [0.5, \"#f7f7f7\"], [0.6, \"#e6f5d0\"], [0.7, \"#b8e186\"], [0.8, \"#7fbc41\"], [0.9, \"#4d9221\"], [1, \"#276419\"]], \"sequential\": [[0.0, \"#0d0887\"], [0.1111111111111111, \"#46039f\"], [0.2222222222222222, \"#7201a8\"], [0.3333333333333333, \"#9c179e\"], [0.4444444444444444, \"#bd3786\"], [0.5555555555555556, \"#d8576b\"], [0.6666666666666666, \"#ed7953\"], [0.7777777777777778, \"#fb9f3a\"], [0.8888888888888888, \"#fdca26\"], [1.0, \"#f0f921\"]], \"sequentialminus\": [[0.0, \"#0d0887\"], [0.1111111111111111, \"#46039f\"], [0.2222222222222222, \"#7201a8\"], [0.3333333333333333, \"#9c179e\"], [0.4444444444444444, \"#bd3786\"], [0.5555555555555556, \"#d8576b\"], [0.6666666666666666, \"#ed7953\"], [0.7777777777777778, \"#fb9f3a\"], [0.8888888888888888, \"#fdca26\"], [1.0, \"#f0f921\"]]}, \"colorway\": [\"#636efa\", \"#EF553B\", \"#00cc96\", \"#ab63fa\", \"#FFA15A\", \"#19d3f3\", \"#FF6692\", \"#B6E880\", \"#FF97FF\", \"#FECB52\"], \"font\": {\"color\": \"#2a3f5f\"}, \"geo\": {\"bgcolor\": \"white\", \"lakecolor\": \"white\", \"landcolor\": \"#E5ECF6\", \"showlakes\": true, \"showland\": true, \"subunitcolor\": \"white\"}, \"hoverlabel\": {\"align\": \"left\"}, \"hovermode\": \"closest\", \"mapbox\": {\"style\": \"light\"}, \"paper_bgcolor\": \"white\", \"plot_bgcolor\": \"#E5ECF6\", \"polar\": {\"angularaxis\": {\"gridcolor\": \"white\", \"linecolor\": \"white\", \"ticks\": \"\"}, \"bgcolor\": \"#E5ECF6\", \"radialaxis\": {\"gridcolor\": \"white\", \"linecolor\": \"white\", \"ticks\": \"\"}}, \"scene\": {\"xaxis\": {\"backgroundcolor\": \"#E5ECF6\", \"gridcolor\": \"white\", \"gridwidth\": 2, \"linecolor\": \"white\", \"showbackground\": true, \"ticks\": \"\", \"zerolinecolor\": \"white\"}, \"yaxis\": {\"backgroundcolor\": \"#E5ECF6\", \"gridcolor\": \"white\", \"gridwidth\": 2, \"linecolor\": \"white\", \"showbackground\": true, \"ticks\": \"\", \"zerolinecolor\": \"white\"}, \"zaxis\": {\"backgroundcolor\": \"#E5ECF6\", \"gridcolor\": \"white\", \"gridwidth\": 2, \"linecolor\": \"white\", \"showbackground\": true, \"ticks\": \"\", \"zerolinecolor\": \"white\"}}, \"shapedefaults\": {\"line\": {\"color\": \"#2a3f5f\"}}, \"ternary\": {\"aaxis\": {\"gridcolor\": \"white\", \"linecolor\": \"white\", \"ticks\": \"\"}, \"baxis\": {\"gridcolor\": \"white\", \"linecolor\": \"white\", \"ticks\": \"\"}, \"bgcolor\": \"#E5ECF6\", \"caxis\": {\"gridcolor\": \"white\", \"linecolor\": \"white\", \"ticks\": \"\"}}, \"title\": {\"x\": 0.05}, \"xaxis\": {\"automargin\": true, \"gridcolor\": \"white\", \"linecolor\": \"white\", \"ticks\": \"\", \"title\": {\"standoff\": 15}, \"zerolinecolor\": \"white\", \"zerolinewidth\": 2}, \"yaxis\": {\"automargin\": true, \"gridcolor\": \"white\", \"linecolor\": \"white\", \"ticks\": \"\", \"title\": {\"standoff\": 15}, \"zerolinecolor\": \"white\", \"zerolinewidth\": 2}}}, \"title\": {\"text\": \"Total Club Influence by Region\"}, \"width\": 350},\n",
              "                        {\"responsive\": true}\n",
              "                    ).then(function(){\n",
              "                            \n",
              "var gd = document.getElementById('c9ee222a-f7b7-436c-a5f2-7706cf985ea5');\n",
              "var x = new MutationObserver(function (mutations, observer) {{\n",
              "        var display = window.getComputedStyle(gd).display;\n",
              "        if (!display || display === 'none') {{\n",
              "            console.log([gd, 'removed!']);\n",
              "            Plotly.purge(gd);\n",
              "            observer.disconnect();\n",
              "        }}\n",
              "}});\n",
              "\n",
              "// Listen for the removal of the full notebook cells\n",
              "var notebookContainer = gd.closest('#notebook-container');\n",
              "if (notebookContainer) {{\n",
              "    x.observe(notebookContainer, {childList: true});\n",
              "}}\n",
              "\n",
              "// Listen for the clearing of the current output cell\n",
              "var outputEl = gd.closest('.output');\n",
              "if (outputEl) {{\n",
              "    x.observe(outputEl, {childList: true});\n",
              "}}\n",
              "\n",
              "                        })\n",
              "                };\n",
              "                \n",
              "            </script>\n",
              "        </div>\n",
              "</body>\n",
              "</html>"
            ]
          },
          "metadata": {
            "tags": []
          }
        }
      ]
    },
    {
      "cell_type": "code",
      "metadata": {
        "id": "HCszGQhTeLpg",
        "colab_type": "code",
        "colab": {
          "base_uri": "https://localhost:8080/",
          "height": 367
        },
        "outputId": "ae7443c0-7c3a-4bb8-efea-be7f7a128833"
      },
      "source": [
        "region = 1\n",
        "regionNames = list(RegionFactory.regionDict.keys())\n",
        "regionName = regionNames[region]\n",
        "title = f\"Total Influence <br>by Minor Faction <br>in the {regionName} region\"\n",
        "merope = target[ target['region']== region]\n",
        "stage1 = merope.loc[merope.groupby(['faction','system']).updated.idxmax()]\n",
        "stage3 = stage1[['system','faction','influence']].groupby('faction').influence.sum().reset_index()\n",
        "fig = px.pie(stage3, values='influence', names='faction', title=title, width=350, height=350) #, names='faction'\n",
        "fig.update_traces(textposition=\"inside\")\n",
        "fig.update_layout(showlegend=False)\n",
        "fig.show()"
      ],
      "execution_count": 7,
      "outputs": [
        {
          "output_type": "display_data",
          "data": {
            "text/html": [
              "<html>\n",
              "<head><meta charset=\"utf-8\" /></head>\n",
              "<body>\n",
              "    <div>\n",
              "            <script src=\"https://cdnjs.cloudflare.com/ajax/libs/mathjax/2.7.5/MathJax.js?config=TeX-AMS-MML_SVG\"></script><script type=\"text/javascript\">if (window.MathJax) {MathJax.Hub.Config({SVG: {font: \"STIX-Web\"}});}</script>\n",
              "                <script type=\"text/javascript\">window.PlotlyConfig = {MathJaxConfig: 'local'};</script>\n",
              "        <script src=\"https://cdn.plot.ly/plotly-latest.min.js\"></script>    \n",
              "            <div id=\"dab7308e-2665-4abf-9330-354cf3accd18\" class=\"plotly-graph-div\" style=\"height:350px; width:350px;\"></div>\n",
              "            <script type=\"text/javascript\">\n",
              "                \n",
              "                    window.PLOTLYENV=window.PLOTLYENV || {};\n",
              "                    \n",
              "                if (document.getElementById(\"dab7308e-2665-4abf-9330-354cf3accd18\")) {\n",
              "                    Plotly.newPlot(\n",
              "                        'dab7308e-2665-4abf-9330-354cf3accd18',\n",
              "                        [{\"domain\": {\"x\": [0.0, 1.0], \"y\": [0.0, 1.0]}, \"hovertemplate\": \"faction=%{label}<br>influence=%{value}<extra></extra>\", \"labels\": [\"Aegis Defense\", \"Aegis Research\", \"Janus Incorporated\", \"Sirius Mining Merope\"], \"legendgroup\": \"\", \"name\": \"\", \"showlegend\": true, \"textposition\": \"inside\", \"type\": \"pie\", \"values\": [0.0, 1909.8256169780263, 1227.0017780844182, 344.80511111111093]}],\n",
              "                        {\"height\": 350, \"legend\": {\"tracegroupgap\": 0}, \"showlegend\": false, \"template\": {\"data\": {\"bar\": [{\"error_x\": {\"color\": \"#2a3f5f\"}, \"error_y\": {\"color\": \"#2a3f5f\"}, \"marker\": {\"line\": {\"color\": \"#E5ECF6\", \"width\": 0.5}}, \"type\": \"bar\"}], \"barpolar\": [{\"marker\": {\"line\": {\"color\": \"#E5ECF6\", \"width\": 0.5}}, \"type\": \"barpolar\"}], \"carpet\": [{\"aaxis\": {\"endlinecolor\": \"#2a3f5f\", \"gridcolor\": \"white\", \"linecolor\": \"white\", \"minorgridcolor\": \"white\", \"startlinecolor\": \"#2a3f5f\"}, \"baxis\": {\"endlinecolor\": \"#2a3f5f\", \"gridcolor\": \"white\", \"linecolor\": \"white\", \"minorgridcolor\": \"white\", \"startlinecolor\": \"#2a3f5f\"}, \"type\": \"carpet\"}], \"choropleth\": [{\"colorbar\": {\"outlinewidth\": 0, \"ticks\": \"\"}, \"type\": \"choropleth\"}], \"contour\": [{\"colorbar\": {\"outlinewidth\": 0, \"ticks\": \"\"}, \"colorscale\": [[0.0, \"#0d0887\"], [0.1111111111111111, \"#46039f\"], [0.2222222222222222, \"#7201a8\"], [0.3333333333333333, \"#9c179e\"], [0.4444444444444444, \"#bd3786\"], [0.5555555555555556, \"#d8576b\"], [0.6666666666666666, \"#ed7953\"], [0.7777777777777778, \"#fb9f3a\"], [0.8888888888888888, \"#fdca26\"], [1.0, \"#f0f921\"]], \"type\": \"contour\"}], \"contourcarpet\": [{\"colorbar\": {\"outlinewidth\": 0, \"ticks\": \"\"}, \"type\": \"contourcarpet\"}], \"heatmap\": [{\"colorbar\": {\"outlinewidth\": 0, \"ticks\": \"\"}, \"colorscale\": [[0.0, \"#0d0887\"], [0.1111111111111111, \"#46039f\"], [0.2222222222222222, \"#7201a8\"], [0.3333333333333333, \"#9c179e\"], [0.4444444444444444, \"#bd3786\"], [0.5555555555555556, \"#d8576b\"], [0.6666666666666666, \"#ed7953\"], [0.7777777777777778, \"#fb9f3a\"], [0.8888888888888888, \"#fdca26\"], [1.0, \"#f0f921\"]], \"type\": \"heatmap\"}], \"heatmapgl\": [{\"colorbar\": {\"outlinewidth\": 0, \"ticks\": \"\"}, \"colorscale\": [[0.0, \"#0d0887\"], [0.1111111111111111, \"#46039f\"], [0.2222222222222222, \"#7201a8\"], [0.3333333333333333, \"#9c179e\"], [0.4444444444444444, \"#bd3786\"], [0.5555555555555556, \"#d8576b\"], [0.6666666666666666, \"#ed7953\"], [0.7777777777777778, \"#fb9f3a\"], [0.8888888888888888, \"#fdca26\"], [1.0, \"#f0f921\"]], \"type\": \"heatmapgl\"}], \"histogram\": [{\"marker\": {\"colorbar\": {\"outlinewidth\": 0, \"ticks\": \"\"}}, \"type\": \"histogram\"}], \"histogram2d\": [{\"colorbar\": {\"outlinewidth\": 0, \"ticks\": \"\"}, \"colorscale\": [[0.0, \"#0d0887\"], [0.1111111111111111, \"#46039f\"], [0.2222222222222222, \"#7201a8\"], [0.3333333333333333, \"#9c179e\"], [0.4444444444444444, \"#bd3786\"], [0.5555555555555556, \"#d8576b\"], [0.6666666666666666, \"#ed7953\"], [0.7777777777777778, \"#fb9f3a\"], [0.8888888888888888, \"#fdca26\"], [1.0, \"#f0f921\"]], \"type\": \"histogram2d\"}], \"histogram2dcontour\": [{\"colorbar\": {\"outlinewidth\": 0, \"ticks\": \"\"}, \"colorscale\": [[0.0, \"#0d0887\"], [0.1111111111111111, \"#46039f\"], [0.2222222222222222, \"#7201a8\"], [0.3333333333333333, \"#9c179e\"], [0.4444444444444444, \"#bd3786\"], [0.5555555555555556, \"#d8576b\"], [0.6666666666666666, \"#ed7953\"], [0.7777777777777778, \"#fb9f3a\"], [0.8888888888888888, \"#fdca26\"], [1.0, \"#f0f921\"]], \"type\": \"histogram2dcontour\"}], \"mesh3d\": [{\"colorbar\": {\"outlinewidth\": 0, \"ticks\": \"\"}, \"type\": \"mesh3d\"}], \"parcoords\": [{\"line\": {\"colorbar\": {\"outlinewidth\": 0, \"ticks\": \"\"}}, \"type\": \"parcoords\"}], \"pie\": [{\"automargin\": true, \"type\": \"pie\"}], \"scatter\": [{\"marker\": {\"colorbar\": {\"outlinewidth\": 0, \"ticks\": \"\"}}, \"type\": \"scatter\"}], \"scatter3d\": [{\"line\": {\"colorbar\": {\"outlinewidth\": 0, \"ticks\": \"\"}}, \"marker\": {\"colorbar\": {\"outlinewidth\": 0, \"ticks\": \"\"}}, \"type\": \"scatter3d\"}], \"scattercarpet\": [{\"marker\": {\"colorbar\": {\"outlinewidth\": 0, \"ticks\": \"\"}}, \"type\": \"scattercarpet\"}], \"scattergeo\": [{\"marker\": {\"colorbar\": {\"outlinewidth\": 0, \"ticks\": \"\"}}, \"type\": \"scattergeo\"}], \"scattergl\": [{\"marker\": {\"colorbar\": {\"outlinewidth\": 0, \"ticks\": \"\"}}, \"type\": \"scattergl\"}], \"scattermapbox\": [{\"marker\": {\"colorbar\": {\"outlinewidth\": 0, \"ticks\": \"\"}}, \"type\": \"scattermapbox\"}], \"scatterpolar\": [{\"marker\": {\"colorbar\": {\"outlinewidth\": 0, \"ticks\": \"\"}}, \"type\": \"scatterpolar\"}], \"scatterpolargl\": [{\"marker\": {\"colorbar\": {\"outlinewidth\": 0, \"ticks\": \"\"}}, \"type\": \"scatterpolargl\"}], \"scatterternary\": [{\"marker\": {\"colorbar\": {\"outlinewidth\": 0, \"ticks\": \"\"}}, \"type\": \"scatterternary\"}], \"surface\": [{\"colorbar\": {\"outlinewidth\": 0, \"ticks\": \"\"}, \"colorscale\": [[0.0, \"#0d0887\"], [0.1111111111111111, \"#46039f\"], [0.2222222222222222, \"#7201a8\"], [0.3333333333333333, \"#9c179e\"], [0.4444444444444444, \"#bd3786\"], [0.5555555555555556, \"#d8576b\"], [0.6666666666666666, \"#ed7953\"], [0.7777777777777778, \"#fb9f3a\"], [0.8888888888888888, \"#fdca26\"], [1.0, \"#f0f921\"]], \"type\": \"surface\"}], \"table\": [{\"cells\": {\"fill\": {\"color\": \"#EBF0F8\"}, \"line\": {\"color\": \"white\"}}, \"header\": {\"fill\": {\"color\": \"#C8D4E3\"}, \"line\": {\"color\": \"white\"}}, \"type\": \"table\"}]}, \"layout\": {\"annotationdefaults\": {\"arrowcolor\": \"#2a3f5f\", \"arrowhead\": 0, \"arrowwidth\": 1}, \"coloraxis\": {\"colorbar\": {\"outlinewidth\": 0, \"ticks\": \"\"}}, \"colorscale\": {\"diverging\": [[0, \"#8e0152\"], [0.1, \"#c51b7d\"], [0.2, \"#de77ae\"], [0.3, \"#f1b6da\"], [0.4, \"#fde0ef\"], [0.5, \"#f7f7f7\"], [0.6, \"#e6f5d0\"], [0.7, \"#b8e186\"], [0.8, \"#7fbc41\"], [0.9, \"#4d9221\"], [1, \"#276419\"]], \"sequential\": [[0.0, \"#0d0887\"], [0.1111111111111111, \"#46039f\"], [0.2222222222222222, \"#7201a8\"], [0.3333333333333333, \"#9c179e\"], [0.4444444444444444, \"#bd3786\"], [0.5555555555555556, \"#d8576b\"], [0.6666666666666666, \"#ed7953\"], [0.7777777777777778, \"#fb9f3a\"], [0.8888888888888888, \"#fdca26\"], [1.0, \"#f0f921\"]], \"sequentialminus\": [[0.0, \"#0d0887\"], [0.1111111111111111, \"#46039f\"], [0.2222222222222222, \"#7201a8\"], [0.3333333333333333, \"#9c179e\"], [0.4444444444444444, \"#bd3786\"], [0.5555555555555556, \"#d8576b\"], [0.6666666666666666, \"#ed7953\"], [0.7777777777777778, \"#fb9f3a\"], [0.8888888888888888, \"#fdca26\"], [1.0, \"#f0f921\"]]}, \"colorway\": [\"#636efa\", \"#EF553B\", \"#00cc96\", \"#ab63fa\", \"#FFA15A\", \"#19d3f3\", \"#FF6692\", \"#B6E880\", \"#FF97FF\", \"#FECB52\"], \"font\": {\"color\": \"#2a3f5f\"}, \"geo\": {\"bgcolor\": \"white\", \"lakecolor\": \"white\", \"landcolor\": \"#E5ECF6\", \"showlakes\": true, \"showland\": true, \"subunitcolor\": \"white\"}, \"hoverlabel\": {\"align\": \"left\"}, \"hovermode\": \"closest\", \"mapbox\": {\"style\": \"light\"}, \"paper_bgcolor\": \"white\", \"plot_bgcolor\": \"#E5ECF6\", \"polar\": {\"angularaxis\": {\"gridcolor\": \"white\", \"linecolor\": \"white\", \"ticks\": \"\"}, \"bgcolor\": \"#E5ECF6\", \"radialaxis\": {\"gridcolor\": \"white\", \"linecolor\": \"white\", \"ticks\": \"\"}}, \"scene\": {\"xaxis\": {\"backgroundcolor\": \"#E5ECF6\", \"gridcolor\": \"white\", \"gridwidth\": 2, \"linecolor\": \"white\", \"showbackground\": true, \"ticks\": \"\", \"zerolinecolor\": \"white\"}, \"yaxis\": {\"backgroundcolor\": \"#E5ECF6\", \"gridcolor\": \"white\", \"gridwidth\": 2, \"linecolor\": \"white\", \"showbackground\": true, \"ticks\": \"\", \"zerolinecolor\": \"white\"}, \"zaxis\": {\"backgroundcolor\": \"#E5ECF6\", \"gridcolor\": \"white\", \"gridwidth\": 2, \"linecolor\": \"white\", \"showbackground\": true, \"ticks\": \"\", \"zerolinecolor\": \"white\"}}, \"shapedefaults\": {\"line\": {\"color\": \"#2a3f5f\"}}, \"ternary\": {\"aaxis\": {\"gridcolor\": \"white\", \"linecolor\": \"white\", \"ticks\": \"\"}, \"baxis\": {\"gridcolor\": \"white\", \"linecolor\": \"white\", \"ticks\": \"\"}, \"bgcolor\": \"#E5ECF6\", \"caxis\": {\"gridcolor\": \"white\", \"linecolor\": \"white\", \"ticks\": \"\"}}, \"title\": {\"x\": 0.05}, \"xaxis\": {\"automargin\": true, \"gridcolor\": \"white\", \"linecolor\": \"white\", \"ticks\": \"\", \"title\": {\"standoff\": 15}, \"zerolinecolor\": \"white\", \"zerolinewidth\": 2}, \"yaxis\": {\"automargin\": true, \"gridcolor\": \"white\", \"linecolor\": \"white\", \"ticks\": \"\", \"title\": {\"standoff\": 15}, \"zerolinecolor\": \"white\", \"zerolinewidth\": 2}}}, \"title\": {\"text\": \"Total Influence <br>by Minor Faction <br>in the Merope region\"}, \"width\": 350},\n",
              "                        {\"responsive\": true}\n",
              "                    ).then(function(){\n",
              "                            \n",
              "var gd = document.getElementById('dab7308e-2665-4abf-9330-354cf3accd18');\n",
              "var x = new MutationObserver(function (mutations, observer) {{\n",
              "        var display = window.getComputedStyle(gd).display;\n",
              "        if (!display || display === 'none') {{\n",
              "            console.log([gd, 'removed!']);\n",
              "            Plotly.purge(gd);\n",
              "            observer.disconnect();\n",
              "        }}\n",
              "}});\n",
              "\n",
              "// Listen for the removal of the full notebook cells\n",
              "var notebookContainer = gd.closest('#notebook-container');\n",
              "if (notebookContainer) {{\n",
              "    x.observe(notebookContainer, {childList: true});\n",
              "}}\n",
              "\n",
              "// Listen for the clearing of the current output cell\n",
              "var outputEl = gd.closest('.output');\n",
              "if (outputEl) {{\n",
              "    x.observe(outputEl, {childList: true});\n",
              "}}\n",
              "\n",
              "                        })\n",
              "                };\n",
              "                \n",
              "            </script>\n",
              "        </div>\n",
              "</body>\n",
              "</html>"
            ]
          },
          "metadata": {
            "tags": []
          }
        }
      ]
    },
    {
      "cell_type": "code",
      "metadata": {
        "id": "xHlU7-5Fgdcr",
        "colab_type": "code",
        "colab": {
          "base_uri": "https://localhost:8080/",
          "height": 367
        },
        "outputId": "2f0cba38-0f63-4732-a699-298e045b01f8"
      },
      "source": [
        "region = 1\n",
        "dated = target[ target['updated'] == \"2020-06-05\"]\n",
        "reg = dated[dated['region']== region]\n",
        "fig2 = px.pie(reg, values='influence', names='faction', title=title, width=350, height=350) #, names='faction'\n",
        "fig2.update_traces(textposition=\"inside\")\n",
        "fig2.update_layout(showlegend=False)\n",
        "fig2.show()"
      ],
      "execution_count": 8,
      "outputs": [
        {
          "output_type": "display_data",
          "data": {
            "text/html": [
              "<html>\n",
              "<head><meta charset=\"utf-8\" /></head>\n",
              "<body>\n",
              "    <div>\n",
              "            <script src=\"https://cdnjs.cloudflare.com/ajax/libs/mathjax/2.7.5/MathJax.js?config=TeX-AMS-MML_SVG\"></script><script type=\"text/javascript\">if (window.MathJax) {MathJax.Hub.Config({SVG: {font: \"STIX-Web\"}});}</script>\n",
              "                <script type=\"text/javascript\">window.PlotlyConfig = {MathJaxConfig: 'local'};</script>\n",
              "        <script src=\"https://cdn.plot.ly/plotly-latest.min.js\"></script>    \n",
              "            <div id=\"aaab0a2a-729d-4d44-b505-71c140f246c7\" class=\"plotly-graph-div\" style=\"height:350px; width:350px;\"></div>\n",
              "            <script type=\"text/javascript\">\n",
              "                \n",
              "                    window.PLOTLYENV=window.PLOTLYENV || {};\n",
              "                    \n",
              "                if (document.getElementById(\"aaab0a2a-729d-4d44-b505-71c140f246c7\")) {\n",
              "                    Plotly.newPlot(\n",
              "                        'aaab0a2a-729d-4d44-b505-71c140f246c7',\n",
              "                        [],\n",
              "                        {\"height\": 350, \"legend\": {\"tracegroupgap\": 0}, \"showlegend\": false, \"template\": {\"data\": {\"bar\": [{\"error_x\": {\"color\": \"#2a3f5f\"}, \"error_y\": {\"color\": \"#2a3f5f\"}, \"marker\": {\"line\": {\"color\": \"#E5ECF6\", \"width\": 0.5}}, \"type\": \"bar\"}], \"barpolar\": [{\"marker\": {\"line\": {\"color\": \"#E5ECF6\", \"width\": 0.5}}, \"type\": \"barpolar\"}], \"carpet\": [{\"aaxis\": {\"endlinecolor\": \"#2a3f5f\", \"gridcolor\": \"white\", \"linecolor\": \"white\", \"minorgridcolor\": \"white\", \"startlinecolor\": \"#2a3f5f\"}, \"baxis\": {\"endlinecolor\": \"#2a3f5f\", \"gridcolor\": \"white\", \"linecolor\": \"white\", \"minorgridcolor\": \"white\", \"startlinecolor\": \"#2a3f5f\"}, \"type\": \"carpet\"}], \"choropleth\": [{\"colorbar\": {\"outlinewidth\": 0, \"ticks\": \"\"}, \"type\": \"choropleth\"}], \"contour\": [{\"colorbar\": {\"outlinewidth\": 0, \"ticks\": \"\"}, \"colorscale\": [[0.0, \"#0d0887\"], [0.1111111111111111, \"#46039f\"], [0.2222222222222222, \"#7201a8\"], [0.3333333333333333, \"#9c179e\"], [0.4444444444444444, \"#bd3786\"], [0.5555555555555556, \"#d8576b\"], [0.6666666666666666, \"#ed7953\"], [0.7777777777777778, \"#fb9f3a\"], [0.8888888888888888, \"#fdca26\"], [1.0, \"#f0f921\"]], \"type\": \"contour\"}], \"contourcarpet\": [{\"colorbar\": {\"outlinewidth\": 0, \"ticks\": \"\"}, \"type\": \"contourcarpet\"}], \"heatmap\": [{\"colorbar\": {\"outlinewidth\": 0, \"ticks\": \"\"}, \"colorscale\": [[0.0, \"#0d0887\"], [0.1111111111111111, \"#46039f\"], [0.2222222222222222, \"#7201a8\"], [0.3333333333333333, \"#9c179e\"], [0.4444444444444444, \"#bd3786\"], [0.5555555555555556, \"#d8576b\"], [0.6666666666666666, \"#ed7953\"], [0.7777777777777778, \"#fb9f3a\"], [0.8888888888888888, \"#fdca26\"], [1.0, \"#f0f921\"]], \"type\": \"heatmap\"}], \"heatmapgl\": [{\"colorbar\": {\"outlinewidth\": 0, \"ticks\": \"\"}, \"colorscale\": [[0.0, \"#0d0887\"], [0.1111111111111111, \"#46039f\"], [0.2222222222222222, \"#7201a8\"], [0.3333333333333333, \"#9c179e\"], [0.4444444444444444, \"#bd3786\"], [0.5555555555555556, \"#d8576b\"], [0.6666666666666666, \"#ed7953\"], [0.7777777777777778, \"#fb9f3a\"], [0.8888888888888888, \"#fdca26\"], [1.0, \"#f0f921\"]], \"type\": \"heatmapgl\"}], \"histogram\": [{\"marker\": {\"colorbar\": {\"outlinewidth\": 0, \"ticks\": \"\"}}, \"type\": \"histogram\"}], \"histogram2d\": [{\"colorbar\": {\"outlinewidth\": 0, \"ticks\": \"\"}, \"colorscale\": [[0.0, \"#0d0887\"], [0.1111111111111111, \"#46039f\"], [0.2222222222222222, \"#7201a8\"], [0.3333333333333333, \"#9c179e\"], [0.4444444444444444, \"#bd3786\"], [0.5555555555555556, \"#d8576b\"], [0.6666666666666666, \"#ed7953\"], [0.7777777777777778, \"#fb9f3a\"], [0.8888888888888888, \"#fdca26\"], [1.0, \"#f0f921\"]], \"type\": \"histogram2d\"}], \"histogram2dcontour\": [{\"colorbar\": {\"outlinewidth\": 0, \"ticks\": \"\"}, \"colorscale\": [[0.0, \"#0d0887\"], [0.1111111111111111, \"#46039f\"], [0.2222222222222222, \"#7201a8\"], [0.3333333333333333, \"#9c179e\"], [0.4444444444444444, \"#bd3786\"], [0.5555555555555556, \"#d8576b\"], [0.6666666666666666, \"#ed7953\"], [0.7777777777777778, \"#fb9f3a\"], [0.8888888888888888, \"#fdca26\"], [1.0, \"#f0f921\"]], \"type\": \"histogram2dcontour\"}], \"mesh3d\": [{\"colorbar\": {\"outlinewidth\": 0, \"ticks\": \"\"}, \"type\": \"mesh3d\"}], \"parcoords\": [{\"line\": {\"colorbar\": {\"outlinewidth\": 0, \"ticks\": \"\"}}, \"type\": \"parcoords\"}], \"pie\": [{\"automargin\": true, \"type\": \"pie\"}], \"scatter\": [{\"marker\": {\"colorbar\": {\"outlinewidth\": 0, \"ticks\": \"\"}}, \"type\": \"scatter\"}], \"scatter3d\": [{\"line\": {\"colorbar\": {\"outlinewidth\": 0, \"ticks\": \"\"}}, \"marker\": {\"colorbar\": {\"outlinewidth\": 0, \"ticks\": \"\"}}, \"type\": \"scatter3d\"}], \"scattercarpet\": [{\"marker\": {\"colorbar\": {\"outlinewidth\": 0, \"ticks\": \"\"}}, \"type\": \"scattercarpet\"}], \"scattergeo\": [{\"marker\": {\"colorbar\": {\"outlinewidth\": 0, \"ticks\": \"\"}}, \"type\": \"scattergeo\"}], \"scattergl\": [{\"marker\": {\"colorbar\": {\"outlinewidth\": 0, \"ticks\": \"\"}}, \"type\": \"scattergl\"}], \"scattermapbox\": [{\"marker\": {\"colorbar\": {\"outlinewidth\": 0, \"ticks\": \"\"}}, \"type\": \"scattermapbox\"}], \"scatterpolar\": [{\"marker\": {\"colorbar\": {\"outlinewidth\": 0, \"ticks\": \"\"}}, \"type\": \"scatterpolar\"}], \"scatterpolargl\": [{\"marker\": {\"colorbar\": {\"outlinewidth\": 0, \"ticks\": \"\"}}, \"type\": \"scatterpolargl\"}], \"scatterternary\": [{\"marker\": {\"colorbar\": {\"outlinewidth\": 0, \"ticks\": \"\"}}, \"type\": \"scatterternary\"}], \"surface\": [{\"colorbar\": {\"outlinewidth\": 0, \"ticks\": \"\"}, \"colorscale\": [[0.0, \"#0d0887\"], [0.1111111111111111, \"#46039f\"], [0.2222222222222222, \"#7201a8\"], [0.3333333333333333, \"#9c179e\"], [0.4444444444444444, \"#bd3786\"], [0.5555555555555556, \"#d8576b\"], [0.6666666666666666, \"#ed7953\"], [0.7777777777777778, \"#fb9f3a\"], [0.8888888888888888, \"#fdca26\"], [1.0, \"#f0f921\"]], \"type\": \"surface\"}], \"table\": [{\"cells\": {\"fill\": {\"color\": \"#EBF0F8\"}, \"line\": {\"color\": \"white\"}}, \"header\": {\"fill\": {\"color\": \"#C8D4E3\"}, \"line\": {\"color\": \"white\"}}, \"type\": \"table\"}]}, \"layout\": {\"annotationdefaults\": {\"arrowcolor\": \"#2a3f5f\", \"arrowhead\": 0, \"arrowwidth\": 1}, \"coloraxis\": {\"colorbar\": {\"outlinewidth\": 0, \"ticks\": \"\"}}, \"colorscale\": {\"diverging\": [[0, \"#8e0152\"], [0.1, \"#c51b7d\"], [0.2, \"#de77ae\"], [0.3, \"#f1b6da\"], [0.4, \"#fde0ef\"], [0.5, \"#f7f7f7\"], [0.6, \"#e6f5d0\"], [0.7, \"#b8e186\"], [0.8, \"#7fbc41\"], [0.9, \"#4d9221\"], [1, \"#276419\"]], \"sequential\": [[0.0, \"#0d0887\"], [0.1111111111111111, \"#46039f\"], [0.2222222222222222, \"#7201a8\"], [0.3333333333333333, \"#9c179e\"], [0.4444444444444444, \"#bd3786\"], [0.5555555555555556, \"#d8576b\"], [0.6666666666666666, \"#ed7953\"], [0.7777777777777778, \"#fb9f3a\"], [0.8888888888888888, \"#fdca26\"], [1.0, \"#f0f921\"]], \"sequentialminus\": [[0.0, \"#0d0887\"], [0.1111111111111111, \"#46039f\"], [0.2222222222222222, \"#7201a8\"], [0.3333333333333333, \"#9c179e\"], [0.4444444444444444, \"#bd3786\"], [0.5555555555555556, \"#d8576b\"], [0.6666666666666666, \"#ed7953\"], [0.7777777777777778, \"#fb9f3a\"], [0.8888888888888888, \"#fdca26\"], [1.0, \"#f0f921\"]]}, \"colorway\": [\"#636efa\", \"#EF553B\", \"#00cc96\", \"#ab63fa\", \"#FFA15A\", \"#19d3f3\", \"#FF6692\", \"#B6E880\", \"#FF97FF\", \"#FECB52\"], \"font\": {\"color\": \"#2a3f5f\"}, \"geo\": {\"bgcolor\": \"white\", \"lakecolor\": \"white\", \"landcolor\": \"#E5ECF6\", \"showlakes\": true, \"showland\": true, \"subunitcolor\": \"white\"}, \"hoverlabel\": {\"align\": \"left\"}, \"hovermode\": \"closest\", \"mapbox\": {\"style\": \"light\"}, \"paper_bgcolor\": \"white\", \"plot_bgcolor\": \"#E5ECF6\", \"polar\": {\"angularaxis\": {\"gridcolor\": \"white\", \"linecolor\": \"white\", \"ticks\": \"\"}, \"bgcolor\": \"#E5ECF6\", \"radialaxis\": {\"gridcolor\": \"white\", \"linecolor\": \"white\", \"ticks\": \"\"}}, \"scene\": {\"xaxis\": {\"backgroundcolor\": \"#E5ECF6\", \"gridcolor\": \"white\", \"gridwidth\": 2, \"linecolor\": \"white\", \"showbackground\": true, \"ticks\": \"\", \"zerolinecolor\": \"white\"}, \"yaxis\": {\"backgroundcolor\": \"#E5ECF6\", \"gridcolor\": \"white\", \"gridwidth\": 2, \"linecolor\": \"white\", \"showbackground\": true, \"ticks\": \"\", \"zerolinecolor\": \"white\"}, \"zaxis\": {\"backgroundcolor\": \"#E5ECF6\", \"gridcolor\": \"white\", \"gridwidth\": 2, \"linecolor\": \"white\", \"showbackground\": true, \"ticks\": \"\", \"zerolinecolor\": \"white\"}}, \"shapedefaults\": {\"line\": {\"color\": \"#2a3f5f\"}}, \"ternary\": {\"aaxis\": {\"gridcolor\": \"white\", \"linecolor\": \"white\", \"ticks\": \"\"}, \"baxis\": {\"gridcolor\": \"white\", \"linecolor\": \"white\", \"ticks\": \"\"}, \"bgcolor\": \"#E5ECF6\", \"caxis\": {\"gridcolor\": \"white\", \"linecolor\": \"white\", \"ticks\": \"\"}}, \"title\": {\"x\": 0.05}, \"xaxis\": {\"automargin\": true, \"gridcolor\": \"white\", \"linecolor\": \"white\", \"ticks\": \"\", \"title\": {\"standoff\": 15}, \"zerolinecolor\": \"white\", \"zerolinewidth\": 2}, \"yaxis\": {\"automargin\": true, \"gridcolor\": \"white\", \"linecolor\": \"white\", \"ticks\": \"\", \"title\": {\"standoff\": 15}, \"zerolinecolor\": \"white\", \"zerolinewidth\": 2}}}, \"title\": {\"text\": \"Total Influence <br>by Minor Faction <br>in the Merope region\"}, \"width\": 350, \"xaxis\": {\"anchor\": \"y\", \"domain\": [0.0, 1.0]}, \"yaxis\": {\"anchor\": \"x\", \"domain\": [0.0, 1.0]}},\n",
              "                        {\"responsive\": true}\n",
              "                    ).then(function(){\n",
              "                            \n",
              "var gd = document.getElementById('aaab0a2a-729d-4d44-b505-71c140f246c7');\n",
              "var x = new MutationObserver(function (mutations, observer) {{\n",
              "        var display = window.getComputedStyle(gd).display;\n",
              "        if (!display || display === 'none') {{\n",
              "            console.log([gd, 'removed!']);\n",
              "            Plotly.purge(gd);\n",
              "            observer.disconnect();\n",
              "        }}\n",
              "}});\n",
              "\n",
              "// Listen for the removal of the full notebook cells\n",
              "var notebookContainer = gd.closest('#notebook-container');\n",
              "if (notebookContainer) {{\n",
              "    x.observe(notebookContainer, {childList: true});\n",
              "}}\n",
              "\n",
              "// Listen for the clearing of the current output cell\n",
              "var outputEl = gd.closest('.output');\n",
              "if (outputEl) {{\n",
              "    x.observe(outputEl, {childList: true});\n",
              "}}\n",
              "\n",
              "                        })\n",
              "                };\n",
              "                \n",
              "            </script>\n",
              "        </div>\n",
              "</body>\n",
              "</html>"
            ]
          },
          "metadata": {
            "tags": []
          }
        }
      ]
    },
    {
      "cell_type": "code",
      "metadata": {
        "id": "VmLWbneFSGg9",
        "colab_type": "code",
        "colab": {
          "base_uri": "https://localhost:8080/",
          "height": 266
        },
        "outputId": "dd551672-364f-4fcd-8f30-621a34fff951"
      },
      "source": [
        "import math\n",
        "arr = [5, 7, 2, 3, math.nan, 4, math.nan]\n",
        "narr = pd.DataFrame(arr)\n",
        "narr.interpolate(axis=0)"
      ],
      "execution_count": 10,
      "outputs": [
        {
          "output_type": "execute_result",
          "data": {
            "text/html": [
              "<div>\n",
              "<style scoped>\n",
              "    .dataframe tbody tr th:only-of-type {\n",
              "        vertical-align: middle;\n",
              "    }\n",
              "\n",
              "    .dataframe tbody tr th {\n",
              "        vertical-align: top;\n",
              "    }\n",
              "\n",
              "    .dataframe thead th {\n",
              "        text-align: right;\n",
              "    }\n",
              "</style>\n",
              "<table border=\"1\" class=\"dataframe\">\n",
              "  <thead>\n",
              "    <tr style=\"text-align: right;\">\n",
              "      <th></th>\n",
              "      <th>0</th>\n",
              "    </tr>\n",
              "  </thead>\n",
              "  <tbody>\n",
              "    <tr>\n",
              "      <th>0</th>\n",
              "      <td>5.0</td>\n",
              "    </tr>\n",
              "    <tr>\n",
              "      <th>1</th>\n",
              "      <td>7.0</td>\n",
              "    </tr>\n",
              "    <tr>\n",
              "      <th>2</th>\n",
              "      <td>2.0</td>\n",
              "    </tr>\n",
              "    <tr>\n",
              "      <th>3</th>\n",
              "      <td>3.0</td>\n",
              "    </tr>\n",
              "    <tr>\n",
              "      <th>4</th>\n",
              "      <td>3.5</td>\n",
              "    </tr>\n",
              "    <tr>\n",
              "      <th>5</th>\n",
              "      <td>4.0</td>\n",
              "    </tr>\n",
              "    <tr>\n",
              "      <th>6</th>\n",
              "      <td>4.0</td>\n",
              "    </tr>\n",
              "  </tbody>\n",
              "</table>\n",
              "</div>"
            ],
            "text/plain": [
              "     0\n",
              "0  5.0\n",
              "1  7.0\n",
              "2  2.0\n",
              "3  3.0\n",
              "4  3.5\n",
              "5  4.0\n",
              "6  4.0"
            ]
          },
          "metadata": {
            "tags": []
          },
          "execution_count": 10
        }
      ]
    },
    {
      "cell_type": "code",
      "metadata": {
        "id": "rodqpnpxZzTc",
        "colab_type": "code",
        "colab": {
          "base_uri": "https://localhost:8080/",
          "height": 34
        },
        "outputId": "8e0a2ade-1627-45b2-a223-42761257649c"
      },
      "source": [
        "theDate = '2020-06-1'\n",
        "#reg = csa[ csa['region']== 1]\n",
        "dated = csa [ csa['updated']<= theDate]\n",
        "\n",
        "stage1 = dated.loc[dated.groupby(['faction','system']).updated.idxmax()]\n",
        "#stage1[['system','faction','influence']]\n",
        "stage3 = stage1[['system','faction','influence']].groupby('faction').influence.sum().reset_index()\n",
        "stage3.influence.sum()"
      ],
      "execution_count": 11,
      "outputs": [
        {
          "output_type": "execute_result",
          "data": {
            "text/plain": [
              "4168.610099040681"
            ]
          },
          "metadata": {
            "tags": []
          },
          "execution_count": 11
        }
      ]
    },
    {
      "cell_type": "code",
      "metadata": {
        "id": "y7VmaG0-bHlJ",
        "colab_type": "code",
        "colab": {
          "base_uri": "https://localhost:8080/",
          "height": 542
        },
        "outputId": "1f5ceda1-7658-4a76-e2b8-b4e7e9637e68"
      },
      "source": [
        "region = 8\n",
        "\n",
        "dates = []\n",
        "inf = []\n",
        "\n",
        "start_date = date(2018, 5, 15)\n",
        "daily_date = date(2020,5,30)\n",
        "end_date = date.today() + timedelta(days=1) \n",
        "\n",
        "dframe = csa[ csa['region'] == region]\n",
        "regionNames = list(RegionFactory.regionDict.keys())\n",
        "regionName = regionNames[region]\n",
        "title = f\"Total Club Influence in the {regionName} region\"\n",
        "\n",
        "single_date = start_date\n",
        "while single_date <= end_date:\n",
        "    theDate = single_date.strftime(\"%Y-%m-%d\")\n",
        "    dated = dframe [ dframe['updated']<= theDate]\n",
        "\n",
        "    stage1 = dated.loc[dated.groupby(['faction','system']).updated.idxmax()]\n",
        "    stage3 = stage1[['system','faction','influence']].groupby('faction').influence.sum().reset_index()\n",
        "    theInf = stage3.influence.sum()\n",
        "    dates.append(theDate)\n",
        "    inf.append(theInf)\n",
        "    if(single_date<daily_date):\n",
        "      single_date = single_date + relativedelta(months=1)\n",
        "    else:\n",
        "      single_date = single_date + relativedelta(days=1)\n",
        "      \n",
        "labels = {'x':'Day', 'y':\"Total Influence\"}\n",
        "fig = px.line(x=dates, y=inf, title=title, labels=labels)\n",
        "fig.show()"
      ],
      "execution_count": 13,
      "outputs": [
        {
          "output_type": "display_data",
          "data": {
            "text/html": [
              "<html>\n",
              "<head><meta charset=\"utf-8\" /></head>\n",
              "<body>\n",
              "    <div>\n",
              "            <script src=\"https://cdnjs.cloudflare.com/ajax/libs/mathjax/2.7.5/MathJax.js?config=TeX-AMS-MML_SVG\"></script><script type=\"text/javascript\">if (window.MathJax) {MathJax.Hub.Config({SVG: {font: \"STIX-Web\"}});}</script>\n",
              "                <script type=\"text/javascript\">window.PlotlyConfig = {MathJaxConfig: 'local'};</script>\n",
              "        <script src=\"https://cdn.plot.ly/plotly-latest.min.js\"></script>    \n",
              "            <div id=\"056d2bd0-3125-4267-985b-3fbfd755f4c5\" class=\"plotly-graph-div\" style=\"height:525px; width:100%;\"></div>\n",
              "            <script type=\"text/javascript\">\n",
              "                \n",
              "                    window.PLOTLYENV=window.PLOTLYENV || {};\n",
              "                    \n",
              "                if (document.getElementById(\"056d2bd0-3125-4267-985b-3fbfd755f4c5\")) {\n",
              "                    Plotly.newPlot(\n",
              "                        '056d2bd0-3125-4267-985b-3fbfd755f4c5',\n",
              "                        [{\"hovertemplate\": \"Day=%{x}<br>Total Influence=%{y}<extra></extra>\", \"legendgroup\": \"\", \"line\": {\"color\": \"#636efa\", \"dash\": \"solid\"}, \"mode\": \"lines\", \"name\": \"\", \"orientation\": \"v\", \"showlegend\": false, \"type\": \"scatter\", \"x\": [\"2018-05-15\", \"2018-06-15\", \"2018-07-15\", \"2018-08-15\", \"2018-09-15\", \"2018-10-15\", \"2018-11-15\", \"2018-12-15\", \"2019-01-15\", \"2019-02-15\", \"2019-03-15\", \"2019-04-15\", \"2019-05-15\", \"2019-06-15\", \"2019-07-15\", \"2019-08-15\", \"2019-09-15\", \"2019-10-15\", \"2019-11-15\", \"2019-12-15\", \"2020-01-15\", \"2020-02-15\", \"2020-03-15\", \"2020-04-15\", \"2020-05-15\", \"2020-06-15\", \"2020-06-16\", \"2020-06-17\", \"2020-06-18\", \"2020-06-19\", \"2020-06-20\", \"2020-06-21\", \"2020-06-22\", \"2020-06-23\", \"2020-06-24\", \"2020-06-25\", \"2020-06-26\", \"2020-06-27\", \"2020-06-28\", \"2020-06-29\", \"2020-06-30\", \"2020-07-01\", \"2020-07-02\", \"2020-07-03\", \"2020-07-04\", \"2020-07-05\", \"2020-07-06\", \"2020-07-07\", \"2020-07-08\"], \"xaxis\": \"x\", \"y\": [265.926069047619, 187.1275660714286, 158.93390476190476, 223.33181142857143, 265.4634922619048, 211.80479523809527, 215.8821070238095, 288.27031038655787, 277.995676020868, 391.5445950625763, 422.2051749603175, 395.69171023809525, 417.99189989177495, 421.7103716854144, 431.6384965879953, 432.7574375018038, 390.50421041125543, 392.3208401823993, 390.87743923382186, 373.03724889146486, 403.13888405329965, 426.7268019083695, 379.78361067637036, 413.4551560948773, 398.1539000448424, 428.3549857142857, 428.3549857142857, 413.1401857142858, 412.7561857142857, 401.33158571428567, 410.5869857142857, 422.56408571428585, 407.9843857142858, 431.7425857142858, 429.98158571428576, 430.81868571428566, 431.2400857142858, 431.2400857142858, 423.83978571428577, 418.00768571428574, 422.2813857142857, 420.5686857142857, 400.8485857142857, 394.18978571428573, 388.45448571428574, 399.2380857142856, 402.75428571428563, 403.65108571428567, 403.65108571428567], \"yaxis\": \"y\"}],\n",
              "                        {\"legend\": {\"tracegroupgap\": 0}, \"template\": {\"data\": {\"bar\": [{\"error_x\": {\"color\": \"#2a3f5f\"}, \"error_y\": {\"color\": \"#2a3f5f\"}, \"marker\": {\"line\": {\"color\": \"#E5ECF6\", \"width\": 0.5}}, \"type\": \"bar\"}], \"barpolar\": [{\"marker\": {\"line\": {\"color\": \"#E5ECF6\", \"width\": 0.5}}, \"type\": \"barpolar\"}], \"carpet\": [{\"aaxis\": {\"endlinecolor\": \"#2a3f5f\", \"gridcolor\": \"white\", \"linecolor\": \"white\", \"minorgridcolor\": \"white\", \"startlinecolor\": \"#2a3f5f\"}, \"baxis\": {\"endlinecolor\": \"#2a3f5f\", \"gridcolor\": \"white\", \"linecolor\": \"white\", \"minorgridcolor\": \"white\", \"startlinecolor\": \"#2a3f5f\"}, \"type\": \"carpet\"}], \"choropleth\": [{\"colorbar\": {\"outlinewidth\": 0, \"ticks\": \"\"}, \"type\": \"choropleth\"}], \"contour\": [{\"colorbar\": {\"outlinewidth\": 0, \"ticks\": \"\"}, \"colorscale\": [[0.0, \"#0d0887\"], [0.1111111111111111, \"#46039f\"], [0.2222222222222222, \"#7201a8\"], [0.3333333333333333, \"#9c179e\"], [0.4444444444444444, \"#bd3786\"], [0.5555555555555556, \"#d8576b\"], [0.6666666666666666, \"#ed7953\"], [0.7777777777777778, \"#fb9f3a\"], [0.8888888888888888, \"#fdca26\"], [1.0, \"#f0f921\"]], \"type\": \"contour\"}], \"contourcarpet\": [{\"colorbar\": {\"outlinewidth\": 0, \"ticks\": \"\"}, \"type\": \"contourcarpet\"}], \"heatmap\": [{\"colorbar\": {\"outlinewidth\": 0, \"ticks\": \"\"}, \"colorscale\": [[0.0, \"#0d0887\"], [0.1111111111111111, \"#46039f\"], [0.2222222222222222, \"#7201a8\"], [0.3333333333333333, \"#9c179e\"], [0.4444444444444444, \"#bd3786\"], [0.5555555555555556, \"#d8576b\"], [0.6666666666666666, \"#ed7953\"], [0.7777777777777778, \"#fb9f3a\"], [0.8888888888888888, \"#fdca26\"], [1.0, \"#f0f921\"]], \"type\": \"heatmap\"}], \"heatmapgl\": [{\"colorbar\": {\"outlinewidth\": 0, \"ticks\": \"\"}, \"colorscale\": [[0.0, \"#0d0887\"], [0.1111111111111111, \"#46039f\"], [0.2222222222222222, \"#7201a8\"], [0.3333333333333333, \"#9c179e\"], [0.4444444444444444, \"#bd3786\"], [0.5555555555555556, \"#d8576b\"], [0.6666666666666666, \"#ed7953\"], [0.7777777777777778, \"#fb9f3a\"], [0.8888888888888888, \"#fdca26\"], [1.0, \"#f0f921\"]], \"type\": \"heatmapgl\"}], \"histogram\": [{\"marker\": {\"colorbar\": {\"outlinewidth\": 0, \"ticks\": \"\"}}, \"type\": \"histogram\"}], \"histogram2d\": [{\"colorbar\": {\"outlinewidth\": 0, \"ticks\": \"\"}, \"colorscale\": [[0.0, \"#0d0887\"], [0.1111111111111111, \"#46039f\"], [0.2222222222222222, \"#7201a8\"], [0.3333333333333333, \"#9c179e\"], [0.4444444444444444, \"#bd3786\"], [0.5555555555555556, \"#d8576b\"], [0.6666666666666666, \"#ed7953\"], [0.7777777777777778, \"#fb9f3a\"], [0.8888888888888888, \"#fdca26\"], [1.0, \"#f0f921\"]], \"type\": \"histogram2d\"}], \"histogram2dcontour\": [{\"colorbar\": {\"outlinewidth\": 0, \"ticks\": \"\"}, \"colorscale\": [[0.0, \"#0d0887\"], [0.1111111111111111, \"#46039f\"], [0.2222222222222222, \"#7201a8\"], [0.3333333333333333, \"#9c179e\"], [0.4444444444444444, \"#bd3786\"], [0.5555555555555556, \"#d8576b\"], [0.6666666666666666, \"#ed7953\"], [0.7777777777777778, \"#fb9f3a\"], [0.8888888888888888, \"#fdca26\"], [1.0, \"#f0f921\"]], \"type\": \"histogram2dcontour\"}], \"mesh3d\": [{\"colorbar\": {\"outlinewidth\": 0, \"ticks\": \"\"}, \"type\": \"mesh3d\"}], \"parcoords\": [{\"line\": {\"colorbar\": {\"outlinewidth\": 0, \"ticks\": \"\"}}, \"type\": \"parcoords\"}], \"pie\": [{\"automargin\": true, \"type\": \"pie\"}], \"scatter\": [{\"marker\": {\"colorbar\": {\"outlinewidth\": 0, \"ticks\": \"\"}}, \"type\": \"scatter\"}], \"scatter3d\": [{\"line\": {\"colorbar\": {\"outlinewidth\": 0, \"ticks\": \"\"}}, \"marker\": {\"colorbar\": {\"outlinewidth\": 0, \"ticks\": \"\"}}, \"type\": \"scatter3d\"}], \"scattercarpet\": [{\"marker\": {\"colorbar\": {\"outlinewidth\": 0, \"ticks\": \"\"}}, \"type\": \"scattercarpet\"}], \"scattergeo\": [{\"marker\": {\"colorbar\": {\"outlinewidth\": 0, \"ticks\": \"\"}}, \"type\": \"scattergeo\"}], \"scattergl\": [{\"marker\": {\"colorbar\": {\"outlinewidth\": 0, \"ticks\": \"\"}}, \"type\": \"scattergl\"}], \"scattermapbox\": [{\"marker\": {\"colorbar\": {\"outlinewidth\": 0, \"ticks\": \"\"}}, \"type\": \"scattermapbox\"}], \"scatterpolar\": [{\"marker\": {\"colorbar\": {\"outlinewidth\": 0, \"ticks\": \"\"}}, \"type\": \"scatterpolar\"}], \"scatterpolargl\": [{\"marker\": {\"colorbar\": {\"outlinewidth\": 0, \"ticks\": \"\"}}, \"type\": \"scatterpolargl\"}], \"scatterternary\": [{\"marker\": {\"colorbar\": {\"outlinewidth\": 0, \"ticks\": \"\"}}, \"type\": \"scatterternary\"}], \"surface\": [{\"colorbar\": {\"outlinewidth\": 0, \"ticks\": \"\"}, \"colorscale\": [[0.0, \"#0d0887\"], [0.1111111111111111, \"#46039f\"], [0.2222222222222222, \"#7201a8\"], [0.3333333333333333, \"#9c179e\"], [0.4444444444444444, \"#bd3786\"], [0.5555555555555556, \"#d8576b\"], [0.6666666666666666, \"#ed7953\"], [0.7777777777777778, \"#fb9f3a\"], [0.8888888888888888, \"#fdca26\"], [1.0, \"#f0f921\"]], \"type\": \"surface\"}], \"table\": [{\"cells\": {\"fill\": {\"color\": \"#EBF0F8\"}, \"line\": {\"color\": \"white\"}}, \"header\": {\"fill\": {\"color\": \"#C8D4E3\"}, \"line\": {\"color\": \"white\"}}, \"type\": \"table\"}]}, \"layout\": {\"annotationdefaults\": {\"arrowcolor\": \"#2a3f5f\", \"arrowhead\": 0, \"arrowwidth\": 1}, \"coloraxis\": {\"colorbar\": {\"outlinewidth\": 0, \"ticks\": \"\"}}, \"colorscale\": {\"diverging\": [[0, \"#8e0152\"], [0.1, \"#c51b7d\"], [0.2, \"#de77ae\"], [0.3, \"#f1b6da\"], [0.4, \"#fde0ef\"], [0.5, \"#f7f7f7\"], [0.6, \"#e6f5d0\"], [0.7, \"#b8e186\"], [0.8, \"#7fbc41\"], [0.9, \"#4d9221\"], [1, \"#276419\"]], \"sequential\": [[0.0, \"#0d0887\"], [0.1111111111111111, \"#46039f\"], [0.2222222222222222, \"#7201a8\"], [0.3333333333333333, \"#9c179e\"], [0.4444444444444444, \"#bd3786\"], [0.5555555555555556, \"#d8576b\"], [0.6666666666666666, \"#ed7953\"], [0.7777777777777778, \"#fb9f3a\"], [0.8888888888888888, \"#fdca26\"], [1.0, \"#f0f921\"]], \"sequentialminus\": [[0.0, \"#0d0887\"], [0.1111111111111111, \"#46039f\"], [0.2222222222222222, \"#7201a8\"], [0.3333333333333333, \"#9c179e\"], [0.4444444444444444, \"#bd3786\"], [0.5555555555555556, \"#d8576b\"], [0.6666666666666666, \"#ed7953\"], [0.7777777777777778, \"#fb9f3a\"], [0.8888888888888888, \"#fdca26\"], [1.0, \"#f0f921\"]]}, \"colorway\": [\"#636efa\", \"#EF553B\", \"#00cc96\", \"#ab63fa\", \"#FFA15A\", \"#19d3f3\", \"#FF6692\", \"#B6E880\", \"#FF97FF\", \"#FECB52\"], \"font\": {\"color\": \"#2a3f5f\"}, \"geo\": {\"bgcolor\": \"white\", \"lakecolor\": \"white\", \"landcolor\": \"#E5ECF6\", \"showlakes\": true, \"showland\": true, \"subunitcolor\": \"white\"}, \"hoverlabel\": {\"align\": \"left\"}, \"hovermode\": \"closest\", \"mapbox\": {\"style\": \"light\"}, \"paper_bgcolor\": \"white\", \"plot_bgcolor\": \"#E5ECF6\", \"polar\": {\"angularaxis\": {\"gridcolor\": \"white\", \"linecolor\": \"white\", \"ticks\": \"\"}, \"bgcolor\": \"#E5ECF6\", \"radialaxis\": {\"gridcolor\": \"white\", \"linecolor\": \"white\", \"ticks\": \"\"}}, \"scene\": {\"xaxis\": {\"backgroundcolor\": \"#E5ECF6\", \"gridcolor\": \"white\", \"gridwidth\": 2, \"linecolor\": \"white\", \"showbackground\": true, \"ticks\": \"\", \"zerolinecolor\": \"white\"}, \"yaxis\": {\"backgroundcolor\": \"#E5ECF6\", \"gridcolor\": \"white\", \"gridwidth\": 2, \"linecolor\": \"white\", \"showbackground\": true, \"ticks\": \"\", \"zerolinecolor\": \"white\"}, \"zaxis\": {\"backgroundcolor\": \"#E5ECF6\", \"gridcolor\": \"white\", \"gridwidth\": 2, \"linecolor\": \"white\", \"showbackground\": true, \"ticks\": \"\", \"zerolinecolor\": \"white\"}}, \"shapedefaults\": {\"line\": {\"color\": \"#2a3f5f\"}}, \"ternary\": {\"aaxis\": {\"gridcolor\": \"white\", \"linecolor\": \"white\", \"ticks\": \"\"}, \"baxis\": {\"gridcolor\": \"white\", \"linecolor\": \"white\", \"ticks\": \"\"}, \"bgcolor\": \"#E5ECF6\", \"caxis\": {\"gridcolor\": \"white\", \"linecolor\": \"white\", \"ticks\": \"\"}}, \"title\": {\"x\": 0.05}, \"xaxis\": {\"automargin\": true, \"gridcolor\": \"white\", \"linecolor\": \"white\", \"ticks\": \"\", \"title\": {\"standoff\": 15}, \"zerolinecolor\": \"white\", \"zerolinewidth\": 2}, \"yaxis\": {\"automargin\": true, \"gridcolor\": \"white\", \"linecolor\": \"white\", \"ticks\": \"\", \"title\": {\"standoff\": 15}, \"zerolinecolor\": \"white\", \"zerolinewidth\": 2}}}, \"title\": {\"text\": \"Total Club Influence in the Hodack region\"}, \"xaxis\": {\"anchor\": \"y\", \"domain\": [0.0, 1.0], \"title\": {\"text\": \"Day\"}}, \"yaxis\": {\"anchor\": \"x\", \"domain\": [0.0, 1.0], \"title\": {\"text\": \"Total Influence\"}}},\n",
              "                        {\"responsive\": true}\n",
              "                    ).then(function(){\n",
              "                            \n",
              "var gd = document.getElementById('056d2bd0-3125-4267-985b-3fbfd755f4c5');\n",
              "var x = new MutationObserver(function (mutations, observer) {{\n",
              "        var display = window.getComputedStyle(gd).display;\n",
              "        if (!display || display === 'none') {{\n",
              "            console.log([gd, 'removed!']);\n",
              "            Plotly.purge(gd);\n",
              "            observer.disconnect();\n",
              "        }}\n",
              "}});\n",
              "\n",
              "// Listen for the removal of the full notebook cells\n",
              "var notebookContainer = gd.closest('#notebook-container');\n",
              "if (notebookContainer) {{\n",
              "    x.observe(notebookContainer, {childList: true});\n",
              "}}\n",
              "\n",
              "// Listen for the clearing of the current output cell\n",
              "var outputEl = gd.closest('.output');\n",
              "if (outputEl) {{\n",
              "    x.observe(outputEl, {childList: true});\n",
              "}}\n",
              "\n",
              "                        })\n",
              "                };\n",
              "                \n",
              "            </script>\n",
              "        </div>\n",
              "</body>\n",
              "</html>"
            ]
          },
          "metadata": {
            "tags": []
          }
        }
      ]
    },
    {
      "cell_type": "code",
      "metadata": {
        "id": "fJHv8Amgnh2P",
        "colab_type": "code",
        "colab": {
          "base_uri": "https://localhost:8080/",
          "height": 542
        },
        "outputId": "0bb9a607-2c8d-4bb3-a9b2-fe8634a730e1"
      },
      "source": [
        "\n",
        "dates = []\n",
        "inf = []\n",
        "\n",
        "start_date = date(2018, 5, 15)\n",
        "daily_date = date(2020,5,30)\n",
        "end_date = date.today() + timedelta(days=1) \n",
        "\n",
        "dframe = csa\n",
        "regionNames = list(RegionFactory.regionDict.keys())\n",
        "regionName = regionNames[region]\n",
        "title = f\"Total Club Influence\"\n",
        "\n",
        "single_date = start_date\n",
        "while single_date <= end_date:\n",
        "    theDate = single_date.strftime(\"%Y-%m-%d\")\n",
        "    dated = dframe [ dframe['updated']<= theDate]\n",
        "\n",
        "    stage1 = dated.loc[dated.groupby(['faction','system']).updated.idxmax()]\n",
        "    stage3 = stage1[['system','faction','influence']].groupby('faction').influence.sum().reset_index()\n",
        "    theInf = stage3.influence.sum()\n",
        "    dates.append(theDate)\n",
        "    inf.append(theInf)\n",
        "    if(single_date<daily_date):\n",
        "      single_date = single_date + relativedelta(months=1)\n",
        "    else:\n",
        "      single_date = single_date + relativedelta(days=1)\n",
        "\n",
        "labels = {'x':'Day', 'y':\"Total Influence\"}\n",
        "fig = px.line(x=dates, y=inf, title=title, labels=labels)\n",
        "fig.show()"
      ],
      "execution_count": 15,
      "outputs": [
        {
          "output_type": "display_data",
          "data": {
            "text/html": [
              "<html>\n",
              "<head><meta charset=\"utf-8\" /></head>\n",
              "<body>\n",
              "    <div>\n",
              "            <script src=\"https://cdnjs.cloudflare.com/ajax/libs/mathjax/2.7.5/MathJax.js?config=TeX-AMS-MML_SVG\"></script><script type=\"text/javascript\">if (window.MathJax) {MathJax.Hub.Config({SVG: {font: \"STIX-Web\"}});}</script>\n",
              "                <script type=\"text/javascript\">window.PlotlyConfig = {MathJaxConfig: 'local'};</script>\n",
              "        <script src=\"https://cdn.plot.ly/plotly-latest.min.js\"></script>    \n",
              "            <div id=\"d33ff9c1-7023-4081-a315-6f4451cb31e6\" class=\"plotly-graph-div\" style=\"height:525px; width:100%;\"></div>\n",
              "            <script type=\"text/javascript\">\n",
              "                \n",
              "                    window.PLOTLYENV=window.PLOTLYENV || {};\n",
              "                    \n",
              "                if (document.getElementById(\"d33ff9c1-7023-4081-a315-6f4451cb31e6\")) {\n",
              "                    Plotly.newPlot(\n",
              "                        'd33ff9c1-7023-4081-a315-6f4451cb31e6',\n",
              "                        [{\"hovertemplate\": \"Day=%{x}<br>Total Influence=%{y}<extra></extra>\", \"legendgroup\": \"\", \"line\": {\"color\": \"#636efa\", \"dash\": \"solid\"}, \"mode\": \"lines\", \"name\": \"\", \"orientation\": \"v\", \"showlegend\": false, \"type\": \"scatter\", \"x\": [\"2018-05-15\", \"2018-06-15\", \"2018-07-15\", \"2018-08-15\", \"2018-09-15\", \"2018-10-15\", \"2018-11-15\", \"2018-12-15\", \"2019-01-15\", \"2019-02-15\", \"2019-03-15\", \"2019-04-15\", \"2019-05-15\", \"2019-06-15\", \"2019-07-15\", \"2019-08-15\", \"2019-09-15\", \"2019-10-15\", \"2019-11-15\", \"2019-12-15\", \"2020-01-15\", \"2020-02-15\", \"2020-03-15\", \"2020-04-15\", \"2020-05-15\", \"2020-06-15\", \"2020-06-16\", \"2020-06-17\", \"2020-06-18\", \"2020-06-19\", \"2020-06-20\", \"2020-06-21\", \"2020-06-22\", \"2020-06-23\", \"2020-06-24\", \"2020-06-25\", \"2020-06-26\", \"2020-06-27\", \"2020-06-28\", \"2020-06-29\", \"2020-06-30\", \"2020-07-01\", \"2020-07-02\", \"2020-07-03\", \"2020-07-04\", \"2020-07-05\", \"2020-07-06\", \"2020-07-07\", \"2020-07-08\"], \"xaxis\": \"x\", \"y\": [2730.7139127380947, 3231.872739047619, 3234.307732976191, 3451.7446353174605, 3611.9680879365083, 3549.6024685101015, 3547.890569960318, 3657.8227787794717, 3782.0981043310694, 4105.1369965539825, 4286.5018038177395, 4293.387896747801, 4359.447285259836, 4309.458464876088, 4276.527360781211, 4325.770388915122, 4219.193783681777, 4262.957536955575, 4331.904843435176, 4247.288555385935, 4401.680257067646, 4237.844169277118, 4143.691173856246, 4200.5330250550305, 4117.244434862367, 4276.878899040681, 4272.899399040682, 4281.643699040682, 4272.179299040682, 4274.0935990406815, 4290.130599040682, 4324.092199040682, 4303.532599040682, 4346.765699040681, 4367.617299040682, 4375.064599040681, 4380.111099040681, 4378.662299040681, 4374.615299040682, 4359.881999040681, 4347.677399040682, 4343.8147990406815, 4325.331599040682, 4350.6466990406825, 4355.034399040682, 4353.698399040681, 4322.222099040682, 4292.034199040681, 4292.034199040681], \"yaxis\": \"y\"}],\n",
              "                        {\"legend\": {\"tracegroupgap\": 0}, \"template\": {\"data\": {\"bar\": [{\"error_x\": {\"color\": \"#2a3f5f\"}, \"error_y\": {\"color\": \"#2a3f5f\"}, \"marker\": {\"line\": {\"color\": \"#E5ECF6\", \"width\": 0.5}}, \"type\": \"bar\"}], \"barpolar\": [{\"marker\": {\"line\": {\"color\": \"#E5ECF6\", \"width\": 0.5}}, \"type\": \"barpolar\"}], \"carpet\": [{\"aaxis\": {\"endlinecolor\": \"#2a3f5f\", \"gridcolor\": \"white\", \"linecolor\": \"white\", \"minorgridcolor\": \"white\", \"startlinecolor\": \"#2a3f5f\"}, \"baxis\": {\"endlinecolor\": \"#2a3f5f\", \"gridcolor\": \"white\", \"linecolor\": \"white\", \"minorgridcolor\": \"white\", \"startlinecolor\": \"#2a3f5f\"}, \"type\": \"carpet\"}], \"choropleth\": [{\"colorbar\": {\"outlinewidth\": 0, \"ticks\": \"\"}, \"type\": \"choropleth\"}], \"contour\": [{\"colorbar\": {\"outlinewidth\": 0, \"ticks\": \"\"}, \"colorscale\": [[0.0, \"#0d0887\"], [0.1111111111111111, \"#46039f\"], [0.2222222222222222, \"#7201a8\"], [0.3333333333333333, \"#9c179e\"], [0.4444444444444444, \"#bd3786\"], [0.5555555555555556, \"#d8576b\"], [0.6666666666666666, \"#ed7953\"], [0.7777777777777778, \"#fb9f3a\"], [0.8888888888888888, \"#fdca26\"], [1.0, \"#f0f921\"]], \"type\": \"contour\"}], \"contourcarpet\": [{\"colorbar\": {\"outlinewidth\": 0, \"ticks\": \"\"}, \"type\": \"contourcarpet\"}], \"heatmap\": [{\"colorbar\": {\"outlinewidth\": 0, \"ticks\": \"\"}, \"colorscale\": [[0.0, \"#0d0887\"], [0.1111111111111111, \"#46039f\"], [0.2222222222222222, \"#7201a8\"], [0.3333333333333333, \"#9c179e\"], [0.4444444444444444, \"#bd3786\"], [0.5555555555555556, \"#d8576b\"], [0.6666666666666666, \"#ed7953\"], [0.7777777777777778, \"#fb9f3a\"], [0.8888888888888888, \"#fdca26\"], [1.0, \"#f0f921\"]], \"type\": \"heatmap\"}], \"heatmapgl\": [{\"colorbar\": {\"outlinewidth\": 0, \"ticks\": \"\"}, \"colorscale\": [[0.0, \"#0d0887\"], [0.1111111111111111, \"#46039f\"], [0.2222222222222222, \"#7201a8\"], [0.3333333333333333, \"#9c179e\"], [0.4444444444444444, \"#bd3786\"], [0.5555555555555556, \"#d8576b\"], [0.6666666666666666, \"#ed7953\"], [0.7777777777777778, \"#fb9f3a\"], [0.8888888888888888, \"#fdca26\"], [1.0, \"#f0f921\"]], \"type\": \"heatmapgl\"}], \"histogram\": [{\"marker\": {\"colorbar\": {\"outlinewidth\": 0, \"ticks\": \"\"}}, \"type\": \"histogram\"}], \"histogram2d\": [{\"colorbar\": {\"outlinewidth\": 0, \"ticks\": \"\"}, \"colorscale\": [[0.0, \"#0d0887\"], [0.1111111111111111, \"#46039f\"], [0.2222222222222222, \"#7201a8\"], [0.3333333333333333, \"#9c179e\"], [0.4444444444444444, \"#bd3786\"], [0.5555555555555556, \"#d8576b\"], [0.6666666666666666, \"#ed7953\"], [0.7777777777777778, \"#fb9f3a\"], [0.8888888888888888, \"#fdca26\"], [1.0, \"#f0f921\"]], \"type\": \"histogram2d\"}], \"histogram2dcontour\": [{\"colorbar\": {\"outlinewidth\": 0, \"ticks\": \"\"}, \"colorscale\": [[0.0, \"#0d0887\"], [0.1111111111111111, \"#46039f\"], [0.2222222222222222, \"#7201a8\"], [0.3333333333333333, \"#9c179e\"], [0.4444444444444444, \"#bd3786\"], [0.5555555555555556, \"#d8576b\"], [0.6666666666666666, \"#ed7953\"], [0.7777777777777778, \"#fb9f3a\"], [0.8888888888888888, \"#fdca26\"], [1.0, \"#f0f921\"]], \"type\": \"histogram2dcontour\"}], \"mesh3d\": [{\"colorbar\": {\"outlinewidth\": 0, \"ticks\": \"\"}, \"type\": \"mesh3d\"}], \"parcoords\": [{\"line\": {\"colorbar\": {\"outlinewidth\": 0, \"ticks\": \"\"}}, \"type\": \"parcoords\"}], \"pie\": [{\"automargin\": true, \"type\": \"pie\"}], \"scatter\": [{\"marker\": {\"colorbar\": {\"outlinewidth\": 0, \"ticks\": \"\"}}, \"type\": \"scatter\"}], \"scatter3d\": [{\"line\": {\"colorbar\": {\"outlinewidth\": 0, \"ticks\": \"\"}}, \"marker\": {\"colorbar\": {\"outlinewidth\": 0, \"ticks\": \"\"}}, \"type\": \"scatter3d\"}], \"scattercarpet\": [{\"marker\": {\"colorbar\": {\"outlinewidth\": 0, \"ticks\": \"\"}}, \"type\": \"scattercarpet\"}], \"scattergeo\": [{\"marker\": {\"colorbar\": {\"outlinewidth\": 0, \"ticks\": \"\"}}, \"type\": \"scattergeo\"}], \"scattergl\": [{\"marker\": {\"colorbar\": {\"outlinewidth\": 0, \"ticks\": \"\"}}, \"type\": \"scattergl\"}], \"scattermapbox\": [{\"marker\": {\"colorbar\": {\"outlinewidth\": 0, \"ticks\": \"\"}}, \"type\": \"scattermapbox\"}], \"scatterpolar\": [{\"marker\": {\"colorbar\": {\"outlinewidth\": 0, \"ticks\": \"\"}}, \"type\": \"scatterpolar\"}], \"scatterpolargl\": [{\"marker\": {\"colorbar\": {\"outlinewidth\": 0, \"ticks\": \"\"}}, \"type\": \"scatterpolargl\"}], \"scatterternary\": [{\"marker\": {\"colorbar\": {\"outlinewidth\": 0, \"ticks\": \"\"}}, \"type\": \"scatterternary\"}], \"surface\": [{\"colorbar\": {\"outlinewidth\": 0, \"ticks\": \"\"}, \"colorscale\": [[0.0, \"#0d0887\"], [0.1111111111111111, \"#46039f\"], [0.2222222222222222, \"#7201a8\"], [0.3333333333333333, \"#9c179e\"], [0.4444444444444444, \"#bd3786\"], [0.5555555555555556, \"#d8576b\"], [0.6666666666666666, \"#ed7953\"], [0.7777777777777778, \"#fb9f3a\"], [0.8888888888888888, \"#fdca26\"], [1.0, \"#f0f921\"]], \"type\": \"surface\"}], \"table\": [{\"cells\": {\"fill\": {\"color\": \"#EBF0F8\"}, \"line\": {\"color\": \"white\"}}, \"header\": {\"fill\": {\"color\": \"#C8D4E3\"}, \"line\": {\"color\": \"white\"}}, \"type\": \"table\"}]}, \"layout\": {\"annotationdefaults\": {\"arrowcolor\": \"#2a3f5f\", \"arrowhead\": 0, \"arrowwidth\": 1}, \"coloraxis\": {\"colorbar\": {\"outlinewidth\": 0, \"ticks\": \"\"}}, \"colorscale\": {\"diverging\": [[0, \"#8e0152\"], [0.1, \"#c51b7d\"], [0.2, \"#de77ae\"], [0.3, \"#f1b6da\"], [0.4, \"#fde0ef\"], [0.5, \"#f7f7f7\"], [0.6, \"#e6f5d0\"], [0.7, \"#b8e186\"], [0.8, \"#7fbc41\"], [0.9, \"#4d9221\"], [1, \"#276419\"]], \"sequential\": [[0.0, \"#0d0887\"], [0.1111111111111111, \"#46039f\"], [0.2222222222222222, \"#7201a8\"], [0.3333333333333333, \"#9c179e\"], [0.4444444444444444, \"#bd3786\"], [0.5555555555555556, \"#d8576b\"], [0.6666666666666666, \"#ed7953\"], [0.7777777777777778, \"#fb9f3a\"], [0.8888888888888888, \"#fdca26\"], [1.0, \"#f0f921\"]], \"sequentialminus\": [[0.0, \"#0d0887\"], [0.1111111111111111, \"#46039f\"], [0.2222222222222222, \"#7201a8\"], [0.3333333333333333, \"#9c179e\"], [0.4444444444444444, \"#bd3786\"], [0.5555555555555556, \"#d8576b\"], [0.6666666666666666, \"#ed7953\"], [0.7777777777777778, \"#fb9f3a\"], [0.8888888888888888, \"#fdca26\"], [1.0, \"#f0f921\"]]}, \"colorway\": [\"#636efa\", \"#EF553B\", \"#00cc96\", \"#ab63fa\", \"#FFA15A\", \"#19d3f3\", \"#FF6692\", \"#B6E880\", \"#FF97FF\", \"#FECB52\"], \"font\": {\"color\": \"#2a3f5f\"}, \"geo\": {\"bgcolor\": \"white\", \"lakecolor\": \"white\", \"landcolor\": \"#E5ECF6\", \"showlakes\": true, \"showland\": true, \"subunitcolor\": \"white\"}, \"hoverlabel\": {\"align\": \"left\"}, \"hovermode\": \"closest\", \"mapbox\": {\"style\": \"light\"}, \"paper_bgcolor\": \"white\", \"plot_bgcolor\": \"#E5ECF6\", \"polar\": {\"angularaxis\": {\"gridcolor\": \"white\", \"linecolor\": \"white\", \"ticks\": \"\"}, \"bgcolor\": \"#E5ECF6\", \"radialaxis\": {\"gridcolor\": \"white\", \"linecolor\": \"white\", \"ticks\": \"\"}}, \"scene\": {\"xaxis\": {\"backgroundcolor\": \"#E5ECF6\", \"gridcolor\": \"white\", \"gridwidth\": 2, \"linecolor\": \"white\", \"showbackground\": true, \"ticks\": \"\", \"zerolinecolor\": \"white\"}, \"yaxis\": {\"backgroundcolor\": \"#E5ECF6\", \"gridcolor\": \"white\", \"gridwidth\": 2, \"linecolor\": \"white\", \"showbackground\": true, \"ticks\": \"\", \"zerolinecolor\": \"white\"}, \"zaxis\": {\"backgroundcolor\": \"#E5ECF6\", \"gridcolor\": \"white\", \"gridwidth\": 2, \"linecolor\": \"white\", \"showbackground\": true, \"ticks\": \"\", \"zerolinecolor\": \"white\"}}, \"shapedefaults\": {\"line\": {\"color\": \"#2a3f5f\"}}, \"ternary\": {\"aaxis\": {\"gridcolor\": \"white\", \"linecolor\": \"white\", \"ticks\": \"\"}, \"baxis\": {\"gridcolor\": \"white\", \"linecolor\": \"white\", \"ticks\": \"\"}, \"bgcolor\": \"#E5ECF6\", \"caxis\": {\"gridcolor\": \"white\", \"linecolor\": \"white\", \"ticks\": \"\"}}, \"title\": {\"x\": 0.05}, \"xaxis\": {\"automargin\": true, \"gridcolor\": \"white\", \"linecolor\": \"white\", \"ticks\": \"\", \"title\": {\"standoff\": 15}, \"zerolinecolor\": \"white\", \"zerolinewidth\": 2}, \"yaxis\": {\"automargin\": true, \"gridcolor\": \"white\", \"linecolor\": \"white\", \"ticks\": \"\", \"title\": {\"standoff\": 15}, \"zerolinecolor\": \"white\", \"zerolinewidth\": 2}}}, \"title\": {\"text\": \"Total Club Influence\"}, \"xaxis\": {\"anchor\": \"y\", \"domain\": [0.0, 1.0], \"title\": {\"text\": \"Day\"}}, \"yaxis\": {\"anchor\": \"x\", \"domain\": [0.0, 1.0], \"title\": {\"text\": \"Total Influence\"}}},\n",
              "                        {\"responsive\": true}\n",
              "                    ).then(function(){\n",
              "                            \n",
              "var gd = document.getElementById('d33ff9c1-7023-4081-a315-6f4451cb31e6');\n",
              "var x = new MutationObserver(function (mutations, observer) {{\n",
              "        var display = window.getComputedStyle(gd).display;\n",
              "        if (!display || display === 'none') {{\n",
              "            console.log([gd, 'removed!']);\n",
              "            Plotly.purge(gd);\n",
              "            observer.disconnect();\n",
              "        }}\n",
              "}});\n",
              "\n",
              "// Listen for the removal of the full notebook cells\n",
              "var notebookContainer = gd.closest('#notebook-container');\n",
              "if (notebookContainer) {{\n",
              "    x.observe(notebookContainer, {childList: true});\n",
              "}}\n",
              "\n",
              "// Listen for the clearing of the current output cell\n",
              "var outputEl = gd.closest('.output');\n",
              "if (outputEl) {{\n",
              "    x.observe(outputEl, {childList: true});\n",
              "}}\n",
              "\n",
              "                        })\n",
              "                };\n",
              "                \n",
              "            </script>\n",
              "        </div>\n",
              "</body>\n",
              "</html>"
            ]
          },
          "metadata": {
            "tags": []
          }
        }
      ]
    },
    {
      "cell_type": "code",
      "metadata": {
        "id": "BM1nXkqY2M5s",
        "colab_type": "code",
        "colab": {}
      },
      "source": [
        "dates = []\n",
        "inf = []\n",
        "\n",
        "faction = \"Sirius Corporation\"\n",
        "faction = \"Hodack Prison Colony\"\n",
        "faction = \"Wreaken Construction\"\n",
        "#faction = \"'Sirius Drives'\"\n",
        "faction = \"Aegis Core\"\n",
        "#faction = \"Aegis Research\"\n",
        "#faction = \"Bill Turner\"\n",
        "\n",
        "start_date = date(2018, 5, 15)\n",
        "daily_date = date(2020,5,30)\n",
        "end_date = date.today() + timedelta(days=1) #date(2020, 6, 28)\n",
        "\n",
        "\n",
        "dframe = csa[ csa['faction'] == faction]\n",
        "regionNames = list(craid.club.regions.RegionFactory.RegionFactory.regionDict.keys())\n",
        "regionName = regionNames[region]\n",
        "title = f\"Total Influence of the {faction} Faction\"\n",
        "\n",
        "single_date = start_date\n",
        "while single_date <= end_date:\n",
        "    theDate = single_date.strftime(\"%Y-%m-%d\")\n",
        "    dated = dframe [ dframe['updated']<= theDate]\n",
        "\n",
        "    stage1 = dated.loc[dated.groupby(['faction','system']).updated.idxmax()]\n",
        "    stage3 = stage1[['system','faction','influence']].groupby('faction').influence.sum().reset_index()\n",
        "    theInf = stage3.influence.sum()\n",
        "    dates.append(theDate)\n",
        "    inf.append(theInf)\n",
        "    if(single_date<daily_date):\n",
        "      single_date = single_date + relativedelta(months=1)\n",
        "    else:\n",
        "      single_date = single_date + relativedelta(days=1)\n",
        "\n",
        "\n",
        "labels = {'x':'Day', 'y':\"Total Influence\"}\n",
        "fig = px.line(x=dates, y=inf, title=title, labels=labels)\n",
        "fig.show()"
      ],
      "execution_count": null,
      "outputs": []
    },
    {
      "cell_type": "code",
      "metadata": {
        "id": "v62TZZBCbkI1",
        "colab_type": "code",
        "colab": {}
      },
      "source": [
        "badGuys = ['Abroin Universal PLC', 'Aegis Core', 'Aegis Research',\n",
        "       \"Benton's Gang\", 'Bentonian Party', 'CQC Holdings',\n",
        "       'Gallant Investment Brokers', 'Hodack Prison Colony',\n",
        "       'Janus Incorporated', \"Namarii Emperor's Dawn\", 'Reyan BPS',\n",
        "       'Reynhardt IntelliSys', 'Sirius Atmospherics', 'Sirius Catering',\n",
        "       'Sirius Corporation', 'Sirius Drives', 'Sirius Hot2Cold',\n",
        "       'Sirius Hyperspace', 'Sirius Industrial',\n",
        "       'Sirius Luxury Transports', 'Sirius Mining Merope',\n",
        "       'Sirius Mining', 'Sirius Power', 'The Greenventure Group',\n",
        "       'The Peterson Group', 'The Rockforth Corporation',\n",
        "       'Turner Research Group', 'Wiggins Development Trust',\n",
        "       'Worster Insurance', 'Wreaken Construction', 'Bill Turner',\n",
        "       'Aegis Defense']"
      ],
      "execution_count": null,
      "outputs": []
    },
    {
      "cell_type": "code",
      "metadata": {
        "id": "79APvPf9ImkN",
        "colab_type": "code",
        "colab": {
          "base_uri": "https://localhost:8080/",
          "height": 34
        },
        "outputId": "99215456-5ada-475b-d6c9-2e4636ff5cf8"
      },
      "source": [
        "a = csa['faction'].unique().tolist()\n",
        "b = baseFrame['factionName'].unique().tolist()\n",
        "aa = set(a)\n",
        "bb = set(b)\n",
        "bb-aa"
      ],
      "execution_count": 16,
      "outputs": [
        {
          "output_type": "execute_result",
          "data": {
            "text/plain": [
              "set()"
            ]
          },
          "metadata": {
            "tags": []
          },
          "execution_count": 16
        }
      ]
    },
    {
      "cell_type": "code",
      "metadata": {
        "id": "E9N8kxFyIxFL",
        "colab_type": "code",
        "colab": {
          "base_uri": "https://localhost:8080/",
          "height": 231
        },
        "outputId": "3344f69f-bbd3-4a92-9d19-4840b37d6d37"
      },
      "source": [
        "dates = []\n",
        "inf = []\n",
        "\n",
        "faction = \"Combined Wreaken and Hodack\"\n",
        "faction1 = \"Wreaken Construction\"\n",
        "faction2 = \"Hodack Prison Colony\"\n",
        "\n",
        "start_date = date(2018, 5, 15)\n",
        "daily_date = date(2020,5,30)\n",
        "end_date = date.today() + timedelta(days=1) #date(2020, 6, 28)\n",
        "\n",
        "\n",
        "dframe = csa[ (csa['faction'] == faction1) | (csa['faction'] == faction2) ]\n",
        "regionNames = list(craid.club.regions.RegionFactory.RegionFactory.regionDict.keys())\n",
        "regionName = regionNames[region]\n",
        "title = f\"Total Influence of the {faction} Faction\"\n",
        "\n",
        "single_date = start_date\n",
        "while single_date <= end_date:\n",
        "    theDate = single_date.strftime(\"%Y-%m-%d\")\n",
        "    dated = dframe [ dframe['updated']<= theDate]\n",
        "\n",
        "    stage1 = dated.loc[dated.groupby(['faction','system']).updated.idxmax()]\n",
        "    stage3 = stage1[['system','faction','influence']].groupby('faction').influence.sum().reset_index()\n",
        "    theInf = stage3.influence.sum()\n",
        "    dates.append(theDate)\n",
        "    inf.append(theInf)\n",
        "    if(single_date<daily_date):\n",
        "      single_date = single_date + relativedelta(months=1)\n",
        "    else:\n",
        "      single_date = single_date + relativedelta(days=1)\n",
        "\n",
        "\n",
        "labels = {'x':'Day', 'y':\"Total Influence\"}\n",
        "fig = px.line(x=dates, y=inf, title=title, labels=labels)\n",
        "fig.show()"
      ],
      "execution_count": 17,
      "outputs": [
        {
          "output_type": "error",
          "ename": "NameError",
          "evalue": "ignored",
          "traceback": [
            "\u001b[0;31m---------------------------------------------------------------------------\u001b[0m",
            "\u001b[0;31mNameError\u001b[0m                                 Traceback (most recent call last)",
            "\u001b[0;32m<ipython-input-17-a3b2d6c48fab>\u001b[0m in \u001b[0;36m<module>\u001b[0;34m()\u001b[0m\n\u001b[1;32m     12\u001b[0m \u001b[0;34m\u001b[0m\u001b[0m\n\u001b[1;32m     13\u001b[0m \u001b[0mdframe\u001b[0m \u001b[0;34m=\u001b[0m \u001b[0mcsa\u001b[0m\u001b[0;34m[\u001b[0m \u001b[0;34m(\u001b[0m\u001b[0mcsa\u001b[0m\u001b[0;34m[\u001b[0m\u001b[0;34m'faction'\u001b[0m\u001b[0;34m]\u001b[0m \u001b[0;34m==\u001b[0m \u001b[0mfaction1\u001b[0m\u001b[0;34m)\u001b[0m \u001b[0;34m|\u001b[0m \u001b[0;34m(\u001b[0m\u001b[0mcsa\u001b[0m\u001b[0;34m[\u001b[0m\u001b[0;34m'faction'\u001b[0m\u001b[0;34m]\u001b[0m \u001b[0;34m==\u001b[0m \u001b[0mfaction2\u001b[0m\u001b[0;34m)\u001b[0m \u001b[0;34m]\u001b[0m\u001b[0;34m\u001b[0m\u001b[0;34m\u001b[0m\u001b[0m\n\u001b[0;32m---> 14\u001b[0;31m \u001b[0mregionNames\u001b[0m \u001b[0;34m=\u001b[0m \u001b[0mlist\u001b[0m\u001b[0;34m(\u001b[0m\u001b[0mcraid\u001b[0m\u001b[0;34m.\u001b[0m\u001b[0mclub\u001b[0m\u001b[0;34m.\u001b[0m\u001b[0mregions\u001b[0m\u001b[0;34m.\u001b[0m\u001b[0mRegionFactory\u001b[0m\u001b[0;34m.\u001b[0m\u001b[0mRegionFactory\u001b[0m\u001b[0;34m.\u001b[0m\u001b[0mregionDict\u001b[0m\u001b[0;34m.\u001b[0m\u001b[0mkeys\u001b[0m\u001b[0;34m(\u001b[0m\u001b[0;34m)\u001b[0m\u001b[0;34m)\u001b[0m\u001b[0;34m\u001b[0m\u001b[0;34m\u001b[0m\u001b[0m\n\u001b[0m\u001b[1;32m     15\u001b[0m \u001b[0mregionName\u001b[0m \u001b[0;34m=\u001b[0m \u001b[0mregionNames\u001b[0m\u001b[0;34m[\u001b[0m\u001b[0mregion\u001b[0m\u001b[0;34m]\u001b[0m\u001b[0;34m\u001b[0m\u001b[0;34m\u001b[0m\u001b[0m\n\u001b[1;32m     16\u001b[0m \u001b[0mtitle\u001b[0m \u001b[0;34m=\u001b[0m \u001b[0;34mf\"Total Influence of the {faction} Faction\"\u001b[0m\u001b[0;34m\u001b[0m\u001b[0;34m\u001b[0m\u001b[0m\n",
            "\u001b[0;31mNameError\u001b[0m: name 'craid' is not defined"
          ]
        }
      ]
    },
    {
      "cell_type": "code",
      "metadata": {
        "id": "1Jn8B6aRDAov",
        "colab_type": "code",
        "colab": {
          "base_uri": "https://localhost:8080/",
          "height": 231
        },
        "outputId": "95a19571-8c8c-4de6-f661-356c2853f5aa"
      },
      "source": [
        "dates = []\n",
        "inf = []\n",
        "\n",
        "faction = \"Combined Sirius Factions\"\n",
        "faction1 = \"Sirius\"\n",
        "\n",
        "start_date = date(2018, 5, 15)\n",
        "daily_date = date(2020,5,30)\n",
        "end_date = date.today() + timedelta(days=1) #date(2020, 6, 28)\n",
        "\n",
        "\n",
        "dframe = csa[ (csa['faction'].str.contains(faction1)) ]\n",
        "regionNames = list(craid.club.regions.RegionFactory.RegionFactory.regionDict.keys())\n",
        "regionName = regionNames[region]\n",
        "title = f\"Total Influence of the {faction} Faction\"\n",
        "\n",
        "single_date = start_date\n",
        "while single_date <= end_date:\n",
        "    theDate = single_date.strftime(\"%Y-%m-%d\")\n",
        "    dated = dframe [ dframe['updated']<= theDate]\n",
        "\n",
        "    stage1 = dated.loc[dated.groupby(['faction','system']).updated.idxmax()]\n",
        "    stage3 = stage1[['system','faction','influence']].groupby('faction').influence.sum().reset_index()\n",
        "    theInf = stage3.influence.sum()\n",
        "    dates.append(theDate)\n",
        "    inf.append(theInf)\n",
        "    if(single_date<daily_date):\n",
        "      single_date = single_date + relativedelta(months=1)\n",
        "    else:\n",
        "      single_date = single_date + relativedelta(days=1)\n",
        "\n",
        "\n",
        "labels = {'x':'Day', 'y':\"Total Influence\"}\n",
        "fig = px.line(x=dates, y=inf, title=title, labels=labels)\n",
        "fig.show()"
      ],
      "execution_count": 18,
      "outputs": [
        {
          "output_type": "error",
          "ename": "NameError",
          "evalue": "ignored",
          "traceback": [
            "\u001b[0;31m---------------------------------------------------------------------------\u001b[0m",
            "\u001b[0;31mNameError\u001b[0m                                 Traceback (most recent call last)",
            "\u001b[0;32m<ipython-input-18-1bc6237300bb>\u001b[0m in \u001b[0;36m<module>\u001b[0;34m()\u001b[0m\n\u001b[1;32m     11\u001b[0m \u001b[0;34m\u001b[0m\u001b[0m\n\u001b[1;32m     12\u001b[0m \u001b[0mdframe\u001b[0m \u001b[0;34m=\u001b[0m \u001b[0mcsa\u001b[0m\u001b[0;34m[\u001b[0m \u001b[0;34m(\u001b[0m\u001b[0mcsa\u001b[0m\u001b[0;34m[\u001b[0m\u001b[0;34m'faction'\u001b[0m\u001b[0;34m]\u001b[0m\u001b[0;34m.\u001b[0m\u001b[0mstr\u001b[0m\u001b[0;34m.\u001b[0m\u001b[0mcontains\u001b[0m\u001b[0;34m(\u001b[0m\u001b[0mfaction1\u001b[0m\u001b[0;34m)\u001b[0m\u001b[0;34m)\u001b[0m \u001b[0;34m]\u001b[0m\u001b[0;34m\u001b[0m\u001b[0;34m\u001b[0m\u001b[0m\n\u001b[0;32m---> 13\u001b[0;31m \u001b[0mregionNames\u001b[0m \u001b[0;34m=\u001b[0m \u001b[0mlist\u001b[0m\u001b[0;34m(\u001b[0m\u001b[0mcraid\u001b[0m\u001b[0;34m.\u001b[0m\u001b[0mclub\u001b[0m\u001b[0;34m.\u001b[0m\u001b[0mregions\u001b[0m\u001b[0;34m.\u001b[0m\u001b[0mRegionFactory\u001b[0m\u001b[0;34m.\u001b[0m\u001b[0mRegionFactory\u001b[0m\u001b[0;34m.\u001b[0m\u001b[0mregionDict\u001b[0m\u001b[0;34m.\u001b[0m\u001b[0mkeys\u001b[0m\u001b[0;34m(\u001b[0m\u001b[0;34m)\u001b[0m\u001b[0;34m)\u001b[0m\u001b[0;34m\u001b[0m\u001b[0;34m\u001b[0m\u001b[0m\n\u001b[0m\u001b[1;32m     14\u001b[0m \u001b[0mregionName\u001b[0m \u001b[0;34m=\u001b[0m \u001b[0mregionNames\u001b[0m\u001b[0;34m[\u001b[0m\u001b[0mregion\u001b[0m\u001b[0;34m]\u001b[0m\u001b[0;34m\u001b[0m\u001b[0;34m\u001b[0m\u001b[0m\n\u001b[1;32m     15\u001b[0m \u001b[0mtitle\u001b[0m \u001b[0;34m=\u001b[0m \u001b[0;34mf\"Total Influence of the {faction} Faction\"\u001b[0m\u001b[0;34m\u001b[0m\u001b[0;34m\u001b[0m\u001b[0m\n",
            "\u001b[0;31mNameError\u001b[0m: name 'craid' is not defined"
          ]
        }
      ]
    },
    {
      "cell_type": "code",
      "metadata": {
        "id": "KJkrENFCvXeW",
        "colab_type": "code",
        "colab": {}
      },
      "source": [
        "def getSystemInfluenceGraph(sys: str):\n",
        "  ogun = target[ target['system']==sys]\n",
        "  a = ogun['faction'].unique().tolist()\n",
        "  fig = go.Figure()\n",
        "  for fac in a:\n",
        "    theSlice = ogun[ ogun['faction'] == fac].reset_index()\n",
        "    fig.add_trace(go.Scatter(x=theSlice['updated'], y=theSlice['influence'],\n",
        "                    mode='lines',\n",
        "                    name=fac))\n",
        "  return fig"
      ],
      "execution_count": 19,
      "outputs": []
    },
    {
      "cell_type": "code",
      "metadata": {
        "id": "7C3OZUqKuwgS",
        "colab_type": "code",
        "colab": {
          "base_uri": "https://localhost:8080/",
          "height": 542
        },
        "outputId": "53d05166-b90e-44b4-9d05-f5151311ba8a"
      },
      "source": [
        "# One System, handles Multiple Factions\n",
        "fig = getSystemInfluenceGraph(\"Celaeno\")\n",
        "fig.show()"
      ],
      "execution_count": 20,
      "outputs": [
        {
          "output_type": "display_data",
          "data": {
            "text/html": [
              "<html>\n",
              "<head><meta charset=\"utf-8\" /></head>\n",
              "<body>\n",
              "    <div>\n",
              "            <script src=\"https://cdnjs.cloudflare.com/ajax/libs/mathjax/2.7.5/MathJax.js?config=TeX-AMS-MML_SVG\"></script><script type=\"text/javascript\">if (window.MathJax) {MathJax.Hub.Config({SVG: {font: \"STIX-Web\"}});}</script>\n",
              "                <script type=\"text/javascript\">window.PlotlyConfig = {MathJaxConfig: 'local'};</script>\n",
              "        <script src=\"https://cdn.plot.ly/plotly-latest.min.js\"></script>    \n",
              "            <div id=\"5c089baf-bf3f-45e6-bf2c-641020ee6d9d\" class=\"plotly-graph-div\" style=\"height:525px; width:100%;\"></div>\n",
              "            <script type=\"text/javascript\">\n",
              "                \n",
              "                    window.PLOTLYENV=window.PLOTLYENV || {};\n",
              "                    \n",
              "                if (document.getElementById(\"5c089baf-bf3f-45e6-bf2c-641020ee6d9d\")) {\n",
              "                    Plotly.newPlot(\n",
              "                        '5c089baf-bf3f-45e6-bf2c-641020ee6d9d',\n",
              "                        [{\"mode\": \"lines\", \"name\": \"Aegis Research\", \"type\": \"scatter\", \"x\": [\"2018-05-01T00:00:00\", \"2018-06-01T00:00:00\", \"2018-07-01T00:00:00\", \"2018-08-01T00:00:00\", \"2018-09-01T00:00:00\", \"2018-10-01T00:00:00\", \"2018-11-01T00:00:00\", \"2018-12-01T00:00:00\", \"2019-01-01T00:00:00\", \"2019-02-01T00:00:00\", \"2019-03-01T00:00:00\", \"2019-04-01T00:00:00\", \"2019-05-01T00:00:00\", \"2019-06-01T00:00:00\", \"2019-07-01T00:00:00\", \"2019-08-01T00:00:00\", \"2019-09-01T00:00:00\", \"2019-10-01T00:00:00\", \"2019-11-01T00:00:00\", \"2019-12-01T00:00:00\", \"2020-01-01T00:00:00\", \"2020-02-01T00:00:00\", \"2020-03-01T00:00:00\", \"2020-04-01T00:00:00\", \"2020-05-01T00:00:00\", \"2020-06-15T00:00:00\", \"2020-06-15T00:00:00\", \"2020-06-17T00:00:00\", \"2020-06-18T00:00:00\", \"2020-06-19T00:00:00\", \"2020-06-20T00:00:00\", \"2020-06-21T00:00:00\", \"2020-06-21T00:00:00\", \"2020-06-23T00:00:00\", \"2020-06-24T00:00:00\", \"2020-06-25T00:00:00\", \"2020-06-26T00:00:00\", \"2020-06-26T00:00:00\", \"2020-06-28T00:00:00\", \"2020-06-29T00:00:00\", \"2020-06-30T00:00:00\", \"2020-06-30T00:00:00\", \"2020-07-02T00:00:00\", \"2020-07-03T00:00:00\", \"2020-07-04T00:00:00\", \"2020-07-05T00:00:00\", \"2020-07-06T00:00:00\", \"2020-07-07T00:00:00\", \"2020-07-07T00:00:00\"], \"y\": [23.274642857142858, 29.90814285714286, 4.684342857142857, 28.205442857142856, 26.4566625, 33.562375, 11.170242857142858, 7.517562499999999, 15.209788461538466, 14.752873333333325, 12.181099999999997, 11.980916666666666, 9.718928, 7.905917857142856, 7.401872413793106, 7.780995, 5.109345833333335, 5.854265000000002, 5.635123076923078, 6.217877777777778, 10.255363636363638, 7.208953333333334, 6.419716666666667, 7.227092307692306, 5.216829166666665, 1.0194, 1.0194, 1.7893, 1.9, 2.0, 2.7, 3.996, 3.996, 5.6943, 6.0939, 5.9536, 5.0968, 5.0968, 5.4545, 6.0143, 6.6933, 6.6933, 8.2917, 8.7912, 9.5808, 9.1908, 9.5808, 9.7902, 9.7902]}, {\"mode\": \"lines\", \"name\": \"Janus Incorporated\", \"type\": \"scatter\", \"x\": [\"2018-05-01T00:00:00\", \"2018-06-01T00:00:00\", \"2018-07-01T00:00:00\", \"2018-08-01T00:00:00\", \"2018-09-01T00:00:00\", \"2018-10-01T00:00:00\", \"2018-11-01T00:00:00\", \"2018-12-01T00:00:00\", \"2019-01-01T00:00:00\", \"2019-02-01T00:00:00\", \"2019-03-01T00:00:00\", \"2019-04-01T00:00:00\", \"2019-05-01T00:00:00\", \"2019-06-01T00:00:00\", \"2019-07-01T00:00:00\", \"2019-08-01T00:00:00\", \"2019-09-01T00:00:00\", \"2019-10-01T00:00:00\", \"2019-11-01T00:00:00\", \"2019-12-01T00:00:00\", \"2020-01-01T00:00:00\", \"2020-02-01T00:00:00\", \"2020-03-01T00:00:00\", \"2020-04-01T00:00:00\", \"2020-05-01T00:00:00\", \"2020-06-15T00:00:00\", \"2020-06-15T00:00:00\", \"2020-06-17T00:00:00\", \"2020-06-18T00:00:00\", \"2020-06-19T00:00:00\", \"2020-06-20T00:00:00\", \"2020-06-21T00:00:00\", \"2020-06-21T00:00:00\", \"2020-06-21T00:00:00\", \"2020-06-21T00:00:00\", \"2020-06-21T00:00:00\", \"2020-06-21T00:00:00\", \"2020-06-21T00:00:00\", \"2020-06-21T00:00:00\", \"2020-06-21T00:00:00\", \"2020-06-21T00:00:00\", \"2020-06-21T00:00:00\", \"2020-06-21T00:00:00\", \"2020-06-21T00:00:00\", \"2020-06-21T00:00:00\", \"2020-06-21T00:00:00\", \"2020-06-21T00:00:00\", \"2020-06-21T00:00:00\", \"2020-06-21T00:00:00\"], \"y\": [13.612483333333335, 14.50404285714286, 22.222357142857142, 8.759, 7.616714285714286, 9.732785714285713, 5.456542857142857, 5.962992307692307, 9.393136363636366, 6.983185714285715, 6.245877777777776, 7.789738461538462, 5.532120000000001, 7.084375000000001, 6.681121052631579, 6.417208333333334, 5.402383333333332, 5.590190909090909, 6.247216666666667, 6.8607700000000005, 9.198372727272726, 6.889312499999999, 7.357133333333333, 8.213525, 5.930960000000001, 1.0194, 1.0194, 1.6899000000000002, 2.0, 2.1, 2.0, 1.5984, 1.5984, 1.5984, 1.5984, 1.5984, 1.5984, 1.5984, 1.5984, 1.5984, 1.5984, 1.5984, 1.5984, 1.5984, 1.5984, 1.5984, 1.5984, 1.5984, 1.5984]}, {\"mode\": \"lines\", \"name\": \"Sirius Mining Merope\", \"type\": \"scatter\", \"x\": [\"2018-05-01T00:00:00\", \"2018-06-01T00:00:00\", \"2018-07-01T00:00:00\", \"2018-08-01T00:00:00\", \"2018-09-01T00:00:00\", \"2018-10-01T00:00:00\", \"2018-11-01T00:00:00\", \"2018-12-01T00:00:00\", \"2019-01-01T00:00:00\", \"2019-02-01T00:00:00\", \"2019-03-01T00:00:00\", \"2019-04-01T00:00:00\", \"2019-05-01T00:00:00\", \"2019-06-01T00:00:00\", \"2019-07-01T00:00:00\", \"2019-08-01T00:00:00\", \"2019-09-01T00:00:00\", \"2019-10-01T00:00:00\", \"2019-10-01T00:00:00\", \"2019-10-01T00:00:00\", \"2019-10-01T00:00:00\", \"2019-10-01T00:00:00\", \"2019-10-01T00:00:00\", \"2019-10-01T00:00:00\", \"2019-10-01T00:00:00\", \"2019-10-01T00:00:00\", \"2019-10-01T00:00:00\", \"2019-10-01T00:00:00\", \"2019-10-01T00:00:00\", \"2019-10-01T00:00:00\", \"2019-10-01T00:00:00\", \"2019-10-01T00:00:00\", \"2019-10-01T00:00:00\", \"2019-10-01T00:00:00\", \"2019-10-01T00:00:00\", \"2019-10-01T00:00:00\", \"2019-10-01T00:00:00\", \"2019-10-01T00:00:00\", \"2019-10-01T00:00:00\", \"2019-10-01T00:00:00\", \"2019-10-01T00:00:00\", \"2019-10-01T00:00:00\", \"2019-10-01T00:00:00\", \"2019-10-01T00:00:00\", \"2019-10-01T00:00:00\", \"2019-10-01T00:00:00\", \"2019-10-01T00:00:00\", \"2019-10-01T00:00:00\", \"2019-10-01T00:00:00\"], \"y\": [22.9388625, 15.105875000000001, 23.56472857142857, 4.087775, 20.84801428571428, 9.48942857142857, 11.584642857142859, 9.099242857142857, 12.228936363636363, 7.988485714285714, 12.71412857142857, 11.612685714285714, 9.10331818181818, 6.252450000000001, 9.630672727272726, 8.139015384615384, 7.706385714285715, 3.558058333333333, 3.558058333333333, 3.558058333333333, 3.558058333333333, 3.558058333333333, 3.558058333333333, 3.558058333333333, 3.558058333333333, 3.558058333333333, 3.558058333333333, 3.558058333333333, 3.558058333333333, 3.558058333333333, 3.558058333333333, 3.558058333333333, 3.558058333333333, 3.558058333333333, 3.558058333333333, 3.558058333333333, 3.558058333333333, 3.558058333333333, 3.558058333333333, 3.558058333333333, 3.558058333333333, 3.558058333333333, 3.558058333333333, 3.558058333333333, 3.558058333333333, 3.558058333333333, 3.558058333333333, 3.558058333333333, 3.558058333333333]}],\n",
              "                        {\"template\": {\"data\": {\"bar\": [{\"error_x\": {\"color\": \"#2a3f5f\"}, \"error_y\": {\"color\": \"#2a3f5f\"}, \"marker\": {\"line\": {\"color\": \"#E5ECF6\", \"width\": 0.5}}, \"type\": \"bar\"}], \"barpolar\": [{\"marker\": {\"line\": {\"color\": \"#E5ECF6\", \"width\": 0.5}}, \"type\": \"barpolar\"}], \"carpet\": [{\"aaxis\": {\"endlinecolor\": \"#2a3f5f\", \"gridcolor\": \"white\", \"linecolor\": \"white\", \"minorgridcolor\": \"white\", \"startlinecolor\": \"#2a3f5f\"}, \"baxis\": {\"endlinecolor\": \"#2a3f5f\", \"gridcolor\": \"white\", \"linecolor\": \"white\", \"minorgridcolor\": \"white\", \"startlinecolor\": \"#2a3f5f\"}, \"type\": \"carpet\"}], \"choropleth\": [{\"colorbar\": {\"outlinewidth\": 0, \"ticks\": \"\"}, \"type\": \"choropleth\"}], \"contour\": [{\"colorbar\": {\"outlinewidth\": 0, \"ticks\": \"\"}, \"colorscale\": [[0.0, \"#0d0887\"], [0.1111111111111111, \"#46039f\"], [0.2222222222222222, \"#7201a8\"], [0.3333333333333333, \"#9c179e\"], [0.4444444444444444, \"#bd3786\"], [0.5555555555555556, \"#d8576b\"], [0.6666666666666666, \"#ed7953\"], [0.7777777777777778, \"#fb9f3a\"], [0.8888888888888888, \"#fdca26\"], [1.0, \"#f0f921\"]], \"type\": \"contour\"}], \"contourcarpet\": [{\"colorbar\": {\"outlinewidth\": 0, \"ticks\": \"\"}, \"type\": \"contourcarpet\"}], \"heatmap\": [{\"colorbar\": {\"outlinewidth\": 0, \"ticks\": \"\"}, \"colorscale\": [[0.0, \"#0d0887\"], [0.1111111111111111, \"#46039f\"], [0.2222222222222222, \"#7201a8\"], [0.3333333333333333, \"#9c179e\"], [0.4444444444444444, \"#bd3786\"], [0.5555555555555556, \"#d8576b\"], [0.6666666666666666, \"#ed7953\"], [0.7777777777777778, \"#fb9f3a\"], [0.8888888888888888, \"#fdca26\"], [1.0, \"#f0f921\"]], \"type\": \"heatmap\"}], \"heatmapgl\": [{\"colorbar\": {\"outlinewidth\": 0, \"ticks\": \"\"}, \"colorscale\": [[0.0, \"#0d0887\"], [0.1111111111111111, \"#46039f\"], [0.2222222222222222, \"#7201a8\"], [0.3333333333333333, \"#9c179e\"], [0.4444444444444444, \"#bd3786\"], [0.5555555555555556, \"#d8576b\"], [0.6666666666666666, \"#ed7953\"], [0.7777777777777778, \"#fb9f3a\"], [0.8888888888888888, \"#fdca26\"], [1.0, \"#f0f921\"]], \"type\": \"heatmapgl\"}], \"histogram\": [{\"marker\": {\"colorbar\": {\"outlinewidth\": 0, \"ticks\": \"\"}}, \"type\": \"histogram\"}], \"histogram2d\": [{\"colorbar\": {\"outlinewidth\": 0, \"ticks\": \"\"}, \"colorscale\": [[0.0, \"#0d0887\"], [0.1111111111111111, \"#46039f\"], [0.2222222222222222, \"#7201a8\"], [0.3333333333333333, \"#9c179e\"], [0.4444444444444444, \"#bd3786\"], [0.5555555555555556, \"#d8576b\"], [0.6666666666666666, \"#ed7953\"], [0.7777777777777778, \"#fb9f3a\"], [0.8888888888888888, \"#fdca26\"], [1.0, \"#f0f921\"]], \"type\": \"histogram2d\"}], \"histogram2dcontour\": [{\"colorbar\": {\"outlinewidth\": 0, \"ticks\": \"\"}, \"colorscale\": [[0.0, \"#0d0887\"], [0.1111111111111111, \"#46039f\"], [0.2222222222222222, \"#7201a8\"], [0.3333333333333333, \"#9c179e\"], [0.4444444444444444, \"#bd3786\"], [0.5555555555555556, \"#d8576b\"], [0.6666666666666666, \"#ed7953\"], [0.7777777777777778, \"#fb9f3a\"], [0.8888888888888888, \"#fdca26\"], [1.0, \"#f0f921\"]], \"type\": \"histogram2dcontour\"}], \"mesh3d\": [{\"colorbar\": {\"outlinewidth\": 0, \"ticks\": \"\"}, \"type\": \"mesh3d\"}], \"parcoords\": [{\"line\": {\"colorbar\": {\"outlinewidth\": 0, \"ticks\": \"\"}}, \"type\": \"parcoords\"}], \"pie\": [{\"automargin\": true, \"type\": \"pie\"}], \"scatter\": [{\"marker\": {\"colorbar\": {\"outlinewidth\": 0, \"ticks\": \"\"}}, \"type\": \"scatter\"}], \"scatter3d\": [{\"line\": {\"colorbar\": {\"outlinewidth\": 0, \"ticks\": \"\"}}, \"marker\": {\"colorbar\": {\"outlinewidth\": 0, \"ticks\": \"\"}}, \"type\": \"scatter3d\"}], \"scattercarpet\": [{\"marker\": {\"colorbar\": {\"outlinewidth\": 0, \"ticks\": \"\"}}, \"type\": \"scattercarpet\"}], \"scattergeo\": [{\"marker\": {\"colorbar\": {\"outlinewidth\": 0, \"ticks\": \"\"}}, \"type\": \"scattergeo\"}], \"scattergl\": [{\"marker\": {\"colorbar\": {\"outlinewidth\": 0, \"ticks\": \"\"}}, \"type\": \"scattergl\"}], \"scattermapbox\": [{\"marker\": {\"colorbar\": {\"outlinewidth\": 0, \"ticks\": \"\"}}, \"type\": \"scattermapbox\"}], \"scatterpolar\": [{\"marker\": {\"colorbar\": {\"outlinewidth\": 0, \"ticks\": \"\"}}, \"type\": \"scatterpolar\"}], \"scatterpolargl\": [{\"marker\": {\"colorbar\": {\"outlinewidth\": 0, \"ticks\": \"\"}}, \"type\": \"scatterpolargl\"}], \"scatterternary\": [{\"marker\": {\"colorbar\": {\"outlinewidth\": 0, \"ticks\": \"\"}}, \"type\": \"scatterternary\"}], \"surface\": [{\"colorbar\": {\"outlinewidth\": 0, \"ticks\": \"\"}, \"colorscale\": [[0.0, \"#0d0887\"], [0.1111111111111111, \"#46039f\"], [0.2222222222222222, \"#7201a8\"], [0.3333333333333333, \"#9c179e\"], [0.4444444444444444, \"#bd3786\"], [0.5555555555555556, \"#d8576b\"], [0.6666666666666666, \"#ed7953\"], [0.7777777777777778, \"#fb9f3a\"], [0.8888888888888888, \"#fdca26\"], [1.0, \"#f0f921\"]], \"type\": \"surface\"}], \"table\": [{\"cells\": {\"fill\": {\"color\": \"#EBF0F8\"}, \"line\": {\"color\": \"white\"}}, \"header\": {\"fill\": {\"color\": \"#C8D4E3\"}, \"line\": {\"color\": \"white\"}}, \"type\": \"table\"}]}, \"layout\": {\"annotationdefaults\": {\"arrowcolor\": \"#2a3f5f\", \"arrowhead\": 0, \"arrowwidth\": 1}, \"coloraxis\": {\"colorbar\": {\"outlinewidth\": 0, \"ticks\": \"\"}}, \"colorscale\": {\"diverging\": [[0, \"#8e0152\"], [0.1, \"#c51b7d\"], [0.2, \"#de77ae\"], [0.3, \"#f1b6da\"], [0.4, \"#fde0ef\"], [0.5, \"#f7f7f7\"], [0.6, \"#e6f5d0\"], [0.7, \"#b8e186\"], [0.8, \"#7fbc41\"], [0.9, \"#4d9221\"], [1, \"#276419\"]], \"sequential\": [[0.0, \"#0d0887\"], [0.1111111111111111, \"#46039f\"], [0.2222222222222222, \"#7201a8\"], [0.3333333333333333, \"#9c179e\"], [0.4444444444444444, \"#bd3786\"], [0.5555555555555556, \"#d8576b\"], [0.6666666666666666, \"#ed7953\"], [0.7777777777777778, \"#fb9f3a\"], [0.8888888888888888, \"#fdca26\"], [1.0, \"#f0f921\"]], \"sequentialminus\": [[0.0, \"#0d0887\"], [0.1111111111111111, \"#46039f\"], [0.2222222222222222, \"#7201a8\"], [0.3333333333333333, \"#9c179e\"], [0.4444444444444444, \"#bd3786\"], [0.5555555555555556, \"#d8576b\"], [0.6666666666666666, \"#ed7953\"], [0.7777777777777778, \"#fb9f3a\"], [0.8888888888888888, \"#fdca26\"], [1.0, \"#f0f921\"]]}, \"colorway\": [\"#636efa\", \"#EF553B\", \"#00cc96\", \"#ab63fa\", \"#FFA15A\", \"#19d3f3\", \"#FF6692\", \"#B6E880\", \"#FF97FF\", \"#FECB52\"], \"font\": {\"color\": \"#2a3f5f\"}, \"geo\": {\"bgcolor\": \"white\", \"lakecolor\": \"white\", \"landcolor\": \"#E5ECF6\", \"showlakes\": true, \"showland\": true, \"subunitcolor\": \"white\"}, \"hoverlabel\": {\"align\": \"left\"}, \"hovermode\": \"closest\", \"mapbox\": {\"style\": \"light\"}, \"paper_bgcolor\": \"white\", \"plot_bgcolor\": \"#E5ECF6\", \"polar\": {\"angularaxis\": {\"gridcolor\": \"white\", \"linecolor\": \"white\", \"ticks\": \"\"}, \"bgcolor\": \"#E5ECF6\", \"radialaxis\": {\"gridcolor\": \"white\", \"linecolor\": \"white\", \"ticks\": \"\"}}, \"scene\": {\"xaxis\": {\"backgroundcolor\": \"#E5ECF6\", \"gridcolor\": \"white\", \"gridwidth\": 2, \"linecolor\": \"white\", \"showbackground\": true, \"ticks\": \"\", \"zerolinecolor\": \"white\"}, \"yaxis\": {\"backgroundcolor\": \"#E5ECF6\", \"gridcolor\": \"white\", \"gridwidth\": 2, \"linecolor\": \"white\", \"showbackground\": true, \"ticks\": \"\", \"zerolinecolor\": \"white\"}, \"zaxis\": {\"backgroundcolor\": \"#E5ECF6\", \"gridcolor\": \"white\", \"gridwidth\": 2, \"linecolor\": \"white\", \"showbackground\": true, \"ticks\": \"\", \"zerolinecolor\": \"white\"}}, \"shapedefaults\": {\"line\": {\"color\": \"#2a3f5f\"}}, \"ternary\": {\"aaxis\": {\"gridcolor\": \"white\", \"linecolor\": \"white\", \"ticks\": \"\"}, \"baxis\": {\"gridcolor\": \"white\", \"linecolor\": \"white\", \"ticks\": \"\"}, \"bgcolor\": \"#E5ECF6\", \"caxis\": {\"gridcolor\": \"white\", \"linecolor\": \"white\", \"ticks\": \"\"}}, \"title\": {\"x\": 0.05}, \"xaxis\": {\"automargin\": true, \"gridcolor\": \"white\", \"linecolor\": \"white\", \"ticks\": \"\", \"title\": {\"standoff\": 15}, \"zerolinecolor\": \"white\", \"zerolinewidth\": 2}, \"yaxis\": {\"automargin\": true, \"gridcolor\": \"white\", \"linecolor\": \"white\", \"ticks\": \"\", \"title\": {\"standoff\": 15}, \"zerolinecolor\": \"white\", \"zerolinewidth\": 2}}}},\n",
              "                        {\"responsive\": true}\n",
              "                    ).then(function(){\n",
              "                            \n",
              "var gd = document.getElementById('5c089baf-bf3f-45e6-bf2c-641020ee6d9d');\n",
              "var x = new MutationObserver(function (mutations, observer) {{\n",
              "        var display = window.getComputedStyle(gd).display;\n",
              "        if (!display || display === 'none') {{\n",
              "            console.log([gd, 'removed!']);\n",
              "            Plotly.purge(gd);\n",
              "            observer.disconnect();\n",
              "        }}\n",
              "}});\n",
              "\n",
              "// Listen for the removal of the full notebook cells\n",
              "var notebookContainer = gd.closest('#notebook-container');\n",
              "if (notebookContainer) {{\n",
              "    x.observe(notebookContainer, {childList: true});\n",
              "}}\n",
              "\n",
              "// Listen for the clearing of the current output cell\n",
              "var outputEl = gd.closest('.output');\n",
              "if (outputEl) {{\n",
              "    x.observe(outputEl, {childList: true});\n",
              "}}\n",
              "\n",
              "                        })\n",
              "                };\n",
              "                \n",
              "            </script>\n",
              "        </div>\n",
              "</body>\n",
              "</html>"
            ]
          },
          "metadata": {
            "tags": []
          }
        }
      ]
    },
    {
      "cell_type": "code",
      "metadata": {
        "id": "n3H97wk-xK7h",
        "colab_type": "code",
        "colab": {
          "base_uri": "https://localhost:8080/",
          "height": 542
        },
        "outputId": "4a5f7cd0-2a2b-41f8-c65f-dd3cf9fd74dd"
      },
      "source": [
        "fig = getSystemInfluenceGraph(\"Solati\")\n",
        "fig.show()"
      ],
      "execution_count": 21,
      "outputs": [
        {
          "output_type": "display_data",
          "data": {
            "text/html": [
              "<html>\n",
              "<head><meta charset=\"utf-8\" /></head>\n",
              "<body>\n",
              "    <div>\n",
              "            <script src=\"https://cdnjs.cloudflare.com/ajax/libs/mathjax/2.7.5/MathJax.js?config=TeX-AMS-MML_SVG\"></script><script type=\"text/javascript\">if (window.MathJax) {MathJax.Hub.Config({SVG: {font: \"STIX-Web\"}});}</script>\n",
              "                <script type=\"text/javascript\">window.PlotlyConfig = {MathJaxConfig: 'local'};</script>\n",
              "        <script src=\"https://cdn.plot.ly/plotly-latest.min.js\"></script>    \n",
              "            <div id=\"322ccd32-dcdc-44ec-9a73-c164de982ee4\" class=\"plotly-graph-div\" style=\"height:525px; width:100%;\"></div>\n",
              "            <script type=\"text/javascript\">\n",
              "                \n",
              "                    window.PLOTLYENV=window.PLOTLYENV || {};\n",
              "                    \n",
              "                if (document.getElementById(\"322ccd32-dcdc-44ec-9a73-c164de982ee4\")) {\n",
              "                    Plotly.newPlot(\n",
              "                        '322ccd32-dcdc-44ec-9a73-c164de982ee4',\n",
              "                        [{\"mode\": \"lines\", \"name\": \"Hodack Prison Colony\", \"type\": \"scatter\", \"x\": [\"2018-05-01T00:00:00\", \"2018-06-01T00:00:00\", \"2018-07-01T00:00:00\", \"2018-08-01T00:00:00\", \"2018-09-01T00:00:00\", \"2018-10-01T00:00:00\", \"2018-11-01T00:00:00\", \"2018-12-01T00:00:00\", \"2019-01-01T00:00:00\", \"2019-02-01T00:00:00\", \"2019-03-01T00:00:00\", \"2019-04-01T00:00:00\", \"2019-05-01T00:00:00\", \"2019-06-01T00:00:00\", \"2019-07-01T00:00:00\", \"2019-08-01T00:00:00\", \"2019-09-01T00:00:00\", \"2019-10-01T00:00:00\", \"2019-11-01T00:00:00\", \"2019-12-01T00:00:00\", \"2020-01-01T00:00:00\", \"2020-02-01T00:00:00\", \"2020-03-01T00:00:00\", \"2020-04-01T00:00:00\", \"2020-05-01T00:00:00\", \"2020-06-15T00:00:00\", \"2020-06-15T00:00:00\", \"2020-06-17T00:00:00\", \"2020-06-18T00:00:00\", \"2020-06-19T00:00:00\", \"2020-06-20T00:00:00\", \"2020-06-21T00:00:00\", \"2020-06-21T00:00:00\", \"2020-06-23T00:00:00\", \"2020-06-24T00:00:00\", \"2020-06-25T00:00:00\", \"2020-06-26T00:00:00\", \"2020-06-26T00:00:00\", \"2020-06-28T00:00:00\", \"2020-06-29T00:00:00\", \"2020-06-30T00:00:00\", \"2020-06-30T00:00:00\", \"2020-07-02T00:00:00\", \"2020-07-03T00:00:00\", \"2020-07-04T00:00:00\", \"2020-07-05T00:00:00\", \"2020-07-06T00:00:00\", \"2020-07-07T00:00:00\", \"2020-07-07T00:00:00\"], \"y\": [18.215614285714288, 6.80115, 7.043214285714286, 10.823214285714284, 20.6679, 9.568657142857143, 7.430771428571427, 21.905933333333333, 13.307899999999998, 36.77671111111111, 40.13993000000001, 23.875925000000002, 11.08892857142857, 13.704582352941177, 8.702393333333333, 10.986690000000001, 12.479245454545456, 9.159484615384615, 10.723083333333337, 14.402023076923076, 8.968441176470588, 10.925206666666668, 10.698689473684212, 15.278459999999999, 12.59301578947368, 7.8067, 7.8067, 4.5045, 5.5055, 5.2052, 6.6132, 8.2164, 8.2164, 8.2164, 8.2164, 8.2164, 4.1082, 4.1082, 9.7902, 9.7902, 9.7804, 9.7804, 9.7707, 4.3868, 5.2841000000000005, 6.0818, 6.4806, 8.4746, 8.4746]}],\n",
              "                        {\"template\": {\"data\": {\"bar\": [{\"error_x\": {\"color\": \"#2a3f5f\"}, \"error_y\": {\"color\": \"#2a3f5f\"}, \"marker\": {\"line\": {\"color\": \"#E5ECF6\", \"width\": 0.5}}, \"type\": \"bar\"}], \"barpolar\": [{\"marker\": {\"line\": {\"color\": \"#E5ECF6\", \"width\": 0.5}}, \"type\": \"barpolar\"}], \"carpet\": [{\"aaxis\": {\"endlinecolor\": \"#2a3f5f\", \"gridcolor\": \"white\", \"linecolor\": \"white\", \"minorgridcolor\": \"white\", \"startlinecolor\": \"#2a3f5f\"}, \"baxis\": {\"endlinecolor\": \"#2a3f5f\", \"gridcolor\": \"white\", \"linecolor\": \"white\", \"minorgridcolor\": \"white\", \"startlinecolor\": \"#2a3f5f\"}, \"type\": \"carpet\"}], \"choropleth\": [{\"colorbar\": {\"outlinewidth\": 0, \"ticks\": \"\"}, \"type\": \"choropleth\"}], \"contour\": [{\"colorbar\": {\"outlinewidth\": 0, \"ticks\": \"\"}, \"colorscale\": [[0.0, \"#0d0887\"], [0.1111111111111111, \"#46039f\"], [0.2222222222222222, \"#7201a8\"], [0.3333333333333333, \"#9c179e\"], [0.4444444444444444, \"#bd3786\"], [0.5555555555555556, \"#d8576b\"], [0.6666666666666666, \"#ed7953\"], [0.7777777777777778, \"#fb9f3a\"], [0.8888888888888888, \"#fdca26\"], [1.0, \"#f0f921\"]], \"type\": \"contour\"}], \"contourcarpet\": [{\"colorbar\": {\"outlinewidth\": 0, \"ticks\": \"\"}, \"type\": \"contourcarpet\"}], \"heatmap\": [{\"colorbar\": {\"outlinewidth\": 0, \"ticks\": \"\"}, \"colorscale\": [[0.0, \"#0d0887\"], [0.1111111111111111, \"#46039f\"], [0.2222222222222222, \"#7201a8\"], [0.3333333333333333, \"#9c179e\"], [0.4444444444444444, \"#bd3786\"], [0.5555555555555556, \"#d8576b\"], [0.6666666666666666, \"#ed7953\"], [0.7777777777777778, \"#fb9f3a\"], [0.8888888888888888, \"#fdca26\"], [1.0, \"#f0f921\"]], \"type\": \"heatmap\"}], \"heatmapgl\": [{\"colorbar\": {\"outlinewidth\": 0, \"ticks\": \"\"}, \"colorscale\": [[0.0, \"#0d0887\"], [0.1111111111111111, \"#46039f\"], [0.2222222222222222, \"#7201a8\"], [0.3333333333333333, \"#9c179e\"], [0.4444444444444444, \"#bd3786\"], [0.5555555555555556, \"#d8576b\"], [0.6666666666666666, \"#ed7953\"], [0.7777777777777778, \"#fb9f3a\"], [0.8888888888888888, \"#fdca26\"], [1.0, \"#f0f921\"]], \"type\": \"heatmapgl\"}], \"histogram\": [{\"marker\": {\"colorbar\": {\"outlinewidth\": 0, \"ticks\": \"\"}}, \"type\": \"histogram\"}], \"histogram2d\": [{\"colorbar\": {\"outlinewidth\": 0, \"ticks\": \"\"}, \"colorscale\": [[0.0, \"#0d0887\"], [0.1111111111111111, \"#46039f\"], [0.2222222222222222, \"#7201a8\"], [0.3333333333333333, \"#9c179e\"], [0.4444444444444444, \"#bd3786\"], [0.5555555555555556, \"#d8576b\"], [0.6666666666666666, \"#ed7953\"], [0.7777777777777778, \"#fb9f3a\"], [0.8888888888888888, \"#fdca26\"], [1.0, \"#f0f921\"]], \"type\": \"histogram2d\"}], \"histogram2dcontour\": [{\"colorbar\": {\"outlinewidth\": 0, \"ticks\": \"\"}, \"colorscale\": [[0.0, \"#0d0887\"], [0.1111111111111111, \"#46039f\"], [0.2222222222222222, \"#7201a8\"], [0.3333333333333333, \"#9c179e\"], [0.4444444444444444, \"#bd3786\"], [0.5555555555555556, \"#d8576b\"], [0.6666666666666666, \"#ed7953\"], [0.7777777777777778, \"#fb9f3a\"], [0.8888888888888888, \"#fdca26\"], [1.0, \"#f0f921\"]], \"type\": \"histogram2dcontour\"}], \"mesh3d\": [{\"colorbar\": {\"outlinewidth\": 0, \"ticks\": \"\"}, \"type\": \"mesh3d\"}], \"parcoords\": [{\"line\": {\"colorbar\": {\"outlinewidth\": 0, \"ticks\": \"\"}}, \"type\": \"parcoords\"}], \"pie\": [{\"automargin\": true, \"type\": \"pie\"}], \"scatter\": [{\"marker\": {\"colorbar\": {\"outlinewidth\": 0, \"ticks\": \"\"}}, \"type\": \"scatter\"}], \"scatter3d\": [{\"line\": {\"colorbar\": {\"outlinewidth\": 0, \"ticks\": \"\"}}, \"marker\": {\"colorbar\": {\"outlinewidth\": 0, \"ticks\": \"\"}}, \"type\": \"scatter3d\"}], \"scattercarpet\": [{\"marker\": {\"colorbar\": {\"outlinewidth\": 0, \"ticks\": \"\"}}, \"type\": \"scattercarpet\"}], \"scattergeo\": [{\"marker\": {\"colorbar\": {\"outlinewidth\": 0, \"ticks\": \"\"}}, \"type\": \"scattergeo\"}], \"scattergl\": [{\"marker\": {\"colorbar\": {\"outlinewidth\": 0, \"ticks\": \"\"}}, \"type\": \"scattergl\"}], \"scattermapbox\": [{\"marker\": {\"colorbar\": {\"outlinewidth\": 0, \"ticks\": \"\"}}, \"type\": \"scattermapbox\"}], \"scatterpolar\": [{\"marker\": {\"colorbar\": {\"outlinewidth\": 0, \"ticks\": \"\"}}, \"type\": \"scatterpolar\"}], \"scatterpolargl\": [{\"marker\": {\"colorbar\": {\"outlinewidth\": 0, \"ticks\": \"\"}}, \"type\": \"scatterpolargl\"}], \"scatterternary\": [{\"marker\": {\"colorbar\": {\"outlinewidth\": 0, \"ticks\": \"\"}}, \"type\": \"scatterternary\"}], \"surface\": [{\"colorbar\": {\"outlinewidth\": 0, \"ticks\": \"\"}, \"colorscale\": [[0.0, \"#0d0887\"], [0.1111111111111111, \"#46039f\"], [0.2222222222222222, \"#7201a8\"], [0.3333333333333333, \"#9c179e\"], [0.4444444444444444, \"#bd3786\"], [0.5555555555555556, \"#d8576b\"], [0.6666666666666666, \"#ed7953\"], [0.7777777777777778, \"#fb9f3a\"], [0.8888888888888888, \"#fdca26\"], [1.0, \"#f0f921\"]], \"type\": \"surface\"}], \"table\": [{\"cells\": {\"fill\": {\"color\": \"#EBF0F8\"}, \"line\": {\"color\": \"white\"}}, \"header\": {\"fill\": {\"color\": \"#C8D4E3\"}, \"line\": {\"color\": \"white\"}}, \"type\": \"table\"}]}, \"layout\": {\"annotationdefaults\": {\"arrowcolor\": \"#2a3f5f\", \"arrowhead\": 0, \"arrowwidth\": 1}, \"coloraxis\": {\"colorbar\": {\"outlinewidth\": 0, \"ticks\": \"\"}}, \"colorscale\": {\"diverging\": [[0, \"#8e0152\"], [0.1, \"#c51b7d\"], [0.2, \"#de77ae\"], [0.3, \"#f1b6da\"], [0.4, \"#fde0ef\"], [0.5, \"#f7f7f7\"], [0.6, \"#e6f5d0\"], [0.7, \"#b8e186\"], [0.8, \"#7fbc41\"], [0.9, \"#4d9221\"], [1, \"#276419\"]], \"sequential\": [[0.0, \"#0d0887\"], [0.1111111111111111, \"#46039f\"], [0.2222222222222222, \"#7201a8\"], [0.3333333333333333, \"#9c179e\"], [0.4444444444444444, \"#bd3786\"], [0.5555555555555556, \"#d8576b\"], [0.6666666666666666, \"#ed7953\"], [0.7777777777777778, \"#fb9f3a\"], [0.8888888888888888, \"#fdca26\"], [1.0, \"#f0f921\"]], \"sequentialminus\": [[0.0, \"#0d0887\"], [0.1111111111111111, \"#46039f\"], [0.2222222222222222, \"#7201a8\"], [0.3333333333333333, \"#9c179e\"], [0.4444444444444444, \"#bd3786\"], [0.5555555555555556, \"#d8576b\"], [0.6666666666666666, \"#ed7953\"], [0.7777777777777778, \"#fb9f3a\"], [0.8888888888888888, \"#fdca26\"], [1.0, \"#f0f921\"]]}, \"colorway\": [\"#636efa\", \"#EF553B\", \"#00cc96\", \"#ab63fa\", \"#FFA15A\", \"#19d3f3\", \"#FF6692\", \"#B6E880\", \"#FF97FF\", \"#FECB52\"], \"font\": {\"color\": \"#2a3f5f\"}, \"geo\": {\"bgcolor\": \"white\", \"lakecolor\": \"white\", \"landcolor\": \"#E5ECF6\", \"showlakes\": true, \"showland\": true, \"subunitcolor\": \"white\"}, \"hoverlabel\": {\"align\": \"left\"}, \"hovermode\": \"closest\", \"mapbox\": {\"style\": \"light\"}, \"paper_bgcolor\": \"white\", \"plot_bgcolor\": \"#E5ECF6\", \"polar\": {\"angularaxis\": {\"gridcolor\": \"white\", \"linecolor\": \"white\", \"ticks\": \"\"}, \"bgcolor\": \"#E5ECF6\", \"radialaxis\": {\"gridcolor\": \"white\", \"linecolor\": \"white\", \"ticks\": \"\"}}, \"scene\": {\"xaxis\": {\"backgroundcolor\": \"#E5ECF6\", \"gridcolor\": \"white\", \"gridwidth\": 2, \"linecolor\": \"white\", \"showbackground\": true, \"ticks\": \"\", \"zerolinecolor\": \"white\"}, \"yaxis\": {\"backgroundcolor\": \"#E5ECF6\", \"gridcolor\": \"white\", \"gridwidth\": 2, \"linecolor\": \"white\", \"showbackground\": true, \"ticks\": \"\", \"zerolinecolor\": \"white\"}, \"zaxis\": {\"backgroundcolor\": \"#E5ECF6\", \"gridcolor\": \"white\", \"gridwidth\": 2, \"linecolor\": \"white\", \"showbackground\": true, \"ticks\": \"\", \"zerolinecolor\": \"white\"}}, \"shapedefaults\": {\"line\": {\"color\": \"#2a3f5f\"}}, \"ternary\": {\"aaxis\": {\"gridcolor\": \"white\", \"linecolor\": \"white\", \"ticks\": \"\"}, \"baxis\": {\"gridcolor\": \"white\", \"linecolor\": \"white\", \"ticks\": \"\"}, \"bgcolor\": \"#E5ECF6\", \"caxis\": {\"gridcolor\": \"white\", \"linecolor\": \"white\", \"ticks\": \"\"}}, \"title\": {\"x\": 0.05}, \"xaxis\": {\"automargin\": true, \"gridcolor\": \"white\", \"linecolor\": \"white\", \"ticks\": \"\", \"title\": {\"standoff\": 15}, \"zerolinecolor\": \"white\", \"zerolinewidth\": 2}, \"yaxis\": {\"automargin\": true, \"gridcolor\": \"white\", \"linecolor\": \"white\", \"ticks\": \"\", \"title\": {\"standoff\": 15}, \"zerolinecolor\": \"white\", \"zerolinewidth\": 2}}}},\n",
              "                        {\"responsive\": true}\n",
              "                    ).then(function(){\n",
              "                            \n",
              "var gd = document.getElementById('322ccd32-dcdc-44ec-9a73-c164de982ee4');\n",
              "var x = new MutationObserver(function (mutations, observer) {{\n",
              "        var display = window.getComputedStyle(gd).display;\n",
              "        if (!display || display === 'none') {{\n",
              "            console.log([gd, 'removed!']);\n",
              "            Plotly.purge(gd);\n",
              "            observer.disconnect();\n",
              "        }}\n",
              "}});\n",
              "\n",
              "// Listen for the removal of the full notebook cells\n",
              "var notebookContainer = gd.closest('#notebook-container');\n",
              "if (notebookContainer) {{\n",
              "    x.observe(notebookContainer, {childList: true});\n",
              "}}\n",
              "\n",
              "// Listen for the clearing of the current output cell\n",
              "var outputEl = gd.closest('.output');\n",
              "if (outputEl) {{\n",
              "    x.observe(outputEl, {childList: true});\n",
              "}}\n",
              "\n",
              "                        })\n",
              "                };\n",
              "                \n",
              "            </script>\n",
              "        </div>\n",
              "</body>\n",
              "</html>"
            ]
          },
          "metadata": {
            "tags": []
          }
        }
      ]
    },
    {
      "cell_type": "code",
      "metadata": {
        "id": "n2YlKGn9vpCd",
        "colab_type": "code",
        "colab": {
          "base_uri": "https://localhost:8080/",
          "height": 542
        },
        "outputId": "c26a8b09-bbfb-418b-8226-ff0226009d79"
      },
      "source": [
        "# One System, handles Multiple Factions\n",
        "fig = getSystemInfluenceGraph(\"Sol\")\n",
        "fig.show()"
      ],
      "execution_count": 22,
      "outputs": [
        {
          "output_type": "display_data",
          "data": {
            "text/html": [
              "<html>\n",
              "<head><meta charset=\"utf-8\" /></head>\n",
              "<body>\n",
              "    <div>\n",
              "            <script src=\"https://cdnjs.cloudflare.com/ajax/libs/mathjax/2.7.5/MathJax.js?config=TeX-AMS-MML_SVG\"></script><script type=\"text/javascript\">if (window.MathJax) {MathJax.Hub.Config({SVG: {font: \"STIX-Web\"}});}</script>\n",
              "                <script type=\"text/javascript\">window.PlotlyConfig = {MathJaxConfig: 'local'};</script>\n",
              "        <script src=\"https://cdn.plot.ly/plotly-latest.min.js\"></script>    \n",
              "            <div id=\"afc569e4-0366-4f48-894c-ad468c056e90\" class=\"plotly-graph-div\" style=\"height:525px; width:100%;\"></div>\n",
              "            <script type=\"text/javascript\">\n",
              "                \n",
              "                    window.PLOTLYENV=window.PLOTLYENV || {};\n",
              "                    \n",
              "                if (document.getElementById(\"afc569e4-0366-4f48-894c-ad468c056e90\")) {\n",
              "                    Plotly.newPlot(\n",
              "                        'afc569e4-0366-4f48-894c-ad468c056e90',\n",
              "                        [{\"mode\": \"lines\", \"name\": \"Aegis Core\", \"type\": \"scatter\", \"x\": [\"2019-07-01T00:00:00\", \"2019-08-01T00:00:00\", \"2019-09-01T00:00:00\", \"2019-10-01T00:00:00\", \"2019-11-01T00:00:00\", \"2019-12-01T00:00:00\", \"2020-01-01T00:00:00\", \"2020-02-01T00:00:00\", \"2020-03-01T00:00:00\", \"2020-04-01T00:00:00\", \"2020-05-01T00:00:00\", \"2020-06-15T00:00:00\", \"2020-06-15T00:00:00\", \"2020-06-17T00:00:00\", \"2020-06-18T00:00:00\", \"2020-06-19T00:00:00\", \"2020-06-20T00:00:00\", \"2020-06-21T00:00:00\", \"2020-06-21T00:00:00\", \"2020-06-23T00:00:00\", \"2020-06-24T00:00:00\", \"2020-06-25T00:00:00\", \"2020-06-26T00:00:00\", \"2020-06-26T00:00:00\", \"2020-06-28T00:00:00\", \"2020-06-29T00:00:00\", \"2020-06-30T00:00:00\", \"2020-06-30T00:00:00\", \"2020-07-02T00:00:00\", \"2020-07-03T00:00:00\", \"2020-07-04T00:00:00\", \"2020-07-05T00:00:00\", \"2020-07-06T00:00:00\", \"2020-07-07T00:00:00\", \"2020-07-07T00:00:00\"], \"y\": [4.8843, 5.3222125, 7.056128571428572, 7.383333333333333, 7.201028571428572, 7.501266666666667, 7.658439999999999, 9.075, 8.141685714285716, 7.425428571428571, 6.6152000000000015, 4.5, 4.5, 4.2042, 4.4088, 4.4, 4.5, 4.6, 4.6, 4.9, 5.1, 5.1948, 5.1948, 5.1948, 5.3892, 5.489, 5.6943, 5.6943, 5.7884, 5.6943, 5.6943, 5.7, 5.6056, 5.7057, 5.7057]}],\n",
              "                        {\"template\": {\"data\": {\"bar\": [{\"error_x\": {\"color\": \"#2a3f5f\"}, \"error_y\": {\"color\": \"#2a3f5f\"}, \"marker\": {\"line\": {\"color\": \"#E5ECF6\", \"width\": 0.5}}, \"type\": \"bar\"}], \"barpolar\": [{\"marker\": {\"line\": {\"color\": \"#E5ECF6\", \"width\": 0.5}}, \"type\": \"barpolar\"}], \"carpet\": [{\"aaxis\": {\"endlinecolor\": \"#2a3f5f\", \"gridcolor\": \"white\", \"linecolor\": \"white\", \"minorgridcolor\": \"white\", \"startlinecolor\": \"#2a3f5f\"}, \"baxis\": {\"endlinecolor\": \"#2a3f5f\", \"gridcolor\": \"white\", \"linecolor\": \"white\", \"minorgridcolor\": \"white\", \"startlinecolor\": \"#2a3f5f\"}, \"type\": \"carpet\"}], \"choropleth\": [{\"colorbar\": {\"outlinewidth\": 0, \"ticks\": \"\"}, \"type\": \"choropleth\"}], \"contour\": [{\"colorbar\": {\"outlinewidth\": 0, \"ticks\": \"\"}, \"colorscale\": [[0.0, \"#0d0887\"], [0.1111111111111111, \"#46039f\"], [0.2222222222222222, \"#7201a8\"], [0.3333333333333333, \"#9c179e\"], [0.4444444444444444, \"#bd3786\"], [0.5555555555555556, \"#d8576b\"], [0.6666666666666666, \"#ed7953\"], [0.7777777777777778, \"#fb9f3a\"], [0.8888888888888888, \"#fdca26\"], [1.0, \"#f0f921\"]], \"type\": \"contour\"}], \"contourcarpet\": [{\"colorbar\": {\"outlinewidth\": 0, \"ticks\": \"\"}, \"type\": \"contourcarpet\"}], \"heatmap\": [{\"colorbar\": {\"outlinewidth\": 0, \"ticks\": \"\"}, \"colorscale\": [[0.0, \"#0d0887\"], [0.1111111111111111, \"#46039f\"], [0.2222222222222222, \"#7201a8\"], [0.3333333333333333, \"#9c179e\"], [0.4444444444444444, \"#bd3786\"], [0.5555555555555556, \"#d8576b\"], [0.6666666666666666, \"#ed7953\"], [0.7777777777777778, \"#fb9f3a\"], [0.8888888888888888, \"#fdca26\"], [1.0, \"#f0f921\"]], \"type\": \"heatmap\"}], \"heatmapgl\": [{\"colorbar\": {\"outlinewidth\": 0, \"ticks\": \"\"}, \"colorscale\": [[0.0, \"#0d0887\"], [0.1111111111111111, \"#46039f\"], [0.2222222222222222, \"#7201a8\"], [0.3333333333333333, \"#9c179e\"], [0.4444444444444444, \"#bd3786\"], [0.5555555555555556, \"#d8576b\"], [0.6666666666666666, \"#ed7953\"], [0.7777777777777778, \"#fb9f3a\"], [0.8888888888888888, \"#fdca26\"], [1.0, \"#f0f921\"]], \"type\": \"heatmapgl\"}], \"histogram\": [{\"marker\": {\"colorbar\": {\"outlinewidth\": 0, \"ticks\": \"\"}}, \"type\": \"histogram\"}], \"histogram2d\": [{\"colorbar\": {\"outlinewidth\": 0, \"ticks\": \"\"}, \"colorscale\": [[0.0, \"#0d0887\"], [0.1111111111111111, \"#46039f\"], [0.2222222222222222, \"#7201a8\"], [0.3333333333333333, \"#9c179e\"], [0.4444444444444444, \"#bd3786\"], [0.5555555555555556, \"#d8576b\"], [0.6666666666666666, \"#ed7953\"], [0.7777777777777778, \"#fb9f3a\"], [0.8888888888888888, \"#fdca26\"], [1.0, \"#f0f921\"]], \"type\": \"histogram2d\"}], \"histogram2dcontour\": [{\"colorbar\": {\"outlinewidth\": 0, \"ticks\": \"\"}, \"colorscale\": [[0.0, \"#0d0887\"], [0.1111111111111111, \"#46039f\"], [0.2222222222222222, \"#7201a8\"], [0.3333333333333333, \"#9c179e\"], [0.4444444444444444, \"#bd3786\"], [0.5555555555555556, \"#d8576b\"], [0.6666666666666666, \"#ed7953\"], [0.7777777777777778, \"#fb9f3a\"], [0.8888888888888888, \"#fdca26\"], [1.0, \"#f0f921\"]], \"type\": \"histogram2dcontour\"}], \"mesh3d\": [{\"colorbar\": {\"outlinewidth\": 0, \"ticks\": \"\"}, \"type\": \"mesh3d\"}], \"parcoords\": [{\"line\": {\"colorbar\": {\"outlinewidth\": 0, \"ticks\": \"\"}}, \"type\": \"parcoords\"}], \"pie\": [{\"automargin\": true, \"type\": \"pie\"}], \"scatter\": [{\"marker\": {\"colorbar\": {\"outlinewidth\": 0, \"ticks\": \"\"}}, \"type\": \"scatter\"}], \"scatter3d\": [{\"line\": {\"colorbar\": {\"outlinewidth\": 0, \"ticks\": \"\"}}, \"marker\": {\"colorbar\": {\"outlinewidth\": 0, \"ticks\": \"\"}}, \"type\": \"scatter3d\"}], \"scattercarpet\": [{\"marker\": {\"colorbar\": {\"outlinewidth\": 0, \"ticks\": \"\"}}, \"type\": \"scattercarpet\"}], \"scattergeo\": [{\"marker\": {\"colorbar\": {\"outlinewidth\": 0, \"ticks\": \"\"}}, \"type\": \"scattergeo\"}], \"scattergl\": [{\"marker\": {\"colorbar\": {\"outlinewidth\": 0, \"ticks\": \"\"}}, \"type\": \"scattergl\"}], \"scattermapbox\": [{\"marker\": {\"colorbar\": {\"outlinewidth\": 0, \"ticks\": \"\"}}, \"type\": \"scattermapbox\"}], \"scatterpolar\": [{\"marker\": {\"colorbar\": {\"outlinewidth\": 0, \"ticks\": \"\"}}, \"type\": \"scatterpolar\"}], \"scatterpolargl\": [{\"marker\": {\"colorbar\": {\"outlinewidth\": 0, \"ticks\": \"\"}}, \"type\": \"scatterpolargl\"}], \"scatterternary\": [{\"marker\": {\"colorbar\": {\"outlinewidth\": 0, \"ticks\": \"\"}}, \"type\": \"scatterternary\"}], \"surface\": [{\"colorbar\": {\"outlinewidth\": 0, \"ticks\": \"\"}, \"colorscale\": [[0.0, \"#0d0887\"], [0.1111111111111111, \"#46039f\"], [0.2222222222222222, \"#7201a8\"], [0.3333333333333333, \"#9c179e\"], [0.4444444444444444, \"#bd3786\"], [0.5555555555555556, \"#d8576b\"], [0.6666666666666666, \"#ed7953\"], [0.7777777777777778, \"#fb9f3a\"], [0.8888888888888888, \"#fdca26\"], [1.0, \"#f0f921\"]], \"type\": \"surface\"}], \"table\": [{\"cells\": {\"fill\": {\"color\": \"#EBF0F8\"}, \"line\": {\"color\": \"white\"}}, \"header\": {\"fill\": {\"color\": \"#C8D4E3\"}, \"line\": {\"color\": \"white\"}}, \"type\": \"table\"}]}, \"layout\": {\"annotationdefaults\": {\"arrowcolor\": \"#2a3f5f\", \"arrowhead\": 0, \"arrowwidth\": 1}, \"coloraxis\": {\"colorbar\": {\"outlinewidth\": 0, \"ticks\": \"\"}}, \"colorscale\": {\"diverging\": [[0, \"#8e0152\"], [0.1, \"#c51b7d\"], [0.2, \"#de77ae\"], [0.3, \"#f1b6da\"], [0.4, \"#fde0ef\"], [0.5, \"#f7f7f7\"], [0.6, \"#e6f5d0\"], [0.7, \"#b8e186\"], [0.8, \"#7fbc41\"], [0.9, \"#4d9221\"], [1, \"#276419\"]], \"sequential\": [[0.0, \"#0d0887\"], [0.1111111111111111, \"#46039f\"], [0.2222222222222222, \"#7201a8\"], [0.3333333333333333, \"#9c179e\"], [0.4444444444444444, \"#bd3786\"], [0.5555555555555556, \"#d8576b\"], [0.6666666666666666, \"#ed7953\"], [0.7777777777777778, \"#fb9f3a\"], [0.8888888888888888, \"#fdca26\"], [1.0, \"#f0f921\"]], \"sequentialminus\": [[0.0, \"#0d0887\"], [0.1111111111111111, \"#46039f\"], [0.2222222222222222, \"#7201a8\"], [0.3333333333333333, \"#9c179e\"], [0.4444444444444444, \"#bd3786\"], [0.5555555555555556, \"#d8576b\"], [0.6666666666666666, \"#ed7953\"], [0.7777777777777778, \"#fb9f3a\"], [0.8888888888888888, \"#fdca26\"], [1.0, \"#f0f921\"]]}, \"colorway\": [\"#636efa\", \"#EF553B\", \"#00cc96\", \"#ab63fa\", \"#FFA15A\", \"#19d3f3\", \"#FF6692\", \"#B6E880\", \"#FF97FF\", \"#FECB52\"], \"font\": {\"color\": \"#2a3f5f\"}, \"geo\": {\"bgcolor\": \"white\", \"lakecolor\": \"white\", \"landcolor\": \"#E5ECF6\", \"showlakes\": true, \"showland\": true, \"subunitcolor\": \"white\"}, \"hoverlabel\": {\"align\": \"left\"}, \"hovermode\": \"closest\", \"mapbox\": {\"style\": \"light\"}, \"paper_bgcolor\": \"white\", \"plot_bgcolor\": \"#E5ECF6\", \"polar\": {\"angularaxis\": {\"gridcolor\": \"white\", \"linecolor\": \"white\", \"ticks\": \"\"}, \"bgcolor\": \"#E5ECF6\", \"radialaxis\": {\"gridcolor\": \"white\", \"linecolor\": \"white\", \"ticks\": \"\"}}, \"scene\": {\"xaxis\": {\"backgroundcolor\": \"#E5ECF6\", \"gridcolor\": \"white\", \"gridwidth\": 2, \"linecolor\": \"white\", \"showbackground\": true, \"ticks\": \"\", \"zerolinecolor\": \"white\"}, \"yaxis\": {\"backgroundcolor\": \"#E5ECF6\", \"gridcolor\": \"white\", \"gridwidth\": 2, \"linecolor\": \"white\", \"showbackground\": true, \"ticks\": \"\", \"zerolinecolor\": \"white\"}, \"zaxis\": {\"backgroundcolor\": \"#E5ECF6\", \"gridcolor\": \"white\", \"gridwidth\": 2, \"linecolor\": \"white\", \"showbackground\": true, \"ticks\": \"\", \"zerolinecolor\": \"white\"}}, \"shapedefaults\": {\"line\": {\"color\": \"#2a3f5f\"}}, \"ternary\": {\"aaxis\": {\"gridcolor\": \"white\", \"linecolor\": \"white\", \"ticks\": \"\"}, \"baxis\": {\"gridcolor\": \"white\", \"linecolor\": \"white\", \"ticks\": \"\"}, \"bgcolor\": \"#E5ECF6\", \"caxis\": {\"gridcolor\": \"white\", \"linecolor\": \"white\", \"ticks\": \"\"}}, \"title\": {\"x\": 0.05}, \"xaxis\": {\"automargin\": true, \"gridcolor\": \"white\", \"linecolor\": \"white\", \"ticks\": \"\", \"title\": {\"standoff\": 15}, \"zerolinecolor\": \"white\", \"zerolinewidth\": 2}, \"yaxis\": {\"automargin\": true, \"gridcolor\": \"white\", \"linecolor\": \"white\", \"ticks\": \"\", \"title\": {\"standoff\": 15}, \"zerolinecolor\": \"white\", \"zerolinewidth\": 2}}}},\n",
              "                        {\"responsive\": true}\n",
              "                    ).then(function(){\n",
              "                            \n",
              "var gd = document.getElementById('afc569e4-0366-4f48-894c-ad468c056e90');\n",
              "var x = new MutationObserver(function (mutations, observer) {{\n",
              "        var display = window.getComputedStyle(gd).display;\n",
              "        if (!display || display === 'none') {{\n",
              "            console.log([gd, 'removed!']);\n",
              "            Plotly.purge(gd);\n",
              "            observer.disconnect();\n",
              "        }}\n",
              "}});\n",
              "\n",
              "// Listen for the removal of the full notebook cells\n",
              "var notebookContainer = gd.closest('#notebook-container');\n",
              "if (notebookContainer) {{\n",
              "    x.observe(notebookContainer, {childList: true});\n",
              "}}\n",
              "\n",
              "// Listen for the clearing of the current output cell\n",
              "var outputEl = gd.closest('.output');\n",
              "if (outputEl) {{\n",
              "    x.observe(outputEl, {childList: true});\n",
              "}}\n",
              "\n",
              "                        })\n",
              "                };\n",
              "                \n",
              "            </script>\n",
              "        </div>\n",
              "</body>\n",
              "</html>"
            ]
          },
          "metadata": {
            "tags": []
          }
        }
      ]
    },
    {
      "cell_type": "code",
      "metadata": {
        "id": "PeXKV0MR13BB",
        "colab_type": "code",
        "colab": {
          "base_uri": "https://localhost:8080/",
          "height": 542
        },
        "outputId": "e6a34128-2586-45b4-8bbc-789a09676b7a"
      },
      "source": [
        "fac = \"Hodack Prison Colony\"\n",
        "ogun = target[ target['faction']==fac]\n",
        "a = ogun['system'].unique().tolist()\n",
        "fig = go.Figure()\n",
        "for sys in a:\n",
        "  theSlice = ogun[ ogun['system'] == sys].reset_index()\n",
        "  fig.add_trace(go.Scatter(x=theSlice['updated'], y=theSlice['influence'],\n",
        "                    mode='lines',\n",
        "                    name=sys,\n",
        "                    stackgroup=\"one\"))\n",
        "  # Add range slider\n",
        "fig.update_layout(\n",
        "    xaxis=dict(\n",
        "        rangeselector=dict(\n",
        "            buttons=list([\n",
        "                dict(count=1,\n",
        "                     label=\"1m\",\n",
        "                     step=\"month\",\n",
        "                     stepmode=\"backward\"),\n",
        "                dict(count=6,\n",
        "                     label=\"6m\",\n",
        "                     step=\"month\",\n",
        "                     stepmode=\"backward\"),\n",
        "                dict(count=1,\n",
        "                     label=\"YTD\",\n",
        "                     step=\"year\",\n",
        "                     stepmode=\"todate\"),\n",
        "                dict(count=1,\n",
        "                     label=\"1y\",\n",
        "                     step=\"year\",\n",
        "                     stepmode=\"backward\"),\n",
        "                dict(step=\"all\")\n",
        "            ])\n",
        "        ),\n",
        "        rangeslider=dict(\n",
        "            visible=True\n",
        "        ),\n",
        "        type=\"date\"\n",
        "    )\n",
        ")\n",
        "fig.show()\n"
      ],
      "execution_count": 23,
      "outputs": [
        {
          "output_type": "display_data",
          "data": {
            "text/html": [
              "<html>\n",
              "<head><meta charset=\"utf-8\" /></head>\n",
              "<body>\n",
              "    <div>\n",
              "            <script src=\"https://cdnjs.cloudflare.com/ajax/libs/mathjax/2.7.5/MathJax.js?config=TeX-AMS-MML_SVG\"></script><script type=\"text/javascript\">if (window.MathJax) {MathJax.Hub.Config({SVG: {font: \"STIX-Web\"}});}</script>\n",
              "                <script type=\"text/javascript\">window.PlotlyConfig = {MathJaxConfig: 'local'};</script>\n",
              "        <script src=\"https://cdn.plot.ly/plotly-latest.min.js\"></script>    \n",
              "            <div id=\"1cb79ae0-db8a-4afb-a32e-6b4e3175c985\" class=\"plotly-graph-div\" style=\"height:525px; width:100%;\"></div>\n",
              "            <script type=\"text/javascript\">\n",
              "                \n",
              "                    window.PLOTLYENV=window.PLOTLYENV || {};\n",
              "                    \n",
              "                if (document.getElementById(\"1cb79ae0-db8a-4afb-a32e-6b4e3175c985\")) {\n",
              "                    Plotly.newPlot(\n",
              "                        '1cb79ae0-db8a-4afb-a32e-6b4e3175c985',\n",
              "                        [{\"mode\": \"lines\", \"name\": \"Akandi\", \"stackgroup\": \"one\", \"type\": \"scatter\", \"x\": [\"2018-05-01T00:00:00\", \"2018-06-01T00:00:00\", \"2018-07-01T00:00:00\", \"2018-08-01T00:00:00\", \"2018-09-01T00:00:00\", \"2018-10-01T00:00:00\", \"2018-11-01T00:00:00\", \"2018-12-01T00:00:00\", \"2019-01-01T00:00:00\", \"2019-02-01T00:00:00\", \"2019-03-01T00:00:00\", \"2019-04-01T00:00:00\", \"2019-05-01T00:00:00\", \"2019-06-01T00:00:00\", \"2019-07-01T00:00:00\", \"2019-08-01T00:00:00\", \"2019-09-01T00:00:00\", \"2019-10-01T00:00:00\", \"2019-11-01T00:00:00\", \"2019-12-01T00:00:00\", \"2020-01-01T00:00:00\", \"2020-02-01T00:00:00\", \"2020-03-01T00:00:00\", \"2020-04-01T00:00:00\", \"2020-05-01T00:00:00\", \"2020-06-15T00:00:00\", \"2020-06-15T00:00:00\", \"2020-06-17T00:00:00\", \"2020-06-18T00:00:00\", \"2020-06-19T00:00:00\", \"2020-06-20T00:00:00\", \"2020-06-21T00:00:00\", \"2020-06-21T00:00:00\", \"2020-06-23T00:00:00\", \"2020-06-24T00:00:00\", \"2020-06-25T00:00:00\", \"2020-06-26T00:00:00\", \"2020-06-26T00:00:00\", \"2020-06-28T00:00:00\", \"2020-06-29T00:00:00\", \"2020-06-30T00:00:00\", \"2020-06-30T00:00:00\", \"2020-07-02T00:00:00\", \"2020-07-03T00:00:00\", \"2020-07-04T00:00:00\", \"2020-07-05T00:00:00\", \"2020-07-06T00:00:00\", \"2020-07-07T00:00:00\", \"2020-07-07T00:00:00\"], \"y\": [30.593749999999996, 10.10187142857143, 11.539771428571429, 18.67318571428571, 15.222442857142857, 8.690671428571429, 10.017871428571427, 24.091922222222223, 5.410292307692307, 42.229375, 15.852500000000001, 11.80134, 11.824166666666663, 13.37528, 9.325619999999999, 13.659049999999999, 6.125044444444445, 7.296841666666666, 11.4621375, 6.68914, 7.318809999999999, 12.284922222222221, 11.371753333333334, 11.209926666666666, 6.837837500000001, 2.7144, 2.7144, 4.2957, 3.4, 3.8961, 4.3043, 4.3956, 4.3956, 7.2801, 7.5, 8.4, 7.9798, 7.9798, 8.9, 8.478, 9.009, 9.009, 6.8068, 7.2, 7.3073, 6.9, 8.0808, 8.1, 8.1]}, {\"mode\": \"lines\", \"name\": \"Amalangkan\", \"stackgroup\": \"one\", \"type\": \"scatter\", \"x\": [\"2018-05-01T00:00:00\", \"2018-06-01T00:00:00\", \"2018-07-01T00:00:00\", \"2018-08-01T00:00:00\", \"2018-09-01T00:00:00\", \"2018-10-01T00:00:00\", \"2018-11-01T00:00:00\", \"2018-12-01T00:00:00\", \"2019-01-01T00:00:00\", \"2019-02-01T00:00:00\", \"2019-03-01T00:00:00\", \"2019-04-01T00:00:00\", \"2019-05-01T00:00:00\", \"2019-06-01T00:00:00\", \"2019-07-01T00:00:00\", \"2019-08-01T00:00:00\", \"2019-09-01T00:00:00\", \"2019-10-01T00:00:00\", \"2019-11-01T00:00:00\", \"2019-12-01T00:00:00\", \"2020-01-01T00:00:00\", \"2020-02-01T00:00:00\", \"2020-03-01T00:00:00\", \"2020-04-01T00:00:00\", \"2020-05-01T00:00:00\", \"2020-06-15T00:00:00\", \"2020-06-15T00:00:00\", \"2020-06-17T00:00:00\", \"2020-06-18T00:00:00\", \"2020-06-19T00:00:00\", \"2020-06-20T00:00:00\", \"2020-06-21T00:00:00\", \"2020-06-21T00:00:00\", \"2020-06-23T00:00:00\", \"2020-06-24T00:00:00\", \"2020-06-25T00:00:00\", \"2020-06-26T00:00:00\", \"2020-06-26T00:00:00\", \"2020-06-28T00:00:00\", \"2020-06-29T00:00:00\", \"2020-06-30T00:00:00\", \"2020-06-30T00:00:00\", \"2020-07-02T00:00:00\", \"2020-07-03T00:00:00\", \"2020-07-04T00:00:00\", \"2020-07-05T00:00:00\", \"2020-07-06T00:00:00\", \"2020-07-07T00:00:00\", \"2020-07-07T00:00:00\"], \"y\": [74.89751428571428, 58.831685714285705, 32.66562857142856, 61.103685714285724, 72.8438, 63.09185714285714, 42.4892375, 71.45305384615385, 57.59697142857142, 68.74487777777777, 70.83546000000001, 76.01936363636364, 70.12338181818183, 66.30798461538463, 68.09475833333333, 60.63767272727273, 55.04567999999999, 58.24379285714286, 62.63242307692308, 52.81992727272727, 61.79, 61.759916666666676, 51.45062, 52.61252000000001, 54.691100000000006, 76.1364, 76.1364, 70.3593, 62.4376, 55.9, 57.0131, 53.5714, 53.5714, 51.1225, 50.7143, 45.5, 46.3536, 46.3536, 44.6446, 46.339, 45.0351, 45.0351, 45.4363, 48.1, 50.2497, 49.9, 44.2557, 44.0559, 44.0559]}, {\"mode\": \"lines\", \"name\": \"Chuelchs\", \"stackgroup\": \"one\", \"type\": \"scatter\", \"x\": [\"2018-05-01T00:00:00\", \"2018-06-01T00:00:00\", \"2018-07-01T00:00:00\", \"2018-08-01T00:00:00\", \"2018-09-01T00:00:00\", \"2018-10-01T00:00:00\", \"2018-11-01T00:00:00\", \"2018-12-01T00:00:00\", \"2019-01-01T00:00:00\", \"2019-02-01T00:00:00\", \"2019-03-01T00:00:00\", \"2019-04-01T00:00:00\", \"2019-05-01T00:00:00\", \"2019-06-01T00:00:00\", \"2019-07-01T00:00:00\", \"2019-08-01T00:00:00\", \"2019-09-01T00:00:00\", \"2019-10-01T00:00:00\", \"2019-11-01T00:00:00\", \"2019-12-01T00:00:00\", \"2020-01-01T00:00:00\", \"2020-02-01T00:00:00\", \"2020-03-01T00:00:00\", \"2020-04-01T00:00:00\", \"2020-05-01T00:00:00\", \"2020-06-15T00:00:00\", \"2020-06-15T00:00:00\", \"2020-06-17T00:00:00\", \"2020-06-18T00:00:00\", \"2020-06-19T00:00:00\", \"2020-06-20T00:00:00\", \"2020-06-21T00:00:00\", \"2020-06-21T00:00:00\", \"2020-06-23T00:00:00\", \"2020-06-24T00:00:00\", \"2020-06-25T00:00:00\", \"2020-06-26T00:00:00\", \"2020-06-26T00:00:00\", \"2020-06-28T00:00:00\", \"2020-06-29T00:00:00\", \"2020-06-30T00:00:00\", \"2020-06-30T00:00:00\", \"2020-07-02T00:00:00\", \"2020-07-03T00:00:00\", \"2020-07-04T00:00:00\", \"2020-07-05T00:00:00\", \"2020-07-06T00:00:00\", \"2020-07-07T00:00:00\", \"2020-07-07T00:00:00\"], \"y\": [42.12851428571428, 28.942825, 21.623314285714287, 18.191999999999997, 21.675985714285712, 32.33486666666666, 43.92398571428571, 50.07761250000001, 39.1531, 67.35442499999999, 62.84330000000001, 47.858241666666665, 56.563022222222216, 65.91766666666666, 49.44704, 50.8356875, 60.31651818181819, 60.520266666666664, 49.87904999999999, 54.434099999999994, 51.378925, 52.395979999999994, 46.82047, 53.56531, 60.9905, 53.3898, 53.3898, 50.5495, 50.5, 48.2482, 46.4464, 44.2442, 44.2442, 45.3453, 45.3453, 46.046, 50.3, 50.3, 46.5465, 46.2, 50.0, 50.0, 46.4, 46.1, 45.3, 50.4, 53.2, 50.404, 50.404]}, {\"mode\": \"lines\", \"name\": \"Codorain\", \"stackgroup\": \"one\", \"type\": \"scatter\", \"x\": [\"2018-05-01T00:00:00\", \"2018-06-01T00:00:00\", \"2018-06-01T00:00:00\", \"2018-06-01T00:00:00\", \"2018-06-01T00:00:00\", \"2018-06-01T00:00:00\", \"2018-06-01T00:00:00\", \"2018-06-01T00:00:00\", \"2018-06-01T00:00:00\", \"2018-06-01T00:00:00\", \"2018-06-01T00:00:00\", \"2018-06-01T00:00:00\", \"2018-06-01T00:00:00\", \"2018-06-01T00:00:00\", \"2018-06-01T00:00:00\", \"2018-06-01T00:00:00\", \"2018-06-01T00:00:00\", \"2018-06-01T00:00:00\", \"2018-06-01T00:00:00\", \"2018-06-01T00:00:00\", \"2018-06-01T00:00:00\", \"2018-06-01T00:00:00\", \"2018-06-01T00:00:00\", \"2018-06-01T00:00:00\", \"2018-06-01T00:00:00\", \"2018-06-01T00:00:00\", \"2018-06-01T00:00:00\", \"2018-06-01T00:00:00\", \"2018-06-01T00:00:00\", \"2018-06-01T00:00:00\", \"2018-06-01T00:00:00\", \"2018-06-01T00:00:00\", \"2018-06-01T00:00:00\", \"2018-06-01T00:00:00\", \"2018-06-01T00:00:00\", \"2018-06-01T00:00:00\", \"2018-06-01T00:00:00\", \"2018-06-01T00:00:00\", \"2018-06-01T00:00:00\", \"2018-06-01T00:00:00\", \"2018-06-01T00:00:00\", \"2018-06-01T00:00:00\", \"2018-06-01T00:00:00\", \"2018-06-01T00:00:00\", \"2018-06-01T00:00:00\", \"2018-06-01T00:00:00\", \"2018-06-01T00:00:00\", \"2018-06-01T00:00:00\", \"2018-06-01T00:00:00\"], \"y\": [2.994742857142857, 2.1009, 2.1009, 2.1009, 2.1009, 2.1009, 2.1009, 2.1009, 2.1009, 2.1009, 2.1009, 2.1009, 2.1009, 2.1009, 2.1009, 2.1009, 2.1009, 2.1009, 2.1009, 2.1009, 2.1009, 2.1009, 2.1009, 2.1009, 2.1009, 2.1009, 2.1009, 2.1009, 2.1009, 2.1009, 2.1009, 2.1009, 2.1009, 2.1009, 2.1009, 2.1009, 2.1009, 2.1009, 2.1009, 2.1009, 2.1009, 2.1009, 2.1009, 2.1009, 2.1009, 2.1009, 2.1009, 2.1009, 2.1009]}, {\"mode\": \"lines\", \"name\": \"Delkar\", \"stackgroup\": \"one\", \"type\": \"scatter\", \"x\": [\"2018-05-01T00:00:00\", \"2018-06-01T00:00:00\", \"2018-07-01T00:00:00\", \"2018-08-01T00:00:00\", \"2018-09-01T00:00:00\", \"2018-10-01T00:00:00\", \"2018-11-01T00:00:00\", \"2018-12-01T00:00:00\", \"2019-01-01T00:00:00\", \"2019-02-01T00:00:00\", \"2019-03-01T00:00:00\", \"2019-04-01T00:00:00\", \"2019-05-01T00:00:00\", \"2019-06-01T00:00:00\", \"2019-07-01T00:00:00\", \"2019-08-01T00:00:00\", \"2019-09-01T00:00:00\", \"2019-10-01T00:00:00\", \"2019-11-01T00:00:00\", \"2019-12-01T00:00:00\", \"2020-01-01T00:00:00\", \"2020-02-01T00:00:00\", \"2020-03-01T00:00:00\", \"2020-04-01T00:00:00\", \"2020-05-01T00:00:00\", \"2020-06-15T00:00:00\", \"2020-06-15T00:00:00\", \"2020-06-17T00:00:00\", \"2020-06-18T00:00:00\", \"2020-06-19T00:00:00\", \"2020-06-20T00:00:00\", \"2020-06-21T00:00:00\", \"2020-06-21T00:00:00\", \"2020-06-23T00:00:00\", \"2020-06-24T00:00:00\", \"2020-06-25T00:00:00\", \"2020-06-26T00:00:00\", \"2020-06-26T00:00:00\", \"2020-06-28T00:00:00\", \"2020-06-29T00:00:00\", \"2020-06-30T00:00:00\", \"2020-06-30T00:00:00\", \"2020-07-02T00:00:00\", \"2020-07-03T00:00:00\", \"2020-07-04T00:00:00\", \"2020-07-05T00:00:00\", \"2020-07-06T00:00:00\", \"2020-07-07T00:00:00\", \"2020-07-07T00:00:00\"], \"y\": [6.2974428571428565, 5.969528571428571, 5.726699999999999, 7.988942857142858, 11.059700000000001, 9.035, 5.881671428571428, 10.209581818181817, 12.675953846153842, 19.10794615384615, 10.547925000000001, 8.09, 10.920407692307693, 7.978476923076924, 9.183799999999998, 9.547681818181816, 9.25325, 7.804190909090911, 8.25743846153846, 7.04840625, 9.084317647058825, 10.154525, 4.64065, 11.748466666666664, 10.836674999999998, 4.7343, 4.7343, 5.0, 6.5, 6.5065, 8.0972, 8.1918, 8.1918, 8.3588, 8.4084, 3.6108000000000002, 5.2156, 5.2156, 10.5477, 10.8216, 11.336, 11.336, 13.2323, 13.4557, 13.1365, 13.1, 12.4242, 13.1498, 13.1498]}, {\"mode\": \"lines\", \"name\": \"Dhathaarib\", \"stackgroup\": \"one\", \"type\": \"scatter\", \"x\": [\"2018-05-01T00:00:00\", \"2018-06-01T00:00:00\", \"2018-07-01T00:00:00\", \"2018-08-01T00:00:00\", \"2018-09-01T00:00:00\", \"2018-10-01T00:00:00\", \"2018-11-01T00:00:00\", \"2018-12-01T00:00:00\", \"2019-01-01T00:00:00\", \"2019-02-01T00:00:00\", \"2019-03-01T00:00:00\", \"2019-04-01T00:00:00\", \"2019-05-01T00:00:00\", \"2019-06-01T00:00:00\", \"2019-07-01T00:00:00\", \"2019-08-01T00:00:00\", \"2019-09-01T00:00:00\", \"2019-10-01T00:00:00\", \"2019-11-01T00:00:00\", \"2019-12-01T00:00:00\", \"2020-01-01T00:00:00\", \"2020-02-01T00:00:00\", \"2020-03-01T00:00:00\", \"2020-04-01T00:00:00\", \"2020-05-01T00:00:00\", \"2020-06-15T00:00:00\", \"2020-06-15T00:00:00\", \"2020-06-17T00:00:00\", \"2020-06-18T00:00:00\", \"2020-06-19T00:00:00\", \"2020-06-20T00:00:00\", \"2020-06-21T00:00:00\", \"2020-06-21T00:00:00\", \"2020-06-23T00:00:00\", \"2020-06-24T00:00:00\", \"2020-06-25T00:00:00\", \"2020-06-26T00:00:00\", \"2020-06-26T00:00:00\", \"2020-06-28T00:00:00\", \"2020-06-29T00:00:00\", \"2020-06-30T00:00:00\", \"2020-06-30T00:00:00\", \"2020-07-02T00:00:00\", \"2020-07-03T00:00:00\", \"2020-07-04T00:00:00\", \"2020-07-05T00:00:00\", \"2020-07-06T00:00:00\", \"2020-07-07T00:00:00\", \"2020-07-07T00:00:00\"], \"y\": [16.201485714285717, 15.959357142857142, 8.142285714285714, 33.34282857142857, 32.5209875, 17.180314285714285, 8.157887500000001, 13.208839999999999, 12.175, 23.505300000000002, 16.165499999999998, 24.38251666666667, 19.000077777777776, 21.060766666666666, 21.856192307692304, 23.319231250000005, 20.22088666666666, 11.944805882352941, 9.214853846153845, 15.507491666666667, 16.39581, 9.37850909090909, 13.818199999999997, 14.754133333333332, 12.348505882352939, 13.2495, 13.2495, 9.7902, 8.982, 10.7784, 12.2754, 14.4711, 14.4711, 20.5493, 19.9, 21.4785, 21.4571, 21.4571, 21.4357, 21.4357, 16.3509, 16.3509, 16.4506, 20.4387, 19.3613, 19.4417, 18.8623, 21.336, 21.336]}, {\"mode\": \"lines\", \"name\": \"Hodack\", \"stackgroup\": \"one\", \"type\": \"scatter\", \"x\": [\"2018-05-01T00:00:00\", \"2018-06-01T00:00:00\", \"2018-07-01T00:00:00\", \"2018-08-01T00:00:00\", \"2018-09-01T00:00:00\", \"2018-10-01T00:00:00\", \"2018-11-01T00:00:00\", \"2018-12-01T00:00:00\", \"2019-01-01T00:00:00\", \"2019-02-01T00:00:00\", \"2019-03-01T00:00:00\", \"2019-04-01T00:00:00\", \"2019-05-01T00:00:00\", \"2019-06-01T00:00:00\", \"2019-07-01T00:00:00\", \"2019-08-01T00:00:00\", \"2019-09-01T00:00:00\", \"2019-10-01T00:00:00\", \"2019-11-01T00:00:00\", \"2019-12-01T00:00:00\", \"2020-01-01T00:00:00\", \"2020-02-01T00:00:00\", \"2020-03-01T00:00:00\", \"2020-04-01T00:00:00\", \"2020-05-01T00:00:00\", \"2020-06-15T00:00:00\", \"2020-06-15T00:00:00\", \"2020-06-17T00:00:00\", \"2020-06-18T00:00:00\", \"2020-06-19T00:00:00\", \"2020-06-20T00:00:00\", \"2020-06-20T00:00:00\", \"2020-06-22T00:00:00\", \"2020-06-22T00:00:00\", \"2020-06-24T00:00:00\", \"2020-06-24T00:00:00\", \"2020-06-26T00:00:00\", \"2020-06-26T00:00:00\", \"2020-06-28T00:00:00\", \"2020-06-29T00:00:00\", \"2020-06-30T00:00:00\", \"2020-06-30T00:00:00\", \"2020-07-02T00:00:00\", \"2020-07-03T00:00:00\", \"2020-07-04T00:00:00\", \"2020-07-05T00:00:00\", \"2020-07-06T00:00:00\", \"2020-07-06T00:00:00\", \"2020-07-06T00:00:00\"], \"y\": [10.525, 9.740371428571427, 30.009983333333334, 21.310557142857142, 33.64406666666667, 18.550000000000004, 25.28946, 7.397266666666667, 27.215883333333334, 46.11212499999999, 47.33078888888888, 33.4208125, 48.38975555555555, 39.09413, 37.0580375, 49.116577777777785, 46.789611111111114, 54.17108888888889, 57.09175714285714, 59.34102857142857, 51.013957142857144, 60.53392222222222, 47.0984375, 46.7985, 44.18088333333333, 77.1484, 77.1484, 77.4, 77.4, 76.2, 77.8797, 77.8797, 63.3, 63.3, 47.0, 47.0, 46.0, 46.0, 45.7457, 46.3, 48.0, 48.0, 37.3, 38.8, 40.4, 42.3576, 41.517, 41.517, 41.517]}, {\"mode\": \"lines\", \"name\": \"Komovoy\", \"stackgroup\": \"one\", \"type\": \"scatter\", \"x\": [\"2018-05-01T00:00:00\", \"2018-06-01T00:00:00\", \"2018-07-01T00:00:00\", \"2018-08-01T00:00:00\", \"2018-09-01T00:00:00\", \"2018-10-01T00:00:00\", \"2018-11-01T00:00:00\", \"2018-12-01T00:00:00\", \"2019-01-01T00:00:00\", \"2019-02-01T00:00:00\", \"2019-03-01T00:00:00\", \"2019-04-01T00:00:00\", \"2019-05-01T00:00:00\", \"2019-06-01T00:00:00\", \"2019-07-01T00:00:00\", \"2019-08-01T00:00:00\", \"2019-09-01T00:00:00\", \"2019-10-01T00:00:00\", \"2019-11-01T00:00:00\", \"2019-12-01T00:00:00\", \"2020-01-01T00:00:00\", \"2020-02-01T00:00:00\", \"2020-03-01T00:00:00\", \"2020-04-01T00:00:00\", \"2020-05-01T00:00:00\", \"2020-06-15T00:00:00\", \"2020-06-15T00:00:00\", \"2020-06-17T00:00:00\", \"2020-06-18T00:00:00\", \"2020-06-19T00:00:00\", \"2020-06-20T00:00:00\", \"2020-06-21T00:00:00\", \"2020-06-21T00:00:00\", \"2020-06-23T00:00:00\", \"2020-06-24T00:00:00\", \"2020-06-25T00:00:00\", \"2020-06-26T00:00:00\", \"2020-06-26T00:00:00\", \"2020-06-28T00:00:00\", \"2020-06-29T00:00:00\", \"2020-06-30T00:00:00\", \"2020-06-30T00:00:00\", \"2020-07-02T00:00:00\", \"2020-07-03T00:00:00\", \"2020-07-04T00:00:00\", \"2020-07-05T00:00:00\", \"2020-07-06T00:00:00\", \"2020-07-07T00:00:00\", \"2020-07-07T00:00:00\"], \"y\": [23.897533333333328, 11.510871428571429, 8.333514285714285, 9.082585714285715, 9.790471428571431, 12.21247142857143, 13.812612499999998, 15.330700000000002, 20.535108000000005, 16.0573125, 14.866940000000003, 11.817675, 12.207336363636363, 7.94274375, 12.487983333333332, 14.485499999999998, 11.356325, 10.37310588235294, 12.048, 10.168034999999998, 9.630363636363636, 7.883738095238093, 12.249599999999997, 10.370360000000002, 13.634, 7.8827, 7.8827, 7.6, 7.6, 7.6, 7.5924, 7.6, 7.6, 7.6, 3.2032, 4.3086, 5.2104, 5.2104, 6.1184, 6.319, 8.7262, 8.7262, 8.7349, 8.7437, 8.7437, 4.0161, 7.7232, 8.2247, 8.2247]}, {\"mode\": \"lines\", \"name\": \"LTT 4497\", \"stackgroup\": \"one\", \"type\": \"scatter\", \"x\": [\"2018-05-01T00:00:00\", \"2018-05-01T00:00:00\", \"2018-05-01T00:00:00\", \"2018-05-01T00:00:00\", \"2018-05-01T00:00:00\", \"2018-05-01T00:00:00\", \"2018-05-01T00:00:00\", \"2018-05-01T00:00:00\", \"2018-05-01T00:00:00\", \"2018-05-01T00:00:00\", \"2018-05-01T00:00:00\", \"2018-05-01T00:00:00\", \"2018-05-01T00:00:00\", \"2018-05-01T00:00:00\", \"2018-05-01T00:00:00\", \"2018-05-01T00:00:00\", \"2018-05-01T00:00:00\", \"2018-05-01T00:00:00\", \"2018-05-01T00:00:00\", \"2018-05-01T00:00:00\", \"2018-05-01T00:00:00\", \"2018-05-01T00:00:00\", \"2018-05-01T00:00:00\", \"2018-05-01T00:00:00\", \"2018-05-01T00:00:00\", \"2018-05-01T00:00:00\", \"2018-05-01T00:00:00\", \"2018-05-01T00:00:00\", \"2018-05-01T00:00:00\", \"2018-05-01T00:00:00\", \"2018-05-01T00:00:00\", \"2018-05-01T00:00:00\", \"2018-05-01T00:00:00\", \"2018-05-01T00:00:00\", \"2018-05-01T00:00:00\", \"2018-05-01T00:00:00\", \"2018-05-01T00:00:00\", \"2018-05-01T00:00:00\", \"2018-05-01T00:00:00\", \"2018-05-01T00:00:00\", \"2018-05-01T00:00:00\", \"2018-05-01T00:00:00\", \"2018-05-01T00:00:00\", \"2018-05-01T00:00:00\", \"2018-05-01T00:00:00\", \"2018-05-01T00:00:00\", \"2018-05-01T00:00:00\", \"2018-05-01T00:00:00\", \"2018-05-01T00:00:00\"], \"y\": [5.577885714285715, 5.577885714285715, 5.577885714285715, 5.577885714285715, 5.577885714285715, 5.577885714285715, 5.577885714285715, 5.577885714285715, 5.577885714285715, 5.577885714285715, 5.577885714285715, 5.577885714285715, 5.577885714285715, 5.577885714285715, 5.577885714285715, 5.577885714285715, 5.577885714285715, 5.577885714285715, 5.577885714285715, 5.577885714285715, 5.577885714285715, 5.577885714285715, 5.577885714285715, 5.577885714285715, 5.577885714285715, 5.577885714285715, 5.577885714285715, 5.577885714285715, 5.577885714285715, 5.577885714285715, 5.577885714285715, 5.577885714285715, 5.577885714285715, 5.577885714285715, 5.577885714285715, 5.577885714285715, 5.577885714285715, 5.577885714285715, 5.577885714285715, 5.577885714285715, 5.577885714285715, 5.577885714285715, 5.577885714285715, 5.577885714285715, 5.577885714285715, 5.577885714285715, 5.577885714285715, 5.577885714285715, 5.577885714285715]}, {\"mode\": \"lines\", \"name\": \"Minarii\", \"stackgroup\": \"one\", \"type\": \"scatter\", \"x\": [\"2018-05-01T00:00:00\", \"2018-06-01T00:00:00\", \"2018-07-01T00:00:00\", \"2018-08-01T00:00:00\", \"2018-09-01T00:00:00\", \"2018-10-01T00:00:00\", \"2018-11-01T00:00:00\", \"2018-12-01T00:00:00\", \"2019-01-01T00:00:00\", \"2019-02-01T00:00:00\", \"2019-03-01T00:00:00\", \"2019-04-01T00:00:00\", \"2019-05-01T00:00:00\", \"2019-06-01T00:00:00\", \"2019-07-01T00:00:00\", \"2019-08-01T00:00:00\", \"2019-09-01T00:00:00\", \"2019-10-01T00:00:00\", \"2019-11-01T00:00:00\", \"2019-12-01T00:00:00\", \"2020-01-01T00:00:00\", \"2020-02-01T00:00:00\", \"2020-03-01T00:00:00\", \"2020-04-01T00:00:00\", \"2020-05-01T00:00:00\", \"2020-06-15T00:00:00\", \"2020-06-15T00:00:00\", \"2020-06-17T00:00:00\", \"2020-06-18T00:00:00\", \"2020-06-19T00:00:00\", \"2020-06-19T00:00:00\", \"2020-06-19T00:00:00\", \"2020-06-19T00:00:00\", \"2020-06-19T00:00:00\", \"2020-06-19T00:00:00\", \"2020-06-19T00:00:00\", \"2020-06-19T00:00:00\", \"2020-06-19T00:00:00\", \"2020-06-19T00:00:00\", \"2020-06-19T00:00:00\", \"2020-06-19T00:00:00\", \"2020-06-19T00:00:00\", \"2020-06-19T00:00:00\", \"2020-06-19T00:00:00\", \"2020-06-19T00:00:00\", \"2020-06-19T00:00:00\", \"2020-06-19T00:00:00\", \"2020-06-19T00:00:00\", \"2020-06-19T00:00:00\"], \"y\": [15.273642857142857, 11.46854285714286, 5.46275, 5.039340000000001, 4.847566666666666, 5.917557142857143, 7.93405, 10.2628, 12.868377777777775, 6.559749999999998, 10.969942857142858, 9.475436363636364, 11.5, 12.525218181818182, 9.791927272727271, 7.8386375, 5.227290909090909, 5.811050000000001, 9.490377777777777, 7.129399999999999, 5.712822222222222, 8.657544444444445, 10.702022222222222, 8.439555555555556, 5.357445454545455, 1.0352, 1.0352, 3.3, 2.5974, 1.0152, 1.0152, 1.0152, 1.0152, 1.0152, 1.0152, 1.0152, 1.0152, 1.0152, 1.0152, 1.0152, 1.0152, 1.0152, 1.0152, 1.0152, 1.0152, 1.0152, 1.0152, 1.0152, 1.0152]}, {\"mode\": \"lines\", \"name\": \"Panopi\", \"stackgroup\": \"one\", \"type\": \"scatter\", \"x\": [\"2018-05-01T00:00:00\", \"2018-06-01T00:00:00\", \"2018-07-01T00:00:00\", \"2018-08-01T00:00:00\", \"2018-09-01T00:00:00\", \"2018-10-01T00:00:00\", \"2018-11-01T00:00:00\", \"2018-12-01T00:00:00\", \"2019-01-01T00:00:00\", \"2019-02-01T00:00:00\", \"2019-03-01T00:00:00\", \"2019-04-01T00:00:00\", \"2019-05-01T00:00:00\", \"2019-06-01T00:00:00\", \"2019-07-01T00:00:00\", \"2019-08-01T00:00:00\", \"2019-09-01T00:00:00\", \"2019-10-01T00:00:00\", \"2019-11-01T00:00:00\", \"2019-12-01T00:00:00\", \"2020-01-01T00:00:00\", \"2020-02-01T00:00:00\", \"2020-03-01T00:00:00\", \"2020-04-01T00:00:00\", \"2020-05-01T00:00:00\", \"2020-06-15T00:00:00\", \"2020-06-15T00:00:00\", \"2020-06-17T00:00:00\", \"2020-06-18T00:00:00\", \"2020-06-19T00:00:00\", \"2020-06-20T00:00:00\", \"2020-06-21T00:00:00\", \"2020-06-21T00:00:00\", \"2020-06-23T00:00:00\", \"2020-06-24T00:00:00\", \"2020-06-25T00:00:00\", \"2020-06-26T00:00:00\", \"2020-06-26T00:00:00\", \"2020-06-28T00:00:00\", \"2020-06-29T00:00:00\", \"2020-06-30T00:00:00\", \"2020-06-30T00:00:00\", \"2020-07-02T00:00:00\", \"2020-07-03T00:00:00\", \"2020-07-04T00:00:00\", \"2020-07-05T00:00:00\", \"2020-07-06T00:00:00\", \"2020-07-07T00:00:00\", \"2020-07-07T00:00:00\"], \"y\": [10.608485714285715, 13.4946625, 8.954057142857144, 19.97797142857143, 22.95817142857143, 10.014014285714284, 15.375371428571425, 18.505871428571428, 18.49748333333334, 9.043355555555557, 23.3127125, 33.57856249999999, 18.57169230769231, 21.590272727272726, 24.255154545454545, 17.243675, 11.334810000000001, 17.51167333333333, 5.686778571428571, 6.524847368421052, 13.374442857142856, 9.406921428571428, 11.676777777777778, 17.061438888888887, 7.890954545454545, 2.0588, 2.0588, 3.6561, 8.2578, 6.6, 7.5, 9.0, 9.0, 13.1, 11.0, 15.9, 15.1, 15.1, 15.7, 16.2, 17.5758, 17.5758, 17.8, 17.8, 17.8, 17.7822, 17.7822, 17.7822, 17.7822]}, {\"mode\": \"lines\", \"name\": \"Pemoeri\", \"stackgroup\": \"one\", \"type\": \"scatter\", \"x\": [\"2018-05-01T00:00:00\", \"2018-06-01T00:00:00\", \"2018-07-01T00:00:00\", \"2018-08-01T00:00:00\", \"2018-09-01T00:00:00\", \"2018-10-01T00:00:00\", \"2018-11-01T00:00:00\", \"2018-12-01T00:00:00\", \"2019-01-01T00:00:00\", \"2019-02-01T00:00:00\", \"2019-03-01T00:00:00\", \"2019-04-01T00:00:00\", \"2019-05-01T00:00:00\", \"2019-06-01T00:00:00\", \"2019-07-01T00:00:00\", \"2019-08-01T00:00:00\", \"2019-09-01T00:00:00\", \"2019-10-01T00:00:00\", \"2019-11-01T00:00:00\", \"2019-12-01T00:00:00\", \"2020-01-01T00:00:00\", \"2020-02-01T00:00:00\", \"2020-03-01T00:00:00\", \"2020-04-01T00:00:00\", \"2020-05-01T00:00:00\", \"2020-06-15T00:00:00\", \"2020-06-15T00:00:00\", \"2020-06-17T00:00:00\", \"2020-06-18T00:00:00\", \"2020-06-19T00:00:00\", \"2020-06-20T00:00:00\", \"2020-06-21T00:00:00\", \"2020-06-21T00:00:00\", \"2020-06-23T00:00:00\", \"2020-06-24T00:00:00\", \"2020-06-25T00:00:00\", \"2020-06-26T00:00:00\", \"2020-06-26T00:00:00\", \"2020-06-28T00:00:00\", \"2020-06-29T00:00:00\", \"2020-06-30T00:00:00\", \"2020-06-30T00:00:00\", \"2020-07-02T00:00:00\", \"2020-07-03T00:00:00\", \"2020-07-04T00:00:00\", \"2020-07-05T00:00:00\", \"2020-07-06T00:00:00\", \"2020-07-07T00:00:00\", \"2020-07-07T00:00:00\"], \"y\": [8.714457142857142, 6.6279142857142865, 11.7539, 10.118714285714287, 12.553614285714284, 12.191199999999998, 7.324916666666667, 7.7426571428571425, 12.02393846153846, 14.39578125, 13.5801, 9.998653333333333, 8.1733125, 12.030158333333333, 13.994268749999996, 13.49921875, 13.074177777777777, 10.161666666666665, 12.724429999999998, 6.987217647058822, 10.993558333333333, 12.657157142857145, 10.411784615384612, 9.98040909090909, 8.314733333333333, 8.8702, 8.8702, 10.978, 10.4686, 11.2662, 10.2794, 13.5864, 13.5864, 15.6843, 21.3786, 21.5943, 20.6721, 20.6721, 15.9435, 14.7658, 15.7, 15.7, 13.3468, 13.3468, 12.9412, 12.9129, 12.9129, 12.9129, 12.9129]}, {\"mode\": \"lines\", \"name\": \"Solati\", \"stackgroup\": \"one\", \"type\": \"scatter\", \"x\": [\"2018-05-01T00:00:00\", \"2018-06-01T00:00:00\", \"2018-07-01T00:00:00\", \"2018-08-01T00:00:00\", \"2018-09-01T00:00:00\", \"2018-10-01T00:00:00\", \"2018-11-01T00:00:00\", \"2018-12-01T00:00:00\", \"2019-01-01T00:00:00\", \"2019-02-01T00:00:00\", \"2019-03-01T00:00:00\", \"2019-04-01T00:00:00\", \"2019-05-01T00:00:00\", \"2019-06-01T00:00:00\", \"2019-07-01T00:00:00\", \"2019-08-01T00:00:00\", \"2019-09-01T00:00:00\", \"2019-10-01T00:00:00\", \"2019-11-01T00:00:00\", \"2019-12-01T00:00:00\", \"2020-01-01T00:00:00\", \"2020-02-01T00:00:00\", \"2020-03-01T00:00:00\", \"2020-04-01T00:00:00\", \"2020-05-01T00:00:00\", \"2020-06-15T00:00:00\", \"2020-06-15T00:00:00\", \"2020-06-17T00:00:00\", \"2020-06-18T00:00:00\", \"2020-06-19T00:00:00\", \"2020-06-20T00:00:00\", \"2020-06-21T00:00:00\", \"2020-06-21T00:00:00\", \"2020-06-23T00:00:00\", \"2020-06-24T00:00:00\", \"2020-06-25T00:00:00\", \"2020-06-26T00:00:00\", \"2020-06-26T00:00:00\", \"2020-06-28T00:00:00\", \"2020-06-29T00:00:00\", \"2020-06-30T00:00:00\", \"2020-06-30T00:00:00\", \"2020-07-02T00:00:00\", \"2020-07-03T00:00:00\", \"2020-07-04T00:00:00\", \"2020-07-05T00:00:00\", \"2020-07-06T00:00:00\", \"2020-07-07T00:00:00\", \"2020-07-07T00:00:00\"], \"y\": [18.215614285714288, 6.80115, 7.043214285714286, 10.823214285714284, 20.6679, 9.568657142857143, 7.430771428571427, 21.905933333333333, 13.307899999999998, 36.77671111111111, 40.13993000000001, 23.875925000000002, 11.08892857142857, 13.704582352941177, 8.702393333333333, 10.986690000000001, 12.479245454545456, 9.159484615384615, 10.723083333333337, 14.402023076923076, 8.968441176470588, 10.925206666666668, 10.698689473684212, 15.278459999999999, 12.59301578947368, 7.8067, 7.8067, 4.5045, 5.5055, 5.2052, 6.6132, 8.2164, 8.2164, 8.2164, 8.2164, 8.2164, 4.1082, 4.1082, 9.7902, 9.7902, 9.7804, 9.7804, 9.7707, 4.3868, 5.2841000000000005, 6.0818, 6.4806, 8.4746, 8.4746]}, {\"mode\": \"lines\", \"name\": \"Vucub Huan\", \"stackgroup\": \"one\", \"type\": \"scatter\", \"x\": [\"2018-10-01T00:00:00\", \"2018-11-01T00:00:00\", \"2018-12-01T00:00:00\", \"2019-01-01T00:00:00\", \"2019-02-01T00:00:00\", \"2019-03-01T00:00:00\", \"2019-04-01T00:00:00\", \"2019-05-01T00:00:00\", \"2019-06-01T00:00:00\", \"2019-07-01T00:00:00\", \"2019-08-01T00:00:00\", \"2019-09-01T00:00:00\", \"2019-10-01T00:00:00\", \"2019-11-01T00:00:00\", \"2019-12-01T00:00:00\", \"2020-01-01T00:00:00\", \"2020-02-01T00:00:00\", \"2020-03-01T00:00:00\", \"2020-04-01T00:00:00\", \"2020-05-01T00:00:00\", \"2020-06-15T00:00:00\", \"2020-06-15T00:00:00\", \"2020-06-17T00:00:00\", \"2020-06-18T00:00:00\", \"2020-06-19T00:00:00\", \"2020-06-20T00:00:00\", \"2020-06-21T00:00:00\", \"2020-06-21T00:00:00\", \"2020-06-23T00:00:00\", \"2020-06-24T00:00:00\", \"2020-06-25T00:00:00\", \"2020-06-26T00:00:00\", \"2020-06-26T00:00:00\", \"2020-06-28T00:00:00\", \"2020-06-29T00:00:00\", \"2020-06-30T00:00:00\", \"2020-06-30T00:00:00\", \"2020-07-02T00:00:00\", \"2020-07-03T00:00:00\", \"2020-07-04T00:00:00\", \"2020-07-05T00:00:00\", \"2020-07-06T00:00:00\", \"2020-07-07T00:00:00\", \"2020-07-07T00:00:00\"], \"y\": [5.3393999999999995, 20.56548571428571, 30.405285714285714, 15.860781818181817, 21.895769999999995, 54.21844, 64.69418, 67.36667272727273, 67.02753333333334, 72.128375, 51.36249374999999, 49.0389642857143, 52.17403571428571, 56.09815833333334, 54.59284285714285, 61.33839230769232, 69.7255, 68.84395333333333, 50.91684375, 63.38662222222222, 70.8171, 70.8171, 72.028, 74.026, 71.3287, 68.7625, 67.6324, 67.6324, 62.9371, 59.7403, 57.1429, 57.8422, 57.8422, 59.0, 51.9, 56.8, 56.8, 56.288, 52.0521, 48.2, 50.0499, 48.7512, 49.9, 49.9]}, {\"mode\": \"lines\", \"name\": \"Lapannodaya\", \"stackgroup\": \"one\", \"type\": \"scatter\", \"x\": [\"2019-01-01T00:00:00\", \"2019-02-01T00:00:00\", \"2019-03-01T00:00:00\", \"2019-04-01T00:00:00\", \"2019-05-01T00:00:00\", \"2019-06-01T00:00:00\", \"2019-07-01T00:00:00\", \"2019-08-01T00:00:00\", \"2019-09-01T00:00:00\", \"2019-10-01T00:00:00\", \"2019-11-01T00:00:00\", \"2019-12-01T00:00:00\", \"2020-01-01T00:00:00\", \"2020-02-01T00:00:00\", \"2020-03-01T00:00:00\", \"2020-04-01T00:00:00\", \"2020-05-01T00:00:00\", \"2020-06-15T00:00:00\", \"2020-06-15T00:00:00\", \"2020-06-17T00:00:00\", \"2020-06-18T00:00:00\", \"2020-06-19T00:00:00\", \"2020-06-20T00:00:00\", \"2020-06-21T00:00:00\", \"2020-06-21T00:00:00\", \"2020-06-23T00:00:00\", \"2020-06-24T00:00:00\", \"2020-06-25T00:00:00\", \"2020-06-26T00:00:00\", \"2020-06-26T00:00:00\", \"2020-06-28T00:00:00\", \"2020-06-29T00:00:00\", \"2020-06-30T00:00:00\", \"2020-07-01T00:00:00\", \"2020-07-01T00:00:00\", \"2020-07-03T00:00:00\", \"2020-07-04T00:00:00\", \"2020-07-05T00:00:00\", \"2020-07-06T00:00:00\", \"2020-07-06T00:00:00\", \"2020-07-06T00:00:00\"], \"y\": [22.996100000000006, 12.083079999999999, 26.070649999999997, 18.656675, 18.4472, 8.172925, 8.658362499999999, 23.629283333333333, 21.684791666666666, 13.831033333333332, 16.357883333333334, 14.519829999999999, 13.812175, 9.30545, 5.821522222222222, 10.549374999999998, 14.645955555555556, 10.6343, 10.6343, 9.0818, 8.435, 7.7236, 7.9188, 8.8235, 8.8235, 11.4488, 21.9858, 22.4138, 20.4868, 20.4868, 17.1828, 15.4845, 14.4, 12.6873, 12.6873, 12.5874, 12.5874, 12.5874, 12.6, 12.6, 12.6]}, {\"mode\": \"lines\", \"name\": \"Honoto\", \"stackgroup\": \"one\", \"type\": \"scatter\", \"x\": [\"2019-03-01T00:00:00\", \"2019-04-01T00:00:00\", \"2019-05-01T00:00:00\", \"2019-06-01T00:00:00\", \"2019-07-01T00:00:00\", \"2019-08-01T00:00:00\", \"2019-09-01T00:00:00\", \"2019-10-01T00:00:00\", \"2019-11-01T00:00:00\", \"2019-12-01T00:00:00\", \"2020-01-01T00:00:00\", \"2020-02-01T00:00:00\", \"2020-03-01T00:00:00\", \"2020-04-01T00:00:00\", \"2020-05-01T00:00:00\", \"2020-06-15T00:00:00\", \"2020-06-15T00:00:00\", \"2020-06-17T00:00:00\", \"2020-06-18T00:00:00\", \"2020-06-19T00:00:00\", \"2020-06-20T00:00:00\", \"2020-06-21T00:00:00\", \"2020-06-21T00:00:00\", \"2020-06-23T00:00:00\", \"2020-06-24T00:00:00\", \"2020-06-25T00:00:00\", \"2020-06-26T00:00:00\", \"2020-06-26T00:00:00\", \"2020-06-28T00:00:00\", \"2020-06-29T00:00:00\", \"2020-06-30T00:00:00\", \"2020-06-30T00:00:00\", \"2020-07-02T00:00:00\", \"2020-07-03T00:00:00\", \"2020-07-04T00:00:00\", \"2020-07-05T00:00:00\", \"2020-07-06T00:00:00\", \"2020-07-07T00:00:00\", \"2020-07-07T00:00:00\"], \"y\": [7.792199999999999, 6.643142857142856, 11.8217125, 5.670600000000001, 8.353636363636362, 11.549314285714287, 7.563516666666667, 7.9999199999999995, 6.20092, 6.152437500000001, 5.71355, 6.581857142857143, 5.314171428571429, 22.14345, 9.314842857142859, 7.6, 7.6, 7.6076, 12.3, 9.9598, 10.8163, 11.5306, 11.5306, 13.4694, 13.9653, 14.6789, 14.577, 14.577, 13.6595, 14.475, 13.2518, 13.2518, 11.1224, 11.1224, 10.7921, 10.9548, 11.1888, 11.4053, 11.4053]}, {\"mode\": \"lines\", \"name\": \"LHS 2477\", \"stackgroup\": \"one\", \"type\": \"scatter\", \"x\": [\"2019-04-01T00:00:00\", \"2019-05-01T00:00:00\", \"2019-06-01T00:00:00\", \"2019-07-01T00:00:00\", \"2019-08-01T00:00:00\", \"2019-09-01T00:00:00\", \"2019-10-01T00:00:00\", \"2019-11-01T00:00:00\", \"2019-12-01T00:00:00\", \"2020-01-01T00:00:00\", \"2020-02-01T00:00:00\", \"2020-03-01T00:00:00\", \"2020-04-01T00:00:00\", \"2020-05-01T00:00:00\", \"2020-06-15T00:00:00\", \"2020-06-15T00:00:00\", \"2020-06-17T00:00:00\", \"2020-06-18T00:00:00\", \"2020-06-19T00:00:00\", \"2020-06-20T00:00:00\", \"2020-06-21T00:00:00\", \"2020-06-21T00:00:00\", \"2020-06-23T00:00:00\", \"2020-06-24T00:00:00\", \"2020-06-25T00:00:00\", \"2020-06-26T00:00:00\", \"2020-06-26T00:00:00\", \"2020-06-28T00:00:00\", \"2020-06-29T00:00:00\", \"2020-06-30T00:00:00\", \"2020-06-30T00:00:00\", \"2020-07-02T00:00:00\", \"2020-07-03T00:00:00\", \"2020-07-04T00:00:00\", \"2020-07-05T00:00:00\", \"2020-07-06T00:00:00\", \"2020-07-07T00:00:00\", \"2020-07-07T00:00:00\"], \"y\": [7.7004, 7.862011111111109, 20.095557142857142, 13.1007625, 11.250366666666665, 6.207999999999998, 9.425390000000002, 13.413971428571429, 6.278036363636363, 7.384711111111112, 10.0718, 3.308822222222222, 7.748466666666667, 8.74905, 0.9560000000000001, 0.9560000000000001, 5.4945, 5.7085, 9.0909, 10.9072, 12.1, 12.1, 15.9346, 15.9159, 15.9159, 18.4184, 18.4184, 18.4369, 18.4369, 11.6232, 11.6232, 9.519, 10.4104, 11.1334, 12.2244, 12.024, 12.024, 12.024]}, {\"mode\": \"lines\", \"name\": \"Helgaedi\", \"stackgroup\": \"one\", \"type\": \"scatter\", \"x\": [\"2019-05-01T00:00:00\", \"2019-06-01T00:00:00\", \"2019-07-01T00:00:00\", \"2019-08-01T00:00:00\", \"2019-09-01T00:00:00\", \"2019-10-01T00:00:00\", \"2019-11-01T00:00:00\", \"2019-12-01T00:00:00\", \"2020-01-01T00:00:00\", \"2020-02-01T00:00:00\", \"2020-03-01T00:00:00\", \"2020-04-01T00:00:00\", \"2020-05-01T00:00:00\", \"2020-06-15T00:00:00\", \"2020-06-15T00:00:00\", \"2020-06-17T00:00:00\", \"2020-06-17T00:00:00\", \"2020-06-17T00:00:00\", \"2020-06-17T00:00:00\", \"2020-06-21T00:00:00\", \"2020-06-21T00:00:00\", \"2020-06-23T00:00:00\", \"2020-06-24T00:00:00\", \"2020-06-25T00:00:00\", \"2020-06-26T00:00:00\", \"2020-06-26T00:00:00\", \"2020-06-28T00:00:00\", \"2020-06-29T00:00:00\", \"2020-06-30T00:00:00\", \"2020-06-30T00:00:00\", \"2020-07-02T00:00:00\", \"2020-07-02T00:00:00\", \"2020-07-04T00:00:00\", \"2020-07-05T00:00:00\", \"2020-07-06T00:00:00\", \"2020-07-07T00:00:00\", \"2020-07-07T00:00:00\"], \"y\": [17.66223636363636, 13.478199999999998, 20.392918181818185, 8.513625000000001, 5.647581818181819, 3.718172727272727, 9.05966, 4.4, 10.31016, 8.196399999999999, 7.7975200000000005, 8.929433333333334, 8.6, 14.2455, 14.2455, 10.1, 10.1, 10.1, 10.1, 13.3866, 13.3866, 13.3866, 13.3866, 13.3866, 13.4, 13.4, 7.2854, 7.3852, 8.483, 8.483, 8.0, 8.0, 8.3083, 9.018, 9.4188, 7.2144, 7.2144]}, {\"mode\": \"lines\", \"name\": \"LTT 4835\", \"stackgroup\": \"one\", \"type\": \"scatter\", \"x\": [\"2019-05-01T00:00:00\", \"2019-06-01T00:00:00\", \"2019-07-01T00:00:00\", \"2019-08-01T00:00:00\", \"2019-09-01T00:00:00\", \"2019-10-01T00:00:00\", \"2019-11-01T00:00:00\", \"2019-12-01T00:00:00\", \"2020-01-01T00:00:00\", \"2020-02-01T00:00:00\", \"2020-03-01T00:00:00\", \"2020-04-01T00:00:00\", \"2020-05-01T00:00:00\", \"2020-06-15T00:00:00\", \"2020-06-15T00:00:00\", \"2020-06-17T00:00:00\", \"2020-06-18T00:00:00\", \"2020-06-18T00:00:00\", \"2020-06-20T00:00:00\", \"2020-06-21T00:00:00\", \"2020-06-21T00:00:00\", \"2020-06-23T00:00:00\", \"2020-06-24T00:00:00\", \"2020-06-25T00:00:00\", \"2020-06-26T00:00:00\", \"2020-06-26T00:00:00\", \"2020-06-28T00:00:00\", \"2020-06-29T00:00:00\", \"2020-06-30T00:00:00\", \"2020-06-30T00:00:00\", \"2020-07-02T00:00:00\", \"2020-07-03T00:00:00\", \"2020-07-04T00:00:00\", \"2020-07-05T00:00:00\", \"2020-07-06T00:00:00\", \"2020-07-07T00:00:00\", \"2020-07-07T00:00:00\"], \"y\": [8.7912, 11.478377777777776, 14.493314285714286, 12.198275, 18.641935714285715, 8.65051, 3.487114285714285, 15.211785714285712, 18.715328571428568, 19.23272857142857, 21.8642, 21.4709, 10.676314285714284, 14.5455, 14.5455, 12.6531, 12.2574, 12.2574, 13.0, 13.3, 13.3, 14.985, 14.6, 14.4, 14.8851, 14.8851, 16.4671, 17.7822, 18.8391, 18.8391, 18.0, 18.3861, 16.7167, 21.4214, 22.6226, 20.2202, 20.2202]}, {\"mode\": \"lines\", \"name\": \"Kipsigines\", \"stackgroup\": \"one\", \"type\": \"scatter\", \"x\": [\"2019-06-01T00:00:00\", \"2019-07-01T00:00:00\", \"2019-08-01T00:00:00\", \"2019-09-01T00:00:00\", \"2019-10-01T00:00:00\", \"2019-11-01T00:00:00\", \"2019-12-01T00:00:00\", \"2020-01-01T00:00:00\", \"2020-02-01T00:00:00\", \"2020-03-01T00:00:00\", \"2020-04-01T00:00:00\", \"2020-05-01T00:00:00\", \"2020-06-15T00:00:00\", \"2020-06-15T00:00:00\", \"2020-06-17T00:00:00\", \"2020-06-18T00:00:00\", \"2020-06-19T00:00:00\", \"2020-06-20T00:00:00\", \"2020-06-21T00:00:00\", \"2020-06-21T00:00:00\", \"2020-06-23T00:00:00\", \"2020-06-24T00:00:00\", \"2020-06-25T00:00:00\", \"2020-06-26T00:00:00\", \"2020-06-26T00:00:00\", \"2020-06-28T00:00:00\", \"2020-06-29T00:00:00\", \"2020-06-30T00:00:00\", \"2020-06-30T00:00:00\", \"2020-07-02T00:00:00\", \"2020-07-03T00:00:00\", \"2020-07-04T00:00:00\", \"2020-07-05T00:00:00\", \"2020-07-06T00:00:00\", \"2020-07-07T00:00:00\", \"2020-07-07T00:00:00\"], \"y\": [6.5811125, 12.686333333333332, 19.07614285714286, 8.927675, 19.77785, 12.187925, 4.400655555555556, 17.31735714285714, 11.75825, 7.26841, 6.915299999999999, 10.467200000000002, 20.3796, 20.3796, 19.2807, 17.1657, 17.0659, 17.8643, 18.9432, 18.9432, 21.7348, 20.1201, 20.8, 19.9199, 19.9199, 21.4, 23.1768, 23.5529, 23.5529, 23.8761, 20.6, 16.0839, 18.0819, 19.5804, 20.979, 20.979]}, {\"mode\": \"lines\", \"name\": \"Ipilyak\", \"stackgroup\": \"one\", \"type\": \"scatter\", \"x\": [\"2019-07-01T00:00:00\", \"2019-08-01T00:00:00\", \"2019-09-01T00:00:00\", \"2019-10-01T00:00:00\", \"2019-11-01T00:00:00\", \"2019-12-01T00:00:00\", \"2020-01-01T00:00:00\", \"2020-02-01T00:00:00\", \"2020-03-01T00:00:00\", \"2020-04-01T00:00:00\", \"2020-05-01T00:00:00\", \"2020-06-15T00:00:00\", \"2020-06-15T00:00:00\", \"2020-06-17T00:00:00\", \"2020-06-18T00:00:00\", \"2020-06-19T00:00:00\", \"2020-06-20T00:00:00\", \"2020-06-21T00:00:00\", \"2020-06-21T00:00:00\", \"2020-06-23T00:00:00\", \"2020-06-24T00:00:00\", \"2020-06-25T00:00:00\", \"2020-06-25T00:00:00\", \"2020-06-25T00:00:00\", \"2020-06-28T00:00:00\", \"2020-06-29T00:00:00\", \"2020-06-30T00:00:00\", \"2020-06-30T00:00:00\", \"2020-07-02T00:00:00\", \"2020-07-03T00:00:00\", \"2020-07-04T00:00:00\", \"2020-07-05T00:00:00\", \"2020-07-06T00:00:00\", \"2020-07-06T00:00:00\", \"2020-07-06T00:00:00\"], \"y\": [9.948833333333333, 11.1587, 7.130059999999998, 8.591818181818182, 6.784771428571427, 12.279033333333334, 10.564733333333335, 20.037487499999997, 14.924233333333333, 15.75225, 8.61675, 12.2002, 12.2002, 10.9, 10.725200000000001, 12.2, 13.1, 14.8851, 14.8851, 16.4835, 19.4, 19.9199, 19.9199, 19.9199, 21.6433, 19.5391, 20.1403, 20.1403, 22.7, 21.1788, 21.7348, 21.8345, 20.7585, 20.7585, 20.7585]}, {\"mode\": \"lines\", \"name\": \"Oguninksmii\", \"stackgroup\": \"one\", \"type\": \"scatter\", \"x\": [\"2019-08-01T00:00:00\", \"2019-09-01T00:00:00\", \"2019-10-01T00:00:00\", \"2019-11-01T00:00:00\", \"2019-12-01T00:00:00\", \"2020-01-01T00:00:00\", \"2020-02-01T00:00:00\", \"2020-03-01T00:00:00\", \"2020-04-01T00:00:00\", \"2020-05-01T00:00:00\", \"2020-06-14T00:00:00\", \"2020-06-14T00:00:00\", \"2020-06-17T00:00:00\", \"2020-06-18T00:00:00\", \"2020-06-18T00:00:00\", \"2020-06-20T00:00:00\", \"2020-06-21T00:00:00\", \"2020-06-21T00:00:00\", \"2020-06-23T00:00:00\", \"2020-06-24T00:00:00\", \"2020-06-25T00:00:00\", \"2020-06-26T00:00:00\", \"2020-06-26T00:00:00\", \"2020-06-28T00:00:00\", \"2020-06-29T00:00:00\", \"2020-06-29T00:00:00\", \"2020-06-29T00:00:00\", \"2020-07-02T00:00:00\", \"2020-07-03T00:00:00\", \"2020-07-04T00:00:00\", \"2020-07-05T00:00:00\", \"2020-07-05T00:00:00\", \"2020-07-07T00:00:00\", \"2020-07-07T00:00:00\"], \"y\": [5.170828571428571, 6.76006, 7.475357142857143, 10.39792, 6.472225000000001, 4.642242857142857, 8.1002, 6.0229875, 9.53127142857143, 18.342728571428573, 14.2716, 14.2716, 10.8824, 10.7107, 10.7107, 11.4228, 12.1121, 12.1121, 12.1121, 12.1, 12.1121, 12.1, 12.1, 4.7904, 5.0847, 5.0847, 5.0847, 5.5833, 5.1793, 4.9801, 4.4865, 4.4865, 5.0898, 5.0898]}, {\"mode\": \"lines\", \"name\": \"HR 4979\", \"stackgroup\": \"one\", \"type\": \"scatter\", \"x\": [\"2020-06-24T00:00:00\", \"2020-06-25T00:00:00\", \"2020-06-26T00:00:00\", \"2020-06-26T00:00:00\", \"2020-06-28T00:00:00\", \"2020-06-29T00:00:00\", \"2020-06-30T00:00:00\", \"2020-06-30T00:00:00\", \"2020-07-02T00:00:00\", \"2020-07-03T00:00:00\", \"2020-07-04T00:00:00\", \"2020-07-05T00:00:00\", \"2020-07-06T00:00:00\", \"2020-07-07T00:00:00\", \"2020-07-07T00:00:00\"], \"y\": [7.4074, 9.3, 8.6, 8.6, 9.9081, 9.4, 9.899000000000001, 9.899000000000001, 9.1001, 7.6076, 8.7, 6.993, 9.3906, 8.8088, 8.8088]}],\n",
              "                        {\"template\": {\"data\": {\"bar\": [{\"error_x\": {\"color\": \"#2a3f5f\"}, \"error_y\": {\"color\": \"#2a3f5f\"}, \"marker\": {\"line\": {\"color\": \"#E5ECF6\", \"width\": 0.5}}, \"type\": \"bar\"}], \"barpolar\": [{\"marker\": {\"line\": {\"color\": \"#E5ECF6\", \"width\": 0.5}}, \"type\": \"barpolar\"}], \"carpet\": [{\"aaxis\": {\"endlinecolor\": \"#2a3f5f\", \"gridcolor\": \"white\", \"linecolor\": \"white\", \"minorgridcolor\": \"white\", \"startlinecolor\": \"#2a3f5f\"}, \"baxis\": {\"endlinecolor\": \"#2a3f5f\", \"gridcolor\": \"white\", \"linecolor\": \"white\", \"minorgridcolor\": \"white\", \"startlinecolor\": \"#2a3f5f\"}, \"type\": \"carpet\"}], \"choropleth\": [{\"colorbar\": {\"outlinewidth\": 0, \"ticks\": \"\"}, \"type\": \"choropleth\"}], \"contour\": [{\"colorbar\": {\"outlinewidth\": 0, \"ticks\": \"\"}, \"colorscale\": [[0.0, \"#0d0887\"], [0.1111111111111111, \"#46039f\"], [0.2222222222222222, \"#7201a8\"], [0.3333333333333333, \"#9c179e\"], [0.4444444444444444, \"#bd3786\"], [0.5555555555555556, \"#d8576b\"], [0.6666666666666666, \"#ed7953\"], [0.7777777777777778, \"#fb9f3a\"], [0.8888888888888888, \"#fdca26\"], [1.0, \"#f0f921\"]], \"type\": \"contour\"}], \"contourcarpet\": [{\"colorbar\": {\"outlinewidth\": 0, \"ticks\": \"\"}, \"type\": \"contourcarpet\"}], \"heatmap\": [{\"colorbar\": {\"outlinewidth\": 0, \"ticks\": \"\"}, \"colorscale\": [[0.0, \"#0d0887\"], [0.1111111111111111, \"#46039f\"], [0.2222222222222222, \"#7201a8\"], [0.3333333333333333, \"#9c179e\"], [0.4444444444444444, \"#bd3786\"], [0.5555555555555556, \"#d8576b\"], [0.6666666666666666, \"#ed7953\"], [0.7777777777777778, \"#fb9f3a\"], [0.8888888888888888, \"#fdca26\"], [1.0, \"#f0f921\"]], \"type\": \"heatmap\"}], \"heatmapgl\": [{\"colorbar\": {\"outlinewidth\": 0, \"ticks\": \"\"}, \"colorscale\": [[0.0, \"#0d0887\"], [0.1111111111111111, \"#46039f\"], [0.2222222222222222, \"#7201a8\"], [0.3333333333333333, \"#9c179e\"], [0.4444444444444444, \"#bd3786\"], [0.5555555555555556, \"#d8576b\"], [0.6666666666666666, \"#ed7953\"], [0.7777777777777778, \"#fb9f3a\"], [0.8888888888888888, \"#fdca26\"], [1.0, \"#f0f921\"]], \"type\": \"heatmapgl\"}], \"histogram\": [{\"marker\": {\"colorbar\": {\"outlinewidth\": 0, \"ticks\": \"\"}}, \"type\": \"histogram\"}], \"histogram2d\": [{\"colorbar\": {\"outlinewidth\": 0, \"ticks\": \"\"}, \"colorscale\": [[0.0, \"#0d0887\"], [0.1111111111111111, \"#46039f\"], [0.2222222222222222, \"#7201a8\"], [0.3333333333333333, \"#9c179e\"], [0.4444444444444444, \"#bd3786\"], [0.5555555555555556, \"#d8576b\"], [0.6666666666666666, \"#ed7953\"], [0.7777777777777778, \"#fb9f3a\"], [0.8888888888888888, \"#fdca26\"], [1.0, \"#f0f921\"]], \"type\": \"histogram2d\"}], \"histogram2dcontour\": [{\"colorbar\": {\"outlinewidth\": 0, \"ticks\": \"\"}, \"colorscale\": [[0.0, \"#0d0887\"], [0.1111111111111111, \"#46039f\"], [0.2222222222222222, \"#7201a8\"], [0.3333333333333333, \"#9c179e\"], [0.4444444444444444, \"#bd3786\"], [0.5555555555555556, \"#d8576b\"], [0.6666666666666666, \"#ed7953\"], [0.7777777777777778, \"#fb9f3a\"], [0.8888888888888888, \"#fdca26\"], [1.0, \"#f0f921\"]], \"type\": \"histogram2dcontour\"}], \"mesh3d\": [{\"colorbar\": {\"outlinewidth\": 0, \"ticks\": \"\"}, \"type\": \"mesh3d\"}], \"parcoords\": [{\"line\": {\"colorbar\": {\"outlinewidth\": 0, \"ticks\": \"\"}}, \"type\": \"parcoords\"}], \"pie\": [{\"automargin\": true, \"type\": \"pie\"}], \"scatter\": [{\"marker\": {\"colorbar\": {\"outlinewidth\": 0, \"ticks\": \"\"}}, \"type\": \"scatter\"}], \"scatter3d\": [{\"line\": {\"colorbar\": {\"outlinewidth\": 0, \"ticks\": \"\"}}, \"marker\": {\"colorbar\": {\"outlinewidth\": 0, \"ticks\": \"\"}}, \"type\": \"scatter3d\"}], \"scattercarpet\": [{\"marker\": {\"colorbar\": {\"outlinewidth\": 0, \"ticks\": \"\"}}, \"type\": \"scattercarpet\"}], \"scattergeo\": [{\"marker\": {\"colorbar\": {\"outlinewidth\": 0, \"ticks\": \"\"}}, \"type\": \"scattergeo\"}], \"scattergl\": [{\"marker\": {\"colorbar\": {\"outlinewidth\": 0, \"ticks\": \"\"}}, \"type\": \"scattergl\"}], \"scattermapbox\": [{\"marker\": {\"colorbar\": {\"outlinewidth\": 0, \"ticks\": \"\"}}, \"type\": \"scattermapbox\"}], \"scatterpolar\": [{\"marker\": {\"colorbar\": {\"outlinewidth\": 0, \"ticks\": \"\"}}, \"type\": \"scatterpolar\"}], \"scatterpolargl\": [{\"marker\": {\"colorbar\": {\"outlinewidth\": 0, \"ticks\": \"\"}}, \"type\": \"scatterpolargl\"}], \"scatterternary\": [{\"marker\": {\"colorbar\": {\"outlinewidth\": 0, \"ticks\": \"\"}}, \"type\": \"scatterternary\"}], \"surface\": [{\"colorbar\": {\"outlinewidth\": 0, \"ticks\": \"\"}, \"colorscale\": [[0.0, \"#0d0887\"], [0.1111111111111111, \"#46039f\"], [0.2222222222222222, \"#7201a8\"], [0.3333333333333333, \"#9c179e\"], [0.4444444444444444, \"#bd3786\"], [0.5555555555555556, \"#d8576b\"], [0.6666666666666666, \"#ed7953\"], [0.7777777777777778, \"#fb9f3a\"], [0.8888888888888888, \"#fdca26\"], [1.0, \"#f0f921\"]], \"type\": \"surface\"}], \"table\": [{\"cells\": {\"fill\": {\"color\": \"#EBF0F8\"}, \"line\": {\"color\": \"white\"}}, \"header\": {\"fill\": {\"color\": \"#C8D4E3\"}, \"line\": {\"color\": \"white\"}}, \"type\": \"table\"}]}, \"layout\": {\"annotationdefaults\": {\"arrowcolor\": \"#2a3f5f\", \"arrowhead\": 0, \"arrowwidth\": 1}, \"coloraxis\": {\"colorbar\": {\"outlinewidth\": 0, \"ticks\": \"\"}}, \"colorscale\": {\"diverging\": [[0, \"#8e0152\"], [0.1, \"#c51b7d\"], [0.2, \"#de77ae\"], [0.3, \"#f1b6da\"], [0.4, \"#fde0ef\"], [0.5, \"#f7f7f7\"], [0.6, \"#e6f5d0\"], [0.7, \"#b8e186\"], [0.8, \"#7fbc41\"], [0.9, \"#4d9221\"], [1, \"#276419\"]], \"sequential\": [[0.0, \"#0d0887\"], [0.1111111111111111, \"#46039f\"], [0.2222222222222222, \"#7201a8\"], [0.3333333333333333, \"#9c179e\"], [0.4444444444444444, \"#bd3786\"], [0.5555555555555556, \"#d8576b\"], [0.6666666666666666, \"#ed7953\"], [0.7777777777777778, \"#fb9f3a\"], [0.8888888888888888, \"#fdca26\"], [1.0, \"#f0f921\"]], \"sequentialminus\": [[0.0, \"#0d0887\"], [0.1111111111111111, \"#46039f\"], [0.2222222222222222, \"#7201a8\"], [0.3333333333333333, \"#9c179e\"], [0.4444444444444444, \"#bd3786\"], [0.5555555555555556, \"#d8576b\"], [0.6666666666666666, \"#ed7953\"], [0.7777777777777778, \"#fb9f3a\"], [0.8888888888888888, \"#fdca26\"], [1.0, \"#f0f921\"]]}, \"colorway\": [\"#636efa\", \"#EF553B\", \"#00cc96\", \"#ab63fa\", \"#FFA15A\", \"#19d3f3\", \"#FF6692\", \"#B6E880\", \"#FF97FF\", \"#FECB52\"], \"font\": {\"color\": \"#2a3f5f\"}, \"geo\": {\"bgcolor\": \"white\", \"lakecolor\": \"white\", \"landcolor\": \"#E5ECF6\", \"showlakes\": true, \"showland\": true, \"subunitcolor\": \"white\"}, \"hoverlabel\": {\"align\": \"left\"}, \"hovermode\": \"closest\", \"mapbox\": {\"style\": \"light\"}, \"paper_bgcolor\": \"white\", \"plot_bgcolor\": \"#E5ECF6\", \"polar\": {\"angularaxis\": {\"gridcolor\": \"white\", \"linecolor\": \"white\", \"ticks\": \"\"}, \"bgcolor\": \"#E5ECF6\", \"radialaxis\": {\"gridcolor\": \"white\", \"linecolor\": \"white\", \"ticks\": \"\"}}, \"scene\": {\"xaxis\": {\"backgroundcolor\": \"#E5ECF6\", \"gridcolor\": \"white\", \"gridwidth\": 2, \"linecolor\": \"white\", \"showbackground\": true, \"ticks\": \"\", \"zerolinecolor\": \"white\"}, \"yaxis\": {\"backgroundcolor\": \"#E5ECF6\", \"gridcolor\": \"white\", \"gridwidth\": 2, \"linecolor\": \"white\", \"showbackground\": true, \"ticks\": \"\", \"zerolinecolor\": \"white\"}, \"zaxis\": {\"backgroundcolor\": \"#E5ECF6\", \"gridcolor\": \"white\", \"gridwidth\": 2, \"linecolor\": \"white\", \"showbackground\": true, \"ticks\": \"\", \"zerolinecolor\": \"white\"}}, \"shapedefaults\": {\"line\": {\"color\": \"#2a3f5f\"}}, \"ternary\": {\"aaxis\": {\"gridcolor\": \"white\", \"linecolor\": \"white\", \"ticks\": \"\"}, \"baxis\": {\"gridcolor\": \"white\", \"linecolor\": \"white\", \"ticks\": \"\"}, \"bgcolor\": \"#E5ECF6\", \"caxis\": {\"gridcolor\": \"white\", \"linecolor\": \"white\", \"ticks\": \"\"}}, \"title\": {\"x\": 0.05}, \"xaxis\": {\"automargin\": true, \"gridcolor\": \"white\", \"linecolor\": \"white\", \"ticks\": \"\", \"title\": {\"standoff\": 15}, \"zerolinecolor\": \"white\", \"zerolinewidth\": 2}, \"yaxis\": {\"automargin\": true, \"gridcolor\": \"white\", \"linecolor\": \"white\", \"ticks\": \"\", \"title\": {\"standoff\": 15}, \"zerolinecolor\": \"white\", \"zerolinewidth\": 2}}}, \"xaxis\": {\"rangeselector\": {\"buttons\": [{\"count\": 1, \"label\": \"1m\", \"step\": \"month\", \"stepmode\": \"backward\"}, {\"count\": 6, \"label\": \"6m\", \"step\": \"month\", \"stepmode\": \"backward\"}, {\"count\": 1, \"label\": \"YTD\", \"step\": \"year\", \"stepmode\": \"todate\"}, {\"count\": 1, \"label\": \"1y\", \"step\": \"year\", \"stepmode\": \"backward\"}, {\"step\": \"all\"}]}, \"rangeslider\": {\"visible\": true}, \"type\": \"date\"}},\n",
              "                        {\"responsive\": true}\n",
              "                    ).then(function(){\n",
              "                            \n",
              "var gd = document.getElementById('1cb79ae0-db8a-4afb-a32e-6b4e3175c985');\n",
              "var x = new MutationObserver(function (mutations, observer) {{\n",
              "        var display = window.getComputedStyle(gd).display;\n",
              "        if (!display || display === 'none') {{\n",
              "            console.log([gd, 'removed!']);\n",
              "            Plotly.purge(gd);\n",
              "            observer.disconnect();\n",
              "        }}\n",
              "}});\n",
              "\n",
              "// Listen for the removal of the full notebook cells\n",
              "var notebookContainer = gd.closest('#notebook-container');\n",
              "if (notebookContainer) {{\n",
              "    x.observe(notebookContainer, {childList: true});\n",
              "}}\n",
              "\n",
              "// Listen for the clearing of the current output cell\n",
              "var outputEl = gd.closest('.output');\n",
              "if (outputEl) {{\n",
              "    x.observe(outputEl, {childList: true});\n",
              "}}\n",
              "\n",
              "                        })\n",
              "                };\n",
              "                \n",
              "            </script>\n",
              "        </div>\n",
              "</body>\n",
              "</html>"
            ]
          },
          "metadata": {
            "tags": []
          }
        }
      ]
    },
    {
      "cell_type": "code",
      "metadata": {
        "id": "nSJ9TjVz66ou",
        "colab_type": "code",
        "colab": {
          "base_uri": "https://localhost:8080/",
          "height": 542
        },
        "outputId": "727fc1cc-a27b-4b84-dbc6-f30211d5975f"
      },
      "source": [
        "#Not sure if this is right\n",
        "faction1 = 'Sirius'\n",
        "dframe = target[ (target['faction'].str.contains(faction1)) ]\n",
        "a = dframe['system'].unique().tolist()\n",
        "fig = go.Figure()\n",
        "for sys in a:\n",
        "  theSlice = dframe[ dframe['system'] == sys].reset_index()\n",
        "  fig.add_trace(go.Scatter(x=theSlice['updated'], y=theSlice['influence'],\n",
        "                    mode='lines',\n",
        "                    name=sys,\n",
        "                    stackgroup=\"one\"))\n",
        "\n",
        "\n",
        "\n",
        "fig.show()"
      ],
      "execution_count": 24,
      "outputs": [
        {
          "output_type": "display_data",
          "data": {
            "text/html": [
              "<html>\n",
              "<head><meta charset=\"utf-8\" /></head>\n",
              "<body>\n",
              "    <div>\n",
              "            <script src=\"https://cdnjs.cloudflare.com/ajax/libs/mathjax/2.7.5/MathJax.js?config=TeX-AMS-MML_SVG\"></script><script type=\"text/javascript\">if (window.MathJax) {MathJax.Hub.Config({SVG: {font: \"STIX-Web\"}});}</script>\n",
              "                <script type=\"text/javascript\">window.PlotlyConfig = {MathJaxConfig: 'local'};</script>\n",
              "        <script src=\"https://cdn.plot.ly/plotly-latest.min.js\"></script>    \n",
              "            <div id=\"e44c016c-a68d-4dcb-9d62-c27b73a06d49\" class=\"plotly-graph-div\" style=\"height:525px; width:100%;\"></div>\n",
              "            <script type=\"text/javascript\">\n",
              "                \n",
              "                    window.PLOTLYENV=window.PLOTLYENV || {};\n",
              "                    \n",
              "                if (document.getElementById(\"e44c016c-a68d-4dcb-9d62-c27b73a06d49\")) {\n",
              "                    Plotly.newPlot(\n",
              "                        'e44c016c-a68d-4dcb-9d62-c27b73a06d49',\n",
              "                        [{\"mode\": \"lines\", \"name\": \"Phanes\", \"stackgroup\": \"one\", \"type\": \"scatter\", \"x\": [\"2018-05-01T00:00:00\", \"2018-06-01T00:00:00\", \"2018-07-01T00:00:00\", \"2018-08-01T00:00:00\", \"2018-09-01T00:00:00\", \"2018-10-01T00:00:00\", \"2018-11-01T00:00:00\", \"2018-12-01T00:00:00\", \"2019-01-01T00:00:00\", \"2019-02-01T00:00:00\", \"2019-03-01T00:00:00\", \"2019-04-01T00:00:00\", \"2019-05-01T00:00:00\", \"2019-06-01T00:00:00\", \"2019-07-01T00:00:00\", \"2019-08-01T00:00:00\", \"2019-09-01T00:00:00\", \"2019-10-01T00:00:00\", \"2019-11-01T00:00:00\", \"2019-12-01T00:00:00\", \"2020-01-01T00:00:00\", \"2020-02-01T00:00:00\", \"2020-03-01T00:00:00\", \"2020-04-01T00:00:00\", \"2020-05-01T00:00:00\", \"2020-06-15T00:00:00\", \"2020-06-15T00:00:00\", \"2020-06-17T00:00:00\", \"2020-06-18T00:00:00\", \"2020-06-19T00:00:00\", \"2020-06-20T00:00:00\", \"2020-06-21T00:00:00\", \"2020-06-21T00:00:00\", \"2020-06-23T00:00:00\", \"2020-06-24T00:00:00\", \"2020-06-25T00:00:00\", \"2020-06-25T00:00:00\", \"2020-06-25T00:00:00\", \"2020-06-28T00:00:00\", \"2020-06-29T00:00:00\", \"2020-06-30T00:00:00\", \"2020-06-30T00:00:00\", \"2020-07-02T00:00:00\", \"2020-07-03T00:00:00\", \"2020-07-03T00:00:00\", \"2020-07-05T00:00:00\", \"2020-07-06T00:00:00\", \"2020-07-07T00:00:00\", \"2020-07-07T00:00:00\"], \"y\": [5.914857142857143, 10.499957142857141, 4.161128571428572, 4.705957142857143, 2.769771428571428, 6.5858, 19.464785714285714, 7.53844, 12.044814285714283, 5.295857142857143, 12.016357142857142, 4.017516666666666, 3.834866666666666, 3.0086, 8.139516666666665, 9.248742857142856, 4.181228571428572, 7.3748000000000005, 3.067285714285713, 6.4174250000000015, 7.2261250000000015, 1.662085714285714, 1.6474499999999992, 4.759171428571428, 5.942099999999999, 0.9217000000000001, 0.9217000000000001, 0.997, 0.997, 0.998, 1.097799999999999, 0.998, 0.998, 3.8922, 3.4965, 2.997, 2.997, 2.997, 1.0204, 1.0204, 1.8367, 1.8367, 1.0, 7.4, 7.4, 7.3073, 6.5065, 5.6112, 5.6112]}, {\"mode\": \"lines\", \"name\": \"Almagest\", \"stackgroup\": \"one\", \"type\": \"scatter\", \"x\": [\"2018-05-01T00:00:00\", \"2018-06-01T00:00:00\", \"2018-07-01T00:00:00\", \"2018-08-01T00:00:00\", \"2018-09-01T00:00:00\", \"2018-10-01T00:00:00\", \"2018-11-01T00:00:00\", \"2018-12-01T00:00:00\", \"2019-01-01T00:00:00\", \"2019-02-01T00:00:00\", \"2019-03-01T00:00:00\", \"2019-04-01T00:00:00\", \"2019-05-01T00:00:00\", \"2019-06-01T00:00:00\", \"2019-07-01T00:00:00\", \"2019-08-01T00:00:00\", \"2019-09-01T00:00:00\", \"2019-10-01T00:00:00\", \"2019-11-01T00:00:00\", \"2019-12-01T00:00:00\", \"2020-01-01T00:00:00\", \"2020-02-01T00:00:00\", \"2020-03-01T00:00:00\", \"2020-04-01T00:00:00\", \"2020-05-01T00:00:00\", \"2020-06-15T00:00:00\", \"2020-06-15T00:00:00\", \"2020-06-17T00:00:00\", \"2020-06-18T00:00:00\", \"2020-06-19T00:00:00\", \"2020-06-20T00:00:00\", \"2020-06-21T00:00:00\", \"2020-06-21T00:00:00\", \"2020-06-23T00:00:00\", \"2020-06-24T00:00:00\", \"2020-06-25T00:00:00\", \"2020-06-26T00:00:00\", \"2020-06-27T00:00:00\", \"2020-06-27T00:00:00\", \"2020-06-29T00:00:00\", \"2020-06-29T00:00:00\", \"2020-07-01T00:00:00\", \"2020-07-01T00:00:00\", \"2020-07-03T00:00:00\", \"2020-07-04T00:00:00\", \"2020-07-05T00:00:00\", \"2020-07-05T00:00:00\", \"2020-07-07T00:00:00\", \"2020-07-07T00:00:00\"], \"y\": [1.9400600000000001, 20.17534, 29.986849999999993, 36.004016666666665, 37.00392857142857, 32.420385714285715, 38.39963333333333, 89.53333333333335, 81.8928076923077, 85.6774888888889, 89.58670000000001, 88.28238000000002, 86.4148142857143, 82.57351428571428, 83.67111249999999, 85.866125, 94.33297272727273, 94.72982222222223, 91.36989999999999, 82.65963333333333, 91.13333333333333, 92.30321428571429, 91.0, 85.04917142857143, 88.64817272727272, 98.0218, 98.0218, 98.0, 93.8, 92.7, 93.5, 85.5, 85.5, 81.0, 81.6, 84.1, 86.2, 82.5175, 82.5175, 76.5235, 76.5235, 79.2208, 79.2208, 82.2, 82.2, 85.6, 85.6, 88.4116, 88.4116]}, {\"mode\": \"lines\", \"name\": \"Avik\", \"stackgroup\": \"one\", \"type\": \"scatter\", \"x\": [\"2018-05-01T00:00:00\", \"2018-06-01T00:00:00\", \"2018-07-01T00:00:00\", \"2018-08-01T00:00:00\", \"2018-09-01T00:00:00\", \"2018-10-01T00:00:00\", \"2018-11-01T00:00:00\", \"2018-12-01T00:00:00\", \"2019-01-01T00:00:00\", \"2019-02-01T00:00:00\", \"2019-03-01T00:00:00\", \"2019-04-01T00:00:00\", \"2019-05-01T00:00:00\", \"2019-06-01T00:00:00\", \"2019-07-01T00:00:00\", \"2019-08-01T00:00:00\", \"2019-09-01T00:00:00\", \"2019-10-01T00:00:00\", \"2019-11-01T00:00:00\", \"2019-12-01T00:00:00\", \"2020-01-01T00:00:00\", \"2020-02-01T00:00:00\", \"2020-03-01T00:00:00\", \"2020-04-01T00:00:00\", \"2020-05-01T00:00:00\", \"2020-06-15T00:00:00\", \"2020-06-15T00:00:00\", \"2020-06-17T00:00:00\", \"2020-06-18T00:00:00\", \"2020-06-19T00:00:00\", \"2020-06-20T00:00:00\", \"2020-06-21T00:00:00\", \"2020-06-21T00:00:00\", \"2020-06-23T00:00:00\", \"2020-06-24T00:00:00\", \"2020-06-25T00:00:00\", \"2020-06-26T00:00:00\", \"2020-06-26T00:00:00\", \"2020-06-28T00:00:00\", \"2020-06-29T00:00:00\", \"2020-06-30T00:00:00\", \"2020-06-30T00:00:00\", \"2020-07-02T00:00:00\", \"2020-07-03T00:00:00\", \"2020-07-04T00:00:00\", \"2020-07-05T00:00:00\", \"2020-07-06T00:00:00\", \"2020-07-07T00:00:00\", \"2020-07-07T00:00:00\"], \"y\": [29.814457142857147, 65.50249999999998, 53.44005000000001, 51.96431428571428, 61.73571428571429, 50.88987142857143, 85.4763625, 15.225525, 56.20997142857142, 80.11994166666669, 71.19153, 63.822624999999995, 69.31730833333334, 52.319199999999995, 24.71142307692308, 16.310344444444446, 22.033955555555554, 24.278254545454544, 28.634, 21.546654545454548, 22.07135, 17.422629411764706, 22.28299, 20.55128, 26.06649166666666, 16.4449, 16.4449, 15.6843, 16.5996, 17.4797, 16.5, 17.7778, 17.7778, 19.4805, 18.668, 19.5519, 19.9199, 19.9199, 21.5, 21.4, 21.6, 21.6, 22.6, 23.0769, 23.4765, 22.2558, 22.6626, 21.4214, 21.4214]}, {\"mode\": \"lines\", \"name\": \"Ceos\", \"stackgroup\": \"one\", \"type\": \"scatter\", \"x\": [\"2018-05-01T00:00:00\", \"2018-06-01T00:00:00\", \"2018-07-01T00:00:00\", \"2018-08-01T00:00:00\", \"2018-09-01T00:00:00\", \"2018-10-01T00:00:00\", \"2018-11-01T00:00:00\", \"2018-12-01T00:00:00\", \"2019-01-01T00:00:00\", \"2019-02-01T00:00:00\", \"2019-03-01T00:00:00\", \"2019-04-01T00:00:00\", \"2019-05-01T00:00:00\", \"2019-06-01T00:00:00\", \"2019-07-01T00:00:00\", \"2019-08-01T00:00:00\", \"2019-09-01T00:00:00\", \"2019-10-01T00:00:00\", \"2019-11-01T00:00:00\", \"2019-12-01T00:00:00\", \"2020-01-01T00:00:00\", \"2020-02-01T00:00:00\", \"2020-03-01T00:00:00\", \"2020-04-01T00:00:00\", \"2020-05-01T00:00:00\", \"2020-06-15T00:00:00\", \"2020-06-15T00:00:00\", \"2020-06-17T00:00:00\", \"2020-06-18T00:00:00\", \"2020-06-19T00:00:00\", \"2020-06-20T00:00:00\", \"2020-06-21T00:00:00\", \"2020-06-21T00:00:00\", \"2020-06-23T00:00:00\", \"2020-06-24T00:00:00\", \"2020-06-25T00:00:00\", \"2020-06-26T00:00:00\", \"2020-06-26T00:00:00\", \"2020-06-28T00:00:00\", \"2020-06-29T00:00:00\", \"2020-06-30T00:00:00\", \"2020-06-30T00:00:00\", \"2020-07-02T00:00:00\", \"2020-07-03T00:00:00\", \"2020-07-04T00:00:00\", \"2020-07-05T00:00:00\", \"2020-07-06T00:00:00\", \"2020-07-07T00:00:00\", \"2020-07-07T00:00:00\"], \"y\": [0.9881500000000001, 14.153125, 10.529211111111112, 13.004433333333331, 13.646855555555554, 11.761454545454546, 28.910044444444438, 21.306362500000002, 27.849229999999995, 22.022613333333332, 20.8016, 22.277559090909083, 21.3588375, 17.32340909090909, 21.977810526315785, 20.749499999999998, 21.010118749999997, 22.14054666666667, 21.04703529411765, 19.961293333333337, 18.187454545454543, 21.624947058823537, 18.29803333333333, 21.706699999999994, 18.257142857142853, 17.4976, 17.4976, 18.2817, 20.3593, 19.0429, 19.5, 20.9, 20.9, 20.6206, 20.4204, 21.4214, 21.021, 21.021, 23.1, 24.0759, 23.3, 23.3, 25.6743, 26.4471, 23.4531, 25.7, 27.4725, 28.1718, 28.1718]}, {\"mode\": \"lines\", \"name\": \"HIP 8396\", \"stackgroup\": \"one\", \"type\": \"scatter\", \"x\": [\"2018-05-01T00:00:00\", \"2018-06-01T00:00:00\", \"2018-07-01T00:00:00\", \"2018-08-01T00:00:00\", \"2018-09-01T00:00:00\", \"2018-10-01T00:00:00\", \"2018-11-01T00:00:00\", \"2018-12-01T00:00:00\", \"2019-01-01T00:00:00\", \"2019-02-01T00:00:00\", \"2019-03-01T00:00:00\", \"2019-04-01T00:00:00\", \"2019-05-01T00:00:00\", \"2019-06-01T00:00:00\", \"2019-07-01T00:00:00\", \"2019-08-01T00:00:00\", \"2019-09-01T00:00:00\", \"2019-10-01T00:00:00\", \"2019-11-01T00:00:00\", \"2019-12-01T00:00:00\", \"2020-01-01T00:00:00\", \"2020-02-01T00:00:00\", \"2020-03-01T00:00:00\", \"2020-04-01T00:00:00\", \"2020-05-01T00:00:00\", \"2020-06-15T00:00:00\", \"2020-06-15T00:00:00\", \"2020-06-17T00:00:00\", \"2020-06-18T00:00:00\", \"2020-06-19T00:00:00\", \"2020-06-20T00:00:00\", \"2020-06-21T00:00:00\", \"2020-06-21T00:00:00\", \"2020-06-23T00:00:00\", \"2020-06-24T00:00:00\", \"2020-06-25T00:00:00\", \"2020-06-26T00:00:00\", \"2020-06-26T00:00:00\", \"2020-06-28T00:00:00\", \"2020-06-29T00:00:00\", \"2020-06-29T00:00:00\", \"2020-06-29T00:00:00\", \"2020-07-02T00:00:00\", \"2020-07-03T00:00:00\", \"2020-07-03T00:00:00\", \"2020-07-05T00:00:00\", \"2020-07-06T00:00:00\", \"2020-07-06T00:00:00\", \"2020-07-06T00:00:00\"], \"y\": [46.44, 73.24999999999999, 60.900000000000006, 76.08333333333333, 89.43333333333334, 93.21666666666668, 79.08750000000002, 93.46666666666667, 93.900125, 98.8208, 98.40000000000002, 98.96750000000002, 98.75999999999999, 73.65474999999999, 66.56716, 92.2032, 94.5527, 94.71986249999999, 85.01415, 88.47018, 76.2309125, 84.16, 75.82474444444445, 78.02753333333332, 82.10394, 98.115, 98.115, 93.7, 91.3, 89.5, 90.3, 85.3, 85.3, 84.3, 86.6, 85.3, 86.1139, 86.1139, 85.4146, 84.8152, 84.8152, 84.8152, 85.5289, 84.3157, 84.3157, 82.4, 85.0, 85.0, 85.0]}, {\"mode\": \"lines\", \"name\": \"LHS 380\", \"stackgroup\": \"one\", \"type\": \"scatter\", \"x\": [\"2018-05-01T00:00:00\", \"2018-06-01T00:00:00\", \"2018-07-01T00:00:00\", \"2018-08-01T00:00:00\", \"2018-09-01T00:00:00\", \"2018-10-01T00:00:00\", \"2018-11-01T00:00:00\", \"2018-12-01T00:00:00\", \"2019-01-01T00:00:00\", \"2019-02-01T00:00:00\", \"2019-03-01T00:00:00\", \"2019-04-01T00:00:00\", \"2019-05-01T00:00:00\", \"2019-06-01T00:00:00\", \"2019-07-01T00:00:00\", \"2019-08-01T00:00:00\", \"2019-09-01T00:00:00\", \"2019-10-01T00:00:00\", \"2019-11-01T00:00:00\", \"2019-12-01T00:00:00\", \"2020-01-01T00:00:00\", \"2020-02-01T00:00:00\", \"2020-03-01T00:00:00\", \"2020-04-01T00:00:00\", \"2020-05-01T00:00:00\", \"2020-06-15T00:00:00\", \"2020-06-15T00:00:00\", \"2020-06-17T00:00:00\", \"2020-06-18T00:00:00\", \"2020-06-19T00:00:00\", \"2020-06-20T00:00:00\", \"2020-06-21T00:00:00\", \"2020-06-21T00:00:00\", \"2020-06-23T00:00:00\", \"2020-06-24T00:00:00\", \"2020-06-25T00:00:00\", \"2020-06-26T00:00:00\", \"2020-06-26T00:00:00\", \"2020-06-28T00:00:00\", \"2020-06-29T00:00:00\", \"2020-06-30T00:00:00\", \"2020-06-30T00:00:00\", \"2020-07-02T00:00:00\", \"2020-07-03T00:00:00\", \"2020-07-04T00:00:00\", \"2020-07-05T00:00:00\", \"2020-07-06T00:00:00\", \"2020-07-07T00:00:00\", \"2020-07-07T00:00:00\"], \"y\": [1.2570000000000001, 21.1435, 23.668371428571426, 27.12934285714286, 24.926242857142856, 18.5708, 32.13672857142857, 10.656, 13.151009090909094, 19.737674999999996, 44.3970125, 52.3873125, 51.95032499999999, 47.329371428571434, 46.744325, 43.250170000000004, 54.710425, 54.66004444444444, 50.75586666666666, 49.25954999999999, 47.01052222222222, 44.01721999999999, 52.12224285714285, 48.80883636363637, 47.39035555555555, 83.5227, 83.5227, 77.9, 73.5265, 71.5285, 67.2362, 66.2944, 66.2944, 57.4575, 54.0, 53.6, 54.0541, 54.0541, 53.9078, 54.664, 49.8996, 49.8996, 48.6948, 47.1888, 48.3417, 49.4472, 54.2714, 51.2563, 51.2563]}, {\"mode\": \"lines\", \"name\": \"Luhman 16\", \"stackgroup\": \"one\", \"type\": \"scatter\", \"x\": [\"2018-05-01T00:00:00\", \"2018-06-01T00:00:00\", \"2018-07-01T00:00:00\", \"2018-08-01T00:00:00\", \"2018-09-01T00:00:00\", \"2018-10-01T00:00:00\", \"2018-11-01T00:00:00\", \"2018-12-01T00:00:00\", \"2019-01-01T00:00:00\", \"2019-02-01T00:00:00\", \"2019-03-01T00:00:00\", \"2019-04-01T00:00:00\", \"2019-05-01T00:00:00\", \"2019-06-01T00:00:00\", \"2019-07-01T00:00:00\", \"2019-08-01T00:00:00\", \"2019-09-01T00:00:00\", \"2019-10-01T00:00:00\", \"2019-11-01T00:00:00\", \"2019-12-01T00:00:00\", \"2020-01-01T00:00:00\", \"2020-02-01T00:00:00\", \"2020-03-01T00:00:00\", \"2020-04-01T00:00:00\", \"2020-05-01T00:00:00\", \"2020-06-15T00:00:00\", \"2020-06-15T00:00:00\", \"2020-06-17T00:00:00\", \"2020-06-18T00:00:00\", \"2020-06-19T00:00:00\", \"2020-06-20T00:00:00\", \"2020-06-21T00:00:00\", \"2020-06-21T00:00:00\", \"2020-06-23T00:00:00\", \"2020-06-24T00:00:00\", \"2020-06-25T00:00:00\", \"2020-06-26T00:00:00\", \"2020-06-26T00:00:00\", \"2020-06-28T00:00:00\", \"2020-06-29T00:00:00\", \"2020-06-30T00:00:00\", \"2020-06-30T00:00:00\", \"2020-07-02T00:00:00\", \"2020-07-03T00:00:00\", \"2020-07-04T00:00:00\", \"2020-07-05T00:00:00\", \"2020-07-06T00:00:00\", \"2020-07-07T00:00:00\", \"2020-07-07T00:00:00\"], \"y\": [3.6213, 16.828685714285715, 24.282757142857143, 16.576, 15.992014285714285, 23.049042857142858, 27.413474999999995, 10.596133333333334, 7.8130500000000005, 17.549069999999993, 24.508625, 58.43877777777777, 66.66131666666666, 64.96741333333333, 60.70156363636363, 60.88075454545455, 62.74351, 62.100929999999984, 61.719677777777775, 54.76073636363637, 58.659861538461534, 60.39884375, 59.991054545454546, 54.88374285714286, 53.72058181818182, 70.9738, 70.9738, 69.3694, 63.6, 60.0, 59.1, 56.5, 56.5, 54.8, 53.4, 57.1, 51.7483, 51.7483, 55.8882, 56.2874, 54.7904, 54.7904, 51.996, 52.994, 54.277, 57.7823, 60.1779, 61.0672, 61.0672]}, {\"mode\": \"lines\", \"name\": \"Luyten 674-15\", \"stackgroup\": \"one\", \"type\": \"scatter\", \"x\": [\"2018-05-01T00:00:00\", \"2018-06-01T00:00:00\", \"2018-07-01T00:00:00\", \"2018-08-01T00:00:00\", \"2018-09-01T00:00:00\", \"2018-10-01T00:00:00\", \"2018-11-01T00:00:00\", \"2018-12-01T00:00:00\", \"2019-01-01T00:00:00\", \"2019-02-01T00:00:00\", \"2019-03-01T00:00:00\", \"2019-04-01T00:00:00\", \"2019-05-01T00:00:00\", \"2019-06-01T00:00:00\", \"2019-07-01T00:00:00\", \"2019-08-01T00:00:00\", \"2019-09-01T00:00:00\", \"2019-10-01T00:00:00\", \"2019-11-01T00:00:00\", \"2019-12-01T00:00:00\", \"2020-01-01T00:00:00\", \"2020-02-01T00:00:00\", \"2020-03-01T00:00:00\", \"2020-04-01T00:00:00\", \"2020-05-01T00:00:00\", \"2020-06-15T00:00:00\", \"2020-06-15T00:00:00\", \"2020-06-17T00:00:00\", \"2020-06-18T00:00:00\", \"2020-06-19T00:00:00\", \"2020-06-20T00:00:00\", \"2020-06-21T00:00:00\", \"2020-06-21T00:00:00\", \"2020-06-23T00:00:00\", \"2020-06-24T00:00:00\", \"2020-06-25T00:00:00\", \"2020-06-26T00:00:00\", \"2020-06-26T00:00:00\", \"2020-06-28T00:00:00\", \"2020-06-29T00:00:00\", \"2020-06-30T00:00:00\", \"2020-06-30T00:00:00\", \"2020-07-02T00:00:00\", \"2020-07-03T00:00:00\", \"2020-07-04T00:00:00\", \"2020-07-05T00:00:00\", \"2020-07-06T00:00:00\", \"2020-07-07T00:00:00\", \"2020-07-07T00:00:00\"], \"y\": [22.45418571428571, 28.177957142857146, 46.443471428571435, 46.04218571428572, 45.948837499999996, 37.499857142857145, 63.620537500000005, 25.879222222222225, 45.124942857142855, 62.55925384615385, 47.345909090909096, 46.009076923076925, 37.02750769230769, 16.582637499999997, 14.874436363636365, 12.89299090909091, 19.536833333333334, 26.94620714285714, 36.96447499999999, 37.73543333333334, 43.20013846153846, 47.66068181818182, 37.54239166666665, 40.59109333333333, 35.35391818181818, 60.3978, 60.3978, 60.8392, 59.7561, 57.7578, 55.6444, 52.3955, 52.3955, 52.6474, 51.2974, 49.5513, 47.4576, 47.4576, 47.2582, 46.7131, 46.6068, 46.6068, 42.986, 43.3868, 42.1264, 41.6834, 42.9288, 41.8255, 41.8255]}, {\"mode\": \"lines\", \"name\": \"Luyten's Star\", \"stackgroup\": \"one\", \"type\": \"scatter\", \"x\": [\"2018-05-01T00:00:00\", \"2018-06-01T00:00:00\", \"2018-07-01T00:00:00\", \"2018-08-01T00:00:00\", \"2018-09-01T00:00:00\", \"2018-10-01T00:00:00\", \"2018-11-01T00:00:00\", \"2018-12-01T00:00:00\", \"2019-01-01T00:00:00\", \"2019-02-01T00:00:00\", \"2019-03-01T00:00:00\", \"2019-04-01T00:00:00\", \"2019-05-01T00:00:00\", \"2019-06-01T00:00:00\", \"2019-07-01T00:00:00\", \"2019-08-01T00:00:00\", \"2019-09-01T00:00:00\", \"2019-10-01T00:00:00\", \"2019-11-01T00:00:00\", \"2019-12-01T00:00:00\", \"2020-01-01T00:00:00\", \"2020-02-01T00:00:00\", \"2020-03-01T00:00:00\", \"2020-04-01T00:00:00\", \"2020-05-01T00:00:00\", \"2020-06-15T00:00:00\", \"2020-06-15T00:00:00\", \"2020-06-17T00:00:00\", \"2020-06-18T00:00:00\", \"2020-06-19T00:00:00\", \"2020-06-20T00:00:00\", \"2020-06-21T00:00:00\", \"2020-06-21T00:00:00\", \"2020-06-23T00:00:00\", \"2020-06-24T00:00:00\", \"2020-06-25T00:00:00\", \"2020-06-26T00:00:00\", \"2020-06-26T00:00:00\", \"2020-06-28T00:00:00\", \"2020-06-29T00:00:00\", \"2020-06-30T00:00:00\", \"2020-06-30T00:00:00\", \"2020-07-02T00:00:00\", \"2020-07-03T00:00:00\", \"2020-07-04T00:00:00\", \"2020-07-05T00:00:00\", \"2020-07-06T00:00:00\", \"2020-07-07T00:00:00\", \"2020-07-07T00:00:00\"], \"y\": [7.127742857142858, 20.257485714285714, 18.817875, 17.155014285714284, 20.08814285714286, 19.002214285714285, 32.88645714285714, 9.01765, 34.175650000000005, 59.44329999999999, 53.476745454545465, 48.22169999999999, 46.855581818181804, 47.72789285714286, 44.12387142857143, 44.19593, 43.498442857142855, 51.922528571428565, 47.83621538461538, 46.82211428571428, 48.216469230769235, 50.23334615384616, 48.46998461538461, 47.41896923076922, 45.39951428571429, 71.5423, 71.5423, 69.2153, 63.7081, 62.3742, 58.6587, 55.0051, 55.0051, 55.5443, 55.1449, 55.7013, 53.5168, 53.5168, 51.6327, 49.6432, 48.9297, 48.9297, 47.4974, 45.8, 45.9, 47.2, 46.8, 46.0, 46.0]}, {\"mode\": \"lines\", \"name\": \"Mildeptu\", \"stackgroup\": \"one\", \"type\": \"scatter\", \"x\": [\"2018-05-01T00:00:00\", \"2018-06-01T00:00:00\", \"2018-07-01T00:00:00\", \"2018-08-01T00:00:00\", \"2018-09-01T00:00:00\", \"2018-10-01T00:00:00\", \"2018-11-01T00:00:00\", \"2018-12-01T00:00:00\", \"2019-01-01T00:00:00\", \"2019-02-01T00:00:00\", \"2019-03-01T00:00:00\", \"2019-04-01T00:00:00\", \"2019-05-01T00:00:00\", \"2019-06-01T00:00:00\", \"2019-07-01T00:00:00\", \"2019-08-01T00:00:00\", \"2019-09-01T00:00:00\", \"2019-10-01T00:00:00\", \"2019-11-01T00:00:00\", \"2019-12-01T00:00:00\", \"2020-01-01T00:00:00\", \"2020-02-01T00:00:00\", \"2020-03-01T00:00:00\", \"2020-04-01T00:00:00\", \"2020-05-01T00:00:00\", \"2020-06-15T00:00:00\", \"2020-06-15T00:00:00\", \"2020-06-17T00:00:00\", \"2020-06-18T00:00:00\", \"2020-06-19T00:00:00\", \"2020-06-20T00:00:00\", \"2020-06-21T00:00:00\", \"2020-06-21T00:00:00\", \"2020-06-23T00:00:00\", \"2020-06-24T00:00:00\", \"2020-06-25T00:00:00\", \"2020-06-26T00:00:00\", \"2020-06-26T00:00:00\", \"2020-06-28T00:00:00\", \"2020-06-29T00:00:00\", \"2020-06-30T00:00:00\", \"2020-06-30T00:00:00\", \"2020-07-02T00:00:00\", \"2020-07-03T00:00:00\", \"2020-07-04T00:00:00\", \"2020-07-05T00:00:00\", \"2020-07-06T00:00:00\", \"2020-07-07T00:00:00\", \"2020-07-07T00:00:00\"], \"y\": [1.099028571428571, 12.295714285714286, 23.152514285714286, 16.662628571428574, 18.935928571428573, 16.91864285714286, 34.467925, 18.012700000000002, 21.028385714285715, 19.036972727272726, 41.204323076923075, 46.339020000000005, 39.8047076923077, 44.10622857142858, 42.97030000000001, 39.88311538461539, 34.27141333333334, 38.452025, 47.25536363636363, 42.44978181818182, 37.73219999999999, 19.83416666666667, 14.465819999999999, 17.790181818181814, 17.96013684210526, 13.9847, 13.9847, 13.8138, 13.6502, 13.6, 14.1271, 13.3267, 13.3267, 13.2867, 13.8384, 13.5354, 14.2424, 14.2424, 15.656600000000001, 16.5657, 16.4315, 16.4315, 17.0363, 16.6498, 16.4646, 16.7846, 15.9757, 16.178, 16.178]}, {\"mode\": \"lines\", \"name\": \"Procyon\", \"stackgroup\": \"one\", \"type\": \"scatter\", \"x\": [\"2018-05-01T00:00:00\", \"2018-06-01T00:00:00\", \"2018-07-01T00:00:00\", \"2018-08-01T00:00:00\", \"2018-09-01T00:00:00\", \"2018-10-01T00:00:00\", \"2018-11-01T00:00:00\", \"2018-12-01T00:00:00\", \"2019-01-01T00:00:00\", \"2019-02-01T00:00:00\", \"2019-03-01T00:00:00\", \"2019-04-01T00:00:00\", \"2019-05-01T00:00:00\", \"2019-06-01T00:00:00\", \"2019-07-01T00:00:00\", \"2019-08-01T00:00:00\", \"2019-09-01T00:00:00\", \"2019-10-01T00:00:00\", \"2019-11-01T00:00:00\", \"2019-12-01T00:00:00\", \"2020-01-01T00:00:00\", \"2020-02-01T00:00:00\", \"2020-03-01T00:00:00\", \"2020-04-01T00:00:00\", \"2020-05-01T00:00:00\", \"2020-06-15T00:00:00\", \"2020-06-15T00:00:00\", \"2020-06-17T00:00:00\", \"2020-06-18T00:00:00\", \"2020-06-19T00:00:00\", \"2020-06-20T00:00:00\", \"2020-06-21T00:00:00\", \"2020-06-21T00:00:00\", \"2020-06-23T00:00:00\", \"2020-06-24T00:00:00\", \"2020-06-25T00:00:00\", \"2020-06-26T00:00:00\", \"2020-06-26T00:00:00\", \"2020-06-28T00:00:00\", \"2020-06-29T00:00:00\", \"2020-06-30T00:00:00\", \"2020-06-30T00:00:00\", \"2020-07-02T00:00:00\", \"2020-07-03T00:00:00\", \"2020-07-04T00:00:00\", \"2020-07-05T00:00:00\", \"2020-07-06T00:00:00\", \"2020-07-07T00:00:00\", \"2020-07-07T00:00:00\"], \"y\": [21.5225, 24.159714285714283, 38.1512, 38.22361428571429, 36.54792857142858, 32.657628571428575, 53.0566, 35.52104333333332, 35.90722857142857, 63.93325714285714, 49.942826666666654, 43.64119565217392, 41.63323333333334, 41.07814736842105, 41.94892857142857, 43.239113333333336, 43.29942380952381, 44.83183571428573, 42.61428076923077, 42.61626666666666, 41.80193076923077, 44.176791666666674, 41.70513846153847, 46.05065517241382, 44.283896296296284, 55.848, 55.848, 57.3, 56.9, 56.2, 55.6444, 55.2, 55.2, 53.8, 53.3467, 53.047, 52.9471, 52.9471, 52.6474, 52.048, 51.7, 51.7, 51.1512, 50.1502, 49.9498, 49.5486, 49.0471, 48.7952, 48.7952]}, {\"mode\": \"lines\", \"name\": \"Robigo\", \"stackgroup\": \"one\", \"type\": \"scatter\", \"x\": [\"2018-05-01T00:00:00\", \"2018-06-01T00:00:00\", \"2018-07-01T00:00:00\", \"2018-08-01T00:00:00\", \"2018-09-01T00:00:00\", \"2018-10-01T00:00:00\", \"2018-11-01T00:00:00\", \"2018-12-01T00:00:00\", \"2019-01-01T00:00:00\", \"2019-02-01T00:00:00\", \"2019-03-01T00:00:00\", \"2019-04-01T00:00:00\", \"2019-05-01T00:00:00\", \"2019-06-01T00:00:00\", \"2019-07-01T00:00:00\", \"2019-08-01T00:00:00\", \"2019-09-01T00:00:00\", \"2019-10-01T00:00:00\", \"2019-11-01T00:00:00\", \"2019-12-01T00:00:00\", \"2020-01-01T00:00:00\", \"2020-02-01T00:00:00\", \"2020-03-01T00:00:00\", \"2020-04-01T00:00:00\", \"2020-05-01T00:00:00\", \"2020-06-15T00:00:00\", \"2020-06-15T00:00:00\", \"2020-06-17T00:00:00\", \"2020-06-18T00:00:00\", \"2020-06-19T00:00:00\", \"2020-06-20T00:00:00\", \"2020-06-21T00:00:00\", \"2020-06-21T00:00:00\", \"2020-06-23T00:00:00\", \"2020-06-24T00:00:00\", \"2020-06-25T00:00:00\", \"2020-06-26T00:00:00\", \"2020-06-26T00:00:00\", \"2020-06-28T00:00:00\", \"2020-06-29T00:00:00\", \"2020-06-30T00:00:00\", \"2020-06-30T00:00:00\", \"2020-07-02T00:00:00\", \"2020-07-03T00:00:00\", \"2020-07-04T00:00:00\", \"2020-07-05T00:00:00\", \"2020-07-06T00:00:00\", \"2020-07-07T00:00:00\", \"2020-07-07T00:00:00\"], \"y\": [2.983833333333333, 35.531625, 39.62146250000001, 34.171170000000004, 51.1945125, 16.87449, 97.69504285714287, 26.3263, 45.32771333333333, 42.88438461538462, 67.777725, 71.7366142857143, 71.91818181818181, 71.61027142857142, 73.84561818181817, 70.92344999999999, 72.7214, 74.384, 67.1301, 68.65174285714286, 72.37729090909092, 70.60218461538463, 70.0243, 73.03778333333334, 76.21417142857142, 98.0658, 98.0658, 93.4066, 90.01, 87.013, 84.6154, 82.4176, 82.4176, 79.8, 77.9, 76.9231, 75.8242, 75.8242, 74.9501, 74.5509, 74.4511, 74.4511, 71.9, 72.1, 72.1279, 72.7273, 72.6274, 73.027, 73.027]}, {\"mode\": \"lines\", \"name\": \"Sirius\", \"stackgroup\": \"one\", \"type\": \"scatter\", \"x\": [\"2018-05-01T00:00:00\", \"2018-06-01T00:00:00\", \"2018-07-01T00:00:00\", \"2018-08-01T00:00:00\", \"2018-09-01T00:00:00\", \"2018-10-01T00:00:00\", \"2018-11-01T00:00:00\", \"2018-12-01T00:00:00\", \"2019-01-01T00:00:00\", \"2019-02-01T00:00:00\", \"2019-03-01T00:00:00\", \"2019-04-01T00:00:00\", \"2019-05-01T00:00:00\", \"2019-06-01T00:00:00\", \"2019-07-01T00:00:00\", \"2019-08-01T00:00:00\", \"2019-09-01T00:00:00\", \"2019-10-01T00:00:00\", \"2019-11-01T00:00:00\", \"2019-12-01T00:00:00\", \"2020-01-01T00:00:00\", \"2020-02-01T00:00:00\", \"2020-03-01T00:00:00\", \"2020-04-01T00:00:00\", \"2020-05-01T00:00:00\", \"2020-06-15T00:00:00\", \"2020-06-15T00:00:00\", \"2020-06-17T00:00:00\", \"2020-06-18T00:00:00\", \"2020-06-19T00:00:00\", \"2020-06-20T00:00:00\", \"2020-06-21T00:00:00\", \"2020-06-21T00:00:00\", \"2020-06-23T00:00:00\", \"2020-06-24T00:00:00\", \"2020-06-25T00:00:00\", \"2020-06-26T00:00:00\", \"2020-06-26T00:00:00\", \"2020-06-28T00:00:00\", \"2020-06-29T00:00:00\", \"2020-06-30T00:00:00\", \"2020-06-30T00:00:00\", \"2020-07-02T00:00:00\", \"2020-07-03T00:00:00\", \"2020-07-04T00:00:00\", \"2020-07-05T00:00:00\", \"2020-07-06T00:00:00\", \"2020-07-07T00:00:00\", \"2020-07-07T00:00:00\"], \"y\": [35.961328571428574, 65.82125714285715, 57.018224999999994, 62.23477142857143, 57.53572857142857, 41.675285714285714, 73.7641, 74.06718823529411, 52.49384, 54.19190000000001, 55.084314285714285, 57.57971428571427, 56.061850000000014, 60.128200000000014, 59.5684, 58.45066363636363, 57.782715384615386, 58.82517142857143, 61.05448571428572, 56.48564285714287, 59.11997142857144, 57.1066, 58.12673846153847, 58.37131428571429, 57.34821333333334, 94.0499, 94.0499, 87.4126, 85.3147, 81.7, 79.2, 75.739, 75.739, 60.101, 59.3878, 60.6, 60.7071, 60.7071, 61.2, 61.0, 60.5, 60.5, 59.5, 61.2, 60.1399, 59.6, 58.7588, 57.6152, 57.6152]}, {\"mode\": \"lines\", \"name\": \"Sothis\", \"stackgroup\": \"one\", \"type\": \"scatter\", \"x\": [\"2018-05-01T00:00:00\", \"2018-06-01T00:00:00\", \"2018-07-01T00:00:00\", \"2018-08-01T00:00:00\", \"2018-09-01T00:00:00\", \"2018-10-01T00:00:00\", \"2018-11-01T00:00:00\", \"2018-12-01T00:00:00\", \"2019-01-01T00:00:00\", \"2019-02-01T00:00:00\", \"2019-03-01T00:00:00\", \"2019-04-01T00:00:00\", \"2019-05-01T00:00:00\", \"2019-06-01T00:00:00\", \"2019-07-01T00:00:00\", \"2019-08-01T00:00:00\", \"2019-09-01T00:00:00\", \"2019-10-01T00:00:00\", \"2019-11-01T00:00:00\", \"2019-12-01T00:00:00\", \"2020-01-01T00:00:00\", \"2020-02-01T00:00:00\", \"2020-03-01T00:00:00\", \"2020-04-01T00:00:00\", \"2020-05-01T00:00:00\", \"2020-06-15T00:00:00\", \"2020-06-15T00:00:00\", \"2020-06-17T00:00:00\", \"2020-06-18T00:00:00\", \"2020-06-19T00:00:00\", \"2020-06-20T00:00:00\", \"2020-06-21T00:00:00\", \"2020-06-21T00:00:00\", \"2020-06-23T00:00:00\", \"2020-06-24T00:00:00\", \"2020-06-25T00:00:00\", \"2020-06-26T00:00:00\", \"2020-06-26T00:00:00\", \"2020-06-28T00:00:00\", \"2020-06-29T00:00:00\", \"2020-06-30T00:00:00\", \"2020-06-30T00:00:00\", \"2020-07-02T00:00:00\", \"2020-07-03T00:00:00\", \"2020-07-04T00:00:00\", \"2020-07-05T00:00:00\", \"2020-07-06T00:00:00\", \"2020-07-07T00:00:00\", \"2020-07-07T00:00:00\"], \"y\": [0.992259999999999, 21.69937142857143, 13.225811111111112, 10.581922222222222, 11.746833333333333, 12.468290909090909, 31.453344444444447, 19.00841, 26.487961538461533, 18.057214285714284, 23.30006153846154, 22.133223529411765, 22.597210526315784, 19.9004625, 20.75416, 21.97208571428572, 24.250112499999997, 23.569815384615385, 24.74578888888889, 27.632128571428574, 24.752083333333335, 25.171507692307703, 21.42752307692308, 19.20378125, 24.989414285714286, 30.4781, 30.4781, 30.2094, 27.3931, 26.973, 26.6055, 27.2, 27.2, 29.0709, 28.4, 26.9, 26.9, 26.9, 27.6, 27.0, 26.6, 26.6, 26.1477, 27.318, 28.1873, 28.1157, 26.0956, 28.7849, 28.7849]}, {\"mode\": \"lines\", \"name\": \"Takurua\", \"stackgroup\": \"one\", \"type\": \"scatter\", \"x\": [\"2018-05-01T00:00:00\", \"2018-06-01T00:00:00\", \"2018-07-01T00:00:00\", \"2018-08-01T00:00:00\", \"2018-09-01T00:00:00\", \"2018-10-01T00:00:00\", \"2018-11-01T00:00:00\", \"2018-12-01T00:00:00\", \"2019-01-01T00:00:00\", \"2019-02-01T00:00:00\", \"2019-03-01T00:00:00\", \"2019-04-01T00:00:00\", \"2019-05-01T00:00:00\", \"2019-06-01T00:00:00\", \"2019-07-01T00:00:00\", \"2019-08-01T00:00:00\", \"2019-09-01T00:00:00\", \"2019-10-01T00:00:00\", \"2019-11-01T00:00:00\", \"2019-12-01T00:00:00\", \"2020-01-01T00:00:00\", \"2020-02-01T00:00:00\", \"2020-03-01T00:00:00\", \"2020-04-01T00:00:00\", \"2020-05-01T00:00:00\", \"2020-06-15T00:00:00\", \"2020-06-15T00:00:00\", \"2020-06-17T00:00:00\", \"2020-06-18T00:00:00\", \"2020-06-19T00:00:00\", \"2020-06-20T00:00:00\", \"2020-06-21T00:00:00\", \"2020-06-21T00:00:00\", \"2020-06-23T00:00:00\", \"2020-06-24T00:00:00\", \"2020-06-25T00:00:00\", \"2020-06-26T00:00:00\", \"2020-06-26T00:00:00\", \"2020-06-28T00:00:00\", \"2020-06-29T00:00:00\", \"2020-06-30T00:00:00\", \"2020-06-30T00:00:00\", \"2020-07-02T00:00:00\", \"2020-07-02T00:00:00\", \"2020-07-04T00:00:00\", \"2020-07-04T00:00:00\", \"2020-07-06T00:00:00\", \"2020-07-06T00:00:00\", \"2020-07-06T00:00:00\"], \"y\": [39.7922, 71.56011666666667, 64.45901428571428, 69.96765, 80.76445714285714, 94.83198571428571, 93.08554285714285, 91.62195, 76.01755, 87.67639999999999, 93.91195555555556, 90.2720818181818, 93.73453333333333, 85.5691625, 91.424775, 96.96206, 93.07507500000001, 94.03992, 92.76, 86.47447500000001, 88.73312857142857, 91.23191666666668, 92.96755000000002, 91.71267142857143, 89.19800000000002, 98.1079, 98.1079, 96.7, 95.2, 95.3, 92.9, 92.2, 92.2, 84.6154, 86.014, 84.0, 79.7, 79.7, 70.9, 73.1, 77.4, 77.4, 80.3, 80.3, 84.9, 84.9, 84.016, 84.016, 84.016]}, {\"mode\": \"lines\", \"name\": \"Te Kaha\", \"stackgroup\": \"one\", \"type\": \"scatter\", \"x\": [\"2018-05-01T00:00:00\", \"2018-06-01T00:00:00\", \"2018-07-01T00:00:00\", \"2018-08-01T00:00:00\", \"2018-09-01T00:00:00\", \"2018-10-01T00:00:00\", \"2018-11-01T00:00:00\", \"2018-12-01T00:00:00\", \"2019-01-01T00:00:00\", \"2019-02-01T00:00:00\", \"2019-03-01T00:00:00\", \"2019-04-01T00:00:00\", \"2019-05-01T00:00:00\", \"2019-06-01T00:00:00\", \"2019-07-01T00:00:00\", \"2019-08-01T00:00:00\", \"2019-09-01T00:00:00\", \"2019-10-01T00:00:00\", \"2019-11-01T00:00:00\", \"2019-12-01T00:00:00\", \"2020-01-01T00:00:00\", \"2020-02-01T00:00:00\", \"2020-03-01T00:00:00\", \"2020-04-01T00:00:00\", \"2020-05-01T00:00:00\", \"2020-06-15T00:00:00\", \"2020-06-15T00:00:00\", \"2020-06-17T00:00:00\", \"2020-06-18T00:00:00\", \"2020-06-18T00:00:00\", \"2020-06-20T00:00:00\", \"2020-06-20T00:00:00\", \"2020-06-20T00:00:00\", \"2020-06-23T00:00:00\", \"2020-06-23T00:00:00\", \"2020-06-25T00:00:00\", \"2020-06-26T00:00:00\", \"2020-06-26T00:00:00\", \"2020-06-26T00:00:00\", \"2020-06-29T00:00:00\", \"2020-06-30T00:00:00\", \"2020-06-30T00:00:00\", \"2020-07-02T00:00:00\", \"2020-07-03T00:00:00\", \"2020-07-04T00:00:00\", \"2020-07-05T00:00:00\", \"2020-07-05T00:00:00\", \"2020-07-07T00:00:00\", \"2020-07-07T00:00:00\"], \"y\": [0.9965, 14.300585714285715, 15.996200000000002, 6.1862375, 4.947725, 7.9376999999999995, 6.332985714285715, 1.9368, 19.755699999999997, 31.76815714285714, 82.89054285714288, 92.3451625, 93.22006666666668, 96.35246666666666, 97.56873333333333, 94.78426666666667, 91.70688, 92.08792000000001, 92.30116000000001, 94.50232857142858, 95.08705714285715, 75.1827875, 47.8111111111111, 24.9, 26.754380000000005, 22.6964, 22.6964, 25.6, 24.3, 24.3, 23.2, 23.2, 23.2, 21.2787, 21.2787, 19.1808, 23.5764, 23.5764, 23.5764, 24.7752, 30.6693, 30.6693, 29.3706, 26.973, 25.7742, 29.1417, 29.1417, 27.4451, 27.4451]}, {\"mode\": \"lines\", \"name\": \"Song Ku\", \"stackgroup\": \"one\", \"type\": \"scatter\", \"x\": [\"2018-05-01T00:00:00\", \"2018-06-01T00:00:00\", \"2018-07-01T00:00:00\", \"2018-08-01T00:00:00\", \"2018-09-01T00:00:00\", \"2018-10-01T00:00:00\", \"2018-11-01T00:00:00\", \"2018-12-01T00:00:00\", \"2019-01-01T00:00:00\", \"2019-02-01T00:00:00\", \"2019-02-01T00:00:00\", \"2019-02-01T00:00:00\", \"2019-05-01T00:00:00\", \"2019-06-01T00:00:00\", \"2019-07-01T00:00:00\", \"2019-08-01T00:00:00\", \"2019-08-01T00:00:00\", \"2019-10-01T00:00:00\", \"2019-11-01T00:00:00\", \"2019-12-01T00:00:00\", \"2020-01-01T00:00:00\", \"2020-02-01T00:00:00\", \"2020-03-01T00:00:00\", \"2020-04-01T00:00:00\", \"2020-05-01T00:00:00\", \"2020-06-11T00:00:00\", \"2020-06-11T00:00:00\", \"2020-06-17T00:00:00\", \"2020-06-18T00:00:00\", \"2020-06-19T00:00:00\", \"2020-06-19T00:00:00\", \"2020-06-21T00:00:00\", \"2020-06-22T00:00:00\", \"2020-06-22T00:00:00\", \"2020-06-24T00:00:00\", \"2020-06-24T00:00:00\", \"2020-06-24T00:00:00\", \"2020-06-27T00:00:00\", \"2020-06-27T00:00:00\", \"2020-06-27T00:00:00\", \"2020-06-30T00:00:00\", \"2020-07-01T00:00:00\", \"2020-07-01T00:00:00\", \"2020-07-03T00:00:00\", \"2020-07-03T00:00:00\", \"2020-07-05T00:00:00\", \"2020-07-05T00:00:00\", \"2020-07-07T00:00:00\", \"2020-07-07T00:00:00\"], \"y\": [22.6, 19.819799999999997, 68.4, 53.42475, 37.8, 37.137100000000004, 67.2, 82.8514, 44.4222, 58.7588, 58.7588, 58.7588, 61.92215, 47.073049999999995, 56.300000000000004, 34.2, 34.2, 48.849999999999994, 46.300000000000004, 56.800000000000004, 60.8818, 30.723549999999996, 39.7866, 31.499866666666666, 37.6, 46.5534, 46.5534, 58.2755, 56.2934, 56.1386, 56.1386, 52.5743, 49.2567, 49.2567, 49.0585, 49.0585, 49.0585, 47.5719, 47.5719, 47.5719, 51.3353, 49.3583, 49.3583, 44.9161, 44.9161, 39.3491, 39.3491, 33.399, 33.399]}, {\"mode\": \"lines\", \"name\": \"Chicoana\", \"stackgroup\": \"one\", \"type\": \"scatter\", \"x\": [\"2018-05-01T00:00:00\", \"2018-06-01T00:00:00\", \"2018-07-01T00:00:00\", \"2018-08-01T00:00:00\", \"2018-09-01T00:00:00\", \"2018-10-01T00:00:00\", \"2018-11-01T00:00:00\", \"2018-12-01T00:00:00\", \"2019-01-01T00:00:00\", \"2019-02-01T00:00:00\", \"2019-03-01T00:00:00\", \"2019-04-01T00:00:00\", \"2019-05-01T00:00:00\", \"2019-06-01T00:00:00\", \"2019-07-01T00:00:00\", \"2019-08-01T00:00:00\", \"2019-09-01T00:00:00\", \"2019-10-01T00:00:00\", \"2019-11-01T00:00:00\", \"2019-12-01T00:00:00\", \"2020-01-01T00:00:00\", \"2020-02-01T00:00:00\", \"2020-03-01T00:00:00\", \"2020-04-01T00:00:00\", \"2020-05-01T00:00:00\", \"2020-06-13T00:00:00\", \"2020-06-13T00:00:00\", \"2020-06-13T00:00:00\", \"2020-06-13T00:00:00\", \"2020-06-13T00:00:00\", \"2020-06-13T00:00:00\", \"2020-06-13T00:00:00\", \"2020-06-13T00:00:00\", \"2020-06-13T00:00:00\", \"2020-06-13T00:00:00\", \"2020-06-13T00:00:00\", \"2020-06-13T00:00:00\", \"2020-06-13T00:00:00\", \"2020-06-13T00:00:00\", \"2020-06-13T00:00:00\", \"2020-06-13T00:00:00\", \"2020-06-13T00:00:00\", \"2020-06-13T00:00:00\", \"2020-06-13T00:00:00\", \"2020-06-13T00:00:00\", \"2020-06-13T00:00:00\", \"2020-06-13T00:00:00\", \"2020-06-13T00:00:00\", \"2020-06-13T00:00:00\"], \"y\": [8.34, 20.8, 25.872199999999996, 14.300000000000002, 25.419875, 23.7, 24.1071, 22.43865, 15.733175000000001, 10.315449999999998, 15.142399999999999, 13.533966666666666, 8.25, 8.600000000000001, 9.5, 7.1, 6.449450000000001, 13.6863, 11.296266666666668, 10.8108, 8.7956, 4.799666666666666, 6.520966666666666, 7.095399999999999, 5.347374999999999, 3.7696, 3.7696, 3.7696, 3.7696, 3.7696, 3.7696, 3.7696, 3.7696, 3.7696, 3.7696, 3.7696, 3.7696, 3.7696, 3.7696, 3.7696, 3.7696, 3.7696, 3.7696, 3.7696, 3.7696, 3.7696, 3.7696, 3.7696, 3.7696]}, {\"mode\": \"lines\", \"name\": \"Hemaki\", \"stackgroup\": \"one\", \"type\": \"scatter\", \"x\": [\"2018-05-01T00:00:00\", \"2018-06-01T00:00:00\", \"2018-07-01T00:00:00\", \"2018-08-01T00:00:00\", \"2018-09-01T00:00:00\", \"2018-10-01T00:00:00\", \"2018-11-01T00:00:00\", \"2018-12-01T00:00:00\", \"2019-01-01T00:00:00\", \"2019-02-01T00:00:00\", \"2019-03-01T00:00:00\", \"2019-03-01T00:00:00\", \"2019-05-01T00:00:00\", \"2019-06-01T00:00:00\", \"2019-07-01T00:00:00\", \"2019-08-01T00:00:00\", \"2019-09-01T00:00:00\", \"2019-10-01T00:00:00\", \"2019-11-01T00:00:00\", \"2019-12-01T00:00:00\", \"2020-01-01T00:00:00\", \"2020-02-01T00:00:00\", \"2020-03-01T00:00:00\", \"2020-04-01T00:00:00\", \"2020-05-01T00:00:00\", \"2020-06-13T00:00:00\", \"2020-06-16T00:00:00\", \"2020-06-16T00:00:00\", \"2020-06-18T00:00:00\", \"2020-06-18T00:00:00\", \"2020-06-20T00:00:00\", \"2020-06-20T00:00:00\", \"2020-06-20T00:00:00\", \"2020-06-23T00:00:00\", \"2020-06-24T00:00:00\", \"2020-06-25T00:00:00\", \"2020-06-25T00:00:00\", \"2020-06-25T00:00:00\", \"2020-06-28T00:00:00\", \"2020-06-29T00:00:00\", \"2020-06-29T00:00:00\", \"2020-06-29T00:00:00\", \"2020-07-02T00:00:00\", \"2020-07-03T00:00:00\", \"2020-07-04T00:00:00\", \"2020-07-05T00:00:00\", \"2020-07-06T00:00:00\", \"2020-07-07T00:00:00\", \"2020-07-07T00:00:00\"], \"y\": [14.671571428571427, 17.197466666666667, 12.7842, 5.582416666666666, 8.257000000000001, 7.996125, 9.354099999999999, 9.509500000000001, 5.214785714285715, 4.566666666666666, 6.7378, 6.7378, 7.366699999999999, 6.393599999999999, 6.40128, 7.292699999999999, 7.1464, 11.1, 8.95, 7.399999999999999, 4.365200000000001, 4.825266666666667, 4.952425, 6.825075, 7.500099999999999, 7.4148, 7.9158, 7.9158, 8.008, 8.008, 8.1, 8.1, 8.1, 8.2082, 8.1, 7.984, 7.984, 7.984, 7.0858, 7.1856, 7.1856, 7.1856, 7.3852, 7.3779, 7.7767, 7.4776, 6.3809000000000005, 6.2874, 6.2874]}, {\"mode\": \"lines\", \"name\": \"Ross 591\", \"stackgroup\": \"one\", \"type\": \"scatter\", \"x\": [\"2018-05-01T00:00:00\", \"2018-06-01T00:00:00\", \"2018-07-01T00:00:00\", \"2018-08-01T00:00:00\", \"2018-09-01T00:00:00\", \"2018-10-01T00:00:00\", \"2018-11-01T00:00:00\", \"2018-12-01T00:00:00\", \"2019-01-01T00:00:00\", \"2019-02-01T00:00:00\", \"2019-03-01T00:00:00\", \"2019-04-01T00:00:00\", \"2019-05-01T00:00:00\", \"2019-06-01T00:00:00\", \"2019-07-01T00:00:00\", \"2019-08-01T00:00:00\", \"2019-09-01T00:00:00\", \"2019-10-01T00:00:00\", \"2019-11-01T00:00:00\", \"2019-11-01T00:00:00\", \"2020-01-01T00:00:00\", \"2020-02-01T00:00:00\", \"2020-03-01T00:00:00\", \"2020-04-01T00:00:00\", \"2020-05-01T00:00:00\", \"2020-06-14T00:00:00\", \"2020-06-14T00:00:00\", \"2020-06-17T00:00:00\", \"2020-06-18T00:00:00\", \"2020-06-19T00:00:00\", \"2020-06-20T00:00:00\", \"2020-06-21T00:00:00\", \"2020-06-21T00:00:00\", \"2020-06-23T00:00:00\", \"2020-06-24T00:00:00\", \"2020-06-25T00:00:00\", \"2020-06-26T00:00:00\", \"2020-06-27T00:00:00\", \"2020-06-27T00:00:00\", \"2020-06-29T00:00:00\", \"2020-06-29T00:00:00\", \"2020-06-29T00:00:00\", \"2020-07-02T00:00:00\", \"2020-07-03T00:00:00\", \"2020-07-04T00:00:00\", \"2020-07-04T00:00:00\", \"2020-07-04T00:00:00\", \"2020-07-07T00:00:00\", \"2020-07-07T00:00:00\"], \"y\": [40.900000000000006, 51.85, 60.27038333333334, 40.265224999999994, 38.5456, 39.404325, 50.489239999999995, 56.1084, 34.46106, 24.4122, 34.650000000000006, 14.70415, 12.787199999999999, 14.49255, 13.70355, 10.8108, 12.702366666666668, 9.989999999999998, 13.486499999999998, 13.486499999999998, 13.374500000000001, 14.21154, 11.075899999999999, 9.6, 10.855974999999999, 11.0885, 11.0885, 11.3113, 7.8078, 6.9069, 6.006, 7.3073, 7.3073, 8.9089, 8.9089, 8.9178, 8.9178, 8.9178, 8.9178, 8.9268, 8.9268, 8.9268, 11.7588, 11.7706, 11.7588, 11.7588, 11.7588, 11.7588, 11.7588]}, {\"mode\": \"lines\", \"name\": \"Arietis Sector BV-Y c7\", \"stackgroup\": \"one\", \"type\": \"scatter\", \"x\": [\"2018-05-01T00:00:00\", \"2018-06-01T00:00:00\", \"2018-07-01T00:00:00\", \"2018-08-01T00:00:00\", \"2018-09-01T00:00:00\", \"2018-10-01T00:00:00\", \"2018-11-01T00:00:00\", \"2018-11-01T00:00:00\", \"2018-11-01T00:00:00\", \"2018-11-01T00:00:00\", \"2018-11-01T00:00:00\", \"2018-11-01T00:00:00\", \"2018-11-01T00:00:00\", \"2018-11-01T00:00:00\", \"2018-11-01T00:00:00\", \"2018-11-01T00:00:00\", \"2018-11-01T00:00:00\", \"2018-11-01T00:00:00\", \"2018-11-01T00:00:00\", \"2018-11-01T00:00:00\", \"2018-11-01T00:00:00\", \"2018-11-01T00:00:00\", \"2018-11-01T00:00:00\", \"2018-11-01T00:00:00\", \"2018-11-01T00:00:00\", \"2018-11-01T00:00:00\", \"2018-11-01T00:00:00\", \"2018-11-01T00:00:00\", \"2018-11-01T00:00:00\", \"2018-11-01T00:00:00\", \"2018-11-01T00:00:00\", \"2018-11-01T00:00:00\", \"2018-11-01T00:00:00\", \"2018-11-01T00:00:00\", \"2018-11-01T00:00:00\", \"2018-11-01T00:00:00\", \"2018-11-01T00:00:00\", \"2018-11-01T00:00:00\", \"2018-11-01T00:00:00\", \"2018-11-01T00:00:00\", \"2018-11-01T00:00:00\", \"2018-11-01T00:00:00\", \"2020-07-02T00:00:00\", \"2020-07-02T00:00:00\", \"2020-07-02T00:00:00\", \"2020-07-02T00:00:00\", \"2020-07-02T00:00:00\", \"2020-07-02T00:00:00\", \"2020-07-02T00:00:00\"], \"y\": [10.200000000000001, 8.3, 3.9, 8.802533333333331, 6.2, 10.6, 4.004, 4.004, 4.004, 4.004, 4.004, 4.004, 4.004, 4.004, 4.004, 4.004, 4.004, 4.004, 4.004, 4.004, 4.004, 4.004, 4.004, 4.004, 4.004, 4.004, 4.004, 4.004, 4.004, 4.004, 4.004, 4.004, 4.004, 4.004, 4.004, 4.004, 4.004, 4.004, 4.004, 4.004, 4.004, 4.004, 9.009, 9.009, 9.009, 9.009, 9.009, 9.009, 9.009]}, {\"mode\": \"lines\", \"name\": \"Cail\", \"stackgroup\": \"one\", \"type\": \"scatter\", \"x\": [\"2018-05-01T00:00:00\", \"2018-06-01T00:00:00\", \"2018-07-01T00:00:00\", \"2018-08-01T00:00:00\", \"2018-09-01T00:00:00\", \"2018-10-01T00:00:00\", \"2018-11-01T00:00:00\", \"2018-12-01T00:00:00\", \"2019-01-01T00:00:00\", \"2019-02-01T00:00:00\", \"2019-03-01T00:00:00\", \"2019-04-01T00:00:00\", \"2019-05-01T00:00:00\", \"2019-06-01T00:00:00\", \"2019-07-01T00:00:00\", \"2019-08-01T00:00:00\", \"2019-09-01T00:00:00\", \"2019-10-01T00:00:00\", \"2019-11-01T00:00:00\", \"2019-12-01T00:00:00\", \"2020-01-01T00:00:00\", \"2020-02-01T00:00:00\", \"2020-03-01T00:00:00\", \"2020-04-01T00:00:00\", \"2020-05-01T00:00:00\", \"2020-05-01T00:00:00\", \"2020-05-01T00:00:00\", \"2020-05-01T00:00:00\", \"2020-05-01T00:00:00\", \"2020-05-01T00:00:00\", \"2020-05-01T00:00:00\", \"2020-05-01T00:00:00\", \"2020-05-01T00:00:00\", \"2020-05-01T00:00:00\", \"2020-05-01T00:00:00\", \"2020-05-01T00:00:00\", \"2020-05-01T00:00:00\", \"2020-05-01T00:00:00\", \"2020-05-01T00:00:00\", \"2020-05-01T00:00:00\", \"2020-05-01T00:00:00\", \"2020-05-01T00:00:00\", \"2020-05-01T00:00:00\", \"2020-05-01T00:00:00\", \"2020-05-01T00:00:00\", \"2020-05-01T00:00:00\", \"2020-05-01T00:00:00\", \"2020-05-01T00:00:00\", \"2020-05-01T00:00:00\"], \"y\": [4.67735, 9.936566666666666, 1.5960285714285711, 5.52238, 4.873875, 11.403966666666667, 6.320216666666667, 12.1909, 6.7539, 4.297866666666667, 12.535, 13.700000000000001, 13.364566666666668, 12.4, 8.497166666666667, 23.636275, 24.4, 23.8, 20.36025, 18.720799999999997, 12.900475, 9.4251, 8.0613, 4.517542857142857, 0.99782, 0.99782, 0.99782, 0.99782, 0.99782, 0.99782, 0.99782, 0.99782, 0.99782, 0.99782, 0.99782, 0.99782, 0.99782, 0.99782, 0.99782, 0.99782, 0.99782, 0.99782, 0.99782, 0.99782, 0.99782, 0.99782, 0.99782, 0.99782, 0.99782]}, {\"mode\": \"lines\", \"name\": \"Daik\", \"stackgroup\": \"one\", \"type\": \"scatter\", \"x\": [\"2018-05-01T00:00:00\", \"2018-05-01T00:00:00\", \"2018-07-01T00:00:00\", \"2018-08-01T00:00:00\", \"2018-09-01T00:00:00\", \"2018-10-01T00:00:00\", \"2018-11-01T00:00:00\", \"2018-11-01T00:00:00\", \"2019-01-01T00:00:00\", \"2019-01-01T00:00:00\", \"2019-01-01T00:00:00\", \"2019-04-01T00:00:00\", \"2019-05-01T00:00:00\", \"2019-06-01T00:00:00\", \"2019-07-01T00:00:00\", \"2019-08-01T00:00:00\", \"2019-08-01T00:00:00\", \"2019-10-01T00:00:00\", \"2019-11-01T00:00:00\", \"2019-11-01T00:00:00\", \"2020-01-01T00:00:00\", \"2020-02-01T00:00:00\", \"2020-02-01T00:00:00\", \"2020-04-01T00:00:00\", \"2020-05-01T00:00:00\", \"2020-06-10T00:00:00\", \"2020-06-10T00:00:00\", \"2020-06-10T00:00:00\", \"2020-06-10T00:00:00\", \"2020-06-10T00:00:00\", \"2020-06-10T00:00:00\", \"2020-06-10T00:00:00\", \"2020-06-10T00:00:00\", \"2020-06-10T00:00:00\", \"2020-06-10T00:00:00\", \"2020-06-10T00:00:00\", \"2020-06-10T00:00:00\", \"2020-06-10T00:00:00\", \"2020-06-10T00:00:00\", \"2020-06-10T00:00:00\", \"2020-06-10T00:00:00\", \"2020-06-10T00:00:00\", \"2020-06-10T00:00:00\", \"2020-06-10T00:00:00\", \"2020-06-10T00:00:00\", \"2020-06-10T00:00:00\", \"2020-06-10T00:00:00\", \"2020-06-10T00:00:00\", \"2020-06-10T00:00:00\"], \"y\": [57.699999999999996, 57.699999999999996, 55.2, 38.3, 40.88425, 16.0, 29.029000000000003, 29.029000000000003, 54.0046, 54.0046, 54.0046, 49.4, 49.8498, 55.800000000000004, 58.25, 58.4, 58.4, 63.1309, 61.9, 61.9, 72.7, 67.60000000000001, 67.60000000000001, 70.39999999999999, 68.46844999999999, 65.6, 65.6, 65.6, 65.6, 65.6, 65.6, 65.6, 65.6, 65.6, 65.6, 65.6, 65.6, 65.6, 65.6, 65.6, 65.6, 65.6, 65.6, 65.6, 65.6, 65.6, 65.6, 65.6, 65.6]}, {\"mode\": \"lines\", \"name\": \"HIP 17412\", \"stackgroup\": \"one\", \"type\": \"scatter\", \"x\": [\"2018-05-01T00:00:00\", \"2018-06-01T00:00:00\", \"2018-06-01T00:00:00\", \"2018-08-01T00:00:00\", \"2018-09-01T00:00:00\", \"2018-10-01T00:00:00\", \"2018-11-01T00:00:00\", \"2018-12-01T00:00:00\", \"2019-01-01T00:00:00\", \"2019-01-01T00:00:00\", \"2019-03-01T00:00:00\", \"2019-03-01T00:00:00\", \"2019-05-01T00:00:00\", \"2019-06-01T00:00:00\", \"2019-07-01T00:00:00\", \"2019-07-01T00:00:00\", \"2019-07-01T00:00:00\", \"2019-07-01T00:00:00\", \"2019-11-01T00:00:00\", \"2019-12-01T00:00:00\", \"2020-01-01T00:00:00\", \"2020-02-01T00:00:00\", \"2020-02-01T00:00:00\", \"2020-04-01T00:00:00\", \"2020-04-01T00:00:00\", \"2020-06-14T00:00:00\", \"2020-06-14T00:00:00\", \"2020-06-14T00:00:00\", \"2020-06-18T00:00:00\", \"2020-06-18T00:00:00\", \"2020-06-18T00:00:00\", \"2020-06-18T00:00:00\", \"2020-06-18T00:00:00\", \"2020-06-18T00:00:00\", \"2020-06-18T00:00:00\", \"2020-06-18T00:00:00\", \"2020-06-18T00:00:00\", \"2020-06-18T00:00:00\", \"2020-06-18T00:00:00\", \"2020-06-18T00:00:00\", \"2020-06-18T00:00:00\", \"2020-06-18T00:00:00\", \"2020-06-18T00:00:00\", \"2020-06-18T00:00:00\", \"2020-06-18T00:00:00\", \"2020-06-18T00:00:00\", \"2020-06-18T00:00:00\", \"2020-06-18T00:00:00\", \"2020-06-18T00:00:00\"], \"y\": [23.076900000000002, 20.866666666666667, 20.866666666666667, 21.93755, 22.925, 19.400000000000002, 24.5, 18.6, 33.95, 33.95, 18.3, 18.3, 17.1, 14.100000000000001, 13.600000000000001, 13.600000000000001, 13.600000000000001, 13.600000000000001, 16.3, 19.35, 18.8093, 15.299999999999999, 15.299999999999999, 6.550000000000001, 6.550000000000001, 2.997, 2.997, 2.997, 1.2961, 1.2961, 1.2961, 1.2961, 1.2961, 1.2961, 1.2961, 1.2961, 1.2961, 1.2961, 1.2961, 1.2961, 1.2961, 1.2961, 1.2961, 1.2961, 1.2961, 1.2961, 1.2961, 1.2961, 1.2961]}, {\"mode\": \"lines\", \"name\": \"Mooramba\", \"stackgroup\": \"one\", \"type\": \"scatter\", \"x\": [\"2018-05-01T00:00:00\", \"2018-05-01T00:00:00\", \"2018-05-01T00:00:00\", \"2018-05-01T00:00:00\", \"2018-09-01T00:00:00\", \"2018-10-01T00:00:00\", \"2018-11-01T00:00:00\", \"2018-12-01T00:00:00\", \"2018-12-01T00:00:00\", \"2018-12-01T00:00:00\", \"2018-12-01T00:00:00\", \"2019-04-01T00:00:00\", \"2019-05-01T00:00:00\", \"2019-05-01T00:00:00\", \"2019-07-01T00:00:00\", \"2019-07-01T00:00:00\", \"2019-09-01T00:00:00\", \"2019-10-01T00:00:00\", \"2019-10-01T00:00:00\", \"2019-10-01T00:00:00\", \"2020-01-01T00:00:00\", \"2020-02-01T00:00:00\", \"2020-02-01T00:00:00\", \"2020-04-01T00:00:00\", \"2020-05-01T00:00:00\", \"2020-06-10T00:00:00\", \"2020-06-10T00:00:00\", \"2020-06-10T00:00:00\", \"2020-06-10T00:00:00\", \"2020-06-10T00:00:00\", \"2020-06-10T00:00:00\", \"2020-06-10T00:00:00\", \"2020-06-10T00:00:00\", \"2020-06-10T00:00:00\", \"2020-06-24T00:00:00\", \"2020-06-24T00:00:00\", \"2020-06-24T00:00:00\", \"2020-06-24T00:00:00\", \"2020-06-24T00:00:00\", \"2020-06-29T00:00:00\", \"2020-06-29T00:00:00\", \"2020-06-29T00:00:00\", \"2020-06-29T00:00:00\", \"2020-06-29T00:00:00\", \"2020-06-29T00:00:00\", \"2020-06-29T00:00:00\", \"2020-06-29T00:00:00\", \"2020-07-07T00:00:00\", \"2020-07-07T00:00:00\"], \"y\": [65.1652, 65.1652, 65.1652, 65.1652, 36.5, 32.6, 22.5, 27.400000000000002, 27.400000000000002, 27.400000000000002, 27.400000000000002, 32.967, 33.6663, 33.6663, 33.7, 33.7, 37.1314, 38.4384, 38.4384, 38.4384, 36.6, 41.770849999999996, 41.770849999999996, 45.8458, 46.25, 47.047, 47.047, 47.047, 47.047, 47.047, 47.047, 47.047, 47.047, 47.047, 47.2, 47.2, 47.2, 47.2, 47.2, 43.956, 43.956, 43.956, 43.956, 43.956, 43.956, 43.956, 43.956, 44.8, 44.8]}, {\"mode\": \"lines\", \"name\": \"Ngalia\", \"stackgroup\": \"one\", \"type\": \"scatter\", \"x\": [\"2018-05-01T00:00:00\", \"2018-06-01T00:00:00\", \"2018-07-01T00:00:00\", \"2018-08-01T00:00:00\", \"2018-09-01T00:00:00\", \"2018-10-01T00:00:00\", \"2018-11-01T00:00:00\", \"2018-12-01T00:00:00\", \"2019-01-01T00:00:00\", \"2019-02-01T00:00:00\", \"2019-03-01T00:00:00\", \"2019-04-01T00:00:00\", \"2019-05-01T00:00:00\", \"2019-06-01T00:00:00\", \"2019-07-01T00:00:00\", \"2019-08-01T00:00:00\", \"2019-09-01T00:00:00\", \"2019-10-01T00:00:00\", \"2019-11-01T00:00:00\", \"2019-12-01T00:00:00\", \"2020-01-01T00:00:00\", \"2020-01-01T00:00:00\", \"2020-03-01T00:00:00\", \"2020-04-01T00:00:00\", \"2020-05-01T00:00:00\", \"2020-06-14T00:00:00\", \"2020-06-14T00:00:00\", \"2020-06-17T00:00:00\", \"2020-06-18T00:00:00\", \"2020-06-18T00:00:00\", \"2020-06-18T00:00:00\", \"2020-06-21T00:00:00\", \"2020-06-21T00:00:00\", \"2020-06-21T00:00:00\", \"2020-06-24T00:00:00\", \"2020-06-24T00:00:00\", \"2020-06-24T00:00:00\", \"2020-06-24T00:00:00\", \"2020-06-24T00:00:00\", \"2020-06-29T00:00:00\", \"2020-06-30T00:00:00\", \"2020-06-30T00:00:00\", \"2020-06-30T00:00:00\", \"2020-06-30T00:00:00\", \"2020-06-30T00:00:00\", \"2020-06-30T00:00:00\", \"2020-06-30T00:00:00\", \"2020-06-30T00:00:00\", \"2020-06-30T00:00:00\"], \"y\": [5.27655, 10.633333333333333, 0.9993333333333331, 10.04455, 5.829860000000001, 2.5507375, 1.7342, 10.634, 3.500133333333333, 7.5075, 8.600000000000001, 6.8001000000000005, 9.45, 2.5974, 13.441699999999999, 6.8178, 11.45, 4.6, 8.200000000000001, 8.4391, 6.25, 6.25, 9.3, 8.040666666666667, 6.173775, 4.6489, 4.6489, 2.0958, 2.1978, 2.1978, 2.1978, 4.3, 4.3, 4.3, 8.3, 8.3, 8.3, 8.3, 8.3, 9.7097, 9.7097, 9.7097, 9.7097, 9.7097, 9.7097, 9.7097, 9.7097, 9.7097, 9.7097]}, {\"mode\": \"lines\", \"name\": \"Col 285 Sector YZ-C b14-1\", \"stackgroup\": \"one\", \"type\": \"scatter\", \"x\": [\"2018-05-01T00:00:00\", \"2018-05-01T00:00:00\", \"2018-05-01T00:00:00\", \"2018-08-01T00:00:00\", \"2018-08-01T00:00:00\", \"2018-08-01T00:00:00\", \"2018-08-01T00:00:00\", \"2018-08-01T00:00:00\", \"2018-08-01T00:00:00\", \"2018-08-01T00:00:00\", \"2018-08-01T00:00:00\", \"2018-08-01T00:00:00\", \"2018-08-01T00:00:00\", \"2018-08-01T00:00:00\", \"2018-08-01T00:00:00\", \"2018-08-01T00:00:00\", \"2018-08-01T00:00:00\", \"2019-10-01T00:00:00\", \"2019-10-01T00:00:00\", \"2019-10-01T00:00:00\", \"2020-01-01T00:00:00\", \"2020-01-01T00:00:00\", \"2020-01-01T00:00:00\", \"2020-01-01T00:00:00\", \"2020-05-01T00:00:00\", \"2020-05-19T00:00:00\", \"2020-05-19T00:00:00\", \"2020-05-19T00:00:00\", \"2020-05-19T00:00:00\", \"2020-05-19T00:00:00\", \"2020-05-19T00:00:00\", \"2020-05-19T00:00:00\", \"2020-05-19T00:00:00\", \"2020-05-19T00:00:00\", \"2020-05-19T00:00:00\", \"2020-05-19T00:00:00\", \"2020-05-19T00:00:00\", \"2020-05-19T00:00:00\", \"2020-05-19T00:00:00\", \"2020-05-19T00:00:00\", \"2020-05-19T00:00:00\", \"2020-05-19T00:00:00\", \"2020-05-19T00:00:00\", \"2020-05-19T00:00:00\", \"2020-05-19T00:00:00\", \"2020-05-19T00:00:00\", \"2020-05-19T00:00:00\", \"2020-05-19T00:00:00\", \"2020-05-19T00:00:00\"], \"y\": [9.350000000000001, 9.350000000000001, 9.350000000000001, 5.6, 5.6, 5.6, 5.6, 5.6, 5.6, 5.6, 5.6, 5.6, 5.6, 5.6, 5.6, 5.6, 5.6, 9.440549999999998, 9.440549999999998, 9.440549999999998, 9.2, 9.2, 9.2, 9.2, 9.009, 9.009, 9.009, 9.009, 9.009, 9.009, 9.009, 9.009, 9.009, 9.009, 9.009, 9.009, 9.009, 9.009, 9.009, 9.009, 9.009, 9.009, 9.009, 9.009, 9.009, 9.009, 9.009, 9.009, 9.009]}, {\"mode\": \"lines\", \"name\": \"Vito\", \"stackgroup\": \"one\", \"type\": \"scatter\", \"x\": [\"2018-05-01T00:00:00\", \"2018-05-01T00:00:00\", \"2018-05-01T00:00:00\", \"2018-05-01T00:00:00\", \"2018-05-01T00:00:00\", \"2018-10-01T00:00:00\", \"2018-10-01T00:00:00\", \"2018-12-01T00:00:00\", \"2019-01-01T00:00:00\", \"2019-01-01T00:00:00\", \"2019-01-01T00:00:00\", \"2019-01-01T00:00:00\", \"2019-01-01T00:00:00\", \"2019-06-01T00:00:00\", \"2019-06-01T00:00:00\", \"2019-06-01T00:00:00\", \"2019-06-01T00:00:00\", \"2019-10-01T00:00:00\", \"2019-10-01T00:00:00\", \"2019-10-01T00:00:00\", \"2019-10-01T00:00:00\", \"2019-10-01T00:00:00\", \"2019-10-01T00:00:00\", \"2019-10-01T00:00:00\", \"2020-05-01T00:00:00\", \"2020-06-15T00:00:00\", \"2020-06-15T00:00:00\", \"2020-06-15T00:00:00\", \"2020-06-15T00:00:00\", \"2020-06-15T00:00:00\", \"2020-06-15T00:00:00\", \"2020-06-15T00:00:00\", \"2020-06-22T00:00:00\", \"2020-06-22T00:00:00\", \"2020-06-22T00:00:00\", \"2020-06-22T00:00:00\", \"2020-06-22T00:00:00\", \"2020-06-22T00:00:00\", \"2020-06-22T00:00:00\", \"2020-06-29T00:00:00\", \"2020-06-29T00:00:00\", \"2020-06-29T00:00:00\", \"2020-06-29T00:00:00\", \"2020-06-29T00:00:00\", \"2020-07-04T00:00:00\", \"2020-07-04T00:00:00\", \"2020-07-04T00:00:00\", \"2020-07-04T00:00:00\", \"2020-07-04T00:00:00\"], \"y\": [12.912899999999999, 12.912899999999999, 12.912899999999999, 12.912899999999999, 12.912899999999999, 4.9, 4.9, 4.1, 3.5035, 3.5035, 3.5035, 3.5035, 3.5035, 14.400000000000002, 14.400000000000002, 14.400000000000002, 14.400000000000002, 15.084899999999998, 15.084899999999998, 15.084899999999998, 15.084899999999998, 15.084899999999998, 15.084899999999998, 15.084899999999998, 12.4875, 13.7, 13.7, 13.7, 13.7, 13.7, 13.7, 13.7, 12.5749, 12.5749, 12.5749, 12.5749, 12.5749, 12.5749, 12.5749, 12.5749, 12.5749, 12.5749, 12.5749, 12.5749, 14.5709, 14.5709, 14.5709, 14.5709, 14.5709]}, {\"mode\": \"lines\", \"name\": \"Raurt\", \"stackgroup\": \"one\", \"type\": \"scatter\", \"x\": [\"2018-05-01T00:00:00\", \"2018-06-01T00:00:00\", \"2018-07-01T00:00:00\", \"2018-08-01T00:00:00\", \"2018-08-01T00:00:00\", \"2018-10-01T00:00:00\", \"2018-10-01T00:00:00\", \"2018-12-01T00:00:00\", \"2019-01-01T00:00:00\", \"2019-01-01T00:00:00\", \"2019-03-01T00:00:00\", \"2019-03-01T00:00:00\", \"2019-05-01T00:00:00\", \"2019-06-01T00:00:00\", \"2019-07-01T00:00:00\", \"2019-07-01T00:00:00\", \"2019-07-01T00:00:00\", \"2019-10-01T00:00:00\", \"2019-10-01T00:00:00\", \"2019-10-01T00:00:00\", \"2019-10-01T00:00:00\", \"2019-10-01T00:00:00\", \"2020-03-01T00:00:00\", \"2020-04-01T00:00:00\", \"2020-05-01T00:00:00\", \"2020-06-15T00:00:00\", \"2020-06-15T00:00:00\", \"2020-06-17T00:00:00\", \"2020-06-17T00:00:00\", \"2020-06-17T00:00:00\", \"2020-06-20T00:00:00\", \"2020-06-20T00:00:00\", \"2020-06-22T00:00:00\", \"2020-06-22T00:00:00\", \"2020-06-22T00:00:00\", \"2020-06-22T00:00:00\", \"2020-06-22T00:00:00\", \"2020-06-22T00:00:00\", \"2020-06-22T00:00:00\", \"2020-06-22T00:00:00\", \"2020-06-22T00:00:00\", \"2020-06-22T00:00:00\", \"2020-06-22T00:00:00\", \"2020-06-22T00:00:00\", \"2020-06-22T00:00:00\", \"2020-06-22T00:00:00\", \"2020-06-22T00:00:00\", \"2020-06-22T00:00:00\", \"2020-06-22T00:00:00\"], \"y\": [70.29700000000001, 69.0, 55.7, 57.2287, 57.2287, 67.6663, 67.6663, 47.7477, 52.800000000000004, 52.800000000000004, 39.5, 39.5, 48.5998, 54.0254375, 26.707275, 26.707275, 26.707275, 63.5636, 63.5636, 63.5636, 63.5636, 63.5636, 44.5, 72.89999999999999, 76.5439, 83.5502, 83.5502, 82.9341, 82.9341, 82.9341, 83.4331, 83.4331, 71.0, 71.0, 71.0, 71.0, 71.0, 71.0, 71.0, 71.0, 71.0, 71.0, 71.0, 71.0, 71.0, 71.0, 71.0, 71.0, 71.0]}, {\"mode\": \"lines\", \"name\": \"Atlas\", \"stackgroup\": \"one\", \"type\": \"scatter\", \"x\": [\"2018-05-01T00:00:00\", \"2018-06-01T00:00:00\", \"2018-07-01T00:00:00\", \"2018-08-01T00:00:00\", \"2018-09-01T00:00:00\", \"2018-10-01T00:00:00\", \"2018-11-01T00:00:00\", \"2018-12-01T00:00:00\", \"2019-01-01T00:00:00\", \"2019-02-01T00:00:00\", \"2019-03-01T00:00:00\", \"2019-04-01T00:00:00\", \"2019-05-01T00:00:00\", \"2019-06-01T00:00:00\", \"2019-07-01T00:00:00\", \"2019-08-01T00:00:00\", \"2019-09-01T00:00:00\", \"2019-10-01T00:00:00\", \"2019-11-01T00:00:00\", \"2019-12-01T00:00:00\", \"2020-01-01T00:00:00\", \"2020-02-01T00:00:00\", \"2020-03-01T00:00:00\", \"2020-04-01T00:00:00\", \"2020-05-01T00:00:00\", \"2020-06-15T00:00:00\", \"2020-06-15T00:00:00\", \"2020-06-17T00:00:00\", \"2020-06-18T00:00:00\", \"2020-06-19T00:00:00\", \"2020-06-20T00:00:00\", \"2020-06-21T00:00:00\", \"2020-06-21T00:00:00\", \"2020-06-23T00:00:00\", \"2020-06-24T00:00:00\", \"2020-06-25T00:00:00\", \"2020-06-26T00:00:00\", \"2020-06-26T00:00:00\", \"2020-06-28T00:00:00\", \"2020-06-29T00:00:00\", \"2020-06-30T00:00:00\", \"2020-06-30T00:00:00\", \"2020-07-02T00:00:00\", \"2020-07-03T00:00:00\", \"2020-07-04T00:00:00\", \"2020-07-05T00:00:00\", \"2020-07-06T00:00:00\", \"2020-07-07T00:00:00\", \"2020-07-07T00:00:00\"], \"y\": [3.594633333333333, 9.256428571428572, 24.204142857142863, 4.413000000000001, 18.1268, 7.2994625, 28.73523333333333, 9.57236, 10.158075, 4.510244444444445, 8.73692, 10.857442857142857, 4.712275, 6.272357142857143, 8.529727272727273, 14.618071428571428, 5.202714285714286, 12.273762500000002, 7.594911111111112, 9.102699999999999, 12.332042857142856, 9.799883333333332, 8.05253, 9.658307692307691, 14.404320000000002, 1.0449, 1.0449, 3.2032, 3.8038, 5.6, 7.3469, 9.2, 9.2, 9.4094, 10.1101, 8.7174, 9.8098, 9.8098, 11.8881, 11.1888, 9.4905, 9.4905, 12.5, 8.4608, 6.2, 4.7992, 2.8684000000000003, 2.997, 2.997]}, {\"mode\": \"lines\", \"name\": \"Celaeno\", \"stackgroup\": \"one\", \"type\": \"scatter\", \"x\": [\"2018-05-01T00:00:00\", \"2018-06-01T00:00:00\", \"2018-07-01T00:00:00\", \"2018-08-01T00:00:00\", \"2018-09-01T00:00:00\", \"2018-10-01T00:00:00\", \"2018-11-01T00:00:00\", \"2018-12-01T00:00:00\", \"2019-01-01T00:00:00\", \"2019-02-01T00:00:00\", \"2019-03-01T00:00:00\", \"2019-04-01T00:00:00\", \"2019-05-01T00:00:00\", \"2019-06-01T00:00:00\", \"2019-07-01T00:00:00\", \"2019-08-01T00:00:00\", \"2019-09-01T00:00:00\", \"2019-10-01T00:00:00\", \"2019-10-01T00:00:00\", \"2019-10-01T00:00:00\", \"2019-10-01T00:00:00\", \"2019-10-01T00:00:00\", \"2019-10-01T00:00:00\", \"2019-10-01T00:00:00\", \"2019-10-01T00:00:00\", \"2019-10-01T00:00:00\", \"2019-10-01T00:00:00\", \"2019-10-01T00:00:00\", \"2019-10-01T00:00:00\", \"2019-10-01T00:00:00\", \"2019-10-01T00:00:00\", \"2019-10-01T00:00:00\", \"2019-10-01T00:00:00\", \"2019-10-01T00:00:00\", \"2019-10-01T00:00:00\", \"2019-10-01T00:00:00\", \"2019-10-01T00:00:00\", \"2019-10-01T00:00:00\", \"2019-10-01T00:00:00\", \"2019-10-01T00:00:00\", \"2019-10-01T00:00:00\", \"2019-10-01T00:00:00\", \"2019-10-01T00:00:00\", \"2019-10-01T00:00:00\", \"2019-10-01T00:00:00\", \"2019-10-01T00:00:00\", \"2019-10-01T00:00:00\", \"2019-10-01T00:00:00\", \"2019-10-01T00:00:00\"], \"y\": [22.9388625, 15.105875000000001, 23.56472857142857, 4.087775, 20.84801428571428, 9.48942857142857, 11.584642857142859, 9.099242857142857, 12.228936363636363, 7.988485714285714, 12.71412857142857, 11.612685714285714, 9.10331818181818, 6.252450000000001, 9.630672727272726, 8.139015384615384, 7.706385714285715, 3.558058333333333, 3.558058333333333, 3.558058333333333, 3.558058333333333, 3.558058333333333, 3.558058333333333, 3.558058333333333, 3.558058333333333, 3.558058333333333, 3.558058333333333, 3.558058333333333, 3.558058333333333, 3.558058333333333, 3.558058333333333, 3.558058333333333, 3.558058333333333, 3.558058333333333, 3.558058333333333, 3.558058333333333, 3.558058333333333, 3.558058333333333, 3.558058333333333, 3.558058333333333, 3.558058333333333, 3.558058333333333, 3.558058333333333, 3.558058333333333, 3.558058333333333, 3.558058333333333, 3.558058333333333, 3.558058333333333, 3.558058333333333]}, {\"mode\": \"lines\", \"name\": \"HIP 17694\", \"stackgroup\": \"one\", \"type\": \"scatter\", \"x\": [\"2018-05-01T00:00:00\", \"2018-06-01T00:00:00\", \"2018-07-01T00:00:00\", \"2018-08-01T00:00:00\", \"2018-09-01T00:00:00\", \"2018-10-01T00:00:00\", \"2018-11-01T00:00:00\", \"2018-12-01T00:00:00\", \"2019-01-01T00:00:00\", \"2019-02-01T00:00:00\", \"2019-02-01T00:00:00\", \"2019-02-01T00:00:00\", \"2019-02-01T00:00:00\", \"2019-02-01T00:00:00\", \"2019-02-01T00:00:00\", \"2019-02-01T00:00:00\", \"2019-02-01T00:00:00\", \"2019-02-01T00:00:00\", \"2019-02-01T00:00:00\", \"2019-02-01T00:00:00\", \"2019-02-01T00:00:00\", \"2019-02-01T00:00:00\", \"2019-02-01T00:00:00\", \"2019-02-01T00:00:00\", \"2019-02-01T00:00:00\", \"2019-02-01T00:00:00\", \"2019-02-01T00:00:00\", \"2019-02-01T00:00:00\", \"2019-02-01T00:00:00\", \"2019-02-01T00:00:00\", \"2019-02-01T00:00:00\", \"2019-02-01T00:00:00\", \"2019-02-01T00:00:00\", \"2019-02-01T00:00:00\", \"2019-02-01T00:00:00\", \"2019-02-01T00:00:00\", \"2019-02-01T00:00:00\", \"2019-02-01T00:00:00\", \"2019-02-01T00:00:00\", \"2019-02-01T00:00:00\", \"2019-02-01T00:00:00\", \"2019-02-01T00:00:00\", \"2019-02-01T00:00:00\", \"2019-02-01T00:00:00\", \"2019-02-01T00:00:00\", \"2019-02-01T00:00:00\", \"2019-02-01T00:00:00\", \"2019-02-01T00:00:00\", \"2019-02-01T00:00:00\"], \"y\": [34.307, 40.907871428571426, 45.82975, 9.954699999999999, 29.935214285714284, 6.776214285714286, 9.765471428571427, 10.909116666666668, 13.0602, 3.811111111111111, 3.811111111111111, 3.811111111111111, 3.811111111111111, 3.811111111111111, 3.811111111111111, 3.811111111111111, 3.811111111111111, 3.811111111111111, 3.811111111111111, 3.811111111111111, 3.811111111111111, 3.811111111111111, 3.811111111111111, 3.811111111111111, 3.811111111111111, 3.811111111111111, 3.811111111111111, 3.811111111111111, 3.811111111111111, 3.811111111111111, 3.811111111111111, 3.811111111111111, 3.811111111111111, 3.811111111111111, 3.811111111111111, 3.811111111111111, 3.811111111111111, 3.811111111111111, 3.811111111111111, 3.811111111111111, 3.811111111111111, 3.811111111111111, 3.811111111111111, 3.811111111111111, 3.811111111111111, 3.811111111111111, 3.811111111111111, 3.811111111111111, 3.811111111111111]}, {\"mode\": \"lines\", \"name\": \"HR 1183\", \"stackgroup\": \"one\", \"type\": \"scatter\", \"x\": [\"2018-05-01T00:00:00\", \"2018-06-01T00:00:00\", \"2018-07-01T00:00:00\", \"2018-08-01T00:00:00\", \"2018-09-01T00:00:00\", \"2018-10-01T00:00:00\", \"2018-11-01T00:00:00\", \"2018-12-01T00:00:00\", \"2019-01-01T00:00:00\", \"2019-02-01T00:00:00\", \"2019-03-01T00:00:00\", \"2019-04-01T00:00:00\", \"2019-05-01T00:00:00\", \"2019-06-01T00:00:00\", \"2019-07-01T00:00:00\", \"2019-08-01T00:00:00\", \"2019-09-01T00:00:00\", \"2019-10-01T00:00:00\", \"2019-11-01T00:00:00\", \"2019-12-01T00:00:00\", \"2020-01-01T00:00:00\", \"2020-02-01T00:00:00\", \"2020-03-01T00:00:00\", \"2020-04-01T00:00:00\", \"2020-05-01T00:00:00\", \"2020-06-15T00:00:00\", \"2020-06-15T00:00:00\", \"2020-06-17T00:00:00\", \"2020-06-18T00:00:00\", \"2020-06-19T00:00:00\", \"2020-06-20T00:00:00\", \"2020-06-21T00:00:00\", \"2020-06-21T00:00:00\", \"2020-06-23T00:00:00\", \"2020-06-24T00:00:00\", \"2020-06-25T00:00:00\", \"2020-06-26T00:00:00\", \"2020-06-26T00:00:00\", \"2020-06-28T00:00:00\", \"2020-06-29T00:00:00\", \"2020-06-30T00:00:00\", \"2020-06-30T00:00:00\", \"2020-07-02T00:00:00\", \"2020-07-03T00:00:00\", \"2020-07-04T00:00:00\", \"2020-07-05T00:00:00\", \"2020-07-06T00:00:00\", \"2020-07-07T00:00:00\", \"2020-07-07T00:00:00\"], \"y\": [1.909442857142857, 7.638285714285714, 12.473057142857144, 2.370914285714286, 7.573725, 7.304757142857142, 8.766624999999998, 8.891766666666665, 12.513911111111112, 6.976983333333333, 6.966854545454544, 7.5979, 5.463112499999999, 6.583987500000001, 6.682435714285715, 7.069033333333333, 7.143728571428572, 10.927158333333333, 7.892142857142856, 8.302542857142857, 8.039675, 11.892399999999999, 7.073145454545455, 8.996977777777778, 8.669716666666666, 0.9671000000000001, 0.9671000000000001, 0.9891000000000001, 3.2323, 2.3, 3.7487, 5.3698, 5.3698, 10.5894, 10.978, 9.8901, 9.4905, 9.4905, 8.4746, 6.5868, 7.0858, 7.0858, 8.574300000000001, 10.1695, 10.668, 10.3689, 9.4, 9.7097, 9.7097]}, {\"mode\": \"lines\", \"name\": \"Merope\", \"stackgroup\": \"one\", \"type\": \"scatter\", \"x\": [\"2018-05-01T00:00:00\", \"2018-06-01T00:00:00\", \"2018-07-01T00:00:00\", \"2018-08-01T00:00:00\", \"2018-09-01T00:00:00\", \"2018-10-01T00:00:00\", \"2018-11-01T00:00:00\", \"2018-12-01T00:00:00\", \"2019-01-01T00:00:00\", \"2019-02-01T00:00:00\", \"2019-03-01T00:00:00\", \"2019-04-01T00:00:00\", \"2019-05-01T00:00:00\", \"2019-06-01T00:00:00\", \"2019-07-01T00:00:00\", \"2019-08-01T00:00:00\", \"2019-09-01T00:00:00\", \"2019-10-01T00:00:00\", \"2019-11-01T00:00:00\", \"2019-12-01T00:00:00\", \"2020-01-01T00:00:00\", \"2020-02-01T00:00:00\", \"2020-03-01T00:00:00\", \"2020-04-01T00:00:00\", \"2020-05-01T00:00:00\", \"2020-06-15T00:00:00\", \"2020-06-15T00:00:00\", \"2020-06-17T00:00:00\", \"2020-06-18T00:00:00\", \"2020-06-19T00:00:00\", \"2020-06-20T00:00:00\", \"2020-06-21T00:00:00\", \"2020-06-21T00:00:00\", \"2020-06-23T00:00:00\", \"2020-06-24T00:00:00\", \"2020-06-25T00:00:00\", \"2020-06-26T00:00:00\", \"2020-06-26T00:00:00\", \"2020-06-28T00:00:00\", \"2020-06-29T00:00:00\", \"2020-06-30T00:00:00\", \"2020-06-30T00:00:00\", \"2020-07-02T00:00:00\", \"2020-07-03T00:00:00\", \"2020-07-04T00:00:00\", \"2020-07-05T00:00:00\", \"2020-07-06T00:00:00\", \"2020-07-07T00:00:00\", \"2020-07-07T00:00:00\"], \"y\": [0.9902666666666661, 0.990499999999999, 2.9895142857142862, 1.829128571428571, 8.983128571428571, 3.445724999999999, 21.424775, 4.347478571428571, 2.073134999999999, 5.23635, 5.694791666666668, 7.684145454545455, 7.43835, 7.648199999999999, 7.525041666666667, 7.289370000000001, 6.115985714285713, 9.456146153846154, 6.871976923076923, 4.936999999999999, 5.290291666666667, 10.646666666666668, 9.390887499999998, 9.192487499999999, 4.986216666666666, 0.9699000000000001, 0.9699000000000001, 3.0, 4.7952, 4.5045, 5.1, 7.4925, 7.4925, 8.782399999999999, 9.9, 12.3, 13.5864, 13.5864, 13.5729, 13.5729, 13.5729, 13.5729, 8.982, 14.1575, 12.2877, 10.6, 9.2092, 8.9178, 8.9178]}, {\"mode\": \"lines\", \"name\": \"Pleiades Sector PD-S b4-0\", \"stackgroup\": \"one\", \"type\": \"scatter\", \"x\": [\"2018-05-01T00:00:00\", \"2018-06-01T00:00:00\", \"2018-07-01T00:00:00\", \"2018-08-01T00:00:00\", \"2018-09-01T00:00:00\", \"2018-10-01T00:00:00\", \"2018-11-01T00:00:00\", \"2018-12-01T00:00:00\", \"2019-01-01T00:00:00\", \"2019-02-01T00:00:00\", \"2019-03-01T00:00:00\", \"2019-04-01T00:00:00\", \"2019-05-01T00:00:00\", \"2019-06-01T00:00:00\", \"2019-07-01T00:00:00\", \"2019-08-01T00:00:00\", \"2019-09-01T00:00:00\", \"2019-10-01T00:00:00\", \"2019-11-01T00:00:00\", \"2019-12-01T00:00:00\", \"2020-01-01T00:00:00\", \"2020-02-01T00:00:00\", \"2020-03-01T00:00:00\", \"2020-04-01T00:00:00\", \"2020-05-01T00:00:00\", \"2020-06-15T00:00:00\", \"2020-06-15T00:00:00\", \"2020-06-17T00:00:00\", \"2020-06-18T00:00:00\", \"2020-06-19T00:00:00\", \"2020-06-20T00:00:00\", \"2020-06-21T00:00:00\", \"2020-06-21T00:00:00\", \"2020-06-23T00:00:00\", \"2020-06-24T00:00:00\", \"2020-06-25T00:00:00\", \"2020-06-26T00:00:00\", \"2020-06-26T00:00:00\", \"2020-06-28T00:00:00\", \"2020-06-29T00:00:00\", \"2020-06-30T00:00:00\", \"2020-06-30T00:00:00\", \"2020-07-02T00:00:00\", \"2020-07-03T00:00:00\", \"2020-07-04T00:00:00\", \"2020-07-05T00:00:00\", \"2020-07-06T00:00:00\", \"2020-07-07T00:00:00\", \"2020-07-07T00:00:00\"], \"y\": [10.226357142857141, 16.345285714285716, 27.123857142857144, 7.282342857142857, 37.213414285714286, 15.530149999999999, 35.13124285714286, 13.264057142857142, 16.38861111111111, 9.050425, 8.744399999999999, 9.430250000000001, 15.274625, 6.55, 14.64757142857143, 12.146571428571429, 8.678844444444444, 11.727091666666668, 13.262942857142857, 9.1863, 6.913824999999999, 11.86747, 10.177475000000001, 12.096254545454544, 8.046199999999999, 10.0554, 10.0554, 13.6, 13.6136, 12.3123, 10.464, 10.9109, 10.9109, 10.5105, 10.4208, 10.7214, 10.02, 10.02, 11.1336, 11.1888, 11.7053, 11.7053, 12.4, 9.7068, 10.4104, 11.4114, 10.6319, 9.3186, 9.3186]}, {\"mode\": \"lines\", \"name\": \"Pleione\", \"stackgroup\": \"one\", \"type\": \"scatter\", \"x\": [\"2018-05-01T00:00:00\", \"2018-06-01T00:00:00\", \"2018-07-01T00:00:00\", \"2018-08-01T00:00:00\", \"2018-09-01T00:00:00\", \"2018-10-01T00:00:00\", \"2018-11-01T00:00:00\", \"2018-12-01T00:00:00\", \"2019-01-01T00:00:00\", \"2019-02-01T00:00:00\", \"2019-03-01T00:00:00\", \"2019-04-01T00:00:00\", \"2019-05-01T00:00:00\", \"2019-06-01T00:00:00\", \"2019-07-01T00:00:00\", \"2019-08-01T00:00:00\", \"2019-09-01T00:00:00\", \"2019-10-01T00:00:00\", \"2019-11-01T00:00:00\", \"2019-12-01T00:00:00\", \"2020-01-01T00:00:00\", \"2020-02-01T00:00:00\", \"2020-03-01T00:00:00\", \"2020-04-01T00:00:00\", \"2020-05-01T00:00:00\", \"2020-06-15T00:00:00\", \"2020-06-15T00:00:00\", \"2020-06-17T00:00:00\", \"2020-06-18T00:00:00\", \"2020-06-19T00:00:00\", \"2020-06-20T00:00:00\", \"2020-06-21T00:00:00\", \"2020-06-21T00:00:00\", \"2020-06-23T00:00:00\", \"2020-06-24T00:00:00\", \"2020-06-25T00:00:00\", \"2020-06-26T00:00:00\", \"2020-06-26T00:00:00\", \"2020-06-28T00:00:00\", \"2020-06-29T00:00:00\", \"2020-06-30T00:00:00\", \"2020-06-30T00:00:00\", \"2020-07-02T00:00:00\", \"2020-07-03T00:00:00\", \"2020-07-04T00:00:00\", \"2020-07-05T00:00:00\", \"2020-07-06T00:00:00\", \"2020-07-07T00:00:00\", \"2020-07-07T00:00:00\"], \"y\": [15.126671428571427, 19.791271428571427, 28.728557142857145, 2.513571428571428, 10.939914285714286, 14.009914285714286, 23.808500000000002, 9.615516666666666, 8.751750000000001, 5.830866666666665, 8.6296, 9.832757142857142, 7.980366666666668, 7.2848, 6.526108333333333, 6.391945454545455, 8.814428571428572, 5.72919375, 7.132074999999999, 5.4531, 9.8615875, 7.14012, 7.521488888888888, 8.776055555555555, 10.056776923076923, 6.3941, 6.3941, 5.0949, 5.0, 5.3, 5.5, 4.9495000000000005, 4.9495000000000005, 5.5055, 6.3936, 7.0336, 8.4, 8.4, 8.7912, 7.8921, 8.2745, 8.2745, 8.016, 9.5904, 9.0724, 9.4, 9.5, 8.3083, 8.3083]}, {\"mode\": \"lines\", \"name\": \"Kikapu\", \"stackgroup\": \"one\", \"type\": \"scatter\", \"x\": [\"2018-05-01T00:00:00\", \"2018-06-01T00:00:00\", \"2018-07-01T00:00:00\", \"2018-08-01T00:00:00\", \"2018-09-01T00:00:00\", \"2018-10-01T00:00:00\", \"2018-11-01T00:00:00\", \"2018-12-01T00:00:00\", \"2019-01-01T00:00:00\", \"2019-02-01T00:00:00\", \"2019-03-01T00:00:00\", \"2019-04-01T00:00:00\", \"2019-05-01T00:00:00\", \"2019-06-01T00:00:00\", \"2019-07-01T00:00:00\", \"2019-08-01T00:00:00\", \"2019-09-01T00:00:00\", \"2019-10-01T00:00:00\", \"2019-11-01T00:00:00\", \"2019-12-01T00:00:00\", \"2020-01-01T00:00:00\", \"2020-02-01T00:00:00\", \"2020-03-01T00:00:00\", \"2020-04-01T00:00:00\", \"2020-05-01T00:00:00\", \"2020-06-13T00:00:00\", \"2020-06-16T00:00:00\", \"2020-06-16T00:00:00\", \"2020-06-18T00:00:00\", \"2020-06-18T00:00:00\", \"2020-06-18T00:00:00\", \"2020-06-21T00:00:00\", \"2020-06-22T00:00:00\", \"2020-06-22T00:00:00\", \"2020-06-24T00:00:00\", \"2020-06-24T00:00:00\", \"2020-06-24T00:00:00\", \"2020-06-24T00:00:00\", \"2020-06-28T00:00:00\", \"2020-06-29T00:00:00\", \"2020-06-29T00:00:00\", \"2020-06-29T00:00:00\", \"2020-06-29T00:00:00\", \"2020-06-29T00:00:00\", \"2020-06-29T00:00:00\", \"2020-07-05T00:00:00\", \"2020-07-06T00:00:00\", \"2020-07-06T00:00:00\", \"2020-07-06T00:00:00\"], \"y\": [29.943424999999998, 19.473399999999998, 39.16157142857143, 33.165033333333334, 8.5482, 11.68, 16.51728, 10.741400000000002, 13.49325, 5.32004, 15.700000000000001, 11.11965, 11.149975, 13.82252, 9.369666666666667, 4.516216666666668, 3.520725, 1.396133333333333, 4.856199999999999, 4.518325, 3.797819999999999, 5.0812, 5.800000000000001, 6.118600000000001, 7.427933333333333, 0.9311, 2.7125, 2.7125, 2.4024, 2.4024, 2.4024, 17.4, 21.7, 21.7, 20.3, 20.3, 20.3, 20.3, 16.8, 16.0041, 16.0041, 16.0041, 16.0041, 16.0041, 16.0041, 12.4875, 11.5, 11.5, 11.5]}, {\"mode\": \"lines\", \"name\": \"Malanquiya\", \"stackgroup\": \"one\", \"type\": \"scatter\", \"x\": [\"2018-06-01T00:00:00\", \"2018-06-01T00:00:00\", \"2018-08-01T00:00:00\", \"2018-08-01T00:00:00\", \"2018-08-01T00:00:00\", \"2018-08-01T00:00:00\", \"2018-08-01T00:00:00\", \"2018-08-01T00:00:00\", \"2018-08-01T00:00:00\", \"2018-08-01T00:00:00\", \"2018-08-01T00:00:00\", \"2018-08-01T00:00:00\", \"2018-08-01T00:00:00\", \"2018-08-01T00:00:00\", \"2018-08-01T00:00:00\", \"2018-08-01T00:00:00\", \"2018-08-01T00:00:00\", \"2018-08-01T00:00:00\", \"2018-08-01T00:00:00\", \"2018-08-01T00:00:00\", \"2018-08-01T00:00:00\", \"2018-08-01T00:00:00\", \"2018-08-01T00:00:00\", \"2018-08-01T00:00:00\", \"2018-08-01T00:00:00\", \"2018-08-01T00:00:00\", \"2018-08-01T00:00:00\", \"2018-08-01T00:00:00\", \"2018-08-01T00:00:00\", \"2018-08-01T00:00:00\", \"2018-08-01T00:00:00\", \"2018-08-01T00:00:00\", \"2018-08-01T00:00:00\", \"2018-08-01T00:00:00\", \"2018-08-01T00:00:00\", \"2018-08-01T00:00:00\", \"2018-08-01T00:00:00\", \"2018-08-01T00:00:00\", \"2018-08-01T00:00:00\", \"2018-08-01T00:00:00\", \"2018-08-01T00:00:00\", \"2018-08-01T00:00:00\", \"2018-08-01T00:00:00\", \"2018-08-01T00:00:00\", \"2018-08-01T00:00:00\", \"2018-08-01T00:00:00\", \"2018-08-01T00:00:00\", \"2018-08-01T00:00:00\"], \"y\": [16.1, 16.1, 29.549999999999997, 29.549999999999997, 29.549999999999997, 29.549999999999997, 29.549999999999997, 29.549999999999997, 29.549999999999997, 29.549999999999997, 29.549999999999997, 29.549999999999997, 29.549999999999997, 29.549999999999997, 29.549999999999997, 29.549999999999997, 29.549999999999997, 29.549999999999997, 29.549999999999997, 29.549999999999997, 29.549999999999997, 29.549999999999997, 29.549999999999997, 29.549999999999997, 29.549999999999997, 29.549999999999997, 29.549999999999997, 29.549999999999997, 29.549999999999997, 29.549999999999997, 29.549999999999997, 29.549999999999997, 29.549999999999997, 29.549999999999997, 29.549999999999997, 29.549999999999997, 29.549999999999997, 29.549999999999997, 29.549999999999997, 29.549999999999997, 29.549999999999997, 29.549999999999997, 29.549999999999997, 29.549999999999997, 29.549999999999997, 29.549999999999997, 29.549999999999997, 29.549999999999997]}, {\"mode\": \"lines\", \"name\": \"HIP 17655\", \"stackgroup\": \"one\", \"type\": \"scatter\", \"x\": [\"2018-06-01T00:00:00\", \"2018-07-01T00:00:00\", \"2018-08-01T00:00:00\", \"2018-09-01T00:00:00\", \"2018-10-01T00:00:00\", \"2018-11-01T00:00:00\", \"2018-12-01T00:00:00\", \"2019-01-01T00:00:00\", \"2019-01-01T00:00:00\", \"2019-01-01T00:00:00\", \"2019-01-01T00:00:00\", \"2019-05-01T00:00:00\", \"2019-06-01T00:00:00\", \"2019-07-01T00:00:00\", \"2019-07-01T00:00:00\", \"2019-09-01T00:00:00\", \"2019-10-01T00:00:00\", \"2019-11-01T00:00:00\", \"2019-11-01T00:00:00\", \"2020-01-01T00:00:00\", \"2020-02-01T00:00:00\", \"2020-03-01T00:00:00\", \"2020-04-01T00:00:00\", \"2020-05-01T00:00:00\", \"2020-06-11T00:00:00\", \"2020-06-11T00:00:00\", \"2020-06-11T00:00:00\", \"2020-06-18T00:00:00\", \"2020-06-18T00:00:00\", \"2020-06-18T00:00:00\", \"2020-06-18T00:00:00\", \"2020-06-18T00:00:00\", \"2020-06-18T00:00:00\", \"2020-06-18T00:00:00\", \"2020-06-18T00:00:00\", \"2020-06-18T00:00:00\", \"2020-06-18T00:00:00\", \"2020-06-18T00:00:00\", \"2020-06-18T00:00:00\", \"2020-06-18T00:00:00\", \"2020-07-01T00:00:00\", \"2020-07-01T00:00:00\", \"2020-07-03T00:00:00\", \"2020-07-03T00:00:00\", \"2020-07-03T00:00:00\", \"2020-07-03T00:00:00\", \"2020-07-03T00:00:00\", \"2020-07-03T00:00:00\"], \"y\": [28.200000000000003, 4.5, 18.3, 14.3, 11.333333333333334, 7.6, 14.3, 25.723866666666666, 25.723866666666666, 25.723866666666666, 25.723866666666666, 15.35, 14.233333333333334, 9.9, 9.9, 10.0, 17.8, 17.0, 17.0, 14.04285, 11.155550000000002, 18.0, 14.899999999999999, 17.9, 27.1, 27.1, 27.1, 28.2282, 28.2282, 28.2282, 28.2282, 28.2282, 28.2282, 28.2282, 28.2282, 28.2282, 28.2282, 28.2282, 28.2282, 28.2282, 27.3273, 27.3273, 27.1271, 27.1271, 27.1271, 27.1271, 27.1271, 27.1271]}, {\"mode\": \"lines\", \"name\": \"Holler\", \"stackgroup\": \"one\", \"type\": \"scatter\", \"x\": [\"2018-06-01T00:00:00\", \"2018-07-01T00:00:00\", \"2018-07-01T00:00:00\", \"2018-07-01T00:00:00\", \"2018-07-01T00:00:00\", \"2018-07-01T00:00:00\", \"2018-12-01T00:00:00\", \"2019-01-01T00:00:00\", \"2019-01-01T00:00:00\", \"2019-01-01T00:00:00\", \"2019-01-01T00:00:00\", \"2019-01-01T00:00:00\", \"2019-01-01T00:00:00\", \"2019-07-01T00:00:00\", \"2019-08-01T00:00:00\", \"2019-08-01T00:00:00\", \"2019-08-01T00:00:00\", \"2019-11-01T00:00:00\", \"2019-12-01T00:00:00\", \"2019-12-01T00:00:00\", \"2019-12-01T00:00:00\", \"2019-12-01T00:00:00\", \"2019-12-01T00:00:00\", \"2020-05-01T00:00:00\", \"2020-06-13T00:00:00\", \"2020-06-13T00:00:00\", \"2020-06-13T00:00:00\", \"2020-06-13T00:00:00\", \"2020-06-13T00:00:00\", \"2020-06-13T00:00:00\", \"2020-06-13T00:00:00\", \"2020-06-13T00:00:00\", \"2020-06-13T00:00:00\", \"2020-06-13T00:00:00\", \"2020-06-13T00:00:00\", \"2020-06-26T00:00:00\", \"2020-06-27T00:00:00\", \"2020-06-27T00:00:00\", \"2020-06-27T00:00:00\", \"2020-06-27T00:00:00\", \"2020-07-01T00:00:00\", \"2020-07-02T00:00:00\", \"2020-07-02T00:00:00\", \"2020-07-02T00:00:00\", \"2020-07-02T00:00:00\", \"2020-07-02T00:00:00\", \"2020-07-02T00:00:00\", \"2020-07-02T00:00:00\"], \"y\": [28.500000000000004, 23.700000000000003, 23.700000000000003, 23.700000000000003, 23.700000000000003, 23.700000000000003, 14.214199999999998, 7.399999999999999, 7.399999999999999, 7.399999999999999, 7.399999999999999, 7.399999999999999, 7.399999999999999, 13.0, 17.200000000000003, 17.200000000000003, 17.200000000000003, 25.800000000000004, 28.999999999999996, 28.999999999999996, 28.999999999999996, 28.999999999999996, 28.999999999999996, 22.1, 16.5834, 16.5834, 16.5834, 16.5834, 16.5834, 16.5834, 16.5834, 16.5834, 16.5834, 16.5834, 16.5834, 22.7683, 22.1665, 22.1665, 22.1665, 22.1665, 22.1888, 20.603, 20.603, 20.603, 20.603, 20.603, 20.603, 20.603]}, {\"mode\": \"lines\", \"name\": \"Col 285 Sector WO-E b13-0\", \"stackgroup\": \"one\", \"type\": \"scatter\", \"x\": [\"2018-06-01T00:00:00\", \"2018-07-01T00:00:00\", \"2018-07-01T00:00:00\", \"2018-09-01T00:00:00\", \"2018-10-01T00:00:00\", \"2018-10-01T00:00:00\", \"2018-12-01T00:00:00\", \"2018-12-01T00:00:00\", \"2019-02-01T00:00:00\", \"2019-02-01T00:00:00\", \"2019-02-01T00:00:00\", \"2019-02-01T00:00:00\", \"2019-02-01T00:00:00\", \"2019-02-01T00:00:00\", \"2019-02-01T00:00:00\", \"2019-02-01T00:00:00\", \"2019-02-01T00:00:00\", \"2019-02-01T00:00:00\", \"2019-02-01T00:00:00\", \"2020-01-01T00:00:00\", \"2020-01-01T00:00:00\", \"2020-01-01T00:00:00\", \"2020-01-01T00:00:00\", \"2020-05-01T00:00:00\", \"2020-06-15T00:00:00\", \"2020-06-15T00:00:00\", \"2020-06-15T00:00:00\", \"2020-06-15T00:00:00\", \"2020-06-15T00:00:00\", \"2020-06-15T00:00:00\", \"2020-06-15T00:00:00\", \"2020-06-15T00:00:00\", \"2020-06-23T00:00:00\", \"2020-06-23T00:00:00\", \"2020-06-23T00:00:00\", \"2020-06-23T00:00:00\", \"2020-06-23T00:00:00\", \"2020-06-23T00:00:00\", \"2020-06-23T00:00:00\", \"2020-06-23T00:00:00\", \"2020-06-23T00:00:00\", \"2020-07-02T00:00:00\", \"2020-07-03T00:00:00\", \"2020-07-03T00:00:00\", \"2020-07-03T00:00:00\", \"2020-07-03T00:00:00\", \"2020-07-03T00:00:00\", \"2020-07-03T00:00:00\"], \"y\": [4.7, 6.800000000000001, 6.800000000000001, 6.6, 8.799999999999999, 8.799999999999999, 9.65, 9.65, 11.200000000000001, 11.200000000000001, 11.200000000000001, 11.200000000000001, 11.200000000000001, 11.200000000000001, 11.200000000000001, 11.200000000000001, 11.200000000000001, 11.200000000000001, 11.200000000000001, 9.4094, 9.4094, 9.4094, 9.4094, 8.700000000000001, 8.7, 8.7, 8.7, 8.7, 8.7, 8.7, 8.7, 8.7, 8.7, 8.7, 8.7, 8.7, 8.7, 8.7, 8.7, 8.7, 8.7, 8.7, 8.7, 8.7, 8.7, 8.7, 8.7, 8.7]}, {\"mode\": \"lines\", \"name\": \"Ross 446\", \"stackgroup\": \"one\", \"type\": \"scatter\", \"x\": [\"2018-07-01T00:00:00\", \"2018-08-01T00:00:00\", \"2018-09-01T00:00:00\", \"2018-10-01T00:00:00\", \"2018-11-01T00:00:00\", \"2018-12-01T00:00:00\", \"2019-01-01T00:00:00\", \"2019-02-01T00:00:00\", \"2019-03-01T00:00:00\", \"2019-04-01T00:00:00\", \"2019-05-01T00:00:00\", \"2019-06-01T00:00:00\", \"2019-07-01T00:00:00\", \"2019-08-01T00:00:00\", \"2019-09-01T00:00:00\", \"2019-10-01T00:00:00\", \"2019-11-01T00:00:00\", \"2019-12-01T00:00:00\", \"2020-01-01T00:00:00\", \"2020-02-01T00:00:00\", \"2020-03-01T00:00:00\", \"2020-04-01T00:00:00\", \"2020-05-01T00:00:00\", \"2020-06-15T00:00:00\", \"2020-06-15T00:00:00\", \"2020-06-17T00:00:00\", \"2020-06-18T00:00:00\", \"2020-06-18T00:00:00\", \"2020-06-20T00:00:00\", \"2020-06-21T00:00:00\", \"2020-06-21T00:00:00\", \"2020-06-23T00:00:00\", \"2020-06-24T00:00:00\", \"2020-06-25T00:00:00\", \"2020-06-26T00:00:00\", \"2020-06-26T00:00:00\", \"2020-06-28T00:00:00\", \"2020-06-29T00:00:00\", \"2020-06-30T00:00:00\", \"2020-06-30T00:00:00\", \"2020-07-02T00:00:00\", \"2020-07-03T00:00:00\", \"2020-07-04T00:00:00\", \"2020-07-05T00:00:00\", \"2020-07-06T00:00:00\", \"2020-07-07T00:00:00\", \"2020-07-07T00:00:00\"], \"y\": [21.863671428571426, 25.05975714285714, 25.117785714285713, 19.280742857142858, 21.283775, 10.84607142857143, 18.125, 27.796042857142854, 45.3805, 60.27771999999999, 61.7307625, 61.43793333333334, 55.92068333333335, 51.02064444444444, 63.91603333333334, 49.286028571428574, 62.1588, 52.79694285714286, 55.7951625, 45.97915714285715, 43.3895625, 47.41918181818182, 40.52418888888888, 71.1927, 71.1927, 73.1269, 69.8, 69.8, 60.3015, 62.3116, 62.3116, 55.1759, 49.5477, 47.3896, 48.9468, 48.9468, 50.6507, 49.2492, 48.3968, 48.3968, 52.4525, 52.3524, 53.8076, 53.507, 52.6052, 49.5486, 49.5486]}, {\"mode\": \"lines\", \"name\": \"HIP 47050\", \"stackgroup\": \"one\", \"type\": \"scatter\", \"x\": [\"2018-07-01T00:00:00\", \"2018-07-01T00:00:00\", \"2018-09-01T00:00:00\", \"2018-09-01T00:00:00\", \"2018-09-01T00:00:00\", \"2018-09-01T00:00:00\", \"2018-09-01T00:00:00\", \"2018-09-01T00:00:00\", \"2018-09-01T00:00:00\", \"2018-09-01T00:00:00\", \"2018-09-01T00:00:00\", \"2018-09-01T00:00:00\", \"2018-09-01T00:00:00\", \"2018-09-01T00:00:00\", \"2018-09-01T00:00:00\", \"2018-09-01T00:00:00\", \"2018-09-01T00:00:00\", \"2018-09-01T00:00:00\", \"2018-09-01T00:00:00\", \"2018-09-01T00:00:00\", \"2020-03-01T00:00:00\", \"2020-04-15T00:00:00\", \"2020-04-15T00:00:00\", \"2020-04-15T00:00:00\", \"2020-04-15T00:00:00\", \"2020-04-15T00:00:00\", \"2020-04-15T00:00:00\", \"2020-04-15T00:00:00\", \"2020-04-15T00:00:00\", \"2020-04-15T00:00:00\", \"2020-04-15T00:00:00\", \"2020-04-15T00:00:00\", \"2020-04-15T00:00:00\", \"2020-04-15T00:00:00\", \"2020-04-15T00:00:00\", \"2020-04-15T00:00:00\", \"2020-04-15T00:00:00\", \"2020-04-15T00:00:00\", \"2020-04-15T00:00:00\", \"2020-04-15T00:00:00\", \"2020-04-15T00:00:00\", \"2020-04-15T00:00:00\", \"2020-04-15T00:00:00\", \"2020-04-15T00:00:00\", \"2020-04-15T00:00:00\", \"2020-04-15T00:00:00\", \"2020-04-15T00:00:00\"], \"y\": [7.207199999999999, 7.207199999999999, 6.6, 6.6, 6.6, 6.6, 6.6, 6.6, 6.6, 6.6, 6.6, 6.6, 6.6, 6.6, 6.6, 6.6, 6.6, 6.6, 6.6, 6.6, 4.7, 4.7, 4.7, 4.7, 4.7, 4.7, 4.7, 4.7, 4.7, 4.7, 4.7, 4.7, 4.7, 4.7, 4.7, 4.7, 4.7, 4.7, 4.7, 4.7, 4.7, 4.7, 4.7, 4.7, 4.7, 4.7, 4.7]}, {\"mode\": \"lines\", \"name\": \"Guan Gong\", \"stackgroup\": \"one\", \"type\": \"scatter\", \"x\": [\"2018-07-01T00:00:00\", \"2018-07-01T00:00:00\", \"2018-09-01T00:00:00\", \"2018-09-01T00:00:00\", \"2018-09-01T00:00:00\", \"2018-09-01T00:00:00\", \"2018-09-01T00:00:00\", \"2018-09-01T00:00:00\", \"2018-09-01T00:00:00\", \"2018-09-01T00:00:00\", \"2018-09-01T00:00:00\", \"2018-09-01T00:00:00\", \"2018-09-01T00:00:00\", \"2018-09-01T00:00:00\", \"2018-09-01T00:00:00\", \"2018-09-01T00:00:00\", \"2018-09-01T00:00:00\", \"2018-09-01T00:00:00\", \"2018-09-01T00:00:00\", \"2018-09-01T00:00:00\", \"2018-09-01T00:00:00\", \"2020-04-01T00:00:00\", \"2020-05-01T00:00:00\", \"2020-06-04T00:00:00\", \"2020-06-04T00:00:00\", \"2020-06-04T00:00:00\", \"2020-06-04T00:00:00\", \"2020-06-19T00:00:00\", \"2020-06-19T00:00:00\", \"2020-06-19T00:00:00\", \"2020-06-19T00:00:00\", \"2020-06-19T00:00:00\", \"2020-06-19T00:00:00\", \"2020-06-19T00:00:00\", \"2020-06-19T00:00:00\", \"2020-06-19T00:00:00\", \"2020-06-19T00:00:00\", \"2020-06-19T00:00:00\", \"2020-06-19T00:00:00\", \"2020-06-19T00:00:00\", \"2020-06-19T00:00:00\", \"2020-07-03T00:00:00\", \"2020-07-03T00:00:00\", \"2020-07-03T00:00:00\", \"2020-07-03T00:00:00\", \"2020-07-03T00:00:00\", \"2020-07-03T00:00:00\"], \"y\": [12.5, 12.5, 8.15015, 8.15015, 8.15015, 8.15015, 8.15015, 8.15015, 8.15015, 8.15015, 8.15015, 8.15015, 8.15015, 8.15015, 8.15015, 8.15015, 8.15015, 8.15015, 8.15015, 8.15015, 8.15015, 17.8, 27.3710875, 39.8601, 39.8601, 39.8601, 39.8601, 53.0877, 53.0877, 53.0877, 53.0877, 53.0877, 53.0877, 53.0877, 53.0877, 53.0877, 53.0877, 53.0877, 53.0877, 53.0877, 53.0877, 53.0877, 53.0877, 53.0877, 53.0877, 53.0877, 53.0877]}, {\"mode\": \"lines\", \"name\": \"33 Cygni\", \"stackgroup\": \"one\", \"type\": \"scatter\", \"x\": [\"2018-08-01T00:00:00\", \"2018-09-01T00:00:00\", \"2018-10-01T00:00:00\", \"2018-11-01T00:00:00\", \"2018-12-01T00:00:00\", \"2018-12-01T00:00:00\", \"2019-02-01T00:00:00\", \"2019-02-01T00:00:00\", \"2019-02-01T00:00:00\", \"2019-02-01T00:00:00\", \"2019-06-01T00:00:00\", \"2019-07-01T00:00:00\", \"2019-07-01T00:00:00\", \"2019-09-01T00:00:00\", \"2019-10-01T00:00:00\", \"2019-11-01T00:00:00\", \"2019-12-01T00:00:00\", \"2020-01-01T00:00:00\", \"2020-02-01T00:00:00\", \"2020-03-01T00:00:00\", \"2020-04-01T00:00:00\", \"2020-05-01T00:00:00\", \"2020-06-15T00:00:00\", \"2020-06-15T00:00:00\", \"2020-06-17T00:00:00\", \"2020-06-18T00:00:00\", \"2020-06-19T00:00:00\", \"2020-06-19T00:00:00\", \"2020-06-19T00:00:00\", \"2020-06-22T00:00:00\", \"2020-06-22T00:00:00\", \"2020-06-24T00:00:00\", \"2020-06-24T00:00:00\", \"2020-06-24T00:00:00\", \"2020-06-27T00:00:00\", \"2020-06-27T00:00:00\", \"2020-06-27T00:00:00\", \"2020-06-27T00:00:00\", \"2020-06-27T00:00:00\", \"2020-07-02T00:00:00\", \"2020-07-02T00:00:00\", \"2020-07-02T00:00:00\", \"2020-07-02T00:00:00\", \"2020-07-06T00:00:00\", \"2020-07-06T00:00:00\", \"2020-07-06T00:00:00\"], \"y\": [13.25, 14.685299999999998, 14.000000000000002, 13.1131, 8.200000000000001, 8.200000000000001, 5.800000000000001, 5.800000000000001, 5.800000000000001, 5.800000000000001, 7.8, 10.6, 10.6, 9.8, 8.700000000000001, 10.0, 10.8, 11.8, 11.9061, 23.400000000000002, 23.4765, 20.9, 16.0, 16.0, 15.5, 15.3153, 15.3153, 15.3153, 15.3153, 15.8, 15.8, 15.8, 15.8, 15.8, 15.8, 15.8, 15.8, 15.8, 15.8, 15.8, 15.8, 15.8, 15.8, 15.8, 15.8, 15.8]}, {\"mode\": \"lines\", \"name\": \"Col 285 Sector BQ-N c7-21\", \"stackgroup\": \"one\", \"type\": \"scatter\", \"x\": [\"2018-08-01T00:00:00\", \"2018-08-01T00:00:00\", \"2018-08-01T00:00:00\", \"2018-08-01T00:00:00\", \"2018-12-01T00:00:00\", \"2018-12-01T00:00:00\", \"2018-12-01T00:00:00\", \"2018-12-01T00:00:00\", \"2018-12-01T00:00:00\", \"2018-12-01T00:00:00\", \"2018-12-01T00:00:00\", \"2018-12-01T00:00:00\", \"2018-12-01T00:00:00\", \"2018-12-01T00:00:00\", \"2019-10-01T00:00:00\", \"2019-10-01T00:00:00\", \"2019-10-01T00:00:00\", \"2019-10-01T00:00:00\", \"2019-10-01T00:00:00\", \"2020-03-01T00:00:00\", \"2020-03-01T00:00:00\", \"2020-03-01T00:00:00\", \"2020-05-27T00:00:00\", \"2020-05-27T00:00:00\", \"2020-05-27T00:00:00\", \"2020-05-27T00:00:00\", \"2020-05-27T00:00:00\", \"2020-05-27T00:00:00\", \"2020-05-27T00:00:00\", \"2020-05-27T00:00:00\", \"2020-05-27T00:00:00\", \"2020-05-27T00:00:00\", \"2020-05-27T00:00:00\", \"2020-05-27T00:00:00\", \"2020-05-27T00:00:00\", \"2020-05-27T00:00:00\", \"2020-05-27T00:00:00\", \"2020-05-27T00:00:00\", \"2020-05-27T00:00:00\", \"2020-05-27T00:00:00\", \"2020-05-27T00:00:00\", \"2020-05-27T00:00:00\", \"2020-05-27T00:00:00\", \"2020-05-27T00:00:00\", \"2020-05-27T00:00:00\", \"2020-05-27T00:00:00\"], \"y\": [44.9, 44.9, 44.9, 44.9, 43.3, 43.3, 43.3, 43.3, 43.3, 43.3, 43.3, 43.3, 43.3, 43.3, 41.141099999999994, 41.141099999999994, 41.141099999999994, 41.141099999999994, 41.141099999999994, 39.800000000000004, 39.800000000000004, 39.800000000000004, 39.3, 39.3, 39.3, 39.3, 39.3, 39.3, 39.3, 39.3, 39.3, 39.3, 39.3, 39.3, 39.3, 39.3, 39.3, 39.3, 39.3, 39.3, 39.3, 39.3, 39.3, 39.3, 39.3, 39.3]}, {\"mode\": \"lines\", \"name\": \"Xi Shan\", \"stackgroup\": \"one\", \"type\": \"scatter\", \"x\": [\"2018-08-01T00:00:00\", \"2018-08-01T00:00:00\", \"2018-08-01T00:00:00\", \"2018-08-01T00:00:00\", \"2018-12-01T00:00:00\", \"2018-12-01T00:00:00\", \"2018-12-01T00:00:00\", \"2018-12-01T00:00:00\", \"2018-12-01T00:00:00\", \"2018-12-01T00:00:00\", \"2018-12-01T00:00:00\", \"2018-12-01T00:00:00\", \"2018-12-01T00:00:00\", \"2018-12-01T00:00:00\", \"2018-12-01T00:00:00\", \"2018-12-01T00:00:00\", \"2018-12-01T00:00:00\", \"2018-12-01T00:00:00\", \"2020-02-01T00:00:00\", \"2020-02-01T00:00:00\", \"2020-04-01T00:00:00\", \"2020-04-01T00:00:00\", \"2020-05-27T00:00:00\", \"2020-05-27T00:00:00\", \"2020-05-27T00:00:00\", \"2020-05-27T00:00:00\", \"2020-05-27T00:00:00\", \"2020-05-27T00:00:00\", \"2020-05-27T00:00:00\", \"2020-05-27T00:00:00\", \"2020-05-27T00:00:00\", \"2020-05-27T00:00:00\", \"2020-05-27T00:00:00\", \"2020-05-27T00:00:00\", \"2020-05-27T00:00:00\", \"2020-05-27T00:00:00\", \"2020-05-27T00:00:00\", \"2020-06-30T00:00:00\", \"2020-06-30T00:00:00\", \"2020-06-30T00:00:00\", \"2020-06-30T00:00:00\", \"2020-06-30T00:00:00\", \"2020-06-30T00:00:00\", \"2020-06-30T00:00:00\", \"2020-06-30T00:00:00\", \"2020-06-30T00:00:00\"], \"y\": [69.5, 69.5, 69.5, 69.5, 83.8, 83.8, 83.8, 83.8, 83.8, 83.8, 83.8, 83.8, 83.8, 83.8, 83.8, 83.8, 83.8, 83.8, 72.8729, 72.8729, 72.4, 72.4, 79.4795, 79.4795, 79.4795, 79.4795, 79.4795, 79.4795, 79.4795, 79.4795, 79.4795, 79.4795, 79.4795, 79.4795, 79.4795, 79.4795, 79.4795, 56.841, 56.841, 56.841, 56.841, 56.841, 56.841, 56.841, 56.841, 56.841]}, {\"mode\": \"lines\", \"name\": \"Anandariti\", \"stackgroup\": \"one\", \"type\": \"scatter\", \"x\": [\"2018-09-01T00:00:00\", \"2018-09-01T00:00:00\", \"2018-09-01T00:00:00\", \"2018-09-01T00:00:00\", \"2018-09-01T00:00:00\", \"2018-09-01T00:00:00\", \"2018-09-01T00:00:00\", \"2018-09-01T00:00:00\", \"2018-09-01T00:00:00\", \"2018-09-01T00:00:00\", \"2018-09-01T00:00:00\", \"2018-09-01T00:00:00\", \"2019-09-01T00:00:00\", \"2019-10-01T00:00:00\", \"2019-10-01T00:00:00\", \"2019-10-01T00:00:00\", \"2019-10-01T00:00:00\", \"2019-10-01T00:00:00\", \"2020-03-01T00:00:00\", \"2020-04-01T00:00:00\", \"2020-05-01T00:00:00\", \"2020-05-18T00:00:00\", \"2020-05-18T00:00:00\", \"2020-05-18T00:00:00\", \"2020-05-18T00:00:00\", \"2020-05-18T00:00:00\", \"2020-05-18T00:00:00\", \"2020-06-21T00:00:00\", \"2020-06-21T00:00:00\", \"2020-06-21T00:00:00\", \"2020-06-21T00:00:00\", \"2020-06-21T00:00:00\", \"2020-06-21T00:00:00\", \"2020-06-21T00:00:00\", \"2020-06-21T00:00:00\", \"2020-06-29T00:00:00\", \"2020-06-29T00:00:00\", \"2020-06-29T00:00:00\", \"2020-06-29T00:00:00\", \"2020-06-29T00:00:00\", \"2020-06-29T00:00:00\", \"2020-06-29T00:00:00\", \"2020-06-29T00:00:00\", \"2020-06-29T00:00:00\", \"2020-06-29T00:00:00\"], \"y\": [18.7, 18.7, 18.7, 18.7, 18.7, 18.7, 18.7, 18.7, 18.7, 18.7, 18.7, 18.7, 38.3, 38.2, 38.2, 38.2, 38.2, 38.2, 36.8, 36.8368, 34.6, 34.6, 34.6, 34.6, 34.6, 34.6, 34.6, 32.7, 32.7, 32.7, 32.7, 32.7, 32.7, 32.7, 32.7, 32.7, 32.7, 32.7, 32.7, 32.7, 32.7, 32.7, 32.7, 32.7, 32.7]}, {\"mode\": \"lines\", \"name\": \"LAWD 26\", \"stackgroup\": \"one\", \"type\": \"scatter\", \"x\": [\"2018-11-01T00:00:00\", \"2018-12-01T00:00:00\", \"2019-01-01T00:00:00\", \"2019-02-01T00:00:00\", \"2019-03-01T00:00:00\", \"2019-04-01T00:00:00\", \"2019-05-01T00:00:00\", \"2019-06-01T00:00:00\", \"2019-07-01T00:00:00\", \"2019-08-01T00:00:00\", \"2019-09-01T00:00:00\", \"2019-10-01T00:00:00\", \"2019-11-01T00:00:00\", \"2019-12-01T00:00:00\", \"2020-01-01T00:00:00\", \"2020-02-01T00:00:00\", \"2020-03-01T00:00:00\", \"2020-04-01T00:00:00\", \"2020-05-01T00:00:00\", \"2020-06-15T00:00:00\", \"2020-06-15T00:00:00\", \"2020-06-17T00:00:00\", \"2020-06-18T00:00:00\", \"2020-06-19T00:00:00\", \"2020-06-20T00:00:00\", \"2020-06-21T00:00:00\", \"2020-06-21T00:00:00\", \"2020-06-23T00:00:00\", \"2020-06-24T00:00:00\", \"2020-06-25T00:00:00\", \"2020-06-26T00:00:00\", \"2020-06-26T00:00:00\", \"2020-06-28T00:00:00\", \"2020-06-29T00:00:00\", \"2020-06-30T00:00:00\", \"2020-06-30T00:00:00\", \"2020-07-02T00:00:00\", \"2020-07-03T00:00:00\", \"2020-07-04T00:00:00\", \"2020-07-05T00:00:00\", \"2020-07-06T00:00:00\", \"2020-07-07T00:00:00\", \"2020-07-07T00:00:00\"], \"y\": [34.05865, 12.498957142857138, 17.9829, 47.12512, 59.66667142857142, 52.441700000000004, 63.44483, 56.36287272727273, 56.21147272727273, 55.62254444444444, 50.61091111111111, 42.4849875, 51.7088, 49.56513846153847, 60.996691666666656, 56.25546999999999, 50.976311111111116, 54.10418333333333, 48.67989, 54.9377, 54.9377, 58.6414, 57.0408, 59.0591, 56.7, 61.7977, 61.7977, 54.3, 56.2, 55.4082, 50.2503, 50.2503, 48.4484, 50.7583, 53.4884, 53.4884, 52.953, 52.3477, 54.3, 59.9, 58.7588, 54.5547, 54.5547]}, {\"mode\": \"lines\", \"name\": \"BD+33 801\", \"stackgroup\": \"one\", \"type\": \"scatter\", \"x\": [\"2018-11-01T00:00:00\", \"2018-12-01T00:00:00\", \"2019-01-01T00:00:00\", \"2019-02-01T00:00:00\", \"2019-03-01T00:00:00\", \"2019-04-01T00:00:00\", \"2019-05-01T00:00:00\", \"2019-06-01T00:00:00\", \"2019-07-01T00:00:00\", \"2019-08-01T00:00:00\", \"2019-09-01T00:00:00\", \"2019-10-01T00:00:00\", \"2019-11-01T00:00:00\", \"2019-11-01T00:00:00\", \"2020-01-01T00:00:00\", \"2020-02-01T00:00:00\", \"2020-03-01T00:00:00\", \"2020-04-01T00:00:00\", \"2020-05-01T00:00:00\", \"2020-06-15T00:00:00\", \"2020-06-15T00:00:00\", \"2020-06-17T00:00:00\", \"2020-06-17T00:00:00\", \"2020-06-17T00:00:00\", \"2020-06-17T00:00:00\", \"2020-06-17T00:00:00\", \"2020-06-17T00:00:00\", \"2020-06-23T00:00:00\", \"2020-06-23T00:00:00\", \"2020-06-25T00:00:00\", \"2020-06-26T00:00:00\", \"2020-06-26T00:00:00\", \"2020-06-28T00:00:00\", \"2020-06-28T00:00:00\", \"2020-06-30T00:00:00\", \"2020-06-30T00:00:00\", \"2020-07-02T00:00:00\", \"2020-07-03T00:00:00\", \"2020-07-03T00:00:00\", \"2020-07-05T00:00:00\", \"2020-07-05T00:00:00\", \"2020-07-05T00:00:00\", \"2020-07-05T00:00:00\"], \"y\": [15.10715, 9.326, 8.200000000000001, 3.5035, 2.9, 2.9666333333333332, 4.102866666666666, 4.1, 4.896733333333333, 4.55, 5.997, 7.175000000000001, 7.40335, 7.40335, 7.3852, 8.1, 7.9079, 11.7117, 13.99285, 13.202, 13.202, 13.215, 13.215, 13.215, 13.215, 13.215, 13.215, 12.6233, 12.6233, 11.2426, 10.7495, 10.7495, 10.4331, 10.4331, 10.6299, 10.6299, 11.0236, 11.2205, 11.2205, 10.7283, 10.7283, 10.7283, 10.7283]}, {\"mode\": \"lines\", \"name\": \"LHS 1951\", \"stackgroup\": \"one\", \"type\": \"scatter\", \"x\": [\"2018-12-01T00:00:00\", \"2019-01-01T00:00:00\", \"2019-02-01T00:00:00\", \"2019-03-01T00:00:00\", \"2019-04-01T00:00:00\", \"2019-05-01T00:00:00\", \"2019-06-01T00:00:00\", \"2019-07-01T00:00:00\", \"2019-08-01T00:00:00\", \"2019-09-01T00:00:00\", \"2019-10-01T00:00:00\", \"2019-11-01T00:00:00\", \"2019-12-01T00:00:00\", \"2020-01-01T00:00:00\", \"2020-02-01T00:00:00\", \"2020-03-01T00:00:00\", \"2020-04-01T00:00:00\", \"2020-05-01T00:00:00\", \"2020-06-15T00:00:00\", \"2020-06-15T00:00:00\", \"2020-06-17T00:00:00\", \"2020-06-18T00:00:00\", \"2020-06-19T00:00:00\", \"2020-06-20T00:00:00\", \"2020-06-21T00:00:00\", \"2020-06-21T00:00:00\", \"2020-06-23T00:00:00\", \"2020-06-24T00:00:00\", \"2020-06-25T00:00:00\", \"2020-06-26T00:00:00\", \"2020-06-26T00:00:00\", \"2020-06-28T00:00:00\", \"2020-06-29T00:00:00\", \"2020-06-30T00:00:00\", \"2020-06-30T00:00:00\", \"2020-07-02T00:00:00\", \"2020-07-03T00:00:00\", \"2020-07-04T00:00:00\", \"2020-07-05T00:00:00\", \"2020-07-06T00:00:00\", \"2020-07-07T00:00:00\", \"2020-07-07T00:00:00\"], \"y\": [11.638181818181817, 18.837400000000002, 29.54262222222222, 36.64392222222222, 46.67146470588233, 52.134446153846156, 48.109309999999994, 47.74566363636364, 40.29967777777778, 41.200450000000004, 39.064718181818186, 44.122144444444444, 42.81443333333333, 45.4074, 44.89696666666667, 49.65597499999999, 46.23945333333334, 45.16659, 53.8314, 53.8314, 54.2543, 54.9, 53.2533, 52.4, 50.3, 50.3, 48.4, 47.5, 46.5, 44.5554, 44.5554, 46.8, 45.8, 46.2, 46.2, 45.954, 46.008, 45.4183, 45.1645, 44.9102, 42.7717, 42.7717]}, {\"mode\": \"lines\", \"name\": \"Col 285 Sector UE-G c11-19\", \"stackgroup\": \"one\", \"type\": \"scatter\", \"x\": [\"2019-01-01T00:00:00\", \"2019-01-01T00:00:00\", \"2019-01-01T00:00:00\", \"2019-04-01T00:00:00\", \"2019-04-01T00:00:00\", \"2019-04-01T00:00:00\", \"2019-04-01T00:00:00\", \"2019-04-01T00:00:00\", \"2019-04-01T00:00:00\", \"2019-04-01T00:00:00\", \"2019-04-01T00:00:00\", \"2019-12-01T00:00:00\", \"2020-01-01T00:00:00\", \"2020-02-01T00:00:00\", \"2020-03-01T00:00:00\", \"2020-04-01T00:00:00\", \"2020-05-01T00:00:00\", \"2020-06-15T00:00:00\", \"2020-06-15T00:00:00\", \"2020-06-17T00:00:00\", \"2020-06-17T00:00:00\", \"2020-06-17T00:00:00\", \"2020-06-17T00:00:00\", \"2020-06-21T00:00:00\", \"2020-06-21T00:00:00\", \"2020-06-23T00:00:00\", \"2020-06-24T00:00:00\", \"2020-06-24T00:00:00\", \"2020-06-24T00:00:00\", \"2020-06-24T00:00:00\", \"2020-06-24T00:00:00\", \"2020-06-24T00:00:00\", \"2020-06-24T00:00:00\", \"2020-06-24T00:00:00\", \"2020-07-02T00:00:00\", \"2020-07-03T00:00:00\", \"2020-07-04T00:00:00\", \"2020-07-05T00:00:00\", \"2020-07-06T00:00:00\", \"2020-07-07T00:00:00\", \"2020-07-07T00:00:00\"], \"y\": [8.799999999999999, 8.799999999999999, 8.799999999999999, 11.5115, 11.5115, 11.5115, 11.5115, 11.5115, 11.5115, 11.5115, 11.5115, 24.0759, 39.3002, 37.85, 24.874850000000002, 23.3, 31.968000000000004, 38.7, 38.7, 40.04, 40.04, 40.04, 40.04, 40.04, 40.04, 40.04, 40.04, 40.04, 40.04, 40.04, 40.04, 40.04, 40.04, 40.04, 37.9379, 41.5415, 37.4374, 32.5, 33.6391, 27.8, 27.8]}, {\"mode\": \"lines\", \"name\": \"Mons\", \"stackgroup\": \"one\", \"type\": \"scatter\", \"x\": [\"2019-01-01T00:00:00\", \"2019-01-01T00:00:00\", \"2019-01-01T00:00:00\", \"2019-01-01T00:00:00\", \"2019-01-01T00:00:00\", \"2019-01-01T00:00:00\", \"2019-07-01T00:00:00\", \"2019-08-01T00:00:00\", \"2019-09-01T00:00:00\", \"2019-10-01T00:00:00\", \"2019-11-01T00:00:00\", \"2019-12-01T00:00:00\", \"2020-01-01T00:00:00\", \"2020-02-01T00:00:00\", \"2020-03-01T00:00:00\", \"2020-04-01T00:00:00\", \"2020-05-01T00:00:00\", \"2020-05-23T00:00:00\", \"2020-05-23T00:00:00\", \"2020-05-23T00:00:00\", \"2020-06-18T00:00:00\", \"2020-06-18T00:00:00\", \"2020-06-18T00:00:00\", \"2020-06-18T00:00:00\", \"2020-06-18T00:00:00\", \"2020-06-18T00:00:00\", \"2020-06-24T00:00:00\", \"2020-06-24T00:00:00\", \"2020-06-24T00:00:00\", \"2020-06-24T00:00:00\", \"2020-06-24T00:00:00\", \"2020-06-24T00:00:00\", \"2020-06-24T00:00:00\", \"2020-07-01T00:00:00\", \"2020-07-01T00:00:00\", \"2020-07-01T00:00:00\", \"2020-07-01T00:00:00\", \"2020-07-01T00:00:00\", \"2020-07-01T00:00:00\", \"2020-07-01T00:00:00\", \"2020-07-01T00:00:00\"], \"y\": [31.900000000000002, 31.900000000000002, 31.900000000000002, 31.900000000000002, 31.900000000000002, 31.900000000000002, 55.4555, 56.3682, 54.7, 64.2, 57.92115, 50.8, 56.1439, 26.998933333333337, 42.64833333333333, 54.922650000000004, 47.65, 52.9, 52.9, 52.9, 50.8, 50.8, 50.8, 50.8, 50.8, 50.8, 51.6484, 51.6484, 51.6484, 51.6484, 51.6484, 51.6484, 51.6484, 51.4486, 51.4486, 51.4486, 51.4486, 51.4486, 51.4486, 51.4486, 51.4486]}, {\"mode\": \"lines\", \"name\": \"LHS 200\", \"stackgroup\": \"one\", \"type\": \"scatter\", \"x\": [\"2019-02-01T00:00:00\", \"2019-02-01T00:00:00\", \"2019-02-01T00:00:00\", \"2019-02-01T00:00:00\", \"2019-02-01T00:00:00\", \"2019-02-01T00:00:00\", \"2019-02-01T00:00:00\", \"2019-02-01T00:00:00\", \"2019-02-01T00:00:00\", \"2019-02-01T00:00:00\", \"2019-02-01T00:00:00\", \"2019-02-01T00:00:00\", \"2019-02-01T00:00:00\", \"2019-02-01T00:00:00\", \"2019-02-01T00:00:00\", \"2019-02-01T00:00:00\", \"2019-02-01T00:00:00\", \"2019-02-01T00:00:00\", \"2019-02-01T00:00:00\", \"2019-02-01T00:00:00\", \"2019-02-01T00:00:00\", \"2019-02-01T00:00:00\", \"2019-02-01T00:00:00\", \"2019-02-01T00:00:00\", \"2019-02-01T00:00:00\", \"2019-02-01T00:00:00\", \"2019-02-01T00:00:00\", \"2019-02-01T00:00:00\", \"2019-02-01T00:00:00\", \"2019-02-01T00:00:00\", \"2019-02-01T00:00:00\", \"2019-02-01T00:00:00\", \"2019-02-01T00:00:00\", \"2019-02-01T00:00:00\", \"2019-02-01T00:00:00\", \"2019-02-01T00:00:00\", \"2019-02-01T00:00:00\", \"2019-02-01T00:00:00\", \"2019-02-01T00:00:00\", \"2019-02-01T00:00:00\"], \"y\": [7.4135, 7.4135, 7.4135, 7.4135, 7.4135, 7.4135, 7.4135, 7.4135, 7.4135, 7.4135, 7.4135, 7.4135, 7.4135, 7.4135, 7.4135, 7.4135, 7.4135, 7.4135, 7.4135, 7.4135, 7.4135, 7.4135, 7.4135, 7.4135, 7.4135, 7.4135, 7.4135, 7.4135, 7.4135, 7.4135, 7.4135, 7.4135, 7.4135, 7.4135, 7.4135, 7.4135, 7.4135, 7.4135, 7.4135, 7.4135]}, {\"mode\": \"lines\", \"name\": \"RR Caeli\", \"stackgroup\": \"one\", \"type\": \"scatter\", \"x\": [\"2019-02-01T00:00:00\", \"2019-03-01T00:00:00\", \"2019-04-01T00:00:00\", \"2019-05-01T00:00:00\", \"2019-06-01T00:00:00\", \"2019-07-01T00:00:00\", \"2019-08-01T00:00:00\", \"2019-09-01T00:00:00\", \"2019-10-01T00:00:00\", \"2019-11-01T00:00:00\", \"2019-12-01T00:00:00\", \"2020-01-01T00:00:00\", \"2020-02-01T00:00:00\", \"2020-03-01T00:00:00\", \"2020-04-01T00:00:00\", \"2020-05-01T00:00:00\", \"2020-06-15T00:00:00\", \"2020-06-15T00:00:00\", \"2020-06-17T00:00:00\", \"2020-06-18T00:00:00\", \"2020-06-19T00:00:00\", \"2020-06-20T00:00:00\", \"2020-06-21T00:00:00\", \"2020-06-21T00:00:00\", \"2020-06-23T00:00:00\", \"2020-06-24T00:00:00\", \"2020-06-25T00:00:00\", \"2020-06-26T00:00:00\", \"2020-06-26T00:00:00\", \"2020-06-28T00:00:00\", \"2020-06-29T00:00:00\", \"2020-06-30T00:00:00\", \"2020-06-30T00:00:00\", \"2020-07-02T00:00:00\", \"2020-07-03T00:00:00\", \"2020-07-04T00:00:00\", \"2020-07-05T00:00:00\", \"2020-07-06T00:00:00\", \"2020-07-07T00:00:00\", \"2020-07-07T00:00:00\"], \"y\": [24.364800000000002, 27.70141, 37.267360000000004, 60.965411111111116, 56.14584444444444, 66.76155714285714, 59.59971428571428, 56.72328888888889, 45.01251111111112, 61.04375, 46.91401, 34.333400000000005, 44.128690000000006, 25.908033333333332, 25.19434444444444, 13.851681249999997, 13.253, 13.253, 15.6843, 16.2933, 15.2594, 17.8026, 18.6354, 18.6354, 22.3242, 25.0765, 21.2029, 22.0183, 22.0183, 19.2464, 20.3666, 17.5153, 17.5153, 16.0732, 15.5488, 15.5646, 15.5646, 15.5646, 15.580400000000001, 15.580400000000001]}, {\"mode\": \"lines\", \"name\": \"Lei Manako\", \"stackgroup\": \"one\", \"type\": \"scatter\", \"x\": [\"2019-02-01T00:00:00\", \"2019-03-01T00:00:00\", \"2019-03-01T00:00:00\", \"2019-03-01T00:00:00\", \"2019-03-01T00:00:00\", \"2019-03-01T00:00:00\", \"2019-03-01T00:00:00\", \"2019-03-01T00:00:00\", \"2019-03-01T00:00:00\", \"2019-03-01T00:00:00\", \"2019-03-01T00:00:00\", \"2019-03-01T00:00:00\", \"2019-03-01T00:00:00\", \"2019-03-01T00:00:00\", \"2019-03-01T00:00:00\", \"2019-03-01T00:00:00\", \"2019-03-01T00:00:00\", \"2019-03-01T00:00:00\", \"2019-03-01T00:00:00\", \"2019-03-01T00:00:00\", \"2019-03-01T00:00:00\", \"2019-03-01T00:00:00\", \"2019-03-01T00:00:00\", \"2019-03-01T00:00:00\", \"2019-03-01T00:00:00\", \"2019-03-01T00:00:00\", \"2019-03-01T00:00:00\", \"2019-03-01T00:00:00\", \"2019-03-01T00:00:00\", \"2019-03-01T00:00:00\", \"2019-03-01T00:00:00\", \"2019-03-01T00:00:00\", \"2019-03-01T00:00:00\", \"2019-03-01T00:00:00\", \"2019-03-01T00:00:00\", \"2019-03-01T00:00:00\", \"2019-03-01T00:00:00\", \"2019-03-01T00:00:00\", \"2019-03-01T00:00:00\", \"2019-03-01T00:00:00\"], \"y\": [3.7037, 2.3023, 2.3023, 2.3023, 2.3023, 2.3023, 2.3023, 2.3023, 2.3023, 2.3023, 2.3023, 2.3023, 2.3023, 2.3023, 2.3023, 2.3023, 2.3023, 2.3023, 2.3023, 2.3023, 2.3023, 2.3023, 2.3023, 2.3023, 2.3023, 2.3023, 2.3023, 2.3023, 2.3023, 2.3023, 2.3023, 2.3023, 2.3023, 2.3023, 2.3023, 2.3023, 2.3023, 2.3023, 2.3023, 2.3023]}, {\"mode\": \"lines\", \"name\": \"LHS 2065\", \"stackgroup\": \"one\", \"type\": \"scatter\", \"x\": [\"2019-03-01T00:00:00\", \"2019-04-01T00:00:00\", \"2019-05-01T00:00:00\", \"2019-06-01T00:00:00\", \"2019-07-01T00:00:00\", \"2019-08-01T00:00:00\", \"2019-09-01T00:00:00\", \"2019-10-01T00:00:00\", \"2019-11-01T00:00:00\", \"2019-12-01T00:00:00\", \"2020-01-01T00:00:00\", \"2020-02-01T00:00:00\", \"2020-03-01T00:00:00\", \"2020-04-01T00:00:00\", \"2020-05-01T00:00:00\", \"2020-06-15T00:00:00\", \"2020-06-15T00:00:00\", \"2020-06-17T00:00:00\", \"2020-06-18T00:00:00\", \"2020-06-19T00:00:00\", \"2020-06-20T00:00:00\", \"2020-06-21T00:00:00\", \"2020-06-21T00:00:00\", \"2020-06-23T00:00:00\", \"2020-06-24T00:00:00\", \"2020-06-25T00:00:00\", \"2020-06-26T00:00:00\", \"2020-06-26T00:00:00\", \"2020-06-28T00:00:00\", \"2020-06-29T00:00:00\", \"2020-06-30T00:00:00\", \"2020-06-30T00:00:00\", \"2020-07-02T00:00:00\", \"2020-07-03T00:00:00\", \"2020-07-04T00:00:00\", \"2020-07-05T00:00:00\", \"2020-07-06T00:00:00\", \"2020-07-07T00:00:00\", \"2020-07-07T00:00:00\"], \"y\": [8.5, 19.17318888888889, 17.856544444444445, 20.2841, 7.809150000000001, 15.739587499999999, 9.730242857142857, 21.395927272727274, 19.002657142857142, 43.458275, 56.29881428571429, 41.29882222222222, 47.138625000000005, 58.2233625, 45.906455555555546, 69.434, 69.434, 65.3, 62.449, 69.1692, 64.539, 61.4386, 61.4386, 52.4, 54.0, 54.7, 56.0, 56.0, 56.7, 54.9, 56.6667, 56.6667, 59.3, 67.9798, 67.1093, 65.6, 59.8599, 56.6, 56.6]}, {\"mode\": \"lines\", \"name\": \"Lu Yupik\", \"stackgroup\": \"one\", \"type\": \"scatter\", \"x\": [\"2019-03-01T00:00:00\", \"2019-04-01T00:00:00\", \"2019-05-01T00:00:00\", \"2019-06-01T00:00:00\", \"2019-07-01T00:00:00\", \"2019-08-01T00:00:00\", \"2019-09-01T00:00:00\", \"2019-10-01T00:00:00\", \"2019-11-01T00:00:00\", \"2019-12-01T00:00:00\", \"2020-01-01T00:00:00\", \"2020-02-01T00:00:00\", \"2020-03-01T00:00:00\", \"2020-04-01T00:00:00\", \"2020-05-01T00:00:00\", \"2020-06-15T00:00:00\", \"2020-06-15T00:00:00\", \"2020-06-17T00:00:00\", \"2020-06-18T00:00:00\", \"2020-06-19T00:00:00\", \"2020-06-20T00:00:00\", \"2020-06-21T00:00:00\", \"2020-06-21T00:00:00\", \"2020-06-23T00:00:00\", \"2020-06-24T00:00:00\", \"2020-06-24T00:00:00\", \"2020-06-26T00:00:00\", \"2020-06-26T00:00:00\", \"2020-06-28T00:00:00\", \"2020-06-29T00:00:00\", \"2020-06-30T00:00:00\", \"2020-06-30T00:00:00\", \"2020-07-02T00:00:00\", \"2020-07-03T00:00:00\", \"2020-07-04T00:00:00\", \"2020-07-05T00:00:00\", \"2020-07-06T00:00:00\", \"2020-07-07T00:00:00\", \"2020-07-07T00:00:00\"], \"y\": [19.78997, 30.224649999999997, 50.01343636363637, 45.488057142857144, 18.214412500000005, 37.346133333333334, 49.23316666666667, 45.32375, 50.206574999999994, 56.25211, 47.07972727272727, 49.935925, 42.78882, 39.566862500000006, 44.458937500000005, 74.8549, 74.8549, 69.1395, 65.8342, 59.96, 54.4, 53.4694, 53.4694, 52.8, 51.6, 51.6, 46.5465, 46.5465, 47.047, 45.8458, 47.5475, 47.5475, 50.7, 51.1488, 54.0, 50.2538, 45.6, 40.9184, 40.9184]}, {\"mode\": \"lines\", \"name\": \"HR 3714\", \"stackgroup\": \"one\", \"type\": \"scatter\", \"x\": [\"2019-03-01T00:00:00\", \"2019-03-01T00:00:00\", \"2019-03-01T00:00:00\", \"2019-03-01T00:00:00\", \"2019-03-01T00:00:00\", \"2019-08-01T00:00:00\", \"2019-09-01T00:00:00\", \"2019-09-01T00:00:00\", \"2019-11-01T00:00:00\", \"2019-11-01T00:00:00\", \"2019-11-01T00:00:00\", \"2019-11-01T00:00:00\", \"2020-03-01T00:00:00\", \"2020-03-01T00:00:00\", \"2020-05-01T00:00:00\", \"2020-06-12T00:00:00\", \"2020-06-12T00:00:00\", \"2020-06-12T00:00:00\", \"2020-06-12T00:00:00\", \"2020-06-12T00:00:00\", \"2020-06-12T00:00:00\", \"2020-06-21T00:00:00\", \"2020-06-21T00:00:00\", \"2020-06-21T00:00:00\", \"2020-06-21T00:00:00\", \"2020-06-21T00:00:00\", \"2020-06-21T00:00:00\", \"2020-06-21T00:00:00\", \"2020-06-21T00:00:00\", \"2020-06-21T00:00:00\", \"2020-06-21T00:00:00\", \"2020-06-21T00:00:00\", \"2020-06-21T00:00:00\", \"2020-06-21T00:00:00\", \"2020-06-21T00:00:00\", \"2020-06-21T00:00:00\", \"2020-06-21T00:00:00\", \"2020-06-21T00:00:00\", \"2020-06-21T00:00:00\"], \"y\": [2.3023, 2.3023, 2.3023, 2.3023, 2.3023, 4.004, 3.8, 3.8, 3.4034, 3.4034, 3.4034, 3.4034, 3.1, 3.1, 5.2724, 4.5, 4.5, 4.5, 4.5, 4.5, 4.5, 4.8096, 4.8096, 4.8096, 4.8096, 4.8096, 4.8096, 4.8096, 4.8096, 4.8096, 4.8096, 4.8096, 4.8096, 4.8096, 4.8096, 4.8096, 4.8096, 4.8096, 4.8096]}, {\"mode\": \"lines\", \"name\": \"Mantobices\", \"stackgroup\": \"one\", \"type\": \"scatter\", \"x\": [\"2019-04-01T00:00:00\", \"2019-04-01T00:00:00\", \"2019-04-01T00:00:00\", \"2019-04-01T00:00:00\", \"2019-04-01T00:00:00\", \"2019-04-01T00:00:00\", \"2019-10-01T00:00:00\", \"2019-10-01T00:00:00\", \"2019-10-01T00:00:00\", \"2020-01-01T00:00:00\", \"2020-01-01T00:00:00\", \"2020-01-01T00:00:00\", \"2020-01-01T00:00:00\", \"2020-05-01T00:00:00\", \"2020-05-27T00:00:00\", \"2020-05-27T00:00:00\", \"2020-05-27T00:00:00\", \"2020-05-27T00:00:00\", \"2020-05-27T00:00:00\", \"2020-05-27T00:00:00\", \"2020-05-27T00:00:00\", \"2020-05-27T00:00:00\", \"2020-05-27T00:00:00\", \"2020-05-27T00:00:00\", \"2020-05-27T00:00:00\", \"2020-05-27T00:00:00\", \"2020-05-27T00:00:00\", \"2020-05-27T00:00:00\", \"2020-05-27T00:00:00\", \"2020-05-27T00:00:00\", \"2020-07-01T00:00:00\", \"2020-07-01T00:00:00\", \"2020-07-01T00:00:00\", \"2020-07-01T00:00:00\", \"2020-07-01T00:00:00\", \"2020-07-01T00:00:00\", \"2020-07-01T00:00:00\", \"2020-07-01T00:00:00\"], \"y\": [10.9, 10.9, 10.9, 10.9, 10.9, 10.9, 12.35605, 12.35605, 12.35605, 12.4, 12.4, 12.4, 12.4, 11.09445, 12.3, 12.3, 12.3, 12.3, 12.3, 12.3, 12.3, 12.3, 12.3, 12.3, 12.3, 12.3, 12.3, 12.3, 12.3, 12.3, 11.8644, 11.8644, 11.8644, 11.8644, 11.8644, 11.8644, 11.8644, 11.8644]}, {\"mode\": \"lines\", \"name\": \"Nanangolans\", \"stackgroup\": \"one\", \"type\": \"scatter\", \"x\": [\"2019-04-01T00:00:00\", \"2019-04-01T00:00:00\", \"2019-04-01T00:00:00\", \"2019-04-01T00:00:00\", \"2019-04-01T00:00:00\", \"2019-04-01T00:00:00\", \"2019-04-01T00:00:00\", \"2019-04-01T00:00:00\", \"2019-04-01T00:00:00\", \"2019-04-01T00:00:00\", \"2019-04-01T00:00:00\", \"2019-04-01T00:00:00\", \"2019-04-01T00:00:00\", \"2020-05-01T00:00:00\", \"2020-05-16T00:00:00\", \"2020-05-16T00:00:00\", \"2020-05-16T00:00:00\", \"2020-05-16T00:00:00\", \"2020-05-16T00:00:00\", \"2020-05-16T00:00:00\", \"2020-05-16T00:00:00\", \"2020-05-16T00:00:00\", \"2020-05-16T00:00:00\", \"2020-05-16T00:00:00\", \"2020-05-16T00:00:00\", \"2020-05-16T00:00:00\", \"2020-05-16T00:00:00\", \"2020-05-16T00:00:00\", \"2020-05-16T00:00:00\", \"2020-05-16T00:00:00\", \"2020-05-16T00:00:00\", \"2020-05-16T00:00:00\", \"2020-05-16T00:00:00\", \"2020-05-16T00:00:00\", \"2020-05-16T00:00:00\", \"2020-07-06T00:00:00\", \"2020-07-06T00:00:00\", \"2020-07-06T00:00:00\"], \"y\": [11.700000000000001, 11.700000000000001, 11.700000000000001, 11.700000000000001, 11.700000000000001, 11.700000000000001, 11.700000000000001, 11.700000000000001, 11.700000000000001, 11.700000000000001, 11.700000000000001, 11.700000000000001, 11.700000000000001, 15.299999999999999, 15.3, 15.3, 15.3, 15.3, 15.3, 15.3, 15.3, 15.3, 15.3, 15.3, 15.3, 15.3, 15.3, 15.3, 15.3, 15.3, 15.3, 15.3, 15.3, 15.3, 15.3, 9.5095, 9.5095, 9.5095]}, {\"mode\": \"lines\", \"name\": \"LHS 2887\", \"stackgroup\": \"one\", \"type\": \"scatter\", \"x\": [\"2019-06-01T00:00:00\", \"2019-07-01T00:00:00\", \"2019-08-01T00:00:00\", \"2019-09-01T00:00:00\", \"2019-10-01T00:00:00\", \"2019-11-01T00:00:00\", \"2019-12-01T00:00:00\", \"2020-01-01T00:00:00\", \"2020-02-01T00:00:00\", \"2020-03-01T00:00:00\", \"2020-04-01T00:00:00\", \"2020-05-01T00:00:00\", \"2020-06-15T00:00:00\", \"2020-06-15T00:00:00\", \"2020-06-17T00:00:00\", \"2020-06-18T00:00:00\", \"2020-06-19T00:00:00\", \"2020-06-20T00:00:00\", \"2020-06-21T00:00:00\", \"2020-06-21T00:00:00\", \"2020-06-23T00:00:00\", \"2020-06-24T00:00:00\", \"2020-06-25T00:00:00\", \"2020-06-26T00:00:00\", \"2020-06-26T00:00:00\", \"2020-06-28T00:00:00\", \"2020-06-29T00:00:00\", \"2020-06-30T00:00:00\", \"2020-06-30T00:00:00\", \"2020-07-02T00:00:00\", \"2020-07-03T00:00:00\", \"2020-07-04T00:00:00\", \"2020-07-05T00:00:00\", \"2020-07-06T00:00:00\", \"2020-07-07T00:00:00\", \"2020-07-07T00:00:00\"], \"y\": [6.952866666666667, 14.705411111111111, 14.82209, 10.694085714285714, 11.6875625, 24.68237142857143, 10.6641625, 11.298625000000001, 6.3419125, 8.015366666666667, 8.853211111111111, 14.53868571428571, 1.1353, 1.1353, 2.0979, 3.1313, 3.5318, 6.0606, 7.6845, 7.6845, 10.101, 11.9388, 12.6, 14.4898, 14.4898, 10.6, 9.9099, 10.3, 10.3, 10.9, 11.0101, 11.2887, 11.4026, 5.9123, 7.8, 7.8]}, {\"mode\": \"lines\", \"name\": \"Mundindja\", \"stackgroup\": \"one\", \"type\": \"scatter\", \"x\": [\"2019-08-01T00:00:00\", \"2019-08-01T00:00:00\", \"2019-10-01T00:00:00\", \"2019-10-01T00:00:00\", \"2019-10-01T00:00:00\", \"2019-10-01T00:00:00\", \"2019-10-01T00:00:00\", \"2019-10-01T00:00:00\", \"2019-10-01T00:00:00\", \"2020-05-01T00:00:00\", \"2020-05-19T00:00:00\", \"2020-05-19T00:00:00\", \"2020-05-19T00:00:00\", \"2020-05-19T00:00:00\", \"2020-05-19T00:00:00\", \"2020-05-19T00:00:00\", \"2020-05-19T00:00:00\", \"2020-05-19T00:00:00\", \"2020-05-19T00:00:00\", \"2020-05-19T00:00:00\", \"2020-05-19T00:00:00\", \"2020-05-19T00:00:00\", \"2020-05-19T00:00:00\", \"2020-05-19T00:00:00\", \"2020-05-19T00:00:00\", \"2020-05-19T00:00:00\", \"2020-05-19T00:00:00\", \"2020-05-19T00:00:00\", \"2020-05-19T00:00:00\", \"2020-05-19T00:00:00\", \"2020-05-19T00:00:00\", \"2020-05-19T00:00:00\", \"2020-05-19T00:00:00\", \"2020-05-19T00:00:00\"], \"y\": [8.700000000000001, 8.700000000000001, 8.3, 8.3, 8.3, 8.3, 8.3, 8.3, 8.3, 9.4, 9.4, 9.4, 9.4, 9.4, 9.4, 9.4, 9.4, 9.4, 9.4, 9.4, 9.4, 9.4, 9.4, 9.4, 9.4, 9.4, 9.4, 9.4, 9.4, 9.4, 9.4, 9.4, 9.4, 9.4]}, {\"mode\": \"lines\", \"name\": \"Trica\", \"stackgroup\": \"one\", \"type\": \"scatter\", \"x\": [\"2019-08-01T00:00:00\", \"2019-08-01T00:00:00\", \"2019-08-01T00:00:00\", \"2019-08-01T00:00:00\", \"2019-08-01T00:00:00\", \"2019-08-01T00:00:00\", \"2019-08-01T00:00:00\", \"2019-08-01T00:00:00\", \"2020-04-01T00:00:00\", \"2020-05-01T00:00:00\", \"2020-05-17T00:00:00\", \"2020-05-17T00:00:00\", \"2020-05-17T00:00:00\", \"2020-05-17T00:00:00\", \"2020-05-17T00:00:00\", \"2020-05-17T00:00:00\", \"2020-05-17T00:00:00\", \"2020-05-17T00:00:00\", \"2020-05-17T00:00:00\", \"2020-05-17T00:00:00\", \"2020-05-17T00:00:00\", \"2020-05-17T00:00:00\", \"2020-05-17T00:00:00\", \"2020-05-17T00:00:00\", \"2020-05-17T00:00:00\", \"2020-05-17T00:00:00\", \"2020-05-17T00:00:00\", \"2020-05-17T00:00:00\", \"2020-07-03T00:00:00\", \"2020-07-03T00:00:00\", \"2020-07-03T00:00:00\", \"2020-07-06T00:00:00\", \"2020-07-07T00:00:00\", \"2020-07-07T00:00:00\"], \"y\": [10.410400000000001, 10.410400000000001, 10.410400000000001, 10.410400000000001, 10.410400000000001, 10.410400000000001, 10.410400000000001, 10.410400000000001, 9.9, 11.5, 11.5, 11.5, 11.5, 11.5, 11.5, 11.5, 11.5, 11.5, 11.5, 11.5, 11.5, 11.5, 11.5, 11.5, 11.5, 11.5, 11.5, 11.5, 11.4, 11.4, 11.4, 11.4, 14.9, 14.9]}, {\"mode\": \"lines\", \"name\": \"Convoumia\", \"stackgroup\": \"one\", \"type\": \"scatter\", \"x\": [\"2019-12-01T00:00:00\", \"2020-01-01T00:00:00\", \"2020-02-01T00:00:00\", \"2020-02-01T00:00:00\", \"2020-02-01T00:00:00\", \"2020-02-01T00:00:00\", \"2020-02-01T00:00:00\", \"2020-02-01T00:00:00\", \"2020-02-01T00:00:00\", \"2020-02-01T00:00:00\", \"2020-02-01T00:00:00\", \"2020-02-01T00:00:00\", \"2020-02-01T00:00:00\", \"2020-02-01T00:00:00\", \"2020-02-01T00:00:00\", \"2020-02-01T00:00:00\", \"2020-02-01T00:00:00\", \"2020-02-01T00:00:00\", \"2020-02-01T00:00:00\", \"2020-02-01T00:00:00\", \"2020-02-01T00:00:00\", \"2020-02-01T00:00:00\", \"2020-02-01T00:00:00\", \"2020-02-01T00:00:00\", \"2020-02-01T00:00:00\", \"2020-02-01T00:00:00\", \"2020-02-01T00:00:00\", \"2020-02-01T00:00:00\", \"2020-02-01T00:00:00\", \"2020-02-01T00:00:00\"], \"y\": [16.765099999999997, 12.024759999999997, 4.8155333333333346, 4.8155333333333346, 4.8155333333333346, 4.8155333333333346, 4.8155333333333346, 4.8155333333333346, 4.8155333333333346, 4.8155333333333346, 4.8155333333333346, 4.8155333333333346, 4.8155333333333346, 4.8155333333333346, 4.8155333333333346, 4.8155333333333346, 4.8155333333333346, 4.8155333333333346, 4.8155333333333346, 4.8155333333333346, 4.8155333333333346, 4.8155333333333346, 4.8155333333333346, 4.8155333333333346, 4.8155333333333346, 4.8155333333333346, 4.8155333333333346, 4.8155333333333346, 4.8155333333333346, 4.8155333333333346]}, {\"mode\": \"lines\", \"name\": \"Col 285 Sector BQ-N c7-13\", \"stackgroup\": \"one\", \"type\": \"scatter\", \"x\": [\"2020-04-01T00:00:00\", \"2020-05-01T00:00:00\", \"2020-05-16T00:00:00\", \"2020-05-16T00:00:00\", \"2020-05-16T00:00:00\", \"2020-05-16T00:00:00\", \"2020-05-16T00:00:00\", \"2020-06-20T00:00:00\", \"2020-06-20T00:00:00\", \"2020-06-20T00:00:00\", \"2020-06-20T00:00:00\", \"2020-06-20T00:00:00\", \"2020-06-20T00:00:00\", \"2020-06-20T00:00:00\", \"2020-06-20T00:00:00\", \"2020-06-20T00:00:00\", \"2020-06-20T00:00:00\", \"2020-06-20T00:00:00\", \"2020-06-20T00:00:00\", \"2020-06-20T00:00:00\", \"2020-06-20T00:00:00\", \"2020-06-20T00:00:00\", \"2020-06-20T00:00:00\", \"2020-06-20T00:00:00\", \"2020-06-20T00:00:00\", \"2020-06-20T00:00:00\", \"2020-06-20T00:00:00\", \"2020-06-20T00:00:00\", \"2020-06-20T00:00:00\", \"2020-06-20T00:00:00\", \"2020-06-20T00:00:00\", \"2020-06-20T00:00:00\", \"2020-06-20T00:00:00\", \"2020-06-20T00:00:00\", \"2020-06-20T00:00:00\", \"2020-06-20T00:00:00\", \"2020-06-20T00:00:00\", \"2020-06-20T00:00:00\", \"2020-06-20T00:00:00\", \"2020-06-20T00:00:00\", \"2020-06-20T00:00:00\", \"2020-06-20T00:00:00\", \"2020-06-20T00:00:00\", \"2020-06-20T00:00:00\", \"2020-06-20T00:00:00\"], \"y\": [13.700000000000001, 13.900000000000002, 13.9, 13.9, 13.9, 13.9, 13.9, 13.9721, 26.9461, 13.9721, 26.9461, 13.9721, 26.9461, 13.9721, 26.9461, 13.9721, 26.9461, 13.9721, 26.9461, 13.9721, 26.9461, 13.9721, 26.9461, 13.9721, 26.9461, 13.9721, 26.9461, 13.9721, 26.9461, 13.9721, 26.9461, 13.9721, 26.9461, 13.9721, 26.9461, 13.9721, 26.9461, 13.9721, 26.9461, 13.9721, 26.9461, 13.9721, 26.9461, 13.9721, 26.9461]}, {\"mode\": \"lines\", \"name\": \"Col 285 Sector EB-B b15-4\", \"stackgroup\": \"one\", \"type\": \"scatter\", \"x\": [\"2020-04-01T00:00:00\", \"2020-05-01T00:00:00\", \"2020-06-14T00:00:00\", \"2020-06-14T00:00:00\", \"2020-06-14T00:00:00\", \"2020-06-14T00:00:00\", \"2020-06-14T00:00:00\", \"2020-06-14T00:00:00\", \"2020-06-14T00:00:00\", \"2020-06-14T00:00:00\", \"2020-06-14T00:00:00\", \"2020-06-14T00:00:00\", \"2020-06-14T00:00:00\", \"2020-06-14T00:00:00\", \"2020-06-14T00:00:00\", \"2020-06-14T00:00:00\", \"2020-06-14T00:00:00\", \"2020-06-14T00:00:00\", \"2020-06-14T00:00:00\", \"2020-06-14T00:00:00\", \"2020-07-03T00:00:00\", \"2020-07-03T00:00:00\", \"2020-07-03T00:00:00\", \"2020-07-03T00:00:00\", \"2020-07-03T00:00:00\", \"2020-07-03T00:00:00\"], \"y\": [19.1, 16.5, 19.1, 19.1, 19.1, 19.1, 19.1, 19.1, 19.1, 19.1, 19.1, 19.1, 19.1, 19.1, 19.1, 19.1, 19.1, 19.1, 19.1, 19.1, 19.1, 19.1, 19.1, 19.1, 19.1, 19.1]}, {\"mode\": \"lines\", \"name\": \"HIP 47156\", \"stackgroup\": \"one\", \"type\": \"scatter\", \"x\": [\"2020-04-01T00:00:00\", \"2020-05-01T00:00:00\", \"2020-06-15T00:00:00\", \"2020-06-15T00:00:00\", \"2020-06-15T00:00:00\", \"2020-06-15T00:00:00\", \"2020-06-15T00:00:00\", \"2020-06-20T00:00:00\", \"2020-06-21T00:00:00\", \"2020-06-21T00:00:00\", \"2020-06-21T00:00:00\", \"2020-06-21T00:00:00\", \"2020-06-21T00:00:00\", \"2020-06-21T00:00:00\", \"2020-06-21T00:00:00\", \"2020-06-28T00:00:00\", \"2020-06-28T00:00:00\", \"2020-06-28T00:00:00\", \"2020-06-28T00:00:00\", \"2020-06-28T00:00:00\", \"2020-07-03T00:00:00\", \"2020-07-03T00:00:00\", \"2020-07-03T00:00:00\", \"2020-07-03T00:00:00\", \"2020-07-03T00:00:00\", \"2020-07-03T00:00:00\"], \"y\": [10.3, 18.8, 20.4204, 20.4204, 20.4204, 20.4204, 20.4204, 19.98, 19.8801, 19.8801, 19.8801, 19.8801, 19.8801, 19.8801, 19.8801, 21.2, 21.2, 21.2, 21.2, 21.2, 21.2, 21.2, 21.2, 21.2, 21.2, 21.2]}, {\"mode\": \"lines\", \"name\": \"Wolf 202\", \"stackgroup\": \"one\", \"type\": \"scatter\", \"x\": [\"2020-05-01T00:00:00\", \"2020-06-15T00:00:00\", \"2020-06-15T00:00:00\", \"2020-06-15T00:00:00\", \"2020-06-18T00:00:00\", \"2020-06-18T00:00:00\", \"2020-06-18T00:00:00\", \"2020-06-18T00:00:00\", \"2020-06-22T00:00:00\", \"2020-06-22T00:00:00\", \"2020-06-22T00:00:00\", \"2020-06-25T00:00:00\", \"2020-06-25T00:00:00\", \"2020-06-27T00:00:00\", \"2020-06-27T00:00:00\", \"2020-06-29T00:00:00\", \"2020-06-29T00:00:00\", \"2020-06-29T00:00:00\", \"2020-06-29T00:00:00\", \"2020-06-29T00:00:00\", \"2020-06-29T00:00:00\", \"2020-06-29T00:00:00\", \"2020-07-06T00:00:00\", \"2020-07-06T00:00:00\", \"2020-07-06T00:00:00\"], \"y\": [7.407399999999999, 1.5182, 1.5182, 1.5182, 1.0215, 1.0215, 1.0215, 1.0215, 4.4494, 4.4494, 4.4494, 4.4494, 4.4494, 4.4494, 4.4494, 4.4, 4.4, 4.4, 4.4, 4.4, 4.4, 4.4, 12.1, 12.1, 12.1]}, {\"mode\": \"lines\", \"name\": \"Aoniken\", \"stackgroup\": \"one\", \"type\": \"scatter\", \"x\": [\"2020-05-14T00:00:00\", \"2020-05-14T00:00:00\", \"2020-05-14T00:00:00\", \"2020-05-14T00:00:00\", \"2020-05-14T00:00:00\", \"2020-06-19T00:00:00\", \"2020-06-20T00:00:00\", \"2020-06-20T00:00:00\", \"2020-06-20T00:00:00\", \"2020-06-20T00:00:00\", \"2020-06-24T00:00:00\", \"2020-06-24T00:00:00\", \"2020-06-24T00:00:00\", \"2020-06-27T00:00:00\", \"2020-06-27T00:00:00\", \"2020-06-27T00:00:00\", \"2020-06-27T00:00:00\", \"2020-06-27T00:00:00\", \"2020-06-27T00:00:00\", \"2020-06-27T00:00:00\", \"2020-06-27T00:00:00\", \"2020-06-27T00:00:00\", \"2020-06-27T00:00:00\", \"2020-06-27T00:00:00\", \"2020-06-27T00:00:00\"], \"y\": [7.2, 7.2, 7.2, 7.2, 7.2, 7.0, 6.1, 6.1, 6.1, 6.1, 6.1, 6.1, 6.1, 5.7171, 5.7171, 5.7171, 5.7171, 5.7171, 5.7171, 5.7171, 5.7171, 5.7171, 5.7171, 5.7171, 5.7171]}, {\"mode\": \"lines\", \"name\": \"Kamcab\", \"stackgroup\": \"one\", \"type\": \"scatter\", \"x\": [\"2020-05-30T00:00:00\", \"2020-05-30T00:00:00\", \"2020-05-30T00:00:00\", \"2020-05-30T00:00:00\", \"2020-05-30T00:00:00\", \"2020-05-30T00:00:00\", \"2020-06-21T00:00:00\", \"2020-06-21T00:00:00\", \"2020-06-21T00:00:00\", \"2020-06-21T00:00:00\", \"2020-06-21T00:00:00\", \"2020-06-21T00:00:00\", \"2020-06-21T00:00:00\", \"2020-06-21T00:00:00\", \"2020-06-21T00:00:00\", \"2020-06-21T00:00:00\", \"2020-06-21T00:00:00\", \"2020-06-21T00:00:00\", \"2020-06-21T00:00:00\", \"2020-06-21T00:00:00\", \"2020-06-21T00:00:00\", \"2020-06-21T00:00:00\", \"2020-06-21T00:00:00\", \"2020-06-21T00:00:00\"], \"y\": [9.2, 9.2, 9.2, 9.2, 9.2, 9.2, 9.2, 9.2, 9.2, 9.2, 9.2, 9.2, 9.2, 9.2, 9.2, 9.2, 9.2, 9.2, 9.2, 9.2, 9.2, 9.2, 9.2, 9.2]}, {\"mode\": \"lines\", \"name\": \"Sepathians\", \"stackgroup\": \"one\", \"type\": \"scatter\", \"x\": [\"2020-06-14T00:00:00\", \"2020-06-14T00:00:00\", \"2020-06-14T00:00:00\", \"2020-06-14T00:00:00\", \"2020-06-14T00:00:00\", \"2020-06-14T00:00:00\", \"2020-06-14T00:00:00\", \"2020-06-14T00:00:00\", \"2020-06-14T00:00:00\", \"2020-06-14T00:00:00\", \"2020-06-14T00:00:00\", \"2020-06-14T00:00:00\", \"2020-06-14T00:00:00\", \"2020-06-14T00:00:00\", \"2020-06-14T00:00:00\", \"2020-06-14T00:00:00\", \"2020-06-14T00:00:00\", \"2020-06-14T00:00:00\", \"2020-06-14T00:00:00\", \"2020-06-14T00:00:00\", \"2020-06-14T00:00:00\", \"2020-07-06T00:00:00\", \"2020-07-06T00:00:00\", \"2020-07-06T00:00:00\"], \"y\": [8.2, 8.2, 8.2, 8.2, 8.2, 8.2, 8.2, 8.2, 8.2, 8.2, 8.2, 8.2, 8.2, 8.2, 8.2, 8.2, 8.2, 8.2, 8.2, 8.2, 8.2, 8.2, 8.2, 8.2]}, {\"mode\": \"lines\", \"name\": \"Hun Hsinas\", \"stackgroup\": \"one\", \"type\": \"scatter\", \"x\": [\"2020-06-08T00:00:00\", \"2020-06-08T00:00:00\", \"2020-06-08T00:00:00\", \"2020-06-08T00:00:00\", \"2020-06-19T00:00:00\", \"2020-06-19T00:00:00\", \"2020-06-19T00:00:00\", \"2020-06-19T00:00:00\", \"2020-06-19T00:00:00\", \"2020-06-19T00:00:00\", \"2020-06-19T00:00:00\", \"2020-06-19T00:00:00\", \"2020-06-19T00:00:00\", \"2020-06-28T00:00:00\", \"2020-06-28T00:00:00\", \"2020-06-28T00:00:00\", \"2020-06-28T00:00:00\", \"2020-06-28T00:00:00\", \"2020-07-03T00:00:00\", \"2020-07-03T00:00:00\", \"2020-07-03T00:00:00\", \"2020-07-03T00:00:00\", \"2020-07-07T00:00:00\", \"2020-07-07T00:00:00\"], \"y\": [17.2, 17.2, 17.2, 17.2, 14.9653, 14.9653, 14.9653, 14.9653, 14.9653, 14.9653, 14.9653, 14.9653, 14.9653, 12.6984, 12.6984, 12.6984, 12.6984, 12.6984, 12.6984, 12.6984, 12.6984, 12.6984, 12.0278, 12.0278]}, {\"mode\": \"lines\", \"name\": \"Ross 47\", \"stackgroup\": \"one\", \"type\": \"scatter\", \"x\": [\"2020-06-23T00:00:00\", \"2020-06-24T00:00:00\", \"2020-06-25T00:00:00\", \"2020-06-26T00:00:00\", \"2020-06-26T00:00:00\", \"2020-06-28T00:00:00\", \"2020-06-29T00:00:00\", \"2020-06-30T00:00:00\", \"2020-06-30T00:00:00\", \"2020-07-02T00:00:00\", \"2020-07-03T00:00:00\", \"2020-07-04T00:00:00\", \"2020-07-05T00:00:00\", \"2020-07-06T00:00:00\", \"2020-07-07T00:00:00\", \"2020-07-07T00:00:00\"], \"y\": [11.1111, 17.7177, 17.4174, 15.7157, 15.7157, 14.8148, 15.1151, 14.3434, 14.3434, 14.5, 17.7551, 19.3806, 22.6226, 21.8845, 20.1, 20.1]}, {\"mode\": \"lines\", \"name\": \"Antliae Sector BQ-Y c4\", \"stackgroup\": \"one\", \"type\": \"scatter\", \"x\": [\"2020-06-28T00:00:00\", \"2020-06-28T00:00:00\", \"2020-06-28T00:00:00\", \"2020-06-28T00:00:00\", \"2020-06-28T00:00:00\", \"2020-06-28T00:00:00\", \"2020-06-28T00:00:00\", \"2020-06-28T00:00:00\", \"2020-06-28T00:00:00\", \"2020-06-28T00:00:00\", \"2020-06-28T00:00:00\"], \"y\": [9.0992, 9.0992, 9.0992, 9.0992, 9.0992, 9.0992, 9.0992, 9.0992, 9.0992, 9.0992, 9.0992]}],\n",
              "                        {\"template\": {\"data\": {\"bar\": [{\"error_x\": {\"color\": \"#2a3f5f\"}, \"error_y\": {\"color\": \"#2a3f5f\"}, \"marker\": {\"line\": {\"color\": \"#E5ECF6\", \"width\": 0.5}}, \"type\": \"bar\"}], \"barpolar\": [{\"marker\": {\"line\": {\"color\": \"#E5ECF6\", \"width\": 0.5}}, \"type\": \"barpolar\"}], \"carpet\": [{\"aaxis\": {\"endlinecolor\": \"#2a3f5f\", \"gridcolor\": \"white\", \"linecolor\": \"white\", \"minorgridcolor\": \"white\", \"startlinecolor\": \"#2a3f5f\"}, \"baxis\": {\"endlinecolor\": \"#2a3f5f\", \"gridcolor\": \"white\", \"linecolor\": \"white\", \"minorgridcolor\": \"white\", \"startlinecolor\": \"#2a3f5f\"}, \"type\": \"carpet\"}], \"choropleth\": [{\"colorbar\": {\"outlinewidth\": 0, \"ticks\": \"\"}, \"type\": \"choropleth\"}], \"contour\": [{\"colorbar\": {\"outlinewidth\": 0, \"ticks\": \"\"}, \"colorscale\": [[0.0, \"#0d0887\"], [0.1111111111111111, \"#46039f\"], [0.2222222222222222, \"#7201a8\"], [0.3333333333333333, \"#9c179e\"], [0.4444444444444444, \"#bd3786\"], [0.5555555555555556, \"#d8576b\"], [0.6666666666666666, \"#ed7953\"], [0.7777777777777778, \"#fb9f3a\"], [0.8888888888888888, \"#fdca26\"], [1.0, \"#f0f921\"]], \"type\": \"contour\"}], \"contourcarpet\": [{\"colorbar\": {\"outlinewidth\": 0, \"ticks\": \"\"}, \"type\": \"contourcarpet\"}], \"heatmap\": [{\"colorbar\": {\"outlinewidth\": 0, \"ticks\": \"\"}, \"colorscale\": [[0.0, \"#0d0887\"], [0.1111111111111111, \"#46039f\"], [0.2222222222222222, \"#7201a8\"], [0.3333333333333333, \"#9c179e\"], [0.4444444444444444, \"#bd3786\"], [0.5555555555555556, \"#d8576b\"], [0.6666666666666666, \"#ed7953\"], [0.7777777777777778, \"#fb9f3a\"], [0.8888888888888888, \"#fdca26\"], [1.0, \"#f0f921\"]], \"type\": \"heatmap\"}], \"heatmapgl\": [{\"colorbar\": {\"outlinewidth\": 0, \"ticks\": \"\"}, \"colorscale\": [[0.0, \"#0d0887\"], [0.1111111111111111, \"#46039f\"], [0.2222222222222222, \"#7201a8\"], [0.3333333333333333, \"#9c179e\"], [0.4444444444444444, \"#bd3786\"], [0.5555555555555556, \"#d8576b\"], [0.6666666666666666, \"#ed7953\"], [0.7777777777777778, \"#fb9f3a\"], [0.8888888888888888, \"#fdca26\"], [1.0, \"#f0f921\"]], \"type\": \"heatmapgl\"}], \"histogram\": [{\"marker\": {\"colorbar\": {\"outlinewidth\": 0, \"ticks\": \"\"}}, \"type\": \"histogram\"}], \"histogram2d\": [{\"colorbar\": {\"outlinewidth\": 0, \"ticks\": \"\"}, \"colorscale\": [[0.0, \"#0d0887\"], [0.1111111111111111, \"#46039f\"], [0.2222222222222222, \"#7201a8\"], [0.3333333333333333, \"#9c179e\"], [0.4444444444444444, \"#bd3786\"], [0.5555555555555556, \"#d8576b\"], [0.6666666666666666, \"#ed7953\"], [0.7777777777777778, \"#fb9f3a\"], [0.8888888888888888, \"#fdca26\"], [1.0, \"#f0f921\"]], \"type\": \"histogram2d\"}], \"histogram2dcontour\": [{\"colorbar\": {\"outlinewidth\": 0, \"ticks\": \"\"}, \"colorscale\": [[0.0, \"#0d0887\"], [0.1111111111111111, \"#46039f\"], [0.2222222222222222, \"#7201a8\"], [0.3333333333333333, \"#9c179e\"], [0.4444444444444444, \"#bd3786\"], [0.5555555555555556, \"#d8576b\"], [0.6666666666666666, \"#ed7953\"], [0.7777777777777778, \"#fb9f3a\"], [0.8888888888888888, \"#fdca26\"], [1.0, \"#f0f921\"]], \"type\": \"histogram2dcontour\"}], \"mesh3d\": [{\"colorbar\": {\"outlinewidth\": 0, \"ticks\": \"\"}, \"type\": \"mesh3d\"}], \"parcoords\": [{\"line\": {\"colorbar\": {\"outlinewidth\": 0, \"ticks\": \"\"}}, \"type\": \"parcoords\"}], \"pie\": [{\"automargin\": true, \"type\": \"pie\"}], \"scatter\": [{\"marker\": {\"colorbar\": {\"outlinewidth\": 0, \"ticks\": \"\"}}, \"type\": \"scatter\"}], \"scatter3d\": [{\"line\": {\"colorbar\": {\"outlinewidth\": 0, \"ticks\": \"\"}}, \"marker\": {\"colorbar\": {\"outlinewidth\": 0, \"ticks\": \"\"}}, \"type\": \"scatter3d\"}], \"scattercarpet\": [{\"marker\": {\"colorbar\": {\"outlinewidth\": 0, \"ticks\": \"\"}}, \"type\": \"scattercarpet\"}], \"scattergeo\": [{\"marker\": {\"colorbar\": {\"outlinewidth\": 0, \"ticks\": \"\"}}, \"type\": \"scattergeo\"}], \"scattergl\": [{\"marker\": {\"colorbar\": {\"outlinewidth\": 0, \"ticks\": \"\"}}, \"type\": \"scattergl\"}], \"scattermapbox\": [{\"marker\": {\"colorbar\": {\"outlinewidth\": 0, \"ticks\": \"\"}}, \"type\": \"scattermapbox\"}], \"scatterpolar\": [{\"marker\": {\"colorbar\": {\"outlinewidth\": 0, \"ticks\": \"\"}}, \"type\": \"scatterpolar\"}], \"scatterpolargl\": [{\"marker\": {\"colorbar\": {\"outlinewidth\": 0, \"ticks\": \"\"}}, \"type\": \"scatterpolargl\"}], \"scatterternary\": [{\"marker\": {\"colorbar\": {\"outlinewidth\": 0, \"ticks\": \"\"}}, \"type\": \"scatterternary\"}], \"surface\": [{\"colorbar\": {\"outlinewidth\": 0, \"ticks\": \"\"}, \"colorscale\": [[0.0, \"#0d0887\"], [0.1111111111111111, \"#46039f\"], [0.2222222222222222, \"#7201a8\"], [0.3333333333333333, \"#9c179e\"], [0.4444444444444444, \"#bd3786\"], [0.5555555555555556, \"#d8576b\"], [0.6666666666666666, \"#ed7953\"], [0.7777777777777778, \"#fb9f3a\"], [0.8888888888888888, \"#fdca26\"], [1.0, \"#f0f921\"]], \"type\": \"surface\"}], \"table\": [{\"cells\": {\"fill\": {\"color\": \"#EBF0F8\"}, \"line\": {\"color\": \"white\"}}, \"header\": {\"fill\": {\"color\": \"#C8D4E3\"}, \"line\": {\"color\": \"white\"}}, \"type\": \"table\"}]}, \"layout\": {\"annotationdefaults\": {\"arrowcolor\": \"#2a3f5f\", \"arrowhead\": 0, \"arrowwidth\": 1}, \"coloraxis\": {\"colorbar\": {\"outlinewidth\": 0, \"ticks\": \"\"}}, \"colorscale\": {\"diverging\": [[0, \"#8e0152\"], [0.1, \"#c51b7d\"], [0.2, \"#de77ae\"], [0.3, \"#f1b6da\"], [0.4, \"#fde0ef\"], [0.5, \"#f7f7f7\"], [0.6, \"#e6f5d0\"], [0.7, \"#b8e186\"], [0.8, \"#7fbc41\"], [0.9, \"#4d9221\"], [1, \"#276419\"]], \"sequential\": [[0.0, \"#0d0887\"], [0.1111111111111111, \"#46039f\"], [0.2222222222222222, \"#7201a8\"], [0.3333333333333333, \"#9c179e\"], [0.4444444444444444, \"#bd3786\"], [0.5555555555555556, \"#d8576b\"], [0.6666666666666666, \"#ed7953\"], [0.7777777777777778, \"#fb9f3a\"], [0.8888888888888888, \"#fdca26\"], [1.0, \"#f0f921\"]], \"sequentialminus\": [[0.0, \"#0d0887\"], [0.1111111111111111, \"#46039f\"], [0.2222222222222222, \"#7201a8\"], [0.3333333333333333, \"#9c179e\"], [0.4444444444444444, \"#bd3786\"], [0.5555555555555556, \"#d8576b\"], [0.6666666666666666, \"#ed7953\"], [0.7777777777777778, \"#fb9f3a\"], [0.8888888888888888, \"#fdca26\"], [1.0, \"#f0f921\"]]}, \"colorway\": [\"#636efa\", \"#EF553B\", \"#00cc96\", \"#ab63fa\", \"#FFA15A\", \"#19d3f3\", \"#FF6692\", \"#B6E880\", \"#FF97FF\", \"#FECB52\"], \"font\": {\"color\": \"#2a3f5f\"}, \"geo\": {\"bgcolor\": \"white\", \"lakecolor\": \"white\", \"landcolor\": \"#E5ECF6\", \"showlakes\": true, \"showland\": true, \"subunitcolor\": \"white\"}, \"hoverlabel\": {\"align\": \"left\"}, \"hovermode\": \"closest\", \"mapbox\": {\"style\": \"light\"}, \"paper_bgcolor\": \"white\", \"plot_bgcolor\": \"#E5ECF6\", \"polar\": {\"angularaxis\": {\"gridcolor\": \"white\", \"linecolor\": \"white\", \"ticks\": \"\"}, \"bgcolor\": \"#E5ECF6\", \"radialaxis\": {\"gridcolor\": \"white\", \"linecolor\": \"white\", \"ticks\": \"\"}}, \"scene\": {\"xaxis\": {\"backgroundcolor\": \"#E5ECF6\", \"gridcolor\": \"white\", \"gridwidth\": 2, \"linecolor\": \"white\", \"showbackground\": true, \"ticks\": \"\", \"zerolinecolor\": \"white\"}, \"yaxis\": {\"backgroundcolor\": \"#E5ECF6\", \"gridcolor\": \"white\", \"gridwidth\": 2, \"linecolor\": \"white\", \"showbackground\": true, \"ticks\": \"\", \"zerolinecolor\": \"white\"}, \"zaxis\": {\"backgroundcolor\": \"#E5ECF6\", \"gridcolor\": \"white\", \"gridwidth\": 2, \"linecolor\": \"white\", \"showbackground\": true, \"ticks\": \"\", \"zerolinecolor\": \"white\"}}, \"shapedefaults\": {\"line\": {\"color\": \"#2a3f5f\"}}, \"ternary\": {\"aaxis\": {\"gridcolor\": \"white\", \"linecolor\": \"white\", \"ticks\": \"\"}, \"baxis\": {\"gridcolor\": \"white\", \"linecolor\": \"white\", \"ticks\": \"\"}, \"bgcolor\": \"#E5ECF6\", \"caxis\": {\"gridcolor\": \"white\", \"linecolor\": \"white\", \"ticks\": \"\"}}, \"title\": {\"x\": 0.05}, \"xaxis\": {\"automargin\": true, \"gridcolor\": \"white\", \"linecolor\": \"white\", \"ticks\": \"\", \"title\": {\"standoff\": 15}, \"zerolinecolor\": \"white\", \"zerolinewidth\": 2}, \"yaxis\": {\"automargin\": true, \"gridcolor\": \"white\", \"linecolor\": \"white\", \"ticks\": \"\", \"title\": {\"standoff\": 15}, \"zerolinecolor\": \"white\", \"zerolinewidth\": 2}}}},\n",
              "                        {\"responsive\": true}\n",
              "                    ).then(function(){\n",
              "                            \n",
              "var gd = document.getElementById('e44c016c-a68d-4dcb-9d62-c27b73a06d49');\n",
              "var x = new MutationObserver(function (mutations, observer) {{\n",
              "        var display = window.getComputedStyle(gd).display;\n",
              "        if (!display || display === 'none') {{\n",
              "            console.log([gd, 'removed!']);\n",
              "            Plotly.purge(gd);\n",
              "            observer.disconnect();\n",
              "        }}\n",
              "}});\n",
              "\n",
              "// Listen for the removal of the full notebook cells\n",
              "var notebookContainer = gd.closest('#notebook-container');\n",
              "if (notebookContainer) {{\n",
              "    x.observe(notebookContainer, {childList: true});\n",
              "}}\n",
              "\n",
              "// Listen for the clearing of the current output cell\n",
              "var outputEl = gd.closest('.output');\n",
              "if (outputEl) {{\n",
              "    x.observe(outputEl, {childList: true});\n",
              "}}\n",
              "\n",
              "                        })\n",
              "                };\n",
              "                \n",
              "            </script>\n",
              "        </div>\n",
              "</body>\n",
              "</html>"
            ]
          },
          "metadata": {
            "tags": []
          }
        }
      ]
    },
    {
      "cell_type": "code",
      "metadata": {
        "id": "YBXJk4eCwJmU",
        "colab_type": "code",
        "colab": {}
      },
      "source": [
        ""
      ],
      "execution_count": null,
      "outputs": []
    }
  ]
}