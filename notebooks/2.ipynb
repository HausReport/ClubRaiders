{
  "nbformat": 4,
  "nbformat_minor": 0,
  "metadata": {
    "colab": {
      "name": "Untitled6.ipynb",
      "provenance": [],
      "authorship_tag": "ABX9TyM/lKbTPsO5jmfe/EMEzbMT",
      "include_colab_link": true
    },
    "kernelspec": {
      "name": "python3",
      "display_name": "Python 3"
    }
  },
  "cells": [
    {
      "cell_type": "markdown",
      "metadata": {
        "id": "view-in-github",
        "colab_type": "text"
      },
      "source": [
        "<a href=\"https://colab.research.google.com/github/HausReport/ClubRaiders/blob/master/notebooks/2.ipynb\" target=\"_parent\"><img src=\"https://colab.research.google.com/assets/colab-badge.svg\" alt=\"Open In Colab\"/></a>"
      ]
    },
    {
      "cell_type": "code",
      "metadata": {
        "id": "jdHV2ZR4LvXV",
        "colab_type": "code",
        "outputId": "9423e05f-c8e7-4084-8941-2e823e7060ed",
        "colab": {
          "base_uri": "https://localhost:8080/",
          "height": 1000
        }
      },
      "source": [
        "import sys\n",
        "\n",
        "!{sys.executable} -m pip install --force-reinstall --upgrade \"git+https://github.com/HausReport/ClubRaiders.git#egg=craid\"\n",
        "import craid.eddb.loader.DataProducer as dp\n",
        "import pandas as pd\n",
        "import logging\n",
        "import plotly.graph_objs as go\n",
        "from numpy import *\n",
        "\n",
        "\n",
        "logging.getLogger().addHandler(logging.StreamHandler())\n",
        "logging.getLogger().level = logging.DEBUG\n",
        "\n",
        "arrays = dp.getDataArrays()\n",
        "df: pd.DataFrame = arrays['dataFrame']"
      ],
      "execution_count": 1,
      "outputs": [
        {
          "output_type": "stream",
          "text": [
            "Collecting craid\n",
            "  Cloning https://github.com/HausReport/ClubRaiders.git to /tmp/pip-install-lexx9o_e/craid\n",
            "  Running command git clone -q https://github.com/HausReport/ClubRaiders.git /tmp/pip-install-lexx9o_e/craid\n",
            "Collecting dash\n",
            "\u001b[?25l  Downloading https://files.pythonhosted.org/packages/d0/48/7a564cdbecdca653c9cb135c5be52c98d855ac13e305094450d7ecac5d89/dash-1.12.0.tar.gz (66kB)\n",
            "\u001b[K     |████████████████████████████████| 71kB 2.0MB/s \n",
            "\u001b[?25hCollecting dash-core-components\n",
            "\u001b[?25l  Downloading https://files.pythonhosted.org/packages/4e/94/a170d86934cd845c4cb881e8156c79459702783716ea6d92849805127204/dash_core_components-1.10.0.tar.gz (3.4MB)\n",
            "\u001b[K     |████████████████████████████████| 3.4MB 7.4MB/s \n",
            "\u001b[?25hCollecting dash-html-components\n",
            "\u001b[?25l  Downloading https://files.pythonhosted.org/packages/da/20/46714ae501ccf16e5e37ca160c06e27347d19889687454168730e6744cdc/dash_html_components-1.0.3.tar.gz (187kB)\n",
            "\u001b[K     |████████████████████████████████| 194kB 44.7MB/s \n",
            "\u001b[?25hCollecting dash-table\n",
            "\u001b[?25l  Downloading https://files.pythonhosted.org/packages/96/aa/e508295638f3d4342b8798d16931a8b353ff48e03d9d99c788f34ddac110/dash_table-4.7.0.tar.gz (1.8MB)\n",
            "\u001b[K     |████████████████████████████████| 1.8MB 38.2MB/s \n",
            "\u001b[?25hCollecting dash-renderer\n",
            "\u001b[?25l  Downloading https://files.pythonhosted.org/packages/8e/51/45aa6e4caa3f426ac48b153ecf0fe371368aae46e3ea902c8317f630489a/dash_renderer-1.4.1.tar.gz (1.2MB)\n",
            "\u001b[K     |████████████████████████████████| 1.2MB 39.8MB/s \n",
            "\u001b[?25hCollecting flask\n",
            "\u001b[?25l  Downloading https://files.pythonhosted.org/packages/f2/28/2a03252dfb9ebf377f40fba6a7841b47083260bf8bd8e737b0c6952df83f/Flask-1.1.2-py2.py3-none-any.whl (94kB)\n",
            "\u001b[K     |████████████████████████████████| 102kB 10.6MB/s \n",
            "\u001b[?25hCollecting pandas\n",
            "\u001b[?25l  Downloading https://files.pythonhosted.org/packages/8e/86/c14387d6813ebadb7bf61b9ad270ffff111c8b587e4d266e07de774e385e/pandas-1.0.4-cp36-cp36m-manylinux1_x86_64.whl (10.1MB)\n",
            "\u001b[K     |████████████████████████████████| 10.1MB 40.4MB/s \n",
            "\u001b[?25hCollecting requests\n",
            "\u001b[?25l  Downloading https://files.pythonhosted.org/packages/1a/70/1935c770cb3be6e3a8b78ced23d7e0f3b187f5cbfab4749523ed65d7c9b1/requests-2.23.0-py2.py3-none-any.whl (58kB)\n",
            "\u001b[K     |████████████████████████████████| 61kB 7.4MB/s \n",
            "\u001b[?25hCollecting setuptools\n",
            "\u001b[?25l  Downloading https://files.pythonhosted.org/packages/95/95/f657b6e17f00c3f35b5f68b10e46c3a43af353d8856bd57bfcfb1dbb3e92/setuptools-47.1.1-py3-none-any.whl (583kB)\n",
            "\u001b[K     |████████████████████████████████| 583kB 46.0MB/s \n",
            "\u001b[?25hCollecting numpy\n",
            "\u001b[?25l  Downloading https://files.pythonhosted.org/packages/b3/a9/b1bc4c935ed063766bce7d3e8c7b20bd52e515ff1c732b02caacf7918e5a/numpy-1.18.5-cp36-cp36m-manylinux1_x86_64.whl (20.1MB)\n",
            "\u001b[K     |████████████████████████████████| 20.1MB 12.2MB/s \n",
            "\u001b[?25hCollecting python-dateutil\n",
            "\u001b[?25l  Downloading https://files.pythonhosted.org/packages/d4/70/d60450c3dd48ef87586924207ae8907090de0b306af2bce5d134d78615cb/python_dateutil-2.8.1-py2.py3-none-any.whl (227kB)\n",
            "\u001b[K     |████████████████████████████████| 235kB 49.7MB/s \n",
            "\u001b[?25hCollecting ujson\n",
            "\u001b[?25l  Downloading https://files.pythonhosted.org/packages/12/0a/35e07ebe48f0c2a23c316d92c2e26eade75e00a3df0758be57e7804bfbf0/ujson-3.0.0-cp36-cp36m-manylinux1_x86_64.whl (176kB)\n",
            "\u001b[K     |████████████████████████████████| 184kB 51.8MB/s \n",
            "\u001b[?25hCollecting json-lines\n",
            "  Downloading https://files.pythonhosted.org/packages/7f/0f/79c96c0d26b276c583484fe8209e5ebbb416a920309568650325f6e1de73/json_lines-0.5.0-py2.py3-none-any.whl\n",
            "Collecting urllib3\n",
            "\u001b[?25l  Downloading https://files.pythonhosted.org/packages/e1/e5/df302e8017440f111c11cc41a6b432838672f5a70aa29227bf58149dc72f/urllib3-1.25.9-py2.py3-none-any.whl (126kB)\n",
            "\u001b[K     |████████████████████████████████| 133kB 45.9MB/s \n",
            "\u001b[?25hCollecting psutil\n",
            "\u001b[?25l  Downloading https://files.pythonhosted.org/packages/c4/b8/3512f0e93e0db23a71d82485ba256071ebef99b227351f0f5540f744af41/psutil-5.7.0.tar.gz (449kB)\n",
            "\u001b[K     |████████████████████████████████| 450kB 42.9MB/s \n",
            "\u001b[?25hCollecting plotly\n",
            "\u001b[?25l  Downloading https://files.pythonhosted.org/packages/70/56/eabdc7b7187cdb9d6121f6de2831ad5b85f7d002fa4bfe0476dbdb554bf6/plotly-4.8.1-py2.py3-none-any.whl (11.5MB)\n",
            "\u001b[K     |████████████████████████████████| 11.5MB 43.8MB/s \n",
            "\u001b[?25hCollecting humanize\n",
            "\u001b[?25l  Downloading https://files.pythonhosted.org/packages/e8/40/8a07471de13c7bb29408840da35fed591883d794e0dd1b43ccd4f4b3d436/humanize-2.4.0-py3-none-any.whl (62kB)\n",
            "\u001b[K     |████████████████████████████████| 71kB 9.2MB/s \n",
            "\u001b[?25hCollecting flask-compress\n",
            "  Downloading https://files.pythonhosted.org/packages/a0/96/cd684c1ffe97b513303b5bfd4bbfb4114c5f4a5ea8a737af6fd813273df8/Flask-Compress-1.5.0.tar.gz\n",
            "Collecting future\n",
            "\u001b[?25l  Downloading https://files.pythonhosted.org/packages/45/0b/38b06fd9b92dc2b68d58b75f900e97884c45bedd2ff83203d933cf5851c9/future-0.18.2.tar.gz (829kB)\n",
            "\u001b[K     |████████████████████████████████| 829kB 43.5MB/s \n",
            "\u001b[?25hCollecting Jinja2>=2.10.1\n",
            "\u001b[?25l  Downloading https://files.pythonhosted.org/packages/30/9e/f663a2aa66a09d838042ae1a2c5659828bb9b41ea3a6efa20a20fd92b121/Jinja2-2.11.2-py2.py3-none-any.whl (125kB)\n",
            "\u001b[K     |████████████████████████████████| 133kB 44.9MB/s \n",
            "\u001b[?25hCollecting Werkzeug>=0.15\n",
            "\u001b[?25l  Downloading https://files.pythonhosted.org/packages/cc/94/5f7079a0e00bd6863ef8f1da638721e9da21e5bacee597595b318f71d62e/Werkzeug-1.0.1-py2.py3-none-any.whl (298kB)\n",
            "\u001b[K     |████████████████████████████████| 307kB 45.6MB/s \n",
            "\u001b[?25hCollecting click>=5.1\n",
            "\u001b[?25l  Downloading https://files.pythonhosted.org/packages/d2/3d/fa76db83bf75c4f8d338c2fd15c8d33fdd7ad23a9b5e57eb6c5de26b430e/click-7.1.2-py2.py3-none-any.whl (82kB)\n",
            "\u001b[K     |████████████████████████████████| 92kB 10.2MB/s \n",
            "\u001b[?25hCollecting itsdangerous>=0.24\n",
            "  Downloading https://files.pythonhosted.org/packages/76/ae/44b03b253d6fade317f32c24d100b3b35c2239807046a4c953c7b89fa49e/itsdangerous-1.1.0-py2.py3-none-any.whl\n",
            "Collecting pytz>=2017.2\n",
            "\u001b[?25l  Downloading https://files.pythonhosted.org/packages/4f/a4/879454d49688e2fad93e59d7d4efda580b783c745fd2ec2a3adf87b0808d/pytz-2020.1-py2.py3-none-any.whl (510kB)\n",
            "\u001b[K     |████████████████████████████████| 512kB 44.7MB/s \n",
            "\u001b[?25hCollecting idna<3,>=2.5\n",
            "\u001b[?25l  Downloading https://files.pythonhosted.org/packages/89/e3/afebe61c546d18fb1709a61bee788254b40e736cff7271c7de5de2dc4128/idna-2.9-py2.py3-none-any.whl (58kB)\n",
            "\u001b[K     |████████████████████████████████| 61kB 6.9MB/s \n",
            "\u001b[?25hCollecting chardet<4,>=3.0.2\n",
            "\u001b[?25l  Downloading https://files.pythonhosted.org/packages/bc/a9/01ffebfb562e4274b6487b4bb1ddec7ca55ec7510b22e4c51f14098443b8/chardet-3.0.4-py2.py3-none-any.whl (133kB)\n",
            "\u001b[K     |████████████████████████████████| 143kB 50.2MB/s \n",
            "\u001b[?25hCollecting certifi>=2017.4.17\n",
            "\u001b[?25l  Downloading https://files.pythonhosted.org/packages/98/99/def511020aa8f663d4a2cfaa38467539e864799289ff354569e339e375b1/certifi-2020.4.5.2-py2.py3-none-any.whl (157kB)\n",
            "\u001b[K     |████████████████████████████████| 163kB 46.6MB/s \n",
            "\u001b[?25hCollecting six>=1.5\n",
            "  Downloading https://files.pythonhosted.org/packages/ee/ff/48bde5c0f013094d729fe4b0316ba2a24774b3ff1c52d924a8a4cb04078a/six-1.15.0-py2.py3-none-any.whl\n",
            "Collecting retrying>=1.3.3\n",
            "  Downloading https://files.pythonhosted.org/packages/44/ef/beae4b4ef80902f22e3af073397f079c96969c69b2c7d52a57ea9ae61c9d/retrying-1.3.3.tar.gz\n",
            "Collecting brotli\n",
            "\u001b[?25l  Downloading https://files.pythonhosted.org/packages/f4/68/60a220454dc5083c6d59b41aa90bb1c96fad62a0abf3a33e0ef64b38638a/Brotli-1.0.7-cp36-cp36m-manylinux1_x86_64.whl (352kB)\n",
            "\u001b[K     |████████████████████████████████| 358kB 41.6MB/s \n",
            "\u001b[?25hCollecting MarkupSafe>=0.23\n",
            "  Downloading https://files.pythonhosted.org/packages/b2/5f/23e0023be6bb885d00ffbefad2942bc51a620328ee910f64abe5a8d18dd1/MarkupSafe-1.1.1-cp36-cp36m-manylinux1_x86_64.whl\n",
            "Building wheels for collected packages: craid, dash, dash-core-components, dash-html-components, dash-table, dash-renderer, psutil, flask-compress, future, retrying\n",
            "  Building wheel for craid (setup.py) ... \u001b[?25l\u001b[?25hdone\n",
            "  Created wheel for craid: filename=craid-0.76-cp36-none-any.whl size=305938 sha256=9a34f568940efe3e729a968023f09accea29ef329afcb890df45004182f55558\n",
            "  Stored in directory: /tmp/pip-ephem-wheel-cache-5gq77rdp/wheels/59/74/32/b75ca6dbfddc83071fd4a4a492a26c1066d06840be16c7d535\n",
            "  Building wheel for dash (setup.py) ... \u001b[?25l\u001b[?25hdone\n",
            "  Created wheel for dash: filename=dash-1.12.0-cp36-none-any.whl size=73892 sha256=80324960583fd87fa9b6dedd20f935a24fe586d2bbc371c30c2986ae252ef658\n",
            "  Stored in directory: /root/.cache/pip/wheels/2e/bc/dd/b4ebecb434c90eff7c5475efc10b72aad5a899c01fa87e2647\n",
            "  Building wheel for dash-core-components (setup.py) ... \u001b[?25l\u001b[?25hdone\n",
            "  Created wheel for dash-core-components: filename=dash_core_components-1.10.0-cp36-none-any.whl size=3454754 sha256=22156ee0efd178751ee332011808b366dc1c06f7ea54d4894cdacbdbb27aff5c\n",
            "  Stored in directory: /root/.cache/pip/wheels/61/5c/e3/0958785022517a2e5934e7b5167a8f824f79c96a5e440bd622\n",
            "  Building wheel for dash-html-components (setup.py) ... \u001b[?25l\u001b[?25hdone\n",
            "  Created wheel for dash-html-components: filename=dash_html_components-1.0.3-cp36-none-any.whl size=427303 sha256=5d2a88d39647359a8c79d01b423ce7687c169a76809b484862242918a1b1d044\n",
            "  Stored in directory: /root/.cache/pip/wheels/22/c0/79/ef4c2b20a23dc8457ae75c3da5f63163db213d86e13e00fe26\n",
            "  Building wheel for dash-table (setup.py) ... \u001b[?25l\u001b[?25hdone\n",
            "  Created wheel for dash-table: filename=dash_table-4.7.0-cp36-none-any.whl size=1777561 sha256=58e727ae08ccd3567b31300e1895d2903a58ccd58ff66f9eba7c859146dddf15\n",
            "  Stored in directory: /root/.cache/pip/wheels/de/59/d5/9da253860a20edebff16497d01b703d2a8db97130c5bd86fbf\n",
            "  Building wheel for dash-renderer (setup.py) ... \u001b[?25l\u001b[?25hdone\n",
            "  Created wheel for dash-renderer: filename=dash_renderer-1.4.1-cp36-none-any.whl size=1165597 sha256=fcbffde6b2591590d7f25a31d6bfde0424c378e0d6cdbdec2fca37ad563e3ed4\n",
            "  Stored in directory: /root/.cache/pip/wheels/be/9e/83/c6531c3fdd6dba27156e7196c273148d850c97bda396fec7d0\n",
            "  Building wheel for psutil (setup.py) ... \u001b[?25l\u001b[?25hdone\n",
            "  Created wheel for psutil: filename=psutil-5.7.0-cp36-cp36m-linux_x86_64.whl size=272674 sha256=e8574c8c8d93cfb4758e3ae27457a606904616748cd209d7b76475f7443a45a7\n",
            "  Stored in directory: /root/.cache/pip/wheels/d7/69/b4/3200b95828d1f0ddb3cb5699083717f4fdbd9b4223d0644c57\n",
            "  Building wheel for flask-compress (setup.py) ... \u001b[?25l\u001b[?25hdone\n",
            "  Created wheel for flask-compress: filename=Flask_Compress-1.5.0-cp36-none-any.whl size=5273 sha256=1c6495ec755b2fe9650e5068f41b1b82bdd1f9b707095e7b6a7765572f9ccc97\n",
            "  Stored in directory: /root/.cache/pip/wheels/f7/e9/e4/5afc286be7c87461375e33152558415dfeb0c8f5af3b50e742\n",
            "  Building wheel for future (setup.py) ... \u001b[?25l\u001b[?25hdone\n",
            "  Created wheel for future: filename=future-0.18.2-cp36-none-any.whl size=491057 sha256=18726a982f22b9366afebe8039b08ca809522df96594a9c42ea5ec85922c26fd\n",
            "  Stored in directory: /root/.cache/pip/wheels/8b/99/a0/81daf51dcd359a9377b110a8a886b3895921802d2fc1b2397e\n",
            "  Building wheel for retrying (setup.py) ... \u001b[?25l\u001b[?25hdone\n",
            "  Created wheel for retrying: filename=retrying-1.3.3-cp36-none-any.whl size=11431 sha256=8dd1af4342e2ddf9be150d69f256b8bb6ad84d78e79b41787280c9232c075090\n",
            "  Stored in directory: /root/.cache/pip/wheels/d7/a9/33/acc7b709e2a35caa7d4cae442f6fe6fbf2c43f80823d46460c\n",
            "Successfully built craid dash dash-core-components dash-html-components dash-table dash-renderer psutil flask-compress future retrying\n",
            "\u001b[31mERROR: kaggle 1.5.6 has requirement urllib3<1.25,>=1.21.1, but you'll have urllib3 1.25.9 which is incompatible.\u001b[0m\n",
            "\u001b[31mERROR: google-colab 1.0.0 has requirement six~=1.12.0, but you'll have six 1.15.0 which is incompatible.\u001b[0m\n",
            "\u001b[31mERROR: datascience 0.10.6 has requirement folium==0.2.1, but you'll have folium 0.8.3 which is incompatible.\u001b[0m\n",
            "\u001b[31mERROR: albumentations 0.1.12 has requirement imgaug<0.2.7,>=0.2.5, but you'll have imgaug 0.2.9 which is incompatible.\u001b[0m\n",
            "Installing collected packages: MarkupSafe, Jinja2, Werkzeug, click, itsdangerous, flask, brotli, flask-compress, six, retrying, plotly, dash-renderer, dash-core-components, dash-html-components, dash-table, future, dash, python-dateutil, pytz, numpy, pandas, idna, chardet, urllib3, certifi, requests, setuptools, ujson, json-lines, psutil, humanize, craid\n",
            "  Found existing installation: MarkupSafe 1.1.1\n",
            "    Uninstalling MarkupSafe-1.1.1:\n",
            "      Successfully uninstalled MarkupSafe-1.1.1\n",
            "  Found existing installation: Jinja2 2.11.2\n",
            "    Uninstalling Jinja2-2.11.2:\n",
            "      Successfully uninstalled Jinja2-2.11.2\n",
            "  Found existing installation: Werkzeug 1.0.1\n",
            "    Uninstalling Werkzeug-1.0.1:\n",
            "      Successfully uninstalled Werkzeug-1.0.1\n",
            "  Found existing installation: click 7.1.2\n",
            "    Uninstalling click-7.1.2:\n",
            "      Successfully uninstalled click-7.1.2\n",
            "  Found existing installation: itsdangerous 1.1.0\n",
            "    Uninstalling itsdangerous-1.1.0:\n",
            "      Successfully uninstalled itsdangerous-1.1.0\n",
            "  Found existing installation: Flask 1.1.2\n",
            "    Uninstalling Flask-1.1.2:\n",
            "      Successfully uninstalled Flask-1.1.2\n",
            "  Found existing installation: six 1.12.0\n",
            "    Uninstalling six-1.12.0:\n",
            "      Successfully uninstalled six-1.12.0\n",
            "  Found existing installation: retrying 1.3.3\n",
            "    Uninstalling retrying-1.3.3:\n",
            "      Successfully uninstalled retrying-1.3.3\n",
            "  Found existing installation: plotly 4.4.1\n",
            "    Uninstalling plotly-4.4.1:\n",
            "      Successfully uninstalled plotly-4.4.1\n",
            "  Found existing installation: future 0.16.0\n",
            "    Uninstalling future-0.16.0:\n",
            "      Successfully uninstalled future-0.16.0\n",
            "  Found existing installation: python-dateutil 2.8.1\n",
            "    Uninstalling python-dateutil-2.8.1:\n",
            "      Successfully uninstalled python-dateutil-2.8.1\n",
            "  Found existing installation: pytz 2018.9\n",
            "    Uninstalling pytz-2018.9:\n",
            "      Successfully uninstalled pytz-2018.9\n",
            "  Found existing installation: numpy 1.18.4\n",
            "    Uninstalling numpy-1.18.4:\n",
            "      Successfully uninstalled numpy-1.18.4\n",
            "  Found existing installation: pandas 1.0.4\n",
            "    Uninstalling pandas-1.0.4:\n",
            "      Successfully uninstalled pandas-1.0.4\n",
            "  Found existing installation: idna 2.9\n",
            "    Uninstalling idna-2.9:\n",
            "      Successfully uninstalled idna-2.9\n",
            "  Found existing installation: chardet 3.0.4\n",
            "    Uninstalling chardet-3.0.4:\n",
            "      Successfully uninstalled chardet-3.0.4\n",
            "  Found existing installation: urllib3 1.24.3\n",
            "    Uninstalling urllib3-1.24.3:\n",
            "      Successfully uninstalled urllib3-1.24.3\n",
            "  Found existing installation: certifi 2020.4.5.1\n",
            "    Uninstalling certifi-2020.4.5.1:\n",
            "      Successfully uninstalled certifi-2020.4.5.1\n",
            "  Found existing installation: requests 2.23.0\n",
            "    Uninstalling requests-2.23.0:\n",
            "      Successfully uninstalled requests-2.23.0\n",
            "  Found existing installation: setuptools 47.1.1\n",
            "    Uninstalling setuptools-47.1.1:\n",
            "      Successfully uninstalled setuptools-47.1.1\n",
            "  Found existing installation: psutil 5.4.8\n",
            "    Uninstalling psutil-5.4.8:\n",
            "      Successfully uninstalled psutil-5.4.8\n",
            "  Found existing installation: humanize 0.5.1\n",
            "    Uninstalling humanize-0.5.1:\n",
            "      Successfully uninstalled humanize-0.5.1\n",
            "Successfully installed Jinja2-2.11.2 MarkupSafe-1.1.1 Werkzeug-1.0.1 brotli-1.0.7 certifi-2020.4.5.2 chardet-3.0.4 click-7.1.2 craid-0.76 dash-1.12.0 dash-core-components-1.10.0 dash-html-components-1.0.3 dash-renderer-1.4.1 dash-table-4.7.0 flask-1.1.2 flask-compress-1.5.0 future-0.18.2 humanize-2.4.0 idna-2.9 itsdangerous-1.1.0 json-lines-0.5.0 numpy-1.18.5 pandas-1.0.4 plotly-4.8.1 psutil-5.7.0 python-dateutil-2.8.1 pytz-2020.1 requests-2.23.0 retrying-1.3.3 setuptools-47.1.1 six-1.15.0 ujson-3.0.0 urllib3-1.25.9\n"
          ],
          "name": "stdout"
        },
        {
          "output_type": "stream",
          "text": [
            "1- downloading to: /tmp/smol-factions.jsonl.gz\n",
            "2 - downloading [https://raw.github.com/HausReport/ClubRaiders/master/data/smol-factions.jsonl.gz] to [/tmp/smol-factions.jsonl.gz] data file.\n",
            "Starting new HTTPS connection (1): raw.github.com:443\n",
            "https://raw.github.com:443 \"GET /HausReport/ClubRaiders/master/data/smol-factions.jsonl.gz HTTP/1.1\" 301 0\n",
            "Starting new HTTPS connection (1): raw.githubusercontent.com:443\n"
          ],
          "name": "stderr"
        },
        {
          "output_type": "stream",
          "text": [
            "0:195,891,200\n"
          ],
          "name": "stdout"
        },
        {
          "output_type": "stream",
          "text": [
            "https://raw.githubusercontent.com:443 \"GET /HausReport/ClubRaiders/master/data/smol-factions.jsonl.gz HTTP/1.1\" 200 15637\n",
            "Found data file: /tmp/smol-factions.jsonl.gz\n",
            "Read 669 lines of faction data\n",
            "1- downloading to: /tmp/smol-systems_populated.jsonl.gz\n",
            "2 - downloading [https://raw.github.com/HausReport/ClubRaiders/master/data/smol-systems_populated.jsonl.gz] to [/tmp/smol-systems_populated.jsonl.gz] data file.\n",
            "Starting new HTTPS connection (1): raw.github.com:443\n",
            "https://raw.github.com:443 \"GET /HausReport/ClubRaiders/master/data/smol-systems_populated.jsonl.gz HTTP/1.1\" 301 0\n",
            "Starting new HTTPS connection (1): raw.githubusercontent.com:443\n"
          ],
          "name": "stderr"
        },
        {
          "output_type": "stream",
          "text": [
            "0.5:197,414,912\n"
          ],
          "name": "stdout"
        },
        {
          "output_type": "stream",
          "text": [
            "https://raw.githubusercontent.com:443 \"GET /HausReport/ClubRaiders/master/data/smol-systems_populated.jsonl.gz HTTP/1.1\" 200 23786\n",
            "Found data file: /tmp/smol-systems_populated.jsonl.gz\n",
            "Read 175 lines of systems data\n",
            "Populated club system keys\n",
            "Club system lookup set has {175} items\n",
            "Populated faction instances: {1070} items.\n",
            "1- downloading to: /tmp/smol-stations.jsonl.gz\n",
            "2 - downloading [https://raw.github.com/HausReport/ClubRaiders/master/data/smol-stations.jsonl.gz] to [/tmp/smol-stations.jsonl.gz] data file.\n",
            "Starting new HTTPS connection (1): raw.github.com:443\n",
            "https://raw.github.com:443 \"GET /HausReport/ClubRaiders/master/data/smol-stations.jsonl.gz HTTP/1.1\" 301 0\n",
            "Starting new HTTPS connection (1): raw.githubusercontent.com:443\n"
          ],
          "name": "stderr"
        },
        {
          "output_type": "stream",
          "text": [
            "1:199,340,032\n",
            "2:199,852,032\n"
          ],
          "name": "stdout"
        },
        {
          "output_type": "stream",
          "text": [
            "https://raw.githubusercontent.com:443 \"GET /HausReport/ClubRaiders/master/data/smol-stations.jsonl.gz HTTP/1.1\" 200 105874\n",
            "Found data file: /tmp/smol-stations.jsonl.gz\n",
            "Read 511 lines of station data, adding 511\n",
            "\n",
            "station controlling faction nexistThunderhead Garrison\n",
            "station controlling faction nexistThunderhead Garrison\n",
            "Loaded backend module://ipykernel.pylab.backend_inline version unknown.\n"
          ],
          "name": "stderr"
        },
        {
          "output_type": "stream",
          "text": [
            "3:200,577,024\n"
          ],
          "name": "stdout"
        }
      ]
    },
    {
      "cell_type": "code",
      "metadata": {
        "id": "JNfXDokXugKq",
        "colab_type": "code",
        "colab": {}
      },
      "source": [
        "df.loc[df['control'] == True, 'marker_size'] = 8           # Medium is not home/control\n",
        "df.loc[df['control'] == False, 'marker_size'] = 5          # Small is not home/not control\n",
        "df.loc[df['isHomeSystem'] == True, 'marker_size'] = 15     # Large is home\n",
        "df.loc[df['control'] == True, 'color'] = \"#00ff00\"         # Green is not home/control\n",
        "df.loc[df['control'] == False, 'color'] = \"#000000\"        # Black is not home/not control\n",
        "df.loc[df['isHomeSystem'] == True, 'color'] = \"#ff0000\"    # Red is homesystem"
      ],
      "execution_count": 0,
      "outputs": []
    },
    {
      "cell_type": "code",
      "metadata": {
        "id": "tHv_Sjf5-ZwY",
        "colab_type": "code",
        "colab": {}
      },
      "source": [
        "def getSphere( name, x0, y0, z0, r, baseColor):\n",
        "  theta = linspace(0,2*pi,100)\n",
        "  phi = linspace(0,pi,100)\n",
        "  x = x0 + r* outer(cos(theta),sin(phi))\n",
        "  y = y0 + r* outer(sin(theta),sin(phi))\n",
        "  z = z0 + r* outer(ones(100),cos(phi))  # note this is 2d now\n",
        "\n",
        "  colorScale = [[0, baseColor], [1,baseColor]]\n",
        "  #colorScale = [[0, 'rgba(0,0,255,128)', [1,'rgba(0,0,255,128)']]\n",
        "\n",
        "  #color = ['#ff0000'] * 100\n",
        "  #color = empty(100)\n",
        "  #color.fill(\"#ff0000\")\n",
        "  data = go.Surface(\n",
        "        x=x,\n",
        "        y=y,\n",
        "        z=z,\n",
        "        opacity = 0.2,\n",
        "        showlegend = False,\n",
        "        showscale= False,\n",
        "        hoverinfo= \"skip\",\n",
        "        hoverdata=\"skip\",\n",
        "        colorscale = colorScale,\n",
        "        text=name,\n",
        "      )\n",
        "  return data"
      ],
      "execution_count": 0,
      "outputs": []
    },
    {
      "cell_type": "code",
      "metadata": {
        "id": "1WO3wwLmq3U9",
        "colab_type": "code",
        "outputId": "19e45a23-d82d-4e1e-961d-1a344b637591",
        "colab": {
          "base_uri": "https://localhost:8080/",
          "height": 1000
        }
      },
      "source": [
        "#trace8 = getSphere(60, 46, 23, 45, 'rgb(0,255,255)')  #x hodack\n",
        "#trace6 = getSphere(25, 96, 4, 50, 'rgb(0,255,0)')     #x ega\n",
        "\n",
        "\n",
        "trace = go.Scatter3d(x =df['x'], y =df['z'], z =df['y'], text = df['systemName'],mode = 'markers',\n",
        "                      marker=dict(size=df[\"marker_size\"], color=df[\"color\"]))\n",
        "layout = go.Layout(title = 'Club Regions', showlegend=False, legend=None)\n",
        "California = getSphere(\"California\", -320,-913, -217, 200,  'rgb(32,32,32)')  #x\n",
        "Merope = getSphere(\"Merope\", -79,-340, -150, 100,       'rgb(255, 0, 0)')    #x\n",
        "Sirius = getSphere(\"Sirius\", 43,78,-3,125,              'rgb(0, 255, 0)') # sirius-ega-hodack\n",
        "Hip51652 = getSphere(\"HIP 51652\", 27, -81, 151, 35,        'rgb(0,0,255)')\n",
        "\n",
        "Rectangle = getSphere(\"Rectangle\",-54,-124,-66,75,        'rgb(255,255,0)')     #x\n",
        "XiShan = getSphere(\"Xi Shan\", 155, -50, 84, 45,          'rgb(255,0,255)') #x\n",
        "Abroin = getSphere(\"Abroin\",-94, -40, 110, 55,         'rgb(0,255,255)')   #x\n",
        "\n",
        "\n",
        "fig = go.Figure(data = [trace, Merope, Rectangle, California, Sirius, XiShan, Abroin, Hip51652], layout = layout)\n",
        "fig"
      ],
      "execution_count": 14,
      "outputs": [
        {
          "output_type": "error",
          "ename": "ValueError",
          "evalue": "ignored",
          "traceback": [
            "\u001b[0;31m---------------------------------------------------------------------------\u001b[0m",
            "\u001b[0;31mValueError\u001b[0m                                Traceback (most recent call last)",
            "\u001b[0;32m<ipython-input-14-fd880e51c51c>\u001b[0m in \u001b[0;36m<module>\u001b[0;34m()\u001b[0m\n\u001b[1;32m      6\u001b[0m                       marker=dict(size=df[\"marker_size\"], color=df[\"color\"]))\n\u001b[1;32m      7\u001b[0m \u001b[0mlayout\u001b[0m \u001b[0;34m=\u001b[0m \u001b[0mgo\u001b[0m\u001b[0;34m.\u001b[0m\u001b[0mLayout\u001b[0m\u001b[0;34m(\u001b[0m\u001b[0mtitle\u001b[0m \u001b[0;34m=\u001b[0m \u001b[0;34m'Club Regions'\u001b[0m\u001b[0;34m,\u001b[0m \u001b[0mshowlegend\u001b[0m\u001b[0;34m=\u001b[0m\u001b[0;32mFalse\u001b[0m\u001b[0;34m,\u001b[0m \u001b[0mlegend\u001b[0m\u001b[0;34m=\u001b[0m\u001b[0;32mNone\u001b[0m\u001b[0;34m)\u001b[0m\u001b[0;34m\u001b[0m\u001b[0;34m\u001b[0m\u001b[0m\n\u001b[0;32m----> 8\u001b[0;31m \u001b[0mCalifornia\u001b[0m \u001b[0;34m=\u001b[0m \u001b[0mgetSphere\u001b[0m\u001b[0;34m(\u001b[0m\u001b[0;34m\"California\"\u001b[0m\u001b[0;34m,\u001b[0m \u001b[0;34m-\u001b[0m\u001b[0;36m320\u001b[0m\u001b[0;34m,\u001b[0m\u001b[0;34m-\u001b[0m\u001b[0;36m913\u001b[0m\u001b[0;34m,\u001b[0m \u001b[0;34m-\u001b[0m\u001b[0;36m217\u001b[0m\u001b[0;34m,\u001b[0m \u001b[0;36m200\u001b[0m\u001b[0;34m,\u001b[0m  \u001b[0;34m'rgb(32,32,32)'\u001b[0m\u001b[0;34m)\u001b[0m  \u001b[0;31m#x\u001b[0m\u001b[0;34m\u001b[0m\u001b[0;34m\u001b[0m\u001b[0m\n\u001b[0m\u001b[1;32m      9\u001b[0m \u001b[0mMerope\u001b[0m \u001b[0;34m=\u001b[0m \u001b[0mgetSphere\u001b[0m\u001b[0;34m(\u001b[0m\u001b[0;34m\"Merope\"\u001b[0m\u001b[0;34m,\u001b[0m \u001b[0;34m-\u001b[0m\u001b[0;36m79\u001b[0m\u001b[0;34m,\u001b[0m\u001b[0;34m-\u001b[0m\u001b[0;36m340\u001b[0m\u001b[0;34m,\u001b[0m \u001b[0;34m-\u001b[0m\u001b[0;36m150\u001b[0m\u001b[0;34m,\u001b[0m \u001b[0;36m100\u001b[0m\u001b[0;34m,\u001b[0m       \u001b[0;34m'rgb(255, 0, 0)'\u001b[0m\u001b[0;34m)\u001b[0m    \u001b[0;31m#x\u001b[0m\u001b[0;34m\u001b[0m\u001b[0;34m\u001b[0m\u001b[0m\n\u001b[1;32m     10\u001b[0m \u001b[0mSirius\u001b[0m \u001b[0;34m=\u001b[0m \u001b[0mgetSphere\u001b[0m\u001b[0;34m(\u001b[0m\u001b[0;34m\"Sirius\"\u001b[0m\u001b[0;34m,\u001b[0m \u001b[0;36m43\u001b[0m\u001b[0;34m,\u001b[0m\u001b[0;36m78\u001b[0m\u001b[0;34m,\u001b[0m\u001b[0;34m-\u001b[0m\u001b[0;36m3\u001b[0m\u001b[0;34m,\u001b[0m\u001b[0;36m125\u001b[0m\u001b[0;34m,\u001b[0m              \u001b[0;34m'rgb(0, 255, 0)'\u001b[0m\u001b[0;34m)\u001b[0m \u001b[0;31m# sirius-ega-hodack\u001b[0m\u001b[0;34m\u001b[0m\u001b[0;34m\u001b[0m\u001b[0m\n",
            "\u001b[0;32m<ipython-input-13-3db9d0b55341>\u001b[0m in \u001b[0;36mgetSphere\u001b[0;34m(name, x0, y0, z0, r, baseColor)\u001b[0m\n\u001b[1;32m     22\u001b[0m         \u001b[0mhoverdata\u001b[0m\u001b[0;34m=\u001b[0m\u001b[0;34m\"skip\"\u001b[0m\u001b[0;34m,\u001b[0m\u001b[0;34m\u001b[0m\u001b[0;34m\u001b[0m\u001b[0m\n\u001b[1;32m     23\u001b[0m         \u001b[0mcolorscale\u001b[0m \u001b[0;34m=\u001b[0m \u001b[0mcolorScale\u001b[0m\u001b[0;34m,\u001b[0m\u001b[0;34m\u001b[0m\u001b[0;34m\u001b[0m\u001b[0m\n\u001b[0;32m---> 24\u001b[0;31m         \u001b[0mtext\u001b[0m\u001b[0;34m=\u001b[0m\u001b[0mname\u001b[0m\u001b[0;34m,\u001b[0m\u001b[0;34m\u001b[0m\u001b[0;34m\u001b[0m\u001b[0m\n\u001b[0m\u001b[1;32m     25\u001b[0m       )\n\u001b[1;32m     26\u001b[0m   \u001b[0;32mreturn\u001b[0m \u001b[0mdata\u001b[0m\u001b[0;34m\u001b[0m\u001b[0;34m\u001b[0m\u001b[0m\n",
            "\u001b[0;32m/usr/local/lib/python3.6/dist-packages/plotly/graph_objs/_surface.py\u001b[0m in \u001b[0;36m__init__\u001b[0;34m(self, arg, autocolorscale, cauto, cmax, cmid, cmin, coloraxis, colorbar, colorscale, connectgaps, contours, customdata, customdatasrc, hidesurface, hoverinfo, hoverinfosrc, hoverlabel, hovertemplate, hovertemplatesrc, hovertext, hovertextsrc, ids, idssrc, legendgroup, lighting, lightposition, meta, metasrc, name, opacity, opacityscale, reversescale, scene, showlegend, showscale, stream, surfacecolor, surfacecolorsrc, text, textsrc, uid, uirevision, visible, x, xcalendar, xsrc, y, ycalendar, ysrc, z, zcalendar, zsrc, **kwargs)\u001b[0m\n\u001b[1;32m   2386\u001b[0m         \u001b[0;31m# Process unknown kwargs\u001b[0m\u001b[0;34m\u001b[0m\u001b[0;34m\u001b[0m\u001b[0;34m\u001b[0m\u001b[0m\n\u001b[1;32m   2387\u001b[0m         \u001b[0;31m# ----------------------\u001b[0m\u001b[0;34m\u001b[0m\u001b[0;34m\u001b[0m\u001b[0;34m\u001b[0m\u001b[0m\n\u001b[0;32m-> 2388\u001b[0;31m         \u001b[0mself\u001b[0m\u001b[0;34m.\u001b[0m\u001b[0m_process_kwargs\u001b[0m\u001b[0;34m(\u001b[0m\u001b[0;34m**\u001b[0m\u001b[0mdict\u001b[0m\u001b[0;34m(\u001b[0m\u001b[0marg\u001b[0m\u001b[0;34m,\u001b[0m \u001b[0;34m**\u001b[0m\u001b[0mkwargs\u001b[0m\u001b[0;34m)\u001b[0m\u001b[0;34m)\u001b[0m\u001b[0;34m\u001b[0m\u001b[0;34m\u001b[0m\u001b[0m\n\u001b[0m\u001b[1;32m   2389\u001b[0m \u001b[0;34m\u001b[0m\u001b[0m\n\u001b[1;32m   2390\u001b[0m         \u001b[0;31m# Reset skip_invalid\u001b[0m\u001b[0;34m\u001b[0m\u001b[0;34m\u001b[0m\u001b[0;34m\u001b[0m\u001b[0m\n",
            "\u001b[0;32m/usr/local/lib/python3.6/dist-packages/plotly/basedatatypes.py\u001b[0m in \u001b[0;36m_process_kwargs\u001b[0;34m(self, **kwargs)\u001b[0m\n\u001b[1;32m   3491\u001b[0m \u001b[0;34m\u001b[0m\u001b[0m\n\u001b[1;32m   3492\u001b[0m         \u001b[0;32mif\u001b[0m \u001b[0minvalid_kwargs\u001b[0m \u001b[0;32mand\u001b[0m \u001b[0;32mnot\u001b[0m \u001b[0mself\u001b[0m\u001b[0;34m.\u001b[0m\u001b[0m_skip_invalid\u001b[0m\u001b[0;34m:\u001b[0m\u001b[0;34m\u001b[0m\u001b[0;34m\u001b[0m\u001b[0m\n\u001b[0;32m-> 3493\u001b[0;31m             \u001b[0mself\u001b[0m\u001b[0;34m.\u001b[0m\u001b[0m_raise_on_invalid_property_error\u001b[0m\u001b[0;34m(\u001b[0m\u001b[0;34m*\u001b[0m\u001b[0minvalid_kwargs\u001b[0m\u001b[0;34m.\u001b[0m\u001b[0mkeys\u001b[0m\u001b[0;34m(\u001b[0m\u001b[0;34m)\u001b[0m\u001b[0;34m)\u001b[0m\u001b[0;34m\u001b[0m\u001b[0;34m\u001b[0m\u001b[0m\n\u001b[0m\u001b[1;32m   3494\u001b[0m \u001b[0;34m\u001b[0m\u001b[0m\n\u001b[1;32m   3495\u001b[0m     \u001b[0;34m@\u001b[0m\u001b[0mproperty\u001b[0m\u001b[0;34m\u001b[0m\u001b[0;34m\u001b[0m\u001b[0m\n",
            "\u001b[0;32m/usr/local/lib/python3.6/dist-packages/plotly/basedatatypes.py\u001b[0m in \u001b[0;36m_raise_on_invalid_property_error\u001b[0;34m(self, *args)\u001b[0m\n\u001b[1;32m   4167\u001b[0m                     \u001b[0mfull_obj_name\u001b[0m\u001b[0;34m=\u001b[0m\u001b[0mfull_obj_name\u001b[0m\u001b[0;34m,\u001b[0m\u001b[0;34m\u001b[0m\u001b[0;34m\u001b[0m\u001b[0m\n\u001b[1;32m   4168\u001b[0m                     \u001b[0minvalid_str\u001b[0m\u001b[0;34m=\u001b[0m\u001b[0minvalid_str\u001b[0m\u001b[0;34m,\u001b[0m\u001b[0;34m\u001b[0m\u001b[0;34m\u001b[0m\u001b[0m\n\u001b[0;32m-> 4169\u001b[0;31m                     \u001b[0mprop_descriptions\u001b[0m\u001b[0;34m=\u001b[0m\u001b[0mself\u001b[0m\u001b[0;34m.\u001b[0m\u001b[0m_prop_descriptions\u001b[0m\u001b[0;34m,\u001b[0m\u001b[0;34m\u001b[0m\u001b[0;34m\u001b[0m\u001b[0m\n\u001b[0m\u001b[1;32m   4170\u001b[0m                 )\n\u001b[1;32m   4171\u001b[0m             )\n",
            "\u001b[0;31mValueError\u001b[0m: Invalid property specified for object of type plotly.graph_objs.Surface: 'hoverdata'\n\n    Valid properties:\n        autocolorscale\n            Determines whether the colorscale is a default palette\n            (`autocolorscale: true`) or the palette determined by\n            `colorscale`. In case `colorscale` is unspecified or\n            `autocolorscale` is true, the default  palette will be\n            chosen according to whether numbers in the `color`\n            array are all positive, all negative or mixed.\n        cauto\n            Determines whether or not the color domain is computed\n            with respect to the input data (here z or surfacecolor)\n            or the bounds set in `cmin` and `cmax`  Defaults to\n            `false` when `cmin` and `cmax` are set by the user.\n        cmax\n            Sets the upper bound of the color domain. Value should\n            have the same units as z or surfacecolor and if set,\n            `cmin` must be set as well.\n        cmid\n            Sets the mid-point of the color domain by scaling\n            `cmin` and/or `cmax` to be equidistant to this point.\n            Value should have the same units as z or surfacecolor.\n            Has no effect when `cauto` is `false`.\n        cmin\n            Sets the lower bound of the color domain. Value should\n            have the same units as z or surfacecolor and if set,\n            `cmax` must be set as well.\n        coloraxis\n            Sets a reference to a shared color axis. References to\n            these shared color axes are \"coloraxis\", \"coloraxis2\",\n            \"coloraxis3\", etc. Settings for these shared color axes\n            are set in the layout, under `layout.coloraxis`,\n            `layout.coloraxis2`, etc. Note that multiple color\n            scales can be linked to the same color axis.\n        colorbar\n            :class:`plotly.graph_objects.surface.ColorBar` instance\n            or dict with compatible properties\n        colorscale\n            Sets the colorscale. The colorscale must be an array\n            containing arrays mapping a normalized value to an rgb,\n            rgba, hex, hsl, hsv, or named color string. At minimum,\n            a mapping for the lowest (0) and highest (1) values are\n            required. For example, `[[0, 'rgb(0,0,255)'], [1,\n            'rgb(255,0,0)']]`. To control the bounds of the\n            colorscale in color space, use`cmin` and `cmax`.\n            Alternatively, `colorscale` may be a palette name\n            string of the following list: Greys,YlGnBu,Greens,YlOrR\n            d,Bluered,RdBu,Reds,Blues,Picnic,Rainbow,Portland,Jet,H\n            ot,Blackbody,Earth,Electric,Viridis,Cividis.\n        connectgaps\n            Determines whether or not gaps (i.e. {nan} or missing\n            values) in the `z` data are filled in.\n        contours\n            :class:`plotly.graph_objects.surface.Contours` instance\n            or dict with compatible properties\n        customdata\n            Assigns extra data each datum. This may be useful when\n            listening to hover, click and selection events. Note\n            that, \"scatter\" traces also appends customdata items in\n            the markers DOM elements\n        customdatasrc\n            Sets the source reference on Chart Studio Cloud for\n            customdata .\n        hidesurface\n            Determines whether or not a surface is drawn. For\n            example, set `hidesurface` to False `contours.x.show`\n            to True and `contours.y.show` to True to draw a wire\n            frame plot.\n        hoverinfo\n            Determines which trace information appear on hover. If\n            `none` or `skip` are set, no information is displayed\n            upon hovering. But, if `none` is set, click and hover\n            events are still fired.\n        hoverinfosrc\n            Sets the source reference on Chart Studio Cloud for\n            hoverinfo .\n        hoverlabel\n            :class:`plotly.graph_objects.surface.Hoverlabel`\n            instance or dict with compatible properties\n        hovertemplate\n            Template string used for rendering the information that\n            appear on hover box. Note that this will override\n            `hoverinfo`. Variables are inserted using %{variable},\n            for example \"y: %{y}\". Numbers are formatted using\n            d3-format's syntax %{variable:d3-format}, for example\n            \"Price: %{y:$.2f}\". https://github.com/d3/d3-3.x-api-\n            reference/blob/master/Formatting.md#d3_format for\n            details on the formatting syntax. Dates are formatted\n            using d3-time-format's syntax %{variable|d3-time-\n            format}, for example \"Day: %{2019-01-01|%A}\".\n            https://github.com/d3/d3-3.x-api-\n            reference/blob/master/Time-Formatting.md#format for\n            details on the date formatting syntax. The variables\n            available in `hovertemplate` are the ones emitted as\n            event data described at this link\n            https://plotly.com/javascript/plotlyjs-events/#event-\n            data. Additionally, every attributes that can be\n            specified per-point (the ones that are `arrayOk: true`)\n            are available.  Anything contained in tag `<extra>` is\n            displayed in the secondary box, for example\n            \"<extra>{fullData.name}</extra>\". To hide the secondary\n            box completely, use an empty tag `<extra></extra>`.\n        hovertemplatesrc\n            Sets the source reference on Chart Studio Cloud for\n            hovertemplate .\n        hovertext\n            Same as `text`.\n        hovertextsrc\n            Sets the source reference on Chart Studio Cloud for\n            hovertext .\n        ids\n            Assigns id labels to each datum. These ids for object\n            constancy of data points during animation. Should be an\n            array of strings, not numbers or any other type.\n        idssrc\n            Sets the source reference on Chart Studio Cloud for\n            ids .\n        legendgroup\n            Sets the legend group for this trace. Traces part of\n            the same legend group hide/show at the same time when\n            toggling legend items.\n        lighting\n            :class:`plotly.graph_objects.surface.Lighting` instance\n            or dict with compatible properties\n        lightposition\n            :class:`plotly.graph_objects.surface.Lightposition`\n            instance or dict with compatible properties\n        meta\n            Assigns extra meta information associated with this\n            trace that can be used in various text attributes.\n            Attributes such as trace `name`, graph, axis and\n            colorbar `title.text`, annotation `text`\n            `rangeselector`, `updatemenues` and `sliders` `label`\n            text all support `meta`. To access the trace `meta`\n            values in an attribute in the same trace, simply use\n            `%{meta[i]}` where `i` is the index or key of the\n            `meta` item in question. To access trace `meta` in\n            layout attributes, use `%{data[n[.meta[i]}` where `i`\n            is the index or key of the `meta` and `n` is the trace\n            index.\n        metasrc\n            Sets the source reference on Chart Studio Cloud for\n            meta .\n        name\n            Sets the trace name. The trace name appear as the\n            legend item and on hover.\n        opacity\n            Sets the opacity of the surface. Please note that in\n            the case of using high `opacity` values for example a\n            value greater than or equal to 0.5 on two surfaces (and\n            0.25 with four surfaces), an overlay of multiple\n            transparent surfaces may not perfectly be sorted in\n            depth by the webgl API. This behavior may be improved\n            in the near future and is subject to change.\n        opacityscale\n            Sets the opacityscale. The opacityscale must be an\n            array containing arrays mapping a normalized value to\n            an opacity value. At minimum, a mapping for the lowest\n            (0) and highest (1) values are required. For example,\n            `[[0, 1], [0.5, 0.2], [1, 1]]` means that higher/lower\n            values would have higher opacity values and those in\n            the middle would be more transparent Alternatively,\n            `opacityscale` may be a palette name string of the\n            following list: 'min', 'max', 'extremes' and 'uniform'.\n            The default is 'uniform'.\n        reversescale\n            Reverses the color mapping if true. If true, `cmin`\n            will correspond to the last color in the array and\n            `cmax` will correspond to the first color.\n        scene\n            Sets a reference between this trace's 3D coordinate\n            system and a 3D scene. If \"scene\" (the default value),\n            the (x,y,z) coordinates refer to `layout.scene`. If\n            \"scene2\", the (x,y,z) coordinates refer to\n            `layout.scene2`, and so on.\n        showlegend\n            Determines whether or not an item corresponding to this\n            trace is shown in the legend.\n        showscale\n            Determines whether or not a colorbar is displayed for\n            this trace.\n        stream\n            :class:`plotly.graph_objects.surface.Stream` instance\n            or dict with compatible properties\n        surfacecolor\n            Sets the surface color values, used for setting a color\n            scale independent of `z`.\n        surfacecolorsrc\n            Sets the source reference on Chart Studio Cloud for\n            surfacecolor .\n        text\n            Sets the text elements associated with each z value. If\n            trace `hoverinfo` contains a \"text\" flag and\n            \"hovertext\" is not set, these elements will be seen in\n            the hover labels.\n        textsrc\n            Sets the source reference on Chart Studio Cloud for\n            text .\n        uid\n            Assign an id to this trace, Use this to provide object\n            constancy between traces during animations and\n            transitions.\n        uirevision\n            Controls persistence of some user-driven changes to the\n            trace: `constraintrange` in `parcoords` traces, as well\n            as some `editable: true` modifications such as `name`\n            and `colorbar.title`. Defaults to `layout.uirevision`.\n            Note that other user-driven trace attribute changes are\n            controlled by `layout` attributes: `trace.visible` is\n            controlled by `layout.legend.uirevision`,\n            `selectedpoints` is controlled by\n            `layout.selectionrevision`, and `colorbar.(x|y)`\n            (accessible with `config: {editable: true}`) is\n            controlled by `layout.editrevision`. Trace changes are\n            tracked by `uid`, which only falls back on trace index\n            if no `uid` is provided. So if your app can add/remove\n            traces before the end of the `data` array, such that\n            the same trace has a different index, you can still\n            preserve user-driven changes if you give each trace a\n            `uid` that stays with it as it moves.\n        visible\n            Determines whether or not this trace is visible. If\n            \"legendonly\", the trace is not drawn, but can appear as\n            a legend item (provided that the legend itself is\n            visible).\n        x\n            Sets the x coordinates.\n        xcalendar\n            Sets the calendar system to use with `x` date data.\n        xsrc\n            Sets the source reference on Chart Studio Cloud for  x\n            .\n        y\n            Sets the y coordinates.\n        ycalendar\n            Sets the calendar system to use with `y` date data.\n        ysrc\n            Sets the source reference on Chart Studio Cloud for  y\n            .\n        z\n            Sets the z coordinates.\n        zcalendar\n            Sets the calendar system to use with `z` date data.\n        zsrc\n            Sets the source reference on Chart Studio Cloud for  z\n            .\n        "
          ]
        }
      ]
    },
    {
      "cell_type": "code",
      "metadata": {
        "id": "O6EcBZhjpXQ6",
        "colab_type": "code",
        "outputId": "f6caabfc-c900-4666-fc72-032315d672dd",
        "colab": {
          "base_uri": "https://localhost:8080/",
          "height": 542
        }
      },
      "source": [
        "simpleTrace = go.Scatter3d(x =df['x'], y =df['z'], z =df['y'], text = df['systemName'],mode = 'markers',\n",
        "                      marker=dict(size=df[\"marker_size\"], color=df[\"color\"]))\n",
        "simpleLayout = go.Layout(title = 'Club Systems: Red Home, Green Control, and Black Other')\n",
        "simpleFig = go.Figure(data = [trace], layout = layout)\n",
        "simpleFig"
      ],
      "execution_count": 0,
      "outputs": [
        {
          "output_type": "display_data",
          "data": {
            "text/html": [
              "<html>\n",
              "<head><meta charset=\"utf-8\" /></head>\n",
              "<body>\n",
              "    <div>\n",
              "            <script src=\"https://cdnjs.cloudflare.com/ajax/libs/mathjax/2.7.5/MathJax.js?config=TeX-AMS-MML_SVG\"></script><script type=\"text/javascript\">if (window.MathJax) {MathJax.Hub.Config({SVG: {font: \"STIX-Web\"}});}</script>\n",
              "                <script type=\"text/javascript\">window.PlotlyConfig = {MathJaxConfig: 'local'};</script>\n",
              "        <script src=\"https://cdn.plot.ly/plotly-latest.min.js\"></script>    \n",
              "            <div id=\"6c99867c-29db-45b3-9649-b53cf6b5ea55\" class=\"plotly-graph-div\" style=\"height:525px; width:100%;\"></div>\n",
              "            <script type=\"text/javascript\">\n",
              "                \n",
              "                    window.PLOTLYENV=window.PLOTLYENV || {};\n",
              "                    \n",
              "                if (document.getElementById(\"6c99867c-29db-45b3-9649-b53cf6b5ea55\")) {\n",
              "                    Plotly.newPlot(\n",
              "                        '6c99867c-29db-45b3-9649-b53cf6b5ea55',\n",
              "                        [{\"marker\": {\"color\": [\"#ff0000\", \"#00ff00\", \"#000000\", \"#ff0000\", \"#000000\", \"#00ff00\", \"#000000\", \"#000000\", \"#ff0000\", \"#000000\", \"#000000\", \"#000000\", \"#000000\", \"#000000\", \"#000000\", \"#000000\", \"#000000\", \"#00ff00\", \"#ff0000\", \"#000000\", \"#00ff00\", \"#000000\", \"#000000\", \"#000000\", \"#ff0000\", \"#000000\", \"#000000\", \"#000000\", \"#000000\", \"#000000\", \"#000000\", \"#000000\", \"#000000\", \"#000000\", \"#000000\", \"#000000\", \"#000000\", \"#000000\", \"#000000\", \"#ff0000\", \"#ff0000\", \"#000000\", \"#000000\", \"#000000\", \"#000000\", \"#000000\", \"#000000\", \"#000000\", \"#ff0000\", \"#ff0000\", \"#000000\", \"#00ff00\", \"#000000\", \"#000000\", \"#000000\", \"#000000\", \"#00ff00\", \"#ff0000\", \"#00ff00\", \"#00ff00\", \"#000000\", \"#000000\", \"#00ff00\", \"#000000\", \"#000000\", \"#000000\", \"#000000\", \"#00ff00\", \"#00ff00\", \"#00ff00\", \"#00ff00\", \"#000000\", \"#000000\", \"#000000\", \"#000000\", \"#000000\", \"#000000\", \"#000000\", \"#ff0000\", \"#ff0000\", \"#00ff00\", \"#000000\", \"#000000\", \"#000000\", \"#000000\", \"#ff0000\", \"#000000\", \"#000000\", \"#000000\", \"#000000\", \"#ff0000\", \"#000000\", \"#ff0000\", \"#00ff00\", \"#000000\", \"#ff0000\", \"#00ff00\", \"#ff0000\", \"#000000\", \"#000000\", \"#000000\", \"#ff0000\", \"#ff0000\", \"#000000\", \"#000000\", \"#ff0000\", \"#000000\", \"#00ff00\", \"#000000\", \"#000000\", \"#000000\", \"#00ff00\", \"#00ff00\", \"#ff0000\", \"#000000\", \"#000000\", \"#000000\", \"#000000\", \"#000000\", \"#000000\", \"#000000\", \"#000000\", \"#000000\", \"#00ff00\", \"#ff0000\", \"#000000\", \"#000000\", \"#000000\", \"#000000\", \"#000000\", \"#000000\", \"#000000\", \"#000000\", \"#000000\", \"#000000\", \"#000000\", \"#000000\", \"#ff0000\", \"#00ff00\", \"#000000\", \"#000000\", \"#000000\", \"#000000\", \"#00ff00\", \"#00ff00\", \"#00ff00\", \"#000000\", \"#000000\", \"#000000\", \"#000000\", \"#000000\", \"#000000\", \"#000000\", \"#000000\", \"#000000\", \"#ff0000\", \"#00ff00\", \"#00ff00\", \"#ff0000\", \"#000000\", \"#000000\", \"#000000\", \"#ff0000\", \"#ff0000\", \"#000000\", \"#00ff00\", \"#000000\", \"#000000\", \"#000000\", \"#000000\", \"#00ff00\", \"#000000\", \"#000000\", \"#000000\", \"#000000\", \"#000000\", \"#00ff00\", \"#000000\", \"#000000\", \"#00ff00\", \"#000000\", \"#000000\", \"#000000\", \"#000000\", \"#00ff00\", \"#000000\", \"#000000\"], \"size\": [15.0, 8.0, 5.0, 15.0, 5.0, 8.0, 5.0, 5.0, 15.0, 5.0, 5.0, 5.0, 5.0, 5.0, 5.0, 5.0, 5.0, 8.0, 15.0, 5.0, 8.0, 5.0, 5.0, 5.0, 15.0, 5.0, 5.0, 5.0, 5.0, 5.0, 5.0, 5.0, 5.0, 5.0, 5.0, 5.0, 5.0, 5.0, 5.0, 15.0, 15.0, 5.0, 5.0, 5.0, 5.0, 5.0, 5.0, 5.0, 15.0, 15.0, 5.0, 8.0, 5.0, 5.0, 5.0, 5.0, 8.0, 15.0, 8.0, 8.0, 5.0, 5.0, 8.0, 5.0, 5.0, 5.0, 5.0, 8.0, 8.0, 8.0, 8.0, 5.0, 5.0, 5.0, 5.0, 5.0, 5.0, 5.0, 15.0, 15.0, 8.0, 5.0, 5.0, 5.0, 5.0, 15.0, 5.0, 5.0, 5.0, 5.0, 15.0, 5.0, 15.0, 8.0, 5.0, 15.0, 8.0, 15.0, 5.0, 5.0, 5.0, 15.0, 15.0, 5.0, 5.0, 15.0, 5.0, 8.0, 5.0, 5.0, 5.0, 8.0, 8.0, 15.0, 5.0, 5.0, 5.0, 5.0, 5.0, 5.0, 5.0, 5.0, 5.0, 8.0, 15.0, 5.0, 5.0, 5.0, 5.0, 5.0, 5.0, 5.0, 5.0, 5.0, 5.0, 5.0, 5.0, 15.0, 8.0, 5.0, 5.0, 5.0, 5.0, 8.0, 8.0, 8.0, 5.0, 5.0, 5.0, 5.0, 5.0, 5.0, 5.0, 5.0, 5.0, 15.0, 8.0, 8.0, 15.0, 5.0, 5.0, 5.0, 15.0, 15.0, 5.0, 8.0, 5.0, 5.0, 5.0, 5.0, 8.0, 5.0, 5.0, 5.0, 5.0, 5.0, 8.0, 5.0, 5.0, 8.0, 5.0, 5.0, 5.0, 5.0, 8.0, 5.0, 5.0]}, \"mode\": \"markers\", \"text\": [\"64 Ceti\", \"Abroin\", \"Akandi\", \"Alioth\", \"Alioth\", \"Amalangkan\", \"Anandariti\", \"Aoniken\", \"Aurus\", \"Auserine\", \"Avik\", \"Baiame\", \"BD+33 801\", \"Caelottixa\", \"Carunda\", \"Certo\", \"Chicoana\", \"Chuelchs\", \"Cofan\", \"Corn Pin\", \"Daik\", \"Delkar\", \"Dhathaarib\", \"Dyavata\", \"Ega\", \"Eta Scorpii\", \"Guan Gong\", \"Helgaedi\", \"Hemaki\", \"HIP 47050\", \"HIP 47156\", \"HIP 51487\", \"HIP 66267\", \"HIP 67109\", \"HIP 68796\", \"HIP 69767\", \"HIP 70255\", \"HIP 78267\", \"HIP 80242\", \"Hodack\", \"Holler\", \"Honoto\", \"HR 3714\", \"HR 5975\", \"Hun Chonses\", \"Hun Hsinas\", \"Ipilyak\", \"Kamcab\", \"Karitis\", \"Kikapu\", \"Kipsigines\", \"Kokokomi\", \"Komovoy\", \"Kweleutahe\", \"Lambda Arae\", \"Lapannodaya\", \"LAWD 26\", \"Leesti\", \"LHS 1951\", \"LHS 2065\", \"LHS 2477\", \"LHS 2887\", \"LHS 380\", \"Li Bestina\", \"LPM 607\", \"LTT 4835\", \"LTT 7370\", \"Lu Yupik\", \"Luhman 16\", \"Luyten 674-15\", \"Luyten's Star\", \"Madrus\", \"Mang\", \"Mantobices\", \"Mildeptu\", \"Miller\", \"Minarii\", \"Minu\", \"Mongan\", \"Mons\", \"Mooramba\", \"Mundindja\", \"Nagasairu\", \"Namarii\", \"Nanangolans\", \"Ngalia\", \"Oguninksmii\", \"Ondumbo\", \"Panopi\", \"Parhaiya\", \"Parthians\", \"Pemoeri\", \"Phanes\", \"Procyon\", \"Quan Gurus\", \"Raurt\", \"Ross 446\", \"Ross 591\", \"RR Caeli\", \"Serrot\", \"Shatkwaka\", \"Sirius\", \"Socho\", \"Sol\", \"Solati\", \"Song Ku\", \"Superty\", \"Surmati\", \"Swazahua\", \"Trica\", \"Vito\", \"Vucub Huan\", \"Wille\", \"Xi Shan\", \"Asterope\", \"Atlas\", \"Celaeno\", \"Celaeno\", \"Electra\", \"Electra\", \"HIP 17497\", \"HIP 17497\", \"HIP 17692\", \"HR 1172\", \"Merope\", \"Pleione\", \"Pleione\", \"Taygeta\", \"Taygeta\", \"Pleiades Sector DL-Y d65\", \"Pleiades Sector DL-Y d65\", \"Pleiades Sector HR-W d1-41\", \"Pleiades Sector HR-W d1-57\", \"Pleiades Sector HR-W d1-74\", \"Pleiades Sector HR-W d1-74\", \"Pleiades Sector KC-V c2-11\", \"Pleiades Sector KC-V c2-11\", \"Exphiay\", \"Robigo\", \"HR 1183\", \"HR 1183\", \"HR 1183\", \"Sothis\", \"Almagest\", \"Takurua\", \"HIP 8396\", \"Ceos\", \"Te Kaha\", \"HIP 17225\", \"HIP 17225\", \"HIP 17044\", \"HIP 17892\", \"Pleiades Sector IH-V c2-7\", \"HIP 16753\", \"Pleiades Sector GW-W c1-13\", \"California Sector BA-A e6\", \"HIP 18077\", \"Pleiades Sector HR-W d1-42\", \"HIP 51652\", \"Pleiades Sector PD-S b4-0\", \"Pleiades Sector PD-S b4-0\", \"Pleiades Sector IH-V c2-16\", \"CD-43 11917\", \"CD-43 11917\", \"Col 285 Sector WO-E b13-0\", \"Col 285 Sector BQ-N c7-21\", \"Col 285 Sector YZ-C b14-1\", \"HIP 17412\", \"HIP 72726\", \"Arietis Sector ON-T b3-4\", \"California Sector HR-W d1-28\", \"Synuefe YM-H d11-84\", \"HIP 17655\", \"Pleiades Sector JC-V d2-62\", \"HIP 51352\", \"Pleiades Sector KC-V c2-4\", \"California Sector JH-V c2-12\", \"Col 285 Sector EB-B b15-4\", \"California Sector BV-Y c7\", \"Synuefai EB-R c7-5\", \"Col 285 Sector UE-G c11-19\", \"Wolf 202\", \"33 Cygni\", \"Col 285 Sector BQ-N c7-13\", \"Mel 22 Sector GM-V c2-8\", \"Delphi\", \"Delphi\"], \"type\": \"scatter3d\", \"x\": [-37.0625, -94.53125, 62.03125, -33.65625, -33.65625, 66.3125, 153.6875, 128.625, -139.84375, 23.75, 13.96875, -95.96875, -31.3125, 6.75, -108.46875, 22.4375, -35.0, 70.15625, -33.71875, 7.9375, -69.0625, 67.8125, 68.53125, 24.78125, 31.75, 19.34375, 138.4375, 82.96875, -38.875, 149.5, 132.75, 31.875, -100.34375, -88.8125, -94.34375, -95.46875, -99.28125, 43.28125, 25.125, 60.28125, -93.3125, 75.65625, 136.84375, 41.15625, 9.125, 145.5625, 80.9375, 145.40625, -78.75, -29.0, 47.75, 28.03125, 70.03125, 18.09375, 21.03125, 77.125, 20.90625, 72.75, 17.875, 19.71875, 67.8125, -7.34375, 5.28125, 20.875, 23.1875, 73.75, 28.03125, 21.53125, 6.3125, 16.71875, 6.5625, -91.84375, 21.6875, 147.9375, 14.125, -90.125, 81.0625, 37.5625, -141.09375, 118.8125, -68.625, 140.75, 34.78125, 67.3125, 144.09375, -74.625, 80.0, -86.5, 65.5625, -91.125, -56.21875, 68.71875, 10.5, 6.21875, 11.28125, 148.25, 14.21875, -32.1875, 18.3125, 19.15625, 27.4375, 6.25, -72.4375, 0.0, 66.53125, -148.4375, 35.59375, 24.09375, -91.53125, 148.375, 153.5, 65.3125, 34.03125, 155.0, -80.15625, -76.71875, -81.09375, -81.09375, -86.0625, -86.0625, -79.125, -79.125, -74.125, -75.1875, -78.59375, -77.0, -77.0, -88.5, -88.5, -83.28125, -83.28125, -83.96875, -86.40625, -87.40625, -87.40625, -86.59375, -86.59375, 283.84375, -303.40625, -72.875, -72.875, -72.875, -352.78125, -274.65625, -253.8125, -226.5, -348.65625, -172.8125, -86.15625, -86.15625, -74.25, -70.75, -78.46875, -88.3125, -77.375, -319.8125, -303.84375, -70.1875, 27.1875, -80.625, -80.625, -92.0, 18.0, 18.0, 136.375, 149.5, 147.4375, -71.25, -103.71875, -77.90625, -329.53125, 277.3125, -83.40625, -82.1875, 28.03125, -88.8125, -314.34375, 143.0625, -342.3125, -291.59375, 120.3125, -70.15625, -155.75, 158.3125, -192.125, -63.59375, -63.59375], \"y\": [-79.125, -40.5, 38.875, -20.65625, -20.65625, 43.3125, -45.03125, -58.15625, -12.6875, 64.65625, -6.0, -46.6875, -107.875, 77.71875, -35.03125, 85.375, -110.5, 40.59375, 144.15625, 83.3125, -148.09375, 35.25, 45.46875, 116.53125, 114.09375, 70.78125, -41.125, 33.78125, -115.5, -69.8125, -35.21875, -91.9375, -55.3125, -42.5, -46.6875, -35.9375, -33.21875, 110.34375, 116.34375, 46.40625, 114.09375, 38.46875, -58.15625, 114.375, 80.46875, -46.9375, 30.15625, -26.8125, 69.40625, 137.84375, 41.375, 83.34375, 44.15625, 89.46875, 65.5, 32.75, 3.75, 68.25, -21.375, -15.84375, 26.9375, 5.71875, 10.875, 92.4375, 76.46875, 44.375, 58.21875, 4.25, 1.71875, -9.125, -10.25, 59.21875, 88.3125, -72.5625, -3.28125, -22.875, 39.125, -84.625, -1.3125, 125.9375, -149.125, -63.9375, 77.84375, -20.53125, -68.5625, -165.96875, 53.34375, -43.375, 38.875, -40.21875, 92.625, 41.03125, -47.34375, -9.1875, 90.28125, -37.4375, -6.53125, -111.375, -4.6875, 80.75, 75.4375, -5.75, -141.1875, 0.0, 34.6875, -5.40625, 80.90625, 76.5625, -40.09375, -63.46875, -43.03125, 52.25, 106.53125, -50.28125, -333.375, -344.4375, -337.09375, -337.09375, -361.65625, -361.65625, -349.125, -349.125, -328.78125, -346.59375, -340.53125, -344.125, -344.125, -366.28125, -366.28125, -347.1875, -347.1875, -334.21875, -301.84375, -344.96875, -344.96875, -339.28125, -339.28125, -38.9375, -314.15625, -336.96875, -336.96875, -336.96875, -346.34375, -271.34375, -254.1875, -193.5, -339.21875, -154.625, -356.8125, -356.8125, -283.15625, -352.84375, -324.9375, -348.84375, -352.03125, -913.46875, -860.59375, -343.84375, -82.34375, -337.4375, -337.4375, -341.3125, 78.125, 78.125, -66.1875, -54.625, -58.46875, -167.625, -38.5, -135.28125, -893.71875, -30.90625, -178.375, -260.59375, -99.40625, -321.1875, -890.34375, -43.0625, -952.71875, -731.09375, 127.34375, -140.21875, -3.53125, -42.03125, -471.65625, -319.09375, -319.09375], \"z\": [-100.0625, 110.09375, 10.75, 72.46875, 72.46875, 24.1875, 90.59375, 85.65625, -81.34375, -22.21875, -4.59375, 119.1875, -25.03125, 2.09375, 109.53125, -26.71875, -23.21875, 22.125, 19.34375, -4.71875, -22.375, 32.65625, 28.21875, 19.75, 17.5625, -3.6875, 60.8125, 26.25, -22.5625, 94.5625, 55.09375, 166.8125, 105.0625, 107.71875, 94.1875, 112.84375, 120.84375, 21.28125, 26.1875, 23.53125, -75.625, 11.4375, 65.34375, 22.0, -3.71875, 55.65625, 29.6875, 77.46875, 81.09375, -63.375, 30.3125, -22.09375, 30.53125, -5.28125, -12.5625, 27.09375, -7.5, 48.75, 6.625, 11.8125, 31.1875, 26.78125, 6.75, -13.34375, 8.0, 48.09375, -26.46875, -19.21875, 0.59375, 2.28125, 2.34375, 76.34375, -10.21875, 76.78125, 1.3125, 115.15625, 43.9375, 139.375, -72.625, -17.21875, -17.5, 75.8125, -8.375, -120.8125, 75.0, -35.03125, 47.84375, 117.3125, 31.0625, 98.53125, -89.09375, 32.75, 25.28125, 2.65625, -13.8125, 56.46875, 16.90625, -28.09375, -18.59375, -27.25, -1.5, -1.28125, -101.15625, 0.0, 29.1875, 28.5625, -12.6875, 1.5, 102.375, 63.78125, 72.09375, 35.03125, 11.21875, 84.625, -144.09375, -147.34375, -148.3125, -148.3125, -159.9375, -159.9375, -158.6875, -158.6875, -143.96875, -152.40625, -149.625, -146.78125, -146.78125, -159.6875, -159.6875, -151.40625, -151.40625, -146.15625, -125.15625, -150.90625, -150.90625, -147.03125, -147.03125, -128.25, 7.3125, -145.09375, -145.09375, -145.09375, 10.5, -10.8125, -4.0625, -12.46875, 13.875, 13.3125, -165.59375, -165.59375, -129.53125, -157.9375, -144.9375, -172.9375, -156.3125, -216.75, -236.125, -150.21875, 151.65625, -156.6875, -156.6875, -143.5, -10.5625, -10.5625, 73.03125, 84.59375, 76.21875, -41.59375, 101.65625, -94.375, -218.5, -125.0625, -32.90625, -100.9375, 175.0, -148.71875, -221.71875, 55.6875, -219.28125, -224.375, -19.25, -27.59375, 33.09375, 69.5, -194.96875, -147.40625, -147.40625]}],\n",
              "                        {\"showlegend\": false, \"template\": {\"data\": {\"bar\": [{\"error_x\": {\"color\": \"#2a3f5f\"}, \"error_y\": {\"color\": \"#2a3f5f\"}, \"marker\": {\"line\": {\"color\": \"#E5ECF6\", \"width\": 0.5}}, \"type\": \"bar\"}], \"barpolar\": [{\"marker\": {\"line\": {\"color\": \"#E5ECF6\", \"width\": 0.5}}, \"type\": \"barpolar\"}], \"carpet\": [{\"aaxis\": {\"endlinecolor\": \"#2a3f5f\", \"gridcolor\": \"white\", \"linecolor\": \"white\", \"minorgridcolor\": \"white\", \"startlinecolor\": \"#2a3f5f\"}, \"baxis\": {\"endlinecolor\": \"#2a3f5f\", \"gridcolor\": \"white\", \"linecolor\": \"white\", \"minorgridcolor\": \"white\", \"startlinecolor\": \"#2a3f5f\"}, \"type\": \"carpet\"}], \"choropleth\": [{\"colorbar\": {\"outlinewidth\": 0, \"ticks\": \"\"}, \"type\": \"choropleth\"}], \"contour\": [{\"colorbar\": {\"outlinewidth\": 0, \"ticks\": \"\"}, \"colorscale\": [[0.0, \"#0d0887\"], [0.1111111111111111, \"#46039f\"], [0.2222222222222222, \"#7201a8\"], [0.3333333333333333, \"#9c179e\"], [0.4444444444444444, \"#bd3786\"], [0.5555555555555556, \"#d8576b\"], [0.6666666666666666, \"#ed7953\"], [0.7777777777777778, \"#fb9f3a\"], [0.8888888888888888, \"#fdca26\"], [1.0, \"#f0f921\"]], \"type\": \"contour\"}], \"contourcarpet\": [{\"colorbar\": {\"outlinewidth\": 0, \"ticks\": \"\"}, \"type\": \"contourcarpet\"}], \"heatmap\": [{\"colorbar\": {\"outlinewidth\": 0, \"ticks\": \"\"}, \"colorscale\": [[0.0, \"#0d0887\"], [0.1111111111111111, \"#46039f\"], [0.2222222222222222, \"#7201a8\"], [0.3333333333333333, \"#9c179e\"], [0.4444444444444444, \"#bd3786\"], [0.5555555555555556, \"#d8576b\"], [0.6666666666666666, \"#ed7953\"], [0.7777777777777778, \"#fb9f3a\"], [0.8888888888888888, \"#fdca26\"], [1.0, \"#f0f921\"]], \"type\": \"heatmap\"}], \"heatmapgl\": [{\"colorbar\": {\"outlinewidth\": 0, \"ticks\": \"\"}, \"colorscale\": [[0.0, \"#0d0887\"], [0.1111111111111111, \"#46039f\"], [0.2222222222222222, \"#7201a8\"], [0.3333333333333333, \"#9c179e\"], [0.4444444444444444, \"#bd3786\"], [0.5555555555555556, \"#d8576b\"], [0.6666666666666666, \"#ed7953\"], [0.7777777777777778, \"#fb9f3a\"], [0.8888888888888888, \"#fdca26\"], [1.0, \"#f0f921\"]], \"type\": \"heatmapgl\"}], \"histogram\": [{\"marker\": {\"colorbar\": {\"outlinewidth\": 0, \"ticks\": \"\"}}, \"type\": \"histogram\"}], \"histogram2d\": [{\"colorbar\": {\"outlinewidth\": 0, \"ticks\": \"\"}, \"colorscale\": [[0.0, \"#0d0887\"], [0.1111111111111111, \"#46039f\"], [0.2222222222222222, \"#7201a8\"], [0.3333333333333333, \"#9c179e\"], [0.4444444444444444, \"#bd3786\"], [0.5555555555555556, \"#d8576b\"], [0.6666666666666666, \"#ed7953\"], [0.7777777777777778, \"#fb9f3a\"], [0.8888888888888888, \"#fdca26\"], [1.0, \"#f0f921\"]], \"type\": \"histogram2d\"}], \"histogram2dcontour\": [{\"colorbar\": {\"outlinewidth\": 0, \"ticks\": \"\"}, \"colorscale\": [[0.0, \"#0d0887\"], [0.1111111111111111, \"#46039f\"], [0.2222222222222222, \"#7201a8\"], [0.3333333333333333, \"#9c179e\"], [0.4444444444444444, \"#bd3786\"], [0.5555555555555556, \"#d8576b\"], [0.6666666666666666, \"#ed7953\"], [0.7777777777777778, \"#fb9f3a\"], [0.8888888888888888, \"#fdca26\"], [1.0, \"#f0f921\"]], \"type\": \"histogram2dcontour\"}], \"mesh3d\": [{\"colorbar\": {\"outlinewidth\": 0, \"ticks\": \"\"}, \"type\": \"mesh3d\"}], \"parcoords\": [{\"line\": {\"colorbar\": {\"outlinewidth\": 0, \"ticks\": \"\"}}, \"type\": \"parcoords\"}], \"pie\": [{\"automargin\": true, \"type\": \"pie\"}], \"scatter\": [{\"marker\": {\"colorbar\": {\"outlinewidth\": 0, \"ticks\": \"\"}}, \"type\": \"scatter\"}], \"scatter3d\": [{\"line\": {\"colorbar\": {\"outlinewidth\": 0, \"ticks\": \"\"}}, \"marker\": {\"colorbar\": {\"outlinewidth\": 0, \"ticks\": \"\"}}, \"type\": \"scatter3d\"}], \"scattercarpet\": [{\"marker\": {\"colorbar\": {\"outlinewidth\": 0, \"ticks\": \"\"}}, \"type\": \"scattercarpet\"}], \"scattergeo\": [{\"marker\": {\"colorbar\": {\"outlinewidth\": 0, \"ticks\": \"\"}}, \"type\": \"scattergeo\"}], \"scattergl\": [{\"marker\": {\"colorbar\": {\"outlinewidth\": 0, \"ticks\": \"\"}}, \"type\": \"scattergl\"}], \"scattermapbox\": [{\"marker\": {\"colorbar\": {\"outlinewidth\": 0, \"ticks\": \"\"}}, \"type\": \"scattermapbox\"}], \"scatterpolar\": [{\"marker\": {\"colorbar\": {\"outlinewidth\": 0, \"ticks\": \"\"}}, \"type\": \"scatterpolar\"}], \"scatterpolargl\": [{\"marker\": {\"colorbar\": {\"outlinewidth\": 0, \"ticks\": \"\"}}, \"type\": \"scatterpolargl\"}], \"scatterternary\": [{\"marker\": {\"colorbar\": {\"outlinewidth\": 0, \"ticks\": \"\"}}, \"type\": \"scatterternary\"}], \"surface\": [{\"colorbar\": {\"outlinewidth\": 0, \"ticks\": \"\"}, \"colorscale\": [[0.0, \"#0d0887\"], [0.1111111111111111, \"#46039f\"], [0.2222222222222222, \"#7201a8\"], [0.3333333333333333, \"#9c179e\"], [0.4444444444444444, \"#bd3786\"], [0.5555555555555556, \"#d8576b\"], [0.6666666666666666, \"#ed7953\"], [0.7777777777777778, \"#fb9f3a\"], [0.8888888888888888, \"#fdca26\"], [1.0, \"#f0f921\"]], \"type\": \"surface\"}], \"table\": [{\"cells\": {\"fill\": {\"color\": \"#EBF0F8\"}, \"line\": {\"color\": \"white\"}}, \"header\": {\"fill\": {\"color\": \"#C8D4E3\"}, \"line\": {\"color\": \"white\"}}, \"type\": \"table\"}]}, \"layout\": {\"annotationdefaults\": {\"arrowcolor\": \"#2a3f5f\", \"arrowhead\": 0, \"arrowwidth\": 1}, \"coloraxis\": {\"colorbar\": {\"outlinewidth\": 0, \"ticks\": \"\"}}, \"colorscale\": {\"diverging\": [[0, \"#8e0152\"], [0.1, \"#c51b7d\"], [0.2, \"#de77ae\"], [0.3, \"#f1b6da\"], [0.4, \"#fde0ef\"], [0.5, \"#f7f7f7\"], [0.6, \"#e6f5d0\"], [0.7, \"#b8e186\"], [0.8, \"#7fbc41\"], [0.9, \"#4d9221\"], [1, \"#276419\"]], \"sequential\": [[0.0, \"#0d0887\"], [0.1111111111111111, \"#46039f\"], [0.2222222222222222, \"#7201a8\"], [0.3333333333333333, \"#9c179e\"], [0.4444444444444444, \"#bd3786\"], [0.5555555555555556, \"#d8576b\"], [0.6666666666666666, \"#ed7953\"], [0.7777777777777778, \"#fb9f3a\"], [0.8888888888888888, \"#fdca26\"], [1.0, \"#f0f921\"]], \"sequentialminus\": [[0.0, \"#0d0887\"], [0.1111111111111111, \"#46039f\"], [0.2222222222222222, \"#7201a8\"], [0.3333333333333333, \"#9c179e\"], [0.4444444444444444, \"#bd3786\"], [0.5555555555555556, \"#d8576b\"], [0.6666666666666666, \"#ed7953\"], [0.7777777777777778, \"#fb9f3a\"], [0.8888888888888888, \"#fdca26\"], [1.0, \"#f0f921\"]]}, \"colorway\": [\"#636efa\", \"#EF553B\", \"#00cc96\", \"#ab63fa\", \"#FFA15A\", \"#19d3f3\", \"#FF6692\", \"#B6E880\", \"#FF97FF\", \"#FECB52\"], \"font\": {\"color\": \"#2a3f5f\"}, \"geo\": {\"bgcolor\": \"white\", \"lakecolor\": \"white\", \"landcolor\": \"#E5ECF6\", \"showlakes\": true, \"showland\": true, \"subunitcolor\": \"white\"}, \"hoverlabel\": {\"align\": \"left\"}, \"hovermode\": \"closest\", \"mapbox\": {\"style\": \"light\"}, \"paper_bgcolor\": \"white\", \"plot_bgcolor\": \"#E5ECF6\", \"polar\": {\"angularaxis\": {\"gridcolor\": \"white\", \"linecolor\": \"white\", \"ticks\": \"\"}, \"bgcolor\": \"#E5ECF6\", \"radialaxis\": {\"gridcolor\": \"white\", \"linecolor\": \"white\", \"ticks\": \"\"}}, \"scene\": {\"xaxis\": {\"backgroundcolor\": \"#E5ECF6\", \"gridcolor\": \"white\", \"gridwidth\": 2, \"linecolor\": \"white\", \"showbackground\": true, \"ticks\": \"\", \"zerolinecolor\": \"white\"}, \"yaxis\": {\"backgroundcolor\": \"#E5ECF6\", \"gridcolor\": \"white\", \"gridwidth\": 2, \"linecolor\": \"white\", \"showbackground\": true, \"ticks\": \"\", \"zerolinecolor\": \"white\"}, \"zaxis\": {\"backgroundcolor\": \"#E5ECF6\", \"gridcolor\": \"white\", \"gridwidth\": 2, \"linecolor\": \"white\", \"showbackground\": true, \"ticks\": \"\", \"zerolinecolor\": \"white\"}}, \"shapedefaults\": {\"line\": {\"color\": \"#2a3f5f\"}}, \"ternary\": {\"aaxis\": {\"gridcolor\": \"white\", \"linecolor\": \"white\", \"ticks\": \"\"}, \"baxis\": {\"gridcolor\": \"white\", \"linecolor\": \"white\", \"ticks\": \"\"}, \"bgcolor\": \"#E5ECF6\", \"caxis\": {\"gridcolor\": \"white\", \"linecolor\": \"white\", \"ticks\": \"\"}}, \"title\": {\"x\": 0.05}, \"xaxis\": {\"automargin\": true, \"gridcolor\": \"white\", \"linecolor\": \"white\", \"ticks\": \"\", \"title\": {\"standoff\": 15}, \"zerolinecolor\": \"white\", \"zerolinewidth\": 2}, \"yaxis\": {\"automargin\": true, \"gridcolor\": \"white\", \"linecolor\": \"white\", \"ticks\": \"\", \"title\": {\"standoff\": 15}, \"zerolinecolor\": \"white\", \"zerolinewidth\": 2}}}, \"title\": {\"text\": \"Club Regions\"}},\n",
              "                        {\"responsive\": true}\n",
              "                    ).then(function(){\n",
              "                            \n",
              "var gd = document.getElementById('6c99867c-29db-45b3-9649-b53cf6b5ea55');\n",
              "var x = new MutationObserver(function (mutations, observer) {{\n",
              "        var display = window.getComputedStyle(gd).display;\n",
              "        if (!display || display === 'none') {{\n",
              "            console.log([gd, 'removed!']);\n",
              "            Plotly.purge(gd);\n",
              "            observer.disconnect();\n",
              "        }}\n",
              "}});\n",
              "\n",
              "// Listen for the removal of the full notebook cells\n",
              "var notebookContainer = gd.closest('#notebook-container');\n",
              "if (notebookContainer) {{\n",
              "    x.observe(notebookContainer, {childList: true});\n",
              "}}\n",
              "\n",
              "// Listen for the clearing of the current output cell\n",
              "var outputEl = gd.closest('.output');\n",
              "if (outputEl) {{\n",
              "    x.observe(outputEl, {childList: true});\n",
              "}}\n",
              "\n",
              "                        })\n",
              "                };\n",
              "                \n",
              "            </script>\n",
              "        </div>\n",
              "</body>\n",
              "</html>"
            ]
          },
          "metadata": {
            "tags": []
          }
        }
      ]
    }
  ]
}