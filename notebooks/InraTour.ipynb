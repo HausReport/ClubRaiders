{
  "nbformat": 4,
  "nbformat_minor": 0,
  "metadata": {
    "colab": {
      "name": "Untitled9.ipynb",
      "provenance": [],
      "collapsed_sections": [],
      "authorship_tag": "ABX9TyMIunn7fZsDOgdWT/B17+PN",
      "include_colab_link": true
    },
    "kernelspec": {
      "name": "python3",
      "display_name": "Python 3"
    }
  },
  "cells": [
    {
      "cell_type": "markdown",
      "metadata": {
        "id": "view-in-github",
        "colab_type": "text"
      },
      "source": [
        "<a href=\"https://colab.research.google.com/github/HausReport/ClubRaiders/blob/master/notebooks/InraTour.ipynb\" target=\"_parent\"><img src=\"https://colab.research.google.com/assets/colab-badge.svg\" alt=\"Open In Colab\"/></a>"
      ]
    },
    {
      "cell_type": "code",
      "metadata": {
        "id": "_AxrqoQ_yZKf",
        "colab_type": "code",
        "colab": {}
      },
      "source": [
        "import itertools\n",
        "import math\n",
        "import plotly.express as px\n",
        "import pandas as pd\n",
        "import plotly.graph_objects as go"
      ],
      "execution_count": 1,
      "outputs": []
    },
    {
      "cell_type": "code",
      "metadata": {
        "id": "XlYlfhw60Iuf",
        "colab_type": "code",
        "colab": {}
      },
      "source": [
        "home = ['Pleione', (-77 , -146.78125 , -344.125)]"
      ],
      "execution_count": 2,
      "outputs": []
    },
    {
      "cell_type": "code",
      "metadata": {
        "id": "PHU3YxLv0X2S",
        "colab_type": "code",
        "colab": {}
      },
      "source": [
        "points = [    ['12 Trianguli',  (-77.15625 , -76.8125 , -120.6875)],    #0\n",
        "              ['HIP 12099',     (-101.90625 , -95.46875 , -165.59375)], #1\n",
        "              ['HIP 16824',     (-49.21875 , -89.375 , -187.1875)],     #2\n",
        "              ['HIP 15329',     (-87.84375 , -52 , -167.375)],          #3\n",
        "              ['Alnath',        (-3.875 , -7.375 , -133.65625)],        #4\n",
        "              ['HIP 7158',      (-3.78125 , -143.84375 , -33.8125)],    #5\n",
        "              ['HIP 59382',     (19.03125 , 130.09375 , -11.59375)],    #6\n",
        "              ['Conn',          (-36.59375 , -9.1875 , -20.5)],         #7\n",
        "              ['Hermitage',     (-28.75 , 25 , 10.4375)],               #8\n",
        "              ['LP 389-95',     (98.84375 , 7 , -7.71875)],             #9\n",
        "          ]"
      ],
      "execution_count": 3,
      "outputs": []
    },
    {
      "cell_type": "code",
      "metadata": {
        "id": "h3buXCGh1nSn",
        "colab_type": "code",
        "colab": {}
      },
      "source": [
        "sequence = [4, 9, 6, 8, 7, 5, 0, 3, 1, 2] #list(range( 0,len(points)))"
      ],
      "execution_count": 4,
      "outputs": []
    },
    {
      "cell_type": "code",
      "metadata": {
        "id": "nmRcrPdG6bMV",
        "colab_type": "code",
        "colab": {}
      },
      "source": [
        "\n",
        "def metric_dist( pt1, pt2):\n",
        "  d = 0.0\n",
        "  d += (pt1[0] - pt2[0]) **2\n",
        "  d += (pt1[1] - pt2[1]) **2\n",
        "  d += (pt1[2] - pt2[2]) **2\n",
        "  d = math.sqrt(d)\n",
        "  return d\n",
        "\n",
        "def dist( pt1, pt2):\n",
        "  d = metric_dist(pt1, pt2)\n",
        "  return d                   #cartesian metric\n",
        "  #return math.ceil(d/74)    #jump metric\n",
        "\n",
        "\n",
        "def score(sequence):\n",
        "  d = 0.0\n",
        "  slen = len(sequence)\n",
        "  d+=  dist( home[1], points[sequence[0]][1])\n",
        "  for i in range(0, slen-1):\n",
        "    d+= dist( points[sequence[i]][1], points[sequence[i+1]][1])\n",
        "\n",
        "  d+= dist( home[1], points[sequence[-1]][1])\n",
        "  return d\n",
        "\n",
        "def search_for_best(samples):\n",
        "  i = 0\n",
        "\n",
        "  slen = len(sequence)\n",
        "  perms = math.factorial(slen)\n",
        "  step = math.floor(perms/samples)\n",
        "\n",
        "  print(f\"Searching {samples} solutions of {perms} with step of {step}\")\n",
        "\n",
        "  best = sequence\n",
        "  bestScore = score(sequence)\n",
        "  for cur in itertools.permutations(sequence):\n",
        "   if i % step == 0:\n",
        "    if i % (100 * step) == 0:\n",
        "      print(\".\")\n",
        "    else:\n",
        "      print(\".\", end='')\n",
        "\n",
        "    sco = score(cur)\n",
        "    if sco< bestScore:\n",
        "      best = cur\n",
        "      bestScore = sco\n",
        "   i = i + 1\n",
        "\n",
        "  print(\"\")\n",
        "  print(str(bestScore))\n",
        "  print(best)\n",
        "  return best"
      ],
      "execution_count": 56,
      "outputs": []
    },
    {
      "cell_type": "markdown",
      "metadata": {
        "id": "_57lXKzSCCCF",
        "colab_type": "text"
      },
      "source": [
        "1334.5975515058062\n",
        "(4, 9, 6, 8, 7, 5, 0, 3, 1, 2)"
      ]
    },
    {
      "cell_type": "code",
      "metadata": {
        "id": "FGx3WogMGtIA",
        "colab_type": "code",
        "colab": {}
      },
      "source": [
        "def makeFrame( seq ):\n",
        "  names = []\n",
        "  xs = []\n",
        "  ys = []\n",
        "  zs = []\n",
        "\n",
        "  # From home to 0th point\n",
        "  names.append( home[0])\n",
        "  xs.append( home[1][0])\n",
        "  ys.append( home[1][1])\n",
        "  zs.append( home[1][2])\n",
        "\n",
        "  # From 0th point to last point\n",
        "  for i in range(0, len(seq)):\n",
        "    thePoint = points[seq[i]]\n",
        "    names.append( thePoint[0])\n",
        "    xs.append( thePoint[1][0])\n",
        "    ys.append( thePoint[1][1])\n",
        "    zs.append( thePoint[1][2])\n",
        "\n",
        "  # From last point back to home\n",
        "  names.append( home[0])\n",
        "  xs.append( home[1][0])\n",
        "  ys.append( home[1][1])\n",
        "  zs.append( home[1][2])\n",
        "\n",
        "  data = { 'names': names, 'xs':xs, 'ys':ys, 'zs':zs} #, 'dists': dists }\n",
        "  return pd.DataFrame( data)"
      ],
      "execution_count": 66,
      "outputs": []
    },
    {
      "cell_type": "code",
      "metadata": {
        "id": "BKDbe0CTCHUe",
        "colab_type": "code",
        "colab": {}
      },
      "source": [
        "def getScene():\n",
        "        return dict(\n",
        "            xaxis=dict(\n",
        "                backgroundcolor=\"rgb(0,0,0)\",\n",
        "                gridcolor=\"grey\",\n",
        "                showbackground=False,\n",
        "                zerolinecolor=\"white\", ),\n",
        "            yaxis=dict(\n",
        "                backgroundcolor=\"rgb(0,0,0)\",\n",
        "                gridcolor=\"grey\",\n",
        "                showbackground=False,\n",
        "                zerolinecolor=\"white\", ),\n",
        "            zaxis=dict(\n",
        "                backgroundcolor=\"rgb(0,0,0)\",\n",
        "                gridcolor=\"grey\",\n",
        "                showbackground=False,\n",
        "                zerolinecolor=\"white\", ),\n",
        "            aspectratio=dict(x=1, y=1, z=0.7),\n",
        "            aspectmode=\"manual\"\n",
        ")\n",
        "        \n",
        "def getLayout(theTitle):\n",
        "        return go.Layout(title=theTitle,\n",
        "                         scene=getScene(),\n",
        "                         width=500,\n",
        "                         height=350,\n",
        "                         autosize=False,\n",
        "                         paper_bgcolor='rgb(0,0,0)',\n",
        "                         plot_bgcolor='rgb(0,0,0)',\n",
        "                         clickmode='event+select',\n",
        "                         font=dict(\n",
        "                             family=\"Courier New, monospace\",\n",
        "                             size=12,\n",
        "                             color=\"#ffffff\"),\n",
        "                         margin=dict(t=25, b=0, l=0, r=0),\n",
        ")"
      ],
      "execution_count": 12,
      "outputs": []
    },
    {
      "cell_type": "code",
      "metadata": {
        "id": "E68k633vKKR9",
        "colab_type": "code",
        "colab": {
          "base_uri": "https://localhost:8080/",
          "height": 877
        },
        "outputId": "f165e07e-14f4-45b3-c163-a313f885666e"
      },
      "source": [
        "goodSeq = search_for_best(1000)\n",
        "df = makeFrame(goodSeq)\n",
        "\n",
        "fig = go.Figure(data=[go.Scatter3d(\n",
        "    x=df['xs'],\n",
        "    y=df['ys'],\n",
        "    z=df['zs'],\n",
        "    text=df['names'],\n",
        "    mode='markers+lines+text'\n",
        "    )],\n",
        "    )\n",
        "\n",
        "fig.update_layout( getLayout(\"INRA Route\") )\n",
        "fig.show()\n",
        "\n",
        "df['dists'] = 0\n",
        "df['dists'] = (df['xs'] - df['xs'].shift(-1)) ** 2\n",
        "df['dists'] += (df['ys'] - df['ys'].shift(-1)) ** 2\n",
        "df['dists'] += (df['zs'] - df['zs'].shift(-1)) ** 2\n",
        "df['dists'] = df['dists']**(1/2)\n",
        "\n",
        "df = df.round(1)\n",
        "print(df.to_markdown())\n",
        "tot = df['dists'].sum().round()\n",
        "print(f\"Total distance: {tot} ly.\")"
      ],
      "execution_count": 67,
      "outputs": [
        {
          "output_type": "stream",
          "text": [
            "Searching 1000 solutions of 3628800 with step of 3628\n",
            ".\n",
            "....................................................................................................\n",
            "....................................................................................................\n",
            "....................................................................................................\n",
            "....................................................................................................\n",
            "....................................................................................................\n",
            "....................................................................................................\n",
            "....................................................................................................\n",
            "....................................................................................................\n",
            "....................................................................................................\n",
            "....................................................................................................\n",
            "\n",
            "1334.5975515058062\n",
            "[4, 9, 6, 8, 7, 5, 0, 3, 1, 2]\n"
          ],
          "name": "stdout"
        },
        {
          "output_type": "display_data",
          "data": {
            "text/html": [
              "<html>\n",
              "<head><meta charset=\"utf-8\" /></head>\n",
              "<body>\n",
              "    <div>\n",
              "            <script src=\"https://cdnjs.cloudflare.com/ajax/libs/mathjax/2.7.5/MathJax.js?config=TeX-AMS-MML_SVG\"></script><script type=\"text/javascript\">if (window.MathJax) {MathJax.Hub.Config({SVG: {font: \"STIX-Web\"}});}</script>\n",
              "                <script type=\"text/javascript\">window.PlotlyConfig = {MathJaxConfig: 'local'};</script>\n",
              "        <script src=\"https://cdn.plot.ly/plotly-latest.min.js\"></script>    \n",
              "            <div id=\"bba40561-6758-48b9-ab3c-6881920c3e46\" class=\"plotly-graph-div\" style=\"height:350px; width:500px;\"></div>\n",
              "            <script type=\"text/javascript\">\n",
              "                \n",
              "                    window.PLOTLYENV=window.PLOTLYENV || {};\n",
              "                    \n",
              "                if (document.getElementById(\"bba40561-6758-48b9-ab3c-6881920c3e46\")) {\n",
              "                    Plotly.newPlot(\n",
              "                        'bba40561-6758-48b9-ab3c-6881920c3e46',\n",
              "                        [{\"mode\": \"markers+lines+text\", \"text\": [\"Pleione\", \"Alnath\", \"LP 389-95\", \"HIP 59382\", \"Hermitage\", \"Conn\", \"HIP 7158\", \"12 Trianguli\", \"HIP 15329\", \"HIP 12099\", \"HIP 16824\", \"Pleione\"], \"type\": \"scatter3d\", \"x\": [-77.0, -3.875, 98.84375, 19.03125, -28.75, -36.59375, -3.78125, -77.15625, -87.84375, -101.90625, -49.21875, -77.0], \"y\": [-146.78125, -7.375, 7.0, 130.09375, 25.0, -9.1875, -143.84375, -76.8125, -52.0, -95.46875, -89.375, -146.78125], \"z\": [-344.125, -133.65625, -7.71875, -11.59375, 10.4375, -20.5, -33.8125, -120.6875, -167.375, -165.59375, -187.1875, -344.125]}],\n",
              "                        {\"autosize\": false, \"clickmode\": \"event+select\", \"font\": {\"color\": \"#ffffff\", \"family\": \"Courier New, monospace\", \"size\": 12}, \"height\": 350, \"margin\": {\"b\": 0, \"l\": 0, \"r\": 0, \"t\": 25}, \"paper_bgcolor\": \"rgb(0,0,0)\", \"plot_bgcolor\": \"rgb(0,0,0)\", \"scene\": {\"aspectmode\": \"manual\", \"aspectratio\": {\"x\": 1, \"y\": 1, \"z\": 0.7}, \"xaxis\": {\"backgroundcolor\": \"rgb(0,0,0)\", \"gridcolor\": \"grey\", \"showbackground\": false, \"zerolinecolor\": \"white\"}, \"yaxis\": {\"backgroundcolor\": \"rgb(0,0,0)\", \"gridcolor\": \"grey\", \"showbackground\": false, \"zerolinecolor\": \"white\"}, \"zaxis\": {\"backgroundcolor\": \"rgb(0,0,0)\", \"gridcolor\": \"grey\", \"showbackground\": false, \"zerolinecolor\": \"white\"}}, \"template\": {\"data\": {\"bar\": [{\"error_x\": {\"color\": \"#2a3f5f\"}, \"error_y\": {\"color\": \"#2a3f5f\"}, \"marker\": {\"line\": {\"color\": \"#E5ECF6\", \"width\": 0.5}}, \"type\": \"bar\"}], \"barpolar\": [{\"marker\": {\"line\": {\"color\": \"#E5ECF6\", \"width\": 0.5}}, \"type\": \"barpolar\"}], \"carpet\": [{\"aaxis\": {\"endlinecolor\": \"#2a3f5f\", \"gridcolor\": \"white\", \"linecolor\": \"white\", \"minorgridcolor\": \"white\", \"startlinecolor\": \"#2a3f5f\"}, \"baxis\": {\"endlinecolor\": \"#2a3f5f\", \"gridcolor\": \"white\", \"linecolor\": \"white\", \"minorgridcolor\": \"white\", \"startlinecolor\": \"#2a3f5f\"}, \"type\": \"carpet\"}], \"choropleth\": [{\"colorbar\": {\"outlinewidth\": 0, \"ticks\": \"\"}, \"type\": \"choropleth\"}], \"contour\": [{\"colorbar\": {\"outlinewidth\": 0, \"ticks\": \"\"}, \"colorscale\": [[0.0, \"#0d0887\"], [0.1111111111111111, \"#46039f\"], [0.2222222222222222, \"#7201a8\"], [0.3333333333333333, \"#9c179e\"], [0.4444444444444444, \"#bd3786\"], [0.5555555555555556, \"#d8576b\"], [0.6666666666666666, \"#ed7953\"], [0.7777777777777778, \"#fb9f3a\"], [0.8888888888888888, \"#fdca26\"], [1.0, \"#f0f921\"]], \"type\": \"contour\"}], \"contourcarpet\": [{\"colorbar\": {\"outlinewidth\": 0, \"ticks\": \"\"}, \"type\": \"contourcarpet\"}], \"heatmap\": [{\"colorbar\": {\"outlinewidth\": 0, \"ticks\": \"\"}, \"colorscale\": [[0.0, \"#0d0887\"], [0.1111111111111111, \"#46039f\"], [0.2222222222222222, \"#7201a8\"], [0.3333333333333333, \"#9c179e\"], [0.4444444444444444, \"#bd3786\"], [0.5555555555555556, \"#d8576b\"], [0.6666666666666666, \"#ed7953\"], [0.7777777777777778, \"#fb9f3a\"], [0.8888888888888888, \"#fdca26\"], [1.0, \"#f0f921\"]], \"type\": \"heatmap\"}], \"heatmapgl\": [{\"colorbar\": {\"outlinewidth\": 0, \"ticks\": \"\"}, \"colorscale\": [[0.0, \"#0d0887\"], [0.1111111111111111, \"#46039f\"], [0.2222222222222222, \"#7201a8\"], [0.3333333333333333, \"#9c179e\"], [0.4444444444444444, \"#bd3786\"], [0.5555555555555556, \"#d8576b\"], [0.6666666666666666, \"#ed7953\"], [0.7777777777777778, \"#fb9f3a\"], [0.8888888888888888, \"#fdca26\"], [1.0, \"#f0f921\"]], \"type\": \"heatmapgl\"}], \"histogram\": [{\"marker\": {\"colorbar\": {\"outlinewidth\": 0, \"ticks\": \"\"}}, \"type\": \"histogram\"}], \"histogram2d\": [{\"colorbar\": {\"outlinewidth\": 0, \"ticks\": \"\"}, \"colorscale\": [[0.0, \"#0d0887\"], [0.1111111111111111, \"#46039f\"], [0.2222222222222222, \"#7201a8\"], [0.3333333333333333, \"#9c179e\"], [0.4444444444444444, \"#bd3786\"], [0.5555555555555556, \"#d8576b\"], [0.6666666666666666, \"#ed7953\"], [0.7777777777777778, \"#fb9f3a\"], [0.8888888888888888, \"#fdca26\"], [1.0, \"#f0f921\"]], \"type\": \"histogram2d\"}], \"histogram2dcontour\": [{\"colorbar\": {\"outlinewidth\": 0, \"ticks\": \"\"}, \"colorscale\": [[0.0, \"#0d0887\"], [0.1111111111111111, \"#46039f\"], [0.2222222222222222, \"#7201a8\"], [0.3333333333333333, \"#9c179e\"], [0.4444444444444444, \"#bd3786\"], [0.5555555555555556, \"#d8576b\"], [0.6666666666666666, \"#ed7953\"], [0.7777777777777778, \"#fb9f3a\"], [0.8888888888888888, \"#fdca26\"], [1.0, \"#f0f921\"]], \"type\": \"histogram2dcontour\"}], \"mesh3d\": [{\"colorbar\": {\"outlinewidth\": 0, \"ticks\": \"\"}, \"type\": \"mesh3d\"}], \"parcoords\": [{\"line\": {\"colorbar\": {\"outlinewidth\": 0, \"ticks\": \"\"}}, \"type\": \"parcoords\"}], \"pie\": [{\"automargin\": true, \"type\": \"pie\"}], \"scatter\": [{\"marker\": {\"colorbar\": {\"outlinewidth\": 0, \"ticks\": \"\"}}, \"type\": \"scatter\"}], \"scatter3d\": [{\"line\": {\"colorbar\": {\"outlinewidth\": 0, \"ticks\": \"\"}}, \"marker\": {\"colorbar\": {\"outlinewidth\": 0, \"ticks\": \"\"}}, \"type\": \"scatter3d\"}], \"scattercarpet\": [{\"marker\": {\"colorbar\": {\"outlinewidth\": 0, \"ticks\": \"\"}}, \"type\": \"scattercarpet\"}], \"scattergeo\": [{\"marker\": {\"colorbar\": {\"outlinewidth\": 0, \"ticks\": \"\"}}, \"type\": \"scattergeo\"}], \"scattergl\": [{\"marker\": {\"colorbar\": {\"outlinewidth\": 0, \"ticks\": \"\"}}, \"type\": \"scattergl\"}], \"scattermapbox\": [{\"marker\": {\"colorbar\": {\"outlinewidth\": 0, \"ticks\": \"\"}}, \"type\": \"scattermapbox\"}], \"scatterpolar\": [{\"marker\": {\"colorbar\": {\"outlinewidth\": 0, \"ticks\": \"\"}}, \"type\": \"scatterpolar\"}], \"scatterpolargl\": [{\"marker\": {\"colorbar\": {\"outlinewidth\": 0, \"ticks\": \"\"}}, \"type\": \"scatterpolargl\"}], \"scatterternary\": [{\"marker\": {\"colorbar\": {\"outlinewidth\": 0, \"ticks\": \"\"}}, \"type\": \"scatterternary\"}], \"surface\": [{\"colorbar\": {\"outlinewidth\": 0, \"ticks\": \"\"}, \"colorscale\": [[0.0, \"#0d0887\"], [0.1111111111111111, \"#46039f\"], [0.2222222222222222, \"#7201a8\"], [0.3333333333333333, \"#9c179e\"], [0.4444444444444444, \"#bd3786\"], [0.5555555555555556, \"#d8576b\"], [0.6666666666666666, \"#ed7953\"], [0.7777777777777778, \"#fb9f3a\"], [0.8888888888888888, \"#fdca26\"], [1.0, \"#f0f921\"]], \"type\": \"surface\"}], \"table\": [{\"cells\": {\"fill\": {\"color\": \"#EBF0F8\"}, \"line\": {\"color\": \"white\"}}, \"header\": {\"fill\": {\"color\": \"#C8D4E3\"}, \"line\": {\"color\": \"white\"}}, \"type\": \"table\"}]}, \"layout\": {\"annotationdefaults\": {\"arrowcolor\": \"#2a3f5f\", \"arrowhead\": 0, \"arrowwidth\": 1}, \"coloraxis\": {\"colorbar\": {\"outlinewidth\": 0, \"ticks\": \"\"}}, \"colorscale\": {\"diverging\": [[0, \"#8e0152\"], [0.1, \"#c51b7d\"], [0.2, \"#de77ae\"], [0.3, \"#f1b6da\"], [0.4, \"#fde0ef\"], [0.5, \"#f7f7f7\"], [0.6, \"#e6f5d0\"], [0.7, \"#b8e186\"], [0.8, \"#7fbc41\"], [0.9, \"#4d9221\"], [1, \"#276419\"]], \"sequential\": [[0.0, \"#0d0887\"], [0.1111111111111111, \"#46039f\"], [0.2222222222222222, \"#7201a8\"], [0.3333333333333333, \"#9c179e\"], [0.4444444444444444, \"#bd3786\"], [0.5555555555555556, \"#d8576b\"], [0.6666666666666666, \"#ed7953\"], [0.7777777777777778, \"#fb9f3a\"], [0.8888888888888888, \"#fdca26\"], [1.0, \"#f0f921\"]], \"sequentialminus\": [[0.0, \"#0d0887\"], [0.1111111111111111, \"#46039f\"], [0.2222222222222222, \"#7201a8\"], [0.3333333333333333, \"#9c179e\"], [0.4444444444444444, \"#bd3786\"], [0.5555555555555556, \"#d8576b\"], [0.6666666666666666, \"#ed7953\"], [0.7777777777777778, \"#fb9f3a\"], [0.8888888888888888, \"#fdca26\"], [1.0, \"#f0f921\"]]}, \"colorway\": [\"#636efa\", \"#EF553B\", \"#00cc96\", \"#ab63fa\", \"#FFA15A\", \"#19d3f3\", \"#FF6692\", \"#B6E880\", \"#FF97FF\", \"#FECB52\"], \"font\": {\"color\": \"#2a3f5f\"}, \"geo\": {\"bgcolor\": \"white\", \"lakecolor\": \"white\", \"landcolor\": \"#E5ECF6\", \"showlakes\": true, \"showland\": true, \"subunitcolor\": \"white\"}, \"hoverlabel\": {\"align\": \"left\"}, \"hovermode\": \"closest\", \"mapbox\": {\"style\": \"light\"}, \"paper_bgcolor\": \"white\", \"plot_bgcolor\": \"#E5ECF6\", \"polar\": {\"angularaxis\": {\"gridcolor\": \"white\", \"linecolor\": \"white\", \"ticks\": \"\"}, \"bgcolor\": \"#E5ECF6\", \"radialaxis\": {\"gridcolor\": \"white\", \"linecolor\": \"white\", \"ticks\": \"\"}}, \"scene\": {\"xaxis\": {\"backgroundcolor\": \"#E5ECF6\", \"gridcolor\": \"white\", \"gridwidth\": 2, \"linecolor\": \"white\", \"showbackground\": true, \"ticks\": \"\", \"zerolinecolor\": \"white\"}, \"yaxis\": {\"backgroundcolor\": \"#E5ECF6\", \"gridcolor\": \"white\", \"gridwidth\": 2, \"linecolor\": \"white\", \"showbackground\": true, \"ticks\": \"\", \"zerolinecolor\": \"white\"}, \"zaxis\": {\"backgroundcolor\": \"#E5ECF6\", \"gridcolor\": \"white\", \"gridwidth\": 2, \"linecolor\": \"white\", \"showbackground\": true, \"ticks\": \"\", \"zerolinecolor\": \"white\"}}, \"shapedefaults\": {\"line\": {\"color\": \"#2a3f5f\"}}, \"ternary\": {\"aaxis\": {\"gridcolor\": \"white\", \"linecolor\": \"white\", \"ticks\": \"\"}, \"baxis\": {\"gridcolor\": \"white\", \"linecolor\": \"white\", \"ticks\": \"\"}, \"bgcolor\": \"#E5ECF6\", \"caxis\": {\"gridcolor\": \"white\", \"linecolor\": \"white\", \"ticks\": \"\"}}, \"title\": {\"x\": 0.05}, \"xaxis\": {\"automargin\": true, \"gridcolor\": \"white\", \"linecolor\": \"white\", \"ticks\": \"\", \"title\": {\"standoff\": 15}, \"zerolinecolor\": \"white\", \"zerolinewidth\": 2}, \"yaxis\": {\"automargin\": true, \"gridcolor\": \"white\", \"linecolor\": \"white\", \"ticks\": \"\", \"title\": {\"standoff\": 15}, \"zerolinecolor\": \"white\", \"zerolinewidth\": 2}}}, \"title\": {\"text\": \"INRA Route\"}, \"width\": 500},\n",
              "                        {\"responsive\": true}\n",
              "                    ).then(function(){\n",
              "                            \n",
              "var gd = document.getElementById('bba40561-6758-48b9-ab3c-6881920c3e46');\n",
              "var x = new MutationObserver(function (mutations, observer) {{\n",
              "        var display = window.getComputedStyle(gd).display;\n",
              "        if (!display || display === 'none') {{\n",
              "            console.log([gd, 'removed!']);\n",
              "            Plotly.purge(gd);\n",
              "            observer.disconnect();\n",
              "        }}\n",
              "}});\n",
              "\n",
              "// Listen for the removal of the full notebook cells\n",
              "var notebookContainer = gd.closest('#notebook-container');\n",
              "if (notebookContainer) {{\n",
              "    x.observe(notebookContainer, {childList: true});\n",
              "}}\n",
              "\n",
              "// Listen for the clearing of the current output cell\n",
              "var outputEl = gd.closest('.output');\n",
              "if (outputEl) {{\n",
              "    x.observe(outputEl, {childList: true});\n",
              "}}\n",
              "\n",
              "                        })\n",
              "                };\n",
              "                \n",
              "            </script>\n",
              "        </div>\n",
              "</body>\n",
              "</html>"
            ]
          },
          "metadata": {
            "tags": []
          }
        },
        {
          "output_type": "stream",
          "text": [
            "|    | names        |     xs |     ys |     zs |   dists |\n",
            "|---:|:-------------|-------:|-------:|-------:|--------:|\n",
            "|  0 | Pleione      |  -77   | -146.8 | -344.1 |   262.8 |\n",
            "|  1 | Alnath       |   -3.9 |   -7.4 | -133.7 |   163.2 |\n",
            "|  2 | LP 389-95    |   98.8 |    7   |   -7.7 |   146.8 |\n",
            "|  3 | HIP 59382    |   19   |  130.1 |  -11.6 |   117.5 |\n",
            "|  4 | Hermitage    |  -28.8 |   25   |   10.4 |    46.8 |\n",
            "|  5 | Conn         |  -36.6 |   -9.2 |  -20.5 |   139.2 |\n",
            "|  6 | HIP 7158     |   -3.8 | -143.8 |  -33.8 |   132   |\n",
            "|  7 | 12 Trianguli |  -77.2 |  -76.8 | -120.7 |    53.9 |\n",
            "|  8 | HIP 15329    |  -87.8 |  -52   | -167.4 |    45.7 |\n",
            "|  9 | HIP 12099    | -101.9 |  -95.5 | -165.6 |    57.3 |\n",
            "| 10 | HIP 16824    |  -49.2 |  -89.4 | -187.2 |   169.4 |\n",
            "| 11 | Pleione      |  -77   | -146.8 | -344.1 |   nan   |\n",
            "Total distance: 1335.0 ly.\n"
          ],
          "name": "stdout"
        }
      ]
    }
  ]
}