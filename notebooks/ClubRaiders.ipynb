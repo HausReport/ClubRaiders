{
  "nbformat": 4,
  "nbformat_minor": 0,
  "metadata": {
    "colab": {
      "name": "Untitled0.ipynb",
      "provenance": [],
      "collapsed_sections": [],
      "toc_visible": true,
      "authorship_tag": "ABX9TyM+iT9kAdRRJlmMkqen1iDX",
      "include_colab_link": true
    },
    "kernelspec": {
      "name": "python3",
      "display_name": "Python 3"
    }
  },
  "cells": [
    {
      "cell_type": "markdown",
      "metadata": {
        "id": "view-in-github",
        "colab_type": "text"
      },
      "source": [
        "<a href=\"https://colab.research.google.com/github/HausReport/ClubRaiders/blob/master/ClubRaiders.ipynb\" target=\"_parent\"><img src=\"https://colab.research.google.com/assets/colab-badge.svg\" alt=\"Open In Colab\"/></a>"
      ]
    },
    {
      "cell_type": "markdown",
      "metadata": {
        "id": "Y68y6PeOs7sY",
        "colab_type": "text"
      },
      "source": [
        "![banner](https://raw.githubusercontent.com/HausReport/ClubRaiders/master/info/wordcloud2.png)"
      ]
    },
    {
      "cell_type": "markdown",
      "metadata": {
        "id": "_4QfAHMPrUA7",
        "colab_type": "text"
      },
      "source": [
        "# Introduction"
      ]
    },
    {
      "cell_type": "markdown",
      "metadata": {
        "id": "AWXm8Lj-QRs9",
        "colab_type": "text"
      },
      "source": [
        "# Number Crunching"
      ]
    },
    {
      "cell_type": "code",
      "metadata": {
        "id": "u14eOTBxEvNL",
        "colab_type": "code",
        "cellView": "form",
        "colab": {}
      },
      "source": [
        "#@title\n",
        "import sys\n",
        "sys.executable\n",
        "sys.path\n",
        "\n",
        "%load_ext google.colab.data_table\n",
        "!{sys.executable} -m pip install --upgrade --force-reinstall \"git+https://github.com/HausReport/ClubRaiders.git#egg=craid\"\n",
        "\n",
        "from dateutil.relativedelta import relativedelta\n",
        "import datetime\n",
        "from datetime import timezone \n",
        "\n",
        "!jupyter nbextension enable --py widgetsnbextension\n",
        "import ipywidgets as widgets\n",
        "from ipywidgets import interact, interact_manual\n",
        "\n",
        "#import cufflinks as cf\n",
        "import pandas as pd\n",
        "import numpy as np\n",
        "import plotly.graph_objects as go\n",
        "import plotly.express as px\n",
        "\n"
      ],
      "execution_count": 0,
      "outputs": []
    },
    {
      "cell_type": "code",
      "metadata": {
        "id": "F2WY9Dmhnom-",
        "colab_type": "code",
        "cellView": "form",
        "colab": {}
      },
      "source": [
        "#@title \n",
        "import craid.Club\n",
        "import craid.LoadDataFromEDDB\n",
        "from craid.eddb.FactionInstance import FactionInstance\n",
        "import craid.Crunch\n",
        "craid.LoadDataFromEDDB.load_data()\n",
        "ret = craid.Crunch.getSystemsArray()\n",
        "club_systems_arr: FactionInstance = ret[0]\n",
        "\n",
        "df = craid.Crunch.getDataFrame(club_systems_arr)\n",
        "#\n",
        "# Dataframe of all club factions except Emp Grace\n",
        "#\n",
        "filter = df[ ~df[ 'factionName' ].str.contains(\"Emperor's Grace\") ]\n",
        "\n"
      ],
      "execution_count": 0,
      "outputs": []
    },
    {
      "cell_type": "markdown",
      "metadata": {
        "id": "7wLrzIZSAihS",
        "colab_type": "text"
      },
      "source": [
        "# Intercepted Message"
      ]
    },
    {
      "cell_type": "code",
      "metadata": {
        "id": "kQxAbFKXQWVr",
        "colab_type": "code",
        "cellView": "form",
        "colab": {}
      },
      "source": [
        "#@title \n",
        "\n",
        "\n",
        "frame = df\n",
        "\n",
        "dt = datetime.datetime.now() \n",
        "utc_time = dt.replace(tzinfo = timezone.utc) \n",
        "\n",
        "new_date = utc_time + relativedelta(years=1)\n",
        "print(\"TO: CMDR [REDACTED]/OPS\")\n",
        "print(\"FM: CMDR E[REDACTED]/MAIA DATA\")\n",
        "print(\"DT: \" + new_date.strftime(\"%d-%b-%Y %H:%M\"))\n",
        "print(\"RE: HAXDAT/CLUB STUFF TO SHOOT\")\n",
        "print(\"===================================\")\n",
        "\n",
        "print()\n",
        "print(\"Hey.  Spent the last two nights up to my ears in data from the last breach.  Here are the \")\n",
        "print(\"highlights.  I think they're pretty compelling, but I'm juiced to the gills to stay awake.\")\n",
        "\n",
        "print()\n",
        "\n",
        "print( \"Club factions are currently active in \" + str(frame['systemName'].count()) +\" systems, home to \" + '{:,}'.format(int(frame['population'].sum(axis=0))) + \" souls.\" )\n",
        "idx = frame['x'].idxmin()\n",
        "\n",
        "print('They span the galaxy from {0} in {1}, {2} light years west of Sol'.format(frame.iloc[idx,1], frame.iloc[idx,0], abs(int(frame.iloc[idx,2]))))\n",
        "idx = frame['x'].idxmax()\n",
        "\n",
        "print('to {0} in {1}, {2} light years to the east.'.format(frame.iloc[idx,1], frame.iloc[idx,0], abs(int(frame.iloc[idx,2]))))\n",
        "\n",
        "print()\n",
        "\n",
        "print(\"It's encouraging to note that club factions only control {0} of these systems, or about {1:.0%}.\".format(frame['control'].sum(), frame['control'].sum()/frame['systemName'].count()))\n",
        "print(\"Their influence in all systems they operate in ranges from {0:.0%} to {1:.0%}, averaging {2:.0%}, but\".format(df['influence'].min()/100.0, df['influence'].max()/100.0, df['influence'].mean()/100.0))\n",
        "\n",
        "uncontrolled = frame[ ~frame[ 'control' ]]\n",
        "\n",
        "print(\"in systems they don't control, these numbers fall to {0:.0%}-{1:.0%} influence with an average of only {2:.0%}.\".format(uncontrolled['influence'].min()/100.0, uncontrolled['influence'].max()/100.0, uncontrolled['influence'].mean()/100.0))\n",
        "\n",
        "gaxx =uncontrolled['influence'].describe()\n",
        "\n",
        "print(\"In these non-control systems, half of their factions have less than {0:.0%} influence and a full\\nquarter are operating at less than {1:.0%}.\".format(gaxx[5]/100,gaxx[4]/100))\n",
        "\n",
        "print()\n",
        "print(\"As you know, we forced a number of club retreats lately.  Here's today's hot list:\")\n",
        "print()\n",
        "\n",
        "gg = filter.copy()\n",
        "gg = gg[gg['influence']<6]\n",
        "gg = gg[gg['influence']>0]\n",
        "gg = gg[~gg['isHomeSystem']]\n",
        "gg=  gg.sort_values('influence')\n",
        "print(gg.to_string(columns=['factionName','systemName','influence','vulnerable']))\n",
        "\n",
        "\n",
        "print()\n",
        "print(\"In other words: there's some low-hanging fruit to pick out there.\")\n",
        "\n",
        "\n",
        "print()\n",
        "print(\"You said you just wanted something to shoot at.  Go shoot 'em.  I should have the new system\")\n",
        "print(\"online in a few days.  Let me know if you want another update after we xxxxxxx the new terminal\")\n",
        "print(\"tonight.  In the meantime, I'm gonna cause some trouble out here in the Pleiades.\")\n",
        "\n",
        "print()\n",
        "print(\"Fly dangerous,\")\n",
        "print(\"-E\")"
      ],
      "execution_count": 0,
      "outputs": []
    },
    {
      "cell_type": "markdown",
      "metadata": {
        "id": "k-wfbw0f1O4i",
        "colab_type": "text"
      },
      "source": [
        "# Systems with Club-Related Minor Factions (table)"
      ]
    },
    {
      "cell_type": "markdown",
      "metadata": {
        "id": "LLYE98FOkW_g",
        "colab_type": "text"
      },
      "source": [
        "The graph below shows systems where Club factions are operating.  The ball of blue systems is largely Emperor's Grace factions that may or may not have much to do with Club operations."
      ]
    },
    {
      "cell_type": "markdown",
      "metadata": {
        "id": "ctbZNyXzlYLS",
        "colab_type": "text"
      },
      "source": [
        "The table below presents the same data in a tabular format.  \n"
      ]
    },
    {
      "cell_type": "code",
      "metadata": {
        "id": "OsLKQFCwGBP0",
        "colab_type": "code",
        "cellView": "form",
        "colab": {}
      },
      "source": [
        "#@title \n",
        "@interact_manual(maxInfluence=(0, 100.0, 0.1))\n",
        "def show_factions_with(IncludeHomeSystems=False, IncludeControlSystems=True, IncludeEmperorsGrace=False, maxInfluence=12.0):\n",
        "    return df.loc[(~df['isHomeSystem']|IncludeHomeSystems) & (~df['control']|IncludeControlSystems) & ( ~df[ 'factionName' ].str.contains(\"Emperor's Grace\")|IncludeEmperorsGrace ) & (df['influence'] <= maxInfluence)]"
      ],
      "execution_count": 0,
      "outputs": []
    },
    {
      "cell_type": "markdown",
      "metadata": {
        "id": "FZMQ623WjXcN",
        "colab_type": "text"
      },
      "source": [
        "# More crunching"
      ]
    },
    {
      "cell_type": "markdown",
      "metadata": {
        "id": "-K-WBqkvmVmK",
        "colab_type": "text"
      },
      "source": [
        "# Galactic Areas of Club Influence"
      ]
    },
    {
      "cell_type": "code",
      "metadata": {
        "id": "2vCfpWjP33zi",
        "colab_type": "code",
        "cellView": "form",
        "colab": {}
      },
      "source": [
        "#@title \n",
        "\n",
        "\n",
        "res = [i + \" in \" + j for i, j in zip(filter['factionName'], filter['systemName'])] \n",
        "#%run TwoDimensionalRegionsPlot.py\n",
        "\n",
        "fig = go.Figure()\n",
        "fig.add_trace(go.Scatter(\n",
        "    x=filter['x'],\n",
        "    y=filter['y'],\n",
        "    mode=\"markers\",  hovertext= res ))\n",
        "\n",
        "fig.add_trace(go.Scatter(\n",
        "    x=[-270, -270,  -95,  140,   -20,   -75,   70,   275,   30],\n",
        "    y=[-200, -50,   150,  120,     0,  -175,   80,   -80,   120],\n",
        "    mode=\"text\",\n",
        "    name=\"Regions\",\n",
        "    text=[\"Turner Reach\", \"Sirius Reach\", \"Corporate Way\",\"Sirius East\",\"Sirius Core\",\"Pleiades\", \"The Old Worlds\", \"Gallant Beach\", \"Bentonia\"],\n",
        "    textposition=\"bottom center\"\n",
        "))\n",
        "\n",
        "# Add shapes\n",
        "fig.update_layout(\n",
        "    shapes=[\n",
        "        dict(\n",
        "            type=\"rect\",\n",
        "            xref=\"x\",\n",
        "            yref=\"y\",\n",
        "            x0=-350,\n",
        "            y0=-175,\n",
        "            x1= -175,\n",
        "            y1= -250,\n",
        "            opacity=0.2,\n",
        "            fillcolor=\"blue\",\n",
        "            line_color=\"blue\",\n",
        "        ),\n",
        "        dict(\n",
        "            type=\"rect\",\n",
        "            xref=\"x\",\n",
        "            yref=\"y\",\n",
        "            x0=-375,\n",
        "            y0=-100,\n",
        "            x1= -125,\n",
        "            y1= 50,\n",
        "            opacity=0.2,\n",
        "            fillcolor=\"yellow\",\n",
        "            line_color=\"yellow\",\n",
        "        ),\n",
        "        dict(\n",
        "            type=\"rect\",\n",
        "            xref=\"x\",\n",
        "            yref=\"y\",\n",
        "            x0=-110,\n",
        "            y0=75,\n",
        "            x1= -75,\n",
        "            y1= 130,\n",
        "            opacity=0.2,\n",
        "            fillcolor=\"green\",\n",
        "            line_color=\"green\",\n",
        "        ),\n",
        "        dict(\n",
        "            type=\"rect\",\n",
        "            xref=\"x\",\n",
        "            yref=\"y\",\n",
        "            x0=120,\n",
        "            y0=-20,\n",
        "            x1= 160,\n",
        "            y1= 100,\n",
        "            opacity=0.2,\n",
        "            fillcolor=\"yellow\",\n",
        "            line_color=\"yellow\",\n",
        "        ),\n",
        "        dict(\n",
        "            type=\"rect\",\n",
        "            xref=\"x\",\n",
        "            yref=\"y\",\n",
        "            x0=-40,\n",
        "            y0= -30,\n",
        "            x1= 50,\n",
        "            y1= 30,\n",
        "            opacity=0.2,\n",
        "            fillcolor=\"yellow\",\n",
        "            line_color=\"yellow\",\n",
        "        ),\n",
        "        dict(\n",
        "            type=\"rect\",\n",
        "            xref=\"x\",\n",
        "            yref=\"y\",\n",
        "            x0=-100,\n",
        "            y0= -175,\n",
        "            x1= -50,\n",
        "            y1= -75,\n",
        "            opacity=0.2,\n",
        "            fillcolor=\"orange\",\n",
        "            line_color=\"orange\",\n",
        "        ),\n",
        "       dict(\n",
        "            type=\"rect\",\n",
        "            xref=\"x\",\n",
        "            yref=\"y\",\n",
        "            x0=  60,\n",
        "            y0= 10,\n",
        "            x1= 80,\n",
        "            y1= 60,\n",
        "            opacity=0.2,\n",
        "            fillcolor=\"orange\",\n",
        "            line_color=\"orange\",\n",
        "        ),\n",
        "        dict(\n",
        "            type=\"rect\",\n",
        "            xref=\"x\",\n",
        "            yref=\"y\",\n",
        "            x0=  250,\n",
        "            y0= -150,\n",
        "            x1= 300,\n",
        "            y1= -100,\n",
        "            opacity=0.2,\n",
        "            fillcolor=\"orange\",\n",
        "            line_color=\"orange\",\n",
        "        ),\n",
        "        dict(\n",
        "            type=\"rect\",\n",
        "            xref=\"x\",\n",
        "            yref=\"y\",\n",
        "            x0=  25,\n",
        "            y0= 135,\n",
        "            x1= 40,\n",
        "            y1= 175,\n",
        "            opacity=0.2,\n",
        "            fillcolor=\"orange\",\n",
        "            line_color=\"orange\",\n",
        "        ),\n",
        "    ],\n",
        ")\n",
        "fig.update_layout(showlegend=False)\n",
        "\n",
        "\n"
      ],
      "execution_count": 0,
      "outputs": []
    },
    {
      "cell_type": "code",
      "metadata": {
        "colab_type": "code",
        "id": "ZNS1qcNi2mYy",
        "cellView": "form",
        "colab": {}
      },
      "source": [
        "#@title \n",
        "res = [i + \" in \" + j for i, j in zip(filter['factionName'], filter['systemName'])] \n",
        "#%run TwoDimensionalRegionsPlot.py\n",
        "\n",
        "fig = go.Figure()\n",
        "fig.add_trace(go.Scatter(\n",
        "    x=filter['x'],\n",
        "    y=filter['z'],\n",
        "    mode=\"markers\",  hovertext= res ))\n",
        "\n",
        "fig.add_trace(go.Scatter(\n",
        "    x=[-270, -270,  -95,  140,   -20,   -75,   70,   275,   30],\n",
        "    y=[-200, -50,   150,  120,     0,  -175,   80,   -80,   120],\n",
        "    mode=\"text\",\n",
        "    name=\"Regions\",\n",
        "    text=[\"Turner Reach\", \"Sirius Reach\", \"Corporate Way\",\"Sirius East\",\"Sirius Core\",\"Pleiades\", \"The Old Worlds\", \"Gallant Beach\", \"Bentonia\"],\n",
        "    textposition=\"bottom center\"\n",
        "))\n",
        "\n",
        "# Add shapes\n",
        "fig.update_layout(\n",
        "    shapes=[\n",
        "        dict(\n",
        "            type=\"rect\",\n",
        "            xref=\"x\",\n",
        "            yref=\"y\",\n",
        "            x0=-350,\n",
        "            y0=-175,\n",
        "            x1= -175,\n",
        "            y1= -250,\n",
        "            opacity=0.2,\n",
        "            fillcolor=\"blue\",\n",
        "            line_color=\"blue\",\n",
        "        ),\n",
        "        dict(\n",
        "            type=\"rect\",\n",
        "            xref=\"x\",\n",
        "            yref=\"y\",\n",
        "            x0=-375,\n",
        "            y0=-100,\n",
        "            x1= -125,\n",
        "            y1= 50,\n",
        "            opacity=0.2,\n",
        "            fillcolor=\"yellow\",\n",
        "            line_color=\"yellow\",\n",
        "        ),\n",
        "        dict(\n",
        "            type=\"rect\",\n",
        "            xref=\"x\",\n",
        "            yref=\"y\",\n",
        "            x0=-110,\n",
        "            y0=75,\n",
        "            x1= -75,\n",
        "            y1= 130,\n",
        "            opacity=0.2,\n",
        "            fillcolor=\"green\",\n",
        "            line_color=\"green\",\n",
        "        ),\n",
        "        dict(\n",
        "            type=\"rect\",\n",
        "            xref=\"x\",\n",
        "            yref=\"y\",\n",
        "            x0=120,\n",
        "            y0=-80,\n",
        "            x1= 160,\n",
        "            y1= 130,\n",
        "            opacity=0.2,\n",
        "            fillcolor=\"yellow\",\n",
        "            line_color=\"yellow\",\n",
        "        ),\n",
        "        dict(\n",
        "            type=\"rect\",\n",
        "            xref=\"x\",\n",
        "            yref=\"y\",\n",
        "            x0=-40,\n",
        "            y0= -30,\n",
        "            x1= 50,\n",
        "            y1= 30,\n",
        "            opacity=0.2,\n",
        "            fillcolor=\"yellow\",\n",
        "            line_color=\"yellow\",\n",
        "        ),\n",
        "        dict(\n",
        "            type=\"rect\",\n",
        "            xref=\"x\",\n",
        "            yref=\"y\",\n",
        "            x0=-100,\n",
        "            y0= -400,\n",
        "            x1= -50,\n",
        "            y1= -200,\n",
        "            opacity=0.2,\n",
        "            fillcolor=\"orange\",\n",
        "            line_color=\"orange\",\n",
        "        ),\n",
        "       dict(\n",
        "            type=\"rect\",\n",
        "            xref=\"x\",\n",
        "            yref=\"y\",\n",
        "            x0=  60,\n",
        "            y0= 10,\n",
        "            x1= 80,\n",
        "            y1= 60,\n",
        "            opacity=0.2,\n",
        "            fillcolor=\"orange\",\n",
        "            line_color=\"orange\",\n",
        "        ),\n",
        "        dict(\n",
        "            type=\"rect\",\n",
        "            xref=\"x\",\n",
        "            yref=\"y\",\n",
        "            x0=  250,\n",
        "            y0= -40,\n",
        "            x1= 300,\n",
        "            y1= -0,\n",
        "            opacity=0.2,\n",
        "            fillcolor=\"orange\",\n",
        "            line_color=\"orange\",\n",
        "        ),\n",
        "        dict(\n",
        "            type=\"rect\",\n",
        "            xref=\"x\",\n",
        "            yref=\"y\",\n",
        "            x0=  25,\n",
        "            y0= 135,\n",
        "            x1= 40,\n",
        "            y1= 175,\n",
        "            opacity=0.2,\n",
        "            fillcolor=\"orange\",\n",
        "            line_color=\"orange\",\n",
        "        ),\n",
        "    ],\n",
        ")\n",
        "fig.update_layout(showlegend=False)"
      ],
      "execution_count": 0,
      "outputs": []
    },
    {
      "cell_type": "markdown",
      "metadata": {
        "id": "sMX9QUqJgDNf",
        "colab_type": "text"
      },
      "source": [
        "# FAQ"
      ]
    },
    {
      "cell_type": "markdown",
      "metadata": {
        "id": "Z-BRwLIAgW2e",
        "colab_type": "text"
      },
      "source": [
        "**What is this?**"
      ]
    },
    {
      "cell_type": "markdown",
      "metadata": {
        "colab_type": "text",
        "id": "5CjyVwQsgex7"
      },
      "source": [
        "1. Welcome to Club Raiders.\n",
        "2. 'The Club' or 'The Cabal' is a mysterious group in the game Elite: Dangerous.\n",
        "3. The Club is apparently related to two other long-standing mysteries in Elite: Dangerous - Raxxla and The Dark Wheel.\n",
        "4. Almost everything we know about The Club is conjecture.\n",
        "5. A group in Elite Dangerous known as The Children of Raxxla has provided reliable information about other in-game mysteries in the past.\n",
        "6. The Children of Raxxla have released documents about The Club.  This information may or may not be reliable.\n",
        "7. Two of these documents are known as The Holdstock Report and The Club Unmasked.\n",
        "8. These two documents suggest that some in-game minor factions support The Club, and others oppose them.\n",
        "\n",
        "This document considers the factions identified on the chart below, in particular where these factions are operating throughout the Milky Way."
      ]
    },
    {
      "cell_type": "markdown",
      "metadata": {
        "id": "Eo2GY1DDgkFm",
        "colab_type": "text"
      },
      "source": [
        "**What are the connections between these factions and the Club?**"
      ]
    },
    {
      "cell_type": "markdown",
      "metadata": {
        "colab_type": "text",
        "id": "fuJDfDV6gex8"
      },
      "source": [
        "![Big Crazy Club Diagram](https://github.com/HausReport/ClubRaiders/blob/master/info/My%20Club%20Diagram.png?raw=true)\n",
        "\n",
        "Helping individual players and groups find Club factions operating in their vicinity is part one of the Bolan Plan: **Identify, Engage, Eradicate**.\n"
      ]
    },
    {
      "cell_type": "markdown",
      "metadata": {
        "id": "gJKChl2DeQtQ",
        "colab_type": "text"
      },
      "source": [
        "# Utilities"
      ]
    },
    {
      "cell_type": "markdown",
      "metadata": {
        "id": "8CJ2E8yG0yJW",
        "colab_type": "text"
      },
      "source": [
        "## All Club Factions as Comma-Delimited Text"
      ]
    },
    {
      "cell_type": "markdown",
      "metadata": {
        "id": "qVsTKOUtm8ao",
        "colab_type": "text"
      },
      "source": [
        "If you like to work with data, you might find the comma-delimited text below useful:\n"
      ]
    },
    {
      "cell_type": "code",
      "metadata": {
        "id": "CKWfha3urIc_",
        "colab_type": "code",
        "cellView": "form",
        "colab": {}
      },
      "source": [
        "#@title \n",
        "for xcs in club_systems_arr:\n",
        "    cs: FactionInstance = xcs\n",
        "    #if( \"Emperor's Grace\" in cs.get_name() ): continue\n",
        "    #vulnerable = cs.isVulnerable()\n",
        "    #if (vulnerable == False): continue\n",
        "    cs.printCSV()"
      ],
      "execution_count": 0,
      "outputs": []
    },
    {
      "cell_type": "markdown",
      "metadata": {
        "id": "orK26rLTBZ0p",
        "colab_type": "text"
      },
      "source": [
        "## Hic Sunt Dracones"
      ]
    },
    {
      "cell_type": "code",
      "metadata": {
        "id": "ox-2tGOaF5-Q",
        "colab_type": "code",
        "colab": {}
      },
      "source": [
        "combo = widgets.Combobox(\n",
        "    # value='John',\n",
        "    placeholder='Choose Someone',\n",
        "    options=['Paul', 'John', 'George', 'Geremy'],\n",
        "    description='Combobox:',\n",
        "    ensure_option=True,\n",
        "    disabled=False\n",
        ")\n",
        "output = widgets.Output()\n",
        "\n",
        "display(combo, output)\n",
        "\n",
        "def on_value_change(change):\n",
        "        print(change['new'])\n",
        "combo.observe(on_value_change, names='value')"
      ],
      "execution_count": 0,
      "outputs": []
    },
    {
      "cell_type": "code",
      "metadata": {
        "colab_type": "code",
        "id": "HW_Jm3hRxz2C",
        "colab": {}
      },
      "source": [
        "a = -69.0625\n",
        "b = 22.37\n",
        "c = -148.09375\n",
        "dist = 150\n",
        "tit = f'Club systems within {dist}ly of ({a},{b},{b})'\n",
        "#a=-80.15625\n",
        "#b=144.09375\n",
        "#c=-333.375\n",
        "#hover_template={'%{systemName}\\n%{factionName'},\n",
        "fie = df.query(f'sqrt( (x-{a})**2 + (y-{b})**2 + (z-{c})**2)<{dist}')\n",
        "figz = px.scatter_3d(fie, x='x', y='z', z='y', \n",
        "                    color='factionName', \n",
        "                     title=tit,\n",
        "                     hover_name= 'systemName',\n",
        "                     hover_data= fie.keys())\n",
        "figz.show()\n",
        "#hover_data = {'systemName','factionName','influence'},\n"
      ],
      "execution_count": 0,
      "outputs": []
    },
    {
      "cell_type": "code",
      "metadata": {
        "id": "P2MaxLTRrGiL",
        "colab_type": "code",
        "colab": {}
      },
      "source": [
        "df.keys()"
      ],
      "execution_count": 0,
      "outputs": []
    },
    {
      "cell_type": "code",
      "metadata": {
        "id": "a_BOoErxrSHO",
        "colab_type": "code",
        "colab": {}
      },
      "source": [
        ""
      ],
      "execution_count": 0,
      "outputs": []
    },
    {
      "cell_type": "code",
      "metadata": {
        "id": "r-kgB3eGrPe1",
        "colab_type": "code",
        "colab": {}
      },
      "source": [
        ""
      ],
      "execution_count": 0,
      "outputs": []
    },
    {
      "cell_type": "code",
      "metadata": {
        "id": "-gK-xdsaUV5x",
        "colab_type": "code",
        "colab": {}
      },
      "source": [
        "pfs = ret[1]"
      ],
      "execution_count": 0,
      "outputs": []
    },
    {
      "cell_type": "code",
      "metadata": {
        "colab_type": "code",
        "id": "ekJ5yvCVdiX5",
        "colab": {}
      },
      "source": [
        "combo = widgets.Combobox(\n",
        "    # value='John',\n",
        "    placeholder='Choose a Player Faction',\n",
        "    options= list(pfs.keys()), #nameArray, #[('Galileo', 0), ('Brahe', 1), ('Hubble', 2)], #[('1',1),('2',2),('3',3)], #pfs,\n",
        "    description='Faction:',\n",
        "    ensure_option=True,\n",
        "    disabled=False\n",
        ")\n",
        "output = widgets.Output()\n",
        "\n",
        "display(combo, output)\n",
        "\n",
        "def on_value_change(change):\n",
        "        print(pfs[change['new']])\n",
        "combo.observe(on_value_change, names='value')"
      ],
      "execution_count": 0,
      "outputs": []
    },
    {
      "cell_type": "code",
      "metadata": {
        "id": "WMbPqNVNit0w",
        "colab_type": "code",
        "colab": {}
      },
      "source": [
        "sss = ret[2]"
      ],
      "execution_count": 0,
      "outputs": []
    },
    {
      "cell_type": "code",
      "metadata": {
        "id": "oFcmtu0jmBzq",
        "colab_type": "code",
        "colab": {}
      },
      "source": [
        "combo = widgets.Combobox(\n",
        "    # value='John',\n",
        "    placeholder='Choose Inhabited System',\n",
        "    options= list(sss.keys()), #nameArray, #[('Galileo', 0), ('Brahe', 1), ('Hubble', 2)], #[('1',1),('2',2),('3',3)], #pfs,\n",
        "    description='System:',\n",
        "    ensure_option=True,\n",
        "    disabled=False\n",
        ")\n",
        "output = widgets.Output()\n",
        "\n",
        "display(combo, output)\n",
        "\n",
        "def on_value_change(change):\n",
        "        print(sss[change['new']])\n",
        "combo.observe(on_value_change, names='value')"
      ],
      "execution_count": 0,
      "outputs": []
    },
    {
      "cell_type": "code",
      "metadata": {
        "colab_type": "code",
        "id": "HbOKsfzpnRMf",
        "colab": {}
      },
      "source": [
        "#\n",
        "# System chooser\n",
        "#\n",
        "combo1 = widgets.Combobox(\n",
        "    # value='John',\n",
        "    placeholder='Choose Inhabited System',\n",
        "    options= list(sss.keys()), #nameArray, #[('Galileo', 0), ('Brahe', 1), ('Hubble', 2)], #[('1',1),('2',2),('3',3)], #pfs,\n",
        "    description='System:',\n",
        "    ensure_option=True,\n",
        "    disabled=False\n",
        ")\n",
        "\n",
        "#\n",
        "# PMF chooser\n",
        "#\n",
        "combo2 = widgets.Combobox(\n",
        "    # value='John',\n",
        "    placeholder='Choose Player Faction',\n",
        "    options= list(pfs.keys()), #nameArray, #[('Galileo', 0), ('Brahe', 1), ('Hubble', 2)], #[('1',1),('2',2),('3',3)], #pfs,\n",
        "    description='Player Faction:',\n",
        "    ensure_option=True,\n",
        "    disabled=False\n",
        ")\n",
        "\n",
        "output = widgets.Output()\n",
        "display(combo1, output)\n",
        "display(combo2, output)\n",
        "\n",
        "#initialized: bool = False\n",
        "#container : px.scatter_3d = None\n",
        "\n",
        "sysName = 'Alioth'\n",
        "sys = sss[sysName]\n",
        "a = sys[0]\n",
        "b = sys[1]\n",
        "c = sys[2]\n",
        "dist = 150\n",
        "tit = f'Club systems within {dist}ly of {sysName}'\n",
        "#fie = df.query(f'sqrt( (x-{a})**2 + (y-{b})**2 + (z-{c})**2)<{dist}')\n",
        "figz = px.scatter_3d(filter, x='x', y='z', z='y',color='influence', hover_name= 'systemName', hover_data= fie.keys(),title=tit)\n",
        "figz.show()\n",
        "\n",
        "def updateGraph(sysName):\n",
        "  sys = sss[sysName]\n",
        "  a = sys[0]\n",
        "  b = sys[1]\n",
        "  c = sys[2]\n",
        "  dist = 150\n",
        "  tit = f'Club systems within {dist}ly of {sysName}'\n",
        "  figz.update_xaxes(range=[100, 200])\n",
        "  figz.update_yaxes(range=[100, 200])\n",
        "  figz.update_xaxes(range=[100, 200])\n",
        "  layout=go.Layout(height=800, width=800, title='Examining Population and Life Expectancy Over Time', yaxis=dict(range=[500, 700]), xaxis=dict(range=[100, 200]))\n",
        "\n",
        "\n",
        "  figz.update_layout(  layout)\n",
        "  figz.show()\n",
        "  #yaxis=dict(range=[500, 700]), xaxis=dict(range=[100, 200]), title=\"Hi!\"  )\n",
        "  print(\"Hi!\")\n",
        "\n",
        "\n",
        "def on_system_change(change):\n",
        "  print(\"Updating graph\")\n",
        "  updateGraph(change['new'])\n",
        "\n",
        "#updateGraph('Alioth')\n",
        "combo1.observe(on_system_change, names='value')\n",
        "combo2.observe(on_system_change, names='value')"
      ],
      "execution_count": 0,
      "outputs": []
    },
    {
      "cell_type": "code",
      "metadata": {
        "id": "WdFWW8lRB32F",
        "colab_type": "code",
        "colab": {}
      },
      "source": [
        "\n",
        "\n",
        "@interact_manual(maxInfluence=(0, 100.0, 0.1))\n",
        "def show_factions_with(IncludeHomeSystems=False, IncludeControlSystems=True, IncludeEmperorsGrace=False, maxInfluence=12.0):\n",
        "    dat0 = df.loc[(~df['isHomeSystem']|IncludeHomeSystems) & (~df['control']|IncludeControlSystems) & ( ~df[ 'factionName' ].str.contains(\"Emperor's Grace\")|IncludeEmperorsGrace ) & (df['influence'] <= maxInfluence)]\n",
        "    sysName = 'Alioth'\n",
        "    sys = sss[sysName]\n",
        "    a = sys[0]\n",
        "    b = sys[1]\n",
        "    c = sys[2]\n",
        "    dist = 150\n",
        "    tit = f'Club systems within {dist}ly of {sysName}'\n",
        "    #figz.data[0].color = 'population'\n",
        "    camera = dict(center=dict(x=500, y=1000, z=4))\n",
        "    figlol.update_layout(      scene_camera=camera, title=\"gahhh\")\n",
        "    figlol.show()\n",
        "    print(\"H1\")\n",
        "    #fie = dat0.query(f'sqrt( (x-{a})**2 + (y-{b})**2 + (z-{c})**2)<{dist}')\n",
        "\n",
        "    \n",
        "\n",
        "\n",
        "figlol = px.scatter_3d(filter, x='x', y='z', z='y',color='influence', hover_name= 'systemName', hover_data= fie.keys(),title=tit)\n",
        "figlol.show()\n",
        "#figz.update(titl )\n"
      ],
      "execution_count": 0,
      "outputs": []
    },
    {
      "cell_type": "code",
      "metadata": {
        "id": "SNcfbqOWRG25",
        "colab_type": "code",
        "colab": {}
      },
      "source": [
        "import plotly.graph_objects as go\n",
        "import numpy as np\n",
        "\n",
        "x0=10\n",
        "y0=10\n",
        "z0=10\n",
        "\n",
        "dx=1\n",
        "dy=1\n",
        "dz=1\n",
        "\n",
        "xa=[0, 1, 1, 0, 0, 1, 1, 0]\n",
        "ya=[0, 1, 1, 0, 0, 1, 1, 0]\n",
        "za=[0, 0, 0, 0, 1, 1, 1, 1]\n",
        "\n",
        "xl = [t * dx + x0 for t in xa]\n",
        "yl = [t * dy + y0 for t in ya]\n",
        "zl = [t * dz + z0 for t in za]\n",
        "\n",
        "fign = go.Figure(data=[\n",
        "    go.Mesh3d(\n",
        "        # 8 vertices of a cube\n",
        "        x=xl,\n",
        "        y=yl,\n",
        "        z=zl,\n",
        "        color = 'gold',\n",
        "        opacity=0.4,\n",
        "        # i, j and k give the vertices of triangles\n",
        "        i = [7, 0, 0, 0, 4, 4, 6, 6, 4, 0, 3, 2],\n",
        "        j = [3, 4, 1, 2, 5, 6, 5, 2, 0, 1, 6, 3],\n",
        "        k = [0, 7, 2, 3, 6, 7, 1, 1, 5, 5, 7, 6],\n",
        "        name='y',\n",
        "        showscale=True\n",
        "    )\n",
        "])\n",
        "\n",
        "fign.show()"
      ],
      "execution_count": 0,
      "outputs": []
    },
    {
      "cell_type": "code",
      "metadata": {
        "id": "hONyVW0iVeMw",
        "colab_type": "code",
        "colab": {}
      },
      "source": [
        ""
      ],
      "execution_count": 0,
      "outputs": []
    },
    {
      "cell_type": "code",
      "metadata": {
        "id": "GwnJfRrMU09V",
        "colab_type": "code",
        "colab": {}
      },
      "source": [
        "l = [0, 1, 1, 0, 0, 1, 1, 0]\n",
        "l = [x * 5+ 7 for x in l]\n",
        "print(str(l))"
      ],
      "execution_count": 0,
      "outputs": []
    },
    {
      "cell_type": "code",
      "metadata": {
        "id": "PoC2NSuDXV9u",
        "colab_type": "code",
        "colab": {}
      },
      "source": [
        "def getMesh( x0, y0, z0, dx, dy, dz):\n",
        "      x=[0, 1, 1, 0, 0, 1, 1, 0]\n",
        "      y=[0, 1, 1, 0, 0, 1, 1, 0]\n",
        "      z=[0, 0, 0, 0, 1, 1, 1, 1]\n",
        "\n",
        "      x = [t * dx + x0 for t in x]\n",
        "      y = [t * dy + y0 for t in y]\n",
        "      z = [t * dz + z0 for t in z]\n",
        "\n",
        "      return go.Mesh3d(\n",
        "        # 8 vertices of a cube\n",
        "        x,\n",
        "        y,\n",
        "        z,\n",
        "        i = [7, 0, 0, 0, 4, 4, 6, 6, 4, 0, 3, 2],\n",
        "        j = [3, 4, 1, 2, 5, 6, 5, 2, 0, 1, 6, 3],\n",
        "        k = [0, 7, 2, 3, 6, 7, 1, 1, 5, 5, 7, 6],\n",
        "        opacity=0.4,\n",
        "        color='cyan')"
      ],
      "execution_count": 0,
      "outputs": []
    }
  ]
}